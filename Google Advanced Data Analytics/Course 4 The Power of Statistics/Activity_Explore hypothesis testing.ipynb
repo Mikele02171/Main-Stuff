{
 "cells": [
  {
   "cell_type": "markdown",
   "metadata": {
    "id": "d25eed62-5910-4d10-a976-c18c4f7d99f7"
   },
   "source": [
    "# Activity: Explore hypothesis testing"
   ]
  },
  {
   "cell_type": "markdown",
   "metadata": {
    "id": "b50579ec-09df-4bb1-ad5a-d28f4790ca16"
   },
   "source": [
    "## Introduction"
   ]
  },
  {
   "cell_type": "markdown",
   "metadata": {
    "id": "6a8992ac-22d5-41db-aa09-263b464950e0"
   },
   "source": [
    "You work for an environmental think tank called Repair Our Air (ROA). ROA is formulating policy recommendations to improve the air quality in America, using the Environmental Protection Agency's Air Quality Index (AQI) to guide their decision making. An AQI value close to 0 signals \"little to no\" public health concern, while higher values are associated with increased risk to public health. \n",
    "\n",
    "They've tasked you with leveraging AQI data to help them prioritize their strategy for improving air quality in America."
   ]
  },
  {
   "cell_type": "markdown",
   "metadata": {
    "id": "6e4e3b8a-b5f9-4fe1-a824-0bd3aece693c"
   },
   "source": [
    "ROA is considering the following decisions. For each, construct a hypothesis test and an accompanying visualization, using your results of that test to make a recommendation:\n",
    "\n",
    "1. ROA is considering a metropolitan-focused approach. Within California, they want to know if the mean AQI in Los Angeles County is statistically different from the rest of California.\n",
    "2. With limited resources, ROA has to choose between New York and Ohio for their next regional office. Does New York have a lower AQI than Ohio?\n",
    "3. A new policy will affect those states with a mean AQI of 10 or greater. Will Michigan be affected by this new policy?\n",
    "\n",
    "**Notes:**\n",
    "1. For your analysis, you'll default to a 5% level of significance.\n",
    "2. Throughout the lab, for two-sample t-tests, use Welch's t-test (i.e., setting the `equal_var` parameter to `False` in `scipy.stats.ttest_ind()`). This will account for the possibly unequal variances between the two groups in the comparison."
   ]
  },
  {
   "cell_type": "markdown",
   "metadata": {
    "id": "3b4dc9a5-d724-4696-a704-57fefa9d5938"
   },
   "source": [
    "## Step 1: Imports\n",
    "\n",
    "To proceed with your analysis, import `pandas` and `numpy`. To conduct your hypothesis testing, import `stats` from `scipy`."
   ]
  },
  {
   "cell_type": "markdown",
   "metadata": {
    "id": "3d28827d-9bb3-45c7-a969-c00f6feda0e2"
   },
   "source": [
    "#### Import Packages"
   ]
  },
  {
   "cell_type": "code",
   "execution_count": 1,
   "metadata": {
    "id": "0b3d0e1c-23b9-4491-82a5-ac1e4bd36f30"
   },
   "outputs": [],
   "source": [
    "# Import relevant packages\n",
    "\n",
    "### YOUR CODE HERE ###\n",
    "import numpy as np\n",
    "import pandas as pd\n",
    "from scipy import stats"
   ]
  },
  {
   "cell_type": "markdown",
   "metadata": {
    "id": "a4f7c0d0-027e-475a-bce5-ad96d059cd04"
   },
   "source": [
    "You are also provided with a dataset with national Air Quality Index (AQI) measurements by state over time for this analysis. `Pandas` was used to import the file `c4_epa_air_quality.csv` as a dataframe named `aqi`. As shown in this cell, the dataset has been automatically loaded in for you. You do not need to download the .csv file, or provide more code, in order to access the dataset and proceed with this lab. Please continue with this activity by completing the following instructions.\n",
    "\n",
    "**Note:** For purposes of your analysis, you can assume this data is randomly sampled from a larger population."
   ]
  },
  {
   "cell_type": "markdown",
   "metadata": {
    "id": "4b765030-5f02-47d2-aa77-8ac5b2117cc1"
   },
   "source": [
    "#### Load Dataset"
   ]
  },
  {
   "cell_type": "code",
   "execution_count": 2,
   "metadata": {
    "id": "1ce82ed7-cf32-4028-ac77-a377e7638458",
    "tags": []
   },
   "outputs": [],
   "source": [
    "# RUN THIS CELL TO IMPORT YOUR DATA.\n",
    "\n",
    "### YOUR CODE HERE ###\n",
    "aqi = pd.read_csv('c4_epa_air_quality.csv')"
   ]
  },
  {
   "cell_type": "markdown",
   "metadata": {
    "id": "ZDz9XgvMy0MD"
   },
   "source": [
    "## Step 2: Data Exploration"
   ]
  },
  {
   "cell_type": "markdown",
   "metadata": {
    "id": "c1ee0813-5e74-4564-8ea1-8d724700754a"
   },
   "source": [
    "### Before proceeding to your deliverables, explore your datasets.\n",
    "\n",
    "Use the following space to surface descriptive statistics about your data. In particular, explore whether you believe the research questions you were given are readily answerable with this data."
   ]
  },
  {
   "cell_type": "code",
   "execution_count": 3,
   "metadata": {
    "id": "0444122d-6fba-4051-8b09-b15392aacebf",
    "tags": []
   },
   "outputs": [
    {
     "name": "stdout",
     "output_type": "stream",
     "text": [
      "Use describe() to summarize AQI\n",
      "        Unnamed: 0  date_local  state_name  county_name      city_name  \\\n",
      "count   260.000000         260         260          260            260   \n",
      "unique         NaN           1          52          149            190   \n",
      "top            NaN  2018-01-01  California  Los Angeles  Not in a city   \n",
      "freq           NaN         260          66           14             21   \n",
      "mean    129.500000         NaN         NaN          NaN            NaN   \n",
      "std      75.199734         NaN         NaN          NaN            NaN   \n",
      "min       0.000000         NaN         NaN          NaN            NaN   \n",
      "25%      64.750000         NaN         NaN          NaN            NaN   \n",
      "50%     129.500000         NaN         NaN          NaN            NaN   \n",
      "75%     194.250000         NaN         NaN          NaN            NaN   \n",
      "max     259.000000         NaN         NaN          NaN            NaN   \n",
      "\n",
      "       local_site_name   parameter_name   units_of_measure  arithmetic_mean  \\\n",
      "count              257              260                260       260.000000   \n",
      "unique             253                1                  1              NaN   \n",
      "top            Kapolei  Carbon monoxide  Parts per million              NaN   \n",
      "freq                 2              260                260              NaN   \n",
      "mean               NaN              NaN                NaN         0.403169   \n",
      "std                NaN              NaN                NaN         0.317902   \n",
      "min                NaN              NaN                NaN         0.000000   \n",
      "25%                NaN              NaN                NaN         0.200000   \n",
      "50%                NaN              NaN                NaN         0.276315   \n",
      "75%                NaN              NaN                NaN         0.516009   \n",
      "max                NaN              NaN                NaN         1.921053   \n",
      "\n",
      "               aqi  \n",
      "count   260.000000  \n",
      "unique         NaN  \n",
      "top            NaN  \n",
      "freq           NaN  \n",
      "mean      6.757692  \n",
      "std       7.061707  \n",
      "min       0.000000  \n",
      "25%       2.000000  \n",
      "50%       5.000000  \n",
      "75%       9.000000  \n",
      "max      50.000000  \n",
      "For a more thorough examination of observations by state use values_counts()\n",
      "California              66\n",
      "Arizona                 14\n",
      "Ohio                    12\n",
      "Florida                 12\n",
      "Texas                   10\n",
      "New York                10\n",
      "Pennsylvania            10\n",
      "Michigan                 9\n",
      "Colorado                 9\n",
      "Minnesota                7\n",
      "New Jersey               6\n",
      "Indiana                  5\n",
      "North Carolina           4\n",
      "Massachusetts            4\n",
      "Maryland                 4\n",
      "Oklahoma                 4\n",
      "Virginia                 4\n",
      "Nevada                   4\n",
      "Connecticut              4\n",
      "Kentucky                 3\n",
      "Missouri                 3\n",
      "Wyoming                  3\n",
      "Iowa                     3\n",
      "Hawaii                   3\n",
      "Utah                     3\n",
      "Vermont                  3\n",
      "Illinois                 3\n",
      "New Hampshire            2\n",
      "District Of Columbia     2\n",
      "New Mexico               2\n",
      "Montana                  2\n",
      "Oregon                   2\n",
      "Alaska                   2\n",
      "Georgia                  2\n",
      "Washington               2\n",
      "Idaho                    2\n",
      "Nebraska                 2\n",
      "Rhode Island             2\n",
      "Tennessee                2\n",
      "Maine                    2\n",
      "South Carolina           1\n",
      "Puerto Rico              1\n",
      "Arkansas                 1\n",
      "Kansas                   1\n",
      "Mississippi              1\n",
      "Alabama                  1\n",
      "Louisiana                1\n",
      "Delaware                 1\n",
      "South Dakota             1\n",
      "West Virginia            1\n",
      "North Dakota             1\n",
      "Wisconsin                1\n",
      "Name: state_name, dtype: int64\n"
     ]
    }
   ],
   "source": [
    "# Explore your dataframe `aqi` here:\n",
    "\n",
    "### YOUR CODE HERE ###\n",
    "print(\"Use describe() to summarize AQI\")\n",
    "print(aqi.describe(include='all'))\n",
    "\n",
    "print(\"For a more thorough examination of observations by state use values_counts()\")\n",
    "print(aqi['state_name'].value_counts())"
   ]
  },
  {
   "cell_type": "markdown",
   "metadata": {
    "id": "797aa5f9-b5e6-4c8d-95ab-f0604d27d9f8"
   },
   "source": [
    "<details>\n",
    "  <summary><h4><strong>HINT 1</strong></h4></summary>\n",
    "\n",
    "  Consider referring to the material on descriptive statisics.\n",
    "</details>"
   ]
  },
  {
   "cell_type": "markdown",
   "metadata": {
    "id": "753d0f10-d5ca-4da4-828a-3162e8ebccf8"
   },
   "source": [
    "<details>\n",
    "  <summary><h4><strong>HINT 2</strong></h4></summary>\n",
    "\n",
    "  Consider using `pandas` or `numpy` to explore the `aqi` dataframe.\n",
    "</details>"
   ]
  },
  {
   "cell_type": "markdown",
   "metadata": {
    "id": "5ccfa752-01c9-4a6d-a1d3-41b30e9bac09"
   },
   "source": [
    "<details>\n",
    "  <summary><h4><strong>HINT 3</strong></h4></summary>\n",
    "\n",
    "Any of the following functions may be useful:\n",
    "- `pandas`: `describe()`,`value_counts()`,`shape()`, `head()`\n",
    "- `numpy`: `unique()`,`mean()`\n",
    "    \n",
    "</details>"
   ]
  },
  {
   "cell_type": "markdown",
   "metadata": {
    "id": "4a29c065-73b4-409f-a57c-b49c740f3d1d"
   },
   "source": [
    "#### **Question 1: From the preceding data exploration, what do you recognize?**"
   ]
  },
  {
   "cell_type": "markdown",
   "metadata": {
    "id": "yxdjmP4WJ4wH"
   },
   "source": [
    "You have county-level data for the first hypothesis.\n",
    "Ohio and New York both have a higher number of observations to work with in this dataset."
   ]
  },
  {
   "cell_type": "markdown",
   "metadata": {
    "id": "TCEJUvQ7-519"
   },
   "source": []
  },
  {
   "cell_type": "markdown",
   "metadata": {
    "id": "fd48d0f0-3f90-455e-87a1-0da43fcac202"
   },
   "source": [
    "## Step 3. Statistical Tests\n",
    "\n",
    "Before you proceed, recall the following steps for conducting hypothesis testing:\n",
    "\n",
    "1. Formulate the null hypothesis and the alternative hypothesis.<br>\n",
    "2. Set the significance level.<br>\n",
    "3. Determine the appropriate test procedure.<br>\n",
    "4. Compute the p-value.<br>\n",
    "5. Draw your conclusion."
   ]
  },
  {
   "cell_type": "markdown",
   "metadata": {
    "id": "d572fbab-b82e-4898-96d5-93a8f20c3094"
   },
   "source": [
    "### Hypothesis 1: ROA is considering a metropolitan-focused approach. Within California, they want to know if the mean AQI in Los Angeles County is statistically different from the rest of California.\n",
    "\n",
    "Before proceeding with your analysis, it will be helpful to subset the data for your comparison."
   ]
  },
  {
   "cell_type": "code",
   "execution_count": 4,
   "metadata": {},
   "outputs": [],
   "source": [
    "aqi = aqi.dropna()"
   ]
  },
  {
   "cell_type": "code",
   "execution_count": 5,
   "metadata": {},
   "outputs": [],
   "source": [
    "#aqi.head()"
   ]
  },
  {
   "cell_type": "code",
   "execution_count": 6,
   "metadata": {},
   "outputs": [
    {
     "data": {
      "text/html": [
       "<div>\n",
       "<style scoped>\n",
       "    .dataframe tbody tr th:only-of-type {\n",
       "        vertical-align: middle;\n",
       "    }\n",
       "\n",
       "    .dataframe tbody tr th {\n",
       "        vertical-align: top;\n",
       "    }\n",
       "\n",
       "    .dataframe thead th {\n",
       "        text-align: right;\n",
       "    }\n",
       "</style>\n",
       "<table border=\"1\" class=\"dataframe\">\n",
       "  <thead>\n",
       "    <tr style=\"text-align: right;\">\n",
       "      <th></th>\n",
       "      <th>index</th>\n",
       "      <th>county_name</th>\n",
       "    </tr>\n",
       "  </thead>\n",
       "  <tbody>\n",
       "    <tr>\n",
       "      <th>0</th>\n",
       "      <td>Los Angeles</td>\n",
       "      <td>14</td>\n",
       "    </tr>\n",
       "    <tr>\n",
       "      <th>1</th>\n",
       "      <td>Maricopa</td>\n",
       "      <td>8</td>\n",
       "    </tr>\n",
       "    <tr>\n",
       "      <th>2</th>\n",
       "      <td>Wayne</td>\n",
       "      <td>8</td>\n",
       "    </tr>\n",
       "    <tr>\n",
       "      <th>3</th>\n",
       "      <td>San Bernardino</td>\n",
       "      <td>6</td>\n",
       "    </tr>\n",
       "    <tr>\n",
       "      <th>4</th>\n",
       "      <td>Riverside</td>\n",
       "      <td>5</td>\n",
       "    </tr>\n",
       "    <tr>\n",
       "      <th>...</th>\n",
       "      <td>...</td>\n",
       "      <td>...</td>\n",
       "    </tr>\n",
       "    <tr>\n",
       "      <th>143</th>\n",
       "      <td>Edmonson</td>\n",
       "      <td>1</td>\n",
       "    </tr>\n",
       "    <tr>\n",
       "      <th>144</th>\n",
       "      <td>Laramie</td>\n",
       "      <td>1</td>\n",
       "    </tr>\n",
       "    <tr>\n",
       "      <th>145</th>\n",
       "      <td>Garrett</td>\n",
       "      <td>1</td>\n",
       "    </tr>\n",
       "    <tr>\n",
       "      <th>146</th>\n",
       "      <td>San Joaquin</td>\n",
       "      <td>1</td>\n",
       "    </tr>\n",
       "    <tr>\n",
       "      <th>147</th>\n",
       "      <td>Dodge</td>\n",
       "      <td>1</td>\n",
       "    </tr>\n",
       "  </tbody>\n",
       "</table>\n",
       "<p>148 rows × 2 columns</p>\n",
       "</div>"
      ],
      "text/plain": [
       "              index  county_name\n",
       "0       Los Angeles           14\n",
       "1          Maricopa            8\n",
       "2             Wayne            8\n",
       "3    San Bernardino            6\n",
       "4         Riverside            5\n",
       "..              ...          ...\n",
       "143        Edmonson            1\n",
       "144         Laramie            1\n",
       "145         Garrett            1\n",
       "146     San Joaquin            1\n",
       "147           Dodge            1\n",
       "\n",
       "[148 rows x 2 columns]"
      ]
     },
     "execution_count": 6,
     "metadata": {},
     "output_type": "execute_result"
    }
   ],
   "source": [
    "aqi[\"county_name\"].value_counts().reset_index()"
   ]
  },
  {
   "cell_type": "code",
   "execution_count": 7,
   "metadata": {
    "id": "c8e42529-af00-4699-96b4-bd0f8989014a"
   },
   "outputs": [],
   "source": [
    "# Create dataframes for each sample being compared in your test\n",
    "\n",
    "### YOUR CODE HERE ###\n",
    "#Los_Angeles = aqi[aqi[\"county_name\"]==\"Los Angeles\"]\n",
    "#Calfornia = aqi[(aqi[\"state_name\"]==\"Calfornia\") & (aqi[\"county_name\"]!=\"Los Angeles\")]\n",
    "\n",
    "ca_la = aqi[aqi['county_name']=='Los Angeles']\n",
    "ca_other = aqi[(aqi['state_name']=='California') & (aqi['county_name']!='Los Angeles')]"
   ]
  },
  {
   "cell_type": "code",
   "execution_count": 11,
   "metadata": {},
   "outputs": [
    {
     "data": {
      "text/html": [
       "<div>\n",
       "<style scoped>\n",
       "    .dataframe tbody tr th:only-of-type {\n",
       "        vertical-align: middle;\n",
       "    }\n",
       "\n",
       "    .dataframe tbody tr th {\n",
       "        vertical-align: top;\n",
       "    }\n",
       "\n",
       "    .dataframe thead th {\n",
       "        text-align: right;\n",
       "    }\n",
       "</style>\n",
       "<table border=\"1\" class=\"dataframe\">\n",
       "  <thead>\n",
       "    <tr style=\"text-align: right;\">\n",
       "      <th></th>\n",
       "      <th>Unnamed: 0</th>\n",
       "      <th>date_local</th>\n",
       "      <th>state_name</th>\n",
       "      <th>county_name</th>\n",
       "      <th>city_name</th>\n",
       "      <th>local_site_name</th>\n",
       "      <th>parameter_name</th>\n",
       "      <th>units_of_measure</th>\n",
       "      <th>arithmetic_mean</th>\n",
       "      <th>aqi</th>\n",
       "    </tr>\n",
       "  </thead>\n",
       "  <tbody>\n",
       "    <tr>\n",
       "      <th>33</th>\n",
       "      <td>33</td>\n",
       "      <td>2018-01-01</td>\n",
       "      <td>California</td>\n",
       "      <td>Los Angeles</td>\n",
       "      <td>Lancaster</td>\n",
       "      <td>Lancaster-Division Street</td>\n",
       "      <td>Carbon monoxide</td>\n",
       "      <td>Parts per million</td>\n",
       "      <td>0.394737</td>\n",
       "      <td>7</td>\n",
       "    </tr>\n",
       "    <tr>\n",
       "      <th>42</th>\n",
       "      <td>42</td>\n",
       "      <td>2018-01-01</td>\n",
       "      <td>California</td>\n",
       "      <td>Los Angeles</td>\n",
       "      <td>Santa Clarita</td>\n",
       "      <td>Santa Clarita</td>\n",
       "      <td>Carbon monoxide</td>\n",
       "      <td>Parts per million</td>\n",
       "      <td>0.394737</td>\n",
       "      <td>7</td>\n",
       "    </tr>\n",
       "    <tr>\n",
       "      <th>61</th>\n",
       "      <td>61</td>\n",
       "      <td>2018-01-01</td>\n",
       "      <td>California</td>\n",
       "      <td>Los Angeles</td>\n",
       "      <td>Pasadena</td>\n",
       "      <td>Pasadena</td>\n",
       "      <td>Carbon monoxide</td>\n",
       "      <td>Parts per million</td>\n",
       "      <td>0.789474</td>\n",
       "      <td>16</td>\n",
       "    </tr>\n",
       "    <tr>\n",
       "      <th>76</th>\n",
       "      <td>76</td>\n",
       "      <td>2018-01-01</td>\n",
       "      <td>California</td>\n",
       "      <td>Los Angeles</td>\n",
       "      <td>Los Angeles</td>\n",
       "      <td>LAX Hastings</td>\n",
       "      <td>Carbon monoxide</td>\n",
       "      <td>Parts per million</td>\n",
       "      <td>0.863158</td>\n",
       "      <td>17</td>\n",
       "    </tr>\n",
       "    <tr>\n",
       "      <th>109</th>\n",
       "      <td>109</td>\n",
       "      <td>2018-01-01</td>\n",
       "      <td>California</td>\n",
       "      <td>Los Angeles</td>\n",
       "      <td>Los Angeles</td>\n",
       "      <td>Los Angeles-North Main Street</td>\n",
       "      <td>Carbon monoxide</td>\n",
       "      <td>Parts per million</td>\n",
       "      <td>0.994737</td>\n",
       "      <td>17</td>\n",
       "    </tr>\n",
       "  </tbody>\n",
       "</table>\n",
       "</div>"
      ],
      "text/plain": [
       "     Unnamed: 0  date_local  state_name  county_name      city_name  \\\n",
       "33           33  2018-01-01  California  Los Angeles      Lancaster   \n",
       "42           42  2018-01-01  California  Los Angeles  Santa Clarita   \n",
       "61           61  2018-01-01  California  Los Angeles       Pasadena   \n",
       "76           76  2018-01-01  California  Los Angeles    Los Angeles   \n",
       "109         109  2018-01-01  California  Los Angeles    Los Angeles   \n",
       "\n",
       "                   local_site_name   parameter_name   units_of_measure  \\\n",
       "33       Lancaster-Division Street  Carbon monoxide  Parts per million   \n",
       "42                   Santa Clarita  Carbon monoxide  Parts per million   \n",
       "61                        Pasadena  Carbon monoxide  Parts per million   \n",
       "76                    LAX Hastings  Carbon monoxide  Parts per million   \n",
       "109  Los Angeles-North Main Street  Carbon monoxide  Parts per million   \n",
       "\n",
       "     arithmetic_mean  aqi  \n",
       "33          0.394737    7  \n",
       "42          0.394737    7  \n",
       "61          0.789474   16  \n",
       "76          0.863158   17  \n",
       "109         0.994737   17  "
      ]
     },
     "execution_count": 11,
     "metadata": {},
     "output_type": "execute_result"
    }
   ],
   "source": [
    "ca_la.head()"
   ]
  },
  {
   "cell_type": "code",
   "execution_count": 12,
   "metadata": {},
   "outputs": [
    {
     "data": {
      "text/html": [
       "<div>\n",
       "<style scoped>\n",
       "    .dataframe tbody tr th:only-of-type {\n",
       "        vertical-align: middle;\n",
       "    }\n",
       "\n",
       "    .dataframe tbody tr th {\n",
       "        vertical-align: top;\n",
       "    }\n",
       "\n",
       "    .dataframe thead th {\n",
       "        text-align: right;\n",
       "    }\n",
       "</style>\n",
       "<table border=\"1\" class=\"dataframe\">\n",
       "  <thead>\n",
       "    <tr style=\"text-align: right;\">\n",
       "      <th></th>\n",
       "      <th>Unnamed: 0</th>\n",
       "      <th>date_local</th>\n",
       "      <th>state_name</th>\n",
       "      <th>county_name</th>\n",
       "      <th>city_name</th>\n",
       "      <th>local_site_name</th>\n",
       "      <th>parameter_name</th>\n",
       "      <th>units_of_measure</th>\n",
       "      <th>arithmetic_mean</th>\n",
       "      <th>aqi</th>\n",
       "    </tr>\n",
       "  </thead>\n",
       "  <tbody>\n",
       "    <tr>\n",
       "      <th>16</th>\n",
       "      <td>16</td>\n",
       "      <td>2018-01-01</td>\n",
       "      <td>California</td>\n",
       "      <td>San Bernardino</td>\n",
       "      <td>Ontario</td>\n",
       "      <td>Ontario Near Road (Etiwanda)</td>\n",
       "      <td>Carbon monoxide</td>\n",
       "      <td>Parts per million</td>\n",
       "      <td>0.747368</td>\n",
       "      <td>11</td>\n",
       "    </tr>\n",
       "    <tr>\n",
       "      <th>18</th>\n",
       "      <td>18</td>\n",
       "      <td>2018-01-01</td>\n",
       "      <td>California</td>\n",
       "      <td>Sacramento</td>\n",
       "      <td>Arden-Arcade</td>\n",
       "      <td>Sacramento-Del Paso Manor</td>\n",
       "      <td>Carbon monoxide</td>\n",
       "      <td>Parts per million</td>\n",
       "      <td>0.752632</td>\n",
       "      <td>16</td>\n",
       "    </tr>\n",
       "    <tr>\n",
       "      <th>26</th>\n",
       "      <td>26</td>\n",
       "      <td>2018-01-01</td>\n",
       "      <td>California</td>\n",
       "      <td>Orange</td>\n",
       "      <td>La Habra</td>\n",
       "      <td>La Habra</td>\n",
       "      <td>Carbon monoxide</td>\n",
       "      <td>Parts per million</td>\n",
       "      <td>0.673684</td>\n",
       "      <td>13</td>\n",
       "    </tr>\n",
       "    <tr>\n",
       "      <th>27</th>\n",
       "      <td>27</td>\n",
       "      <td>2018-01-01</td>\n",
       "      <td>California</td>\n",
       "      <td>Alameda</td>\n",
       "      <td>Not in a city</td>\n",
       "      <td>Berkeley- Aquatic Park</td>\n",
       "      <td>Carbon monoxide</td>\n",
       "      <td>Parts per million</td>\n",
       "      <td>1.088889</td>\n",
       "      <td>15</td>\n",
       "    </tr>\n",
       "    <tr>\n",
       "      <th>34</th>\n",
       "      <td>34</td>\n",
       "      <td>2018-01-01</td>\n",
       "      <td>California</td>\n",
       "      <td>Fresno</td>\n",
       "      <td>Fresno</td>\n",
       "      <td>Fresno - Garland</td>\n",
       "      <td>Carbon monoxide</td>\n",
       "      <td>Parts per million</td>\n",
       "      <td>1.000000</td>\n",
       "      <td>15</td>\n",
       "    </tr>\n",
       "  </tbody>\n",
       "</table>\n",
       "</div>"
      ],
      "text/plain": [
       "    Unnamed: 0  date_local  state_name     county_name      city_name  \\\n",
       "16          16  2018-01-01  California  San Bernardino        Ontario   \n",
       "18          18  2018-01-01  California      Sacramento   Arden-Arcade   \n",
       "26          26  2018-01-01  California          Orange       La Habra   \n",
       "27          27  2018-01-01  California         Alameda  Not in a city   \n",
       "34          34  2018-01-01  California          Fresno         Fresno   \n",
       "\n",
       "                 local_site_name   parameter_name   units_of_measure  \\\n",
       "16  Ontario Near Road (Etiwanda)  Carbon monoxide  Parts per million   \n",
       "18     Sacramento-Del Paso Manor  Carbon monoxide  Parts per million   \n",
       "26                      La Habra  Carbon monoxide  Parts per million   \n",
       "27        Berkeley- Aquatic Park  Carbon monoxide  Parts per million   \n",
       "34              Fresno - Garland  Carbon monoxide  Parts per million   \n",
       "\n",
       "    arithmetic_mean  aqi  \n",
       "16         0.747368   11  \n",
       "18         0.752632   16  \n",
       "26         0.673684   13  \n",
       "27         1.088889   15  \n",
       "34         1.000000   15  "
      ]
     },
     "execution_count": 12,
     "metadata": {},
     "output_type": "execute_result"
    }
   ],
   "source": [
    "ca_other.head()"
   ]
  },
  {
   "cell_type": "markdown",
   "metadata": {
    "id": "c57f5c93-1aad-4d67-b5fe-d8764103a2e5"
   },
   "source": [
    "<details>\n",
    "  <summary><h4><strong>HINT 1</strong></h4></summary>\n",
    "\n",
    "  Consider referencing the material on subsetting dataframes.  \n",
    "</details>"
   ]
  },
  {
   "cell_type": "markdown",
   "metadata": {
    "id": "bf95629f-9b89-4165-a8a9-c53903660564"
   },
   "source": [
    "<details>\n",
    "  <summary><h4><strong>HINT 2</strong></h4></summary>\n",
    "\n",
    "  Consider creating two dataframes, one for Los Angeles, and one for all other California observations.\n",
    "</details>"
   ]
  },
  {
   "cell_type": "markdown",
   "metadata": {
    "id": "c1db6a6f-4547-421d-a9cb-56d085372ba5"
   },
   "source": [
    "<details>\n",
    "  <summary><h4><strong>HINT 3</strong></h4></summary>\n",
    "\n",
    "For your first dataframe, filter to `county_name` of `Los Angeles`. For your second dataframe, filter to `state_name` of `Calfornia` and `county_name` not equal to `Los Angeles`.\n",
    "    \n",
    "</details>"
   ]
  },
  {
   "cell_type": "markdown",
   "metadata": {
    "id": "7dff76cf-3a49-49d2-9660-0b5ec17d5f0a"
   },
   "source": [
    "#### Formulate your hypothesis:"
   ]
  },
  {
   "cell_type": "markdown",
   "metadata": {
    "id": "fdddef66-6207-4cc0-853c-0b578674bbfc"
   },
   "source": [
    "**Formulate your null and alternative hypotheses:**\n",
    "\n",
    "*   $H_0$: There is no difference in the mean AQI between Los Angeles County and the rest of California.\n",
    "*   $H_A$: There is a difference in the mean AQI between Los Angeles County and the rest of California.\n"
   ]
  },
  {
   "cell_type": "markdown",
   "metadata": {
    "id": "5dac3136-16bf-45d2-a560-05fe5361f5cb"
   },
   "source": [
    "#### Set the significance level:"
   ]
  },
  {
   "cell_type": "code",
   "execution_count": 13,
   "metadata": {
    "id": "5ef36549-7ccb-4547-bf04-d23b166c65d4"
   },
   "outputs": [
    {
     "data": {
      "text/plain": [
       "0.05"
      ]
     },
     "execution_count": 13,
     "metadata": {},
     "output_type": "execute_result"
    }
   ],
   "source": [
    "# For this analysis, the significance level is 5%\n",
    "\n",
    "### YOUR CODE HERE\n",
    "significance_level = 0.05\n",
    "significance_level"
   ]
  },
  {
   "cell_type": "markdown",
   "metadata": {
    "id": "4ebb679d-188d-4ca8-a886-6edb9ba1301e"
   },
   "source": [
    "#### Determine the appropriate test procedure:"
   ]
  },
  {
   "cell_type": "markdown",
   "metadata": {
    "id": "ab717428-91e5-4f88-b6d5-0a8c3034e010"
   },
   "source": [
    "Here, you are comparing the sample means between two independent samples. Therefore, you will utilize a **two-sample  𝑡-test**."
   ]
  },
  {
   "cell_type": "markdown",
   "metadata": {
    "id": "e862eb4d-a170-4126-9373-a527bf5659da"
   },
   "source": [
    "#### Compute the P-value"
   ]
  },
  {
   "cell_type": "code",
   "execution_count": 14,
   "metadata": {
    "id": "83ef0d80-48ec-4a5a-8acd-0fab137243c3",
    "tags": []
   },
   "outputs": [
    {
     "data": {
      "text/plain": [
       "Ttest_indResult(statistic=2.1107010796372014, pvalue=0.049839056842410995)"
      ]
     },
     "execution_count": 14,
     "metadata": {},
     "output_type": "execute_result"
    }
   ],
   "source": [
    "# Compute your p-value here\n",
    "\n",
    "### YOUR CODE HERE ###\n",
    "stats.ttest_ind(a=ca_la['aqi'], b=ca_other['aqi'],equal_var=False)"
   ]
  },
  {
   "cell_type": "markdown",
   "metadata": {
    "id": "baf0078e-b142-47c0-927f-64bf93051c07"
   },
   "source": [
    "<details>\n",
    "  <summary><h4><strong>HINT 1</strong></h4></summary>\n",
    "\n",
    "  Consider referencing the material on how to perform a two-sample t-test.\n",
    "</details>"
   ]
  },
  {
   "cell_type": "markdown",
   "metadata": {
    "id": "9a4f077a-89a6-47f4-bbb3-fcdfde51177e"
   },
   "source": [
    "<details>\n",
    "  <summary><h4><strong>HINT 2</strong></h4></summary>\n",
    "\n",
    "  In `ttest_ind()`, a is the aqi column from our \"Los Angeles\" dataframe, and b is the aqi column from the \"Other California\" dataframe.\n",
    "</details>"
   ]
  },
  {
   "cell_type": "markdown",
   "metadata": {
    "id": "d8b19b4d-7ef8-4a85-82d3-47aa85169f44"
   },
   "source": [
    "<details>\n",
    "  <summary><h4><strong>HINT 3</strong></h4></summary>\n",
    "\n",
    "  Be sure to set `equal_var` = False.\n",
    "\n",
    "</details>"
   ]
  },
  {
   "cell_type": "markdown",
   "metadata": {
    "id": "2d62e8b0-59e5-471d-a5fc-d50395955a2a"
   },
   "source": [
    "#### **Question 2. What is your P-value for hypothesis 1, and what does this indicate for your null hypothesis?**"
   ]
  },
  {
   "cell_type": "markdown",
   "metadata": {
    "id": "KUEKceuOJ1S2"
   },
   "source": [
    "For the p-value is less than 5%, we can conclude that we reject the null hypothesis. Conclude, that there is a mean difference in aqi values between california states in los angeles and other california states that are not located in la."
   ]
  },
  {
   "cell_type": "markdown",
   "metadata": {
    "id": "94a88155-3328-4c7e-8e60-67a2ba9d7967"
   },
   "source": [
    "### Hypothesis 2: With limited resources, ROA has to choose between New York and Ohio for their next regional office. Does New York have a lower AQI than Ohio?\n",
    "\n",
    "Before proceeding with your analysis, it will be helpful to subset the data for your comparison."
   ]
  },
  {
   "cell_type": "code",
   "execution_count": 15,
   "metadata": {
    "id": "f39b7d83-9fbf-4bba-90c2-c99f903badd8"
   },
   "outputs": [],
   "source": [
    "# Create dataframes for each sample being compared in your test\n",
    "\n",
    "### YOUR CODE HERE ###\n",
    "new_york = aqi[aqi['state_name']=='New York']\n",
    "ohio = aqi[aqi['state_name']=='Ohio']"
   ]
  },
  {
   "cell_type": "markdown",
   "metadata": {
    "id": "91fcd91a-45a4-4d09-8e27-cef43d230d77"
   },
   "source": [
    "<details>\n",
    "  <summary><h4><strong>HINT 1</strong></h4></summary>\n",
    "\n",
    "  Consider referencing the materials on subsetting dataframes.  \n",
    "</details>"
   ]
  },
  {
   "cell_type": "markdown",
   "metadata": {
    "id": "ee48c4a6-2838-4d61-88ed-9447dfa7dbb8"
   },
   "source": [
    "<details>\n",
    "  <summary><h4><strong>HINT 2</strong></h4></summary>\n",
    "\n",
    "  Consider creating two dataframes, one for New York, and one for Ohio observations.\n",
    "</details>"
   ]
  },
  {
   "cell_type": "markdown",
   "metadata": {
    "id": "843a0f97-13b9-4b03-bd21-f0914a0cc5c1"
   },
   "source": [
    "<details>\n",
    "  <summary><h4><strong>HINT 3</strong></h4></summary>\n",
    "\n",
    "For your first dataframe, filter to `state_name` of `New York`. For your second dataframe, filter to `state_name` of `Ohio`.\n",
    "    \n",
    "</details>"
   ]
  },
  {
   "cell_type": "markdown",
   "metadata": {
    "id": "7478185b-a351-4c7c-b1b8-6eaa1a26d2ed"
   },
   "source": [
    "#### Formulate your hypothesis:"
   ]
  },
  {
   "cell_type": "markdown",
   "metadata": {
    "id": "029b0f9c-0d0c-475f-b745-643a313e2b79"
   },
   "source": [
    "**Formulate your null and alternative hypotheses:**\n",
    "\n",
    "*   $H_0$: The mean AQI of New York is greater than or equal to that of Ohio.\n",
    "*   $H_A$: The mean AQI of New York is **below** that of Ohio.\n"
   ]
  },
  {
   "cell_type": "markdown",
   "metadata": {
    "id": "b12559f5-bd57-4664-be80-7208ca8818b4"
   },
   "source": [
    "#### Significance Level (remains at 5%)"
   ]
  },
  {
   "cell_type": "markdown",
   "metadata": {
    "id": "2b57fcf8-6f9d-4dae-ba0d-4af9a24d991d"
   },
   "source": [
    "#### Determine the appropriate test procedure:"
   ]
  },
  {
   "cell_type": "markdown",
   "metadata": {
    "id": "8ac7075f-1342-4522-9c49-1f43574d05f8"
   },
   "source": [
    "Here, you are comparing the sample means between two independent samples in one direction. Therefore, you will utilize a **two-sample  𝑡-test**."
   ]
  },
  {
   "cell_type": "markdown",
   "metadata": {
    "id": "77f03fc8-0663-48b2-af4b-2936b35027e7"
   },
   "source": [
    "#### Compute the P-value"
   ]
  },
  {
   "cell_type": "code",
   "execution_count": 23,
   "metadata": {
    "id": "e495500f-c3d9-4cf2-ad1d-4687640a01b4",
    "tags": []
   },
   "outputs": [
    {
     "data": {
      "text/plain": [
       "Ttest_indResult(statistic=-2.025951038880333, pvalue=0.030446502691934697)"
      ]
     },
     "execution_count": 23,
     "metadata": {},
     "output_type": "execute_result"
    }
   ],
   "source": [
    "# Compute your p-value here\n",
    "\n",
    "### YOUR CODE HERE ###\n",
    "stats.ttest_ind(a=new_york['aqi'], b=ohio['aqi'],equal_var=False,alternative='less')"
   ]
  },
  {
   "cell_type": "markdown",
   "metadata": {
    "id": "bd2a3a68-4267-4622-8b08-55807f387a17"
   },
   "source": [
    "<details>\n",
    "  <summary><h4><strong>HINT 1</strong></h4></summary>\n",
    "\n",
    "  Consider referencing the material on how to perform a two-sample t-test.\n",
    "</details>"
   ]
  },
  {
   "cell_type": "markdown",
   "metadata": {
    "id": "311bc999-a930-4cf0-85c6-6ae97855f0e9"
   },
   "source": [
    "<details>\n",
    "  <summary><h4><strong>HINT 2</strong></h4></summary>\n",
    "\n",
    "  In `ttest_ind()`, a is the aqi column from the \"New York\" dataframe, an b is the aqi column from the \"Ohio\" dataframe.\n",
    "</details>"
   ]
  },
  {
   "cell_type": "markdown",
   "metadata": {
    "id": "7d54093d-253b-4d2a-a324-257eea617ac4"
   },
   "source": [
    "<details>\n",
    "  <summary><h4><strong>HINT 3</strong></h4></summary>\n",
    "\n",
    "  You can assign `tstat`, `pvalue` to the output of `ttest_ind`. Be sure to include `alternative = less` as part of your code.  \n",
    "\n",
    "</details>"
   ]
  },
  {
   "cell_type": "markdown",
   "metadata": {
    "id": "d56642db-8f45-405a-af7d-69bd3ad3fe58"
   },
   "source": [
    "#### **Question 3. What is your P-value for hypothesis 2, and what does this indicate for your null hypothesis?**"
   ]
  },
  {
   "cell_type": "markdown",
   "metadata": {
    "id": "dFDxoQ9aJxz3"
   },
   "source": [
    "We reject the null hypothesis, since our p-value is 0.03 which is less than 0.05. Conclude, that the mean aqi of new york is less the mean aqi of ohio."
   ]
  },
  {
   "cell_type": "markdown",
   "metadata": {
    "id": "4308fdf1-3080-4697-a0b4-4c7c59c49b9b"
   },
   "source": [
    "###  Hypothesis 3: A new policy will affect those states with a mean AQI of 10 or greater. Will Michigan be affected by this new policy?\n",
    "\n",
    "Before proceeding with your analysis, it will be helpful to subset the data for your comparison."
   ]
  },
  {
   "cell_type": "code",
   "execution_count": 26,
   "metadata": {
    "id": "559c43b4-ccb3-4a05-91d4-8f4aaee4d8b7"
   },
   "outputs": [
    {
     "data": {
      "text/html": [
       "<div>\n",
       "<style scoped>\n",
       "    .dataframe tbody tr th:only-of-type {\n",
       "        vertical-align: middle;\n",
       "    }\n",
       "\n",
       "    .dataframe tbody tr th {\n",
       "        vertical-align: top;\n",
       "    }\n",
       "\n",
       "    .dataframe thead th {\n",
       "        text-align: right;\n",
       "    }\n",
       "</style>\n",
       "<table border=\"1\" class=\"dataframe\">\n",
       "  <thead>\n",
       "    <tr style=\"text-align: right;\">\n",
       "      <th></th>\n",
       "      <th>Unnamed: 0</th>\n",
       "      <th>date_local</th>\n",
       "      <th>state_name</th>\n",
       "      <th>county_name</th>\n",
       "      <th>city_name</th>\n",
       "      <th>local_site_name</th>\n",
       "      <th>parameter_name</th>\n",
       "      <th>units_of_measure</th>\n",
       "      <th>arithmetic_mean</th>\n",
       "      <th>aqi</th>\n",
       "    </tr>\n",
       "  </thead>\n",
       "  <tbody>\n",
       "    <tr>\n",
       "      <th>129</th>\n",
       "      <td>129</td>\n",
       "      <td>2018-01-01</td>\n",
       "      <td>Michigan</td>\n",
       "      <td>Wayne</td>\n",
       "      <td>Detroit</td>\n",
       "      <td>ELIZA-NR</td>\n",
       "      <td>Carbon monoxide</td>\n",
       "      <td>Parts per million</td>\n",
       "      <td>0.616667</td>\n",
       "      <td>11</td>\n",
       "    </tr>\n",
       "    <tr>\n",
       "      <th>192</th>\n",
       "      <td>192</td>\n",
       "      <td>2018-01-01</td>\n",
       "      <td>Michigan</td>\n",
       "      <td>Wayne</td>\n",
       "      <td>Allen Park</td>\n",
       "      <td>Allen Park</td>\n",
       "      <td>Carbon monoxide</td>\n",
       "      <td>Parts per million</td>\n",
       "      <td>0.811111</td>\n",
       "      <td>13</td>\n",
       "    </tr>\n",
       "    <tr>\n",
       "      <th>207</th>\n",
       "      <td>207</td>\n",
       "      <td>2018-01-01</td>\n",
       "      <td>Michigan</td>\n",
       "      <td>Wayne</td>\n",
       "      <td>Not in a city</td>\n",
       "      <td>Eliza Downwind</td>\n",
       "      <td>Carbon monoxide</td>\n",
       "      <td>Parts per million</td>\n",
       "      <td>0.516667</td>\n",
       "      <td>10</td>\n",
       "    </tr>\n",
       "  </tbody>\n",
       "</table>\n",
       "</div>"
      ],
      "text/plain": [
       "     Unnamed: 0  date_local state_name county_name      city_name  \\\n",
       "129         129  2018-01-01   Michigan       Wayne        Detroit   \n",
       "192         192  2018-01-01   Michigan       Wayne     Allen Park   \n",
       "207         207  2018-01-01   Michigan       Wayne  Not in a city   \n",
       "\n",
       "    local_site_name   parameter_name   units_of_measure  arithmetic_mean  aqi  \n",
       "129        ELIZA-NR  Carbon monoxide  Parts per million         0.616667   11  \n",
       "192      Allen Park  Carbon monoxide  Parts per million         0.811111   13  \n",
       "207  Eliza Downwind  Carbon monoxide  Parts per million         0.516667   10  "
      ]
     },
     "execution_count": 26,
     "metadata": {},
     "output_type": "execute_result"
    }
   ],
   "source": [
    "# Create dataframes for each sample being compared in your test\n",
    "\n",
    "### YOUR CODE HERE ###\n",
    "Michigan = aqi[aqi['state_name']=='Michigan']\n",
    "Michigan = Michigan[Michigan['aqi']>= 10]\n"
   ]
  },
  {
   "cell_type": "markdown",
   "metadata": {
    "id": "170dd37b-b178-4ea0-8f75-04d312b83331"
   },
   "source": [
    "<details>\n",
    "  <summary><h4><strong>HINT 1</strong></h4></summary>\n",
    "\n",
    "  Consider referencing the material on subsetting dataframes.  \n",
    "</details>"
   ]
  },
  {
   "cell_type": "markdown",
   "metadata": {
    "id": "63121346-1ff3-42ea-ab94-42838fd8c3e0"
   },
   "source": [
    "<details>\n",
    "  <summary><h4><strong>HINT 2</strong></h4></summary>\n",
    "\n",
    "  Consider creating one dataframe which only includes Michigan.\n",
    "</details>"
   ]
  },
  {
   "cell_type": "markdown",
   "metadata": {
    "id": "6886d303-82ca-42c5-980c-3893868241eb"
   },
   "source": [
    "#### Formulate your hypothesis:"
   ]
  },
  {
   "cell_type": "markdown",
   "metadata": {
    "id": "b25225ee-02d7-4d42-8746-9e68598b7bf6"
   },
   "source": [
    "**Formulate your null and alternative hypotheses here:**\n",
    "\n",
    "*   $H_0$: The mean AQI of Michigan is less than or equal to 10.\n",
    "*   $H_A$: The mean AQI of Michigan is greater than 10.\n"
   ]
  },
  {
   "cell_type": "markdown",
   "metadata": {
    "id": "32581125-a9ef-4b17-b8d5-0e1085d4c746"
   },
   "source": [
    "#### Significance Level (remains at 5%)"
   ]
  },
  {
   "cell_type": "markdown",
   "metadata": {
    "id": "915f8cd0-d06b-44ab-81f6-0effa96fae09"
   },
   "source": [
    "#### Determine the appropriate test procedure:"
   ]
  },
  {
   "cell_type": "markdown",
   "metadata": {
    "id": "6753e251-d152-48c9-a5ad-bd46b62636ee"
   },
   "source": [
    "Here, you are comparing one sample mean relative to a particular value in one direction. Therefore, you will utilize a **one-sample  𝑡-test**. "
   ]
  },
  {
   "cell_type": "markdown",
   "metadata": {
    "id": "95443324-76bb-4473-b07b-dcc0c9be7251"
   },
   "source": [
    "#### Compute the P-value"
   ]
  },
  {
   "cell_type": "code",
   "execution_count": 39,
   "metadata": {
    "id": "8b86c9f5-284a-4ed7-b2d4-2b531e0092f9",
    "tags": []
   },
   "outputs": [
    {
     "data": {
      "text/plain": [
       "Ttest_1sampResult(statistic=1.5118578920369097, pvalue=0.1348516283298891)"
      ]
     },
     "execution_count": 39,
     "metadata": {},
     "output_type": "execute_result"
    }
   ],
   "source": [
    "# Compute your p-value here\n",
    "\n",
    "### YOUR CODE HERE ###\n",
    "stats.ttest_1samp(Michigan['aqi'],10,alternative='greater')"
   ]
  },
  {
   "cell_type": "markdown",
   "metadata": {
    "id": "1a1a64bb-7517-456b-a485-7de62754df68"
   },
   "source": [
    "<details>\n",
    "  <summary><h4><strong>HINT 1</strong></h4></summary>\n",
    "\n",
    "  Consider referencing the material on how to perform a one-sample t-test.\n",
    "</details>"
   ]
  },
  {
   "cell_type": "markdown",
   "metadata": {
    "id": "695247c4-693d-427a-8b61-570aba635b18"
   },
   "source": [
    "<details>\n",
    "  <summary><h4><strong>HINT 2</strong></h4></summary>\n",
    "\n",
    "  In `ttest_1samp)`, you are comparing the aqi column from your Michigan data relative to 10, the new policy threshold.\n",
    "</details>"
   ]
  },
  {
   "cell_type": "markdown",
   "metadata": {
    "id": "e21ffe2e-bcd3-495e-9924-6f21d15494cb"
   },
   "source": [
    "<details>\n",
    "  <summary><h4><strong>HINT 3</strong></h4></summary>\n",
    "\n",
    "  You can assign `tstat`, `pvalue` to the output of `ttest_1samp`. Be sure to include `alternative = greater` as part of your code.  \n",
    "\n",
    "</details>"
   ]
  },
  {
   "cell_type": "markdown",
   "metadata": {
    "id": "33175451-2fed-4105-8a46-1bfb0ad3b714"
   },
   "source": [
    "#### **Question 4. What is your P-value for hypothesis 3, and what does this indicate for your null hypothesis?**"
   ]
  },
  {
   "cell_type": "markdown",
   "metadata": {
    "id": "Li8YaXdqJuBF"
   },
   "source": [
    "Here the p-value is greater than the significance level. Conclude, we do not reject the null hypothesis stating that the mean aqi of michigan is less than or equal to 10."
   ]
  },
  {
   "cell_type": "markdown",
   "metadata": {
    "id": "oS3JWcpU127z"
   },
   "source": [
    "## Step 4. Results and Evaluation\n",
    "\n",
    "Now that you've completed your statistical tests, you can consider your hypotheses and the results you gathered."
   ]
  },
  {
   "cell_type": "markdown",
   "metadata": {
    "id": "q2p_8BmC16V-"
   },
   "source": [
    "#### **Question 5. Did your results show that the AQI in Los Angeles County was statistically different from the rest of California?**"
   ]
  },
  {
   "cell_type": "markdown",
   "metadata": {
    "id": "US0JnLp3JrfX"
   },
   "source": [
    "Yes, the results indicated that the AQI in Los Angeles County was in fact different from the rest of California."
   ]
  },
  {
   "cell_type": "markdown",
   "metadata": {
    "id": "G7-YawsW68Yd"
   },
   "source": [
    "#### **Question 6. Did New York or Ohio have a lower AQI?**"
   ]
  },
  {
   "cell_type": "markdown",
   "metadata": {
    "id": "zzSBoJwMJpgG"
   },
   "source": [
    "New York has a lower aqi value than ohio based on the signifiance level at 5%."
   ]
  },
  {
   "cell_type": "markdown",
   "metadata": {
    "id": "ppAmh9nD7HkZ"
   },
   "source": [
    "#### **Question 7: Will Michigan be affected by the new policy impacting states with a mean AQI of 10 or greater?**\n",
    "\n"
   ]
  },
  {
   "cell_type": "markdown",
   "metadata": {
    "id": "1nfqgTngJnLV"
   },
   "source": [
    "No, since our p-value is higher than the signifiance safe to say Michigan will not be affected by this new policy."
   ]
  },
  {
   "cell_type": "markdown",
   "metadata": {
    "id": "e2bf2c48-c712-4310-a83e-96a13edc4da1"
   },
   "source": [
    "# Conclusion\n",
    "\n",
    "**What are key takeaways from this lab?**\n",
    "\n",
    "Even with small sample sizes, the variation within the data is enough to allow you to make statistically significant conclusions. You identified at the 5% significance level that the Los Angeles mean AQI was stastitically different from the rest of California, and that New York does have a lower mean AQI than Ohio. However, you were unable to conclude at the 5% significance level that Michigan's mean AQI was greater than 10.\n",
    "\n",
    "**What would you consider presenting to your manager as part of your findings?**\n",
    "\n",
    "For each test, you would present the null and alternative hypothesis, then describe your conclusion and the resulting p-value that drove that conclusion. As the setup of t-test's have a few key configurations that dictate how you interpret the result, you would specify the type of test you chose, whether that tail was one-tail or two-tailed, and how you performed the t-test from `stats`.\n",
    "\n",
    "\n",
    "**What would you convey to external stakeholders?**\n",
    "\n",
    "In answer to the research questions posed, you would convey the level of significance (5%) and your conclusion. Additionally, providing the sample statistics being compared in each case will likely provide important context for stakeholders to quickly understand the difference between your results.\n"
   ]
  },
  {
   "cell_type": "markdown",
   "metadata": {},
   "source": [
    "**Congratulations!** You've completed this lab. However, you may not notice a green check mark next to this item on Coursera's platform. Please continue your progress regardless of the check mark. Just click on the \"save\" icon at the top of this notebook to ensure your work has been logged."
   ]
  }
 ],
 "metadata": {
  "colab": {
   "collapsed_sections": [
    "b12559f5-bd57-4664-be80-7208ca8818b4",
    "32581125-a9ef-4b17-b8d5-0e1085d4c746"
   ],
   "provenance": []
  },
  "kernelspec": {
   "display_name": "Python 3",
   "language": "python",
   "name": "python3"
  },
  "language_info": {
   "codemirror_mode": {
    "name": "ipython",
    "version": 3
   },
   "file_extension": ".py",
   "mimetype": "text/x-python",
   "name": "python",
   "nbconvert_exporter": "python",
   "pygments_lexer": "ipython3",
   "version": "3.7.6"
  }
 },
 "nbformat": 4,
 "nbformat_minor": 5
}
