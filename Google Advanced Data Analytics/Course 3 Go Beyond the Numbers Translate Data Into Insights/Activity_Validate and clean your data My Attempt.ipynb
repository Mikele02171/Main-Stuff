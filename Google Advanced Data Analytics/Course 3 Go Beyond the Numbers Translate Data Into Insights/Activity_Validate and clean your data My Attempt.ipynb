{
 "cells": [
  {
   "cell_type": "markdown",
   "metadata": {
    "id": "1WD1hC5MTRMS"
   },
   "source": [
    "# Activity: Validate and clean your data"
   ]
  },
  {
   "cell_type": "markdown",
   "metadata": {
    "id": "ee31943b-274e-4c28-bce6-155cb6f4c334"
   },
   "source": [
    "## Introduction\n",
    "\n",
    "In this activity, you will use input validation and label encoding to prepare a dataset for analysis. These are fundamental techniques used in all types of data analysis, from simple linear regression to complex neural networks. \n",
    "\n",
    "In this activity, you are a data professional an investment firm that is attempting to invest in private companies with a valuation of at least $1 billion. These are often known as \"unicorns.\" Your client wants to develop a better understanding of unicorns, with the hope they can be early investors in future highly successful companies. They are particularly interested in the investment strategies of the three top unicorn investors: Sequoia Capital, Tiger Global Management, and Accel. "
   ]
  },
  {
   "cell_type": "markdown",
   "metadata": {
    "id": "4bb9630e-b940-4835-a389-d39def1fa848"
   },
   "source": [
    "## Step 1: Imports"
   ]
  },
  {
   "cell_type": "markdown",
   "metadata": {
    "id": "bc180686-4ae2-47ea-a292-3588ac60a820"
   },
   "source": [
    "Import relevant Python libraries and packages: `numpy`, `pandas`, `seaborn`, and `pyplot` from `matplotlib`."
   ]
  },
  {
   "cell_type": "code",
   "execution_count": 101,
   "metadata": {
    "id": "8e7f1f2c-bbcc-4f3c-b927-b090ee8334c4"
   },
   "outputs": [],
   "source": [
    "# Import libraries and packages.\n",
    "\n",
    "### YOUR CODE HERE ### \n",
    "import numpy as np\n",
    "import pandas as pd\n",
    "import seaborn as sns \n",
    "import matplotlib.pyplot as plt"
   ]
  },
  {
   "cell_type": "markdown",
   "metadata": {
    "id": "7d29c6bd-f194-46bb-b794-56dc20130473"
   },
   "source": [
    "### Load the dataset\n",
    "\n",
    "The data contains details about unicorn companies, such as when they were founded, when they achieved unicorn status, and their current valuation. The dataset `Modified_Unicorn_Companies.csv` is loaded as `companies`, now display the first five rows. The variables in the dataset have been adjusted to suit the objectives of this lab, so they may be different from similar data used in prior labs. As shown in this cell, the dataset has been automatically loaded in for you. You do not need to download the .csv file, or provide more code, in order to access the dataset and proceed with this lab. Please continue with this activity by completing the following instructions."
   ]
  },
  {
   "cell_type": "code",
   "execution_count": 102,
   "metadata": {},
   "outputs": [],
   "source": [
    "# Run this cell so pandas displays all columns\n",
    "pd.set_option('display.max_columns', None)"
   ]
  },
  {
   "cell_type": "code",
   "execution_count": 103,
   "metadata": {
    "id": "3bd40d44-080f-4e49-b0c2-160dedc3c4df"
   },
   "outputs": [
    {
     "data": {
      "text/html": [
       "<div>\n",
       "<style scoped>\n",
       "    .dataframe tbody tr th:only-of-type {\n",
       "        vertical-align: middle;\n",
       "    }\n",
       "\n",
       "    .dataframe tbody tr th {\n",
       "        vertical-align: top;\n",
       "    }\n",
       "\n",
       "    .dataframe thead th {\n",
       "        text-align: right;\n",
       "    }\n",
       "</style>\n",
       "<table border=\"1\" class=\"dataframe\">\n",
       "  <thead>\n",
       "    <tr style=\"text-align: right;\">\n",
       "      <th></th>\n",
       "      <th>Company</th>\n",
       "      <th>Valuation</th>\n",
       "      <th>Date Joined</th>\n",
       "      <th>Industry</th>\n",
       "      <th>City</th>\n",
       "      <th>Country/Region</th>\n",
       "      <th>Continent</th>\n",
       "      <th>Year Founded</th>\n",
       "      <th>Funding</th>\n",
       "      <th>Select Investors</th>\n",
       "    </tr>\n",
       "  </thead>\n",
       "  <tbody>\n",
       "    <tr>\n",
       "      <th>0</th>\n",
       "      <td>Bytedance</td>\n",
       "      <td>180</td>\n",
       "      <td>2017-04-07</td>\n",
       "      <td>Artificial intelligence</td>\n",
       "      <td>Beijing</td>\n",
       "      <td>China</td>\n",
       "      <td>Asia</td>\n",
       "      <td>2012</td>\n",
       "      <td>$8B</td>\n",
       "      <td>Sequoia Capital China, SIG Asia Investments, S...</td>\n",
       "    </tr>\n",
       "    <tr>\n",
       "      <th>1</th>\n",
       "      <td>SpaceX</td>\n",
       "      <td>100</td>\n",
       "      <td>2012-12-01</td>\n",
       "      <td>Other</td>\n",
       "      <td>Hawthorne</td>\n",
       "      <td>United States</td>\n",
       "      <td>North America</td>\n",
       "      <td>2002</td>\n",
       "      <td>$7B</td>\n",
       "      <td>Founders Fund, Draper Fisher Jurvetson, Rothen...</td>\n",
       "    </tr>\n",
       "    <tr>\n",
       "      <th>2</th>\n",
       "      <td>SHEIN</td>\n",
       "      <td>100</td>\n",
       "      <td>2018-07-03</td>\n",
       "      <td>E-commerce &amp; direct-to-consumer</td>\n",
       "      <td>Shenzhen</td>\n",
       "      <td>China</td>\n",
       "      <td>Asia</td>\n",
       "      <td>2008</td>\n",
       "      <td>$2B</td>\n",
       "      <td>Tiger Global Management, Sequoia Capital China...</td>\n",
       "    </tr>\n",
       "    <tr>\n",
       "      <th>3</th>\n",
       "      <td>Stripe</td>\n",
       "      <td>95</td>\n",
       "      <td>2014-01-23</td>\n",
       "      <td>FinTech</td>\n",
       "      <td>San Francisco</td>\n",
       "      <td>United States</td>\n",
       "      <td>North America</td>\n",
       "      <td>2010</td>\n",
       "      <td>$2B</td>\n",
       "      <td>Khosla Ventures, LowercaseCapital, capitalG</td>\n",
       "    </tr>\n",
       "    <tr>\n",
       "      <th>4</th>\n",
       "      <td>Klarna</td>\n",
       "      <td>46</td>\n",
       "      <td>2011-12-12</td>\n",
       "      <td>Fintech</td>\n",
       "      <td>Stockholm</td>\n",
       "      <td>Sweden</td>\n",
       "      <td>Europe</td>\n",
       "      <td>2005</td>\n",
       "      <td>$4B</td>\n",
       "      <td>Institutional Venture Partners, Sequoia Capita...</td>\n",
       "    </tr>\n",
       "  </tbody>\n",
       "</table>\n",
       "</div>"
      ],
      "text/plain": [
       "     Company  Valuation Date Joined                         Industry  \\\n",
       "0  Bytedance        180  2017-04-07          Artificial intelligence   \n",
       "1     SpaceX        100  2012-12-01                            Other   \n",
       "2      SHEIN        100  2018-07-03  E-commerce & direct-to-consumer   \n",
       "3     Stripe         95  2014-01-23                          FinTech   \n",
       "4     Klarna         46  2011-12-12                          Fintech   \n",
       "\n",
       "            City Country/Region      Continent  Year Founded Funding  \\\n",
       "0        Beijing          China           Asia          2012     $8B   \n",
       "1      Hawthorne  United States  North America          2002     $7B   \n",
       "2       Shenzhen          China           Asia          2008     $2B   \n",
       "3  San Francisco  United States  North America          2010     $2B   \n",
       "4      Stockholm         Sweden         Europe          2005     $4B   \n",
       "\n",
       "                                    Select Investors  \n",
       "0  Sequoia Capital China, SIG Asia Investments, S...  \n",
       "1  Founders Fund, Draper Fisher Jurvetson, Rothen...  \n",
       "2  Tiger Global Management, Sequoia Capital China...  \n",
       "3        Khosla Ventures, LowercaseCapital, capitalG  \n",
       "4  Institutional Venture Partners, Sequoia Capita...  "
      ]
     },
     "execution_count": 103,
     "metadata": {},
     "output_type": "execute_result"
    }
   ],
   "source": [
    "# RUN THIS CELL TO IMPORT YOUR DATA. \n",
    "companies = pd.read_csv('Modified_Unicorn_Companies.csv')\n",
    "\n",
    "# Display the first five rows.\n",
    "### YOUR CODE HERE ### \n",
    "companies.head()\n"
   ]
  },
  {
   "cell_type": "markdown",
   "metadata": {
    "id": "95bf39c9-d05c-4324-a40b-bc692607b61b"
   },
   "source": [
    "## Step 2: Data cleaning\n"
   ]
  },
  {
   "cell_type": "markdown",
   "metadata": {
    "id": "ad17d09c-c829-4e88-9089-83060d1adf91"
   },
   "source": [
    "Begin by displaying the data types of the columns in `companies`."
   ]
  },
  {
   "cell_type": "code",
   "execution_count": 104,
   "metadata": {
    "id": "5340b9fd-a9e1-4943-b546-eece0049dc3b"
   },
   "outputs": [
    {
     "data": {
      "text/plain": [
       "Company             object\n",
       "Valuation            int64\n",
       "Date Joined         object\n",
       "Industry            object\n",
       "City                object\n",
       "Country/Region      object\n",
       "Continent           object\n",
       "Year Founded         int64\n",
       "Funding             object\n",
       "Select Investors    object\n",
       "dtype: object"
      ]
     },
     "execution_count": 104,
     "metadata": {},
     "output_type": "execute_result"
    }
   ],
   "source": [
    "# Display the data types of the columns.\n",
    "\n",
    "### YOUR CODE HERE ###\n",
    "companies.dtypes\n"
   ]
  },
  {
   "cell_type": "markdown",
   "metadata": {
    "id": "f155353c-d39d-436e-b0de-3cb0777c831e"
   },
   "source": [
    "<details>\n",
    "  <summary><h4><strong>Hint 1</strong></h4></summary>\n",
    "\n",
    "Review what you have learned about exploratory data analysis in Python.\n",
    "\n",
    "</details>"
   ]
  },
  {
   "cell_type": "markdown",
   "metadata": {
    "id": "a0c1a503-ccec-44a9-baaf-a89eabf363cf"
   },
   "source": [
    "<details>\n",
    "  <summary><h4><strong>Hint 2</strong></h4></summary>\n",
    "\n",
    "There is a `pandas` DataFrame property that displays the data types of the columns in the specified DataFrame.\n",
    " \n",
    "\n",
    "</details>"
   ]
  },
  {
   "cell_type": "markdown",
   "metadata": {
    "id": "0566888c-aa4d-4dec-966b-d99959fc05f0"
   },
   "source": [
    "<details>\n",
    "  <summary><h4><strong>Hint 3</strong></h4></summary>\n",
    "\n",
    "  The `pandas` DataFrame `dtypes` property will be helpful.\n",
    "\n",
    "</details>"
   ]
  },
  {
   "cell_type": "markdown",
   "metadata": {
    "id": "0dbc048f-cd6d-4e52-93a9-21ec30ce055b"
   },
   "source": [
    "### Modify the data types"
   ]
  },
  {
   "cell_type": "markdown",
   "metadata": {
    "id": "ad280560-d6db-4fcd-ba70-2c16389e12fd"
   },
   "source": [
    "Notice that the data type of the `Date Joined` column is an `object`&mdash;in this case, a string. Convert this column to `datetime` to make it more usable. "
   ]
  },
  {
   "cell_type": "code",
   "execution_count": 105,
   "metadata": {
    "id": "1793ad8d-659a-4fc9-aa8a-570f063ca0d3"
   },
   "outputs": [],
   "source": [
    "# Apply necessary datatype conversions.\n",
    "\n",
    "### YOUR CODE HERE ###\n",
    "companies['Date Joined']=pd.to_datetime(companies['Date Joined'])\n"
   ]
  },
  {
   "cell_type": "markdown",
   "metadata": {
    "id": "1ea7364c-a5be-4c3a-ae8d-24a0ac497973"
   },
   "source": [
    "### Create a new column"
   ]
  },
  {
   "cell_type": "markdown",
   "metadata": {
    "id": "6ed05e76-0a66-4ea3-9796-39afb48eeb93"
   },
   "source": [
    "Add a column called `Years To Unicorn`, which is the number of years between when the company was founded and when it became a unicorn."
   ]
  },
  {
   "cell_type": "code",
   "execution_count": 106,
   "metadata": {
    "id": "3d495d71-39af-4d3f-80fd-0d0a22b01532"
   },
   "outputs": [
    {
     "data": {
      "text/html": [
       "<div>\n",
       "<style scoped>\n",
       "    .dataframe tbody tr th:only-of-type {\n",
       "        vertical-align: middle;\n",
       "    }\n",
       "\n",
       "    .dataframe tbody tr th {\n",
       "        vertical-align: top;\n",
       "    }\n",
       "\n",
       "    .dataframe thead th {\n",
       "        text-align: right;\n",
       "    }\n",
       "</style>\n",
       "<table border=\"1\" class=\"dataframe\">\n",
       "  <thead>\n",
       "    <tr style=\"text-align: right;\">\n",
       "      <th></th>\n",
       "      <th>Company</th>\n",
       "      <th>Valuation</th>\n",
       "      <th>Date Joined</th>\n",
       "      <th>Industry</th>\n",
       "      <th>City</th>\n",
       "      <th>Country/Region</th>\n",
       "      <th>Continent</th>\n",
       "      <th>Year Founded</th>\n",
       "      <th>Funding</th>\n",
       "      <th>Select Investors</th>\n",
       "      <th>Years To Unicorn</th>\n",
       "    </tr>\n",
       "  </thead>\n",
       "  <tbody>\n",
       "    <tr>\n",
       "      <th>0</th>\n",
       "      <td>Bytedance</td>\n",
       "      <td>180</td>\n",
       "      <td>2017-04-07</td>\n",
       "      <td>Artificial intelligence</td>\n",
       "      <td>Beijing</td>\n",
       "      <td>China</td>\n",
       "      <td>Asia</td>\n",
       "      <td>2012</td>\n",
       "      <td>$8B</td>\n",
       "      <td>Sequoia Capital China, SIG Asia Investments, S...</td>\n",
       "      <td>5</td>\n",
       "    </tr>\n",
       "    <tr>\n",
       "      <th>1</th>\n",
       "      <td>SpaceX</td>\n",
       "      <td>100</td>\n",
       "      <td>2012-12-01</td>\n",
       "      <td>Other</td>\n",
       "      <td>Hawthorne</td>\n",
       "      <td>United States</td>\n",
       "      <td>North America</td>\n",
       "      <td>2002</td>\n",
       "      <td>$7B</td>\n",
       "      <td>Founders Fund, Draper Fisher Jurvetson, Rothen...</td>\n",
       "      <td>10</td>\n",
       "    </tr>\n",
       "    <tr>\n",
       "      <th>2</th>\n",
       "      <td>SHEIN</td>\n",
       "      <td>100</td>\n",
       "      <td>2018-07-03</td>\n",
       "      <td>E-commerce &amp; direct-to-consumer</td>\n",
       "      <td>Shenzhen</td>\n",
       "      <td>China</td>\n",
       "      <td>Asia</td>\n",
       "      <td>2008</td>\n",
       "      <td>$2B</td>\n",
       "      <td>Tiger Global Management, Sequoia Capital China...</td>\n",
       "      <td>10</td>\n",
       "    </tr>\n",
       "    <tr>\n",
       "      <th>3</th>\n",
       "      <td>Stripe</td>\n",
       "      <td>95</td>\n",
       "      <td>2014-01-23</td>\n",
       "      <td>FinTech</td>\n",
       "      <td>San Francisco</td>\n",
       "      <td>United States</td>\n",
       "      <td>North America</td>\n",
       "      <td>2010</td>\n",
       "      <td>$2B</td>\n",
       "      <td>Khosla Ventures, LowercaseCapital, capitalG</td>\n",
       "      <td>4</td>\n",
       "    </tr>\n",
       "    <tr>\n",
       "      <th>4</th>\n",
       "      <td>Klarna</td>\n",
       "      <td>46</td>\n",
       "      <td>2011-12-12</td>\n",
       "      <td>Fintech</td>\n",
       "      <td>Stockholm</td>\n",
       "      <td>Sweden</td>\n",
       "      <td>Europe</td>\n",
       "      <td>2005</td>\n",
       "      <td>$4B</td>\n",
       "      <td>Institutional Venture Partners, Sequoia Capita...</td>\n",
       "      <td>6</td>\n",
       "    </tr>\n",
       "    <tr>\n",
       "      <th>...</th>\n",
       "      <td>...</td>\n",
       "      <td>...</td>\n",
       "      <td>...</td>\n",
       "      <td>...</td>\n",
       "      <td>...</td>\n",
       "      <td>...</td>\n",
       "      <td>...</td>\n",
       "      <td>...</td>\n",
       "      <td>...</td>\n",
       "      <td>...</td>\n",
       "      <td>...</td>\n",
       "    </tr>\n",
       "    <tr>\n",
       "      <th>1069</th>\n",
       "      <td>Zhaogang</td>\n",
       "      <td>1</td>\n",
       "      <td>2017-06-29</td>\n",
       "      <td>E-commerce &amp; direct-to-consumer</td>\n",
       "      <td>Shanghai</td>\n",
       "      <td>China</td>\n",
       "      <td>Asia</td>\n",
       "      <td>2012</td>\n",
       "      <td>$379M</td>\n",
       "      <td>K2 Ventures, Matrix Partners China, IDG Capital</td>\n",
       "      <td>5</td>\n",
       "    </tr>\n",
       "    <tr>\n",
       "      <th>1070</th>\n",
       "      <td>Zhuan Zhuan</td>\n",
       "      <td>1</td>\n",
       "      <td>2017-04-18</td>\n",
       "      <td>E-commerce &amp; direct-to-consumer</td>\n",
       "      <td>Beijing</td>\n",
       "      <td>China</td>\n",
       "      <td>Asia</td>\n",
       "      <td>2015</td>\n",
       "      <td>$990M</td>\n",
       "      <td>58.com, Tencent Holdings</td>\n",
       "      <td>2</td>\n",
       "    </tr>\n",
       "    <tr>\n",
       "      <th>1071</th>\n",
       "      <td>Zihaiguo</td>\n",
       "      <td>1</td>\n",
       "      <td>2021-05-06</td>\n",
       "      <td>Consumer &amp; retail</td>\n",
       "      <td>Chongqing</td>\n",
       "      <td>China</td>\n",
       "      <td>Asia</td>\n",
       "      <td>2018</td>\n",
       "      <td>$80M</td>\n",
       "      <td>Xingwang Investment Management, China Capital ...</td>\n",
       "      <td>3</td>\n",
       "    </tr>\n",
       "    <tr>\n",
       "      <th>1072</th>\n",
       "      <td>Zopa</td>\n",
       "      <td>1</td>\n",
       "      <td>2021-10-19</td>\n",
       "      <td>Fintech</td>\n",
       "      <td>London</td>\n",
       "      <td>United Kingdom</td>\n",
       "      <td>Europe</td>\n",
       "      <td>2005</td>\n",
       "      <td>$792M</td>\n",
       "      <td>IAG Capital Partners, Augmentum Fintech, North...</td>\n",
       "      <td>16</td>\n",
       "    </tr>\n",
       "    <tr>\n",
       "      <th>1073</th>\n",
       "      <td>Zwift</td>\n",
       "      <td>1</td>\n",
       "      <td>2020-09-16</td>\n",
       "      <td>E-commerce &amp; direct-to-consumer</td>\n",
       "      <td>Long Beach</td>\n",
       "      <td>United States</td>\n",
       "      <td>North America</td>\n",
       "      <td>2014</td>\n",
       "      <td>$620M</td>\n",
       "      <td>Novator Partners, True, Causeway Media Partners</td>\n",
       "      <td>6</td>\n",
       "    </tr>\n",
       "  </tbody>\n",
       "</table>\n",
       "<p>1074 rows × 11 columns</p>\n",
       "</div>"
      ],
      "text/plain": [
       "          Company  Valuation Date Joined                         Industry  \\\n",
       "0       Bytedance        180  2017-04-07          Artificial intelligence   \n",
       "1          SpaceX        100  2012-12-01                            Other   \n",
       "2           SHEIN        100  2018-07-03  E-commerce & direct-to-consumer   \n",
       "3          Stripe         95  2014-01-23                          FinTech   \n",
       "4          Klarna         46  2011-12-12                          Fintech   \n",
       "...           ...        ...         ...                              ...   \n",
       "1069     Zhaogang          1  2017-06-29  E-commerce & direct-to-consumer   \n",
       "1070  Zhuan Zhuan          1  2017-04-18  E-commerce & direct-to-consumer   \n",
       "1071     Zihaiguo          1  2021-05-06                Consumer & retail   \n",
       "1072         Zopa          1  2021-10-19                          Fintech   \n",
       "1073        Zwift          1  2020-09-16  E-commerce & direct-to-consumer   \n",
       "\n",
       "               City  Country/Region      Continent  Year Founded Funding  \\\n",
       "0           Beijing           China           Asia          2012     $8B   \n",
       "1         Hawthorne   United States  North America          2002     $7B   \n",
       "2          Shenzhen           China           Asia          2008     $2B   \n",
       "3     San Francisco   United States  North America          2010     $2B   \n",
       "4         Stockholm          Sweden         Europe          2005     $4B   \n",
       "...             ...             ...            ...           ...     ...   \n",
       "1069       Shanghai           China           Asia          2012   $379M   \n",
       "1070        Beijing           China           Asia          2015   $990M   \n",
       "1071      Chongqing           China           Asia          2018    $80M   \n",
       "1072         London  United Kingdom         Europe          2005   $792M   \n",
       "1073     Long Beach   United States  North America          2014   $620M   \n",
       "\n",
       "                                       Select Investors  Years To Unicorn  \n",
       "0     Sequoia Capital China, SIG Asia Investments, S...                 5  \n",
       "1     Founders Fund, Draper Fisher Jurvetson, Rothen...                10  \n",
       "2     Tiger Global Management, Sequoia Capital China...                10  \n",
       "3           Khosla Ventures, LowercaseCapital, capitalG                 4  \n",
       "4     Institutional Venture Partners, Sequoia Capita...                 6  \n",
       "...                                                 ...               ...  \n",
       "1069    K2 Ventures, Matrix Partners China, IDG Capital                 5  \n",
       "1070                           58.com, Tencent Holdings                 2  \n",
       "1071  Xingwang Investment Management, China Capital ...                 3  \n",
       "1072  IAG Capital Partners, Augmentum Fintech, North...                16  \n",
       "1073    Novator Partners, True, Causeway Media Partners                 6  \n",
       "\n",
       "[1074 rows x 11 columns]"
      ]
     },
     "execution_count": 106,
     "metadata": {},
     "output_type": "execute_result"
    }
   ],
   "source": [
    "# Create the column Years To Unicorn.\n",
    "\n",
    "### YOUR CODE HERE ###\n",
    "companies['Years To Unicorn']=pd.to_datetime(companies['Date Joined']).dt.year - companies['Year Founded']\n",
    "companies"
   ]
  },
  {
   "cell_type": "markdown",
   "metadata": {
    "id": "4a576b71-1047-48ab-abe9-c5e8d1b67d26"
   },
   "source": [
    "<details>\n",
    "  <summary><h4><strong>Hint 1</strong></h4></summary>\n",
    "\n",
    "Extract just the year from the `Date Joined` column. \n",
    "\n",
    "</details>"
   ]
  },
  {
   "cell_type": "markdown",
   "metadata": {
    "id": "21584921-1d6a-42ab-8f04-9793c7d5cee2"
   },
   "source": [
    "<details>\n",
    "  <summary><h4><strong>Hint 2</strong></h4></summary>\n",
    "\n",
    "  Use `dt.year` to access the year of a datetime object.\n",
    "\n",
    "</details>"
   ]
  },
  {
   "cell_type": "markdown",
   "metadata": {
    "id": "aea4d087-51f5-4b0f-b4c4-18b1acfe0c0d"
   },
   "source": [
    "<details>\n",
    "  <summary><h4><strong>Hint 3</strong></h4></summary>\n",
    "\n",
    "Subtract the `Year Founded` from the `Date Joined`, and save it to a new column called `Years To Unicorn`.\n",
    "  \n",
    "Ensure you're properly extracting just the year (as an integer) from `Date Joined`.\n",
    "\n",
    "</details>"
   ]
  },
  {
   "cell_type": "markdown",
   "metadata": {
    "id": "fb06c26b-70b7-4b05-9347-6675b8b329d3"
   },
   "source": [
    "**QUESTION: Why might your client be interested in how quickly a company achieved unicorn status?**"
   ]
  },
  {
   "cell_type": "markdown",
   "metadata": {
    "id": "ac6a0172-611e-4a1c-9afd-a39b489cbdee"
   },
   "source": [
    "This can help the company to grow quickly and achieve its goals. Unicorns also have access to more capital. They are able to raise large amounts of money from investors and can use this money to expand their business and hire more staff. Finally, being a unicorn can help a company to attract and retain the best talent."
   ]
  },
  {
   "cell_type": "markdown",
   "metadata": {
    "id": "9fc9ddf1-ece0-40fb-9281-0808c193f5da",
    "tags": []
   },
   "source": [
    "### Input validation\n",
    "\n",
    "The data has some issues with bad data, duplicate rows, and inconsistent `Industry` labels.\n",
    "\n",
    "Identify and correct each of these issues."
   ]
  },
  {
   "cell_type": "markdown",
   "metadata": {
    "id": "db0651e7-36ef-4c10-a3ba-97373167da64",
    "tags": []
   },
   "source": [
    "#### Correcting bad data\n",
    "\n",
    "Get descriptive statistics for the `Years To Unicorn` column."
   ]
  },
  {
   "cell_type": "code",
   "execution_count": 107,
   "metadata": {
    "id": "8b1b2ad0-a668-4290-9404-5a2541955c0d"
   },
   "outputs": [
    {
     "data": {
      "text/plain": [
       "count    1074.000000\n",
       "mean        7.013035\n",
       "std         5.331842\n",
       "min        -3.000000\n",
       "25%         4.000000\n",
       "50%         6.000000\n",
       "75%         9.000000\n",
       "max        98.000000\n",
       "Name: Years To Unicorn, dtype: float64"
      ]
     },
     "execution_count": 107,
     "metadata": {},
     "output_type": "execute_result"
    }
   ],
   "source": [
    "# Identify and correct the issue with Years To Unicorn.\n",
    "\n",
    "### YOUR CODE HERE ###\n",
    "companies['Years To Unicorn'].describe()\n",
    "\n",
    "##There can't be less than 0 years, unrealistic metric.\n"
   ]
  },
  {
   "cell_type": "markdown",
   "metadata": {
    "id": "80974b46-b7f9-4181-a90d-a6fa927a710b"
   },
   "source": [
    "<details>\n",
    "  <summary><h4><strong>Hint 1</strong></h4></summary>\n",
    "\n",
    "Use the `describe()` method on the series. Considering the results, does anything seem problematic?\n",
    "\n",
    "</details>"
   ]
  },
  {
   "cell_type": "markdown",
   "metadata": {
    "id": "7d7e351d-368e-45ab-8e8a-5f1aded15655"
   },
   "source": [
    "<details>\n",
    "  <summary><h4><strong>Hint 2</strong></h4></summary>\n",
    "\n",
    "A company cannot reach unicorn status before it is founded. In other words, `Years to Unicorn` cannot be less than 0.\n",
    "\n",
    "</details>"
   ]
  },
  {
   "cell_type": "markdown",
   "metadata": {},
   "source": [
    "<details>\n",
    "  <summary><h4><strong>Hint 3</strong></h4></summary>\n",
    "\n",
    "Using the `describe()` method on the `Years To Unicorn` series shows that the minimum value is `-3`. Since there cannot be negative time, this value and possibly others are problematic.\n",
    "\n",
    "</details>"
   ]
  },
  {
   "cell_type": "markdown",
   "metadata": {
    "id": "8b325a5a-67d2-4f92-8159-a9f4c21b1779"
   },
   "source": [
    "Isolate all rows where the `Years To Unicorn` column contains a negative value."
   ]
  },
  {
   "cell_type": "code",
   "execution_count": 108,
   "metadata": {
    "id": "b02348fb-dde8-43e7-9368-4d771bf6e5a7"
   },
   "outputs": [
    {
     "data": {
      "text/html": [
       "<div>\n",
       "<style scoped>\n",
       "    .dataframe tbody tr th:only-of-type {\n",
       "        vertical-align: middle;\n",
       "    }\n",
       "\n",
       "    .dataframe tbody tr th {\n",
       "        vertical-align: top;\n",
       "    }\n",
       "\n",
       "    .dataframe thead th {\n",
       "        text-align: right;\n",
       "    }\n",
       "</style>\n",
       "<table border=\"1\" class=\"dataframe\">\n",
       "  <thead>\n",
       "    <tr style=\"text-align: right;\">\n",
       "      <th></th>\n",
       "      <th>Company</th>\n",
       "      <th>Valuation</th>\n",
       "      <th>Date Joined</th>\n",
       "      <th>Industry</th>\n",
       "      <th>City</th>\n",
       "      <th>Country/Region</th>\n",
       "      <th>Continent</th>\n",
       "      <th>Year Founded</th>\n",
       "      <th>Funding</th>\n",
       "      <th>Select Investors</th>\n",
       "      <th>Years To Unicorn</th>\n",
       "    </tr>\n",
       "  </thead>\n",
       "  <tbody>\n",
       "    <tr>\n",
       "      <th>527</th>\n",
       "      <td>InVision</td>\n",
       "      <td>2</td>\n",
       "      <td>2017-11-01</td>\n",
       "      <td>Internet software &amp; services</td>\n",
       "      <td>New York</td>\n",
       "      <td>United States</td>\n",
       "      <td>North America</td>\n",
       "      <td>2020</td>\n",
       "      <td>$349M</td>\n",
       "      <td>FirstMark Capital, Tiger Global Management, IC...</td>\n",
       "      <td>-3</td>\n",
       "    </tr>\n",
       "  </tbody>\n",
       "</table>\n",
       "</div>"
      ],
      "text/plain": [
       "      Company  Valuation Date Joined                      Industry      City  \\\n",
       "527  InVision          2  2017-11-01  Internet software & services  New York   \n",
       "\n",
       "    Country/Region      Continent  Year Founded Funding  \\\n",
       "527  United States  North America          2020   $349M   \n",
       "\n",
       "                                      Select Investors  Years To Unicorn  \n",
       "527  FirstMark Capital, Tiger Global Management, IC...                -3  "
      ]
     },
     "execution_count": 108,
     "metadata": {},
     "output_type": "execute_result"
    }
   ],
   "source": [
    "# Isolate any rows where `Years To Unicorn` is negative\n",
    "companies[companies['Years To Unicorn'] < 0]\n",
    "\n",
    "### YOUR CODE HERE ###"
   ]
  },
  {
   "cell_type": "markdown",
   "metadata": {},
   "source": [
    "**Question: How many rows have negative values in the `Years To Unicorn` column, and what companies are they for?**\n"
   ]
  },
  {
   "cell_type": "markdown",
   "metadata": {},
   "source": [
    "There is only 1 row, which is inVision."
   ]
  },
  {
   "cell_type": "markdown",
   "metadata": {
    "id": "739430f4-97ce-43d4-a982-3f75f3823702"
   },
   "source": [
    "An internet search reveals that InVision was founded in 2011. Replace the value at `Year Founded` with `2011` for InVision's row. "
   ]
  },
  {
   "cell_type": "code",
   "execution_count": 109,
   "metadata": {
    "id": "6b89463a-6426-4797-a62e-b7b26f0b2f3b"
   },
   "outputs": [],
   "source": [
    "# Replace InVision's `Year Founded` value with 2011\n",
    "\n",
    "### YOUR CODE HERE ###\n",
    "companies.iloc[527, 7]= 2011\n"
   ]
  },
  {
   "cell_type": "markdown",
   "metadata": {
    "id": "65909471-2b17-4d8d-b734-6d895029dc7d"
   },
   "source": [
    "<details>\n",
    "  <summary><h4><strong>Hint 1</strong></h4></summary>\n",
    "\n",
    "To overwrite data in a dataframe in a situation like this, you should use `loc[]` or `iloc[]` selection statements. Otherwise, you might overwrite to a view of the dataframe, which means that you're not overwriting the data in the dataframe itself, and the change will not take permanent effect.\n",
    "\n",
    "</details>"
   ]
  },
  {
   "cell_type": "markdown",
   "metadata": {
    "id": "c12d89ac-bcd3-4912-9faf-507b70b4b060"
   },
   "source": [
    "<details>\n",
    "  <summary><h4><strong>Hint 2</strong></h4></summary>\n",
    "\n",
    "The following code will **not** work:\n",
    "    \n",
    "    companies[companies['Company']=='InVision']['Year Founded'] = 2011\n",
    "    \n",
    "You must use either `loc[]` or `iloc[]`.\n",
    "\n",
    "</details>"
   ]
  },
  {
   "cell_type": "markdown",
   "metadata": {
    "id": "121e1b7c-845f-4cee-a973-aebd41411dd2"
   },
   "source": [
    "Now, recalculate all the values in the `Years To Unicorn` column to remove the negative value for InVision. Verify that there are no more negative values afterwards."
   ]
  },
  {
   "cell_type": "code",
   "execution_count": 110,
   "metadata": {
    "id": "0850371d-4cf8-4f06-9e41-b3baa842d86c"
   },
   "outputs": [
    {
     "data": {
      "text/plain": [
       "count    1074.000000\n",
       "mean        7.021415\n",
       "std         5.323155\n",
       "min         0.000000\n",
       "25%         4.000000\n",
       "50%         6.000000\n",
       "75%         9.000000\n",
       "max        98.000000\n",
       "Name: Years To Unicorn, dtype: float64"
      ]
     },
     "execution_count": 110,
     "metadata": {},
     "output_type": "execute_result"
    }
   ],
   "source": [
    "# Recalculate all values in the `Years To Unicorn` column\n",
    "\n",
    "### YOUR CODE HERE ###\n",
    "companies['Years To Unicorn']=pd.to_datetime(companies['Date Joined']).dt.year - companies['Year Founded']\n",
    "\n",
    "# Verify that there are no more negative values in the column\n",
    "\n",
    "### YOUR CODE HERE ###\n",
    "companies['Years To Unicorn'].describe()\n"
   ]
  },
  {
   "cell_type": "markdown",
   "metadata": {
    "id": "0b6edaeb-6561-4201-b2d8-2c11ed8837c1"
   },
   "source": [
    "#### Issues with `Industry` labels\n",
    "\n",
    "The company provided you with the following list of industry labels to identify in the data for `Industry`. \n",
    "\n",
    "**Note:** Any labels in the `Industry` column that are not in `industry_list` are misspellings."
   ]
  },
  {
   "cell_type": "code",
   "execution_count": 111,
   "metadata": {},
   "outputs": [],
   "source": [
    "# List provided by the company of the expected industry labels in the data\n",
    "industry_list = ['Artificial intelligence', 'Other','E-commerce & direct-to-consumer', 'Fintech',\\\n",
    "       'Internet software & services','Supply chain, logistics, & delivery', 'Consumer & retail',\\\n",
    "       'Data management & analytics', 'Edtech', 'Health', 'Hardware','Auto & transportation', \\\n",
    "        'Travel', 'Cybersecurity','Mobile & telecommunications']"
   ]
  },
  {
   "cell_type": "markdown",
   "metadata": {},
   "source": [
    "First, check if there are values in the `Industry` column that are not in `industry_list`. If so, what are they?"
   ]
  },
  {
   "cell_type": "code",
   "execution_count": 112,
   "metadata": {},
   "outputs": [
    {
     "data": {
      "text/plain": [
       "{'Artificial Intelligence', 'Data management and analytics', 'FinTech'}"
      ]
     },
     "execution_count": 112,
     "metadata": {},
     "output_type": "execute_result"
    }
   ],
   "source": [
    "# Check which values are in `Industry` but not in `industry_list`\n",
    "\n",
    "### YOUR CODE HERE ###\n",
    "#companies['Industry'].isin(industry_list).reset_index()\n",
    "\n",
    "#Solution\n",
    "set(companies['Industry'])-set(industry_list)\n"
   ]
  },
  {
   "cell_type": "code",
   "execution_count": 113,
   "metadata": {},
   "outputs": [
    {
     "data": {
      "text/plain": [
       "array(['Artificial intelligence', 'Other',\n",
       "       'E-commerce & direct-to-consumer', 'FinTech', 'Fintech',\n",
       "       'Internet software & services',\n",
       "       'Supply chain, logistics, & delivery', 'Consumer & retail',\n",
       "       'Data management and analytics', 'Edtech', 'Health', 'Hardware',\n",
       "       'Auto & transportation', 'Travel', 'Cybersecurity',\n",
       "       'Mobile & telecommunications', 'Data management & analytics',\n",
       "       'Artificial Intelligence'], dtype=object)"
      ]
     },
     "execution_count": 113,
     "metadata": {},
     "output_type": "execute_result"
    }
   ],
   "source": [
    "companies['Industry'].unique()"
   ]
  },
  {
   "cell_type": "markdown",
   "metadata": {},
   "source": [
    "<details>\n",
    "  <summary><h4><strong>HINT 1</strong></h4></summary>\n",
    "\n",
    "There are many ways to do this. One approach is to consider what data type reduces iterable sequences to their unique elements and allows you to compare membership.\n",
    "\n",
    "</details>"
   ]
  },
  {
   "cell_type": "markdown",
   "metadata": {},
   "source": [
    "<details>\n",
    "  <summary><h4><strong>HINT 2</strong></h4></summary>\n",
    "\n",
    "A set is a data type that consists of unique elements and supports membership testing with other sets.\n",
    "\n",
    "</details>"
   ]
  },
  {
   "cell_type": "markdown",
   "metadata": {},
   "source": [
    "<details>\n",
    "  <summary><h4><strong>HINT 3</strong></h4></summary>\n",
    "\n",
    "Set A &ndash; Set B will result in all the elements that are in Set A but not in Set B. Convert `industry_list` to a set and subtract it from the set of the values in the `Industry` series.\n",
    "\n",
    "</details>"
   ]
  },
  {
   "cell_type": "markdown",
   "metadata": {},
   "source": [
    "**Question: Which values currently exist in the `Industry` column that are not in `industry_list`?**\n"
   ]
  },
  {
   "cell_type": "markdown",
   "metadata": {},
   "source": [
    "The values are 'Artificial Intelligence', 'Data management and analytics' and 'FinTech'."
   ]
  },
  {
   "cell_type": "markdown",
   "metadata": {},
   "source": [
    "Now, correct the bad entries in the `Industry` column by replacing them with an approved string from `industry_list`. To do this, use the [`replace()`](https://pandas.pydata.org/docs/reference/api/pandas.Series.replace.html) `Series` method on the `Industry` series. When you pass a dictionary to the method, it will replace the data in the series where that data matches the dictionary's keys. The values that get imputed are the values of the dictionary. If a value is not specified in the dictionary, the series' original value is retained.\n",
    "</br></br>\n",
    "\n",
    "\n",
    "```\n",
    "Example:\n",
    "\n",
    " [IN]: column_a = pd.Series(['A', 'B', 'C', 'D'])\n",
    "       column_a\n",
    "\n",
    "[OUT]: 0    A\n",
    "       1    B\n",
    "       2    C\n",
    "       3    D\n",
    "       dtype: object\n",
    "\n",
    " [IN]: replacement_dict = {'A':'z', 'B':'y', 'C':'x'}\n",
    "       column_a = column_a.replace(replacement_dict)\n",
    "       column_a\n",
    "       \n",
    "[OUT]: 0    z\n",
    "       1    y\n",
    "       2    x\n",
    "       3    D\n",
    "       dtype: object\n",
    "\n",
    "```\n",
    "\n",
    "1. Create a dictionary called `replacement_dict` whose keys are the incorrect spellings in the `Industry` series and whose values are the correct spelling, as indicated in `industry_list`.\n",
    "\n",
    "2. Call the `replace()` method on the `Industry` series and pass to it `replacement_dict` as its argument. Reassign the result back to the `Industry` column.\n",
    "\n",
    "3. Verify that there are no longer any elements in `Industry` that are not in `industry_list`."
   ]
  },
  {
   "cell_type": "code",
   "execution_count": 114,
   "metadata": {},
   "outputs": [
    {
     "data": {
      "text/plain": [
       "set()"
      ]
     },
     "execution_count": 114,
     "metadata": {},
     "output_type": "execute_result"
    }
   ],
   "source": [
    "# 1. Create `replacement_dict`\n",
    "\n",
    "### YOUR CODE HERE ###\n",
    "column_a = pd.Series(companies['Industry'])\n",
    "replacement_dict = {'Artificial Intelligence':'Artificial intelligence', 'Data management and analytics':'Data management & analytics','Fintech':'Edtech','FinTech':'Edtech'}\n",
    "\n",
    "# 2. Replace the incorrect values in the `Industry` column\n",
    "\n",
    "### YOUR CODE HERE ###\n",
    "companies['Industry']= column_a.replace(replacement_dict)\n",
    "\n",
    "# 3. Verify that there are no longer any elements in `Industry` that are not in `industry_list`\n",
    "set(companies['Industry'])-set(industry_list)\n",
    "\n",
    "### YOUR CODE HERE ###\n"
   ]
  },
  {
   "cell_type": "markdown",
   "metadata": {},
   "source": [
    "<details>\n",
    "  <summary><h4><strong>Hint 1</strong></h4></summary>\n",
    "\n",
    "Refer to the example provided for how to use the `replace()` `Series` method.\n",
    "    \n",
    "</details>"
   ]
  },
  {
   "cell_type": "markdown",
   "metadata": {},
   "source": [
    "<details>\n",
    "  <summary><h4><strong>Hint 2</strong></h4></summary>\n",
    "\n",
    "When you define the `replacement_dict` dictionary, the misspellings should be the keys and the correct spellings should be the values.\n",
    "\n",
    "</details>"
   ]
  },
  {
   "cell_type": "markdown",
   "metadata": {},
   "source": [
    "<details>\n",
    "  <summary><h4><strong>Hint 3</strong></h4></summary>   \n",
    "\n",
    "When you call `replace()` on the `Industry` series and pass to it the `replacement_dict` dictionary as an argument, you must reassign the result back to `companies['Industry']` for the change to take effect.   \n",
    "    \n",
    "</details>"
   ]
  },
  {
   "cell_type": "markdown",
   "metadata": {},
   "source": [
    "#### Handling duplicate rows\n",
    "\n",
    "The business mentioned that no company should appear in the data more than once.\n",
    "\n",
    "Verify that this is indeed the case, and if not, clean the data so each company appears only once.\n",
    "\n",
    "Begin by checking which, if any, companies are duplicated. Filter the data to return all occurrences of those duplicated companies."
   ]
  },
  {
   "cell_type": "code",
   "execution_count": 115,
   "metadata": {},
   "outputs": [
    {
     "data": {
      "text/plain": [
       "0       False\n",
       "1       False\n",
       "2       False\n",
       "3       False\n",
       "4       False\n",
       "        ...  \n",
       "1069    False\n",
       "1070    False\n",
       "1071    False\n",
       "1072    False\n",
       "1073    False\n",
       "Name: Company, Length: 1074, dtype: bool"
      ]
     },
     "execution_count": 115,
     "metadata": {},
     "output_type": "execute_result"
    }
   ],
   "source": [
    "# Isolate rows of all companies that have duplicates\n",
    "\n",
    "\n",
    "### YOUR CODE HERE ###\n",
    "companies['Company'].duplicated()\n"
   ]
  },
  {
   "cell_type": "markdown",
   "metadata": {},
   "source": [
    "<details>\n",
    "  <summary><h4><strong>Hint 1</strong></h4></summary>\n",
    "\n",
    "Check for duplicated values specifically in the `Company` column, not entire rows that are duplicated. \n",
    "    \n",
    "</details>"
   ]
  },
  {
   "cell_type": "markdown",
   "metadata": {},
   "source": [
    "<details>\n",
    "  <summary><h4><strong>Hint 2</strong></h4></summary>\n",
    "\n",
    "The pandas [`duplicated()`](https://pandas.pydata.org/docs/reference/api/pandas.DataFrame.duplicated.html#pandas.DataFrame.duplicated) `DataFrame` method can indentify duplicated rows. Apply it to the `Company` column in `companies` to find which companies appear more than once.\n",
    "    \n",
    "</details>"
   ]
  },
  {
   "cell_type": "markdown",
   "metadata": {},
   "source": [
    "<details>\n",
    "  <summary><h4><strong>Hint 3</strong></h4></summary>\n",
    "\n",
    "* To specify that you want to check for duplicates only in the `Company` column, indicate this with the `subset` parameter.\n",
    "* To return _all_ occurrences of duplicates, set the `keep` parameter to `False`. \n",
    "    \n",
    "</details>"
   ]
  },
  {
   "cell_type": "markdown",
   "metadata": {},
   "source": [
    "**Question: Do these duplicated companies seem like legitimate data points, or are they problematic data?**\n"
   ]
  },
  {
   "cell_type": "markdown",
   "metadata": {},
   "source": [
    "They are problematic, since it will be redundant in terms of the overall data structure itself."
   ]
  },
  {
   "cell_type": "markdown",
   "metadata": {},
   "source": [
    "Keep the first occurrence of each duplicate company and drop the subsequent rows that are copies."
   ]
  },
  {
   "cell_type": "code",
   "execution_count": 116,
   "metadata": {},
   "outputs": [
    {
     "data": {
      "text/plain": [
       "0         Bytedance\n",
       "1            SpaceX\n",
       "2             SHEIN\n",
       "3            Stripe\n",
       "4            Klarna\n",
       "           ...     \n",
       "1069       Zhaogang\n",
       "1070    Zhuan Zhuan\n",
       "1071       Zihaiguo\n",
       "1072           Zopa\n",
       "1073          Zwift\n",
       "Name: Company, Length: 1074, dtype: object"
      ]
     },
     "execution_count": 116,
     "metadata": {},
     "output_type": "execute_result"
    }
   ],
   "source": [
    "# Drop rows of duplicate companies after their first occurrence\n",
    "\n",
    "### YOUR CODE HERE ###\n",
    "companies['Company'] = companies['Company'].drop_duplicates()\n",
    "companies['Company']\n"
   ]
  },
  {
   "cell_type": "markdown",
   "metadata": {},
   "source": [
    "<details>\n",
    "  <summary><h4><strong>Hint 1</strong></h4></summary>\n",
    "\n",
    "Use the [`drop_duplicates()`](https://pandas.pydata.org/docs/reference/api/pandas.DataFrame.drop_duplicates.html) `DataFrame` method. \n",
    "    \n",
    "</details>"
   ]
  },
  {
   "cell_type": "markdown",
   "metadata": {},
   "source": [
    "<details>\n",
    "  <summary><h4><strong>Hint 2</strong></h4></summary>\n",
    "\n",
    "Make sure to subset `Company` and reassign the results back to the `companies` dataframe for the changes to take effect.\n",
    "    \n",
    "</details>"
   ]
  },
  {
   "cell_type": "markdown",
   "metadata": {},
   "source": [
    "**Question: Why is it important to perform input validation?**\n"
   ]
  },
  {
   "cell_type": "markdown",
   "metadata": {},
   "source": [
    "To ensure that data input from users is of the right type and appropriate, it needs to be validated. "
   ]
  },
  {
   "cell_type": "markdown",
   "metadata": {},
   "source": [
    "**Question: What steps did you take to perform input validation for this dataset?**\n"
   ]
  },
  {
   "cell_type": "markdown",
   "metadata": {},
   "source": [
    "*To begin, a sample of data is determined. This is useful when the data set is massive, because it is easier to validate a part rather than the whole set. The volume of the sample needs to be in accordance with the size of the data set and an acceptable error rate must be defined before the process is initiated.\n",
    "\n",
    "*Next, the dataset needs to be validated to confirm it contains all the required data.\n",
    "\n",
    "*Finally, the source data’s value, structure, format etc. is matched with the schema of the destination. The data is checked for redundant, incomplete, inconsistent, or incorrect values as well."
   ]
  },
  {
   "cell_type": "markdown",
   "metadata": {
    "id": "w_HtFyHrXVAc"
   },
   "source": [
    "### Convert numerical data to categorical data\n",
    "\n",
    "Sometimes, you'll want to simplify a numeric column by converting it to a categorical column. To do this, one common approach is to break the range of possible values into a defined number of equally sized bins and assign each bin a name. In the next step, you'll practice this process."
   ]
  },
  {
   "cell_type": "markdown",
   "metadata": {
    "id": "3c03f2b7-8262-4ea5-94dd-53ee5f219cc7"
   },
   "source": [
    "#### Create a `High Valuation` column\n",
    "\n",
    "The data in the `Valuation` column represents how much money (in billions, USD) each company is valued at. Use the `Valuation` column to create a new column called `High Valuation`. For each company, the value in this column should be `low` if the company is in the bottom 50% of company valuations and `high` if the company is in the top 50%."
   ]
  },
  {
   "cell_type": "code",
   "execution_count": 117,
   "metadata": {
    "id": "646aaace-82a5-4b73-822a-27475822de4a"
   },
   "outputs": [
    {
     "data": {
      "text/plain": [
       "low     720\n",
       "high    354\n",
       "Name: High Valuation, dtype: int64"
      ]
     },
     "execution_count": 117,
     "metadata": {},
     "output_type": "execute_result"
    }
   ],
   "source": [
    "# Create new `High Valuation` column\n",
    "# Use qcut to divide Valuation into 'high' and 'low' Valuation groups\n",
    "\n",
    "companies['High Valuation'] =pd.qcut(companies['Valuation'],q=[0,0.5,1],labels= ['low','high'])\n",
    "\n",
    "### YOUR CODE HERE ###\n",
    "companies['High Valuation'].value_counts()\n",
    "\n"
   ]
  },
  {
   "cell_type": "markdown",
   "metadata": {
    "id": "3f610ee9-ef9d-4451-8667-edc8b4d803b9"
   },
   "source": [
    "<details>\n",
    "  <summary><h4><strong>Hint 1</strong></h4></summary>\n",
    "\n",
    "There are multiple ways to complete this task. Review what you've learned about organizing data into equal quantiles.\n",
    "    \n",
    "</details>"
   ]
  },
  {
   "cell_type": "markdown",
   "metadata": {
    "id": "97caea9d-0d55-45ba-be01-d90260610d95"
   },
   "source": [
    "<details>\n",
    "  <summary><h4><strong>Hint 2</strong></h4></summary>\n",
    "\n",
    "Consider using the pandas [`qcut()`](https://pandas.pydata.org/docs/reference/api/pandas.qcut.html) function. \n",
    "    \n",
    "</details>"
   ]
  },
  {
   "cell_type": "markdown",
   "metadata": {
    "id": "a606f612-aa34-46e3-b39f-c6f39b7e5dbd"
   },
   "source": [
    "<details>\n",
    "  <summary><h4><strong>Hint 3</strong></h4></summary>\n",
    "\n",
    "Use `pandas` `qcut()` to divide the data into two equal-sized quantile buckets. Use the `labels` parameter to define the output labels. The values you give for `labels` will be the values that are inserted into the new column. \n",
    "    \n",
    "</details>"
   ]
  },
  {
   "cell_type": "markdown",
   "metadata": {
    "id": "6f5107f1-3694-4296-b857-b1e44ce2b09b"
   },
   "source": [
    "### Convert categorical data to numerical data\n",
    "\n",
    "Three common methods for changing categorical data to numerical are:\n",
    "\n",
    "1. Label encoding: order matters (ordinal numeric labels)\n",
    "2. Label encoding: order doesn't matter (nominal numeric labels)\n",
    "3. Dummy encoding: order doesn't matter (creation of binary columns for each possible category contained in the variable)\n",
    "\n",
    "The decision on which method to use depends on the context and must be made on a case-to-case basis. However, a distinction is typically made between categorical variables with equal weight given to all possible categories vs. variables with a hierarchical structure of importance to their possible categories.  \n",
    "\n",
    "For example, a variable called `subject` might have possible values of `history`, `mathematics`, `literature`. In this case, each subject might be **nominal**&mdash;given the same level of importance. However, you might have another variable called `class`, whose possible values are `freshman`, `sophomore`, `junior`, `senior`. In this case, the class variable is **ordinal**&mdash;its values have an ordered, hierarchical structure of importance. \n",
    "\n",
    "Machine learning models typically need all data to be numeric, and they generally use ordinal label encoding (method 1) and dummy encoding (method 3). \n",
    "\n",
    "In the next steps, you'll convert the following variables: `Continent`, `Country/Region`, and `Industry`, each using a different approach."
   ]
  },
  {
   "cell_type": "markdown",
   "metadata": {},
   "source": [
    "### Convert `Continent` to numeric\n",
    "\n",
    "For the purposes of this exercise, suppose that the investment group has specified that they want to give more weight to continents with fewer unicorn companies because they believe this could indicate unrealized market potential. "
   ]
  },
  {
   "cell_type": "code",
   "execution_count": 118,
   "metadata": {},
   "outputs": [
    {
     "data": {
      "text/plain": [
       "0                Asia\n",
       "1       North America\n",
       "2                Asia\n",
       "3       North America\n",
       "4              Europe\n",
       "            ...      \n",
       "1069             Asia\n",
       "1070             Asia\n",
       "1071             Asia\n",
       "1072           Europe\n",
       "1073    North America\n",
       "Name: Continent, Length: 1074, dtype: object"
      ]
     },
     "execution_count": 118,
     "metadata": {},
     "output_type": "execute_result"
    }
   ],
   "source": [
    "companies['Continent']"
   ]
  },
  {
   "cell_type": "markdown",
   "metadata": {},
   "source": [
    "**Question: Which type of variable would this make the `Continent` variable in terms of how it would be converted to a numeric data type?**\n"
   ]
  },
  {
   "cell_type": "markdown",
   "metadata": {},
   "source": [
    "We categorize them for each Continent as labels 0,1,2 etc. in terms of labelling."
   ]
  },
  {
   "cell_type": "markdown",
   "metadata": {},
   "source": [
    "Rank the continents in descending order from the greatest number of unicorn companies to the least."
   ]
  },
  {
   "cell_type": "code",
   "execution_count": 119,
   "metadata": {
    "id": "bbd72ed4-5cac-41f7-a816-3a4d28e34eb4"
   },
   "outputs": [
    {
     "data": {
      "text/plain": [
       "North America    588\n",
       "Asia             310\n",
       "Europe           144\n",
       "South America     21\n",
       "Oceania            8\n",
       "Africa             3\n",
       "Name: Continent, dtype: int64"
      ]
     },
     "execution_count": 119,
     "metadata": {},
     "output_type": "execute_result"
    }
   ],
   "source": [
    "# Rank the continents by number of unicorn companies\n",
    "companies['Continent'].value_counts()\n",
    "### YOUR CODE HERE ###"
   ]
  },
  {
   "cell_type": "markdown",
   "metadata": {
    "id": "34f1f513-2d9f-4da7-b884-6a6714b7652e"
   },
   "source": [
    "<details>\n",
    "  <summary><h4><strong>Hint</strong></h4></summary>\n",
    "\n",
    "Use the `value_counts()` method on the `Continent` series.\n",
    "    \n",
    "</details>"
   ]
  },
  {
   "cell_type": "markdown",
   "metadata": {
    "id": "2c95b77d-7cda-46ba-975f-8632aaa6158d",
    "tags": []
   },
   "source": [
    "Now, create a new column called `Continent Number` that represents the `Continent` column converted to numeric in the order of their number of unicorn companies, where North America is encoded as `1`, through Africa, encoded as `6`."
   ]
  },
  {
   "cell_type": "code",
   "execution_count": 120,
   "metadata": {
    "id": "c3bd716a-7845-4c3c-988c-3b227c10e036"
   },
   "outputs": [],
   "source": [
    "# Create numeric `Continent Number` column\n",
    "\n",
    "### YOUR CODE HERE ###\n",
    "column_a = pd.Series(companies['Company'])\n",
    "replacement_dict = {'North America':1, 'Asia':2,'Europe':3,'South America': 4, 'Oceania':5,'Africa':6}\n",
    "companies['Continent Number']= column_a.replace(replacement_dict)"
   ]
  },
  {
   "cell_type": "markdown",
   "metadata": {
    "id": "ce4eb04d-d2d3-454c-a273-0815b1d1a95a"
   },
   "source": [
    "<details>\n",
    "  <summary><h4><strong>Hint </strong></h4></summary>\n",
    "\n",
    "Create a mapping dictionary and use the `replace()` method on the `Category` column. Refer to the example provided above for more information about `replace()`.\n",
    "    \n",
    "</details>"
   ]
  },
  {
   "cell_type": "markdown",
   "metadata": {},
   "source": [
    "### Convert `Country/Region` to numeric\n",
    "\n",
    "Now, suppose that within a given continent, each company's `Country/Region` is given equal importance. For analytical purposes, you want to convert the values in this column to numeric without creating a large number of dummy columns. Use label encoding of this nominal categorical variable to create a new column called `Country/Region Numeric`, wherein each unique `Country/Region` is assigned its own number. "
   ]
  },
  {
   "cell_type": "code",
   "execution_count": 121,
   "metadata": {},
   "outputs": [
    {
     "data": {
      "text/plain": [
       "United States           561\n",
       "China                   173\n",
       "India                    65\n",
       "United Kingdom           43\n",
       "Germany                  26\n",
       "France                   24\n",
       "Israel                   20\n",
       "Canada                   19\n",
       "Brazil                   16\n",
       "Singapore                12\n",
       "South Korea              12\n",
       "Australia                 8\n",
       "Hong Kong                 6\n",
       "Mexico                    6\n",
       "Indonesia                 6\n",
       "Netherlands               6\n",
       "Sweden                    6\n",
       "Switzerland               5\n",
       "Japan                     5\n",
       "Ireland                   5\n",
       "Finland                   4\n",
       "Norway                    4\n",
       "Turkey                    3\n",
       "United Arab Emirates      3\n",
       "Spain                     3\n",
       "Belgium                   3\n",
       "Chile                     2\n",
       "South Africa              2\n",
       "Philippines               2\n",
       "Thailand                  2\n",
       "Estonia                   2\n",
       "Vietnam                   2\n",
       "Austria                   2\n",
       "Colombia                  2\n",
       "Denmark                   2\n",
       "UnitedKingdom             1\n",
       "Argentina                 1\n",
       "Bermuda                   1\n",
       "Lithuania                 1\n",
       "Malaysia                  1\n",
       "Senegal                   1\n",
       "Bahamas                   1\n",
       "Luxembourg                1\n",
       "Nigeria                   1\n",
       "Czech Republic            1\n",
       "Croatia                   1\n",
       "Italy                     1\n",
       "Name: Country/Region, dtype: int64"
      ]
     },
     "execution_count": 121,
     "metadata": {},
     "output_type": "execute_result"
    }
   ],
   "source": [
    "# Create `Country/Region Numeric` column\n",
    "# Create numeric categories for Country/Region\n",
    "companies['Country/Region'].value_counts()\n",
    "### YOUR CODE HERE ###\n"
   ]
  },
  {
   "cell_type": "code",
   "execution_count": 122,
   "metadata": {},
   "outputs": [
    {
     "data": {
      "text/plain": [
       "0        9\n",
       "1       44\n",
       "2        9\n",
       "3       44\n",
       "4       38\n",
       "        ..\n",
       "1069     9\n",
       "1070     9\n",
       "1071     9\n",
       "1072    43\n",
       "1073    44\n",
       "Name: Country/Region Numeric, Length: 1074, dtype: int8"
      ]
     },
     "execution_count": 122,
     "metadata": {},
     "output_type": "execute_result"
    }
   ],
   "source": [
    "companies['Country/Region Numeric'] = companies['Country/Region'].astype('category').cat.codes\n",
    "companies['Country/Region Numeric']"
   ]
  },
  {
   "cell_type": "markdown",
   "metadata": {},
   "source": [
    "<details>\n",
    "  <summary><h4><strong>Hint 1</strong></h4></summary>\n",
    "\n",
    "Review what you have learned about converting a variable with a string/object data type to a category.\n",
    "    \n",
    "</details>"
   ]
  },
  {
   "cell_type": "markdown",
   "metadata": {},
   "source": [
    "<details>\n",
    "  <summary><h4><strong>Hint 2</strong></h4></summary>\n",
    "\n",
    "To use label encoding, apply `.astype('category').cat.codes` to the `Country/Region` in `companies`.\n",
    "    \n",
    "</details>"
   ]
  },
  {
   "cell_type": "markdown",
   "metadata": {
    "id": "2eeff065-469f-4a43-bf2a-87920c4d7bc0"
   },
   "source": [
    "### Convert `Industry` to numeric\n",
    "\n",
    "Finally, create dummy variables for the values in the `Industry` column. "
   ]
  },
  {
   "cell_type": "code",
   "execution_count": 123,
   "metadata": {
    "id": "4bca4703-9f76-4b59-bc5e-df0097e44b4a"
   },
   "outputs": [
    {
     "data": {
      "text/plain": [
       "0        0\n",
       "1       11\n",
       "2        5\n",
       "3        6\n",
       "4        6\n",
       "        ..\n",
       "1069     5\n",
       "1070     5\n",
       "1071     2\n",
       "1072     6\n",
       "1073     5\n",
       "Name: Industry Numeric, Length: 1074, dtype: int8"
      ]
     },
     "execution_count": 123,
     "metadata": {},
     "output_type": "execute_result"
    }
   ],
   "source": [
    "# Convert `Industry` to numeric data\n",
    "# Create dummy variables with Industry values\n",
    "\n",
    "### YOUR CODE HERE ###\n",
    "companies['Industry Numeric'] = companies['Industry'].astype('category').cat.codes\n",
    "companies['Industry Numeric']\n",
    "\n",
    "# Combine `companies` DataFrame with new dummy Industry columns\n",
    "\n",
    "### YOUR CODE HERE ###\n"
   ]
  },
  {
   "cell_type": "code",
   "execution_count": 124,
   "metadata": {},
   "outputs": [
    {
     "data": {
      "text/plain": [
       "Edtech                                 251\n",
       "Internet software & services           204\n",
       "E-commerce & direct-to-consumer        111\n",
       "Artificial intelligence                 83\n",
       "Health                                  75\n",
       "Other                                   59\n",
       "Supply chain, logistics, & delivery     57\n",
       "Cybersecurity                           50\n",
       "Data management & analytics             41\n",
       "Mobile & telecommunications             38\n",
       "Hardware                                34\n",
       "Auto & transportation                   31\n",
       "Consumer & retail                       26\n",
       "Travel                                  14\n",
       "Name: Industry, dtype: int64"
      ]
     },
     "execution_count": 124,
     "metadata": {},
     "output_type": "execute_result"
    }
   ],
   "source": [
    "companies['Industry'].value_counts()"
   ]
  },
  {
   "cell_type": "markdown",
   "metadata": {},
   "source": [
    "Display the first few rows of `companies`"
   ]
  },
  {
   "cell_type": "code",
   "execution_count": 125,
   "metadata": {},
   "outputs": [
    {
     "data": {
      "text/html": [
       "<div>\n",
       "<style scoped>\n",
       "    .dataframe tbody tr th:only-of-type {\n",
       "        vertical-align: middle;\n",
       "    }\n",
       "\n",
       "    .dataframe tbody tr th {\n",
       "        vertical-align: top;\n",
       "    }\n",
       "\n",
       "    .dataframe thead th {\n",
       "        text-align: right;\n",
       "    }\n",
       "</style>\n",
       "<table border=\"1\" class=\"dataframe\">\n",
       "  <thead>\n",
       "    <tr style=\"text-align: right;\">\n",
       "      <th></th>\n",
       "      <th>Company</th>\n",
       "      <th>Valuation</th>\n",
       "      <th>Date Joined</th>\n",
       "      <th>Industry</th>\n",
       "      <th>City</th>\n",
       "      <th>Country/Region</th>\n",
       "      <th>Continent</th>\n",
       "      <th>Year Founded</th>\n",
       "      <th>Funding</th>\n",
       "      <th>Select Investors</th>\n",
       "      <th>Years To Unicorn</th>\n",
       "      <th>High Valuation</th>\n",
       "      <th>Continent Number</th>\n",
       "      <th>Country/Region Numeric</th>\n",
       "      <th>Industry Numeric</th>\n",
       "    </tr>\n",
       "  </thead>\n",
       "  <tbody>\n",
       "    <tr>\n",
       "      <th>0</th>\n",
       "      <td>Bytedance</td>\n",
       "      <td>180</td>\n",
       "      <td>2017-04-07</td>\n",
       "      <td>Artificial intelligence</td>\n",
       "      <td>Beijing</td>\n",
       "      <td>China</td>\n",
       "      <td>Asia</td>\n",
       "      <td>2012</td>\n",
       "      <td>$8B</td>\n",
       "      <td>Sequoia Capital China, SIG Asia Investments, S...</td>\n",
       "      <td>5</td>\n",
       "      <td>high</td>\n",
       "      <td>Bytedance</td>\n",
       "      <td>9</td>\n",
       "      <td>0</td>\n",
       "    </tr>\n",
       "    <tr>\n",
       "      <th>1</th>\n",
       "      <td>SpaceX</td>\n",
       "      <td>100</td>\n",
       "      <td>2012-12-01</td>\n",
       "      <td>Other</td>\n",
       "      <td>Hawthorne</td>\n",
       "      <td>United States</td>\n",
       "      <td>North America</td>\n",
       "      <td>2002</td>\n",
       "      <td>$7B</td>\n",
       "      <td>Founders Fund, Draper Fisher Jurvetson, Rothen...</td>\n",
       "      <td>10</td>\n",
       "      <td>high</td>\n",
       "      <td>SpaceX</td>\n",
       "      <td>44</td>\n",
       "      <td>11</td>\n",
       "    </tr>\n",
       "    <tr>\n",
       "      <th>2</th>\n",
       "      <td>SHEIN</td>\n",
       "      <td>100</td>\n",
       "      <td>2018-07-03</td>\n",
       "      <td>E-commerce &amp; direct-to-consumer</td>\n",
       "      <td>Shenzhen</td>\n",
       "      <td>China</td>\n",
       "      <td>Asia</td>\n",
       "      <td>2008</td>\n",
       "      <td>$2B</td>\n",
       "      <td>Tiger Global Management, Sequoia Capital China...</td>\n",
       "      <td>10</td>\n",
       "      <td>high</td>\n",
       "      <td>SHEIN</td>\n",
       "      <td>9</td>\n",
       "      <td>5</td>\n",
       "    </tr>\n",
       "    <tr>\n",
       "      <th>3</th>\n",
       "      <td>Stripe</td>\n",
       "      <td>95</td>\n",
       "      <td>2014-01-23</td>\n",
       "      <td>Edtech</td>\n",
       "      <td>San Francisco</td>\n",
       "      <td>United States</td>\n",
       "      <td>North America</td>\n",
       "      <td>2010</td>\n",
       "      <td>$2B</td>\n",
       "      <td>Khosla Ventures, LowercaseCapital, capitalG</td>\n",
       "      <td>4</td>\n",
       "      <td>high</td>\n",
       "      <td>Stripe</td>\n",
       "      <td>44</td>\n",
       "      <td>6</td>\n",
       "    </tr>\n",
       "    <tr>\n",
       "      <th>4</th>\n",
       "      <td>Klarna</td>\n",
       "      <td>46</td>\n",
       "      <td>2011-12-12</td>\n",
       "      <td>Edtech</td>\n",
       "      <td>Stockholm</td>\n",
       "      <td>Sweden</td>\n",
       "      <td>Europe</td>\n",
       "      <td>2005</td>\n",
       "      <td>$4B</td>\n",
       "      <td>Institutional Venture Partners, Sequoia Capita...</td>\n",
       "      <td>6</td>\n",
       "      <td>high</td>\n",
       "      <td>Klarna</td>\n",
       "      <td>38</td>\n",
       "      <td>6</td>\n",
       "    </tr>\n",
       "  </tbody>\n",
       "</table>\n",
       "</div>"
      ],
      "text/plain": [
       "     Company  Valuation Date Joined                         Industry  \\\n",
       "0  Bytedance        180  2017-04-07          Artificial intelligence   \n",
       "1     SpaceX        100  2012-12-01                            Other   \n",
       "2      SHEIN        100  2018-07-03  E-commerce & direct-to-consumer   \n",
       "3     Stripe         95  2014-01-23                           Edtech   \n",
       "4     Klarna         46  2011-12-12                           Edtech   \n",
       "\n",
       "            City Country/Region      Continent  Year Founded Funding  \\\n",
       "0        Beijing          China           Asia          2012     $8B   \n",
       "1      Hawthorne  United States  North America          2002     $7B   \n",
       "2       Shenzhen          China           Asia          2008     $2B   \n",
       "3  San Francisco  United States  North America          2010     $2B   \n",
       "4      Stockholm         Sweden         Europe          2005     $4B   \n",
       "\n",
       "                                    Select Investors  Years To Unicorn  \\\n",
       "0  Sequoia Capital China, SIG Asia Investments, S...                 5   \n",
       "1  Founders Fund, Draper Fisher Jurvetson, Rothen...                10   \n",
       "2  Tiger Global Management, Sequoia Capital China...                10   \n",
       "3        Khosla Ventures, LowercaseCapital, capitalG                 4   \n",
       "4  Institutional Venture Partners, Sequoia Capita...                 6   \n",
       "\n",
       "  High Valuation Continent Number  Country/Region Numeric  Industry Numeric  \n",
       "0           high        Bytedance                       9                 0  \n",
       "1           high           SpaceX                      44                11  \n",
       "2           high            SHEIN                       9                 5  \n",
       "3           high           Stripe                      44                 6  \n",
       "4           high           Klarna                      38                 6  "
      ]
     },
     "execution_count": 125,
     "metadata": {},
     "output_type": "execute_result"
    }
   ],
   "source": [
    "### YOUR CODE HERE ###\n",
    "companies.head()"
   ]
  },
  {
   "cell_type": "markdown",
   "metadata": {
    "id": "adc26824-609c-4a9b-a5d7-c3abfb5258e1"
   },
   "source": [
    "<details>\n",
    "  <summary><h4><strong>Hint 1</strong></h4></summary>\n",
    "\n",
    "Consider using `pd.get_dummies` on the specified column. \n",
    "    \n",
    "</details>"
   ]
  },
  {
   "cell_type": "markdown",
   "metadata": {
    "id": "5f2bf2c6-fc4b-4d5f-b985-dd8fe5a7d87d"
   },
   "source": [
    "<details>\n",
    "  <summary><h4><strong>Hint 2</strong></h4></summary>\n",
    "\n",
    "When you call `pd.get_dummies()` on a specified series, it will return a dataframe consisting of each possible category contained in the series represented as its own binary column. You'll then have to combine this new dataframe of binary columns with the existing `companies` dataframe.\n",
    "    \n",
    "</details>"
   ]
  },
  {
   "cell_type": "markdown",
   "metadata": {
    "id": "fa14d383-ff64-4249-b51b-8026618a4571"
   },
   "source": [
    "<details>\n",
    "  <summary><h4><strong>Hint 3</strong></h4></summary>\n",
    "\n",
    "You can use `pd.concat([col_a, col_b])` to combine the two dataframes. Remember to specify the correct axis of concatenation and to reassign the result back to the `companies` dataframe.\n",
    "    \n",
    "</details>"
   ]
  },
  {
   "cell_type": "markdown",
   "metadata": {
    "id": "f7edb136-45f0-4ff1-84d7-ff6bcc29dd43"
   },
   "source": [
    "**Question: Which categorical encoding approach did you use for each variable? Why?**"
   ]
  },
  {
   "cell_type": "markdown",
   "metadata": {
    "id": "qNl-29W8ejOX"
   },
   "source": [
    "One hot encoding it allows categorical variables to be included in mathematical equations."
   ]
  },
  {
   "cell_type": "markdown",
   "metadata": {},
   "source": [
    "**Question: How does label encoding change the data?**\n"
   ]
  },
  {
   "cell_type": "markdown",
   "metadata": {},
   "source": [
    "In this encoding technique, each unique category is assigned a unique integer, effectively converting categorical data into numerical values"
   ]
  },
  {
   "cell_type": "markdown",
   "metadata": {},
   "source": [
    "**Question: What are the benefits of label encoding?**\n"
   ]
  },
  {
   "cell_type": "markdown",
   "metadata": {},
   "source": [
    "Label Encoding makes it possible for algorithms to interpret and comprehend the data by giving each category within a variable a distinct number."
   ]
  },
  {
   "cell_type": "markdown",
   "metadata": {},
   "source": [
    "**Question: What are the disadvantages of label encoding?**\n"
   ]
  },
  {
   "cell_type": "markdown",
   "metadata": {},
   "source": [
    "Not Suitable for High Cardinality: When dealing with categorical features with a high number of unique categories, label encoding can lead to a significant increase in dimensionality. This can negatively impact model performance and increase the risk of overfitting."
   ]
  },
  {
   "cell_type": "markdown",
   "metadata": {
    "id": "c38f5e8d-89fa-4eaf-acd3-4841583e427c",
    "tags": []
   },
   "source": [
    "## Conclusion\n",
    "\n",
    "**What are some key takeaways that you learned during this lab?**"
   ]
  },
  {
   "cell_type": "markdown",
   "metadata": {},
   "source": [
    "It is important to clean and validate your data in the analysis to ensure that your data is accurate, consistent, and relevant for your analysis and decision making."
   ]
  },
  {
   "cell_type": "markdown",
   "metadata": {
    "id": "R9sAADZgr-YI"
   },
   "source": [
    "**Reference**\n",
    "\n",
    "[Bhat, M.A. *Unicorn Companies*](https://www.kaggle.com/datasets/mysarahmadbhat/unicorn-companies)\n",
    "\n"
   ]
  },
  {
   "cell_type": "markdown",
   "metadata": {},
   "source": [
    "**Congratulations!** You've completed this lab. However, you may not notice a green check mark next to this item on Coursera's platform. Please continue your progress regardless of the check mark. Just click on the \"save\" icon at the top of this notebook to ensure your work has been logged."
   ]
  }
 ],
 "metadata": {
  "colab": {
   "collapsed_sections": [],
   "provenance": []
  },
  "kernelspec": {
   "display_name": "Python 3",
   "language": "python",
   "name": "python3"
  },
  "language_info": {
   "codemirror_mode": {
    "name": "ipython",
    "version": 3
   },
   "file_extension": ".py",
   "mimetype": "text/x-python",
   "name": "python",
   "nbconvert_exporter": "python",
   "pygments_lexer": "ipython3",
   "version": "3.7.6"
  },
  "toc-autonumbering": false,
  "toc-showtags": false
 },
 "nbformat": 4,
 "nbformat_minor": 5
}
