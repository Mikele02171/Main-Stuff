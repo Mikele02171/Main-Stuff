{
  "cells": [
    {
      "cell_type": "code",
      "source": [
        "using JuMP\n",
        "using Clp\n",
        "model = Model(Clp.Optimizer)\n",
        "@variable(model, x1>=0)\n",
        "@variable(model, x2>=0)\n",
        "@variable(model, x3>=0)\n",
        "@variable(model, x4>=0)\n",
        "@constraint(model, -x1 + x2 + x3 + 3*x4 >= 1)\n",
        "@constraint(model, x1 - x2 + 2*x3 + x4 >= 1)\n",
        "@objective(model,Min,2*x1+4*x2+10*x3+15*x4) \n",
        "optimize!(model)"
      ],
      "outputs": [
        {
          "output_type": "stream",
          "name": "stdout",
          "text": [
            "Coin0506I Presolve 2 (0) rows, 4 (0) columns and 8 (0) elements\n",
            "Clp0006I 0  Obj 0 Primal inf 0.83333313 (2)\n",
            "Clp0006I 3  Obj 7\n",
            "Clp0000I Optimal - objective value 7\n",
            "Clp0032I Optimal objective 7 - 3 iterations time 0.002\n"
          ]
        }
      ],
      "execution_count": 12,
      "metadata": {
        "collapsed": true,
        "jupyter": {
          "source_hidden": false,
          "outputs_hidden": false
        },
        "nteract": {
          "transient": {
            "deleting": false
          }
        },
        "execution": {
          "iopub.status.busy": "2020-09-19T07:50:25.561Z",
          "iopub.execute_input": "2020-09-19T07:50:25.565Z",
          "iopub.status.idle": "2020-09-19T07:50:25.571Z"
        }
      }
    },
    {
      "cell_type": "code",
      "source": [
        "\n",
        "\n"
      ],
      "outputs": [
        {
          "output_type": "execute_result",
          "execution_count": 2,
          "data": {
            "text/plain": "x4",
            "text/latex": "$$ x4 $$"
          },
          "metadata": {}
        }
      ],
      "execution_count": 2,
      "metadata": {
        "collapsed": true,
        "jupyter": {
          "source_hidden": false,
          "outputs_hidden": false
        },
        "nteract": {
          "transient": {
            "deleting": false
          }
        },
        "execution": {
          "iopub.status.busy": "2020-09-19T07:44:20.996Z",
          "iopub.execute_input": "2020-09-19T07:44:21.993Z",
          "iopub.status.idle": "2020-09-19T07:44:23.775Z"
        }
      }
    },
    {
      "cell_type": "code",
      "source": [],
      "outputs": [],
      "execution_count": null,
      "metadata": {
        "collapsed": true,
        "jupyter": {
          "source_hidden": false,
          "outputs_hidden": false
        },
        "nteract": {
          "transient": {
            "deleting": false
          }
        }
      }
    }
  ],
  "metadata": {
    "kernel_info": {
      "name": "julia-1.0"
    },
    "language_info": {
      "file_extension": ".jl",
      "name": "julia",
      "mimetype": "application/julia",
      "version": "1.0.5"
    },
    "kernelspec": {
      "argv": [
        "/Applications/JuliaPro-1.0.5-2.app/Contents/Resources/julia/Contents/Resources/julia/bin/julia",
        "-i",
        "--startup-file=yes",
        "--color=yes",
        "--project=@.",
        "/Users/acosta/.juliapro/JuliaPro_v1.0.5-2/packages/IJulia/fRegO/src/kernel.jl",
        "{connection_file}"
      ],
      "display_name": "Julia 1.0.5",
      "env": {},
      "interrupt_mode": "signal",
      "language": "julia",
      "name": "julia-1.0"
    },
    "nteract": {
      "version": "0.25.0"
    }
  },
  "nbformat": 4,
  "nbformat_minor": 0
}