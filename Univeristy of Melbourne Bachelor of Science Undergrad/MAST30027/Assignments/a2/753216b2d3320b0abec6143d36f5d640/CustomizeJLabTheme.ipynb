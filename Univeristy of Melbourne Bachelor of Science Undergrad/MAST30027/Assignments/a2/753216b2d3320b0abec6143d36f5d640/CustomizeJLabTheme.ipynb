{
 "cells": [
  {
   "cell_type": "markdown",
   "metadata": {},
   "source": [
    "# Modifying a JupyterLab theme\n",
    "\n",
    "Suppose you want to modify the colors and other styles for a particular JupyterLab theme (which we'll call the \"base theme\").\n",
    "\n",
    "Download the `variables.css` file from the base theme into the same directory as this notebook. For example, for the stock dark theme, download https://github.com/jupyterlab/jupyterlab/blob/master/packages/theme-dark-extension/style/variables.css by clicking on the \"Raw\" button and saving the resulting page.\n",
    "\n",
    "To change some parameters in the theme:\n",
    "1. Change the JupyterLab theme to the base theme using the Settings menu.\n",
    "2. Open the `variables.css` you downloaded above and modify whatever parameters you want. You can do this editing in JupyterLab or in a separate editor.\n",
    "3. Run the following code cell to read in the `variables.css` file and apply the changes.\n",
    "\n",
    "Your changes are applied every time you run or rerun the cell below (saving the `variables.css` file alone will not apply your changes).\n",
    "\n",
    "Your customizations are contained in a cell output of this notebook. Clearing outputs in this notebook will remove your customizations and revert back to the base theme."
   ]
  },
  {
   "cell_type": "code",
   "execution_count": 1,
   "metadata": {},
   "outputs": [
    {
     "ename": "FileNotFoundError",
     "evalue": "[Errno 2] No such file or directory: 'variables.css'",
     "output_type": "error",
     "traceback": [
      "\u001b[0;31m---------------------------------------------------------------------------\u001b[0m",
      "\u001b[0;31mFileNotFoundError\u001b[0m                         Traceback (most recent call last)",
      "\u001b[0;32m<ipython-input-1-70d1f30c5baf>\u001b[0m in \u001b[0;36m<module>\u001b[0;34m\u001b[0m\n\u001b[1;32m      1\u001b[0m \u001b[0;32mfrom\u001b[0m \u001b[0mIPython\u001b[0m\u001b[0;34m.\u001b[0m\u001b[0mdisplay\u001b[0m \u001b[0;32mimport\u001b[0m \u001b[0mdisplay\u001b[0m\u001b[0;34m,\u001b[0m \u001b[0mHTML\u001b[0m\u001b[0;34m\u001b[0m\u001b[0;34m\u001b[0m\u001b[0m\n\u001b[0;32m----> 2\u001b[0;31m \u001b[0;32mwith\u001b[0m \u001b[0mopen\u001b[0m\u001b[0;34m(\u001b[0m\u001b[0;34m'variables.css'\u001b[0m\u001b[0;34m)\u001b[0m \u001b[0;32mas\u001b[0m \u001b[0mf\u001b[0m\u001b[0;34m:\u001b[0m\u001b[0;34m\u001b[0m\u001b[0;34m\u001b[0m\u001b[0m\n\u001b[0m\u001b[1;32m      3\u001b[0m     \u001b[0mcss\u001b[0m \u001b[0;34m=\u001b[0m \u001b[0mf\u001b[0m\u001b[0;34m.\u001b[0m\u001b[0mread\u001b[0m\u001b[0;34m(\u001b[0m\u001b[0;34m)\u001b[0m\u001b[0;34m.\u001b[0m\u001b[0mreplace\u001b[0m\u001b[0;34m(\u001b[0m\u001b[0;34m';'\u001b[0m\u001b[0;34m,\u001b[0m \u001b[0;34m' !important;'\u001b[0m\u001b[0;34m)\u001b[0m\u001b[0;34m\u001b[0m\u001b[0;34m\u001b[0m\u001b[0m\n\u001b[1;32m      4\u001b[0m \u001b[0mdisplay\u001b[0m\u001b[0;34m(\u001b[0m\u001b[0mHTML\u001b[0m\u001b[0;34m(\u001b[0m\u001b[0;34m'<style type=\"text/css\">%s</style>Customized changes loaded.'\u001b[0m\u001b[0;34m%\u001b[0m\u001b[0mcss\u001b[0m\u001b[0;34m)\u001b[0m\u001b[0;34m)\u001b[0m\u001b[0;34m\u001b[0m\u001b[0;34m\u001b[0m\u001b[0m\n",
      "\u001b[0;31mFileNotFoundError\u001b[0m: [Errno 2] No such file or directory: 'variables.css'"
     ]
    }
   ],
   "source": [
    "from IPython.display import display, HTML\n",
    "with open('variables.css') as f:\n",
    "    css = f.read().replace(';', ' !important;')\n",
    "display(HTML('<style type=\"text/css\">%s</style>Customized changes loaded.'%css))"
   ]
  },
  {
   "cell_type": "code",
   "execution_count": null,
   "metadata": {},
   "outputs": [],
   "source": []
  }
 ],
 "metadata": {
  "kernelspec": {
   "display_name": "Python 3",
   "language": "python",
   "name": "python3"
  },
  "language_info": {
   "codemirror_mode": {
    "name": "ipython",
    "version": 3
   },
   "file_extension": ".py",
   "mimetype": "text/x-python",
   "name": "python",
   "nbconvert_exporter": "python",
   "pygments_lexer": "ipython3",
   "version": "3.7.4"
  }
 },
 "nbformat": 4,
 "nbformat_minor": 4
}
