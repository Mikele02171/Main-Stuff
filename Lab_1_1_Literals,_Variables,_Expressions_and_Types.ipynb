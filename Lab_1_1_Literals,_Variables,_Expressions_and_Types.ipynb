{
  "nbformat": 4,
  "nbformat_minor": 0,
  "metadata": {
    "colab": {
      "provenance": [],
      "collapsed_sections": [
        "qNyg5y8vxBCy",
        "9DNIOASk8UmX",
        "haqvEsgw87H9",
        "V9Pkfx8N8cPi",
        "INrfHobl8g4t"
      ],
      "toc_visible": true,
      "include_colab_link": true
    },
    "kernelspec": {
      "name": "python3",
      "display_name": "Python 3"
    }
  },
  "cells": [
    {
      "cell_type": "markdown",
      "metadata": {
        "id": "view-in-github",
        "colab_type": "text"
      },
      "source": [
        "<a href=\"https://colab.research.google.com/github/Mikele02171/Main-Stuff/blob/main/Lab_1_1_Literals%2C_Variables%2C_Expressions_and_Types.ipynb\" target=\"_parent\"><img src=\"https://colab.research.google.com/assets/colab-badge.svg\" alt=\"Open In Colab\"/></a>"
      ]
    },
    {
      "cell_type": "markdown",
      "metadata": {
        "id": "CqQnv0RvVO6k"
      },
      "source": [
        "# Lab 1 - Literals, Variables, Expressions and Types\n",
        "In this lab we will quickly familiarise ourselves with notebooks, then put into practice some of the programming concepts we've learnt by building a few programs."
      ]
    },
    {
      "cell_type": "markdown",
      "metadata": {
        "id": "PCVZUn2MTFOX"
      },
      "source": [
        "## Notebooks Overview\n",
        "Notebooks are interactive environments which allow you to write code and formatted text in the same place. As such, they are composed of two types of cells - text and code.\n",
        "\n",
        "#### Text Cells\n",
        "A text cell (like the one you're reading) is nothing more than plain text with some formatting applied. To edit the contents of a text cell, double-click the cell and make any changes, then press `<SHIFT>+<ENTER>` to apply the formatting. You won't be required to write any text cells, but it's good to know how they work. Try editing some text in this cell.\n",
        "\n",
        "#### Code Cells\n",
        "This type of cell contains code for whichever language the Notebook is configured - thus all of the notebooks in this subject support Python code. You can edit code cells in much the same way you would using any word processor. To run a cell's code, click somewhere in the cell and press `<CTRL>+<ENTER>`. Try modifying and running the below cell to see its outputs."
      ]
    },
    {
      "cell_type": "code",
      "metadata": {
        "id": "DUV3jiQKU3fV",
        "outputId": "6f24e047-4dc2-4224-acba-b71f3d287208",
        "colab": {
          "base_uri": "https://localhost:8080/"
        }
      },
      "source": [
        "print('I am a code cell!')"
      ],
      "execution_count": null,
      "outputs": [
        {
          "output_type": "stream",
          "name": "stdout",
          "text": [
            "I am a code cell!\n"
          ]
        }
      ]
    },
    {
      "cell_type": "markdown",
      "metadata": {
        "id": "aRB8lG5vLa1j"
      },
      "source": [
        "## Programming Exercises"
      ]
    },
    {
      "cell_type": "markdown",
      "metadata": {
        "id": "xvdr-zmI6dfa"
      },
      "source": [
        "### Literals and Variables\n",
        "Let's get coding. The next cell contains one variable and two literals - do you recall which is which? Variables have descriptive names like `home_city` or `patient_height` and contain values, whereas literals are just the values themselves - like `'Melbourne'` or `174.5`.\n",
        "\n",
        "In the next cell replace `'Alice'` with your name as a string literal, then run the cell to see what's printed.\n",
        "\n",
        "You should notice that the <ins>formatting of the</ins> output is slightly incorrect. Once you spot the problem, correct it and continue reading."
      ]
    },
    {
      "cell_type": "code",
      "metadata": {
        "id": "SSufPQZO6Vun",
        "outputId": "8d4175d4-7a13-4fe1-dc14-8d1cac11ab0f",
        "colab": {
          "base_uri": "https://localhost:8080/"
        }
      },
      "source": [
        "name = 'Alice'\n",
        "print('Your name is ' + name)"
      ],
      "execution_count": null,
      "outputs": [
        {
          "output_type": "stream",
          "name": "stdout",
          "text": [
            "Your name is Alice\n"
          ]
        }
      ]
    },
    {
      "cell_type": "markdown",
      "metadata": {
        "id": "qNyg5y8vxBCy"
      },
      "source": [
        "###### Solution"
      ]
    },
    {
      "cell_type": "markdown",
      "metadata": {
        "id": "6B5O0Ea27XUL"
      },
      "source": [
        "The issue is that concatenation does exactly what you ask of it - it joins both strings as they're provided, and doesn't know anything about words being separated by spaces in English. For this reason, you will often need to add a space at the start or end of a string for correct formatting."
      ]
    },
    {
      "cell_type": "markdown",
      "metadata": {
        "id": "0LwFW3ZvLQkt"
      },
      "source": [
        "### Type Conversion\n",
        "\n",
        "In the next cell we will try to print out a numerical data type - an integer. Although the code doesn't specify that the variable is an integer, Python infers the data type based on the fact that the initial value is a whole number.\n",
        "\n",
        "Run the cell, and you'll encounter an error. What do you think the error means? Try to resolve it yourself before moving on."
      ]
    },
    {
      "cell_type": "code",
      "metadata": {
        "id": "lv8xhszc448W"
      },
      "source": [
        "lucky_number = 3\n",
        "print('My lucky number is ' + lucky_number)"
      ],
      "execution_count": null,
      "outputs": []
    },
    {
      "cell_type": "markdown",
      "metadata": {
        "id": "9DNIOASk8UmX"
      },
      "source": [
        "###### Solution"
      ]
    },
    {
      "cell_type": "markdown",
      "metadata": {
        "id": "4uBdFIxm6NUx"
      },
      "source": [
        "The values on either side of the `+` operator above are different types - string and integer. Python doesn't allow adding strings with numerical data types, so an error is produced. \\\n",
        "To fix the code above, we need to convert `lucky_number` to a string. We do this by calling the `str` function - so replace `lucky_number` with `str(lucky_number)` on the last line above."
      ]
    },
    {
      "cell_type": "markdown",
      "metadata": {
        "id": "Apnn5uo98uCp"
      },
      "source": [
        "### More Type Conversion\n",
        "\n",
        "What about other numerical data types? You'll often encounter the `float` data type, as this is capable of storing fractional numbers. Fix the code in the next cell using the `str` function twice only."
      ]
    },
    {
      "cell_type": "code",
      "metadata": {
        "id": "i4f5tvL13kpy"
      },
      "source": [
        "breed = 'labrador'\n",
        "age = 3\n",
        "height_cm = 57.5\n",
        "print('My dog is a ' + breed + '. He is ' + age + ' years old and ' + height_cm + 'cm tall.')"
      ],
      "execution_count": null,
      "outputs": []
    },
    {
      "cell_type": "markdown",
      "metadata": {
        "id": "haqvEsgw87H9"
      },
      "source": [
        "###### Solution"
      ]
    },
    {
      "cell_type": "markdown",
      "metadata": {
        "id": "3xS8H_cS9Bkk"
      },
      "source": [
        "As `breed` is already a string, converting it using the `str` function won't have any effect. As such, only the numerical variables `age` and `height_cm` should be converted to a string when printing."
      ]
    },
    {
      "cell_type": "markdown",
      "metadata": {
        "id": "-VeMoms8LfhL"
      },
      "source": [
        "### Interactive Inputs and Data Types"
      ]
    },
    {
      "cell_type": "markdown",
      "metadata": {
        "id": "s24zFksP9qAO"
      },
      "source": [
        "None of the above code is interactive, meaning that the user can't input anything to the program, and it always outputs the same thing. We'll change that by using the `input` function. This captures the user's input as a string. \\\n",
        "Run the next cell and answer the questions when they are asked by the program."
      ]
    },
    {
      "cell_type": "code",
      "metadata": {
        "id": "-dXJ3IE_VzsS"
      },
      "source": [
        "user_name = input('What is your name? ')\n",
        "user_age = input('How old are you? ')\n",
        "print('Your name is ' + user_name + ' and you are ' + user_age + ' years old.')"
      ],
      "execution_count": null,
      "outputs": []
    },
    {
      "cell_type": "markdown",
      "metadata": {
        "id": "YtSANUt2-bil"
      },
      "source": [
        "That program isn't very interesting, so now we'll extend it to provide more functionality. We want the program to tell us how old the user will be on their next birthday.\n",
        "\n",
        "Add a line of code below which adds `1` to the user's age. Then, modify the print statement so it outputs an appropriate message."
      ]
    },
    {
      "cell_type": "code",
      "metadata": {
        "id": "Wk-hOQCs-lmk"
      },
      "source": [
        "user_name = input('What is your name? ')\n",
        "user_age = input('How old are you? ')\n",
        "# Add 1 to the user's age here\n",
        "print('Your name is ' + user_name + ' and you are ' + user_age + ' years old.')"
      ],
      "execution_count": null,
      "outputs": []
    },
    {
      "cell_type": "markdown",
      "metadata": {
        "id": "ssGbslXS_Oh6"
      },
      "source": [
        "Uh oh - the program crashed! Do you know what the problem is? Try fixing it before continuing."
      ]
    },
    {
      "cell_type": "markdown",
      "metadata": {
        "id": "V9Pkfx8N8cPi"
      },
      "source": [
        "###### Solution"
      ]
    },
    {
      "cell_type": "markdown",
      "metadata": {
        "id": "yUpIqajZ_ZtU"
      },
      "source": [
        "As mentioned earlier, the `input` function returns the user input as a string. So although you entered a number for the age question, `user_age` was of type `str`. The easiest way to fix this is to immediately convert it to an integer when taking the user's input. To do so, replace `input('How old are you? ')` with `int(input('How old are you? '))`.\n",
        "\n",
        "It might look a little confusing, but just like in mathematics, parentheses indicate the order of operations. So the interpreter will take the user input, convert it to an `int`, then store it in `user_age`.\n",
        "\n",
        "Once you've fixed it, run the code again - you'll realise that you need to convert the age back to a string again to print it.\n",
        "\n",
        "You have now built your first interactive program - nice work!"
      ]
    },
    {
      "cell_type": "markdown",
      "metadata": {
        "id": "UmxphlNILl2L"
      },
      "source": [
        "### Choosing Data Types"
      ]
    },
    {
      "cell_type": "markdown",
      "metadata": {
        "id": "_-BF5yO1BLgI"
      },
      "source": [
        "Let's look at a slightly more complicated program. Read through the code below and see if you understand it all. Do you see any problems with it? Run the program and answer the program's prompts."
      ]
    },
    {
      "cell_type": "code",
      "metadata": {
        "id": "2LyyLNsWX_iv"
      },
      "source": [
        "width_m = int(input('Width: '))\n",
        "length_m = int(input('Length: '))\n",
        "area_m2 = width_m * length_m\n",
        "print('Area: ' + str(area_m2) + ' sq. metres')"
      ],
      "execution_count": null,
      "outputs": []
    },
    {
      "cell_type": "markdown",
      "metadata": {
        "id": "Z4PlKTV7CUPZ"
      },
      "source": [
        "This program calculates the area of a room using the equation $A = lw$, where $l$ and $w$ are the length and width, respectively. In order to verify that a program is working correctly, you need to think of some inputs to test it with, and know which outputs to expect. Try the below tests:\n",
        "\n",
        "| Width | Length | Expected Area |\n",
        "|-------|--------|---------------|\n",
        "| 4     | 3      | 12            |\n",
        "| 5     | 5      | 25            |\n",
        "| 3.5   | 2      | 7             |\n",
        "| 2.5   | 2.5    | 6.25          |\n",
        "\n",
        "Although the program is mostly correct, you'll find that it only works if you enter whole numbers. Try again with fractional numbers - where and why does the program fail? Try to correct the error before continuing."
      ]
    },
    {
      "cell_type": "markdown",
      "metadata": {
        "id": "INrfHobl8g4t"
      },
      "source": [
        "###### Solution"
      ]
    },
    {
      "cell_type": "markdown",
      "metadata": {
        "id": "A5TbM6wkDBYa"
      },
      "source": [
        "As we are explicitly converting the user inputs to integers, our program crashes if the user enters anything that's not a whole number. Depending on the purpose of the program, it might make sense to use either integer or floating point numbers - it's up to you as a programmer to make that decision!\n",
        "\n",
        "In this case, it's not a very useful program if the user can only measure rooms in metre increments, so you should fix the bug by instead converting their inputs to `float`. Then, run the program again to ensure that it works correctly."
      ]
    },
    {
      "cell_type": "markdown",
      "metadata": {
        "id": "POXgZTyn-s14"
      },
      "source": [
        "### Extending the Program"
      ]
    },
    {
      "cell_type": "markdown",
      "metadata": {
        "id": "Cbu4oKzaD_9a"
      },
      "source": [
        "We'll now take the program one step further by also providing the user with the perimeter of the room. This is calculated with the equation $P = 2l + 2w$.\n",
        "\n",
        "Update the program above to calculate the perimeter then display it with an additional print statement.\n",
        "\n",
        "Manually calculate and complete the missing entries in the table below, then run your program to confirm that the perimeter is computed as expected.\n",
        "\n",
        "| Width | Length | Expected Area | Expected Perimeter |\n",
        "|-------|--------|---------------|--------------------|\n",
        "| 4     | 3      | 12            | 14                 |\n",
        "| 5     | 5      | 25            |                    |\n",
        "| 3.5   | 2      | 7             |                    |\n",
        "| 2.5   | 2.5    | 6.25          |                    |\n",
        "\n",
        "_Double click this cell to edit the table, then press `<SHIFT>+<ENTER>` to apply the formatting._"
      ]
    },
    {
      "cell_type": "markdown",
      "metadata": {
        "id": "lP5ZklkjMbrG"
      },
      "source": [
        "### Constant Values"
      ]
    },
    {
      "cell_type": "markdown",
      "metadata": {
        "id": "PAKLKe21FF2X"
      },
      "source": [
        "How about the perimeter of a circular room? The equation for this is $P = 2 \\pi r$, where $r$ is the radius of the room.\n",
        "\n",
        "As $\\pi$ (pi) is a mathematical constant, it's best to store it in a variable of its own. To indicate that this is a constant that *never* changes, its variable name is all in UPPERCASE.\n",
        "\n",
        "Write the rest of the program in the next cell to ask the user for the room's radius, then calculate and print out its perimeter. You should refer to the previous program if you get stuck.\n",
        "\n",
        "We'll again use a table to verify our program, but as this is too difficult to calculate by hand, first complete the table with something trusted like a calculator.\n",
        "\n",
        "| Radius | Expected Perimeter |\n",
        "|--------|--------------------|\n",
        "| 1      | 6.283186           |\n",
        "| 0.5    | 3.141593           |\n",
        "| 4      | 25.132744          |\n",
        "| 2.5    | 15.707965          |"
      ]
    },
    {
      "cell_type": "code",
      "metadata": {
        "id": "-JXacX6HG8kt"
      },
      "source": [
        "PI = 3.141593\n",
        "# Ask the user for the radius of the room\n",
        "# Calculate the perimeter\n",
        "# Print the perimeter"
      ],
      "execution_count": null,
      "outputs": []
    },
    {
      "cell_type": "markdown",
      "metadata": {
        "id": "Vuc6AB1EIV65"
      },
      "source": [
        "The circular room program isn't quite as useful as the rectangular room program, as it doesn't calculate the area. Using the equation below, amend your program so that it also computes and prints the area.\n",
        "\n",
        "$A = \\pi r^2$\n",
        "\n",
        "You should once again complete the missing fields in this table to verify your program.\n",
        "\n",
        "\n",
        "| Radius | Expected Perimeter | Expected Area |\n",
        "|--------|--------------------|---------------|\n",
        "| 1      | 6.283186           | 3.141593      |\n",
        "| 0.5    | 3.141593           | 0.78539825    |\n",
        "| 4      | 25.132744          |               |\n",
        "| 2.5    | 15.707965          |               |\n",
        "\n",
        "\n",
        "_Recall that the \"to the power of\" operator is `**`, so $x ^ 3$ is represented as `x ** 3` in Python._"
      ]
    },
    {
      "cell_type": "markdown",
      "metadata": {
        "id": "E83lYV-DMjbr"
      },
      "source": [
        "## Bonus Tasks\n",
        "If you have an appetite for more exercises, try solving the programming challenges below. It's highly recommended that you do so, as it will help get you \"into the mind of a programmer\".\n",
        "\n",
        "For each of the exercises, take a moment to consider the below:\n",
        " * What are the inputs and outputs to this program?\n",
        " * What are the appropriate data types?\n",
        " * Ensure that you give the variables descriptive names (it's helpful to include the units if dealing with physical quantities like distance).\n",
        " * Test it with a variety of inputs to check that it is accurate."
      ]
    },
    {
      "cell_type": "markdown",
      "metadata": {
        "id": "HcwQ2lN7Mtr8"
      },
      "source": [
        "### Velocity Calculator\n",
        "The velocity of an object that takes $t$ seconds to travel $d$ metres is defined as $v = \\frac{d}{t}$. \\\n",
        "Write a program that computes the velocity for the user."
      ]
    },
    {
      "cell_type": "code",
      "metadata": {
        "id": "nu9Y3AfpMsdR"
      },
      "source": [
        "# Write your velocity calculator solution here"
      ],
      "execution_count": null,
      "outputs": []
    },
    {
      "cell_type": "markdown",
      "metadata": {
        "id": "GkH7uUnWN79H"
      },
      "source": [
        "### Freefall Distance Calculator\n",
        "\n",
        "The distance travelled by an object with constant acceleration $a$ for $t$ seconds is defined as $d = \\frac{1}{2}at ^ 2$. \\\n",
        "Write a program that calculates the distance an object falls due to gravity, by using earth's _constant value_ acceleration of $a = 9.81$."
      ]
    },
    {
      "cell_type": "code",
      "metadata": {
        "id": "6UYeYuzVPgC9"
      },
      "source": [
        "# Write your freefall distance calculator solution here"
      ],
      "execution_count": null,
      "outputs": []
    }
  ]
}