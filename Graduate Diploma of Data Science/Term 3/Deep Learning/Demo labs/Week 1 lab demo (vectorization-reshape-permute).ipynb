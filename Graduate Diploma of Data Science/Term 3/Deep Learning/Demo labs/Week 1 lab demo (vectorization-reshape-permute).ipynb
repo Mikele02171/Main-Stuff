{
  "cells": [
    {
      "attachments": {},
      "cell_type": "markdown",
      "metadata": {},
      "source": [
        "# Week 1 Demonstration Code"
      ]
    },
    {
      "cell_type": "code",
      "execution_count": null,
      "metadata": {
        "colab": {
          "base_uri": "https://localhost:8080/"
        },
        "id": "x1kwoC_j_wfM",
        "outputId": "1eda0e28-c4c5-4dcb-e90a-37f48afedc98"
      },
      "outputs": [
        {
          "name": "stdout",
          "output_type": "stream",
          "text": [
            "Pytorch version: 1.13.1+cu116\n"
          ]
        }
      ],
      "source": [
        "import torch\n",
        "print(\"Pytorch version:\", torch.__version__)"
      ]
    },
    {
      "cell_type": "markdown",
      "metadata": {
        "id": "fHz-wyR3_3Ja"
      },
      "source": [
        "# Vectorisation\n",
        "\n",
        "Why does this matter??\n",
        "\n",
        "Let's take a look at how we can find the average value in a tensor"
      ]
    },
    {
      "cell_type": "code",
      "execution_count": null,
      "metadata": {
        "id": "d3QfIAP7VCfD"
      },
      "outputs": [],
      "source": [
        "import time"
      ]
    },
    {
      "cell_type": "code",
      "execution_count": null,
      "metadata": {
        "colab": {
          "base_uri": "https://localhost:8080/"
        },
        "id": "KAcrGVqb_2EJ",
        "outputId": "c8ec5aa1-b691-45e5-e4e9-526f5a1a78c9"
      },
      "outputs": [
        {
          "name": "stdout",
          "output_type": "stream",
          "text": [
            "torch.Size([4, 2, 3])\n"
          ]
        }
      ],
      "source": [
        "# batch, height, width \n",
        "tensor_x = torch.rand(4, 2, 3)\n",
        "# tensor_x = torch.rand(40, 20, 30)\n",
        "# tensor_x = torch.rand(400, 200, 300)\n",
        "print(tensor_x)\n",
        "print(tensor_x.shape)"
      ]
    },
    {
      "cell_type": "markdown",
      "metadata": {
        "id": "QTeVCXflGR5S"
      },
      "source": [
        "## The inefficient way (non-vectorised)"
      ]
    },
    {
      "cell_type": "code",
      "execution_count": null,
      "metadata": {
        "colab": {
          "base_uri": "https://localhost:8080/",
          "height": 241
        },
        "id": "vmiUYMU0AGZ5",
        "outputId": "06b97e25-77bf-407a-ffd5-51757a67ce2e"
      },
      "outputs": [
        {
          "ename": "KeyboardInterrupt",
          "evalue": "ignored",
          "output_type": "error",
          "traceback": [
            "\u001b[0;31m---------------------------------------------------------------------------\u001b[0m",
            "\u001b[0;31mKeyboardInterrupt\u001b[0m                         Traceback (most recent call last)",
            "\u001b[0;32m<ipython-input-9-c83105cf07b9>\u001b[0m in \u001b[0;36m<module>\u001b[0;34m\u001b[0m\n\u001b[1;32m      6\u001b[0m   \u001b[0;32mfor\u001b[0m \u001b[0mj\u001b[0m \u001b[0;32min\u001b[0m \u001b[0mrange\u001b[0m\u001b[0;34m(\u001b[0m\u001b[0;36m0\u001b[0m\u001b[0;34m,\u001b[0m \u001b[0;36m200\u001b[0m\u001b[0;34m,\u001b[0m \u001b[0;36m1\u001b[0m\u001b[0;34m)\u001b[0m\u001b[0;34m:\u001b[0m\u001b[0;34m\u001b[0m\u001b[0;34m\u001b[0m\u001b[0m\n\u001b[1;32m      7\u001b[0m     \u001b[0;32mfor\u001b[0m \u001b[0mk\u001b[0m \u001b[0;32min\u001b[0m \u001b[0mrange\u001b[0m\u001b[0;34m(\u001b[0m\u001b[0;36m0\u001b[0m\u001b[0;34m,\u001b[0m \u001b[0;36m300\u001b[0m\u001b[0;34m,\u001b[0m \u001b[0;36m1\u001b[0m\u001b[0;34m)\u001b[0m\u001b[0;34m:\u001b[0m\u001b[0;34m\u001b[0m\u001b[0;34m\u001b[0m\u001b[0m\n\u001b[0;32m----> 8\u001b[0;31m       \u001b[0msum\u001b[0m \u001b[0;34m=\u001b[0m \u001b[0msum\u001b[0m \u001b[0;34m+\u001b[0m \u001b[0mtensor_x\u001b[0m\u001b[0;34m[\u001b[0m\u001b[0mi\u001b[0m\u001b[0;34m,\u001b[0m\u001b[0mj\u001b[0m\u001b[0;34m,\u001b[0m\u001b[0mk\u001b[0m\u001b[0;34m]\u001b[0m\u001b[0;34m\u001b[0m\u001b[0;34m\u001b[0m\u001b[0m\n\u001b[0m\u001b[1;32m      9\u001b[0m \u001b[0mavg\u001b[0m \u001b[0;34m=\u001b[0m \u001b[0msum\u001b[0m \u001b[0;34m/\u001b[0m \u001b[0;34m(\u001b[0m\u001b[0;36m400\u001b[0m \u001b[0;34m*\u001b[0m \u001b[0;36m200\u001b[0m\u001b[0;34m*\u001b[0m \u001b[0;36m300\u001b[0m\u001b[0;34m)\u001b[0m\u001b[0;34m\u001b[0m\u001b[0;34m\u001b[0m\u001b[0m\n\u001b[1;32m     10\u001b[0m \u001b[0mprint\u001b[0m\u001b[0;34m(\u001b[0m\u001b[0mavg\u001b[0m\u001b[0;34m)\u001b[0m\u001b[0;34m\u001b[0m\u001b[0;34m\u001b[0m\u001b[0m\n",
            "\u001b[0;31mKeyboardInterrupt\u001b[0m: "
          ]
        }
      ],
      "source": [
        "# For loops!\n",
        "start = time.perf_counter()\n",
        "\n",
        "sum = 0\n",
        "for i in range(0, 400, 1):\n",
        "  for j in range(0, 200, 1):\n",
        "    for k in range(0, 300, 1):\n",
        "      sum = sum + tensor_x[i,j,k]\n",
        "avg = sum / (400 * 200* 300)\n",
        "print(avg)\n",
        "\n",
        "\n",
        "end = time.perf_counter()\n",
        "print(f'Elapsed: {end-start:.3f}s')"
      ]
    },
    {
      "cell_type": "markdown",
      "metadata": {
        "id": "oYPJi7WYGVwF"
      },
      "source": [
        "## The better way (vectorised!)"
      ]
    },
    {
      "cell_type": "code",
      "execution_count": null,
      "metadata": {
        "colab": {
          "base_uri": "https://localhost:8080/"
        },
        "id": "7h-Z0aBYGnaY",
        "outputId": "7994ad01-b988-416f-dada-9774c40bf59e"
      },
      "outputs": [
        {
          "name": "stdout",
          "output_type": "stream",
          "text": [
            "tensor(0.4139)\n",
            "torch.Size([4, 2, 3])\n",
            "torch.Size([4, 2])\n",
            "Elapsed: 0.004s\n"
          ]
        }
      ],
      "source": [
        "start = time.perf_counter()\n",
        "\n",
        "avg = tensor_x.mean()\n",
        "print(avg)\n",
        "\n",
        "print(tensor_x.shape)\n",
        "avg = tensor_x.mean(axis=(2,))\n",
        "print(avg.shape)\n",
        "\n",
        "end = time.perf_counter()\n",
        "print(f'Elapsed: {end-start:.3f}s')"
      ]
    },
    {
      "cell_type": "code",
      "execution_count": null,
      "metadata": {
        "colab": {
          "base_uri": "https://localhost:8080/"
        },
        "id": "s2ZyMmaxY6c8",
        "outputId": "91c34ea1-7efd-4ff6-e420-e4abbb4f2728"
      },
      "outputs": [
        {
          "name": "stdout",
          "output_type": "stream",
          "text": [
            "tensor([[1., 2.],\n",
            "        [3., 4.],\n",
            "        [5., 6.]])\n",
            "torch.Size([3, 2])\n",
            "tensor([3., 4.])\n"
          ]
        }
      ],
      "source": [
        "tensor = torch.arange(6, dtype=torch.float32).reshape(3, 2) + 1\n",
        "print(tensor)\n",
        "print(tensor.shape)\n",
        "\n",
        "print(tensor.mean(axis=(0,)))"
      ]
    },
    {
      "attachments": {},
      "cell_type": "markdown",
      "metadata": {
        "id": "dbvg1tMeGO2E"
      },
      "source": [
        "# Reshaping/Permuting\n",
        "\n",
        "Understanding the difference between reshape and permute. Notice in the example below reshape keeps the order of the elements. Whereas permute modifies the order.\n"
      ]
    },
    {
      "cell_type": "code",
      "execution_count": null,
      "metadata": {
        "colab": {
          "base_uri": "https://localhost:8080/",
          "height": 473
        },
        "id": "s9fgKiXOGQYY",
        "outputId": "fee547a2-0717-4a1f-cf9b-9b8d5f600394"
      },
      "outputs": [],
      "source": [
        "tensor_x = torch.arange(24, dtype=torch.int)\n",
        "print(tensor_x)\n",
        "\n",
        "tensor_x = tensor_x.reshape(2, 4, 3)\n",
        "print(tensor_x)\n",
        "\n",
        "tensor_x = tensor_x.reshape(2, 4*3)\n",
        "print(tensor_x)\n",
        "\n",
        "tensor_x = tensor_x.reshape(24)\n",
        "print(tensor_x)\n",
        "\n",
        "tensor_x = tensor_x.reshape(2, 12)\n",
        "print(tensor_x)\n",
        "\n",
        "tensor_x = tensor_x.permute(1, 0)\n",
        "print(tensor_x)\n",
        "\n",
        "tensor_x = tensor_x.reshape(24)\n",
        "print(tensor_x)\n",
        "\n"
      ]
    }
  ],
  "metadata": {
    "colab": {
      "provenance": []
    },
    "kernelspec": {
      "display_name": "Python 3",
      "name": "python3"
    },
    "language_info": {
      "name": "python"
    }
  },
  "nbformat": 4,
  "nbformat_minor": 0
}
