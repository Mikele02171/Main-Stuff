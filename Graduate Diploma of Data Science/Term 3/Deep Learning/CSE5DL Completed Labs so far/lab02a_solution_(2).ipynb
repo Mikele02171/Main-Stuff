{
  "nbformat": 4,
  "nbformat_minor": 0,
  "metadata": {
    "colab": {
      "provenance": [],
      "toc_visible": true
    },
    "kernelspec": {
      "name": "python3",
      "display_name": "Python 3"
    },
    "accelerator": "GPU",
    "widgets": {
      "application/vnd.jupyter.widget-state+json": {
        "da9e815321a2488c8126b42b15fd8e96": {
          "model_module": "@jupyter-widgets/controls",
          "model_name": "HBoxModel",
          "model_module_version": "1.5.0",
          "state": {
            "_dom_classes": [],
            "_model_module": "@jupyter-widgets/controls",
            "_model_module_version": "1.5.0",
            "_model_name": "HBoxModel",
            "_view_count": null,
            "_view_module": "@jupyter-widgets/controls",
            "_view_module_version": "1.5.0",
            "_view_name": "HBoxView",
            "box_style": "",
            "children": [
              "IPY_MODEL_16164075fda74932accb19d5920e66d1",
              "IPY_MODEL_004c8df0433b4c9f82bdca7e88e2fec0",
              "IPY_MODEL_d4a6829b3e184135b71e78e9aa08d0e2"
            ],
            "layout": "IPY_MODEL_88244316100046d88189541861be8ecc"
          }
        },
        "16164075fda74932accb19d5920e66d1": {
          "model_module": "@jupyter-widgets/controls",
          "model_name": "HTMLModel",
          "model_module_version": "1.5.0",
          "state": {
            "_dom_classes": [],
            "_model_module": "@jupyter-widgets/controls",
            "_model_module_version": "1.5.0",
            "_model_name": "HTMLModel",
            "_view_count": null,
            "_view_module": "@jupyter-widgets/controls",
            "_view_module_version": "1.5.0",
            "_view_name": "HTMLView",
            "description": "",
            "description_tooltip": null,
            "layout": "IPY_MODEL_e6236bfc589d4b29ad3e8b982e4455bf",
            "placeholder": "​",
            "style": "IPY_MODEL_01d8922bdff040da8b2ab668463c4643",
            "value": "100%"
          }
        },
        "004c8df0433b4c9f82bdca7e88e2fec0": {
          "model_module": "@jupyter-widgets/controls",
          "model_name": "FloatProgressModel",
          "model_module_version": "1.5.0",
          "state": {
            "_dom_classes": [],
            "_model_module": "@jupyter-widgets/controls",
            "_model_module_version": "1.5.0",
            "_model_name": "FloatProgressModel",
            "_view_count": null,
            "_view_module": "@jupyter-widgets/controls",
            "_view_module_version": "1.5.0",
            "_view_name": "ProgressView",
            "bar_style": "success",
            "description": "",
            "description_tooltip": null,
            "layout": "IPY_MODEL_0d72f0eff39746b8bdcb9b023ecaf9a1",
            "max": 100,
            "min": 0,
            "orientation": "horizontal",
            "style": "IPY_MODEL_1616e0aa30da478aa1fa60acc76043a7",
            "value": 100
          }
        },
        "d4a6829b3e184135b71e78e9aa08d0e2": {
          "model_module": "@jupyter-widgets/controls",
          "model_name": "HTMLModel",
          "model_module_version": "1.5.0",
          "state": {
            "_dom_classes": [],
            "_model_module": "@jupyter-widgets/controls",
            "_model_module_version": "1.5.0",
            "_model_name": "HTMLModel",
            "_view_count": null,
            "_view_module": "@jupyter-widgets/controls",
            "_view_module_version": "1.5.0",
            "_view_name": "HTMLView",
            "description": "",
            "description_tooltip": null,
            "layout": "IPY_MODEL_7dab68ad9c3e43d9af30bcb50f6b92b2",
            "placeholder": "​",
            "style": "IPY_MODEL_94a0e2cbc0e34906915246e0b08eca1a",
            "value": " 100/100 [00:09&lt;00:00, 10.69it/s]"
          }
        },
        "88244316100046d88189541861be8ecc": {
          "model_module": "@jupyter-widgets/base",
          "model_name": "LayoutModel",
          "model_module_version": "1.2.0",
          "state": {
            "_model_module": "@jupyter-widgets/base",
            "_model_module_version": "1.2.0",
            "_model_name": "LayoutModel",
            "_view_count": null,
            "_view_module": "@jupyter-widgets/base",
            "_view_module_version": "1.2.0",
            "_view_name": "LayoutView",
            "align_content": null,
            "align_items": null,
            "align_self": null,
            "border": null,
            "bottom": null,
            "display": null,
            "flex": null,
            "flex_flow": null,
            "grid_area": null,
            "grid_auto_columns": null,
            "grid_auto_flow": null,
            "grid_auto_rows": null,
            "grid_column": null,
            "grid_gap": null,
            "grid_row": null,
            "grid_template_areas": null,
            "grid_template_columns": null,
            "grid_template_rows": null,
            "height": null,
            "justify_content": null,
            "justify_items": null,
            "left": null,
            "margin": null,
            "max_height": null,
            "max_width": null,
            "min_height": null,
            "min_width": null,
            "object_fit": null,
            "object_position": null,
            "order": null,
            "overflow": null,
            "overflow_x": null,
            "overflow_y": null,
            "padding": null,
            "right": null,
            "top": null,
            "visibility": null,
            "width": null
          }
        },
        "e6236bfc589d4b29ad3e8b982e4455bf": {
          "model_module": "@jupyter-widgets/base",
          "model_name": "LayoutModel",
          "model_module_version": "1.2.0",
          "state": {
            "_model_module": "@jupyter-widgets/base",
            "_model_module_version": "1.2.0",
            "_model_name": "LayoutModel",
            "_view_count": null,
            "_view_module": "@jupyter-widgets/base",
            "_view_module_version": "1.2.0",
            "_view_name": "LayoutView",
            "align_content": null,
            "align_items": null,
            "align_self": null,
            "border": null,
            "bottom": null,
            "display": null,
            "flex": null,
            "flex_flow": null,
            "grid_area": null,
            "grid_auto_columns": null,
            "grid_auto_flow": null,
            "grid_auto_rows": null,
            "grid_column": null,
            "grid_gap": null,
            "grid_row": null,
            "grid_template_areas": null,
            "grid_template_columns": null,
            "grid_template_rows": null,
            "height": null,
            "justify_content": null,
            "justify_items": null,
            "left": null,
            "margin": null,
            "max_height": null,
            "max_width": null,
            "min_height": null,
            "min_width": null,
            "object_fit": null,
            "object_position": null,
            "order": null,
            "overflow": null,
            "overflow_x": null,
            "overflow_y": null,
            "padding": null,
            "right": null,
            "top": null,
            "visibility": null,
            "width": null
          }
        },
        "01d8922bdff040da8b2ab668463c4643": {
          "model_module": "@jupyter-widgets/controls",
          "model_name": "DescriptionStyleModel",
          "model_module_version": "1.5.0",
          "state": {
            "_model_module": "@jupyter-widgets/controls",
            "_model_module_version": "1.5.0",
            "_model_name": "DescriptionStyleModel",
            "_view_count": null,
            "_view_module": "@jupyter-widgets/base",
            "_view_module_version": "1.2.0",
            "_view_name": "StyleView",
            "description_width": ""
          }
        },
        "0d72f0eff39746b8bdcb9b023ecaf9a1": {
          "model_module": "@jupyter-widgets/base",
          "model_name": "LayoutModel",
          "model_module_version": "1.2.0",
          "state": {
            "_model_module": "@jupyter-widgets/base",
            "_model_module_version": "1.2.0",
            "_model_name": "LayoutModel",
            "_view_count": null,
            "_view_module": "@jupyter-widgets/base",
            "_view_module_version": "1.2.0",
            "_view_name": "LayoutView",
            "align_content": null,
            "align_items": null,
            "align_self": null,
            "border": null,
            "bottom": null,
            "display": null,
            "flex": null,
            "flex_flow": null,
            "grid_area": null,
            "grid_auto_columns": null,
            "grid_auto_flow": null,
            "grid_auto_rows": null,
            "grid_column": null,
            "grid_gap": null,
            "grid_row": null,
            "grid_template_areas": null,
            "grid_template_columns": null,
            "grid_template_rows": null,
            "height": null,
            "justify_content": null,
            "justify_items": null,
            "left": null,
            "margin": null,
            "max_height": null,
            "max_width": null,
            "min_height": null,
            "min_width": null,
            "object_fit": null,
            "object_position": null,
            "order": null,
            "overflow": null,
            "overflow_x": null,
            "overflow_y": null,
            "padding": null,
            "right": null,
            "top": null,
            "visibility": null,
            "width": null
          }
        },
        "1616e0aa30da478aa1fa60acc76043a7": {
          "model_module": "@jupyter-widgets/controls",
          "model_name": "ProgressStyleModel",
          "model_module_version": "1.5.0",
          "state": {
            "_model_module": "@jupyter-widgets/controls",
            "_model_module_version": "1.5.0",
            "_model_name": "ProgressStyleModel",
            "_view_count": null,
            "_view_module": "@jupyter-widgets/base",
            "_view_module_version": "1.2.0",
            "_view_name": "StyleView",
            "bar_color": null,
            "description_width": ""
          }
        },
        "7dab68ad9c3e43d9af30bcb50f6b92b2": {
          "model_module": "@jupyter-widgets/base",
          "model_name": "LayoutModel",
          "model_module_version": "1.2.0",
          "state": {
            "_model_module": "@jupyter-widgets/base",
            "_model_module_version": "1.2.0",
            "_model_name": "LayoutModel",
            "_view_count": null,
            "_view_module": "@jupyter-widgets/base",
            "_view_module_version": "1.2.0",
            "_view_name": "LayoutView",
            "align_content": null,
            "align_items": null,
            "align_self": null,
            "border": null,
            "bottom": null,
            "display": null,
            "flex": null,
            "flex_flow": null,
            "grid_area": null,
            "grid_auto_columns": null,
            "grid_auto_flow": null,
            "grid_auto_rows": null,
            "grid_column": null,
            "grid_gap": null,
            "grid_row": null,
            "grid_template_areas": null,
            "grid_template_columns": null,
            "grid_template_rows": null,
            "height": null,
            "justify_content": null,
            "justify_items": null,
            "left": null,
            "margin": null,
            "max_height": null,
            "max_width": null,
            "min_height": null,
            "min_width": null,
            "object_fit": null,
            "object_position": null,
            "order": null,
            "overflow": null,
            "overflow_x": null,
            "overflow_y": null,
            "padding": null,
            "right": null,
            "top": null,
            "visibility": null,
            "width": null
          }
        },
        "94a0e2cbc0e34906915246e0b08eca1a": {
          "model_module": "@jupyter-widgets/controls",
          "model_name": "DescriptionStyleModel",
          "model_module_version": "1.5.0",
          "state": {
            "_model_module": "@jupyter-widgets/controls",
            "_model_module_version": "1.5.0",
            "_model_name": "DescriptionStyleModel",
            "_view_count": null,
            "_view_module": "@jupyter-widgets/base",
            "_view_module_version": "1.2.0",
            "_view_name": "StyleView",
            "description_width": ""
          }
        }
      }
    }
  },
  "cells": [
    {
      "cell_type": "markdown",
      "metadata": {
        "collapsed": true,
        "id": "5fsCX5JKBvKu"
      },
      "source": [
        "# Lab 2a - Pytorch Basics\n",
        "In today's lab we're going to actually get to build and train a complete neural network! The type of network we'll build is called a [Multilayer Perceptron (MLP)](https://en.wikipedia.org/wiki/Multilayer_perceptron), which is fantastic for tabular data like what we'll be dealing with.\n",
        "\n",
        "The task is to predict the quality of wine based on features like alcohol content and density, using a [publically available dataset](https://archive.ics.uci.edu/ml/datasets/Wine+Quality). The target variable of \"quality\" is a subjective measure of the wine's quality based on expert tasters.\n",
        "\n",
        "We'll go through a number of steps:\n",
        " * Acquiring and exploring the dataset\n",
        " * Splitting the dataset into train / validation / test partitions\n",
        " * Implementing a neural network and optimiser\n",
        " * Writing a training loop\n",
        " * Visualising our results\n",
        "\n",
        "<font color='red'>In this notebook we will approach this as a regression problem where we try to predict the numerical value representing the quality rating (between 0 and 9). In the lab02b notebook we will approach this as a classification problem instead by making some simple modifications. </font>"
      ]
    },
    {
      "cell_type": "markdown",
      "metadata": {
        "id": "gZ7QEtgv9Amp"
      },
      "source": [
        "## Data Acquisition\n",
        "Let's acquire our dataset! To read and manipulate it, we'll be using [Pandas](https://pandas.pydata.org/), which is great for tabular data.\n",
        "\n",
        "Fortunately for us, Pandas is able to load a dataset when given either a local file path or a web URL. We'll take advantage of the latter, and directly download the dataset from the web."
      ]
    },
    {
      "cell_type": "code",
      "metadata": {
        "id": "W8AJW2PhBvNf",
        "colab": {
          "base_uri": "https://localhost:8080/"
        },
        "outputId": "0a3a47a6-7d6b-4a4f-9d50-b6e4337db043"
      },
      "source": [
        "# Import Pandas\n",
        "import pandas as pd\n",
        "\n",
        "# There are two datasets available, but we'll just work with the larger, white\n",
        "# wine dataset. Feel free to play around with the red wine dataset once you've\n",
        "# finished the lab\n",
        "red_wine_url = \"https://archive.ics.uci.edu/ml/machine-learning-databases/wine-quality/winequality-red.csv\"\n",
        "white_wine_url = \"https://archive.ics.uci.edu/ml/machine-learning-databases/wine-quality/winequality-white.csv\"\n",
        "\n",
        "# It's a single function call to load a dataset. CSV files typically use commas\n",
        "# as delimiters between records, but our dataset uses semicolons so we had to\n",
        "# specify it with the \"delimiter\" argument.\n",
        "all_data = pd.read_csv(white_wine_url, delimiter=';')\n",
        "\n",
        "print(type(all_data))"
      ],
      "execution_count": null,
      "outputs": [
        {
          "output_type": "stream",
          "name": "stdout",
          "text": [
            "<class 'pandas.core.frame.DataFrame'>\n"
          ]
        }
      ]
    },
    {
      "cell_type": "markdown",
      "metadata": {
        "id": "Dgg3KyF0QXhg"
      },
      "source": [
        "As we can see above, the type of object we just created is a `DataFrame`. This is how Pandas represent tabular data and provides a lot of functionality!\n",
        "\n",
        "Open [this link](https://pandas.pydata.org/pandas-docs/stable/reference/api/pandas.DataFrame.html) to the class documentation with a list of methods and their descriptions, and refer to it frequently during this lab."
      ]
    },
    {
      "cell_type": "markdown",
      "metadata": {
        "id": "Q7tbfD8Ytbtb"
      },
      "source": [
        "## Data Exploration\n",
        "The first step in any project is to get familiar with the dataset. It can be very tempting to jump ahead and start building a neural network, but a lot of unexpected problems can arise if you don't understand the dataset. This dataset is already very clean - meaning that there are few problems with it - so we don't need to work too hard at this."
      ]
    },
    {
      "cell_type": "markdown",
      "metadata": {
        "id": "v5PhMs-yQNNU"
      },
      "source": [
        "First up, let's just have a look at a few rows of the dataset. This is achieved by calling the method `head` on your `DataFrame`. Calling this method will display a table of the first few example in the dataset."
      ]
    },
    {
      "cell_type": "code",
      "metadata": {
        "id": "j6TVSm0CPeGk",
        "colab": {
          "base_uri": "https://localhost:8080/",
          "height": 285
        },
        "outputId": "a2d6a07d-5c42-43e6-adc7-d0453cbf70de"
      },
      "source": [
        "all_data.head()"
      ],
      "execution_count": null,
      "outputs": [
        {
          "output_type": "execute_result",
          "data": {
            "text/html": [
              "\n",
              "  <div id=\"df-9ecf7630-fbdf-4a55-8075-5422c1bee1e0\">\n",
              "    <div class=\"colab-df-container\">\n",
              "      <div>\n",
              "<style scoped>\n",
              "    .dataframe tbody tr th:only-of-type {\n",
              "        vertical-align: middle;\n",
              "    }\n",
              "\n",
              "    .dataframe tbody tr th {\n",
              "        vertical-align: top;\n",
              "    }\n",
              "\n",
              "    .dataframe thead th {\n",
              "        text-align: right;\n",
              "    }\n",
              "</style>\n",
              "<table border=\"1\" class=\"dataframe\">\n",
              "  <thead>\n",
              "    <tr style=\"text-align: right;\">\n",
              "      <th></th>\n",
              "      <th>fixed acidity</th>\n",
              "      <th>volatile acidity</th>\n",
              "      <th>citric acid</th>\n",
              "      <th>residual sugar</th>\n",
              "      <th>chlorides</th>\n",
              "      <th>free sulfur dioxide</th>\n",
              "      <th>total sulfur dioxide</th>\n",
              "      <th>density</th>\n",
              "      <th>pH</th>\n",
              "      <th>sulphates</th>\n",
              "      <th>alcohol</th>\n",
              "      <th>quality</th>\n",
              "    </tr>\n",
              "  </thead>\n",
              "  <tbody>\n",
              "    <tr>\n",
              "      <th>0</th>\n",
              "      <td>7.0</td>\n",
              "      <td>0.27</td>\n",
              "      <td>0.36</td>\n",
              "      <td>20.7</td>\n",
              "      <td>0.045</td>\n",
              "      <td>45.0</td>\n",
              "      <td>170.0</td>\n",
              "      <td>1.0010</td>\n",
              "      <td>3.00</td>\n",
              "      <td>0.45</td>\n",
              "      <td>8.8</td>\n",
              "      <td>6</td>\n",
              "    </tr>\n",
              "    <tr>\n",
              "      <th>1</th>\n",
              "      <td>6.3</td>\n",
              "      <td>0.30</td>\n",
              "      <td>0.34</td>\n",
              "      <td>1.6</td>\n",
              "      <td>0.049</td>\n",
              "      <td>14.0</td>\n",
              "      <td>132.0</td>\n",
              "      <td>0.9940</td>\n",
              "      <td>3.30</td>\n",
              "      <td>0.49</td>\n",
              "      <td>9.5</td>\n",
              "      <td>6</td>\n",
              "    </tr>\n",
              "    <tr>\n",
              "      <th>2</th>\n",
              "      <td>8.1</td>\n",
              "      <td>0.28</td>\n",
              "      <td>0.40</td>\n",
              "      <td>6.9</td>\n",
              "      <td>0.050</td>\n",
              "      <td>30.0</td>\n",
              "      <td>97.0</td>\n",
              "      <td>0.9951</td>\n",
              "      <td>3.26</td>\n",
              "      <td>0.44</td>\n",
              "      <td>10.1</td>\n",
              "      <td>6</td>\n",
              "    </tr>\n",
              "    <tr>\n",
              "      <th>3</th>\n",
              "      <td>7.2</td>\n",
              "      <td>0.23</td>\n",
              "      <td>0.32</td>\n",
              "      <td>8.5</td>\n",
              "      <td>0.058</td>\n",
              "      <td>47.0</td>\n",
              "      <td>186.0</td>\n",
              "      <td>0.9956</td>\n",
              "      <td>3.19</td>\n",
              "      <td>0.40</td>\n",
              "      <td>9.9</td>\n",
              "      <td>6</td>\n",
              "    </tr>\n",
              "    <tr>\n",
              "      <th>4</th>\n",
              "      <td>7.2</td>\n",
              "      <td>0.23</td>\n",
              "      <td>0.32</td>\n",
              "      <td>8.5</td>\n",
              "      <td>0.058</td>\n",
              "      <td>47.0</td>\n",
              "      <td>186.0</td>\n",
              "      <td>0.9956</td>\n",
              "      <td>3.19</td>\n",
              "      <td>0.40</td>\n",
              "      <td>9.9</td>\n",
              "      <td>6</td>\n",
              "    </tr>\n",
              "  </tbody>\n",
              "</table>\n",
              "</div>\n",
              "      <button class=\"colab-df-convert\" onclick=\"convertToInteractive('df-9ecf7630-fbdf-4a55-8075-5422c1bee1e0')\"\n",
              "              title=\"Convert this dataframe to an interactive table.\"\n",
              "              style=\"display:none;\">\n",
              "        \n",
              "  <svg xmlns=\"http://www.w3.org/2000/svg\" height=\"24px\"viewBox=\"0 0 24 24\"\n",
              "       width=\"24px\">\n",
              "    <path d=\"M0 0h24v24H0V0z\" fill=\"none\"/>\n",
              "    <path d=\"M18.56 5.44l.94 2.06.94-2.06 2.06-.94-2.06-.94-.94-2.06-.94 2.06-2.06.94zm-11 1L8.5 8.5l.94-2.06 2.06-.94-2.06-.94L8.5 2.5l-.94 2.06-2.06.94zm10 10l.94 2.06.94-2.06 2.06-.94-2.06-.94-.94-2.06-.94 2.06-2.06.94z\"/><path d=\"M17.41 7.96l-1.37-1.37c-.4-.4-.92-.59-1.43-.59-.52 0-1.04.2-1.43.59L10.3 9.45l-7.72 7.72c-.78.78-.78 2.05 0 2.83L4 21.41c.39.39.9.59 1.41.59.51 0 1.02-.2 1.41-.59l7.78-7.78 2.81-2.81c.8-.78.8-2.07 0-2.86zM5.41 20L4 18.59l7.72-7.72 1.47 1.35L5.41 20z\"/>\n",
              "  </svg>\n",
              "      </button>\n",
              "      \n",
              "  <style>\n",
              "    .colab-df-container {\n",
              "      display:flex;\n",
              "      flex-wrap:wrap;\n",
              "      gap: 12px;\n",
              "    }\n",
              "\n",
              "    .colab-df-convert {\n",
              "      background-color: #E8F0FE;\n",
              "      border: none;\n",
              "      border-radius: 50%;\n",
              "      cursor: pointer;\n",
              "      display: none;\n",
              "      fill: #1967D2;\n",
              "      height: 32px;\n",
              "      padding: 0 0 0 0;\n",
              "      width: 32px;\n",
              "    }\n",
              "\n",
              "    .colab-df-convert:hover {\n",
              "      background-color: #E2EBFA;\n",
              "      box-shadow: 0px 1px 2px rgba(60, 64, 67, 0.3), 0px 1px 3px 1px rgba(60, 64, 67, 0.15);\n",
              "      fill: #174EA6;\n",
              "    }\n",
              "\n",
              "    [theme=dark] .colab-df-convert {\n",
              "      background-color: #3B4455;\n",
              "      fill: #D2E3FC;\n",
              "    }\n",
              "\n",
              "    [theme=dark] .colab-df-convert:hover {\n",
              "      background-color: #434B5C;\n",
              "      box-shadow: 0px 1px 3px 1px rgba(0, 0, 0, 0.15);\n",
              "      filter: drop-shadow(0px 1px 2px rgba(0, 0, 0, 0.3));\n",
              "      fill: #FFFFFF;\n",
              "    }\n",
              "  </style>\n",
              "\n",
              "      <script>\n",
              "        const buttonEl =\n",
              "          document.querySelector('#df-9ecf7630-fbdf-4a55-8075-5422c1bee1e0 button.colab-df-convert');\n",
              "        buttonEl.style.display =\n",
              "          google.colab.kernel.accessAllowed ? 'block' : 'none';\n",
              "\n",
              "        async function convertToInteractive(key) {\n",
              "          const element = document.querySelector('#df-9ecf7630-fbdf-4a55-8075-5422c1bee1e0');\n",
              "          const dataTable =\n",
              "            await google.colab.kernel.invokeFunction('convertToInteractive',\n",
              "                                                     [key], {});\n",
              "          if (!dataTable) return;\n",
              "\n",
              "          const docLinkHtml = 'Like what you see? Visit the ' +\n",
              "            '<a target=\"_blank\" href=https://colab.research.google.com/notebooks/data_table.ipynb>data table notebook</a>'\n",
              "            + ' to learn more about interactive tables.';\n",
              "          element.innerHTML = '';\n",
              "          dataTable['output_type'] = 'display_data';\n",
              "          await google.colab.output.renderOutput(dataTable, element);\n",
              "          const docLink = document.createElement('div');\n",
              "          docLink.innerHTML = docLinkHtml;\n",
              "          element.appendChild(docLink);\n",
              "        }\n",
              "      </script>\n",
              "    </div>\n",
              "  </div>\n",
              "  "
            ],
            "text/plain": [
              "   fixed acidity  volatile acidity  citric acid  residual sugar  chlorides  \\\n",
              "0            7.0              0.27         0.36            20.7      0.045   \n",
              "1            6.3              0.30         0.34             1.6      0.049   \n",
              "2            8.1              0.28         0.40             6.9      0.050   \n",
              "3            7.2              0.23         0.32             8.5      0.058   \n",
              "4            7.2              0.23         0.32             8.5      0.058   \n",
              "\n",
              "   free sulfur dioxide  total sulfur dioxide  density    pH  sulphates  \\\n",
              "0                 45.0                 170.0   1.0010  3.00       0.45   \n",
              "1                 14.0                 132.0   0.9940  3.30       0.49   \n",
              "2                 30.0                  97.0   0.9951  3.26       0.44   \n",
              "3                 47.0                 186.0   0.9956  3.19       0.40   \n",
              "4                 47.0                 186.0   0.9956  3.19       0.40   \n",
              "\n",
              "   alcohol  quality  \n",
              "0      8.8        6  \n",
              "1      9.5        6  \n",
              "2     10.1        6  \n",
              "3      9.9        6  \n",
              "4      9.9        6  "
            ]
          },
          "metadata": {},
          "execution_count": 2
        }
      ]
    },
    {
      "cell_type": "markdown",
      "metadata": {
        "id": "2frU8-Rmy0pu"
      },
      "source": [
        "As we can see, our dataset has a number of columns including density, pH and alcohol contents. \\\n",
        "Our task today is to predict the last column - **quality**. This is a 0-10 value indicating the wine's quality score, as measured by wine tasting experts.\n",
        "A score of 0 is terrible wine, and a score of 10 is the best wine possible."
      ]
    },
    {
      "cell_type": "markdown",
      "metadata": {
        "id": "FScJRVVB9oA3"
      },
      "source": [
        "### Check for Missing Data\n",
        "It's very important that we check for any missing data before using it. Passing a missing value into a neural network will result in unexpected behaviour, and almost certainly degrade its performance. To avoid this we first check if there are any null values, and fix those that we encounter.\n",
        "\n",
        "*This dataset doesn't contain any null values, so we don't need to fix it. Common strategies include replacing nulls with the mean value for that attribute, the value zero, or just deleting the entire example.*"
      ]
    },
    {
      "cell_type": "code",
      "metadata": {
        "id": "-INHVBg79sN9",
        "colab": {
          "base_uri": "https://localhost:8080/"
        },
        "outputId": "bf4db059-6ae6-43dd-8d22-380c145bd8b6"
      },
      "source": [
        "# Set each value in the DataFrame to True where it's null, then count the number\n",
        "# of True values\n",
        "all_data.isnull().sum()"
      ],
      "execution_count": null,
      "outputs": [
        {
          "output_type": "execute_result",
          "data": {
            "text/plain": [
              "fixed acidity           0\n",
              "volatile acidity        0\n",
              "citric acid             0\n",
              "residual sugar          0\n",
              "chlorides               0\n",
              "free sulfur dioxide     0\n",
              "total sulfur dioxide    0\n",
              "density                 0\n",
              "pH                      0\n",
              "sulphates               0\n",
              "alcohol                 0\n",
              "quality                 0\n",
              "dtype: int64"
            ]
          },
          "metadata": {},
          "execution_count": 3
        }
      ]
    },
    {
      "cell_type": "markdown",
      "metadata": {
        "id": "tRlwDZywtmFw"
      },
      "source": [
        "### Plot Feature Distributions\n",
        "Now that we're confident that there is no missing data, we can look at the distribution of the features. We'll do this using a histogram, which is a type of bar graph which counts the number of values that fall into different regions.\n",
        "\n",
        "Luckily for us, `DataFrame` objects have a method called `hist` which does the hard work for us!"
      ]
    },
    {
      "cell_type": "code",
      "metadata": {
        "id": "MuJD-jKyvpwt",
        "colab": {
          "base_uri": "https://localhost:8080/",
          "height": 607
        },
        "outputId": "f61a30b4-ccd1-4404-990b-06245e507b3e"
      },
      "source": [
        "all_data.hist(bins=20, figsize=(15, 10));"
      ],
      "execution_count": null,
      "outputs": [
        {
          "output_type": "display_data",
          "data": {
            "image/png": "[encoded data removed]",
            "text/plain": [
              "<Figure size 1080x720 with 12 Axes>"
            ]
          },
          "metadata": {
            "needs_background": "light"
          }
        }
      ]
    },
    {
      "cell_type": "markdown",
      "metadata": {
        "id": "_RmShl6L9xy3"
      },
      "source": [
        "Looking at the distribution of the target attribute `quality`, we can see that there are very few examples with values of 3, 4, 8, and 9. This means that the dataset is unbalanced, usually resulting a model that performs poorly on the underrepresented examples. We would normally apply [a few tricks](https://en.wikipedia.org/wiki/Oversampling_and_undersampling_in_data_analysis) to resolve this, but we will just ignore it for this lab."
      ]
    },
    {
      "cell_type": "markdown",
      "metadata": {
        "id": "fZncp6399yUU"
      },
      "source": [
        "## Partition the Dataset\n",
        "Now we'll split our dataset into three partitions - training, validation and testing. Each of these partitions have a specific function in guiding the experimental process:\n",
        " * Training: the partition which the model directly uses during weight optimisation during training.\n",
        " * Validation: the model isn't allowed to use this partition during training; we instead fine-tune our hyperparameters (e.g. initial learning rate, optimization algorithm used, etc.) based on the model's performance on this sample.\n",
        " * Testing: this partition is used to evaluate model performance on previously unseen data. We shouldn't use this partition to optimise the model *or* fine-tune hyperparameters. Usually you only use this partition once at the very end when you want to see just how well your trained model generalizes to completely new data."
      ]
    },
    {
      "cell_type": "markdown",
      "metadata": {
        "id": "y1cAvwonXsMD"
      },
      "source": [
        "As our task is to predict the wine quality from the other attributes, we will first have to separate the wine quality column from the rest. We typically call the input features `x` and the target features `y`.\n",
        "\n",
        "Before doing so, let's take a look at how to handle columns in Pandas.\n",
        "\n"
      ]
    },
    {
      "cell_type": "code",
      "metadata": {
        "id": "ybsXbCl5YDfJ",
        "colab": {
          "base_uri": "https://localhost:8080/"
        },
        "outputId": "9aaabef2-c9ae-47d8-e140-35e09ffc423a"
      },
      "source": [
        "# We use the following function to extract a single column from a DataFrame. \n",
        "# The function returns a series instead of a DataFrame. \n",
        "# A series is essentially a 1D array, so it doesn't have any concept of columns.\n",
        "print(all_data[\"sulphates\"])\n",
        "print('-' * 50)\n",
        "\n",
        "# Here we end up with the same data as above, but this time we receive a DataFrame\n",
        "# with a single column (note how we passed the column name in a list) instead of series.\n",
        "print(all_data[[\"sulphates\"]])\n",
        "print('-' * 50)\n",
        "\n",
        "# The code below returns multiple columns\n",
        "print(all_data[[\"sulphates\", \"density\"]])\n",
        "print('-' * 50)\n",
        "\n",
        "# The code below returns all *but* one column. We need to pass axis=1 to indicate\n",
        "# that we're dropping a column, not a row.\n",
        "print(all_data.drop(\"sulphates\", axis=1))\n",
        "print('-' * 50)"
      ],
      "execution_count": null,
      "outputs": [
        {
          "output_type": "stream",
          "name": "stdout",
          "text": [
            "0       0.45\n",
            "1       0.49\n",
            "2       0.44\n",
            "3       0.40\n",
            "4       0.40\n",
            "        ... \n",
            "4893    0.50\n",
            "4894    0.46\n",
            "4895    0.46\n",
            "4896    0.38\n",
            "4897    0.32\n",
            "Name: sulphates, Length: 4898, dtype: float64\n",
            "--------------------------------------------------\n",
            "      sulphates\n",
            "0          0.45\n",
            "1          0.49\n",
            "2          0.44\n",
            "3          0.40\n",
            "4          0.40\n",
            "...         ...\n",
            "4893       0.50\n",
            "4894       0.46\n",
            "4895       0.46\n",
            "4896       0.38\n",
            "4897       0.32\n",
            "\n",
            "[4898 rows x 1 columns]\n",
            "--------------------------------------------------\n",
            "      sulphates  density\n",
            "0          0.45  1.00100\n",
            "1          0.49  0.99400\n",
            "2          0.44  0.99510\n",
            "3          0.40  0.99560\n",
            "4          0.40  0.99560\n",
            "...         ...      ...\n",
            "4893       0.50  0.99114\n",
            "4894       0.46  0.99490\n",
            "4895       0.46  0.99254\n",
            "4896       0.38  0.98869\n",
            "4897       0.32  0.98941\n",
            "\n",
            "[4898 rows x 2 columns]\n",
            "--------------------------------------------------\n",
            "      fixed acidity  volatile acidity  citric acid  residual sugar  chlorides  \\\n",
            "0               7.0              0.27         0.36            20.7      0.045   \n",
            "1               6.3              0.30         0.34             1.6      0.049   \n",
            "2               8.1              0.28         0.40             6.9      0.050   \n",
            "3               7.2              0.23         0.32             8.5      0.058   \n",
            "4               7.2              0.23         0.32             8.5      0.058   \n",
            "...             ...               ...          ...             ...        ...   \n",
            "4893            6.2              0.21         0.29             1.6      0.039   \n",
            "4894            6.6              0.32         0.36             8.0      0.047   \n",
            "4895            6.5              0.24         0.19             1.2      0.041   \n",
            "4896            5.5              0.29         0.30             1.1      0.022   \n",
            "4897            6.0              0.21         0.38             0.8      0.020   \n",
            "\n",
            "      free sulfur dioxide  total sulfur dioxide  density    pH  alcohol  \\\n",
            "0                    45.0                 170.0  1.00100  3.00      8.8   \n",
            "1                    14.0                 132.0  0.99400  3.30      9.5   \n",
            "2                    30.0                  97.0  0.99510  3.26     10.1   \n",
            "3                    47.0                 186.0  0.99560  3.19      9.9   \n",
            "4                    47.0                 186.0  0.99560  3.19      9.9   \n",
            "...                   ...                   ...      ...   ...      ...   \n",
            "4893                 24.0                  92.0  0.99114  3.27     11.2   \n",
            "4894                 57.0                 168.0  0.99490  3.15      9.6   \n",
            "4895                 30.0                 111.0  0.99254  2.99      9.4   \n",
            "4896                 20.0                 110.0  0.98869  3.34     12.8   \n",
            "4897                 22.0                  98.0  0.98941  3.26     11.8   \n",
            "\n",
            "      quality  \n",
            "0           6  \n",
            "1           6  \n",
            "2           6  \n",
            "3           6  \n",
            "4           6  \n",
            "...       ...  \n",
            "4893        6  \n",
            "4894        5  \n",
            "4895        6  \n",
            "4896        7  \n",
            "4897        6  \n",
            "\n",
            "[4898 rows x 11 columns]\n",
            "--------------------------------------------------\n"
          ]
        }
      ]
    },
    {
      "cell_type": "markdown",
      "metadata": {
        "id": "HrvUipMNt06C"
      },
      "source": [
        "<font color='red'>In the next cell, separate the inputs and labels into two variables, using the cell above for reference.</font>"
      ]
    },
    {
      "cell_type": "code",
      "metadata": {
        "id": "mcEDRSKjrI18",
        "colab": {
          "base_uri": "https://localhost:8080/"
        },
        "outputId": "6f655a9f-79a0-4faf-b665-3e6a68b89a55"
      },
      "source": [
        "target_column = \"quality\"\n",
        "\n",
        "# TODO: Extract just the *input* features. Instead of specifying all of the features we\n",
        "# want, we should drop the feature we *don't* want.\n",
        "\n",
        "# SOLUTION LINE\n",
        "x_data = all_data.drop(target_column, axis=1)\n",
        "\n",
        "# TODO: Extract the target feature. We don't want a Series here, but a DataFrame\n",
        "# with one column (see the above cell)\n",
        "# y_data = ...\n",
        "\n",
        "# SOLUTION LINE\n",
        "y_data = all_data[[target_column]]\n",
        "\n",
        "# If your implementation is correct the shape of y_data should be (4898, 1)\n",
        "# So y_data is a 2D tensor containing 4898 examples and just 1 feature.\n",
        "print(\"y_data shape:\", y_data.shape) \n",
        "\n",
        "# Just like with tensors, we can print the shape\n",
        "num_examples = x_data.shape[0]\n",
        "num_input_features = x_data.shape[1]\n",
        "\n",
        "# If your implementation is correct the number of samples should be 4898\n",
        "print(\"Number of examples:\", num_examples) \n",
        "\n",
        "# If your implementation is correct the number of input features should be 11\n",
        "print(\"Number of input features:\", num_input_features)\n",
        "\n",
        "# If your implementation the shape of the x_data tensor should be (4898, 11)\n",
        "# which means it is a 2D array where each row represents one example and each\n",
        "# column represents one feature\n",
        "print(\"x_data shape:\", x_data.shape )"
      ],
      "execution_count": null,
      "outputs": [
        {
          "output_type": "stream",
          "name": "stdout",
          "text": [
            "y_data shape: (4898, 1)\n",
            "Number of examples: 4898\n",
            "Number of input features: 11\n",
            "x_data shape: (4898, 11)\n"
          ]
        }
      ]
    },
    {
      "cell_type": "markdown",
      "metadata": {
        "id": "ogYWdNvabYP4"
      },
      "source": [
        "We've split the dataset into inputs and targets, but now we need to actually partition it into train, val, and test splits. There are numerous ways of doing this, but here we'll present the most simple."
      ]
    },
    {
      "cell_type": "markdown",
      "metadata": {
        "id": "zZwPbJpHej5S"
      },
      "source": [
        "First up, we'll convert our `DataFrame` objects into tensors so we can have torch perform the random partitioning.\n",
        "\n",
        "<font color='red'>In the next cell, complete the code to convert the data to PyTorch tensors.</font>"
      ]
    },
    {
      "cell_type": "code",
      "metadata": {
        "id": "R4dK-21abmtk"
      },
      "source": [
        "# Import Torch and the dataset utilities we need\n",
        "import torch\n",
        "from torch.utils.data import DataLoader, Dataset, TensorDataset, random_split\n",
        "\n",
        "# The percentages for each partition\n",
        "TRAIN_SPLIT = 0.8\n",
        "VAL_SPLIT = 0.1\n",
        "TEST_SPLIT = 0.1\n",
        "# Ensure that the splits add to 100%\n",
        "assert TRAIN_SPLIT + VAL_SPLIT + TEST_SPLIT == 1\n",
        "\n",
        "\n",
        "# TODO: Create two tensors and initialise them with x_data.values and y_data.values.\n",
        "# The dtype should be torch.float32. DataFrame.values directly returns the 2D\n",
        "# data in the dataframe, which is what Torch requires to initialise a tensor.\n",
        "# we have done the initialization for x_tensor for you. Please do something similar\n",
        "# the y_tensor.\n",
        "\n",
        "x_tensor = torch.tensor(x_data.values, dtype=torch.float32)\n",
        "\n",
        "# SOLUTION LINE\n",
        "y_tensor = torch.tensor(y_data.values, dtype=torch.float32)\n",
        "\n",
        "assert torch.is_tensor(x_tensor) and x_tensor.dtype == torch.float32\n",
        "assert torch.is_tensor(y_tensor) and y_tensor.dtype == torch.float32\n",
        "\n",
        "# Now we construct a TensorDataset - a simple class used to associate each x and\n",
        "# y value in our tensors.\n",
        "full_dataset = TensorDataset(x_tensor, y_tensor)"
      ],
      "execution_count": null,
      "outputs": []
    },
    {
      "cell_type": "markdown",
      "metadata": {
        "id": "R199K4j-e2HM"
      },
      "source": [
        "Now we just need to compute the number of examples in each partition and actually split the dataset into train, val, and test.\n",
        "\n",
        "<font color='red'>In the next cell, complete the code to split the data into three partitions.</font>"
      ]
    },
    {
      "cell_type": "code",
      "metadata": {
        "id": "wX2E5L1Fx3p3",
        "colab": {
          "base_uri": "https://localhost:8080/"
        },
        "outputId": "08bf7974-e16c-4135-80fe-a3cd3667dfbd"
      },
      "source": [
        "# Calculate the number of examples in each partition\n",
        "train_size = int(TRAIN_SPLIT * len(all_data))\n",
        "val_size = int(VAL_SPLIT * len(all_data))\n",
        "test_size = len(all_data) - train_size - val_size\n",
        "\n",
        "print(\"Train examples:     \", train_size)\n",
        "print(\"Validation examples:\", val_size)\n",
        "print(\"Test examples:      \", test_size)\n",
        "\n",
        "# Before we actually split the dataset, we seed Torch's random number generator.\n",
        "# This ensure that we end up with the exact same partitions every time it's run.\n",
        "torch.manual_seed(42)\n",
        "\n",
        "# TODO: Split the dataset using the random_split function we imported earlier.\n",
        "# The function takes a dataset and a list of partition lengths.\n",
        "# Hint: We already have all of these variables available\n",
        "#       You can see an example here:\n",
        "#       https://www.programcreek.com/python/example/125046/torch.utils.data.random_split\n",
        "# train_dataset, val_dataset, test_dataset = random_split(...)\n",
        "\n",
        "# SOLUTION LINE\n",
        "train_dataset, val_dataset, test_dataset = random_split(full_dataset, [train_size, val_size, test_size])"
      ],
      "execution_count": null,
      "outputs": [
        {
          "output_type": "stream",
          "name": "stdout",
          "text": [
            "Train examples:      3918\n",
            "Validation examples: 489\n",
            "Test examples:       491\n"
          ]
        }
      ]
    },
    {
      "cell_type": "markdown",
      "metadata": {
        "id": "-4h0HJyxCcIf"
      },
      "source": [
        "## Number of data items in each dataset\n",
        "\n",
        "A simple way to find out the number of data items in a dataset is to use the len function."
      ]
    },
    {
      "cell_type": "code",
      "metadata": {
        "id": "ZB86JThhCosm",
        "colab": {
          "base_uri": "https://localhost:8080/"
        },
        "outputId": "2b63401b-4b73-44b7-f9a8-60c2d6cefa35"
      },
      "source": [
        "print(\"train set size: \", len(train_dataset))\n",
        "print(\"validation set size: \", len(val_dataset))\n",
        "print(\"test set size: \", len(test_dataset))\n"
      ],
      "execution_count": null,
      "outputs": [
        {
          "output_type": "stream",
          "name": "stdout",
          "text": [
            "train set size:  3918\n",
            "validation set size:  489\n",
            "test set size:  491\n"
          ]
        }
      ]
    },
    {
      "cell_type": "markdown",
      "metadata": {
        "id": "s-XI39wwe-i6"
      },
      "source": [
        "## Create the DataLoaders\n",
        "Torch uses `DataLoader` objects during training to sample values from each `Dataset`. The `DataLoader` handles shuffling the data, as well as gathering the examples into batches. We will need three loaders, as we have three partitions.\n",
        "\n",
        "<font color='red'>In the next cell, initialise three `DataLoader` objects - one for each of the partitions.</font>"
      ]
    },
    {
      "cell_type": "code",
      "metadata": {
        "id": "z3NZrKhIeTvB"
      },
      "source": [
        "# When you've finished the lab, try modifying the batch size to see what effect\n",
        "# it has on your results\n",
        "BATCH_SIZE = 64\n",
        "\n",
        "# TODO: Construct a DataLoader for each Dataset. The constructor takes three\n",
        "# arguments - a Dataset, the batch size, and a boolean indicating whether it\n",
        "# should shuffled. We will set shuffle=True for train dataloader and \n",
        "# shuffle=False for the other two. We have written the train_loader for you\n",
        "# you should write the rest.\n",
        "\n",
        "train_loader = train_loader = DataLoader(train_dataset, batch_size=BATCH_SIZE, shuffle=True)\n",
        "# val_loader = DataLoader(...\n",
        "# test_loader = DataLoader(...\n",
        "\n",
        "# SOLUTION LINE\n",
        "val_loader = DataLoader(val_dataset, batch_size=BATCH_SIZE, shuffle=False)\n",
        "# SOLUTION LINE\n",
        "test_loader = DataLoader(test_dataset, batch_size=BATCH_SIZE, shuffle=False)"
      ],
      "execution_count": null,
      "outputs": []
    },
    {
      "cell_type": "markdown",
      "metadata": {
        "id": "D2uPyQrl0Qkh"
      },
      "source": [
        "We now have three DataLoaders, but how do they work?\n",
        "\n",
        "In the previous lab we saw that we can iterate over a list of values very easily in Python:\n",
        "```python\n",
        "for x in [1, 2, 3]:\n",
        "    # Do something with x\n",
        "```\n",
        "\n",
        "The `DataLoader` class gives us that same functionality but with a batch of inputs and labels at a time instead of a single value:\n",
        "```python\n",
        "for batch in my_dataloader:\n",
        "    inputs, labels = batch  # <- tuple unpacking*\n",
        "    # Do something with the inputs and labels\n",
        "```\n",
        "*_You might not have seen tuple unpacking before. This Python feature allows you to extract values from a list or tuple. For example, this code would give x and y the values of 1 and 2, respectively: `x, y = (1, 2)`_\n",
        "\\\n",
        "\\\n",
        "<font color='red'>In the next cell, iterate over the training `DataLoader` and insert code to do the following</font>:\n",
        " 1. Unpack the inputs and labels for the batch\n",
        " 1. Print out their shapes\n",
        " 1. Exit the loop early by using a `break` statement. (so we don't loop over the entire dataset)\n",
        "\n",
        " The output should be for the input and label shapes:\n",
        " \\\n",
        " torch.Size([64, 11]) torch.Size([64, 1])\n"
      ]
    },
    {
      "cell_type": "code",
      "metadata": {
        "id": "-Ooi-PKq0Ny8",
        "colab": {
          "base_uri": "https://localhost:8080/"
        },
        "outputId": "bd93bbff-8f7c-4e6c-98c4-ba2b0c518344"
      },
      "source": [
        "# TODO: Loop over the training dataloader\n",
        "# SOLUTION LINE:\n",
        "for batch in train_loader:\n",
        "  # 1. Unpack the inputs and labels for the batch\n",
        "  # SOLUTION LINE:\n",
        "  inputs, labels = batch\n",
        "\n",
        "  # 2. Print out their shapes\n",
        "  # SOLUTION LINE:\n",
        "  print(inputs.shape, labels.shape)\n",
        "\n",
        "  # 3. Exit early with a break statement\n",
        "  # SOLUTION LINE:\n",
        "  break"
      ],
      "execution_count": null,
      "outputs": [
        {
          "output_type": "stream",
          "name": "stdout",
          "text": [
            "torch.Size([64, 11]) torch.Size([64, 1])\n"
          ]
        }
      ]
    },
    {
      "cell_type": "markdown",
      "metadata": {
        "id": "v59BnxUq3TqC"
      },
      "source": [
        "Take note of the shapes:\n",
        " * The input shape is `[batch_size, num_input_features]`\n",
        " * The output shape is `[batch_size, num_target_features]`"
      ]
    },
    {
      "cell_type": "markdown",
      "metadata": {
        "id": "2ldsYbNK96_t"
      },
      "source": [
        "## Set Up for Training\n",
        "We're finally done with data manipulation! Data manipulation is typically the most time-intensive and important task in a deep-learning project, so consider yourself lucky!\n",
        "\n",
        "Now we'll go through everything from building the model, to writing a complete training loop!"
      ]
    },
    {
      "cell_type": "markdown",
      "metadata": {
        "id": "ojUURBDh9-hm"
      },
      "source": [
        "### Enable GPU Training *(if available)*\n",
        "The rise in popularity of deep learning is largely a result of the availability of good Graphics Processing Units. So although it's not required, it's definitely good to utilise a GPU if you can.\n",
        "\n",
        "It's exceptionally easy to use a compatible GPU in Pytorch - we can do it in just a few lines of code!"
      ]
    },
    {
      "cell_type": "code",
      "metadata": {
        "id": "2co2qquU7lcR",
        "colab": {
          "base_uri": "https://localhost:8080/"
        },
        "outputId": "d5965bc3-8d04-4cdf-f3d8-704f5d1bcbae"
      },
      "source": [
        "# By default we'll assume that GPU acceleration isn't available\n",
        "device = torch.device(\"cpu\")\n",
        "\n",
        "# Check if GPU acceleration is available (requires a CUDA-compatible GPU) and\n",
        "# set the device variable accordingly. If the computer has more than one GPU,\n",
        "# you can specify which one by replacing 0 with a different index\n",
        "if torch.cuda.is_available():\n",
        "    device = torch.device(\"cuda:0\")\n",
        "    torch.cuda.set_device(device)\n",
        "\n",
        "print(\"Training on\", device)"
      ],
      "execution_count": null,
      "outputs": [
        {
          "output_type": "stream",
          "name": "stdout",
          "text": [
            "Training on cuda:0\n"
          ]
        }
      ]
    },
    {
      "cell_type": "markdown",
      "metadata": {
        "id": "IRbspMJc-Egx"
      },
      "source": [
        "### Define the Model\n",
        "Torch allows us to build very complex custom models. For today's task we don't need anything complicated - we'll save that for later labs 😉\n",
        "\n",
        "To implement a model, we need to write a subclass of `nn.Module`. This class should implement a `forward` function, which is called with a batch of inputs to make predicitons.\n",
        "\n",
        "Our model will be composed of two linear layers, with an activation function inbetween. The easiest way to do this is to pass a `nn.Sequential` object with the layers as arguments. Torch stitches them together, so inputs are passed through each of the layers sequentially.\n",
        "\n",
        "<font color='red'>In the next cell, initialise a `Sequential` module with the specified layers.</font> \\\n",
        "Open up the links below for documentation and examples:\n",
        " * [nn.Sequential](https://pytorch.org/docs/stable/generated/torch.nn.Sequential.html)\n",
        " * [nn.Linear](https://pytorch.org/docs/stable/generated/torch.nn.Linear.html)\n",
        " * [nn.ReLU](https://pytorch.org/docs/stable/generated/torch.nn.ReLU.html)"
      ]
    },
    {
      "cell_type": "code",
      "metadata": {
        "id": "SM8YqMMz0kCE"
      },
      "source": [
        "# Import the neural network module of Pytorch. We access its methods like \"nn.Linear\"\n",
        "import torch.nn as nn\n",
        "\n",
        "# Our model class must subclass nn.Module\n",
        "class MLP(nn.Module):\n",
        "    # The __init__ method is similar to a constructor like you find in other\n",
        "    # languages. We will take the device as an argument to transfer the model to the GPU\n",
        "    def __init__(self, device):\n",
        "        super().__init__()\n",
        "        # TODO: Initialise a Sequential module consisting of the below layers, and\n",
        "        # store it in the member variable self.seq\n",
        "        #  - a Linear layer mapping from num_input_features to 20 hidden features\n",
        "        #  - a ReLU activation layer\n",
        "        #  - a Linear layer mapping from 20 hidden features to a single feature (the wine quality)\n",
        "        # You can look here for an example:\n",
        "        #     https://pytorch.org/docs/stable/generated/torch.nn.Sequential.html\n",
        "        # self.seq = nn.Sequential(...\n",
        "\n",
        "        # SOLUTION LINE\n",
        "        self.seq = nn.Sequential(nn.Linear(num_input_features, 20),\n",
        "                          nn.ReLU(),\n",
        "                          nn.Linear(20, 1))\n",
        "    \n",
        "        # The model stays on the CPU by default. Calling the \"to\" method transfers\n",
        "        # the model weights to whichever device we specified\n",
        "        self.to(device)\n",
        "\n",
        "    # Our forward method simply takes the input batch x, passes it through our\n",
        "    # Sequential module, and returns the outputs (predictions)\n",
        "    def forward(self, x):\n",
        "        return self.seq(x)"
      ],
      "execution_count": null,
      "outputs": []
    },
    {
      "cell_type": "markdown",
      "metadata": {
        "id": "JVlR_DGsuITZ"
      },
      "source": [
        "## Simple Training loop\n",
        "\n",
        "In the cell below we will write a very simple training loop to train the above model. This will allow you to see the whole training process at once. However, in proper production systems programmers write code in a more modular fashion. Maximizing the amount of reuse of code between, train and test loops. In the rest of the lab we will show you the more modular way to structure your code, which is closer to what is actually used in industry."
      ]
    },
    {
      "cell_type": "code",
      "metadata": {
        "id": "MjR6AGaWvV85",
        "colab": {
          "base_uri": "https://localhost:8080/"
        },
        "outputId": "976b204f-50e4-4241-ff20-259bce198b13"
      },
      "source": [
        "import torch.optim as optim\n",
        "\n",
        "# Use the mean squared error as the loss function\n",
        "criterion = nn.MSELoss()\n",
        "# Use MLP as the model\n",
        "model = MLP(device)\n",
        "# Use the SGD optimizer with initial learning rate set to 0.0001\n",
        "optimizer = torch.optim.SGD(model.parameters(), lr=0.0001)\n",
        "# The number of times we loop over the entire dataset\n",
        "total_epochs = 10\n",
        "for epoch in range(total_epochs):  # loop over the dataset multiple times\n",
        "\n",
        "    # The following is computed in a single pass through the dataset\n",
        "    running_loss = 0.0\n",
        "    for i, data in enumerate(train_loader, 0):\n",
        "        # get the inputs; data is a list of [inputs, labels]\n",
        "        inputs, labels = data\n",
        "\n",
        "        # Copy the data to the specified device\n",
        "        inputs, labels = inputs.to(device), labels.to(device)\n",
        "\n",
        "        # Put the model into train mode\n",
        "        model.train()\n",
        "\n",
        "        # Zero the parameter gradients\n",
        "        optimizer.zero_grad()\n",
        "\n",
        "        # Forward + backward + optimize\n",
        "        outputs = model(inputs)\n",
        "\n",
        "        # Compute the loss using the loss function\n",
        "        loss = criterion(outputs, labels)\n",
        "\n",
        "        # Perform backprop using the loss\n",
        "        loss.backward()\n",
        "        optimizer.step()\n",
        "        running_loss += loss.item()\n",
        "\n",
        "     # print statistics\n",
        "    print('epoch: %d loss: %.3f' % (epoch + 1, running_loss / len(train_loader)))\n",
        "        \n",
        "print('Finished Training')"
      ],
      "execution_count": null,
      "outputs": [
        {
          "output_type": "stream",
          "name": "stdout",
          "text": [
            "epoch: 1 loss: 5.040\n",
            "epoch: 2 loss: 2.930\n",
            "epoch: 3 loss: 2.528\n",
            "epoch: 4 loss: 2.257\n",
            "epoch: 5 loss: 1.982\n",
            "epoch: 6 loss: 1.820\n",
            "epoch: 7 loss: 1.660\n",
            "epoch: 8 loss: 1.558\n",
            "epoch: 9 loss: 1.618\n",
            "epoch: 10 loss: 1.259\n",
            "Finished Training\n"
          ]
        }
      ]
    },
    {
      "cell_type": "markdown",
      "metadata": {
        "id": "W_4VO_ZI6h8c"
      },
      "source": [
        "## Simple Testing loop\n"
      ]
    },
    {
      "cell_type": "code",
      "metadata": {
        "id": "crJwn4Z56iTE",
        "colab": {
          "base_uri": "https://localhost:8080/"
        },
        "outputId": "b3f71714-a1e9-415f-e092-e3b21720ce74"
      },
      "source": [
        "running_loss = 0.0\n",
        "for i, data in enumerate(test_loader, 0):\n",
        "   # get the inputs; data is a list of [inputs, labels]\n",
        "   inputs, labels = data\n",
        "\n",
        "   # Copy the data to the specified device\n",
        "   inputs, labels = inputs.to(device), labels.to(device)\n",
        "\n",
        "   # Put the model into eval mode\n",
        "   model.eval()\n",
        "\n",
        "   with torch.no_grad():\n",
        "    # Forward + backward + optimize\n",
        "    outputs = model(inputs)\n",
        "\n",
        "    # Compute the loss using the loss function\n",
        "    loss = criterion(outputs, labels)\n",
        "    running_loss += loss.item()\n",
        "\n",
        "print(\"test loss: \", running_loss/len(test_loader))\n"
      ],
      "execution_count": null,
      "outputs": [
        {
          "output_type": "stream",
          "name": "stdout",
          "text": [
            "test loss:  2.4354198575019836\n"
          ]
        }
      ]
    },
    {
      "cell_type": "markdown",
      "metadata": {
        "id": "fiki5n2rvebh"
      },
      "source": [
        "# Modular training and test code follows\n",
        "\n",
        "The following code will decompose the training loop into functions which maximizes the reuse of code within this project and also allows the code to be reused across other projects."
      ]
    },
    {
      "cell_type": "markdown",
      "metadata": {
        "id": "qgPp5Zs6-JqB"
      },
      "source": [
        "### Set Up the Loss Function\n",
        "In order to train the network, we need a loss function! A typical loss function for a regression task like this is [mean squared error (MSE)](https://pytorch.org/docs/stable/generated/torch.nn.MSELoss.html).\n",
        "\n",
        "We'll try different loss functions later, but this will do for now.\n",
        "\n",
        "<font color='red'>In the next cell, initialise the MSE loss function</font>. \\\n",
        "Refer to the above link if necessary."
      ]
    },
    {
      "cell_type": "code",
      "metadata": {
        "id": "GAU0jpBW7ysM"
      },
      "source": [
        "# Instantiate the MSE loss function with no arguments\n",
        "# loss_func = ...\n",
        "\n",
        "# SOLUTION LINE\n",
        "loss_func = nn.MSELoss()\n",
        "# SOLUTION LINE\n",
        "# loss_func = nn.L1Loss()\n",
        "# SOLUTION LINE\n",
        "# loss_func = nn.SmoothL1Loss()"
      ],
      "execution_count": null,
      "outputs": []
    },
    {
      "cell_type": "markdown",
      "metadata": {
        "id": "2LeU3_4b-Ouw"
      },
      "source": [
        "### Set Up the Optimiser\n",
        "An optimiser is used to update the model weights, and there are many variants available. For now we'll use stochastic gradient descent (SGD), which is the simplest optimiser. We'll try some variants later on and see how it effects our results."
      ]
    },
    {
      "cell_type": "code",
      "metadata": {
        "id": "XCUXpc3k2b_y"
      },
      "source": [
        "# We'll construct our optimiser inside a function - some optimisers have variables\n",
        "# and we want to make sure they start fresh each time we train a model.\n",
        "def construct_optimizer(model):\n",
        "    # When constructing an optimiser, must we provide the model parameters we\n",
        "    # with to optimise\n",
        "    return torch.optim.SGD(model.parameters(), lr=0.0001)\n",
        "\n",
        "    # SOLUTION LINE\n",
        "    # return torch.optim.SGD(model.parameters(), lr=0.0001, momentum=0.95)\n",
        "    # SOLUTION LINE\n",
        "    # return torch.optim.Adam(model.parameters(), lr=0.001)"
      ],
      "execution_count": null,
      "outputs": []
    },
    {
      "cell_type": "markdown",
      "metadata": {
        "id": "BRc1VWJG-YCX"
      },
      "source": [
        "### Implement the Training Loop\n",
        "Training requires quite a few things to happen, so we'll break it up into different functions to make it easier."
      ]
    },
    {
      "cell_type": "markdown",
      "metadata": {
        "id": "Ku1JOZ8kGdSM"
      },
      "source": [
        "First we'll write a function which performs a single training step on a batch of inputs/targets. In this function, we'll:\n",
        " 1. Copy the data to the GPU *(if available)*\n",
        " 2. Put the model into `train` mode *(some layers operate differently at train and test time)*\n",
        " 3. Set all parameter gradients to zero *(to start fresh in every training step)*\n",
        " 4. Have the model make a prediction for the batch\n",
        " 5. Compute the loss *(between predictions and targets)*\n",
        " 6. Backpropagate the loss to compute gradients\n",
        " 7. Update model weights\n",
        "\n",
        "So we can visualise the training procedure, we'll return the loss for the batch. We'll also return the predictions, as they may come in handy.\n",
        "\n",
        "As there are a lot of steps, this has been implemented for you. Read the code and comments thoroughly, as it's vital to understand the training procedure."
      ]
    },
    {
      "cell_type": "code",
      "metadata": {
        "id": "8pNvnds8F11a"
      },
      "source": [
        "def train_step(model, inputs, labels, loss_func, optimizer, device):\n",
        "    # 1. Copy the data to the specified device\n",
        "    inputs, labels = inputs.to(device), labels.to(device)\n",
        "\n",
        "    # 2. Put the model into train mode\n",
        "    model.train()\n",
        "    \n",
        "    # 3. Set all parameter gradients to zero\n",
        "    optimizer.zero_grad()\n",
        "\n",
        "    # 4. Have the model make a prediction for the batch\n",
        "    outputs = model(inputs)\n",
        "\n",
        "    # 5. Compute the loss\n",
        "    loss = loss_func(outputs, labels)\n",
        "\n",
        "    # 6. Backpropagate the loss to compute gradients\n",
        "    loss.backward()\n",
        "    \n",
        "    # 7. Update model weights\n",
        "    optimizer.step()\n",
        "\n",
        "    # Return the loss and outputs. As loss is a tensor with a single value, we\n",
        "    # use .item() to extract this as a regular float value\n",
        "    return loss.item(), outputs"
      ],
      "execution_count": null,
      "outputs": []
    },
    {
      "cell_type": "markdown",
      "metadata": {
        "id": "eJ8S44lwIwg7"
      },
      "source": [
        "Let's now write a function which performs a single *test* step on a batch of inputs/targets. We won't write a different function for validation and test, as they both perform the same task, just on different data splits. This has been left as an exercise for you, as it's very similar to `train_step`. A lot of the lines are either the same or the same but with some small modifications. So  understanding `train_step` will really help you do this block.\n",
        "\n",
        "<font color='red'>In the next cell, finish the implementation of `test_step`.</font> \\\n",
        "This function should:\n",
        " 1. Copy the data to the GPU *(if available)* Same as line 1 of `train_step`\n",
        " 2. Put the model into `eval` mode *(some layers operate differently at train and test time)* similar to what we did for line 2 of `train_step` but with eval instead.\n",
        " 3. Have the model make a prediction for the batch\n",
        " 4. Compute the loss *(between predictions and targets)*\n",
        " 5. Steps 3 and 4 should be placed inside a `with torch.no_grad():` block to prevent gradients being calculated. Since we are just doing evaluation so there is no need to perform back propagation. See [the docs](https://pytorch.org/docs/stable/generated/torch.no_grad.html) for an example.\n",
        "\n",
        "Like with `train_step`, we'll return the loss and outputs for later."
      ]
    },
    {
      "cell_type": "code",
      "metadata": {
        "id": "dadTeVe7F4cb"
      },
      "source": [
        "def test_step(model, inputs, labels, loss_func, device):\n",
        "    # 1. Copy the data to the specified device\n",
        "    # SOLUTION LINE\n",
        "    inputs, labels = inputs.to(device), labels.to(device)\n",
        "\n",
        "    # 2. Put the model into eval mode\n",
        "    # SOLUTION LINE\n",
        "    model.eval()\n",
        "\n",
        "    # 5. Place steps 3 and 4 into a torch.no_grad block\n",
        "    # SOLUTION LINE\n",
        "    with torch.no_grad():\n",
        "        # 3. Have the model make a prediction for the batch\n",
        "        # SOLUTION LINE\n",
        "        outputs = model(inputs)\n",
        "        # 4. Compute the loss\n",
        "        # SOLUTION LINE\n",
        "        loss = loss_func(outputs, labels)\n",
        "\n",
        "    return loss.item(), outputs"
      ],
      "execution_count": null,
      "outputs": []
    },
    {
      "cell_type": "markdown",
      "metadata": {
        "id": "aYL2FYI-L5x-"
      },
      "source": [
        "Now it's time for the actual training loop, which has been implemented for you. \n",
        "\n",
        "It might look like a lot of code, but it's actually mostly comments. As before, take your time and read through this section to ensure you understand what's happening.\n",
        "\n",
        "In this function, the model is trained for `num_epochs`, where the validation loss is computed at the end of each epoch. The training and validation losses are returned as a list at the end so we can plot the loss curves."
      ]
    },
    {
      "cell_type": "code",
      "metadata": {
        "id": "r5Fwe9oiF8D1"
      },
      "source": [
        "# We'll use this library to print a nice progress bar during training\n",
        "from tqdm.notebook import tqdm\n",
        "\n",
        "def train(model, train_loader, val_loader, num_epochs, loss_func, optimizer, device):\n",
        "    # A couple of lists to record losses at the end of each epoch\n",
        "    train_losses = []\n",
        "    val_losses = []\n",
        "\n",
        "    # A loop for each of the epochs, using the fancy tqdm progress bar\n",
        "    for epoch in tqdm(range(num_epochs)):\n",
        "        # We'll add up the training and validation losses for this epoch\n",
        "        train_loss = 0\n",
        "        val_loss = 0\n",
        "\n",
        "        # Thanks to the work we did writing our train and test step functions,\n",
        "        # training on the entire dataset is pretty easy!\n",
        "        for batch in train_loader:\n",
        "            # Here we just unpack the batch into inputs and labels, then call\n",
        "            # our train_step function. As we don't want the predicted values, we\n",
        "            # use an underscore for the second return value\n",
        "            inputs, labels = batch\n",
        "            loss, _ = train_step(model, inputs, labels, loss_func, optimizer, device)\n",
        "            train_loss += loss\n",
        "\n",
        "        # Compute loss for the entire validation set\n",
        "        for batch in val_loader:\n",
        "            inputs, labels = batch\n",
        "            loss, _ = test_step(model, inputs, labels, loss_func, device)\n",
        "            val_loss += loss\n",
        "\n",
        "        # At the end of the epoch, compute the mean loss for this epoch and add\n",
        "        # it to the lists\n",
        "        train_losses.append(train_loss / len(train_loader))\n",
        "        val_losses.append(val_loss / len(val_loader))\n",
        "            \n",
        "    # At the end of training, return our lists of loss\n",
        "    return train_losses, val_losses"
      ],
      "execution_count": null,
      "outputs": []
    },
    {
      "cell_type": "markdown",
      "metadata": {
        "id": "XXqcF9OI5Icy"
      },
      "source": [
        "Similar to the training loop function above, we write a function to run our model on the test dataset. This is similar to the training loop, but with a couple of small differences:\n",
        " * It is run for only one epoch, as we just want to compute the loss for the entirety of the test split\n",
        " * The targets and predictions are returned for us to visualise"
      ]
    },
    {
      "cell_type": "code",
      "metadata": {
        "id": "zl7U4usA2sDs"
      },
      "source": [
        "# Whereas PyTorch excels at GPU machine learning, Numpy is a great general-purpose\n",
        "# numerical computing package with more features. So for some of our miscellaneous\n",
        "# number-crunching, we'll use Numpy instead. The Numpy equivalent of the torch\n",
        "# tensor is the numpy array.\n",
        "import numpy as np\n",
        "\n",
        "\n",
        "def test(model, test_loader, loss_func, device):\n",
        "    # We'll store the targets, predictions and losses in lists to return\n",
        "    targets = []\n",
        "    predicted = []\n",
        "    losses = []\n",
        "\n",
        "    for batch in test_loader:\n",
        "        # Just like when training, unpack the batch and make predictions\n",
        "        inputs, labels = batch\n",
        "        loss, outputs = test_step(model, inputs, labels, loss_func, device)\n",
        "\n",
        "        losses.append(loss)\n",
        "        # The outputs and labels tensors are tensors that may be on the GPU, so\n",
        "        # here we detach them from the graph so PyTorch doesn't compute their\n",
        "        # gradients, then transfer them to the CPU and convert to numpy arrays\n",
        "        predicted.extend(outputs.detach().cpu().numpy())\n",
        "        targets.extend(labels.detach().cpu().numpy())\n",
        "    \n",
        "    # Just return the mean loss, as we'll use this for our final score\n",
        "    return np.mean(losses), targets, predicted\n",
        "        "
      ],
      "execution_count": null,
      "outputs": []
    },
    {
      "cell_type": "markdown",
      "metadata": {
        "id": "eK8ZLj5J-hc6"
      },
      "source": [
        "## Train the Model\n",
        "All of the hard work is done! Now we just need to call the functions we defined above, and let the model train.\n",
        "\n",
        "As with performing the data partitioning, we'll seed Torch's random number generator so that our results are reproducible.\n",
        "\n",
        "It may take a little while to train the model, so be patient. If you just want to check that all of the code appears to be working, you can reduce the number of epochs from 100 to something smaller. *Don't forget to put it back again!*\n",
        "\n",
        "<font color='red'>In the next cell, make sure you know the purpose of every parameter being passed to `train`. If you are unsure, look at the function signature, and where the respective variables are defined.</font>"
      ]
    },
    {
      "cell_type": "code",
      "metadata": {
        "id": "yKHAozL-2JZb",
        "colab": {
          "base_uri": "https://localhost:8080/",
          "height": 49,
          "referenced_widgets": [
            "da9e815321a2488c8126b42b15fd8e96",
            "16164075fda74932accb19d5920e66d1",
            "004c8df0433b4c9f82bdca7e88e2fec0",
            "d4a6829b3e184135b71e78e9aa08d0e2",
            "88244316100046d88189541861be8ecc",
            "e6236bfc589d4b29ad3e8b982e4455bf",
            "01d8922bdff040da8b2ab668463c4643",
            "0d72f0eff39746b8bdcb9b023ecaf9a1",
            "1616e0aa30da478aa1fa60acc76043a7",
            "7dab68ad9c3e43d9af30bcb50f6b92b2",
            "94a0e2cbc0e34906915246e0b08eca1a"
          ]
        },
        "outputId": "a793cd08-1a23-4704-a1de-c0df5cefcab7"
      },
      "source": [
        "# Seed Torch's random number generator like in a previous cell\n",
        "\n",
        "torch.manual_seed(42)\n",
        "\n",
        "model = MLP(device)\n",
        "\n",
        "optimizer = construct_optimizer(model)\n",
        "\n",
        "# Train the model for 100 epochs and store the training and validation losses.\n",
        "train_loss, val_loss = train(model, train_loader, val_loader, 100, loss_func, optimizer, device)\n",
        "\n",
        "# Test the model and store the test loss, targets, and predictions.\n",
        "test_loss, test_targets, test_predictions = test(model, test_loader, loss_func, device)"
      ],
      "execution_count": null,
      "outputs": [
        {
          "output_type": "display_data",
          "data": {
            "text/plain": [
              "  0%|          | 0/100 [00:00<?, ?it/s]"
            ],
            "application/vnd.jupyter.widget-view+json": {
              "version_major": 2,
              "version_minor": 0,
              "model_id": "da9e815321a2488c8126b42b15fd8e96"
            }
          },
          "metadata": {}
        }
      ]
    },
    {
      "cell_type": "markdown",
      "metadata": {
        "id": "Yk9kgPiP-l4k"
      },
      "source": [
        "### Visualise the Results\n",
        "Great! The model has been trained, but we have no idea how well it performed! Luckily, we returned the training and validation loss for each epoch. Let's plot that to a graph and see what we can learn from it.\n",
        "\n",
        "\n",
        "With this graph, we also print a couple of metrics:\n",
        " * [Root-mean-squared-error (RMSE)](https://en.wikipedia.org/wiki/Root-mean-square_deviation) - what the average difference between our predictions and the targets is. I.e. when our model predicts a wine's quality, how close it is to the true quality score on average. The best possible score is 0.\n",
        " * [R²](https://en.wikipedia.org/wiki/Coefficient_of_determination) - this is a measure of how well predictions approximate the ground truth. The good thing about this metric is that it is out of 1, so the best possible score is 1 - anything above 0.7 is usually considered a good result.\n"
      ]
    },
    {
      "cell_type": "code",
      "source": [
        "# This installs the torchmetrics library\n",
        "!pip install torchmetrics"
      ],
      "metadata": {
        "id": "NSVrdycwIxdq",
        "colab": {
          "base_uri": "https://localhost:8080/"
        },
        "outputId": "73728c40-6dda-44ae-b07d-2bd7260c759a"
      },
      "execution_count": null,
      "outputs": [
        {
          "output_type": "stream",
          "name": "stdout",
          "text": [
            "Looking in indexes: https://pypi.org/simple, https://us-python.pkg.dev/colab-wheels/public/simple/\n",
            "Collecting torchmetrics\n",
            "  Downloading torchmetrics-0.11.4-py3-none-any.whl (519 kB)\n",
            "\u001b[2K     \u001b[90m━━━━━━━━━━━━━━━━━━━━━━━━━━━━━━━━━━━━━━\u001b[0m \u001b[32m519.2/519.2 kB\u001b[0m \u001b[31m33.6 MB/s\u001b[0m eta \u001b[36m0:00:00\u001b[0m\n",
            "\u001b[?25hRequirement already satisfied: numpy>=1.17.2 in /usr/local/lib/python3.10/dist-packages (from torchmetrics) (1.22.4)\n",
            "Requirement already satisfied: torch>=1.8.1 in /usr/local/lib/python3.10/dist-packages (from torchmetrics) (2.0.1+cu118)\n",
            "Requirement already satisfied: packaging in /usr/local/lib/python3.10/dist-packages (from torchmetrics) (23.1)\n",
            "Requirement already satisfied: filelock in /usr/local/lib/python3.10/dist-packages (from torch>=1.8.1->torchmetrics) (3.12.0)\n",
            "Requirement already satisfied: typing-extensions in /usr/local/lib/python3.10/dist-packages (from torch>=1.8.1->torchmetrics) (4.5.0)\n",
            "Requirement already satisfied: sympy in /usr/local/lib/python3.10/dist-packages (from torch>=1.8.1->torchmetrics) (1.11.1)\n",
            "Requirement already satisfied: networkx in /usr/local/lib/python3.10/dist-packages (from torch>=1.8.1->torchmetrics) (3.1)\n",
            "Requirement already satisfied: jinja2 in /usr/local/lib/python3.10/dist-packages (from torch>=1.8.1->torchmetrics) (3.1.2)\n",
            "Requirement already satisfied: triton==2.0.0 in /usr/local/lib/python3.10/dist-packages (from torch>=1.8.1->torchmetrics) (2.0.0)\n",
            "Requirement already satisfied: cmake in /usr/local/lib/python3.10/dist-packages (from triton==2.0.0->torch>=1.8.1->torchmetrics) (3.25.2)\n",
            "Requirement already satisfied: lit in /usr/local/lib/python3.10/dist-packages (from triton==2.0.0->torch>=1.8.1->torchmetrics) (16.0.5)\n",
            "Requirement already satisfied: MarkupSafe>=2.0 in /usr/local/lib/python3.10/dist-packages (from jinja2->torch>=1.8.1->torchmetrics) (2.1.2)\n",
            "Requirement already satisfied: mpmath>=0.19 in /usr/local/lib/python3.10/dist-packages (from sympy->torch>=1.8.1->torchmetrics) (1.3.0)\n",
            "Installing collected packages: torchmetrics\n",
            "Successfully installed torchmetrics-0.11.4\n"
          ]
        }
      ]
    },
    {
      "cell_type": "code",
      "metadata": {
        "id": "0lvQL0cMxTzX",
        "colab": {
          "base_uri": "https://localhost:8080/",
          "height": 631
        },
        "outputId": "845ad55d-1c4a-47e1-de60-141d4c73674a"
      },
      "source": [
        "# Import a graph-plotting library\n",
        "import matplotlib.pyplot as plt\n",
        "\n",
        "# The next few lines plot our loss values for each epoch to a scatter-plot\n",
        "epochs = range(len(train_loss))\n",
        "plt.figure(figsize=(15, 6))\n",
        "plt.xlabel(\"Epoch\")\n",
        "plt.ylabel(\"Loss\")\n",
        "plt.plot(epochs, train_loss, 'r-', label='Training')\n",
        "plt.plot(epochs, val_loss, 'b-', label='Validation')\n",
        "plt.legend()\n",
        "plt.show()\n",
        "\n",
        "#from sklearn.metrics import mean_squared_error, r2_score\n",
        "from torchmetrics import MeanSquaredError, R2Score\n",
        "\n",
        "mean_squared_error = MeanSquaredError(squared=False)  #squared (bool) – If True returns MSE value, if False returns RMSE value.\n",
        "print(\"RMSE: \", \"{:.3f}\".format(mean_squared_error(torch.as_tensor(test_predictions), torch.as_tensor(test_targets))))\n",
        "\n",
        "r2_score = R2Score()\n",
        "print(\"R²: \", \"{:.3f}\".format(r2_score(torch.as_tensor(test_predictions),torch.as_tensor(test_targets))))"
      ],
      "execution_count": null,
      "outputs": [
        {
          "output_type": "display_data",
          "data": {
            "text/plain": [
              "<Figure size 1500x600 with 1 Axes>"
            ],
            "image/png": "[encoded data removed]"
          },
          "metadata": {}
        },
        {
          "output_type": "stream",
          "name": "stdout",
          "text": [
            "RMSE:  0.820\n",
            "R²:  0.070\n"
          ]
        },
        {
          "output_type": "stream",
          "name": "stderr",
          "text": [
            "<ipython-input-24-f573ceba8baa>:18: UserWarning: Creating a tensor from a list of numpy.ndarrays is extremely slow. Please consider converting the list to a single numpy.ndarray with numpy.array() before converting to a tensor. (Triggered internally at ../torch/csrc/utils/tensor_new.cpp:245.)\n",
            "  print(\"RMSE: \", \"{:.3f}\".format(mean_squared_error(torch.as_tensor(test_predictions), torch.as_tensor(test_targets))))\n"
          ]
        }
      ]
    },
    {
      "cell_type": "markdown",
      "metadata": {
        "id": "kv2-_Bqc6lZ6"
      },
      "source": [
        "#### Interpreting the Loss Curves\n",
        "\n",
        "Loss curves can tell us a lot about training and take a bit of practice to interpret, but here's a quick overview of what they typically mean.\n",
        "\n",
        "**The loss bounces around wildy** \\\n",
        "The learning rate is far too high and the model isn't able to settle upon a set of parameters.\n",
        "\n",
        "**The loss goes down sharply then quickly flattens out** \\\n",
        "The learning rate is a bit too high, so is likely not finding the best set of parameters.\n",
        "\n",
        "**The loss doesn't stop going down** \\\n",
        "Either the learning rate is too low, or the number of epochs (number of passes throught the entire dataset) isn't large enough. 100 epochs should be enough for this dataset, so it's likely that the learning rate is too low.\n",
        "\n",
        "**Both losses go down, the validation loss starts going up again** \\\n",
        "The model is overfitting to the training dataset. This indicates that the model is being trained for too many epochs, or it could indicate a deeper problem with the model/dataset.\n",
        "\n",
        "**The ideal loss curve** \\\n",
        "Should have a fairly rapid descent, then slowly smooth out to a near horizontal line.\n",
        "\n",
        "*Although this is what these typically mean, it may not necessarily be true!*"
      ]
    },
    {
      "cell_type": "markdown",
      "metadata": {
        "id": "NRzhDMdn9Ut6"
      },
      "source": [
        "#### Plotting the Predictions and Targets\n",
        "\n",
        "Now we've seen the model loss, we'll take a look at how our predictions compare to the targets.\n",
        "\n",
        "A common way for regression tasks like this one is to plot the targets and predictions on a scatter plot. This shows us for each target value on the x-axis, what our model predicted on the y-axis.\n",
        "\n",
        "The graph for a perfectly performing model will look like a staight line from the bottom-left to the top-right, indicating that every predicted value matched the target value exactly - though this is practically impossible."
      ]
    },
    {
      "cell_type": "code",
      "metadata": {
        "id": "HvNe2a3yExOt",
        "colab": {
          "base_uri": "https://localhost:8080/",
          "height": 701
        },
        "outputId": "aff237b7-84e3-4ce2-d87b-b652810fd839"
      },
      "source": [
        "plt.figure(figsize=(8, 8))\n",
        "plt.xlabel(\"Target value\")\n",
        "plt.ylabel(\"Predicted value\")\n",
        "plt.xlim((0, 10))\n",
        "plt.ylim((0, 10))\n",
        "plt.xticks([i for i in range(0, 11)])\n",
        "plt.yticks([i for i in range(0, 11)])\n",
        "plt.plot(test_targets, test_predictions, 'r.')\n",
        "plt.show()"
      ],
      "execution_count": null,
      "outputs": [
        {
          "output_type": "display_data",
          "data": {
            "text/plain": [
              "<Figure size 800x800 with 1 Axes>"
            ],
            "image/png": "[encoded data removed]"
          },
          "metadata": {}
        }
      ]
    },
    {
      "cell_type": "markdown",
      "metadata": {
        "id": "wT9neu69_sgo"
      },
      "source": [
        "## Improve Performance\n",
        "Now is the time to see how well you can get the model to perform! How high of an R² score can you get? By tweaking the model, optimiser and loss function it's possible to achieve an R² value of over `0.33`. The optimal value for R² is 1 so even 0.33 is not very good. Usually you would want a value of at least 0.7 to say the predicted and ground truth values are correlated. This is maybe due to the fact we made the problem a regression problem, and is better modeled as a classification problem instead. In the lab02b notebook we will try to turn this problem into a classification problem and see what happens."
      ]
    },
    {
      "cell_type": "markdown",
      "metadata": {
        "id": "IAc35TPd4joF"
      },
      "source": [
        "### The Model\n",
        "The model architecture is an obvious choice for improving our results. The current model is a 2-layer MLP with a hidden size of 20.\n",
        "\n",
        "<font color='red'>Improve performance by modifying the model in the the \"Define the Model\" section</font>\n",
        "\n",
        "Here are a few ideas you can try to improve performance:\n",
        " * Change the hidden size\n",
        " * Change the activation function\n",
        "  * [Check out the PyTorch docs](https://pytorch.org/docs/stable/nn.html#non-linear-activations-weighted-sum-nonlinearity) for a list of options. Common choices are ReLU, ELU, LeakyReLU, Sigmoid and Tanh.\n",
        " * Make the model deeper with more layers"
      ]
    },
    {
      "cell_type": "markdown",
      "metadata": {
        "id": "enW0mpuAAtVc"
      },
      "source": [
        "### The Loss Function\n",
        "The loss function we used is standard for regression tasks, but it has a bit of a problem. It is very sensitive to outliers, which means that we unfairly punish the model for making bad predictions on values which don't really fit into the dataset in the first place!\n",
        "\n",
        "Try the below loss functions and see which works best.\n",
        "\n",
        "<font color='red'>Improve performance by modifying the loss function in the the \"Set Up the Loss Function\" section</font>\n",
        "\n",
        "```python\n",
        "# L1 loss handles outliers better, but usually doesn't perform as well on the rest of the dataset\n",
        "loss_func = nn.L1Loss()\n",
        "# Smooth L1 Loss (aka Huber loss) is a combination of L1 and MSE loss, with the benefits of both\n",
        "loss_func = nn.SmoothL1Loss()\n",
        "```"
      ]
    },
    {
      "cell_type": "markdown",
      "metadata": {
        "id": "43C-in11AM3j"
      },
      "source": [
        "### The Optimiser\n",
        "So far we're only using the stochastic gradient descent (SGD) optimizer, which is the simplest type of optimiser. Try one of the below optimisers and play around with different parameters learning rates and momentum.\n",
        "\n",
        "<font color='red'>Improve performance by modifying the optimiser in the the \"Set Up the Optimiser\" section</font>\n",
        "\n",
        "```python\n",
        "# Add momentum to the model to make training more stable\n",
        "torch.optim.SGD(model.parameters(), lr=0.0001, momentum=0.95)\n",
        "# Try a more complex optimiser like Adam (this is usually recommended as the default optimiser). Adam is a good general purpose optimizer since it will automatically adjust the learning during training, so it make tunning the optimizer easier.\n",
        "torch.optim.Adam(model.parameters(), lr=0.001)\n",
        "```\n",
        "\n"
      ]
    },
    {
      "cell_type": "markdown",
      "metadata": {
        "id": "vHqXP4oFBUir"
      },
      "source": [
        "\n",
        "## Classification problem instead\n",
        "\n",
        "Lets try to solve this problem again but as a classification problem instead. Head over to lab02b notebook for us to have a crack at that."
      ]
    },
    {
      "cell_type": "code",
      "source": [],
      "metadata": {
        "id": "usGgn4EApTcU"
      },
      "execution_count": null,
      "outputs": []
    }
  ]
}