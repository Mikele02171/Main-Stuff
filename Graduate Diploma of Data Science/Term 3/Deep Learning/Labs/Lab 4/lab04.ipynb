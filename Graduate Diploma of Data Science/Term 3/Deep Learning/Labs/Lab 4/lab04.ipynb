{
 "cells": [
  {
   "cell_type": "markdown",
   "metadata": {
    "id": "i3lzRHUazgnr"
   },
   "source": [
    "# Lab 4 - Text Sentiment Analysis\n",
    "\n",
    "Today's lab will be run a little differently to usual. Instead of using the notebook to interact with Python, we'll separate our code into a number of files - closer to how a real-life project would be structured.\n",
    "\n",
    "To facilitate this via Colaboratory, we have to mount our Google Drive storage to the notebook so we can use it like a regular file system. Once we're through these preliminary steps, we'll move on to completing a fully functional code-base which allows us to train models, then save and load them to disk for later usage.\n",
    "\n",
    "<font color=\"red\">If you shut down the notebook or your session times out, you will need to run the code cells in order again to connect your Google Drive storage and install the lab dependancies.</font>\n",
    "\n",
    "\n",
    "We'll demonstrate this with a text sentiment task - classifying a piece of text as either positive or negative in sentiment.\n",
    "\n",
    "For example:\n",
    " * \"I hated this movie\" - negative.\n",
    " * \"The best pasta has lots of cheese\" - positive.\n",
    "\n",
    "The dataset we'll use is Kaggle's [Sentiment Analysis for Financial News](https://www.kaggle.com/ankurzing/sentiment-analysis-for-financial-news), which consists of financial headlines and a score of `0` or `1` for negative and positive sentiment, respectively.\n",
    "\n",
    "Before we can get into that, we need to take care of the Colaboratory environment."
   ]
  },
  {
   "cell_type": "markdown",
   "metadata": {
    "id": "kiz_H4k91Qau"
   },
   "source": [
    "## Mount Your Google Drive Storage\n",
    "\n",
    "Colaboratory provides the ability to mount Google Drive storage for access from within the session.\n",
    "\n",
    "First up, run the next cell and follow the instructions to give Colaboratory access to your Google Drive. Don't worry - you're still responsible for what happens to your files."
   ]
  },
  {
   "cell_type": "code",
   "execution_count": null,
   "metadata": {
    "id": "QFVSrqAwXHtO",
    "vscode": {
     "languageId": "python"
    }
   },
   "outputs": [],
   "source": [
    "from google.colab import drive\n",
    "drive.mount('/content/drive')"
   ]
  },
  {
   "cell_type": "code",
   "execution_count": null,
   "metadata": {
    "id": "AsmdvqqAvmrD",
    "vscode": {
     "languageId": "python"
    }
   },
   "outputs": [],
   "source": [
    "import torch\n",
    "# By default we'll assume that GPU acceleration isn't available\n",
    "device = torch.device(\"cpu\")\n",
    "\n",
    "# Check if GPU acceleration is available (requires a CUDA-compatible GPU) and\n",
    "# set the device variable accordingly. If the computer has more than one GPU,\n",
    "# you can specify which one by replacing 0 with a different index\n",
    "if torch.cuda.is_available():\n",
    "    device = torch.device(\"cuda:0\")\n",
    "    torch.cuda.set_device(device)\n",
    "\n",
    "print(\"Training on\", device)"
   ]
  },
  {
   "cell_type": "markdown",
   "metadata": {
    "id": "K4_RI1nRbWHM"
   },
   "source": [
    "Once you've authorised Colaboratory, open the Files tab 📁 on the left and navigate to the directory for this lab. Then, right click on it and select \"copy path\".\n",
    "\n",
    "\n",
    "<font color=\"red\">In the next cell, paste the path to your directory.</font>\n",
    "\n",
    "_The path should look like `/content/drive/My_Drive/...`_"
   ]
  },
  {
   "cell_type": "code",
   "execution_count": null,
   "metadata": {
    "id": "GRUQvFiLXbvM",
    "vscode": {
     "languageId": "python"
    }
   },
   "outputs": [],
   "source": [
    "import os\n",
    "lab_dir = \"TODO: PASTE THE COPIED PATH HERE\"\n"
   ]
  },
  {
   "cell_type": "markdown",
   "metadata": {
    "id": "DrSdl3xLbazu"
   },
   "source": [
    "Now we'll navigate to that directory and print out the files to check that we're in the right place.\n",
    "\n",
    "<font color=\"red\">Run the next cell and confirm that you see the files you uploaded for this lab.</font>\n",
    "\n",
    "_If you don't see the lab files, you're in the wrong directory - try finding and copying the path again._"
   ]
  },
  {
   "cell_type": "code",
   "execution_count": null,
   "metadata": {
    "id": "ndKTf_RVXnPU",
    "vscode": {
     "languageId": "python"
    }
   },
   "outputs": [],
   "source": [
    "# Change Python's current working directory\n",
    "os.chdir(lab_dir)\n",
    "# Print the name and contents of the current working directory\n",
    "!pwd\n",
    "!ls -al"
   ]
  },
  {
   "cell_type": "markdown",
   "metadata": {
    "id": "AFljL7-b5xsy"
   },
   "source": [
    "Did you notice the exclamation mark at the start of some of the lines in the previous cell? This is a special ability of notebooks, which means that the line is interpreted as a Unix shell command instead of Python.\n",
    "\n",
    "This is important for us, as it's how we'll be running our scripts \"from the command line\"."
   ]
  },
  {
   "cell_type": "markdown",
   "metadata": {
    "id": "HlQ61eVz8cdw"
   },
   "source": [
    "Lastly, run the following cell to enable \"hot reloading\" of imports - this allows us to modify files outside of the notebook and instantly use the changes here.\n",
    "\n",
    "_The `%` character runs a notebook special command - don't worry too much about how they work._"
   ]
  },
  {
   "cell_type": "code",
   "execution_count": null,
   "metadata": {
    "id": "LrBhS2YE8nTG",
    "vscode": {
     "languageId": "python"
    }
   },
   "outputs": [],
   "source": [
    "%load_ext autoreload\n",
    "%autoreload 2"
   ]
  },
  {
   "cell_type": "markdown",
   "metadata": {
    "id": "YFDAdIaJ26mi"
   },
   "source": [
    "## Install Dependencies"
   ]
  },
  {
   "cell_type": "markdown",
   "metadata": {
    "id": "KxJcezciXboQ"
   },
   "source": [
    "When working on a real project, it's important that you keep track of the project dependencies. Python makes it quite easy if we install packages using [pip](https://pypi.org/project/pip/).\n",
    "\n",
    "To maintain our dependencies, we keep a file called `requirements.txt`, which is a list of the Python packages along with their version numbers. Then all we need to do is run the below command to install the correct versions.\n",
    "\n",
    "<font color=\"red\">Navigate to the lab directory in the sidebar and double-click `requirements.txt`. Look at its contents so you know what you're about to install.</font>\n",
    "\n",
    "Then, <font color=\"red\">run the next cell to install the listed dependencies.</font>\n",
    "\n",
    "_See the exclamation mark? We're not calling a Python function, we're running an entirely different process from the Linux shell._"
   ]
  },
  {
   "cell_type": "code",
   "execution_count": null,
   "metadata": {
    "colab": {
     "base_uri": "https://localhost:8080/"
    },
    "executionInfo": {
     "elapsed": 13179,
     "status": "ok",
     "timestamp": 1648785703514,
     "user": {
      "displayName": "Zhen He",
      "userId": "07388169493391803483"
     },
     "user_tz": -660
    },
    "id": "MtId66RDXZhX",
    "outputId": "f86040b6-aa9f-4aa2-cd80-f5acf27b6069",
    "vscode": {
     "languageId": "python"
    }
   },
   "outputs": [
    {
     "name": "stdout",
     "output_type": "stream",
     "text": [
      "\u001b[K     |████████████████████████████████| 1.3 MB 5.5 MB/s \n",
      "\u001b[K     |████████████████████████████████| 1.7 MB 30.9 MB/s \n",
      "\u001b[K     |████████████████████████████████| 397 kB 45.8 MB/s \n",
      "\u001b[K     |████████████████████████████████| 1.2 MB 41.3 MB/s \n",
      "\u001b[K     |████████████████████████████████| 895 kB 46.8 MB/s \n",
      "\u001b[K     |████████████████████████████████| 2.9 MB 33.3 MB/s \n",
      "\u001b[K     |████████████████████████████████| 97 kB 6.2 MB/s \n",
      "\u001b[K     |████████████████████████████████| 144 kB 45.4 MB/s \n",
      "\u001b[K     |████████████████████████████████| 181 kB 37.1 MB/s \n",
      "\u001b[K     |████████████████████████████████| 76 kB 5.1 MB/s \n",
      "\u001b[K     |████████████████████████████████| 63 kB 1.7 MB/s \n",
      "\u001b[?25h  Building wheel for subprocess32 (setup.py) ... \u001b[?25l\u001b[?25hdone\n"
     ]
    }
   ],
   "source": [
    "!pip install -qr requirements.txt"
   ]
  },
  {
   "cell_type": "markdown",
   "metadata": {
    "id": "ea9g3Wx14WqC"
   },
   "source": [
    "## Download the Dataset\n",
    "\n",
    "As mentioned in the intro, we'll work with a financial text sentiment dataset for this lab. We'll now download the dataset and take a look at a few examples. The dataset will be downloaded and stored in your Google Drive, so we only need to download it once.\n",
    "\n",
    "<font color=\"red\">Run the next cell to download and unzip the dataset.</font>"
   ]
  },
  {
   "cell_type": "code",
   "execution_count": null,
   "metadata": {
    "colab": {
     "base_uri": "https://localhost:8080/"
    },
    "executionInfo": {
     "elapsed": 28804,
     "status": "ok",
     "timestamp": 1648785739988,
     "user": {
      "displayName": "Zhen He",
      "userId": "07388169493391803483"
     },
     "user_tz": -660
    },
    "id": "sDMpvWn9jtbs",
    "outputId": "e7831647-4ca5-4641-cb98-2e02812126b9",
    "vscode": {
     "languageId": "python"
    }
   },
   "outputs": [
    {
     "name": "stdout",
     "output_type": "stream",
     "text": [
      "--2022-04-01 04:01:55--  https://ashwhall.github.io/download/financial-news/dataset.zip\n",
      "Resolving ashwhall.github.io (ashwhall.github.io)... 185.199.110.153, 185.199.108.153, 185.199.109.153, ...\n",
      "Connecting to ashwhall.github.io (ashwhall.github.io)|185.199.110.153|:443... connected.\n",
      "HTTP request sent, awaiting response... 200 OK\n",
      "Length: 93330 (91K) [application/zip]\n",
      "Saving to: ‘dataset.zip’\n",
      "\n",
      "dataset.zip         100%[===================>]  91.14K  --.-KB/s    in 0.02s   \n",
      "\n",
      "2022-04-01 04:01:55 (5.11 MB/s) - ‘dataset.zip’ saved [93330/93330]\n",
      "\n",
      "replace dataset/test.csv? [y]es, [n]o, [A]ll, [N]one, [r]ename: y\n",
      "replace dataset/train.csv? [y]es, [n]o, [A]ll, [N]one, [r]ename: A\n"
     ]
    }
   ],
   "source": [
    "!wget https://ashwhall.github.io/download/financial-news/dataset.zip\n",
    "!mkdir -p dataset\n",
    "!unzip -qu dataset.zip -d dataset\n",
    "!rm dataset.zip"
   ]
  },
  {
   "cell_type": "markdown",
   "metadata": {
    "id": "JJ3nuVnk4y2p"
   },
   "source": [
    "Now let's take a look at some examples. \n",
    "\n",
    "<font color=\"red\">Navigate to the `dataset` directory in the sidebar, and open `train.csv`.</font>\n",
    "\n",
    "_Recall that a label of `0` indicates negative sentiment, and a label of `1` indicates positive sentiment._\n",
    "\n",
    "The first example talks about a company laying off tens of employees, and appropriately has a label of `0`. \\\n",
    "The second example talks of a new plant increasing production capacity, so has a positive label of `1`."
   ]
  },
  {
   "cell_type": "markdown",
   "metadata": {
    "id": "prReABWn5c5g"
   },
   "source": [
    "## Project Structure\n",
    "\n",
    "As mentioned earlier, instead of coding in this notebook directly, we'll write our solutions in separate files. So before doing any coding, we should actually take a look at the project structure so we know how it all fits together.\n",
    "\n",
    "<font color=\"red\">Open the sidebar and explore some of the files in the lab directory - you should find the files that you uploaded earlier.</font>"
   ]
  },
  {
   "cell_type": "markdown",
   "metadata": {
    "id": "UA4bSxLgtBGQ"
   },
   "source": [
    "## Write Training Code\n",
    "\n",
    "All of our Python dependencies are installed, we have the dataset, and we roughly know how it all fits together, so now it's time to write the necessary supporting code to train models.\n"
   ]
  },
  {
   "cell_type": "markdown",
   "metadata": {
    "id": "zYWDl9xa7PxM"
   },
   "source": [
    "### Write the Dataset Class\n",
    "\n",
    "As part of the dataset class we'll be using a tokenizer. What does a tokenizer do?\n",
    "It performs the task of converting a string of text into meaningful chunks - there\n",
    "are many valid ways of doing this.\n",
    "\n",
    "For example, for the string `\"Hello world!\"`:\n",
    " - by character: `['h', 'e', 'l', 'l', 'o', ' ', 'w', 'o', 'r', 'l', 'd', '!']`\n",
    " - by word: `[\"hello\", \"world\", \"!\"]`\n",
    " - character lookup table: `[104, 101, 108, 108, 111, 32, 119, 111, 114, 108, 100, 33]`\n",
    " - word lookup table: `[1023, 6254, 8912]`\n",
    "\n",
    "We'll be using a pre-built word lookup table called DistilBertTokenizer.\n",
    "When given a word, it returns the number that can be used to find the word embedding (vector) in the lookup table. As neural networks require numerical input, we replace every word in the\n",
    "dataset with its ID, and use that as input instead.\n",
    "\n",
    "The next cell contains example usage of the tokenizer; read and run the code with a string of your choice.\n",
    "\n",
    "Note that we are using AutoTokenizer to create our tokenizer object. Given the name of the pretrained tokenizer, AutoTokenizer will automatically work out what type of tokenizer we want (DistilBertTokenizer in our case).\n",
    "\n",
    "_When running this cell you may see a `wandb warning`, we'll address this a little later._"
   ]
  },
  {
   "cell_type": "code",
   "execution_count": null,
   "metadata": {
    "colab": {
     "base_uri": "https://localhost:8080/",
     "height": 133,
     "referenced_widgets": [
      "f3d0f11af80e4c168932b50db29e08c9",
      "53eb9d1761fb49f1a71f1005a390e6c9",
      "40b6a2b70f3745bb954d23bcfb2668d0",
      "3f072ffe810d4761b6f7d6fadf338d45",
      "0ff3492b173f4e17b018fb43d6d29d63",
      "5c38e2f398dd48089bbddc8edfbfcbbf",
      "6a39e217c1d740059fa02309acb72791",
      "95c4a41d3d734b3dbb7827cdadd1cce0",
      "3d0efa797e264420a65875244440331a",
      "ec61793939bd4ec693d02f5253f5c2d4",
      "ef183f2a893748a7b2c8faad22114fac",
      "bc89663da2de42a3b39a65fd60d70cf4",
      "45793ae40232476a9d7ccc25bcd6fa84",
      "44ffe580b63d455ebf47e52f17e3e060",
      "ecb26a2c004448c58742db130258f1d0",
      "6cdd1160ee594e9e8b132c7b52e1924a",
      "0ea3de3862274fd68ede0074fe67b31c",
      "52cc8cc86c334d2fafec42d0d7a4bf78",
      "e883a1c66c0441618c22b0b934d2b9f9",
      "08ac576e53104bfab8b96b004f797ab9",
      "2daafd128fde4e34950294748ea78340",
      "b3cac34a4e2a4d75bbf33c2cc6161435"
     ]
    },
    "executionInfo": {
     "elapsed": 8591,
     "status": "ok",
     "timestamp": 1648785755161,
     "user": {
      "displayName": "Zhen He",
      "userId": "07388169493391803483"
     },
     "user_tz": -660
    },
    "id": "U_eRO_64Sndh",
    "outputId": "fb612d00-8ac3-4701-98f5-4d5dc491f6cd",
    "vscode": {
     "languageId": "python"
    }
   },
   "outputs": [
    {
     "name": "stderr",
     "output_type": "stream",
     "text": [
      "\u001b[34m\u001b[1mwandb\u001b[0m: \u001b[33mWARNING\u001b[0m W&B installed but not logged in.  Run `wandb login` or set the WANDB_API_KEY env variable.\n"
     ]
    },
    {
     "data": {
      "application/vnd.jupyter.widget-view+json": {
       "model_id": "f3d0f11af80e4c168932b50db29e08c9",
       "version_major": 2,
       "version_minor": 0
      },
      "text/plain": [
       "Downloading:   0%|          | 0.00/442 [00:00<?, ?B/s]"
      ]
     },
     "metadata": {},
     "output_type": "display_data"
    },
    {
     "data": {
      "application/vnd.jupyter.widget-view+json": {
       "model_id": "bc89663da2de42a3b39a65fd60d70cf4",
       "version_major": 2,
       "version_minor": 0
      },
      "text/plain": [
       "Downloading:   0%|          | 0.00/232k [00:00<?, ?B/s]"
      ]
     },
     "metadata": {},
     "output_type": "display_data"
    },
    {
     "name": "stdout",
     "output_type": "stream",
     "text": [
      "DistilBertTokenizer\n",
      "{'input_ids': [101, 7592, 2088, 102], 'attention_mask': [1, 1, 1, 1]}\n"
     ]
    }
   ],
   "source": [
    "# Import and initialise the tokenizer\n",
    "from transformers import AutoTokenizer\n",
    "tokenizer = AutoTokenizer.from_pretrained('distilbert-base-uncased')\n",
    "\n",
    "# Print out the class name of our tokenizer. \n",
    "# We should see we have created an object of type DistilBertTokenizer\n",
    "print(type(tokenizer).__name__)\n",
    "\n",
    "my_string = \"Hello world\"\n",
    "# Tokenize and print the string\n",
    "output = tokenizer(my_string, truncation=True, padding=True)\n",
    "print(output)\n",
    "\n",
    "# Here we print out the tokens (word ids) separately from the \n",
    "# the attention mask.\n",
    "print(output['input_ids'])\n",
    "print(output['attention_mask'])"
   ]
  },
  {
   "cell_type": "markdown",
   "metadata": {
    "id": "NXBm3fYzSs4m"
   },
   "source": [
    "The tokenizer outputs an array of `input_ids` and an `attention_mask`, both of the same length.\n",
    "\n",
    "Each entry in `input_ids` is the vocabulary index of the token in a lookup table containing the word embeddings (vector) representing the word, and `attention_mask` is a mechanism for handling batched inputs of varied length - which doesn't relate to this example. \n",
    "\n",
    "After trying a few different strings, you might notice a pattern in the input IDs - they always start and end with `101` and `102`, respectively. There are special tokens which designate the start and end of the input text - this helps the model understand the structure of the sentence.\n",
    "\n",
    "The other IDs represent the other tokens in the sentence - it's usually one token per word, and one token for any punctuation. Try a few more inputs with punctuation and see how it affects the outputs.\n"
   ]
  },
  {
   "cell_type": "markdown",
   "metadata": {
    "id": "YWTJxEAqSvG1"
   },
   "source": [
    "<font color=\"red\">We've seen how the tokenizer works, so now open `text_dataset.py` from the sidebar and follow the instructions to complete the code. Look for the TODO sections.</font>\n",
    "\n",
    "Once done, run the below cell to check your solution works."
   ]
  },
  {
   "cell_type": "code",
   "execution_count": null,
   "metadata": {
    "colab": {
     "base_uri": "https://localhost:8080/"
    },
    "executionInfo": {
     "elapsed": 4505,
     "status": "ok",
     "timestamp": 1648785763194,
     "user": {
      "displayName": "Zhen He",
      "userId": "07388169493391803483"
     },
     "user_tz": -660
    },
    "id": "q7T6sYtR7zoE",
    "outputId": "9ef6df05-0007-4555-8eda-872e8d63dd11",
    "vscode": {
     "languageId": "python"
    }
   },
   "outputs": [
    {
     "name": "stdout",
     "output_type": "stream",
     "text": [
      "Tokens: tensor([  101,  1996,  2248,  4816,  3068,  2194,  3449, 19800,  4160,  2038,\n",
      "         4201,  2125, 15295,  1997,  5126,  2013,  2049, 21169,  4322,  1025,\n",
      "        10043,  2000,  3041,  3913, 27475,  1996,  2194, 11016,  1996,  6938,\n",
      "         1997,  2049,  2436,  3667,  1010,  1996,  3679,  2695, 14428,  2229,\n",
      "         2988,  1012,   102,     0,     0,     0,     0,     0,     0,     0,\n",
      "            0,     0,     0,     0,     0,     0,     0,     0,     0,     0,\n",
      "            0,     0,     0,     0,     0,     0,     0,     0,     0,     0,\n",
      "            0,     0,     0,     0,     0,     0,     0,     0,     0,     0])\n",
      "Label: 0\n"
     ]
    }
   ],
   "source": [
    "# Import our class\n",
    "from text_dataset import TextDataset\n",
    "# Initialise\n",
    "dataset = TextDataset(\"dataset/train.csv\")\n",
    "# Take out the first example\n",
    "text, label = dataset[0]\n",
    "# Print the contents\n",
    "print(\"Tokens:\", text)\n",
    "print(\"Label:\", label)"
   ]
  },
  {
   "cell_type": "markdown",
   "metadata": {
    "id": "Ny7W3pn183Mz"
   },
   "source": [
    "Did it work? You should see a token tensor should half full of seemingly random numbers followed by zeros, and a label tensor with the value 0.\n",
    "\n",
    "This is the tokenised form of the first example in the training dataset (about laying of employees), and its associated label of `0` - negative.\n",
    "\n",
    "If not, go back to `text_dataset.py` and fix it up."
   ]
  },
  {
   "cell_type": "markdown",
   "metadata": {
    "id": "5TYIUUb-opvD"
   },
   "source": [
    "### Implement the Training Loop\n",
    "\n",
    "The training loop code has been moved to its own file and looks similar to previous labs.\n",
    "\n",
    "<font color=\"red\">Open `trainer.py`, read through it to understand it. </font> The training loop for training the transformer network is pretty much the same as what we used for our computer vision labs. In this particular case we have made the code more modular by splitting the training loop into multiple nested functions.\n"
   ]
  },
  {
   "cell_type": "markdown",
   "metadata": {
    "id": "nthxntBcC4pX"
   },
   "source": [
    "## Train an LSTM\n",
    "\n",
    "We'll begin with a Long Short-Term Memory model The class has already been implemented for you as it's not the focus of this lab,\n",
    "but the general idea is:\n",
    " - Tokenised inputs are transformed into a learnt embedding space\n",
    " - The embeddings are passed one-at-at-time through an LSTM\n",
    " - The LSTM output for the last timestep is retained\n",
    " - This output is fed through a classifier to make class predictions\n",
    "\n",
    "![lab6-lstm.png](data:image/png;base64,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)\n",
    "\n",
    "<font color=\"red\">Open up `lstm.py` and read through it to get an idea of its implementation.</font>\n"
   ]
  },
  {
   "cell_type": "markdown",
   "metadata": {
    "id": "hKgR_uarsgiz"
   },
   "source": [
    "We have all of the components to train a model, now we need to wire them together.\n",
    "\n",
    "Here we first create dataset object and create model class for LSTM. Once that's done, we will train the LSTM.\n"
   ]
  },
  {
   "cell_type": "code",
   "execution_count": null,
   "metadata": {
    "colab": {
     "base_uri": "https://localhost:8080/",
     "height": 1000,
     "referenced_widgets": [
      "ef1f4dfea56847e7b739f4f98c1c3263",
      "b08403ac597542589f5ce4d00e4360a1",
      "a3b2921221dc4cbf92fc9156a4b68599",
      "d86241625c9b47f29778b1ae612e8bef",
      "d50b915bd9c648c9b2d31db43a4235cd",
      "6bc83ecf888149dab51f3f7cf4bd5636",
      "87a5a05c59b44839bfdd4b6729f5469c",
      "d18c1519f0bb45eeab317944562099a8",
      "b882cef8f4eb4224989e5b0c6a28654a",
      "0c5b72d42c2f4f8bb5b7ea532b1c36db",
      "407e02f46a9e4bada7ece86c9c081a64",
      "866de3bf9a53485d84c88c5e5451219b",
      "2458c53dd73d419f848fdcec763d00f3",
      "493b823e04d442fb8d5e423e2b6d6854",
      "f73d8f21d00c4e9191b7f91e0a2011c5",
      "b4cfbc6d90dc4a4285e5b908ee5aa848",
      "a096609a68464da297b48b72bb12f75c",
      "61331cb1338b48ba99e466d92070234e",
      "28af1ba6fe71404aaa27b919f7692f59"
     ]
    },
    "executionInfo": {
     "elapsed": 93607,
     "status": "ok",
     "timestamp": 1648786216527,
     "user": {
      "displayName": "Zhen He",
      "userId": "07388169493391803483"
     },
     "user_tz": -660
    },
    "id": "5-magixp-49O",
    "outputId": "07a1849f-d072-42d5-c244-c45519aaa1de",
    "vscode": {
     "languageId": "python"
    }
   },
   "outputs": [
    {
     "name": "stderr",
     "output_type": "stream",
     "text": [
      "\u001b[34m\u001b[1mwandb\u001b[0m: \u001b[33mWARNING\u001b[0m Calling wandb.login() after wandb.init() has no effect.\n"
     ]
    },
    {
     "data": {
      "text/html": [
       "<br/>Waiting for W&B process to finish, PID 474<br/>Program ended successfully."
      ],
      "text/plain": [
       "<IPython.core.display.HTML object>"
      ]
     },
     "metadata": {},
     "output_type": "display_data"
    },
    {
     "data": {
      "application/vnd.jupyter.widget-view+json": {
       "model_id": "ef1f4dfea56847e7b739f4f98c1c3263",
       "version_major": 2,
       "version_minor": 0
      },
      "text/plain": [
       "VBox(children=(Label(value=' 0.00MB of 0.00MB uploaded (0.00MB deduped)\\r'), FloatProgress(value=1.0, max=1.0)…"
      ]
     },
     "metadata": {},
     "output_type": "display_data"
    },
    {
     "data": {
      "text/html": [
       "Find user logs for this run at: <code>wandb/run-20220401_040738-3ibfd500/logs/debug.log</code>"
      ],
      "text/plain": [
       "<IPython.core.display.HTML object>"
      ]
     },
     "metadata": {},
     "output_type": "display_data"
    },
    {
     "data": {
      "text/html": [
       "Find internal logs for this run at: <code>wandb/run-20220401_040738-3ibfd500/logs/debug-internal.log</code>"
      ],
      "text/plain": [
       "<IPython.core.display.HTML object>"
      ]
     },
     "metadata": {},
     "output_type": "display_data"
    },
    {
     "data": {
      "text/html": [
       "<h3>Run summary:</h3><br/><style>\n",
       "    table.wandb td:nth-child(1) { padding: 0 10px; text-align: right }\n",
       "    </style><table class=\"wandb\">\n",
       "<tr><td>train_loss</td><td>0.03832</td></tr><tr><td>train_accuracy</td><td>0.98873</td></tr><tr><td>test_loss</td><td>0.66778</td></tr><tr><td>test_accuracy</td><td>0.76166</td></tr><tr><td>_step</td><td>24</td></tr><tr><td>_runtime</td><td>52</td></tr><tr><td>_timestamp</td><td>1648786113</td></tr></table>"
      ],
      "text/plain": [
       "<IPython.core.display.HTML object>"
      ]
     },
     "metadata": {},
     "output_type": "display_data"
    },
    {
     "data": {
      "text/html": [
       "<h3>Run history:</h3><br/><style>\n",
       "    table.wandb td:nth-child(1) { padding: 0 10px; text-align: right }\n",
       "    </style><table class=\"wandb\">\n",
       "<tr><td>train_loss</td><td>███████████████▇▆▅▄▃▂▂▂▁▁</td></tr><tr><td>train_accuracy</td><td>▁▁▁▁▁▁▁▁▁▁▁▁▁▁▁▁▂▄▆▆▇▇███</td></tr><tr><td>test_loss</td><td>▂▂▂▂▂▂▂▂▂▂▂▂▂▂▂█▂▁▁▁▂▁▂▂▂</td></tr><tr><td>test_accuracy</td><td>▅▅▅▅▅▅▅▅▅▅▅▅▅▅▅▂▁▃▅▆▆█▇▇▇</td></tr><tr><td>_step</td><td>▁▁▂▂▂▂▃▃▃▄▄▄▅▅▅▅▆▆▆▇▇▇▇██</td></tr><tr><td>_runtime</td><td>▁▁▂▂▂▂▃▃▃▄▄▄▅▅▅▅▆▆▆▇▇▇▇██</td></tr><tr><td>_timestamp</td><td>▁▁▂▂▂▂▃▃▃▄▄▄▅▅▅▅▆▆▆▇▇▇▇██</td></tr></table><br/>"
      ],
      "text/plain": [
       "<IPython.core.display.HTML object>"
      ]
     },
     "metadata": {},
     "output_type": "display_data"
    },
    {
     "data": {
      "text/html": [
       "Synced 5 W&B file(s), 0 media file(s), 0 artifact file(s) and 0 other file(s)"
      ],
      "text/plain": [
       "<IPython.core.display.HTML object>"
      ]
     },
     "metadata": {},
     "output_type": "display_data"
    },
    {
     "data": {
      "text/html": [
       "\n",
       "                    <br/>Synced <strong style=\"color:#cdcd00\">LSTM</strong>: <a href=\"https://wandb.ai/zhenhe1/CSE5DL%20Transformer%20Lab/runs/3ibfd500\" target=\"_blank\">https://wandb.ai/zhenhe1/CSE5DL%20Transformer%20Lab/runs/3ibfd500</a><br/>\n",
       "                "
      ],
      "text/plain": [
       "<IPython.core.display.HTML object>"
      ]
     },
     "metadata": {},
     "output_type": "display_data"
    },
    {
     "name": "stderr",
     "output_type": "stream",
     "text": [
      "\u001b[34m\u001b[1mwandb\u001b[0m: wandb version 0.12.11 is available!  To upgrade, please run:\n",
      "\u001b[34m\u001b[1mwandb\u001b[0m:  $ pip install wandb --upgrade\n"
     ]
    },
    {
     "data": {
      "text/html": [
       "\n",
       "                Tracking run with wandb version 0.10.8<br/>\n",
       "                Syncing run <strong style=\"color:#cdcd00\">LSTM</strong> to <a href=\"https://wandb.ai\" target=\"_blank\">Weights & Biases</a> <a href=\"https://docs.wandb.com/integrations/jupyter.html\" target=\"_blank\">(Documentation)</a>.<br/>\n",
       "                Project page: <a href=\"https://wandb.ai/zhenhe1/CSE5DL%20Transformer%20Lab\" target=\"_blank\">https://wandb.ai/zhenhe1/CSE5DL%20Transformer%20Lab</a><br/>\n",
       "                Run page: <a href=\"https://wandb.ai/zhenhe1/CSE5DL%20Transformer%20Lab/runs/39n0arcp\" target=\"_blank\">https://wandb.ai/zhenhe1/CSE5DL%20Transformer%20Lab/runs/39n0arcp</a><br/>\n",
       "                Run data is saved locally in <code>wandb/run-20220401_040851-39n0arcp</code><br/><br/>\n",
       "            "
      ],
      "text/plain": [
       "<IPython.core.display.HTML object>"
      ]
     },
     "metadata": {},
     "output_type": "display_data"
    },
    {
     "data": {
      "application/vnd.jupyter.widget-view+json": {
       "model_id": "b882cef8f4eb4224989e5b0c6a28654a",
       "version_major": 2,
       "version_minor": 0
      },
      "text/plain": [
       "Epochs:   0%|          | 0/40 [00:00<?, ?it/s]"
      ]
     },
     "metadata": {},
     "output_type": "display_data"
    },
    {
     "name": "stdout",
     "output_type": "stream",
     "text": [
      "Epoch: 0. Train loss: 0.626,  accuracy: 0.691. Test loss: 0.727 accuracy: 0.710\n",
      "Epoch: 1. Train loss: 0.622,  accuracy: 0.691. Test loss: 0.747 accuracy: 0.710\n",
      "Epoch: 2. Train loss: 0.620,  accuracy: 0.691. Test loss: 0.719 accuracy: 0.710\n",
      "Epoch: 3. Train loss: 0.619,  accuracy: 0.691. Test loss: 0.749 accuracy: 0.710\n",
      "Epoch: 4. Train loss: 0.618,  accuracy: 0.695. Test loss: 0.776 accuracy: 0.710\n",
      "Epoch: 5. Train loss: 0.621,  accuracy: 0.691. Test loss: 0.740 accuracy: 0.710\n",
      "Epoch: 6. Train loss: 0.619,  accuracy: 0.691. Test loss: 0.746 accuracy: 0.710\n",
      "Epoch: 7. Train loss: 0.619,  accuracy: 0.691. Test loss: 0.760 accuracy: 0.710\n",
      "Epoch: 8. Train loss: 0.620,  accuracy: 0.691. Test loss: 0.730 accuracy: 0.710\n",
      "Epoch: 9. Train loss: 0.620,  accuracy: 0.691. Test loss: 0.727 accuracy: 0.710\n",
      "Epoch: 10. Train loss: 0.622,  accuracy: 0.691. Test loss: 0.757 accuracy: 0.710\n",
      "Epoch: 11. Train loss: 0.618,  accuracy: 0.691. Test loss: 0.757 accuracy: 0.710\n",
      "Epoch: 12. Train loss: 0.620,  accuracy: 0.691. Test loss: 0.741 accuracy: 0.710\n",
      "Epoch: 13. Train loss: 0.617,  accuracy: 0.691. Test loss: 0.760 accuracy: 0.710\n",
      "Epoch: 14. Train loss: 0.620,  accuracy: 0.691. Test loss: 0.721 accuracy: 0.710\n",
      "Epoch: 15. Train loss: 0.568,  accuracy: 0.706. Test loss: 1.690 accuracy: 0.658\n",
      "Epoch: 16. Train loss: 0.487,  accuracy: 0.715. Test loss: 0.683 accuracy: 0.637\n",
      "Epoch: 17. Train loss: 0.394,  accuracy: 0.840. Test loss: 0.554 accuracy: 0.674\n",
      "Epoch: 18. Train loss: 0.297,  accuracy: 0.885. Test loss: 0.616 accuracy: 0.710\n",
      "Epoch: 19. Train loss: 0.217,  accuracy: 0.924. Test loss: 0.545 accuracy: 0.725\n",
      "Epoch: 20. Train loss: 0.144,  accuracy: 0.955. Test loss: 0.635 accuracy: 0.736\n",
      "Epoch: 21. Train loss: 0.119,  accuracy: 0.960. Test loss: 0.614 accuracy: 0.772\n",
      "Epoch: 22. Train loss: 0.088,  accuracy: 0.974. Test loss: 0.737 accuracy: 0.746\n",
      "Epoch: 23. Train loss: 0.057,  accuracy: 0.983. Test loss: 0.764 accuracy: 0.762\n",
      "Epoch: 24. Train loss: 0.038,  accuracy: 0.989. Test loss: 0.668 accuracy: 0.762\n",
      "Epoch: 25. Train loss: 0.030,  accuracy: 0.989. Test loss: 0.877 accuracy: 0.756\n",
      "Epoch: 26. Train loss: 0.034,  accuracy: 0.989. Test loss: 0.700 accuracy: 0.772\n",
      "Epoch: 27. Train loss: 0.015,  accuracy: 0.997. Test loss: 0.927 accuracy: 0.767\n",
      "Epoch: 28. Train loss: 0.019,  accuracy: 0.992. Test loss: 0.688 accuracy: 0.798\n",
      "Epoch: 29. Train loss: 0.029,  accuracy: 0.985. Test loss: 0.853 accuracy: 0.762\n",
      "Epoch: 30. Train loss: 0.031,  accuracy: 0.988. Test loss: 0.637 accuracy: 0.798\n",
      "Epoch: 31. Train loss: 0.018,  accuracy: 0.994. Test loss: 0.873 accuracy: 0.793\n",
      "Epoch: 32. Train loss: 0.012,  accuracy: 0.995. Test loss: 0.818 accuracy: 0.803\n",
      "Epoch: 33. Train loss: 0.008,  accuracy: 0.998. Test loss: 0.839 accuracy: 0.793\n",
      "Epoch: 34. Train loss: 0.005,  accuracy: 0.999. Test loss: 1.005 accuracy: 0.782\n",
      "Epoch: 35. Train loss: 0.004,  accuracy: 0.999. Test loss: 1.033 accuracy: 0.788\n",
      "Epoch: 36. Train loss: 0.004,  accuracy: 0.999. Test loss: 1.022 accuracy: 0.798\n",
      "Epoch: 37. Train loss: 0.004,  accuracy: 0.999. Test loss: 1.031 accuracy: 0.803\n",
      "Epoch: 38. Train loss: 0.004,  accuracy: 0.999. Test loss: 1.094 accuracy: 0.798\n",
      "Epoch: 39. Train loss: 0.004,  accuracy: 0.999. Test loss: 1.070 accuracy: 0.793\n",
      "Model state saved to model_weights/LSTM.pth\n"
     ]
    }
   ],
   "source": [
    "import trainer\n",
    "import torchmetrics\n",
    "from text_dataset import TextDataset\n",
    "from torch.utils.data import DataLoader\n",
    "from lstm import LSTM\n",
    "\n",
    "# Seed Torch's random number generator for reproducible results\n",
    "torch.manual_seed(42)\n",
    "\n",
    "# Training parameters\n",
    "BATCH_SIZE = 64\n",
    "NUM_EPOCHS = 40\n",
    "LEARNING_RATE = 1e-3\n",
    "\n",
    "# LSTM model parameters\n",
    "NUM_CLASSES = 2\n",
    "EMBEDDING_DIMS = 512\n",
    "NUM_LAYERS = 4\n",
    "HIDDEN_DIMS = 256\n",
    "\n",
    "# TODO: Initialise two instances of TextDataset - one each for train and test.\n",
    "# Read the implementation in text_dataset.py if you're not sure which arguments\n",
    "# to provide.\n",
    "# Also instantiate the train and test dataloaders.\n",
    "#\n",
    "# train_dataset = ...\n",
    "# test_dataset = ...\n",
    "# train_loader = ...\n",
    "# test_loader = ...\n",
    "\n",
    "\n",
    "# This code initialises an LSTM model.\n",
    "model =  LSTM(NUM_CLASSES, train_dataset.vocab_size, EMBEDDING_DIMS, NUM_LAYERS, HIDDEN_DIMS)\n",
    "\n",
    "# TODO: Initialise the Adam optimizer with learning rate set to LEARNING_RATE\n",
    "# optimizer = ....\n",
    "\n",
    "\n",
    "# TODO: set the loss_func to the cross entropy loss\n",
    "# loss_func = ....\n",
    "\n",
    "\n",
    "trainer.train_model(model, train_loader, test_loader, NUM_EPOCHS, loss_func,\n",
    "                       optimizer, exp_name=\"LSTM\")\n"
   ]
  },
  {
   "cell_type": "markdown",
   "metadata": {
    "id": "cc5E_ooOv7-j"
   },
   "source": [
    "### Visualise Training\n",
    "In this lab instead of using Tensorboard or writing our own graph functions, we'll take a different route - [Weights & Biases](https://www.wandb.com/).\n",
    "\n",
    "Weights & Biases is a web app which provides some very useful visualisation and monitoring features for training neural networks. It allows us to monitor training in real-time via the internet, and can even send you an email if your training has finished or crashed! It's quite a bit easier to use than Tensorboard, largely because you don't need to manage the logs or the Tensorboard server yourself.\n",
    "\n",
    "It requires a free account, so we'll go through that process now."
   ]
  },
  {
   "cell_type": "markdown",
   "metadata": {
    "id": "vv0zMHY4wxS3"
   },
   "source": [
    "If you looked through the `requirements.txt` at the start of the lab, you might have noticed a package called `wandb` - this is the Weights & Biases logging tool. To use it, we just initialise a session, then send it data.\n",
    "\n",
    "<font color=\"red\">Perform the two below steps in `trainer.py`.</font> \\\n",
    "\n",
    "__Initialise a session__: \\\n",
    "\n",
    "Uncomment the call to `wandb.init` at the start of the train_model function. The function has two arguments:\n",
    " * `project`: A distinct name for this project - something like `CSE5DL Transformers Lab`.\n",
    " * `name`: The name of the model - something like `LSTM`.\n",
    "\n",
    "__Log data__: \\\n",
    "Uncomment the call to `wandb.log` in `train_model`, there we provide a `dict` of the results we want to log. You can see the following keys are used:\n",
    " * `train_epoch_loss`\n",
    " * `train_epoch_accuracy`\n",
    " * `test_epoch_loss`\n",
    " * `test_epoch_accuracy`\n",
    "\n",
    "That's all it takes! * `Re-run the LSTM model using the cell above`, this time logging results to W&B.\n",
    "\n",
    "<font color=\"red\"> Re-train the model, and follow the instructions to create a W&B account</font>\n",
    "\n",
    "_You will be prompted to create or use an existing Weights and Biases account. If you haven't yet created your account, enter option 1 and follow the instructions. Otherwise, choose option 2 to authorise this notebook. If the authorisation link doesn't appear below, open [this link](https://wandb.ai/authorize) in a new tab_"
   ]
  },
  {
   "cell_type": "markdown",
   "metadata": {
    "id": "SXgLYiGjzMZ1"
   },
   "source": [
    "This time when you trained it, you should see a collection of miniature graphs and a link to `wandb.ai`. Visit the link to see your training graphs. \n",
    "\n",
    "Explore the tabs on the left side to see what information is saved with each W&B training run. You should see interesting details like GPU utilisation, output logs, and even the operating system version.\n",
    "\n",
    "Taking a moment to interpret the results, something should look a little off. The training loss and accuracy graphs descend and ascend as we would hope, but the the test loss bounces around quite wildly and the test accuracy doesn't really improve much throughout training. This is an indicator of overfitting, and is actually a problem with using LSTMs.\n",
    "\n",
    "Although it is possible to pre-train an LSTM on a source task and transfer the weights to a new task, for NLP it is generally found that performing transfer learning on pre-trained LSTM's do not work as well as transfer learning with transformer networks. Due to this, we won't spend any more time on LSTMs in this lab, and will move on to transformers.\n",
    "\n",
    "If you run the LSTM twice you will get two experiments called LSTM. You can always rename any experiment by pressing on the three vertical dots next to the experiment name. For example if you changed the learning rate to something else you can add that to the name.\n"
   ]
  },
  {
   "cell_type": "markdown",
   "metadata": {
    "id": "uHnR6Tot1eYm"
   },
   "source": [
    "## Train a Transformer\n",
    "\n",
    "The focus of this lab is on transformer models, which have overtaken LSTMs in both performance and practicality, as it's quite easy to fine-tune a transformer model on a new task.\n",
    "\n",
    "This is exactly what we'll do now - we'll download a pre-trained transformer from [HuggingFace](https://huggingface.co/) and train it on our dataset. As the implementation is already written, we won't need to write the model ourselves.\n",
    "\n",
    "Our chosen model is called DistilBert, which is a smaller version of the popular [Bert](https://en.wikipedia.org/wiki/BERT_(language_model)) model. There are a number of checkpoints available for us to load which can be found [here](https://huggingface.co/transformers/pretrained_models.html). We will use \"`distilbert-base-uncased`\" as it offers good performance with the least parameters.\n",
    "\n",
    "\n",
    "\n",
    "First fill in the code model code in the `distbert.py` file.  Once that's done, we will train the transformer model! While it's training, return to the W&B webapp and click \"runs\" on the top bar - you should see live results for the transformer training.\n",
    "\n",
    "![image.png](data:image/png;base64,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)"
   ]
  },
  {
   "cell_type": "code",
   "execution_count": null,
   "metadata": {
    "colab": {
     "base_uri": "https://localhost:8080/",
     "height": 1000,
     "referenced_widgets": [
      "413135d836f54d41af74474c5de620aa",
      "295dd930e2fb4c78a69c6af0307c1768",
      "bb6ea2da7f944875b26539266738738c",
      "dbb9a41f3b5349f4848a422b5151fe39",
      "3366bd75b16a479b828bf671a944c491",
      "fc93df4af91e4287843e9bfe882b9592",
      "59525be872204dbda1809ae2d89aa54f",
      "74770f392db547a6b1d680f3fe472433",
      "07b3682bbc23445c8c554d1e89c0f1b9",
      "64f10e5181f64c07b77810a94762b340",
      "ad84f2515eb9481db1dde9359ddb3126",
      "213caa94e1954e529f90820eb3f7c717",
      "fbf137dc69804823b655320cdafbe315",
      "1818240216734663a20d6a7e270cc345",
      "90ddb0eebdf04a5c81187d3dd93f1837",
      "a28b7e9a6be04aefb59f7d6a3490461c",
      "082976b0451c44a98ea626038e0dcbc3",
      "ec48b85aa0a44bd0b0ed7e1f08b07d76",
      "26c068ad95b6447b9fd9a442c1bb73fc",
      "2fad6d57cb39438988e7979311460b2f",
      "93a99ebfb08745a58fab22f74dd164d8",
      "ac8a6b7c664645ce86e2c58030afacc3",
      "0aecf8dba41c430189c2c151fb0b8db7",
      "d3ef49f3332a4e0faef7857318ca83e9",
      "a07fe6b2a9624679ad61e9d5d3aa4546",
      "a358370a04b94877a30d35d240293246",
      "7d376adc06e3420d85aefc40d693d91d",
      "3e0b8d56e53c4c24ac63a11243560efa",
      "267bb0e4a6fd447190dea99eb077366b",
      "938d685b140e4419ae5aa01a44b6a1c2"
     ]
    },
    "executionInfo": {
     "elapsed": 248826,
     "status": "ok",
     "timestamp": 1648786484379,
     "user": {
      "displayName": "Zhen He",
      "userId": "07388169493391803483"
     },
     "user_tz": -660
    },
    "id": "x1M0POsN3Css",
    "outputId": "cd895f3f-b8a0-462d-b19a-0c56bbd1b39c",
    "vscode": {
     "languageId": "python"
    }
   },
   "outputs": [
    {
     "data": {
      "application/vnd.jupyter.widget-view+json": {
       "model_id": "413135d836f54d41af74474c5de620aa",
       "version_major": 2,
       "version_minor": 0
      },
      "text/plain": [
       "Downloading:   0%|          | 0.00/268M [00:00<?, ?B/s]"
      ]
     },
     "metadata": {},
     "output_type": "display_data"
    },
    {
     "name": "stderr",
     "output_type": "stream",
     "text": [
      "Some weights of the model checkpoint at distilbert-base-uncased were not used when initializing DistilBertForSequenceClassification: ['vocab_transform.weight', 'vocab_transform.bias', 'vocab_layer_norm.weight', 'vocab_layer_norm.bias', 'vocab_projector.weight', 'vocab_projector.bias']\n",
      "- This IS expected if you are initializing DistilBertForSequenceClassification from the checkpoint of a model trained on another task or with another architecture (e.g. initializing a BertForSequenceClassification model from a BertForPretraining model).\n",
      "- This IS NOT expected if you are initializing DistilBertForSequenceClassification from the checkpoint of a model that you expect to be exactly identical (initializing a BertForSequenceClassification model from a BertForSequenceClassification model).\n",
      "Some weights of DistilBertForSequenceClassification were not initialized from the model checkpoint at distilbert-base-uncased and are newly initialized: ['pre_classifier.weight', 'pre_classifier.bias', 'classifier.weight', 'classifier.bias']\n",
      "You should probably TRAIN this model on a down-stream task to be able to use it for predictions and inference.\n",
      "\u001b[34m\u001b[1mwandb\u001b[0m: \u001b[33mWARNING\u001b[0m Calling wandb.login() after wandb.init() has no effect.\n"
     ]
    },
    {
     "data": {
      "text/html": [
       "<br/>Waiting for W&B process to finish, PID 516<br/>Program ended successfully."
      ],
      "text/plain": [
       "<IPython.core.display.HTML object>"
      ]
     },
     "metadata": {},
     "output_type": "display_data"
    },
    {
     "data": {
      "application/vnd.jupyter.widget-view+json": {
       "model_id": "213caa94e1954e529f90820eb3f7c717",
       "version_major": 2,
       "version_minor": 0
      },
      "text/plain": [
       "VBox(children=(Label(value=' 0.00MB of 0.00MB uploaded (0.00MB deduped)\\r'), FloatProgress(value=1.0, max=1.0)…"
      ]
     },
     "metadata": {},
     "output_type": "display_data"
    },
    {
     "data": {
      "text/html": [
       "Find user logs for this run at: <code>wandb/run-20220401_040851-39n0arcp/logs/debug.log</code>"
      ],
      "text/plain": [
       "<IPython.core.display.HTML object>"
      ]
     },
     "metadata": {},
     "output_type": "display_data"
    },
    {
     "data": {
      "text/html": [
       "Find internal logs for this run at: <code>wandb/run-20220401_040851-39n0arcp/logs/debug-internal.log</code>"
      ],
      "text/plain": [
       "<IPython.core.display.HTML object>"
      ]
     },
     "metadata": {},
     "output_type": "display_data"
    },
    {
     "data": {
      "text/html": [
       "<h3>Run summary:</h3><br/><style>\n",
       "    table.wandb td:nth-child(1) { padding: 0 10px; text-align: right }\n",
       "    </style><table class=\"wandb\">\n",
       "<tr><td>train_loss</td><td>0.00366</td></tr><tr><td>train_accuracy</td><td>0.99944</td></tr><tr><td>test_loss</td><td>1.06981</td></tr><tr><td>test_accuracy</td><td>0.79275</td></tr><tr><td>_step</td><td>39</td></tr><tr><td>_runtime</td><td>85</td></tr><tr><td>_timestamp</td><td>1648786220</td></tr></table>"
      ],
      "text/plain": [
       "<IPython.core.display.HTML object>"
      ]
     },
     "metadata": {},
     "output_type": "display_data"
    },
    {
     "data": {
      "text/html": [
       "<h3>Run history:</h3><br/><style>\n",
       "    table.wandb td:nth-child(1) { padding: 0 10px; text-align: right }\n",
       "    </style><table class=\"wandb\">\n",
       "<tr><td>train_loss</td><td>███████████████▇▆▅▄▃▃▂▂▂▁▁▁▁▁▁▁▁▁▁▁▁▁▁▁▁</td></tr><tr><td>train_accuracy</td><td>▁▁▁▁▁▁▁▁▁▁▁▁▁▁▁▁▂▄▅▆▇▇▇█████████████████</td></tr><tr><td>test_loss</td><td>▂▂▂▂▂▂▂▂▂▂▂▂▂▂▂█▂▁▁▁▂▁▂▂▂▃▂▃▂▃▂▃▃▃▄▄▄▄▄▄</td></tr><tr><td>test_accuracy</td><td>▄▄▄▄▄▄▄▄▄▄▄▄▄▄▄▂▁▃▄▅▅▇▆▆▆▆▇▆█▆████▇▇████</td></tr><tr><td>_step</td><td>▁▁▁▂▂▂▂▂▂▃▃▃▃▃▄▄▄▄▄▄▅▅▅▅▅▅▆▆▆▆▆▇▇▇▇▇▇███</td></tr><tr><td>_runtime</td><td>▁▁▁▂▂▂▂▂▂▃▃▃▃▃▄▄▄▄▄▄▅▅▅▅▅▅▆▆▆▆▆▇▇▇▇▇▇███</td></tr><tr><td>_timestamp</td><td>▁▁▁▂▂▂▂▂▂▃▃▃▃▃▄▄▄▄▄▄▅▅▅▅▅▅▆▆▆▆▆▇▇▇▇▇▇███</td></tr></table><br/>"
      ],
      "text/plain": [
       "<IPython.core.display.HTML object>"
      ]
     },
     "metadata": {},
     "output_type": "display_data"
    },
    {
     "data": {
      "text/html": [
       "Synced 5 W&B file(s), 0 media file(s), 0 artifact file(s) and 0 other file(s)"
      ],
      "text/plain": [
       "<IPython.core.display.HTML object>"
      ]
     },
     "metadata": {},
     "output_type": "display_data"
    },
    {
     "data": {
      "text/html": [
       "\n",
       "                    <br/>Synced <strong style=\"color:#cdcd00\">LSTM</strong>: <a href=\"https://wandb.ai/zhenhe1/CSE5DL%20Transformer%20Lab/runs/39n0arcp\" target=\"_blank\">https://wandb.ai/zhenhe1/CSE5DL%20Transformer%20Lab/runs/39n0arcp</a><br/>\n",
       "                "
      ],
      "text/plain": [
       "<IPython.core.display.HTML object>"
      ]
     },
     "metadata": {},
     "output_type": "display_data"
    },
    {
     "name": "stderr",
     "output_type": "stream",
     "text": [
      "\u001b[34m\u001b[1mwandb\u001b[0m: wandb version 0.12.11 is available!  To upgrade, please run:\n",
      "\u001b[34m\u001b[1mwandb\u001b[0m:  $ pip install wandb --upgrade\n"
     ]
    },
    {
     "data": {
      "text/html": [
       "\n",
       "                Tracking run with wandb version 0.10.8<br/>\n",
       "                Syncing run <strong style=\"color:#cdcd00\">Transformer</strong> to <a href=\"https://wandb.ai\" target=\"_blank\">Weights & Biases</a> <a href=\"https://docs.wandb.com/integrations/jupyter.html\" target=\"_blank\">(Documentation)</a>.<br/>\n",
       "                Project page: <a href=\"https://wandb.ai/zhenhe1/CSE5DL%20Transformer%20Lab\" target=\"_blank\">https://wandb.ai/zhenhe1/CSE5DL%20Transformer%20Lab</a><br/>\n",
       "                Run page: <a href=\"https://wandb.ai/zhenhe1/CSE5DL%20Transformer%20Lab/runs/2dkcddbl\" target=\"_blank\">https://wandb.ai/zhenhe1/CSE5DL%20Transformer%20Lab/runs/2dkcddbl</a><br/>\n",
       "                Run data is saved locally in <code>wandb/run-20220401_041059-2dkcddbl</code><br/><br/>\n",
       "            "
      ],
      "text/plain": [
       "<IPython.core.display.HTML object>"
      ]
     },
     "metadata": {},
     "output_type": "display_data"
    },
    {
     "data": {
      "application/vnd.jupyter.widget-view+json": {
       "model_id": "2fad6d57cb39438988e7979311460b2f",
       "version_major": 2,
       "version_minor": 0
      },
      "text/plain": [
       "Epochs:   0%|          | 0/10 [00:00<?, ?it/s]"
      ]
     },
     "metadata": {},
     "output_type": "display_data"
    },
    {
     "name": "stdout",
     "output_type": "stream",
     "text": [
      "Epoch: 0. Train loss: 0.344,  accuracy: 0.844. Test loss: 0.199 accuracy: 0.943\n",
      "Epoch: 1. Train loss: 0.121,  accuracy: 0.959. Test loss: 0.434 accuracy: 0.959\n",
      "Epoch: 2. Train loss: 0.064,  accuracy: 0.977. Test loss: 0.073 accuracy: 0.979\n",
      "Epoch: 3. Train loss: 0.024,  accuracy: 0.992. Test loss: 0.091 accuracy: 0.969\n",
      "Epoch: 4. Train loss: 0.025,  accuracy: 0.989. Test loss: 0.087 accuracy: 0.969\n",
      "Epoch: 5. Train loss: 0.035,  accuracy: 0.985. Test loss: 0.081 accuracy: 0.974\n",
      "Epoch: 6. Train loss: 0.017,  accuracy: 0.994. Test loss: 1.568 accuracy: 0.943\n",
      "Epoch: 7. Train loss: 0.014,  accuracy: 0.995. Test loss: 1.239 accuracy: 0.953\n",
      "Epoch: 8. Train loss: 0.010,  accuracy: 0.997. Test loss: 0.758 accuracy: 0.964\n",
      "Epoch: 9. Train loss: 0.024,  accuracy: 0.993. Test loss: 0.518 accuracy: 0.943\n",
      "Model state saved to model_weights/Transformer.pth\n"
     ]
    }
   ],
   "source": [
    "from transformers import AutoModelForSequenceClassification\n",
    "import utils\n",
    "from distbert import DistBert\n",
    "\n",
    "# Training parameters\n",
    "BATCH_SIZE = 64\n",
    "NUM_EPOCHS = 10\n",
    "LEARNING_RATE = 1e-4\n",
    "\n",
    "#TODO: Go to the distbert.py file to fill in the code for creating the \n",
    "#      \"distilbert-base-uncased\" model.\n",
    "\n",
    "model = DistBert(device)\n",
    "\n",
    "# TODO: Initialise the Adam optimizer with learning rate set to LEARNING_RATE\n",
    "# optimizer = ....\n",
    "\n",
    "# TODO: set the loss_func to the cross entropy loss\n",
    "# loss_func = ....\n",
    "\n",
    "trainer.train_model(model, train_loader, test_loader, NUM_EPOCHS, loss_func,\n",
    "                       optimizer, exp_name = \"Transformer\")\n",
    "\n",
    "# TODO: uncomment this line when you want to save the model        \n",
    "# utils.save_model_state(model, \"Transformer\")"
   ]
  },
  {
   "cell_type": "markdown",
   "metadata": {
    "id": "AlcQzHyxxZZU"
   },
   "source": [
    "### Save Model Weights\n",
    "\n",
    "Training is usually slow and computationally expensive, so we would like to save the model weights to disk for long-term storage. This way, we can load and re-use the weights at a later stage without the need to re-train the model.\n",
    "\n",
    "<font color=\"red\">Open `utils.py` and implement the incomplete saving and loading functions.</font>"
   ]
  },
  {
   "cell_type": "markdown",
   "metadata": {
    "id": "I-EKvgnAttmZ"
   },
   "source": [
    "Now let's use the save function at the end of training the transformer so our weights are persisted to disk.\n",
    "\n",
    "<font color=\"red\">Go to the previous cell and uncomment the utils.save_model_state ... line and run the cell again to train and save the model.</font>"
   ]
  },
  {
   "cell_type": "markdown",
   "metadata": {
    "id": "LH4MQgX2udWi"
   },
   "source": [
    "Once training has completed, open the file sidebar and check the `model_weights` directory - you should find your model weights file."
   ]
  },
  {
   "cell_type": "markdown",
   "metadata": {
    "id": "UsF-GC-H8wSm"
   },
   "source": [
    "### Load and Use the Model\n",
    "\n",
    "What good is saving a model to disk if you don't use it?\n",
    "\n",
    "The next cell contains some code for loading the model and classifying your custom input. See how easy it is to load the model once we have our utility function?\n",
    "\n",
    "<font color=\"red\">Read through the code in the next cell and run it.</font>\n",
    "\n"
   ]
  },
  {
   "cell_type": "code",
   "execution_count": null,
   "metadata": {
    "colab": {
     "base_uri": "https://localhost:8080/"
    },
    "executionInfo": {
     "elapsed": 3583,
     "status": "ok",
     "timestamp": 1648788755977,
     "user": {
      "displayName": "Zhen He",
      "userId": "07388169493391803483"
     },
     "user_tz": -660
    },
    "id": "Utp5_gUAvRVS",
    "outputId": "f37d8870-14df-4cbe-e4c6-9cf33f251125",
    "vscode": {
     "languageId": "python"
    }
   },
   "outputs": [
    {
     "name": "stderr",
     "output_type": "stream",
     "text": [
      "Some weights of the model checkpoint at distilbert-base-uncased were not used when initializing DistilBertForSequenceClassification: ['vocab_transform.weight', 'vocab_transform.bias', 'vocab_layer_norm.weight', 'vocab_layer_norm.bias', 'vocab_projector.weight', 'vocab_projector.bias']\n",
      "- This IS expected if you are initializing DistilBertForSequenceClassification from the checkpoint of a model trained on another task or with another architecture (e.g. initializing a BertForSequenceClassification model from a BertForPretraining model).\n",
      "- This IS NOT expected if you are initializing DistilBertForSequenceClassification from the checkpoint of a model that you expect to be exactly identical (initializing a BertForSequenceClassification model from a BertForSequenceClassification model).\n",
      "Some weights of DistilBertForSequenceClassification were not initialized from the model checkpoint at distilbert-base-uncased and are newly initialized: ['pre_classifier.weight', 'pre_classifier.bias', 'classifier.weight', 'classifier.bias']\n",
      "You should probably TRAIN this model on a down-stream task to be able to use it for predictions and inference.\n"
     ]
    },
    {
     "name": "stdout",
     "output_type": "stream",
     "text": [
      "Model state loaded from model_weights/Transformer.pth\n"
     ]
    }
   ],
   "source": [
    "import torch\n",
    "import utils\n",
    "from distbert import DistBert\n",
    "\n",
    "# Load the model from huggingface\n",
    "device = utils.get_training_device()\n",
    "model = DistBert(device)\n",
    "\n",
    "# Load model weights from disk\n",
    "utils.load_model_state(model, \"Transformer\")\n",
    "\n",
    "# Initialise a tokenizer\n",
    "tokenizer = AutoTokenizer.from_pretrained('distilbert-base-uncased')\n",
    "\n",
    "def predict_sentiment(input_str):\n",
    "    # Tokenize the given string\n",
    "    encodings = tokenizer(input_str, truncation=True, padding=True)\n",
    "    # Make tensor on the device\n",
    "    inputs = torch.tensor(encodings[\"input_ids\"], device=device)\n",
    "    # Add batch dimension\n",
    "    inputs = inputs.unsqueeze(0)\n",
    "\n",
    "    # Get model predictions\n",
    "    outputs = model(inputs)\n",
    "    # Convert to a value of 0 or 1 (for negative/positive sentiment)\n",
    "    sentiment = torch.argmax(outputs, -1)\n",
    "    # Take only the first prediction (as we have a batch size of 1)\n",
    "    sentiment = sentiment[0]\n",
    "\n",
    "    return \"Positive\" if sentiment == 1 else \"Negative\""
   ]
  },
  {
   "cell_type": "markdown",
   "metadata": {
    "id": "9D7QZAfz_muC"
   },
   "source": [
    "Let's try it out! Make up some financial news headlines and see what the model has to say. It won't be perfect, but it should be quite good. "
   ]
  },
  {
   "cell_type": "code",
   "execution_count": null,
   "metadata": {
    "colab": {
     "base_uri": "https://localhost:8080/"
    },
    "executionInfo": {
     "elapsed": 310,
     "status": "ok",
     "timestamp": 1648788804005,
     "user": {
      "displayName": "Zhen He",
      "userId": "07388169493391803483"
     },
     "user_tz": -660
    },
    "id": "-F1dO60R_FD1",
    "outputId": "74fa47d2-cfd5-4c1a-9984-f47bfe0c473b",
    "vscode": {
     "languageId": "python"
    }
   },
   "outputs": [
    {
     "name": "stdout",
     "output_type": "stream",
     "text": [
      "Negative\n",
      "Positive\n"
     ]
    }
   ],
   "source": [
    "my_input_string = \"Apple stocks plummet 2 points in a single day\"\n",
    "print(predict_sentiment(my_input_string))\n",
    "\n",
    "my_input_string = \"Apple shareholders excited for early product release\"\n",
    "print(predict_sentiment(my_input_string))"
   ]
  },
  {
   "cell_type": "markdown",
   "metadata": {
    "id": "4pw8klrXAMRg"
   },
   "source": [
    "That's a wrap! This lab has a lot of content (as usual), but the best part is that we can re-use this code for many types of projects.\n",
    "\n",
    "All that's required for a new project is a data loader, model and training script.\n",
    "\n",
    "Soon we'll extend this codebase to also include a basic web server so we can handle requests over the internet!"
   ]
  },
  {
   "cell_type": "markdown",
   "metadata": {
    "id": "8G6wpoqFcDM1"
   },
   "source": [
    "*Additional Information*\n",
    "\n",
    "Although we wrote our own training script for maximum control over the training procedure, HuggingFace provides their own trainer implementation. If you do wish to use a pre-trained transformer in the future and don't want to write so much code, you could consider using their alternative.\n",
    "\n",
    "*This is not required for this subject.*\n",
    "\n",
    "https://huggingface.co/transformers/custom_datasets.html#fine-tuning-with-trainer\n"
   ]
  }
 ],
 "metadata": {
  "accelerator": "GPU",
  "colab": {
   "provenance": []
  },
  "kernelspec": {
   "display_name": "Python 3 (ipykernel)",
   "language": "python",
   "name": "python3"
  },
  "language_info": {
   "codemirror_mode": {
    "name": "ipython",
    "version": 3
   },
   "file_extension": ".py",
   "mimetype": "text/x-python",
   "name": "python",
   "nbconvert_exporter": "python",
   "pygments_lexer": "ipython3",
   "version": "3.9.7"
  },
  "widgets": {
   "application/vnd.jupyter.widget-state+json": {
    "07b3682bbc23445c8c554d1e89c0f1b9": {
     "model_module": "@jupyter-widgets/controls",
     "model_module_version": "1.5.0",
     "model_name": "ProgressStyleModel",
     "state": {
      "_model_module": "@jupyter-widgets/controls",
      "_model_module_version": "1.5.0",
      "_model_name": "ProgressStyleModel",
      "_view_count": null,
      "_view_module": "@jupyter-widgets/base",
      "_view_module_version": "1.2.0",
      "_view_name": "StyleView",
      "bar_color": null,
      "description_width": ""
     }
    },
    "082976b0451c44a98ea626038e0dcbc3": {
     "model_module": "@jupyter-widgets/controls",
     "model_module_version": "1.5.0",
     "model_name": "DescriptionStyleModel",
     "state": {
      "_model_module": "@jupyter-widgets/controls",
      "_model_module_version": "1.5.0",
      "_model_name": "DescriptionStyleModel",
      "_view_count": null,
      "_view_module": "@jupyter-widgets/base",
      "_view_module_version": "1.2.0",
      "_view_name": "StyleView",
      "description_width": ""
     }
    },
    "08ac576e53104bfab8b96b004f797ab9": {
     "model_module": "@jupyter-widgets/controls",
     "model_module_version": "1.5.0",
     "model_name": "ProgressStyleModel",
     "state": {
      "_model_module": "@jupyter-widgets/controls",
      "_model_module_version": "1.5.0",
      "_model_name": "ProgressStyleModel",
      "_view_count": null,
      "_view_module": "@jupyter-widgets/base",
      "_view_module_version": "1.2.0",
      "_view_name": "StyleView",
      "bar_color": null,
      "description_width": ""
     }
    },
    "0aecf8dba41c430189c2c151fb0b8db7": {
     "model_module": "@jupyter-widgets/controls",
     "model_module_version": "1.5.0",
     "model_name": "HTMLModel",
     "state": {
      "_dom_classes": [],
      "_model_module": "@jupyter-widgets/controls",
      "_model_module_version": "1.5.0",
      "_model_name": "HTMLModel",
      "_view_count": null,
      "_view_module": "@jupyter-widgets/controls",
      "_view_module_version": "1.5.0",
      "_view_name": "HTMLView",
      "description": "",
      "description_tooltip": null,
      "layout": "IPY_MODEL_267bb0e4a6fd447190dea99eb077366b",
      "placeholder": "​",
      "style": "IPY_MODEL_938d685b140e4419ae5aa01a44b6a1c2",
      "value": " 10/10 [03:42&lt;00:00, 22.27s/it]"
     }
    },
    "0c5b72d42c2f4f8bb5b7ea532b1c36db": {
     "model_module": "@jupyter-widgets/controls",
     "model_module_version": "1.5.0",
     "model_name": "HTMLModel",
     "state": {
      "_dom_classes": [],
      "_model_module": "@jupyter-widgets/controls",
      "_model_module_version": "1.5.0",
      "_model_name": "HTMLModel",
      "_view_count": null,
      "_view_module": "@jupyter-widgets/controls",
      "_view_module_version": "1.5.0",
      "_view_name": "HTMLView",
      "description": "",
      "description_tooltip": null,
      "layout": "IPY_MODEL_493b823e04d442fb8d5e423e2b6d6854",
      "placeholder": "​",
      "style": "IPY_MODEL_f73d8f21d00c4e9191b7f91e0a2011c5",
      "value": "Epochs: 100%"
     }
    },
    "0ea3de3862274fd68ede0074fe67b31c": {
     "model_module": "@jupyter-widgets/base",
     "model_module_version": "1.2.0",
     "model_name": "LayoutModel",
     "state": {
      "_model_module": "@jupyter-widgets/base",
      "_model_module_version": "1.2.0",
      "_model_name": "LayoutModel",
      "_view_count": null,
      "_view_module": "@jupyter-widgets/base",
      "_view_module_version": "1.2.0",
      "_view_name": "LayoutView",
      "align_content": null,
      "align_items": null,
      "align_self": null,
      "border": null,
      "bottom": null,
      "display": null,
      "flex": null,
      "flex_flow": null,
      "grid_area": null,
      "grid_auto_columns": null,
      "grid_auto_flow": null,
      "grid_auto_rows": null,
      "grid_column": null,
      "grid_gap": null,
      "grid_row": null,
      "grid_template_areas": null,
      "grid_template_columns": null,
      "grid_template_rows": null,
      "height": null,
      "justify_content": null,
      "justify_items": null,
      "left": null,
      "margin": null,
      "max_height": null,
      "max_width": null,
      "min_height": null,
      "min_width": null,
      "object_fit": null,
      "object_position": null,
      "order": null,
      "overflow": null,
      "overflow_x": null,
      "overflow_y": null,
      "padding": null,
      "right": null,
      "top": null,
      "visibility": null,
      "width": null
     }
    },
    "0ff3492b173f4e17b018fb43d6d29d63": {
     "model_module": "@jupyter-widgets/base",
     "model_module_version": "1.2.0",
     "model_name": "LayoutModel",
     "state": {
      "_model_module": "@jupyter-widgets/base",
      "_model_module_version": "1.2.0",
      "_model_name": "LayoutModel",
      "_view_count": null,
      "_view_module": "@jupyter-widgets/base",
      "_view_module_version": "1.2.0",
      "_view_name": "LayoutView",
      "align_content": null,
      "align_items": null,
      "align_self": null,
      "border": null,
      "bottom": null,
      "display": null,
      "flex": null,
      "flex_flow": null,
      "grid_area": null,
      "grid_auto_columns": null,
      "grid_auto_flow": null,
      "grid_auto_rows": null,
      "grid_column": null,
      "grid_gap": null,
      "grid_row": null,
      "grid_template_areas": null,
      "grid_template_columns": null,
      "grid_template_rows": null,
      "height": null,
      "justify_content": null,
      "justify_items": null,
      "left": null,
      "margin": null,
      "max_height": null,
      "max_width": null,
      "min_height": null,
      "min_width": null,
      "object_fit": null,
      "object_position": null,
      "order": null,
      "overflow": null,
      "overflow_x": null,
      "overflow_y": null,
      "padding": null,
      "right": null,
      "top": null,
      "visibility": null,
      "width": null
     }
    },
    "1818240216734663a20d6a7e270cc345": {
     "model_module": "@jupyter-widgets/controls",
     "model_module_version": "1.5.0",
     "model_name": "FloatProgressModel",
     "state": {
      "_dom_classes": [],
      "_model_module": "@jupyter-widgets/controls",
      "_model_module_version": "1.5.0",
      "_model_name": "FloatProgressModel",
      "_view_count": null,
      "_view_module": "@jupyter-widgets/controls",
      "_view_module_version": "1.5.0",
      "_view_name": "ProgressView",
      "bar_style": "",
      "description": "",
      "description_tooltip": null,
      "layout": "IPY_MODEL_ec48b85aa0a44bd0b0ed7e1f08b07d76",
      "max": 1,
      "min": 0,
      "orientation": "horizontal",
      "style": "IPY_MODEL_26c068ad95b6447b9fd9a442c1bb73fc",
      "value": 1
     }
    },
    "213caa94e1954e529f90820eb3f7c717": {
     "model_module": "@jupyter-widgets/controls",
     "model_module_version": "1.5.0",
     "model_name": "VBoxModel",
     "state": {
      "_dom_classes": [],
      "_model_module": "@jupyter-widgets/controls",
      "_model_module_version": "1.5.0",
      "_model_name": "VBoxModel",
      "_view_count": null,
      "_view_module": "@jupyter-widgets/controls",
      "_view_module_version": "1.5.0",
      "_view_name": "VBoxView",
      "box_style": "",
      "children": [
       "IPY_MODEL_fbf137dc69804823b655320cdafbe315",
       "IPY_MODEL_1818240216734663a20d6a7e270cc345"
      ],
      "layout": "IPY_MODEL_90ddb0eebdf04a5c81187d3dd93f1837"
     }
    },
    "2458c53dd73d419f848fdcec763d00f3": {
     "model_module": "@jupyter-widgets/base",
     "model_module_version": "1.2.0",
     "model_name": "LayoutModel",
     "state": {
      "_model_module": "@jupyter-widgets/base",
      "_model_module_version": "1.2.0",
      "_model_name": "LayoutModel",
      "_view_count": null,
      "_view_module": "@jupyter-widgets/base",
      "_view_module_version": "1.2.0",
      "_view_name": "LayoutView",
      "align_content": null,
      "align_items": null,
      "align_self": null,
      "border": null,
      "bottom": null,
      "display": null,
      "flex": null,
      "flex_flow": null,
      "grid_area": null,
      "grid_auto_columns": null,
      "grid_auto_flow": null,
      "grid_auto_rows": null,
      "grid_column": null,
      "grid_gap": null,
      "grid_row": null,
      "grid_template_areas": null,
      "grid_template_columns": null,
      "grid_template_rows": null,
      "height": null,
      "justify_content": null,
      "justify_items": null,
      "left": null,
      "margin": null,
      "max_height": null,
      "max_width": null,
      "min_height": null,
      "min_width": null,
      "object_fit": null,
      "object_position": null,
      "order": null,
      "overflow": null,
      "overflow_x": null,
      "overflow_y": null,
      "padding": null,
      "right": null,
      "top": null,
      "visibility": null,
      "width": null
     }
    },
    "267bb0e4a6fd447190dea99eb077366b": {
     "model_module": "@jupyter-widgets/base",
     "model_module_version": "1.2.0",
     "model_name": "LayoutModel",
     "state": {
      "_model_module": "@jupyter-widgets/base",
      "_model_module_version": "1.2.0",
      "_model_name": "LayoutModel",
      "_view_count": null,
      "_view_module": "@jupyter-widgets/base",
      "_view_module_version": "1.2.0",
      "_view_name": "LayoutView",
      "align_content": null,
      "align_items": null,
      "align_self": null,
      "border": null,
      "bottom": null,
      "display": null,
      "flex": null,
      "flex_flow": null,
      "grid_area": null,
      "grid_auto_columns": null,
      "grid_auto_flow": null,
      "grid_auto_rows": null,
      "grid_column": null,
      "grid_gap": null,
      "grid_row": null,
      "grid_template_areas": null,
      "grid_template_columns": null,
      "grid_template_rows": null,
      "height": null,
      "justify_content": null,
      "justify_items": null,
      "left": null,
      "margin": null,
      "max_height": null,
      "max_width": null,
      "min_height": null,
      "min_width": null,
      "object_fit": null,
      "object_position": null,
      "order": null,
      "overflow": null,
      "overflow_x": null,
      "overflow_y": null,
      "padding": null,
      "right": null,
      "top": null,
      "visibility": null,
      "width": null
     }
    },
    "26c068ad95b6447b9fd9a442c1bb73fc": {
     "model_module": "@jupyter-widgets/controls",
     "model_module_version": "1.5.0",
     "model_name": "ProgressStyleModel",
     "state": {
      "_model_module": "@jupyter-widgets/controls",
      "_model_module_version": "1.5.0",
      "_model_name": "ProgressStyleModel",
      "_view_count": null,
      "_view_module": "@jupyter-widgets/base",
      "_view_module_version": "1.2.0",
      "_view_name": "StyleView",
      "bar_color": null,
      "description_width": ""
     }
    },
    "28af1ba6fe71404aaa27b919f7692f59": {
     "model_module": "@jupyter-widgets/controls",
     "model_module_version": "1.5.0",
     "model_name": "DescriptionStyleModel",
     "state": {
      "_model_module": "@jupyter-widgets/controls",
      "_model_module_version": "1.5.0",
      "_model_name": "DescriptionStyleModel",
      "_view_count": null,
      "_view_module": "@jupyter-widgets/base",
      "_view_module_version": "1.2.0",
      "_view_name": "StyleView",
      "description_width": ""
     }
    },
    "295dd930e2fb4c78a69c6af0307c1768": {
     "model_module": "@jupyter-widgets/controls",
     "model_module_version": "1.5.0",
     "model_name": "HTMLModel",
     "state": {
      "_dom_classes": [],
      "_model_module": "@jupyter-widgets/controls",
      "_model_module_version": "1.5.0",
      "_model_name": "HTMLModel",
      "_view_count": null,
      "_view_module": "@jupyter-widgets/controls",
      "_view_module_version": "1.5.0",
      "_view_name": "HTMLView",
      "description": "",
      "description_tooltip": null,
      "layout": "IPY_MODEL_fc93df4af91e4287843e9bfe882b9592",
      "placeholder": "​",
      "style": "IPY_MODEL_59525be872204dbda1809ae2d89aa54f",
      "value": "Downloading: 100%"
     }
    },
    "2daafd128fde4e34950294748ea78340": {
     "model_module": "@jupyter-widgets/base",
     "model_module_version": "1.2.0",
     "model_name": "LayoutModel",
     "state": {
      "_model_module": "@jupyter-widgets/base",
      "_model_module_version": "1.2.0",
      "_model_name": "LayoutModel",
      "_view_count": null,
      "_view_module": "@jupyter-widgets/base",
      "_view_module_version": "1.2.0",
      "_view_name": "LayoutView",
      "align_content": null,
      "align_items": null,
      "align_self": null,
      "border": null,
      "bottom": null,
      "display": null,
      "flex": null,
      "flex_flow": null,
      "grid_area": null,
      "grid_auto_columns": null,
      "grid_auto_flow": null,
      "grid_auto_rows": null,
      "grid_column": null,
      "grid_gap": null,
      "grid_row": null,
      "grid_template_areas": null,
      "grid_template_columns": null,
      "grid_template_rows": null,
      "height": null,
      "justify_content": null,
      "justify_items": null,
      "left": null,
      "margin": null,
      "max_height": null,
      "max_width": null,
      "min_height": null,
      "min_width": null,
      "object_fit": null,
      "object_position": null,
      "order": null,
      "overflow": null,
      "overflow_x": null,
      "overflow_y": null,
      "padding": null,
      "right": null,
      "top": null,
      "visibility": null,
      "width": null
     }
    },
    "2fad6d57cb39438988e7979311460b2f": {
     "model_module": "@jupyter-widgets/controls",
     "model_module_version": "1.5.0",
     "model_name": "HBoxModel",
     "state": {
      "_dom_classes": [],
      "_model_module": "@jupyter-widgets/controls",
      "_model_module_version": "1.5.0",
      "_model_name": "HBoxModel",
      "_view_count": null,
      "_view_module": "@jupyter-widgets/controls",
      "_view_module_version": "1.5.0",
      "_view_name": "HBoxView",
      "box_style": "",
      "children": [
       "IPY_MODEL_93a99ebfb08745a58fab22f74dd164d8",
       "IPY_MODEL_ac8a6b7c664645ce86e2c58030afacc3",
       "IPY_MODEL_0aecf8dba41c430189c2c151fb0b8db7"
      ],
      "layout": "IPY_MODEL_d3ef49f3332a4e0faef7857318ca83e9"
     }
    },
    "3366bd75b16a479b828bf671a944c491": {
     "model_module": "@jupyter-widgets/base",
     "model_module_version": "1.2.0",
     "model_name": "LayoutModel",
     "state": {
      "_model_module": "@jupyter-widgets/base",
      "_model_module_version": "1.2.0",
      "_model_name": "LayoutModel",
      "_view_count": null,
      "_view_module": "@jupyter-widgets/base",
      "_view_module_version": "1.2.0",
      "_view_name": "LayoutView",
      "align_content": null,
      "align_items": null,
      "align_self": null,
      "border": null,
      "bottom": null,
      "display": null,
      "flex": null,
      "flex_flow": null,
      "grid_area": null,
      "grid_auto_columns": null,
      "grid_auto_flow": null,
      "grid_auto_rows": null,
      "grid_column": null,
      "grid_gap": null,
      "grid_row": null,
      "grid_template_areas": null,
      "grid_template_columns": null,
      "grid_template_rows": null,
      "height": null,
      "justify_content": null,
      "justify_items": null,
      "left": null,
      "margin": null,
      "max_height": null,
      "max_width": null,
      "min_height": null,
      "min_width": null,
      "object_fit": null,
      "object_position": null,
      "order": null,
      "overflow": null,
      "overflow_x": null,
      "overflow_y": null,
      "padding": null,
      "right": null,
      "top": null,
      "visibility": null,
      "width": null
     }
    },
    "3d0efa797e264420a65875244440331a": {
     "model_module": "@jupyter-widgets/controls",
     "model_module_version": "1.5.0",
     "model_name": "ProgressStyleModel",
     "state": {
      "_model_module": "@jupyter-widgets/controls",
      "_model_module_version": "1.5.0",
      "_model_name": "ProgressStyleModel",
      "_view_count": null,
      "_view_module": "@jupyter-widgets/base",
      "_view_module_version": "1.2.0",
      "_view_name": "StyleView",
      "bar_color": null,
      "description_width": ""
     }
    },
    "3e0b8d56e53c4c24ac63a11243560efa": {
     "model_module": "@jupyter-widgets/controls",
     "model_module_version": "1.5.0",
     "model_name": "ProgressStyleModel",
     "state": {
      "_model_module": "@jupyter-widgets/controls",
      "_model_module_version": "1.5.0",
      "_model_name": "ProgressStyleModel",
      "_view_count": null,
      "_view_module": "@jupyter-widgets/base",
      "_view_module_version": "1.2.0",
      "_view_name": "StyleView",
      "bar_color": null,
      "description_width": ""
     }
    },
    "3f072ffe810d4761b6f7d6fadf338d45": {
     "model_module": "@jupyter-widgets/controls",
     "model_module_version": "1.5.0",
     "model_name": "HTMLModel",
     "state": {
      "_dom_classes": [],
      "_model_module": "@jupyter-widgets/controls",
      "_model_module_version": "1.5.0",
      "_model_name": "HTMLModel",
      "_view_count": null,
      "_view_module": "@jupyter-widgets/controls",
      "_view_module_version": "1.5.0",
      "_view_name": "HTMLView",
      "description": "",
      "description_tooltip": null,
      "layout": "IPY_MODEL_ec61793939bd4ec693d02f5253f5c2d4",
      "placeholder": "​",
      "style": "IPY_MODEL_ef183f2a893748a7b2c8faad22114fac",
      "value": " 442/442 [00:00&lt;00:00, 5.77kB/s]"
     }
    },
    "407e02f46a9e4bada7ece86c9c081a64": {
     "model_module": "@jupyter-widgets/controls",
     "model_module_version": "1.5.0",
     "model_name": "FloatProgressModel",
     "state": {
      "_dom_classes": [],
      "_model_module": "@jupyter-widgets/controls",
      "_model_module_version": "1.5.0",
      "_model_name": "FloatProgressModel",
      "_view_count": null,
      "_view_module": "@jupyter-widgets/controls",
      "_view_module_version": "1.5.0",
      "_view_name": "ProgressView",
      "bar_style": "success",
      "description": "",
      "description_tooltip": null,
      "layout": "IPY_MODEL_b4cfbc6d90dc4a4285e5b908ee5aa848",
      "max": 40,
      "min": 0,
      "orientation": "horizontal",
      "style": "IPY_MODEL_a096609a68464da297b48b72bb12f75c",
      "value": 40
     }
    },
    "40b6a2b70f3745bb954d23bcfb2668d0": {
     "model_module": "@jupyter-widgets/controls",
     "model_module_version": "1.5.0",
     "model_name": "FloatProgressModel",
     "state": {
      "_dom_classes": [],
      "_model_module": "@jupyter-widgets/controls",
      "_model_module_version": "1.5.0",
      "_model_name": "FloatProgressModel",
      "_view_count": null,
      "_view_module": "@jupyter-widgets/controls",
      "_view_module_version": "1.5.0",
      "_view_name": "ProgressView",
      "bar_style": "success",
      "description": "",
      "description_tooltip": null,
      "layout": "IPY_MODEL_95c4a41d3d734b3dbb7827cdadd1cce0",
      "max": 442,
      "min": 0,
      "orientation": "horizontal",
      "style": "IPY_MODEL_3d0efa797e264420a65875244440331a",
      "value": 442
     }
    },
    "413135d836f54d41af74474c5de620aa": {
     "model_module": "@jupyter-widgets/controls",
     "model_module_version": "1.5.0",
     "model_name": "HBoxModel",
     "state": {
      "_dom_classes": [],
      "_model_module": "@jupyter-widgets/controls",
      "_model_module_version": "1.5.0",
      "_model_name": "HBoxModel",
      "_view_count": null,
      "_view_module": "@jupyter-widgets/controls",
      "_view_module_version": "1.5.0",
      "_view_name": "HBoxView",
      "box_style": "",
      "children": [
       "IPY_MODEL_295dd930e2fb4c78a69c6af0307c1768",
       "IPY_MODEL_bb6ea2da7f944875b26539266738738c",
       "IPY_MODEL_dbb9a41f3b5349f4848a422b5151fe39"
      ],
      "layout": "IPY_MODEL_3366bd75b16a479b828bf671a944c491"
     }
    },
    "44ffe580b63d455ebf47e52f17e3e060": {
     "model_module": "@jupyter-widgets/controls",
     "model_module_version": "1.5.0",
     "model_name": "FloatProgressModel",
     "state": {
      "_dom_classes": [],
      "_model_module": "@jupyter-widgets/controls",
      "_model_module_version": "1.5.0",
      "_model_name": "FloatProgressModel",
      "_view_count": null,
      "_view_module": "@jupyter-widgets/controls",
      "_view_module_version": "1.5.0",
      "_view_name": "ProgressView",
      "bar_style": "success",
      "description": "",
      "description_tooltip": null,
      "layout": "IPY_MODEL_e883a1c66c0441618c22b0b934d2b9f9",
      "max": 231508,
      "min": 0,
      "orientation": "horizontal",
      "style": "IPY_MODEL_08ac576e53104bfab8b96b004f797ab9",
      "value": 231508
     }
    },
    "45793ae40232476a9d7ccc25bcd6fa84": {
     "model_module": "@jupyter-widgets/controls",
     "model_module_version": "1.5.0",
     "model_name": "HTMLModel",
     "state": {
      "_dom_classes": [],
      "_model_module": "@jupyter-widgets/controls",
      "_model_module_version": "1.5.0",
      "_model_name": "HTMLModel",
      "_view_count": null,
      "_view_module": "@jupyter-widgets/controls",
      "_view_module_version": "1.5.0",
      "_view_name": "HTMLView",
      "description": "",
      "description_tooltip": null,
      "layout": "IPY_MODEL_0ea3de3862274fd68ede0074fe67b31c",
      "placeholder": "​",
      "style": "IPY_MODEL_52cc8cc86c334d2fafec42d0d7a4bf78",
      "value": "Downloading: 100%"
     }
    },
    "493b823e04d442fb8d5e423e2b6d6854": {
     "model_module": "@jupyter-widgets/base",
     "model_module_version": "1.2.0",
     "model_name": "LayoutModel",
     "state": {
      "_model_module": "@jupyter-widgets/base",
      "_model_module_version": "1.2.0",
      "_model_name": "LayoutModel",
      "_view_count": null,
      "_view_module": "@jupyter-widgets/base",
      "_view_module_version": "1.2.0",
      "_view_name": "LayoutView",
      "align_content": null,
      "align_items": null,
      "align_self": null,
      "border": null,
      "bottom": null,
      "display": null,
      "flex": null,
      "flex_flow": null,
      "grid_area": null,
      "grid_auto_columns": null,
      "grid_auto_flow": null,
      "grid_auto_rows": null,
      "grid_column": null,
      "grid_gap": null,
      "grid_row": null,
      "grid_template_areas": null,
      "grid_template_columns": null,
      "grid_template_rows": null,
      "height": null,
      "justify_content": null,
      "justify_items": null,
      "left": null,
      "margin": null,
      "max_height": null,
      "max_width": null,
      "min_height": null,
      "min_width": null,
      "object_fit": null,
      "object_position": null,
      "order": null,
      "overflow": null,
      "overflow_x": null,
      "overflow_y": null,
      "padding": null,
      "right": null,
      "top": null,
      "visibility": null,
      "width": null
     }
    },
    "52cc8cc86c334d2fafec42d0d7a4bf78": {
     "model_module": "@jupyter-widgets/controls",
     "model_module_version": "1.5.0",
     "model_name": "DescriptionStyleModel",
     "state": {
      "_model_module": "@jupyter-widgets/controls",
      "_model_module_version": "1.5.0",
      "_model_name": "DescriptionStyleModel",
      "_view_count": null,
      "_view_module": "@jupyter-widgets/base",
      "_view_module_version": "1.2.0",
      "_view_name": "StyleView",
      "description_width": ""
     }
    },
    "53eb9d1761fb49f1a71f1005a390e6c9": {
     "model_module": "@jupyter-widgets/controls",
     "model_module_version": "1.5.0",
     "model_name": "HTMLModel",
     "state": {
      "_dom_classes": [],
      "_model_module": "@jupyter-widgets/controls",
      "_model_module_version": "1.5.0",
      "_model_name": "HTMLModel",
      "_view_count": null,
      "_view_module": "@jupyter-widgets/controls",
      "_view_module_version": "1.5.0",
      "_view_name": "HTMLView",
      "description": "",
      "description_tooltip": null,
      "layout": "IPY_MODEL_5c38e2f398dd48089bbddc8edfbfcbbf",
      "placeholder": "​",
      "style": "IPY_MODEL_6a39e217c1d740059fa02309acb72791",
      "value": "Downloading: 100%"
     }
    },
    "59525be872204dbda1809ae2d89aa54f": {
     "model_module": "@jupyter-widgets/controls",
     "model_module_version": "1.5.0",
     "model_name": "DescriptionStyleModel",
     "state": {
      "_model_module": "@jupyter-widgets/controls",
      "_model_module_version": "1.5.0",
      "_model_name": "DescriptionStyleModel",
      "_view_count": null,
      "_view_module": "@jupyter-widgets/base",
      "_view_module_version": "1.2.0",
      "_view_name": "StyleView",
      "description_width": ""
     }
    },
    "5c38e2f398dd48089bbddc8edfbfcbbf": {
     "model_module": "@jupyter-widgets/base",
     "model_module_version": "1.2.0",
     "model_name": "LayoutModel",
     "state": {
      "_model_module": "@jupyter-widgets/base",
      "_model_module_version": "1.2.0",
      "_model_name": "LayoutModel",
      "_view_count": null,
      "_view_module": "@jupyter-widgets/base",
      "_view_module_version": "1.2.0",
      "_view_name": "LayoutView",
      "align_content": null,
      "align_items": null,
      "align_self": null,
      "border": null,
      "bottom": null,
      "display": null,
      "flex": null,
      "flex_flow": null,
      "grid_area": null,
      "grid_auto_columns": null,
      "grid_auto_flow": null,
      "grid_auto_rows": null,
      "grid_column": null,
      "grid_gap": null,
      "grid_row": null,
      "grid_template_areas": null,
      "grid_template_columns": null,
      "grid_template_rows": null,
      "height": null,
      "justify_content": null,
      "justify_items": null,
      "left": null,
      "margin": null,
      "max_height": null,
      "max_width": null,
      "min_height": null,
      "min_width": null,
      "object_fit": null,
      "object_position": null,
      "order": null,
      "overflow": null,
      "overflow_x": null,
      "overflow_y": null,
      "padding": null,
      "right": null,
      "top": null,
      "visibility": null,
      "width": null
     }
    },
    "61331cb1338b48ba99e466d92070234e": {
     "model_module": "@jupyter-widgets/base",
     "model_module_version": "1.2.0",
     "model_name": "LayoutModel",
     "state": {
      "_model_module": "@jupyter-widgets/base",
      "_model_module_version": "1.2.0",
      "_model_name": "LayoutModel",
      "_view_count": null,
      "_view_module": "@jupyter-widgets/base",
      "_view_module_version": "1.2.0",
      "_view_name": "LayoutView",
      "align_content": null,
      "align_items": null,
      "align_self": null,
      "border": null,
      "bottom": null,
      "display": null,
      "flex": null,
      "flex_flow": null,
      "grid_area": null,
      "grid_auto_columns": null,
      "grid_auto_flow": null,
      "grid_auto_rows": null,
      "grid_column": null,
      "grid_gap": null,
      "grid_row": null,
      "grid_template_areas": null,
      "grid_template_columns": null,
      "grid_template_rows": null,
      "height": null,
      "justify_content": null,
      "justify_items": null,
      "left": null,
      "margin": null,
      "max_height": null,
      "max_width": null,
      "min_height": null,
      "min_width": null,
      "object_fit": null,
      "object_position": null,
      "order": null,
      "overflow": null,
      "overflow_x": null,
      "overflow_y": null,
      "padding": null,
      "right": null,
      "top": null,
      "visibility": null,
      "width": null
     }
    },
    "64f10e5181f64c07b77810a94762b340": {
     "model_module": "@jupyter-widgets/base",
     "model_module_version": "1.2.0",
     "model_name": "LayoutModel",
     "state": {
      "_model_module": "@jupyter-widgets/base",
      "_model_module_version": "1.2.0",
      "_model_name": "LayoutModel",
      "_view_count": null,
      "_view_module": "@jupyter-widgets/base",
      "_view_module_version": "1.2.0",
      "_view_name": "LayoutView",
      "align_content": null,
      "align_items": null,
      "align_self": null,
      "border": null,
      "bottom": null,
      "display": null,
      "flex": null,
      "flex_flow": null,
      "grid_area": null,
      "grid_auto_columns": null,
      "grid_auto_flow": null,
      "grid_auto_rows": null,
      "grid_column": null,
      "grid_gap": null,
      "grid_row": null,
      "grid_template_areas": null,
      "grid_template_columns": null,
      "grid_template_rows": null,
      "height": null,
      "justify_content": null,
      "justify_items": null,
      "left": null,
      "margin": null,
      "max_height": null,
      "max_width": null,
      "min_height": null,
      "min_width": null,
      "object_fit": null,
      "object_position": null,
      "order": null,
      "overflow": null,
      "overflow_x": null,
      "overflow_y": null,
      "padding": null,
      "right": null,
      "top": null,
      "visibility": null,
      "width": null
     }
    },
    "6a39e217c1d740059fa02309acb72791": {
     "model_module": "@jupyter-widgets/controls",
     "model_module_version": "1.5.0",
     "model_name": "DescriptionStyleModel",
     "state": {
      "_model_module": "@jupyter-widgets/controls",
      "_model_module_version": "1.5.0",
      "_model_name": "DescriptionStyleModel",
      "_view_count": null,
      "_view_module": "@jupyter-widgets/base",
      "_view_module_version": "1.2.0",
      "_view_name": "StyleView",
      "description_width": ""
     }
    },
    "6bc83ecf888149dab51f3f7cf4bd5636": {
     "model_module": "@jupyter-widgets/controls",
     "model_module_version": "1.5.0",
     "model_name": "DescriptionStyleModel",
     "state": {
      "_model_module": "@jupyter-widgets/controls",
      "_model_module_version": "1.5.0",
      "_model_name": "DescriptionStyleModel",
      "_view_count": null,
      "_view_module": "@jupyter-widgets/base",
      "_view_module_version": "1.2.0",
      "_view_name": "StyleView",
      "description_width": ""
     }
    },
    "6cdd1160ee594e9e8b132c7b52e1924a": {
     "model_module": "@jupyter-widgets/base",
     "model_module_version": "1.2.0",
     "model_name": "LayoutModel",
     "state": {
      "_model_module": "@jupyter-widgets/base",
      "_model_module_version": "1.2.0",
      "_model_name": "LayoutModel",
      "_view_count": null,
      "_view_module": "@jupyter-widgets/base",
      "_view_module_version": "1.2.0",
      "_view_name": "LayoutView",
      "align_content": null,
      "align_items": null,
      "align_self": null,
      "border": null,
      "bottom": null,
      "display": null,
      "flex": null,
      "flex_flow": null,
      "grid_area": null,
      "grid_auto_columns": null,
      "grid_auto_flow": null,
      "grid_auto_rows": null,
      "grid_column": null,
      "grid_gap": null,
      "grid_row": null,
      "grid_template_areas": null,
      "grid_template_columns": null,
      "grid_template_rows": null,
      "height": null,
      "justify_content": null,
      "justify_items": null,
      "left": null,
      "margin": null,
      "max_height": null,
      "max_width": null,
      "min_height": null,
      "min_width": null,
      "object_fit": null,
      "object_position": null,
      "order": null,
      "overflow": null,
      "overflow_x": null,
      "overflow_y": null,
      "padding": null,
      "right": null,
      "top": null,
      "visibility": null,
      "width": null
     }
    },
    "74770f392db547a6b1d680f3fe472433": {
     "model_module": "@jupyter-widgets/base",
     "model_module_version": "1.2.0",
     "model_name": "LayoutModel",
     "state": {
      "_model_module": "@jupyter-widgets/base",
      "_model_module_version": "1.2.0",
      "_model_name": "LayoutModel",
      "_view_count": null,
      "_view_module": "@jupyter-widgets/base",
      "_view_module_version": "1.2.0",
      "_view_name": "LayoutView",
      "align_content": null,
      "align_items": null,
      "align_self": null,
      "border": null,
      "bottom": null,
      "display": null,
      "flex": null,
      "flex_flow": null,
      "grid_area": null,
      "grid_auto_columns": null,
      "grid_auto_flow": null,
      "grid_auto_rows": null,
      "grid_column": null,
      "grid_gap": null,
      "grid_row": null,
      "grid_template_areas": null,
      "grid_template_columns": null,
      "grid_template_rows": null,
      "height": null,
      "justify_content": null,
      "justify_items": null,
      "left": null,
      "margin": null,
      "max_height": null,
      "max_width": null,
      "min_height": null,
      "min_width": null,
      "object_fit": null,
      "object_position": null,
      "order": null,
      "overflow": null,
      "overflow_x": null,
      "overflow_y": null,
      "padding": null,
      "right": null,
      "top": null,
      "visibility": null,
      "width": null
     }
    },
    "7d376adc06e3420d85aefc40d693d91d": {
     "model_module": "@jupyter-widgets/base",
     "model_module_version": "1.2.0",
     "model_name": "LayoutModel",
     "state": {
      "_model_module": "@jupyter-widgets/base",
      "_model_module_version": "1.2.0",
      "_model_name": "LayoutModel",
      "_view_count": null,
      "_view_module": "@jupyter-widgets/base",
      "_view_module_version": "1.2.0",
      "_view_name": "LayoutView",
      "align_content": null,
      "align_items": null,
      "align_self": null,
      "border": null,
      "bottom": null,
      "display": null,
      "flex": null,
      "flex_flow": null,
      "grid_area": null,
      "grid_auto_columns": null,
      "grid_auto_flow": null,
      "grid_auto_rows": null,
      "grid_column": null,
      "grid_gap": null,
      "grid_row": null,
      "grid_template_areas": null,
      "grid_template_columns": null,
      "grid_template_rows": null,
      "height": null,
      "justify_content": null,
      "justify_items": null,
      "left": null,
      "margin": null,
      "max_height": null,
      "max_width": null,
      "min_height": null,
      "min_width": null,
      "object_fit": null,
      "object_position": null,
      "order": null,
      "overflow": null,
      "overflow_x": null,
      "overflow_y": null,
      "padding": null,
      "right": null,
      "top": null,
      "visibility": null,
      "width": null
     }
    },
    "866de3bf9a53485d84c88c5e5451219b": {
     "model_module": "@jupyter-widgets/controls",
     "model_module_version": "1.5.0",
     "model_name": "HTMLModel",
     "state": {
      "_dom_classes": [],
      "_model_module": "@jupyter-widgets/controls",
      "_model_module_version": "1.5.0",
      "_model_name": "HTMLModel",
      "_view_count": null,
      "_view_module": "@jupyter-widgets/controls",
      "_view_module_version": "1.5.0",
      "_view_name": "HTMLView",
      "description": "",
      "description_tooltip": null,
      "layout": "IPY_MODEL_61331cb1338b48ba99e466d92070234e",
      "placeholder": "​",
      "style": "IPY_MODEL_28af1ba6fe71404aaa27b919f7692f59",
      "value": " 40/40 [01:23&lt;00:00,  2.04s/it]"
     }
    },
    "87a5a05c59b44839bfdd4b6729f5469c": {
     "model_module": "@jupyter-widgets/base",
     "model_module_version": "1.2.0",
     "model_name": "LayoutModel",
     "state": {
      "_model_module": "@jupyter-widgets/base",
      "_model_module_version": "1.2.0",
      "_model_name": "LayoutModel",
      "_view_count": null,
      "_view_module": "@jupyter-widgets/base",
      "_view_module_version": "1.2.0",
      "_view_name": "LayoutView",
      "align_content": null,
      "align_items": null,
      "align_self": null,
      "border": null,
      "bottom": null,
      "display": null,
      "flex": null,
      "flex_flow": null,
      "grid_area": null,
      "grid_auto_columns": null,
      "grid_auto_flow": null,
      "grid_auto_rows": null,
      "grid_column": null,
      "grid_gap": null,
      "grid_row": null,
      "grid_template_areas": null,
      "grid_template_columns": null,
      "grid_template_rows": null,
      "height": null,
      "justify_content": null,
      "justify_items": null,
      "left": null,
      "margin": null,
      "max_height": null,
      "max_width": null,
      "min_height": null,
      "min_width": null,
      "object_fit": null,
      "object_position": null,
      "order": null,
      "overflow": null,
      "overflow_x": null,
      "overflow_y": null,
      "padding": null,
      "right": null,
      "top": null,
      "visibility": null,
      "width": null
     }
    },
    "90ddb0eebdf04a5c81187d3dd93f1837": {
     "model_module": "@jupyter-widgets/base",
     "model_module_version": "1.2.0",
     "model_name": "LayoutModel",
     "state": {
      "_model_module": "@jupyter-widgets/base",
      "_model_module_version": "1.2.0",
      "_model_name": "LayoutModel",
      "_view_count": null,
      "_view_module": "@jupyter-widgets/base",
      "_view_module_version": "1.2.0",
      "_view_name": "LayoutView",
      "align_content": null,
      "align_items": null,
      "align_self": null,
      "border": null,
      "bottom": null,
      "display": null,
      "flex": null,
      "flex_flow": null,
      "grid_area": null,
      "grid_auto_columns": null,
      "grid_auto_flow": null,
      "grid_auto_rows": null,
      "grid_column": null,
      "grid_gap": null,
      "grid_row": null,
      "grid_template_areas": null,
      "grid_template_columns": null,
      "grid_template_rows": null,
      "height": null,
      "justify_content": null,
      "justify_items": null,
      "left": null,
      "margin": null,
      "max_height": null,
      "max_width": null,
      "min_height": null,
      "min_width": null,
      "object_fit": null,
      "object_position": null,
      "order": null,
      "overflow": null,
      "overflow_x": null,
      "overflow_y": null,
      "padding": null,
      "right": null,
      "top": null,
      "visibility": null,
      "width": null
     }
    },
    "938d685b140e4419ae5aa01a44b6a1c2": {
     "model_module": "@jupyter-widgets/controls",
     "model_module_version": "1.5.0",
     "model_name": "DescriptionStyleModel",
     "state": {
      "_model_module": "@jupyter-widgets/controls",
      "_model_module_version": "1.5.0",
      "_model_name": "DescriptionStyleModel",
      "_view_count": null,
      "_view_module": "@jupyter-widgets/base",
      "_view_module_version": "1.2.0",
      "_view_name": "StyleView",
      "description_width": ""
     }
    },
    "93a99ebfb08745a58fab22f74dd164d8": {
     "model_module": "@jupyter-widgets/controls",
     "model_module_version": "1.5.0",
     "model_name": "HTMLModel",
     "state": {
      "_dom_classes": [],
      "_model_module": "@jupyter-widgets/controls",
      "_model_module_version": "1.5.0",
      "_model_name": "HTMLModel",
      "_view_count": null,
      "_view_module": "@jupyter-widgets/controls",
      "_view_module_version": "1.5.0",
      "_view_name": "HTMLView",
      "description": "",
      "description_tooltip": null,
      "layout": "IPY_MODEL_a07fe6b2a9624679ad61e9d5d3aa4546",
      "placeholder": "​",
      "style": "IPY_MODEL_a358370a04b94877a30d35d240293246",
      "value": "Epochs: 100%"
     }
    },
    "95c4a41d3d734b3dbb7827cdadd1cce0": {
     "model_module": "@jupyter-widgets/base",
     "model_module_version": "1.2.0",
     "model_name": "LayoutModel",
     "state": {
      "_model_module": "@jupyter-widgets/base",
      "_model_module_version": "1.2.0",
      "_model_name": "LayoutModel",
      "_view_count": null,
      "_view_module": "@jupyter-widgets/base",
      "_view_module_version": "1.2.0",
      "_view_name": "LayoutView",
      "align_content": null,
      "align_items": null,
      "align_self": null,
      "border": null,
      "bottom": null,
      "display": null,
      "flex": null,
      "flex_flow": null,
      "grid_area": null,
      "grid_auto_columns": null,
      "grid_auto_flow": null,
      "grid_auto_rows": null,
      "grid_column": null,
      "grid_gap": null,
      "grid_row": null,
      "grid_template_areas": null,
      "grid_template_columns": null,
      "grid_template_rows": null,
      "height": null,
      "justify_content": null,
      "justify_items": null,
      "left": null,
      "margin": null,
      "max_height": null,
      "max_width": null,
      "min_height": null,
      "min_width": null,
      "object_fit": null,
      "object_position": null,
      "order": null,
      "overflow": null,
      "overflow_x": null,
      "overflow_y": null,
      "padding": null,
      "right": null,
      "top": null,
      "visibility": null,
      "width": null
     }
    },
    "a07fe6b2a9624679ad61e9d5d3aa4546": {
     "model_module": "@jupyter-widgets/base",
     "model_module_version": "1.2.0",
     "model_name": "LayoutModel",
     "state": {
      "_model_module": "@jupyter-widgets/base",
      "_model_module_version": "1.2.0",
      "_model_name": "LayoutModel",
      "_view_count": null,
      "_view_module": "@jupyter-widgets/base",
      "_view_module_version": "1.2.0",
      "_view_name": "LayoutView",
      "align_content": null,
      "align_items": null,
      "align_self": null,
      "border": null,
      "bottom": null,
      "display": null,
      "flex": null,
      "flex_flow": null,
      "grid_area": null,
      "grid_auto_columns": null,
      "grid_auto_flow": null,
      "grid_auto_rows": null,
      "grid_column": null,
      "grid_gap": null,
      "grid_row": null,
      "grid_template_areas": null,
      "grid_template_columns": null,
      "grid_template_rows": null,
      "height": null,
      "justify_content": null,
      "justify_items": null,
      "left": null,
      "margin": null,
      "max_height": null,
      "max_width": null,
      "min_height": null,
      "min_width": null,
      "object_fit": null,
      "object_position": null,
      "order": null,
      "overflow": null,
      "overflow_x": null,
      "overflow_y": null,
      "padding": null,
      "right": null,
      "top": null,
      "visibility": null,
      "width": null
     }
    },
    "a096609a68464da297b48b72bb12f75c": {
     "model_module": "@jupyter-widgets/controls",
     "model_module_version": "1.5.0",
     "model_name": "ProgressStyleModel",
     "state": {
      "_model_module": "@jupyter-widgets/controls",
      "_model_module_version": "1.5.0",
      "_model_name": "ProgressStyleModel",
      "_view_count": null,
      "_view_module": "@jupyter-widgets/base",
      "_view_module_version": "1.2.0",
      "_view_name": "StyleView",
      "bar_color": null,
      "description_width": ""
     }
    },
    "a28b7e9a6be04aefb59f7d6a3490461c": {
     "model_module": "@jupyter-widgets/base",
     "model_module_version": "1.2.0",
     "model_name": "LayoutModel",
     "state": {
      "_model_module": "@jupyter-widgets/base",
      "_model_module_version": "1.2.0",
      "_model_name": "LayoutModel",
      "_view_count": null,
      "_view_module": "@jupyter-widgets/base",
      "_view_module_version": "1.2.0",
      "_view_name": "LayoutView",
      "align_content": null,
      "align_items": null,
      "align_self": null,
      "border": null,
      "bottom": null,
      "display": null,
      "flex": null,
      "flex_flow": null,
      "grid_area": null,
      "grid_auto_columns": null,
      "grid_auto_flow": null,
      "grid_auto_rows": null,
      "grid_column": null,
      "grid_gap": null,
      "grid_row": null,
      "grid_template_areas": null,
      "grid_template_columns": null,
      "grid_template_rows": null,
      "height": null,
      "justify_content": null,
      "justify_items": null,
      "left": null,
      "margin": null,
      "max_height": null,
      "max_width": null,
      "min_height": null,
      "min_width": null,
      "object_fit": null,
      "object_position": null,
      "order": null,
      "overflow": null,
      "overflow_x": null,
      "overflow_y": null,
      "padding": null,
      "right": null,
      "top": null,
      "visibility": null,
      "width": null
     }
    },
    "a358370a04b94877a30d35d240293246": {
     "model_module": "@jupyter-widgets/controls",
     "model_module_version": "1.5.0",
     "model_name": "DescriptionStyleModel",
     "state": {
      "_model_module": "@jupyter-widgets/controls",
      "_model_module_version": "1.5.0",
      "_model_name": "DescriptionStyleModel",
      "_view_count": null,
      "_view_module": "@jupyter-widgets/base",
      "_view_module_version": "1.2.0",
      "_view_name": "StyleView",
      "description_width": ""
     }
    },
    "a3b2921221dc4cbf92fc9156a4b68599": {
     "model_module": "@jupyter-widgets/controls",
     "model_module_version": "1.5.0",
     "model_name": "FloatProgressModel",
     "state": {
      "_dom_classes": [],
      "_model_module": "@jupyter-widgets/controls",
      "_model_module_version": "1.5.0",
      "_model_name": "FloatProgressModel",
      "_view_count": null,
      "_view_module": "@jupyter-widgets/controls",
      "_view_module_version": "1.5.0",
      "_view_name": "ProgressView",
      "bar_style": "",
      "description": "",
      "description_tooltip": null,
      "layout": "IPY_MODEL_87a5a05c59b44839bfdd4b6729f5469c",
      "max": 1,
      "min": 0,
      "orientation": "horizontal",
      "style": "IPY_MODEL_d18c1519f0bb45eeab317944562099a8",
      "value": 1
     }
    },
    "ac8a6b7c664645ce86e2c58030afacc3": {
     "model_module": "@jupyter-widgets/controls",
     "model_module_version": "1.5.0",
     "model_name": "FloatProgressModel",
     "state": {
      "_dom_classes": [],
      "_model_module": "@jupyter-widgets/controls",
      "_model_module_version": "1.5.0",
      "_model_name": "FloatProgressModel",
      "_view_count": null,
      "_view_module": "@jupyter-widgets/controls",
      "_view_module_version": "1.5.0",
      "_view_name": "ProgressView",
      "bar_style": "success",
      "description": "",
      "description_tooltip": null,
      "layout": "IPY_MODEL_7d376adc06e3420d85aefc40d693d91d",
      "max": 10,
      "min": 0,
      "orientation": "horizontal",
      "style": "IPY_MODEL_3e0b8d56e53c4c24ac63a11243560efa",
      "value": 10
     }
    },
    "ad84f2515eb9481db1dde9359ddb3126": {
     "model_module": "@jupyter-widgets/controls",
     "model_module_version": "1.5.0",
     "model_name": "DescriptionStyleModel",
     "state": {
      "_model_module": "@jupyter-widgets/controls",
      "_model_module_version": "1.5.0",
      "_model_name": "DescriptionStyleModel",
      "_view_count": null,
      "_view_module": "@jupyter-widgets/base",
      "_view_module_version": "1.2.0",
      "_view_name": "StyleView",
      "description_width": ""
     }
    },
    "b08403ac597542589f5ce4d00e4360a1": {
     "model_module": "@jupyter-widgets/controls",
     "model_module_version": "1.5.0",
     "model_name": "LabelModel",
     "state": {
      "_dom_classes": [],
      "_model_module": "@jupyter-widgets/controls",
      "_model_module_version": "1.5.0",
      "_model_name": "LabelModel",
      "_view_count": null,
      "_view_module": "@jupyter-widgets/controls",
      "_view_module_version": "1.5.0",
      "_view_name": "LabelView",
      "description": "",
      "description_tooltip": null,
      "layout": "IPY_MODEL_d50b915bd9c648c9b2d31db43a4235cd",
      "placeholder": "​",
      "style": "IPY_MODEL_6bc83ecf888149dab51f3f7cf4bd5636",
      "value": " 0.01MB of 0.01MB uploaded (0.00MB deduped)\r"
     }
    },
    "b3cac34a4e2a4d75bbf33c2cc6161435": {
     "model_module": "@jupyter-widgets/controls",
     "model_module_version": "1.5.0",
     "model_name": "DescriptionStyleModel",
     "state": {
      "_model_module": "@jupyter-widgets/controls",
      "_model_module_version": "1.5.0",
      "_model_name": "DescriptionStyleModel",
      "_view_count": null,
      "_view_module": "@jupyter-widgets/base",
      "_view_module_version": "1.2.0",
      "_view_name": "StyleView",
      "description_width": ""
     }
    },
    "b4cfbc6d90dc4a4285e5b908ee5aa848": {
     "model_module": "@jupyter-widgets/base",
     "model_module_version": "1.2.0",
     "model_name": "LayoutModel",
     "state": {
      "_model_module": "@jupyter-widgets/base",
      "_model_module_version": "1.2.0",
      "_model_name": "LayoutModel",
      "_view_count": null,
      "_view_module": "@jupyter-widgets/base",
      "_view_module_version": "1.2.0",
      "_view_name": "LayoutView",
      "align_content": null,
      "align_items": null,
      "align_self": null,
      "border": null,
      "bottom": null,
      "display": null,
      "flex": null,
      "flex_flow": null,
      "grid_area": null,
      "grid_auto_columns": null,
      "grid_auto_flow": null,
      "grid_auto_rows": null,
      "grid_column": null,
      "grid_gap": null,
      "grid_row": null,
      "grid_template_areas": null,
      "grid_template_columns": null,
      "grid_template_rows": null,
      "height": null,
      "justify_content": null,
      "justify_items": null,
      "left": null,
      "margin": null,
      "max_height": null,
      "max_width": null,
      "min_height": null,
      "min_width": null,
      "object_fit": null,
      "object_position": null,
      "order": null,
      "overflow": null,
      "overflow_x": null,
      "overflow_y": null,
      "padding": null,
      "right": null,
      "top": null,
      "visibility": null,
      "width": null
     }
    },
    "b882cef8f4eb4224989e5b0c6a28654a": {
     "model_module": "@jupyter-widgets/controls",
     "model_module_version": "1.5.0",
     "model_name": "HBoxModel",
     "state": {
      "_dom_classes": [],
      "_model_module": "@jupyter-widgets/controls",
      "_model_module_version": "1.5.0",
      "_model_name": "HBoxModel",
      "_view_count": null,
      "_view_module": "@jupyter-widgets/controls",
      "_view_module_version": "1.5.0",
      "_view_name": "HBoxView",
      "box_style": "",
      "children": [
       "IPY_MODEL_0c5b72d42c2f4f8bb5b7ea532b1c36db",
       "IPY_MODEL_407e02f46a9e4bada7ece86c9c081a64",
       "IPY_MODEL_866de3bf9a53485d84c88c5e5451219b"
      ],
      "layout": "IPY_MODEL_2458c53dd73d419f848fdcec763d00f3"
     }
    },
    "bb6ea2da7f944875b26539266738738c": {
     "model_module": "@jupyter-widgets/controls",
     "model_module_version": "1.5.0",
     "model_name": "FloatProgressModel",
     "state": {
      "_dom_classes": [],
      "_model_module": "@jupyter-widgets/controls",
      "_model_module_version": "1.5.0",
      "_model_name": "FloatProgressModel",
      "_view_count": null,
      "_view_module": "@jupyter-widgets/controls",
      "_view_module_version": "1.5.0",
      "_view_name": "ProgressView",
      "bar_style": "success",
      "description": "",
      "description_tooltip": null,
      "layout": "IPY_MODEL_74770f392db547a6b1d680f3fe472433",
      "max": 267967963,
      "min": 0,
      "orientation": "horizontal",
      "style": "IPY_MODEL_07b3682bbc23445c8c554d1e89c0f1b9",
      "value": 267967963
     }
    },
    "bc89663da2de42a3b39a65fd60d70cf4": {
     "model_module": "@jupyter-widgets/controls",
     "model_module_version": "1.5.0",
     "model_name": "HBoxModel",
     "state": {
      "_dom_classes": [],
      "_model_module": "@jupyter-widgets/controls",
      "_model_module_version": "1.5.0",
      "_model_name": "HBoxModel",
      "_view_count": null,
      "_view_module": "@jupyter-widgets/controls",
      "_view_module_version": "1.5.0",
      "_view_name": "HBoxView",
      "box_style": "",
      "children": [
       "IPY_MODEL_45793ae40232476a9d7ccc25bcd6fa84",
       "IPY_MODEL_44ffe580b63d455ebf47e52f17e3e060",
       "IPY_MODEL_ecb26a2c004448c58742db130258f1d0"
      ],
      "layout": "IPY_MODEL_6cdd1160ee594e9e8b132c7b52e1924a"
     }
    },
    "d18c1519f0bb45eeab317944562099a8": {
     "model_module": "@jupyter-widgets/controls",
     "model_module_version": "1.5.0",
     "model_name": "ProgressStyleModel",
     "state": {
      "_model_module": "@jupyter-widgets/controls",
      "_model_module_version": "1.5.0",
      "_model_name": "ProgressStyleModel",
      "_view_count": null,
      "_view_module": "@jupyter-widgets/base",
      "_view_module_version": "1.2.0",
      "_view_name": "StyleView",
      "bar_color": null,
      "description_width": ""
     }
    },
    "d3ef49f3332a4e0faef7857318ca83e9": {
     "model_module": "@jupyter-widgets/base",
     "model_module_version": "1.2.0",
     "model_name": "LayoutModel",
     "state": {
      "_model_module": "@jupyter-widgets/base",
      "_model_module_version": "1.2.0",
      "_model_name": "LayoutModel",
      "_view_count": null,
      "_view_module": "@jupyter-widgets/base",
      "_view_module_version": "1.2.0",
      "_view_name": "LayoutView",
      "align_content": null,
      "align_items": null,
      "align_self": null,
      "border": null,
      "bottom": null,
      "display": null,
      "flex": null,
      "flex_flow": null,
      "grid_area": null,
      "grid_auto_columns": null,
      "grid_auto_flow": null,
      "grid_auto_rows": null,
      "grid_column": null,
      "grid_gap": null,
      "grid_row": null,
      "grid_template_areas": null,
      "grid_template_columns": null,
      "grid_template_rows": null,
      "height": null,
      "justify_content": null,
      "justify_items": null,
      "left": null,
      "margin": null,
      "max_height": null,
      "max_width": null,
      "min_height": null,
      "min_width": null,
      "object_fit": null,
      "object_position": null,
      "order": null,
      "overflow": null,
      "overflow_x": null,
      "overflow_y": null,
      "padding": null,
      "right": null,
      "top": null,
      "visibility": null,
      "width": null
     }
    },
    "d50b915bd9c648c9b2d31db43a4235cd": {
     "model_module": "@jupyter-widgets/base",
     "model_module_version": "1.2.0",
     "model_name": "LayoutModel",
     "state": {
      "_model_module": "@jupyter-widgets/base",
      "_model_module_version": "1.2.0",
      "_model_name": "LayoutModel",
      "_view_count": null,
      "_view_module": "@jupyter-widgets/base",
      "_view_module_version": "1.2.0",
      "_view_name": "LayoutView",
      "align_content": null,
      "align_items": null,
      "align_self": null,
      "border": null,
      "bottom": null,
      "display": null,
      "flex": null,
      "flex_flow": null,
      "grid_area": null,
      "grid_auto_columns": null,
      "grid_auto_flow": null,
      "grid_auto_rows": null,
      "grid_column": null,
      "grid_gap": null,
      "grid_row": null,
      "grid_template_areas": null,
      "grid_template_columns": null,
      "grid_template_rows": null,
      "height": null,
      "justify_content": null,
      "justify_items": null,
      "left": null,
      "margin": null,
      "max_height": null,
      "max_width": null,
      "min_height": null,
      "min_width": null,
      "object_fit": null,
      "object_position": null,
      "order": null,
      "overflow": null,
      "overflow_x": null,
      "overflow_y": null,
      "padding": null,
      "right": null,
      "top": null,
      "visibility": null,
      "width": null
     }
    },
    "d86241625c9b47f29778b1ae612e8bef": {
     "model_module": "@jupyter-widgets/base",
     "model_module_version": "1.2.0",
     "model_name": "LayoutModel",
     "state": {
      "_model_module": "@jupyter-widgets/base",
      "_model_module_version": "1.2.0",
      "_model_name": "LayoutModel",
      "_view_count": null,
      "_view_module": "@jupyter-widgets/base",
      "_view_module_version": "1.2.0",
      "_view_name": "LayoutView",
      "align_content": null,
      "align_items": null,
      "align_self": null,
      "border": null,
      "bottom": null,
      "display": null,
      "flex": null,
      "flex_flow": null,
      "grid_area": null,
      "grid_auto_columns": null,
      "grid_auto_flow": null,
      "grid_auto_rows": null,
      "grid_column": null,
      "grid_gap": null,
      "grid_row": null,
      "grid_template_areas": null,
      "grid_template_columns": null,
      "grid_template_rows": null,
      "height": null,
      "justify_content": null,
      "justify_items": null,
      "left": null,
      "margin": null,
      "max_height": null,
      "max_width": null,
      "min_height": null,
      "min_width": null,
      "object_fit": null,
      "object_position": null,
      "order": null,
      "overflow": null,
      "overflow_x": null,
      "overflow_y": null,
      "padding": null,
      "right": null,
      "top": null,
      "visibility": null,
      "width": null
     }
    },
    "dbb9a41f3b5349f4848a422b5151fe39": {
     "model_module": "@jupyter-widgets/controls",
     "model_module_version": "1.5.0",
     "model_name": "HTMLModel",
     "state": {
      "_dom_classes": [],
      "_model_module": "@jupyter-widgets/controls",
      "_model_module_version": "1.5.0",
      "_model_name": "HTMLModel",
      "_view_count": null,
      "_view_module": "@jupyter-widgets/controls",
      "_view_module_version": "1.5.0",
      "_view_name": "HTMLView",
      "description": "",
      "description_tooltip": null,
      "layout": "IPY_MODEL_64f10e5181f64c07b77810a94762b340",
      "placeholder": "​",
      "style": "IPY_MODEL_ad84f2515eb9481db1dde9359ddb3126",
      "value": " 268M/268M [00:17&lt;00:00, 17.9MB/s]"
     }
    },
    "e883a1c66c0441618c22b0b934d2b9f9": {
     "model_module": "@jupyter-widgets/base",
     "model_module_version": "1.2.0",
     "model_name": "LayoutModel",
     "state": {
      "_model_module": "@jupyter-widgets/base",
      "_model_module_version": "1.2.0",
      "_model_name": "LayoutModel",
      "_view_count": null,
      "_view_module": "@jupyter-widgets/base",
      "_view_module_version": "1.2.0",
      "_view_name": "LayoutView",
      "align_content": null,
      "align_items": null,
      "align_self": null,
      "border": null,
      "bottom": null,
      "display": null,
      "flex": null,
      "flex_flow": null,
      "grid_area": null,
      "grid_auto_columns": null,
      "grid_auto_flow": null,
      "grid_auto_rows": null,
      "grid_column": null,
      "grid_gap": null,
      "grid_row": null,
      "grid_template_areas": null,
      "grid_template_columns": null,
      "grid_template_rows": null,
      "height": null,
      "justify_content": null,
      "justify_items": null,
      "left": null,
      "margin": null,
      "max_height": null,
      "max_width": null,
      "min_height": null,
      "min_width": null,
      "object_fit": null,
      "object_position": null,
      "order": null,
      "overflow": null,
      "overflow_x": null,
      "overflow_y": null,
      "padding": null,
      "right": null,
      "top": null,
      "visibility": null,
      "width": null
     }
    },
    "ec48b85aa0a44bd0b0ed7e1f08b07d76": {
     "model_module": "@jupyter-widgets/base",
     "model_module_version": "1.2.0",
     "model_name": "LayoutModel",
     "state": {
      "_model_module": "@jupyter-widgets/base",
      "_model_module_version": "1.2.0",
      "_model_name": "LayoutModel",
      "_view_count": null,
      "_view_module": "@jupyter-widgets/base",
      "_view_module_version": "1.2.0",
      "_view_name": "LayoutView",
      "align_content": null,
      "align_items": null,
      "align_self": null,
      "border": null,
      "bottom": null,
      "display": null,
      "flex": null,
      "flex_flow": null,
      "grid_area": null,
      "grid_auto_columns": null,
      "grid_auto_flow": null,
      "grid_auto_rows": null,
      "grid_column": null,
      "grid_gap": null,
      "grid_row": null,
      "grid_template_areas": null,
      "grid_template_columns": null,
      "grid_template_rows": null,
      "height": null,
      "justify_content": null,
      "justify_items": null,
      "left": null,
      "margin": null,
      "max_height": null,
      "max_width": null,
      "min_height": null,
      "min_width": null,
      "object_fit": null,
      "object_position": null,
      "order": null,
      "overflow": null,
      "overflow_x": null,
      "overflow_y": null,
      "padding": null,
      "right": null,
      "top": null,
      "visibility": null,
      "width": null
     }
    },
    "ec61793939bd4ec693d02f5253f5c2d4": {
     "model_module": "@jupyter-widgets/base",
     "model_module_version": "1.2.0",
     "model_name": "LayoutModel",
     "state": {
      "_model_module": "@jupyter-widgets/base",
      "_model_module_version": "1.2.0",
      "_model_name": "LayoutModel",
      "_view_count": null,
      "_view_module": "@jupyter-widgets/base",
      "_view_module_version": "1.2.0",
      "_view_name": "LayoutView",
      "align_content": null,
      "align_items": null,
      "align_self": null,
      "border": null,
      "bottom": null,
      "display": null,
      "flex": null,
      "flex_flow": null,
      "grid_area": null,
      "grid_auto_columns": null,
      "grid_auto_flow": null,
      "grid_auto_rows": null,
      "grid_column": null,
      "grid_gap": null,
      "grid_row": null,
      "grid_template_areas": null,
      "grid_template_columns": null,
      "grid_template_rows": null,
      "height": null,
      "justify_content": null,
      "justify_items": null,
      "left": null,
      "margin": null,
      "max_height": null,
      "max_width": null,
      "min_height": null,
      "min_width": null,
      "object_fit": null,
      "object_position": null,
      "order": null,
      "overflow": null,
      "overflow_x": null,
      "overflow_y": null,
      "padding": null,
      "right": null,
      "top": null,
      "visibility": null,
      "width": null
     }
    },
    "ecb26a2c004448c58742db130258f1d0": {
     "model_module": "@jupyter-widgets/controls",
     "model_module_version": "1.5.0",
     "model_name": "HTMLModel",
     "state": {
      "_dom_classes": [],
      "_model_module": "@jupyter-widgets/controls",
      "_model_module_version": "1.5.0",
      "_model_name": "HTMLModel",
      "_view_count": null,
      "_view_module": "@jupyter-widgets/controls",
      "_view_module_version": "1.5.0",
      "_view_name": "HTMLView",
      "description": "",
      "description_tooltip": null,
      "layout": "IPY_MODEL_2daafd128fde4e34950294748ea78340",
      "placeholder": "​",
      "style": "IPY_MODEL_b3cac34a4e2a4d75bbf33c2cc6161435",
      "value": " 232k/232k [00:00&lt;00:00, 757kB/s]"
     }
    },
    "ef183f2a893748a7b2c8faad22114fac": {
     "model_module": "@jupyter-widgets/controls",
     "model_module_version": "1.5.0",
     "model_name": "DescriptionStyleModel",
     "state": {
      "_model_module": "@jupyter-widgets/controls",
      "_model_module_version": "1.5.0",
      "_model_name": "DescriptionStyleModel",
      "_view_count": null,
      "_view_module": "@jupyter-widgets/base",
      "_view_module_version": "1.2.0",
      "_view_name": "StyleView",
      "description_width": ""
     }
    },
    "ef1f4dfea56847e7b739f4f98c1c3263": {
     "model_module": "@jupyter-widgets/controls",
     "model_module_version": "1.5.0",
     "model_name": "VBoxModel",
     "state": {
      "_dom_classes": [],
      "_model_module": "@jupyter-widgets/controls",
      "_model_module_version": "1.5.0",
      "_model_name": "VBoxModel",
      "_view_count": null,
      "_view_module": "@jupyter-widgets/controls",
      "_view_module_version": "1.5.0",
      "_view_name": "VBoxView",
      "box_style": "",
      "children": [
       "IPY_MODEL_b08403ac597542589f5ce4d00e4360a1",
       "IPY_MODEL_a3b2921221dc4cbf92fc9156a4b68599"
      ],
      "layout": "IPY_MODEL_d86241625c9b47f29778b1ae612e8bef"
     }
    },
    "f3d0f11af80e4c168932b50db29e08c9": {
     "model_module": "@jupyter-widgets/controls",
     "model_module_version": "1.5.0",
     "model_name": "HBoxModel",
     "state": {
      "_dom_classes": [],
      "_model_module": "@jupyter-widgets/controls",
      "_model_module_version": "1.5.0",
      "_model_name": "HBoxModel",
      "_view_count": null,
      "_view_module": "@jupyter-widgets/controls",
      "_view_module_version": "1.5.0",
      "_view_name": "HBoxView",
      "box_style": "",
      "children": [
       "IPY_MODEL_53eb9d1761fb49f1a71f1005a390e6c9",
       "IPY_MODEL_40b6a2b70f3745bb954d23bcfb2668d0",
       "IPY_MODEL_3f072ffe810d4761b6f7d6fadf338d45"
      ],
      "layout": "IPY_MODEL_0ff3492b173f4e17b018fb43d6d29d63"
     }
    },
    "f73d8f21d00c4e9191b7f91e0a2011c5": {
     "model_module": "@jupyter-widgets/controls",
     "model_module_version": "1.5.0",
     "model_name": "DescriptionStyleModel",
     "state": {
      "_model_module": "@jupyter-widgets/controls",
      "_model_module_version": "1.5.0",
      "_model_name": "DescriptionStyleModel",
      "_view_count": null,
      "_view_module": "@jupyter-widgets/base",
      "_view_module_version": "1.2.0",
      "_view_name": "StyleView",
      "description_width": ""
     }
    },
    "fbf137dc69804823b655320cdafbe315": {
     "model_module": "@jupyter-widgets/controls",
     "model_module_version": "1.5.0",
     "model_name": "LabelModel",
     "state": {
      "_dom_classes": [],
      "_model_module": "@jupyter-widgets/controls",
      "_model_module_version": "1.5.0",
      "_model_name": "LabelModel",
      "_view_count": null,
      "_view_module": "@jupyter-widgets/controls",
      "_view_module_version": "1.5.0",
      "_view_name": "LabelView",
      "description": "",
      "description_tooltip": null,
      "layout": "IPY_MODEL_a28b7e9a6be04aefb59f7d6a3490461c",
      "placeholder": "​",
      "style": "IPY_MODEL_082976b0451c44a98ea626038e0dcbc3",
      "value": " 0.01MB of 0.01MB uploaded (0.00MB deduped)\r"
     }
    },
    "fc93df4af91e4287843e9bfe882b9592": {
     "model_module": "@jupyter-widgets/base",
     "model_module_version": "1.2.0",
     "model_name": "LayoutModel",
     "state": {
      "_model_module": "@jupyter-widgets/base",
      "_model_module_version": "1.2.0",
      "_model_name": "LayoutModel",
      "_view_count": null,
      "_view_module": "@jupyter-widgets/base",
      "_view_module_version": "1.2.0",
      "_view_name": "LayoutView",
      "align_content": null,
      "align_items": null,
      "align_self": null,
      "border": null,
      "bottom": null,
      "display": null,
      "flex": null,
      "flex_flow": null,
      "grid_area": null,
      "grid_auto_columns": null,
      "grid_auto_flow": null,
      "grid_auto_rows": null,
      "grid_column": null,
      "grid_gap": null,
      "grid_row": null,
      "grid_template_areas": null,
      "grid_template_columns": null,
      "grid_template_rows": null,
      "height": null,
      "justify_content": null,
      "justify_items": null,
      "left": null,
      "margin": null,
      "max_height": null,
      "max_width": null,
      "min_height": null,
      "min_width": null,
      "object_fit": null,
      "object_position": null,
      "order": null,
      "overflow": null,
      "overflow_x": null,
      "overflow_y": null,
      "padding": null,
      "right": null,
      "top": null,
      "visibility": null,
      "width": null
     }
    }
   }
  }
 },
 "nbformat": 4,
 "nbformat_minor": 1
}
