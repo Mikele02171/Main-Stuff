{
 "cells": [
  {
   "cell_type": "markdown",
   "metadata": {
    "id": "IOeoat70jqvm"
   },
   "source": [
    "# CSE4IP Programming Assignment 2\n"
   ]
  },
  {
   "cell_type": "markdown",
   "metadata": {
    "id": "8Qq4WX9LEKdb"
   },
   "source": [
    "## Instructions\n",
    "This assignment is structured similarly to the labs, and as such the instructions are similar:\n",
    " - Read each question thoroughly multiple times to ensure that you understand the requirements.\n",
    " - Once you understand the question, code your solution in the designated code cell.\n",
    " - Test your solution multiple times, with a variety of inputs - not just those found in the example runs.\n",
    " - You are _not_ required to validate user input, i.e. you can assume that the user will enter a valid input value.\n",
    "\n",
    "When you have satisfactorily attempted all problems, confirm that your solution works by resetting the notebook runtime and running your code again - instructions can be found at the bottom of this notebook.\n",
    "\n",
    "The submission for this assignment is the `.ipynb` notebook file. You should export this file and upload it via the link in the LMS - instructions can be found on the assignment submission page.\n",
    "\n",
    "**This is an individual assignment, and the solutions that you submit for all of the tasks must be your own. Copying solutions from other students, relatives, friends, or strangers on the internet is plagiarism and treated as [academic misconduct](https://www.latrobe.edu.au/students/admin/academic-integrity) by La Trobe University. Plagiarism includes copying solutions and making superficial changes to the code (such as renaming variables or editing comments). The penalty for academic misconduct can be as serious as expulsion from the university.**"
   ]
  },
  {
   "cell_type": "markdown",
   "metadata": {
    "id": "0kzVBQT0ENCX"
   },
   "source": [
    "## Programming Tasks\n",
    "This assignment consists of four programming tasks, with a total of 100 marks allocated between them according to their difficulty.\n",
    "\n",
    "Take your time to read and re-read the instructions before attempting to write your solution - you can save a lot of trouble by simply having a clear understanding of the problem before touching any code."
   ]
  },
  {
   "cell_type": "markdown",
   "metadata": {
    "id": "hHDqfwMDtU0e"
   },
   "source": [
    "### Task 1 - _(20 marks)_\n",
    "For this task, you are to write code that manages the scores for a computer game and prints the leaderboard."
   ]
  },
  {
   "cell_type": "markdown",
   "metadata": {
    "id": "REsnAwLBORll"
   },
   "source": [
    "#### Instructions\n",
    "The scoreboard program found below is currently missing two important pieces of functionality - it doesn't record scores, nor is it able to print the leaderboard.\n",
    "\n",
    "Provided for you is the `ScoreEntry` class which contains the player name and score of each entry on the scoreboard, and the `Scoreboard` class which is responsible for maintaining the list of score entries. Your task is to implement this missing functionality by adding two methods to the `Scoreboard` class as described below.\n",
    "\n",
    "###### `add_score`\n",
    "This method is to take a player's name and their score as arguments, create a new `ScoreEntry` object, and then append it to the appropriate list of scores.\n",
    "\n",
    "###### `print_leaderboard`\n",
    "This method is to take no arguments and print the name and score of the top three players in descending order of score.\n",
    "\n",
    "_Hint: If you find your solution printing the **bottom** three scores, you may need to look at [the documentation](https://docs.python.org/3/library/stdtypes.html#list.sort), and in particular the \"reverse\" named argument._"
   ]
  },
  {
   "cell_type": "markdown",
   "metadata": {
    "id": "H8Zhadh1UX0Z"
   },
   "source": [
    "#### Requirements\n",
    "To achieve full marks for this task, you must follow the instructions above when writing your solution. Additionally, your solution must adhere to the following requirements:\n",
    " - You **must** use the `sort` method (hint: the provided function `get_score` will come in handy).\n",
    " - You **must** use list slicing as part of your solution. You **must not** use\n",
    "   list indexing to retrieve individual list items.\n",
    " - You **must not** use `break`, `continue` or `return` statements in `print_leaderboard`."
   ]
  },
  {
   "cell_type": "markdown",
   "metadata": {
    "id": "x21GEC8FOU4w"
   },
   "source": [
    "#### Example Runs\n",
    "##### Run 1\n",
    "```\n",
    "Bob: 12103\n",
    "Charlie: 8762\n",
    "Alice: 7821\n",
    "```\n",
    "\n",
    "Your code should execute as closely as possible to the example runs above. To check for correctness, ensure that your program gives the same outputs as in the examples, as well as trying it with other inputs."
   ]
  },
  {
   "cell_type": "markdown",
   "metadata": {
    "id": "5F6sI91qcSWt"
   },
   "source": [
    "#### Your Solution"
   ]
  },
  {
   "cell_type": "code",
   "execution_count": 1152,
   "metadata": {},
   "outputs": [
    {
     "name": "stdout",
     "output_type": "stream",
     "text": [
      "Bob: 12103\n",
      "Charlie: 8762\n",
      "Alice: 7821\n"
     ]
    }
   ],
   "source": [
    "class ScoreEntry:\n",
    "    def __init__(self, name, score):\n",
    "        self.name = name\n",
    "        self.score = score\n",
    "\n",
    "\n",
    "def get_score(score_entry):\n",
    "    return score_entry.score\n",
    "\n",
    "\n",
    "class Scoreboard:\n",
    "    def __init__(self):\n",
    "        self.scores = []\n",
    "\n",
    "    # Write your methods here\n",
    "    def add_score(self,name,score):\n",
    "        #appending the list of the corresponding values\n",
    "        self.scores.append([score,name])\n",
    "        self.scores.sort(reverse = True)\n",
    "        \n",
    "        \n",
    "    def print_leaderboard(self):\n",
    "        #We iterate the top 3 scores assigned by score and their name.\n",
    "        #Ensure the score and name is assigned accordingly into the print function.\n",
    "        for score,name in self.scores[0:3]:\n",
    "            print(name +\":\",score)\n",
    "\n",
    "\n",
    "scoreboard = Scoreboard()\n",
    "\n",
    "scoreboard.add_score('Alice', 7821)\n",
    "scoreboard.add_score('Bob', 12103)\n",
    "scoreboard.add_score('Charlie', 8762)\n",
    "scoreboard.add_score('Denise', 6573)\n",
    "\n",
    "scoreboard.print_leaderboard()"
   ]
  },
  {
   "cell_type": "markdown",
   "metadata": {
    "id": "xGzK6ZQ6FTwi"
   },
   "source": [
    "### Task 2 - _(20 marks)_\n",
    "For this task, you are to write a simple program to track time spent on miscellaneous chores."
   ]
  },
  {
   "cell_type": "markdown",
   "metadata": {
    "id": "m_LAsEt1FTwi"
   },
   "source": [
    "#### Instructions\n",
    "Your program should be capable of keeping a sum of the total hours spent on any number of chores. You are to add the missing methods to the `ChoreTracker` class as described below.\n",
    "\n",
    "###### `add_hours`\n",
    "This method takes the name of a chore and the number of hours spent on this chore, and adds it to the total hours for that chore. You will need to consider two cases when this method is called:\n",
    " - No hours have been logged for the chore yet.\n",
    " - The chore already has some hours logged .\n",
    "\n",
    "###### `print_summary`\n",
    "This method takes no arguments, and prints the name and total hours spent on each chore, as well as the total number of hours spent on **all** chores. Hours are to be displayed with two decimal places of precision.\n",
    "\n",
    "_Hint: If you don't remember how to iterate over the items in a dictionary, have a look at the relevant workbook._"
   ]
  },
  {
   "cell_type": "markdown",
   "metadata": {
    "id": "MT8xCRfWUhwd"
   },
   "source": [
    "#### Requirements\n",
    "To achieve full marks for this task, you must follow the instructions above when writing your solution. Additionally, your solution must adhere to the following requirements:\n",
    " - You **must** use f-strings to format the outputs (do not use string concatenation).\n",
    " - You **must** ensure that the hours are printed with two decimal places of precision.\n",
    " - The order in which the projects are printed is **not** important.\n",
    " - You **must** use a single loop to both print individual chore hours and aggregate the total number of hours spent on all chores."
   ]
  },
  {
   "cell_type": "markdown",
   "metadata": {
    "id": "raf4_Y7zFTwi"
   },
   "source": [
    "#### Example Runs\n",
    "##### Run 1\n",
    "```\n",
    "sweeping: 0.75 hours\n",
    "laundry: 1.50 hours\n",
    "working: 11.50 hours\n",
    "mopping: 0.50 hours\n",
    "TOTAL: 14.25 hours\n",
    "```\n",
    "\n",
    "Your code should execute as closely as possible to the example runs above. To check for correctness, ensure that your program gives the same outputs as in the examples, as well as trying it with other inputs."
   ]
  },
  {
   "cell_type": "markdown",
   "metadata": {
    "id": "4M7dnQJMFTwj"
   },
   "source": [
    "#### Your Solution"
   ]
  },
  {
   "cell_type": "code",
   "execution_count": 1169,
   "metadata": {
    "id": "z_I8bHdHFTwj",
    "vscode": {
     "languageId": "python"
    }
   },
   "outputs": [
    {
     "name": "stdout",
     "output_type": "stream",
     "text": [
      "sweeping: 0.75 hours\n",
      "laundry: 1.50 hours\n",
      "working: 11.50 hours\n",
      "mopping: 0.50 hours\n",
      "TOTAL: 14.25 hours\n"
     ]
    }
   ],
   "source": [
    "class ChoreTracker:\n",
    "    def __init__(self):\n",
    "        self.chores = {}\n",
    "    \n",
    "    # Write your methods here\n",
    "    def add_hours(self,chores,hours):\n",
    "        if chores in self.chores:\n",
    "            self.chores[chores]+=hours\n",
    "        else:\n",
    "            self.chores[chores]=hours\n",
    "    \n",
    "    def print_summary(self):\n",
    "        total = 0\n",
    "        for chores,hours in self.chores.items():\n",
    "            total += hours\n",
    "            print(f'{chores}: {hours:.2f} hours')\n",
    "        print(f'TOTAL: {total:.2f} hours')\n",
    "                    \n",
    "\n",
    "tracker = ChoreTracker()\n",
    "\n",
    "tracker.add_hours('sweeping', 0.75)\n",
    "tracker.add_hours('laundry', 0.5)\n",
    "tracker.add_hours('working', 6)\n",
    "tracker.add_hours('mopping', 0.5)\n",
    "tracker.add_hours('laundry', 1)\n",
    "tracker.add_hours('working', 5.5)\n",
    "\n",
    "tracker.print_summary()"
   ]
  },
  {
   "cell_type": "markdown",
   "metadata": {
    "id": "hAiTuoBmFT8k"
   },
   "source": [
    "### Task 3 - _(30 marks)_\n",
    "For this task, you are to write code that handles the transfer of funds from one bank account to another. This task is divided into three parts to help with solving it.\n",
    "\n",
    "After you have completed and tested each part, you are to copy and paste your code into the next part's code cell and continue. Thus, you are required to complete the parts in order. Please **do not** complete all parts in the Part A solution code cell."
   ]
  },
  {
   "cell_type": "markdown",
   "metadata": {
    "id": "yLl87b9GSgNw"
   },
   "source": [
    "#### Task 3, Part A _(10 marks)_"
   ]
  },
  {
   "cell_type": "markdown",
   "metadata": {
    "id": "h08dNZc3FT8l"
   },
   "source": [
    "##### Instructions\n",
    "As this task relates to tranferring funds between bank accounts, a `BankAccount` class has been provided, which support depositing and withdrawing funds. A simple interactive loop has already been implemented, which allows the user to repeatedly transfer funds from one account to another.\n",
    "\n",
    "You are to write a function called `transfer_funds` with three parameters: the amount to transfer, the account the funds are coming from, and the account the funds are going to. \\\n",
    "It should use the appropriate instance methods on each of the accounts to update their balances as required.\n",
    "\n",
    "Test your code thoroughly to ensure its correctness, as it will be used as the basis for Part B of this task. When you are happy with your solution, copy and paste the code **in its entirety** where indicated in Part B."
   ]
  },
  {
   "cell_type": "markdown",
   "metadata": {
    "id": "hBPl-MaSUiEn"
   },
   "source": [
    "##### Requirements\n",
    "To achieve full marks for this task, you must follow the instructions above when writing your solution. Additionally, your solution must adhere to the following requirements:\n",
    " - The `transfer_funds` function **must not** directly access the `balance` instance variable of either bank account."
   ]
  },
  {
   "cell_type": "markdown",
   "metadata": {
    "id": "PsnR1LoKFT8l"
   },
   "source": [
    "##### Example Runs\n",
    "###### Run 1\n",
    "```\n",
    "== Account balances ==\n",
    "  Alice: $100.00\n",
    "  Bob: $100.00\n",
    "Enter transfer amount ($): 30\n",
    "== Account balances ==\n",
    "  Alice: $70.00\n",
    "  Bob: $130.00\n",
    "Perform another transfer? (y/n): y\n",
    "Enter transfer amount ($): 15.55\n",
    "== Account balances ==\n",
    "  Alice: $54.45\n",
    "  Bob: $145.55\n",
    "Perform another transfer? (y/n): n\n",
    "```\n",
    "\n",
    "Your code should execute as closely as possible to the example runs above. To check for correctness, ensure that your program gives the same outputs as in the examples, as well as trying it with other inputs."
   ]
  },
  {
   "cell_type": "markdown",
   "metadata": {
    "id": "3pi8o6CVTOQw"
   },
   "source": [
    "##### Your Solution"
   ]
  },
  {
   "cell_type": "code",
   "execution_count": 1190,
   "metadata": {
    "id": "ewDL8zy3TZat",
    "vscode": {
     "languageId": "python"
    }
   },
   "outputs": [
    {
     "name": "stdout",
     "output_type": "stream",
     "text": [
      "== Account balances ==\n",
      "  Alice: $100.00\n",
      "  Bob: $100.00\n",
      "Enter transfer amount ($): 39\n",
      "== Account balances ==\n",
      "  Alice: $61.00\n",
      "  Bob: $139.00\n",
      "Perform another transfer? (y/n): n\n"
     ]
    }
   ],
   "source": [
    "class BankAccount:\n",
    "    def __init__(self, name, initial_balance):\n",
    "        self.name = name\n",
    "        self.balance = initial_balance\n",
    "\n",
    "    def deposit(self, amount):\n",
    "        self.balance = self.balance + amount\n",
    "    \n",
    "    def withdraw(self, amount):\n",
    "        # Part B: Raise an exception as appropriate\n",
    "        self.balance = self.balance - amount\n",
    "\n",
    "\n",
    "def print_balances(account_a, account_b):\n",
    "    print('== Account balances ==')    \n",
    "    print(f'  {account_a.name}: ${account_a.balance:.2f}')\n",
    "    print(f'  {account_b.name}: ${account_b.balance:.2f}')\n",
    "\n",
    "\n",
    "# Part A. Write your transfer_funds function here\n",
    "def transfer_funds(amount,bank1,bank2):\n",
    "    bank1.balance = bank1.balance - amount\n",
    "    bank2.balance = bank2.balance + amount\n",
    "     \n",
    "\n",
    "account_a = BankAccount('Alice', 100)\n",
    "account_b = BankAccount('Bob', 100)\n",
    "print_balances(account_a, account_b)\n",
    "\n",
    "another_transfer = 'y'\n",
    "while another_transfer == 'y':\n",
    "    amount = float(input('Enter transfer amount ($): '))\n",
    "\n",
    "    # Part C. Print an appropriate message if an exception is encountered\n",
    "    transfer_funds(amount, account_a, account_b)\n",
    "\n",
    "    print_balances(account_a, account_b)\n",
    "    another_transfer = input('Perform another transfer? (y/n): ')"
   ]
  },
  {
   "cell_type": "markdown",
   "metadata": {
    "id": "VZZxw9q5S333"
   },
   "source": [
    "#### Task 3, Part B _(10 marks)_"
   ]
  },
  {
   "cell_type": "markdown",
   "metadata": {
    "id": "EzcN4uP9S336"
   },
   "source": [
    "##### Instructions\n",
    "Before commencing this part of the task, ensure that you have completed Part A and copied your solution into the code cell below where indicated.\n",
    "\n",
    "If you tested your solution thoroughly in the previous exercise, you probably came across a logic error in the program - there's nothing to stop us from transferring funds from an account, even if the account balance becomes negative! You are to fix this problem by raising an exception and preventing the account balance from becoming negative. You should do this by raising a `ValueError` in the appropriate place in the `BankAccount` class.\n",
    "\n",
    "It would be good to also check that the amount being deducted is a positive value, but that's beyond the scope of this task (and hence your solution does not need to do this).\n",
    "\n",
    "_Hint: The order in which the withdrawal and deposit occur in `transfer_funds` matters - the wrong order will result in someone receiving free money!_"
   ]
  },
  {
   "cell_type": "markdown",
   "metadata": {
    "id": "t8T3pXVnUij1"
   },
   "source": [
    "##### Requirements\n",
    "To achieve full marks for this task, you must follow the instructions above when writing your solution. Additionally, your solution must adhere to the following requirements:\n",
    " - You **must** raise an exception from within the `BankAccount` class if a withdrawal would cause an account balance to become negative.\n",
    " - You **must not** modify the balance of _any_ accounts involved in a transaction before the exception is raised."
   ]
  },
  {
   "cell_type": "markdown",
   "metadata": {
    "id": "nBxrtKfGS337"
   },
   "source": [
    "##### Example Runs\n",
    "###### Run 1\n",
    "```\n",
    "== Account balances ==\n",
    "  Alice: $100.00\n",
    "  Bob: $100.00\n",
    "Enter transfer amount ($): 35.65\n",
    "== Account balances ==\n",
    "  Alice: $64.35\n",
    "  Bob: $135.65\n",
    "Perform another transfer? (y/n): y\n",
    "Enter transfer amount ($): 22.90\n",
    "== Account balances ==\n",
    "  Alice: $41.45\n",
    "  Bob: $158.55\n",
    "Perform another transfer? (y/n): y\n",
    "Enter transfer amount ($): 50\n",
    "---------------------------------------------------------------------------\n",
    "ValueError                              Traceback (most recent call last)\n",
    "... stacktrace omitted ...\n",
    "ValueError: Balance would be negative after withdrawal\n",
    "```\n",
    "\n",
    "Your code should execute as closely as possible to the example runs above. To check for correctness, ensure that your program gives the same outputs as in the examples, as well as trying it with other inputs."
   ]
  },
  {
   "cell_type": "markdown",
   "metadata": {
    "id": "PmqD9o5qTN7g"
   },
   "source": [
    "##### Your Solution"
   ]
  },
  {
   "cell_type": "code",
   "execution_count": 1168,
   "metadata": {
    "id": "njhbs17rTN7s",
    "vscode": {
     "languageId": "python"
    }
   },
   "outputs": [
    {
     "name": "stdout",
     "output_type": "stream",
     "text": [
      "== Account balances ==\n",
      "  Alice: $100.00\n",
      "  Bob: $100.00\n",
      "Enter transfer amount ($): 300\n",
      "== Account balances ==\n",
      "  Alice: $-200.00\n",
      "  Bob: $400.00\n",
      "Perform another transfer? (y/n): n\n"
     ]
    }
   ],
   "source": [
    "# Paste your solution to Task 3 Part A here, then modify it as required\n",
    "class BankAccount:\n",
    "    def __init__(self, name, initial_balance):\n",
    "        self.name = name\n",
    "        self.balance = initial_balance\n",
    "\n",
    "    def deposit(self, amount):\n",
    "        self.balance = self.balance + amount\n",
    "    \n",
    "    def withdraw(self, amount):\n",
    "        # Part B: Raise an exception as appropriate\n",
    "        #More to add later.\n",
    "        if self.balance < 0:\n",
    "            raise ValueError(\"Balance would be negative after withdrawal\")\n",
    "        self.balance = self.balance - amount\n",
    "        \n",
    "    \n",
    "def print_balances(account_a, account_b):\n",
    "    print('== Account balances ==')    \n",
    "    print(f'  {account_a.name}: ${account_a.balance:.2f}')\n",
    "    print(f'  {account_b.name}: ${account_b.balance:.2f}')\n",
    "\n",
    "\n",
    "# Part A. Write your transfer_funds function here\n",
    "def transfer_funds(amount,withdraw,deposit):  \n",
    "    withdraw.balance -= amount\n",
    "    deposit.balance += amount\n",
    "    \n",
    "\n",
    "account_a = BankAccount('Alice', 100)\n",
    "account_b = BankAccount('Bob', 100)\n",
    "print_balances(account_a, account_b)\n",
    "\n",
    "another_transfer = 'y'\n",
    "while another_transfer == 'y':\n",
    "    amount = float(input('Enter transfer amount ($): '))\n",
    "\n",
    "    # Part C. Print an appropriate message if an exception is encountered\n",
    "    transfer_funds(amount, account_a, account_b)\n",
    "\n",
    "    print_balances(account_a, account_b)\n",
    "    another_transfer = input('Perform another transfer? (y/n): ')"
   ]
  },
  {
   "cell_type": "markdown",
   "metadata": {
    "id": "BY-NIjS8S3_W"
   },
   "source": [
    "#### Task 3, Part C _(10 marks)_"
   ]
  },
  {
   "cell_type": "markdown",
   "metadata": {
    "id": "476_oZTFS3_X"
   },
   "source": [
    "##### Instructions\n",
    "Before commencing this part of the task, ensure that you have completed Part B and copied your solution into the code cell below where indicated.\n",
    "\n",
    "At this point, the program prevents a transfer occurring if there aren't enough funds in the \"from\" account. However, simply crashing a program isn't a very nice user experience. You are to modify your program so that it handles the `ValueError` and displays \"<< Error transferring funds >>\" to the user. The program should otherwise continue as normal, with the user being asked whether they would like to perform another transaction. Recall from Part B that a failed transaction should not result in either account balance changing.\n",
    "\n",
    "_Hint: A little rusty at exception handling? Take a look at the relevant notebook for examples._"
   ]
  },
  {
   "cell_type": "markdown",
   "metadata": {
    "id": "Bz6zPBDEUi57"
   },
   "source": [
    "##### Requirements\n",
    "To achieve full marks for this task, you must follow the instructions above when writing your solution. Additionally, your solution must adhere to the following requirements:\n",
    " - You **must** specify the appropriate exception type to handle in the except block - marks will be deducted for failing to do so.\n",
    " - The `transfer_funds` function call **must** be the only thing in your `try` block.\n",
    " - A failed transaction **must not** result in either account balance changing."
   ]
  },
  {
   "cell_type": "markdown",
   "metadata": {
    "id": "xW48xeZlS3_X"
   },
   "source": [
    "##### Example Runs\n",
    "###### Run 1\n",
    "```\n",
    "== Account balances ==\n",
    "  Alice: $100.00\n",
    "  Bob: $100.00\n",
    "Enter transfer amount ($): 95\n",
    "== Account balances ==\n",
    "  Alice: $5.00\n",
    "  Bob: $195.00\n",
    "Perform another transfer? (y/n): y\n",
    "Enter transfer amount ($): 7.50\n",
    "<< Error transferring funds >>\n",
    "== Account balances ==\n",
    "  Alice: $5.00\n",
    "  Bob: $195.00\n",
    "Perform another transfer? (y/n): y\n",
    "Enter transfer amount ($): 4.95\n",
    "== Account balances ==\n",
    "  Alice: $0.05\n",
    "  Bob: $199.95\n",
    "Perform another transfer? (y/n): n\n",
    "```\n",
    "\n",
    "Your code should execute as closely as possible to the example runs above. To check for correctness, ensure that your program gives the same outputs as in the examples, as well as trying it with other inputs."
   ]
  },
  {
   "cell_type": "markdown",
   "metadata": {
    "id": "o78iotVBS3_X"
   },
   "source": [
    "##### Your Solution"
   ]
  },
  {
   "cell_type": "code",
   "execution_count": null,
   "metadata": {
    "id": "FiiUXGIRS3_Y",
    "vscode": {
     "languageId": "python"
    }
   },
   "outputs": [],
   "source": [
    "# Paste your solution to Task 3 Part B here, then modify it as required"
   ]
  },
  {
   "cell_type": "markdown",
   "metadata": {
    "id": "BsmcvemuFUPM"
   },
   "source": [
    "### Task 4 - _(30 marks)_\n",
    "For this task, you are to graph some physical characteristics for three species of penguin using Pandas and Matplotlib. This task has been divided into three parts, so complete the steps in order as usual."
   ]
  },
  {
   "cell_type": "markdown",
   "metadata": {
    "id": "2KGmiXJjZrck"
   },
   "source": [
    "#### Task 4, Part A _(5 marks)_"
   ]
  },
  {
   "cell_type": "markdown",
   "metadata": {
    "id": "KWbBW-t7FUPN"
   },
   "source": [
    "##### Instructions\n",
    "This task uses a dataset containing some physical measurements of three penguin species: Adelie, Chinstrap and Gentoo. You can view the dataset online [by clicking here](https://gist.github.com/anibali/c2abc8cab4a2f7b0a6518d11a67c693c). Run the following code cell to load the dataset into a Pandas dataframe and look at the first few rows. Read through the code before executing it."
   ]
  },
  {
   "cell_type": "code",
   "execution_count": 929,
   "metadata": {
    "colab": {
     "base_uri": "https://localhost:8080/",
     "height": 206
    },
    "id": "8oBj9S-BabnJ",
    "outputId": "fa78a17d-838f-4a16-8817-fedfd9a253d2",
    "vscode": {
     "languageId": "python"
    }
   },
   "outputs": [
    {
     "data": {
      "text/html": [
       "<div>\n",
       "<style scoped>\n",
       "    .dataframe tbody tr th:only-of-type {\n",
       "        vertical-align: middle;\n",
       "    }\n",
       "\n",
       "    .dataframe tbody tr th {\n",
       "        vertical-align: top;\n",
       "    }\n",
       "\n",
       "    .dataframe thead th {\n",
       "        text-align: right;\n",
       "    }\n",
       "</style>\n",
       "<table border=\"1\" class=\"dataframe\">\n",
       "  <thead>\n",
       "    <tr style=\"text-align: right;\">\n",
       "      <th></th>\n",
       "      <th>species</th>\n",
       "      <th>island</th>\n",
       "      <th>bill_length_mm</th>\n",
       "      <th>bill_depth_mm</th>\n",
       "      <th>flipper_length_mm</th>\n",
       "      <th>body_mass_g</th>\n",
       "      <th>sex</th>\n",
       "    </tr>\n",
       "  </thead>\n",
       "  <tbody>\n",
       "    <tr>\n",
       "      <th>0</th>\n",
       "      <td>Adelie</td>\n",
       "      <td>Torgersen</td>\n",
       "      <td>39.1</td>\n",
       "      <td>18.7</td>\n",
       "      <td>181.0</td>\n",
       "      <td>3750.0</td>\n",
       "      <td>MALE</td>\n",
       "    </tr>\n",
       "    <tr>\n",
       "      <th>1</th>\n",
       "      <td>Adelie</td>\n",
       "      <td>Torgersen</td>\n",
       "      <td>39.5</td>\n",
       "      <td>17.4</td>\n",
       "      <td>186.0</td>\n",
       "      <td>3800.0</td>\n",
       "      <td>FEMALE</td>\n",
       "    </tr>\n",
       "    <tr>\n",
       "      <th>2</th>\n",
       "      <td>Adelie</td>\n",
       "      <td>Torgersen</td>\n",
       "      <td>40.3</td>\n",
       "      <td>18.0</td>\n",
       "      <td>195.0</td>\n",
       "      <td>3250.0</td>\n",
       "      <td>FEMALE</td>\n",
       "    </tr>\n",
       "    <tr>\n",
       "      <th>3</th>\n",
       "      <td>Adelie</td>\n",
       "      <td>Torgersen</td>\n",
       "      <td>36.7</td>\n",
       "      <td>19.3</td>\n",
       "      <td>193.0</td>\n",
       "      <td>3450.0</td>\n",
       "      <td>FEMALE</td>\n",
       "    </tr>\n",
       "    <tr>\n",
       "      <th>4</th>\n",
       "      <td>Adelie</td>\n",
       "      <td>Torgersen</td>\n",
       "      <td>39.3</td>\n",
       "      <td>20.6</td>\n",
       "      <td>190.0</td>\n",
       "      <td>3650.0</td>\n",
       "      <td>MALE</td>\n",
       "    </tr>\n",
       "  </tbody>\n",
       "</table>\n",
       "</div>"
      ],
      "text/plain": [
       "  species     island  bill_length_mm  bill_depth_mm  flipper_length_mm  \\\n",
       "0  Adelie  Torgersen            39.1           18.7              181.0   \n",
       "1  Adelie  Torgersen            39.5           17.4              186.0   \n",
       "2  Adelie  Torgersen            40.3           18.0              195.0   \n",
       "3  Adelie  Torgersen            36.7           19.3              193.0   \n",
       "4  Adelie  Torgersen            39.3           20.6              190.0   \n",
       "\n",
       "   body_mass_g     sex  \n",
       "0       3750.0    MALE  \n",
       "1       3800.0  FEMALE  \n",
       "2       3250.0  FEMALE  \n",
       "3       3450.0  FEMALE  \n",
       "4       3650.0    MALE  "
      ]
     },
     "execution_count": 929,
     "metadata": {},
     "output_type": "execute_result"
    }
   ],
   "source": [
    "import pandas as pd\n",
    "import matplotlib.pyplot as plt\n",
    "\n",
    "URL = 'https://gist.githubusercontent.com/anibali/c2abc8cab4a2f7b0a6518d11a67c693c/raw/3b1bb5264736bb762584104c9e7a828bef0f6ec8/penguins.csv'\n",
    "df = pd.read_csv(URL)\n",
    "\n",
    "df.head()"
   ]
  },
  {
   "cell_type": "markdown",
   "metadata": {
    "id": "mduESzxlaziA"
   },
   "source": [
    "As you can see, the dataset consists of 7 columns. To get an idea of how these values differ between species, in the next cell you are to print out the mean value of each column, when grouped by \"species\" - this only takes a single line of code.\n",
    "\n",
    "This should produce a table which contains the mean value of each numerical column for each of the three species. There is no need to include a print statement---Google Colab will automatically display the result (like an interactive interpreter session does). Take note of how the mean values vary between species; we'll visualise it in Part B.\n",
    "\n",
    "_Hint: You can refer to the relevant workbook for an example of per-group aggregation._"
   ]
  },
  {
   "cell_type": "markdown",
   "metadata": {
    "id": "GMCWmYtGUjsh"
   },
   "source": [
    "##### Requirements\n",
    "To achieve full marks for this task, you must follow the instructions above when writing your solution. Additionally, your solution must adhere to the following requirements:\n",
    " - You **must** use Pandas aggregation on the `df` object.\n",
    " - You **must** present your solution as a single line of code."
   ]
  },
  {
   "cell_type": "markdown",
   "metadata": {
    "id": "MIUCTrUEFUPO"
   },
   "source": [
    "##### Your Solution"
   ]
  },
  {
   "cell_type": "code",
   "execution_count": 934,
   "metadata": {
    "id": "JZo6J9kCFUPO",
    "vscode": {
     "languageId": "python"
    }
   },
   "outputs": [
    {
     "data": {
      "text/html": [
       "<div>\n",
       "<style scoped>\n",
       "    .dataframe tbody tr th:only-of-type {\n",
       "        vertical-align: middle;\n",
       "    }\n",
       "\n",
       "    .dataframe tbody tr th {\n",
       "        vertical-align: top;\n",
       "    }\n",
       "\n",
       "    .dataframe thead th {\n",
       "        text-align: right;\n",
       "    }\n",
       "</style>\n",
       "<table border=\"1\" class=\"dataframe\">\n",
       "  <thead>\n",
       "    <tr style=\"text-align: right;\">\n",
       "      <th></th>\n",
       "      <th>bill_length_mm</th>\n",
       "      <th>bill_depth_mm</th>\n",
       "      <th>flipper_length_mm</th>\n",
       "      <th>body_mass_g</th>\n",
       "    </tr>\n",
       "    <tr>\n",
       "      <th>species</th>\n",
       "      <th></th>\n",
       "      <th></th>\n",
       "      <th></th>\n",
       "      <th></th>\n",
       "    </tr>\n",
       "  </thead>\n",
       "  <tbody>\n",
       "    <tr>\n",
       "      <th>Adelie</th>\n",
       "      <td>38.823973</td>\n",
       "      <td>18.347260</td>\n",
       "      <td>190.102740</td>\n",
       "      <td>3706.164384</td>\n",
       "    </tr>\n",
       "    <tr>\n",
       "      <th>Chinstrap</th>\n",
       "      <td>48.833824</td>\n",
       "      <td>18.420588</td>\n",
       "      <td>195.823529</td>\n",
       "      <td>3733.088235</td>\n",
       "    </tr>\n",
       "    <tr>\n",
       "      <th>Gentoo</th>\n",
       "      <td>47.568067</td>\n",
       "      <td>14.996639</td>\n",
       "      <td>217.235294</td>\n",
       "      <td>5092.436975</td>\n",
       "    </tr>\n",
       "  </tbody>\n",
       "</table>\n",
       "</div>"
      ],
      "text/plain": [
       "           bill_length_mm  bill_depth_mm  flipper_length_mm  body_mass_g\n",
       "species                                                                 \n",
       "Adelie          38.823973      18.347260         190.102740  3706.164384\n",
       "Chinstrap       48.833824      18.420588         195.823529  3733.088235\n",
       "Gentoo          47.568067      14.996639         217.235294  5092.436975"
      ]
     },
     "execution_count": 934,
     "metadata": {},
     "output_type": "execute_result"
    }
   ],
   "source": [
    "# Write your solution here\n",
    "df.groupby('species').mean()"
   ]
  },
  {
   "cell_type": "markdown",
   "metadata": {
    "id": "xFrCdRnikCs-"
   },
   "source": [
    "#### Task 4, Part B _(15 marks)_"
   ]
  },
  {
   "cell_type": "markdown",
   "metadata": {
    "id": "gDzgpKOSkCtD"
   },
   "source": [
    "##### Instructions\n",
    "Before commencing this part of the task, ensure that you have run the code in Part A which loads the dataframe.\n",
    "\n",
    "For this part, you are to produce a scatter plot which relates penguin mass and bill length. A successful solution should be identical to the example below, which clearly shows how these measurements are a good indicator of penguin species.\n",
    "\n",
    "The image below shows what the plot created by your solution code should look like:\n",
    "\n",
    "![image.png](data:image/png;base64,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)\n",
    "\n",
    "_Hint: Every step in this task has a corresponding example in the workbook._"
   ]
  },
  {
   "cell_type": "markdown",
   "metadata": {
    "id": "YnYH0tWlUjZp"
   },
   "source": [
    "##### Requirements\n",
    "To achieve full marks for this task, you must follow the instructions above when writing your solution. Additionally, your solution must adhere to the following requirements:\n",
    " -  You **must** create a different dataframe for each species by _filtering_ the data appropriately (hint: you should end up with three new dataframes).\n",
    " - You **must** plot each of these dataframes in the same graph, giving each data series an appropriate label.\n",
    " - You **must** give the plot a title, axis labels, and a legend."
   ]
  },
  {
   "cell_type": "markdown",
   "metadata": {
    "id": "g1tNtxQqkCtF"
   },
   "source": [
    "##### Your Solution"
   ]
  },
  {
   "cell_type": "code",
   "execution_count": 959,
   "metadata": {
    "id": "w__58pCPkCtF",
    "vscode": {
     "languageId": "python"
    }
   },
   "outputs": [
    {
     "data": {
      "image/png": "[encoded data removed]",
      "text/plain": [
       "<Figure size 432x288 with 1 Axes>"
      ]
     },
     "metadata": {
      "needs_background": "light"
     },
     "output_type": "display_data"
    }
   ],
   "source": [
    "# Write your solution here\n",
    "\n",
    "#This is done by filtering for each species.\n",
    "Adelie = df[df['species']=='Adelie']\n",
    "Chinstrap = df[df['species']=='Chinstrap']\n",
    "Gentoo = df[df['species']=='Gentoo']\n",
    "#Plotting multiple scatterplots\n",
    "fig, ax = plt.subplots()\n",
    "\n",
    "#Plot Body mass (g) (x-axis) against Bill length (mm) (y-axis) as a scatterplot.\n",
    "ax.scatter(Adelie['body_mass_g'], Adelie['bill_length_mm'],label = 'Adelie')\n",
    "ax.scatter(Chinstrap['body_mass_g'],Chinstrap['bill_length_mm'],color = 'orange',label = 'Chinstrap')\n",
    "ax.scatter(Gentoo['body_mass_g'],Gentoo['bill_length_mm'],color = 'green',label = 'Gentoo')\n",
    "\n",
    "#Show a legend.\n",
    "ax.legend()\n",
    "\n",
    "#Label the axes.\n",
    "ax.set_title('Penguin Measurements by Species')\n",
    "ax.set_xlabel('Body mass (g)')\n",
    "ax.set_ylabel('Bill length (mm)')\n",
    "\n",
    "#Show the figure and pause the program.\n",
    "plt.show()\n"
   ]
  },
  {
   "cell_type": "markdown",
   "metadata": {
    "id": "b1XvdD60Z5Z-"
   },
   "source": [
    "#### Task 4, Part C _(10 marks)_"
   ]
  },
  {
   "cell_type": "markdown",
   "metadata": {
    "id": "Y7VUf13kZ5Z-"
   },
   "source": [
    "##### Instructions\n",
    "The graph from Part B shows a nice separation between the species when plotting penguin weight and bill length. To improve upon this, you are to add another column to the dataset, and plot this instead of the penguin bill length.\n",
    "\n",
    "In the next cell, write code which adds another column to the dataframe `df` called `bill_proportion`, which is the penguins' bill length divided by their bill depth. This new column represents the ratio between bill length and depth, and serves as an indicator of bill shape.\n",
    "\n",
    "Copy and paste your code from Part B into the below cell, and add the new column - you can call `df.head()` to check. Then, update your graphing code to use this new column; don't forget to update the labels and title! A successful solution should be identical to the example below, which does an even better job of separating penguin species than Part B.\n",
    "\n",
    "![image.png](data:image/png;base64,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)\n",
    "\n",
    "_Although beyond the scope of this subject, we would now be able to guess a penguin's species using just their weight and bill proportion, by plotting it on this graph and seeing which other points it lands near!_"
   ]
  },
  {
   "cell_type": "markdown",
   "metadata": {
    "id": "vaTNnGizUkMZ"
   },
   "source": [
    "##### Requirements\n",
    "To achieve full marks for this task, you must follow the instructions above when writing your solution. Additionally, your solution must adhere to the following requirements:\n",
    " - The new column **must** be created using Pandas.\n",
    "\n",
    "As your solution is based upon your code from Part B, the same requirements apply:\n",
    " -  You **must** create a different dataframe for each species by _filtering_ the data appropriately (hint: you should end up with three new dataframes).\n",
    " - You **must** plot each of these dataframes in the same graph, giving each data series an appropriate label.\n",
    " - You **must** give the plot a title, axis labels, and a legend."
   ]
  },
  {
   "cell_type": "markdown",
   "metadata": {
    "id": "mxB8GUp9Z5Z_"
   },
   "source": [
    "##### Your Solution"
   ]
  },
  {
   "cell_type": "code",
   "execution_count": 964,
   "metadata": {},
   "outputs": [
    {
     "data": {
      "image/png": "[encoded data removed]",
      "text/plain": [
       "<Figure size 432x288 with 1 Axes>"
      ]
     },
     "metadata": {
      "needs_background": "light"
     },
     "output_type": "display_data"
    }
   ],
   "source": [
    "#More to add\n",
    "df['bill_proportion'] = (df['bill_length_mm']/df['bill_depth_mm'])\n",
    "#This is done by filtering for each species.\n",
    "Adelie = df[df['species']=='Adelie']\n",
    "Chinstrap = df[df['species']=='Chinstrap']\n",
    "Gentoo = df[df['species']=='Gentoo']\n",
    "#Plotting multiple scatterplots\n",
    "fig, ax = plt.subplots()\n",
    "\n",
    "#Plot Body mass (g) (x-axis) against Bill length (mm) (y-axis) as a scatterplot.\n",
    "ax.scatter(Adelie['body_mass_g'], Adelie['bill_proportion'],label = 'Adelie')\n",
    "ax.scatter(Chinstrap['body_mass_g'],Chinstrap['bill_proportion'],color = 'orange',label = 'Chinstrap')\n",
    "ax.scatter(Gentoo['body_mass_g'],Gentoo['bill_proportion'],color = 'green',label = 'Gentoo')\n",
    "\n",
    "#Show a legend.\n",
    "ax.legend()\n",
    "\n",
    "#Label the axes.\n",
    "ax.set_title('Penguin Proportions by Species')\n",
    "ax.set_xlabel('Body mass (g)')\n",
    "ax.set_ylabel('Bill proportion (length/width)')\n",
    "\n",
    "#Show the figure and pause the program.\n",
    "plt.show()\n"
   ]
  },
  {
   "cell_type": "markdown",
   "metadata": {
    "id": "Q95BwE3DWwao"
   },
   "source": [
    "## Resetting the Notebook Runtime\n",
    "Due to the nature of notebooks, old variables, classes and functions may still be accessible even after they have been removed from the code. This may result in unexpected program behaviour.\n",
    "\n",
    "To ensure that this isn't the case, you can reset the runtime to reset the Python interpreter state. After doing so, you should run your solutions again to ensure they function correctly.\n",
    "\n",
    "The instructions differ slightly for Google Colaboratory and Jupyter Notebooks, so read the relevant subsection below.\n",
    "\n",
    "### Google Colab\n",
    "To reset the runtime, click the \"Runtime\" button in the menu at the top, then click \"Restart runtime\". Then, click \"yes\" in the following warning.\n",
    "\n",
    "![Restart_runtime.png](data:image/png;base64,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)\n",
    "\n",
    "![image.png](data:image/png;base64,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)\n",
    "\n",
    "### Jupyter Notebook\n",
    "To reset the runtime, click the \"Reset kernel\" button in the toolbar at the top. Then, click \"Restart\" in the following warning.\n",
    "\n",
    "![New Project (1).png](data:image/png;base64,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)\n",
    "\n",
    "![image.png](data:image/png;base64,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)"
   ]
  },
  {
   "cell_type": "code",
   "execution_count": null,
   "metadata": {},
   "outputs": [],
   "source": []
  }
 ],
 "metadata": {
  "colab": {
   "collapsed_sections": [],
   "name": "Programming Assignment 2",
   "provenance": [],
   "toc_visible": true
  },
  "kernelspec": {
   "display_name": "Python 3 (ipykernel)",
   "language": "python",
   "name": "python3"
  },
  "language_info": {
   "codemirror_mode": {
    "name": "ipython",
    "version": 3
   },
   "file_extension": ".py",
   "mimetype": "text/x-python",
   "name": "python",
   "nbconvert_exporter": "python",
   "pygments_lexer": "ipython3",
   "version": "3.9.7"
  }
 },
 "nbformat": 4,
 "nbformat_minor": 1
}
