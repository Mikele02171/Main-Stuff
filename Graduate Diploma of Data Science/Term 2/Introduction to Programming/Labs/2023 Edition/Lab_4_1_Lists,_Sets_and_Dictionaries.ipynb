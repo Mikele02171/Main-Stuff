{
  "nbformat": 4,
  "nbformat_minor": 0,
  "metadata": {
    "colab": {
      "provenance": [],
      "collapsed_sections": [
        "2kojEQReoK0K",
        "vokuf4fooOIe",
        "Jj5rXesgoSRI",
        "eUi7b9o84GTr",
        "-Y7Z4i41oV6u",
        "2s6LGiQwoXpU",
        "5mM5ubDlCT-M",
        "Sh5Rm0cQDxS3"
      ],
      "toc_visible": true
    },
    "kernelspec": {
      "name": "python3",
      "display_name": "Python 3"
    }
  },
  "cells": [
    {
      "cell_type": "markdown",
      "metadata": {
        "id": "s2fGcmUxCA7n"
      },
      "source": [
        "# Lab 4.1 - Lists, Sets and Dictionaries\n",
        "In this lab we will practice using three of Python's data structures - lists, sets and dictionaries. Each of these structures serves a different purpose, and today's exercises will leave you with a better understanding of their roles."
      ]
    },
    {
      "cell_type": "markdown",
      "metadata": {
        "id": "tKwcPiwJoG-w"
      },
      "source": [
        "## Programming Exercises"
      ]
    },
    {
      "cell_type": "markdown",
      "source": [],
      "metadata": {
        "id": "473P9ktnsLK5"
      }
    },
    {
      "cell_type": "markdown",
      "metadata": {
        "id": "CJfEY0qECa9e"
      },
      "source": [
        "### List Concatenation\n",
        "The program below finds the largest shoe size across three groups of people measured. Although it solves the task, it's quite clear that there's a lot of repetition in the code.\n",
        "\n",
        "The solution we learnt previously was to move repeated code into a function and call the function instead. However, a better solution would be to combine all three lists into one big list and process that, instead of processing each of the lists separately. This can be achieved using _concatenation_, which was introduced in the workbook.\n",
        "\n",
        "Improve the code by concatenating the three lists, storing them in a single variable. Then, replace the three `for` loops with a single loop. Run the solution to ensure that it works as expected."
      ]
    },
    {
      "cell_type": "code",
      "metadata": {
        "id": "GQLu3lneFaBX",
        "outputId": "d02414aa-6ab4-4ff3-b96b-1e35d942a800",
        "colab": {
          "base_uri": "https://localhost:8080/"
        }
      },
      "source": [
        "group_a_sizes = [8, 6, 11, 6, 8, 7, 6]\n",
        "group_b_sizes = [5, 9, 12, 8, 5, 6]\n",
        "group_c_sizes = [6, 7, 5, 9, 11, 7, 5, 8]\n",
        "\n",
        "\n",
        "max_size = 0\n",
        "\n",
        "for size in group_a_sizes:\n",
        "    if size > max_size:\n",
        "        max_size = size\n",
        "\n",
        "for size in group_b_sizes:\n",
        "    if size > max_size:\n",
        "        max_size = size\n",
        "\n",
        "for size in group_c_sizes:\n",
        "    if size > max_size:\n",
        "        max_size = size\n",
        "\n",
        "print(f'Max shoe size: {max_size}')"
      ],
      "execution_count": 1,
      "outputs": [
        {
          "output_type": "stream",
          "name": "stdout",
          "text": [
            "Max shoe size: 12\n"
          ]
        }
      ]
    },
    {
      "cell_type": "markdown",
      "metadata": {
        "id": "2kojEQReoK0K"
      },
      "source": [
        "###### Solution"
      ]
    },
    {
      "cell_type": "markdown",
      "metadata": {
        "id": "23ODiSLdHkv3"
      },
      "source": [
        "This code is much shorter, and easier to understand!"
      ]
    },
    {
      "cell_type": "code",
      "metadata": {
        "id": "sB6BLFFYJweR"
      },
      "source": [
        "group_a_sizes = [8, 6, 11, 6, 8, 7, 6]\n",
        "group_b_sizes = [5, 9, 12, 8, 5, 6]\n",
        "group_c_sizes = [6, 7, 5, 9, 11, 7, 5, 8]\n",
        "\n",
        "all_sizes = group_a_sizes + group_b_sizes + group_c_sizes\n",
        "\n",
        "max_size = 0\n",
        "for size in all_sizes:\n",
        "    if size > max_size:\n",
        "        max_size = size\n",
        "\n",
        "print(f'Max shoe size: {max_size}')"
      ],
      "execution_count": null,
      "outputs": []
    },
    {
      "cell_type": "markdown",
      "metadata": {
        "id": "IH3xZEgBKVYX"
      },
      "source": [
        "### Concatenation as Aggregation\n",
        "Let's now consider a variant of the problem. Although we were able to solve it using the `+` operator, what if there were 100 or a million groups of shoe sizes? We would need to update our code every time a new group is added, and our code would be impossible to manage!\n",
        "\n",
        "A more likely scenario is that the groups are instead stored as a _list of lists_ as shown below. The challenge now is how to concatenate an arbitrary number of groups.\n",
        "\n",
        "Combining a list of lists into a single list is merely a form of aggregation, much like we've done in the past when computing sums or averages. This task is more difficult than computing the sum or the mean, but it comes down to two key components:\n",
        " - What is the initial value of the variable that will hold the final result? _With summation, the initial value would be 0._\n",
        " - What operation is applied to aggregate the values? _With summation, the code might be `sum = sum + value`._\n",
        "\n",
        "Fill the gaps in the code below to solve the problem, and run it to ensure you still get the same answer. You should **not** need to add or rename any variables.\n",
        "\n",
        "_Hint: The objective is still to concatenate all shoe sizes._"
      ]
    },
    {
      "cell_type": "code",
      "metadata": {
        "id": "rISaF-K6J2NK",
        "outputId": "44ce7070-7a48-4f65-c84e-7e65806a67cc",
        "colab": {
          "base_uri": "https://localhost:8080/"
        }
      },
      "source": [
        "sizes = [\n",
        "    [8, 6, 11, 6, 8, 7, 6],\n",
        "    [5, 9, 12, 8, 5, 6],\n",
        "    [6, 7, 5, 9, 11, 7, 5, 8]\n",
        "]\n",
        "\n",
        "all_sizes = [] # What should the initial value be?\n",
        "\n",
        "for group_size in sizes:\n",
        "  # What is the aggregation operation?\n",
        "  all_sizes = all_sizes + group_size\n",
        "\n",
        "max_size = 0\n",
        "for size in all_sizes:\n",
        "    if size > max_size:\n",
        "        max_size = size\n",
        "\n",
        "print(f'Max shoe size: {max_size}')"
      ],
      "execution_count": 2,
      "outputs": [
        {
          "output_type": "stream",
          "name": "stdout",
          "text": [
            "Max shoe size: 12\n"
          ]
        }
      ]
    },
    {
      "cell_type": "markdown",
      "metadata": {
        "id": "vokuf4fooOIe"
      },
      "source": [
        "###### Solution"
      ]
    },
    {
      "cell_type": "markdown",
      "metadata": {
        "id": "0Swn63XNyIYb"
      },
      "source": [
        "Although this solution looks more complex than the first exercise, it's far more generalised - which is a major design consideration when writing code. \\\n",
        "This solution - unlike the first - will work for any number of groups; a little more effort at the start will save a lot more effort in the future."
      ]
    },
    {
      "cell_type": "code",
      "metadata": {
        "id": "6waX6LpXKKus",
        "outputId": "02560561-8454-4c09-ba82-ed1b1801b400",
        "colab": {
          "base_uri": "https://localhost:8080/"
        }
      },
      "source": [
        "sizes = [\n",
        "    [8, 6, 11, 6, 8, 7, 6],\n",
        "    [5, 9, 12, 8, 5, 6],\n",
        "    [6, 7, 5, 9, 11, 7, 5, 8]\n",
        "]\n",
        "\n",
        "all_sizes = []\n",
        "for group_size in sizes:\n",
        "    all_sizes = all_sizes + group_size\n",
        "\n",
        "max_size = 0\n",
        "for size in all_sizes:\n",
        "    if size > max_size:\n",
        "        max_size = size\n",
        "\n",
        "print(f'Max shoe size: {max_size}')"
      ],
      "execution_count": 3,
      "outputs": [
        {
          "output_type": "stream",
          "name": "stdout",
          "text": [
            "Max shoe size: 12\n"
          ]
        }
      ]
    },
    {
      "cell_type": "markdown",
      "metadata": {
        "id": "tce7fIkMCa3t"
      },
      "source": [
        "### Mapping\n",
        "You've been tasked with calculating the shipping price for each order from an online store. Instead of looking up the price for each order, you decide it would be easier to _map_ the distances to their corresponding shipping prices.\n",
        "\n",
        "Using the table below, write code to map the shipping distances to their corresponding shipping prices, stored in a variable called `shipping_prices`.\n",
        "\n",
        "| Distance | Price   |\n",
        "|----------|---------|\n",
        "| 0  - 30  | \\$0     |\n",
        "| 30 - 100 | \\$9.99  |\n",
        "| 100+     | \\$14.99 |\n",
        "\n",
        "Distance ranges should exclude the upper limit (e.g. distance 30 has a price of \\$9.99, not \\$0).\n",
        "\n",
        "_Hint: You will need to use `if`/`elif`/`else`. Feel free to look at the \"Filtering and Mapping\" section of the workbook._\n"
      ]
    },
    {
      "cell_type": "code",
      "metadata": {
        "id": "n_un_XPFoTMC",
        "outputId": "4a69e4c1-1315-46c2-f936-205a04b84f87",
        "colab": {
          "base_uri": "https://localhost:8080/"
        }
      },
      "source": [
        "shipping_distances = [72, 8, 153, 109, 151, 23, 186, 68, 13]\n",
        "\n",
        "# Write your shipping price solution here\n",
        "    \n",
        "shipping_prices = []\n",
        "for distance in shipping_distances:\n",
        "    if distance < 30:\n",
        "        shipping_prices.append(0)\n",
        "    elif distance < 100:\n",
        "        shipping_prices.append(9.99)\n",
        "    else:\n",
        "        shipping_prices.append(14.99)\n",
        "    \n",
        "print(shipping_prices)"
      ],
      "execution_count": 4,
      "outputs": [
        {
          "output_type": "stream",
          "name": "stdout",
          "text": [
            "[9.99, 0, 14.99, 14.99, 14.99, 0, 14.99, 9.99, 0]\n"
          ]
        }
      ]
    },
    {
      "cell_type": "markdown",
      "metadata": {
        "id": "Jj5rXesgoSRI"
      },
      "source": [
        "###### Solution"
      ]
    },
    {
      "cell_type": "markdown",
      "metadata": {
        "id": "2ui2CuOf1LIw"
      },
      "source": [
        "This solution, combined with aggregation techniques we've already learnt would enable us start generating reports with anything from shipping cost totals, average shipping price per transaction, and much more!"
      ]
    },
    {
      "cell_type": "code",
      "metadata": {
        "id": "M-0sQHPfOZt0"
      },
      "source": [
        "shipping_distances = [72, 8, 153, 109, 151, 23, 186, 68, 13]\n",
        "\n",
        "shipping_prices = []\n",
        "for distance in shipping_distances:\n",
        "    if distance < 30:\n",
        "        shipping_prices.append(0)\n",
        "    elif distance < 100:\n",
        "        shipping_prices.append(9.99)\n",
        "    else:\n",
        "        shipping_prices.append(14.99)\n",
        "    \n",
        "print(shipping_prices)"
      ],
      "execution_count": null,
      "outputs": []
    },
    {
      "cell_type": "markdown",
      "metadata": {
        "id": "V0k5qzVk3fKa"
      },
      "source": [
        "### Filtering\n",
        "By modifying the code below, can you write a program which builds a list of only the distances that qualified for free shipping? Your solution will be quite similar to the previous question.\n",
        "\n",
        "_Hint: You can take another look at the \"Filtering and Mapping\" section of the workbook._"
      ]
    },
    {
      "cell_type": "code",
      "metadata": {
        "id": "0RuLKxh53JJP",
        "outputId": "4d803a09-dffd-4e93-ae21-ae446bcf2e3e",
        "colab": {
          "base_uri": "https://localhost:8080/"
        }
      },
      "source": [
        "shipping_distances = [72, 8, 153, 109, 151, 23, 186, 68, 13]\n",
        "\n",
        "# Write your free shipping distances solution here4\n",
        "free_shipping_distances = []\n",
        "for distance in shipping_distances:\n",
        "    if distance < 30:\n",
        "        free_shipping_distances.append(distance)\n",
        "    \n",
        "print(free_shipping_distances)"
      ],
      "execution_count": 6,
      "outputs": [
        {
          "output_type": "stream",
          "name": "stdout",
          "text": [
            "[8, 23, 13]\n"
          ]
        }
      ]
    },
    {
      "cell_type": "markdown",
      "metadata": {
        "id": "eUi7b9o84GTr"
      },
      "source": [
        "###### Solution"
      ]
    },
    {
      "cell_type": "markdown",
      "metadata": {
        "id": "W3Apv6tIIPr-"
      },
      "source": [
        "This solution doesn't require any `elif` or `else` blocks, as we can simply do nothing if the order didn't qualify for free shipping."
      ]
    },
    {
      "cell_type": "code",
      "metadata": {
        "id": "kIT09QK64HX0"
      },
      "source": [
        "shipping_distances = [72, 8, 153, 109, 151, 23, 186, 68, 13]\n",
        "\n",
        "free_shipping_distances = []\n",
        "for distance in shipping_distances:\n",
        "    if distance < 30:\n",
        "        free_shipping_distances.append(distance)\n",
        "    \n",
        "print(free_shipping_distances)"
      ],
      "execution_count": null,
      "outputs": []
    },
    {
      "cell_type": "markdown",
      "metadata": {
        "id": "IW4_CZbgCbCP"
      },
      "source": [
        "### Mutability\n",
        "Below is a a simple program that finds and prints the largest value in a list. However, this particular implementation has a bug! Without running the code, can you spot the problem?\n",
        "\n",
        "Whether you found it or not, run the program and see the outputs - this should reveal the bug. Do you know a way to fix this with a single line of code? A similar problem was addressed in the \"Lists and References\" of the workbook."
      ]
    },
    {
      "cell_type": "code",
      "metadata": {
        "id": "fHgOAwNxRCRu",
        "outputId": "6f5fad4a-1bc4-41ff-ed6b-4380d30a5570",
        "colab": {
          "base_uri": "https://localhost:8080/"
        }
      },
      "source": [
        "def find_largest(the_list):\n",
        "    the_list.sort()\n",
        "    return the_list[-1]\n",
        "\n",
        "\n",
        "my_list = [86, 80, 63, 48, 29, 97, 5, 2, 78, 0]\n",
        "largest = find_largest(my_list)\n",
        "\n",
        "print(f'The largest value in the below list is {largest}')\n",
        "print(my_list)"
      ],
      "execution_count": 7,
      "outputs": [
        {
          "output_type": "stream",
          "name": "stdout",
          "text": [
            "The largest value in the below list is 97\n",
            "[0, 2, 5, 29, 48, 63, 78, 80, 86, 97]\n"
          ]
        }
      ]
    },
    {
      "cell_type": "markdown",
      "metadata": {
        "id": "-Y7Z4i41oV6u"
      },
      "source": [
        "###### Solution"
      ]
    },
    {
      "cell_type": "markdown",
      "metadata": {
        "id": "SGRqId766dbs"
      },
      "source": [
        "The method `sort` occurs in-place on lists, meaning that the object is modified, and that all references to this list will observe the change. Although we use a different reference to `my_list` inside the function (called `the_list`), there is only one list in this entire code block. Thus, the in-place operation results in the list being modified everywhere.\n",
        "\n",
        "By copying the list first, the sort operation occurs only on the copy and leaves the original untouched. For a better solution than this, check out the bonus tasks at the end of the lab."
      ]
    },
    {
      "cell_type": "code",
      "metadata": {
        "id": "UjccgFB1oV6v",
        "outputId": "a5294c3a-6678-4381-edbd-98d17933baf6",
        "colab": {
          "base_uri": "https://localhost:8080/"
        }
      },
      "source": [
        "def find_largest(the_list):\n",
        "    temp_list = the_list.copy()\n",
        "    temp_list.sort()\n",
        "    return temp_list[-1]\n",
        "\n",
        "\n",
        "my_list = [86, 80, 63, 48, 29, 97, 5, 2, 78, 0]\n",
        "largest = find_largest(my_list)\n",
        "\n",
        "print(f'The largest value in the below list is {largest}')\n",
        "print(my_list)"
      ],
      "execution_count": 8,
      "outputs": [
        {
          "output_type": "stream",
          "name": "stdout",
          "text": [
            "The largest value in the below list is 97\n",
            "[86, 80, 63, 48, 29, 97, 5, 2, 78, 0]\n"
          ]
        }
      ]
    },
    {
      "cell_type": "markdown",
      "metadata": {
        "id": "QnQ5zPsRSEDy"
      },
      "source": [
        "### Set Membership\n",
        "Below is a very basic user management class. We desire that be capable of adding system administrators, and confirming whether a user is an administrator. Currently there is very little implemented, and it's up to you to implement the two missing method:\n",
        "\n",
        " 1. `add_admin`: This method takes a username as an argument, and adds that user to the administrators set.\n",
        " 2. `is_admin`: This method takes a username as an argument, and returns `True` if the user is an administrator.\n",
        "\n",
        "_Hint: The required skills were introduced in the \"Set Operations\" section of the workbook._"
      ]
    },
    {
      "cell_type": "code",
      "metadata": {
        "id": "bdOWYomUSDvF",
        "outputId": "494d7965-b80b-4ebe-fcc6-ad3d2e34803f",
        "colab": {
          "base_uri": "https://localhost:8080/"
        }
      },
      "source": [
        "class UserManagement:\n",
        "    def __init__(self):\n",
        "      self.administrators = set()\n",
        "\n",
        "    # Implement the add_admin method here\n",
        "    def add_admin(self, username):\n",
        "      self.administrators.add(username)\n",
        "\n",
        "    # Implement the is_admin method here\n",
        "    def is_admin(self, username):\n",
        "      return username in self.administrators\n",
        "\n",
        "\n",
        "userMgmt = UserManagement()\n",
        "userMgmt.add_admin('l.torvalds')\n",
        "userMgmt.add_admin('d.ritchie')\n",
        "\n",
        "# Should return False\n",
        "print(userMgmt.is_admin('m.zuckerberg'))\n",
        "\n",
        "# Should return True\n",
        "print(userMgmt.is_admin('l.torvalds'))"
      ],
      "execution_count": 14,
      "outputs": [
        {
          "output_type": "stream",
          "name": "stdout",
          "text": [
            "False\n",
            "True\n"
          ]
        }
      ]
    },
    {
      "cell_type": "markdown",
      "metadata": {
        "id": "2s6LGiQwoXpU"
      },
      "source": [
        "###### Solution"
      ]
    },
    {
      "cell_type": "code",
      "metadata": {
        "id": "MO8M3x3foXpW"
      },
      "source": [
        "class UserManagement:\n",
        "    def __init__(self):\n",
        "        self.administrators = set()\n",
        "    \n",
        "    def add_admin(self, username):\n",
        "        self.administrators.add(username)\n",
        "    \n",
        "    def is_admin(self, username):\n",
        "        return username in self.administrators"
      ],
      "execution_count": 12,
      "outputs": []
    },
    {
      "cell_type": "markdown",
      "metadata": {
        "id": "ZT_6Au9vCbHY"
      },
      "source": [
        "### Sets and Uniqueness\n",
        "As you know by now, lists can contain practically any combination of values - repeated or unique. A special property of the `set` data structure is that it enforces uniqueness - there can only be at most one of any value.\n",
        "\n",
        "When a set is created from a list like `set(my_list)`, duplicated entries are removed, potentially resulting in a set with fewer entries than the original list. This can be used to our advantage to check if all values in the original list are unique. Can you think how?\n",
        "\n",
        "In the indicated section below, write some code which checks that all the provided lottery numbers are unique. If not, return False."
      ]
    },
    {
      "cell_type": "code",
      "metadata": {
        "id": "pdeqwOB3RG3l",
        "outputId": "6e0d1f08-0167-438f-83b3-8e256b2be1f7",
        "colab": {
          "base_uri": "https://localhost:8080/"
        }
      },
      "source": [
        "def lottery_numbers_valid(numbers):\n",
        "    num_selected = len(numbers)\n",
        "    if num_selected != 6:\n",
        "        return False\n",
        "\n",
        "    # Write your uniqueness check here and return False if there are non-unique values\n",
        "\n",
        "    return True\n",
        "\n",
        "\n",
        "# Should be invalid, as only 5 were selected\n",
        "print(lottery_numbers_valid([32, 41, 17, 1, 9]))\n",
        "\n",
        "# Should be invalid, as there are duplicated numbers\n",
        "print(lottery_numbers_valid([32, 41, 17, 1, 9, 32]))\n",
        "\n",
        "# Should be valid\n",
        "print(lottery_numbers_valid([32, 41, 17, 1, 9, 25]))"
      ],
      "execution_count": 1,
      "outputs": [
        {
          "output_type": "stream",
          "name": "stdout",
          "text": [
            "False\n",
            "True\n",
            "True\n"
          ]
        }
      ]
    },
    {
      "cell_type": "markdown",
      "metadata": {
        "id": "euErylmPoeBa"
      },
      "source": [
        "###### Solution"
      ]
    },
    {
      "cell_type": "markdown",
      "metadata": {
        "id": "Lvvhc4nT8Id0"
      },
      "source": [
        "If all entries in the original list were unique, the set would have the same length as the list. If the set has fewer entries, it means that some duplicated values were removed.\n",
        "\n",
        "This trick of using a `set` to check the unique values is very convenient. Consider the alternative - you would need to compare every pair of values in the list and check that none are equal!"
      ]
    },
    {
      "cell_type": "code",
      "metadata": {
        "id": "YRWp8T1GoeBb",
        "outputId": "543b6f6c-f5c0-43d9-92ce-ca37f19c8463",
        "colab": {
          "base_uri": "https://localhost:8080/"
        }
      },
      "source": [
        "def lottery_numbers_valid(numbers):\n",
        "    num_selected = len(numbers)\n",
        "    if num_selected != 6:\n",
        "        return False\n",
        "\n",
        "    unique_numbers = set(numbers)\n",
        "    num_unique = len(unique_numbers)\n",
        "\n",
        "    if num_selected != num_unique:\n",
        "        return False\n",
        "    return True\n",
        "\n",
        "\n",
        "# Should be invalid, as only 5 were selected\n",
        "print(lottery_numbers_valid([32, 41, 17, 1, 9]))\n",
        "\n",
        "# Should be invalid, as 7 were selected\n",
        "print(lottery_numbers_valid([32, 41, 17, 1, 9, 25, 21]))\n",
        "\n",
        "# Should be invalid, as there are duplicated numbers\n",
        "print(lottery_numbers_valid([32, 41, 17, 1, 9, 32]))\n",
        "\n",
        "# Should be valid\n",
        "print(lottery_numbers_valid([32, 41, 17, 1, 9, 25]))"
      ],
      "execution_count": 2,
      "outputs": [
        {
          "output_type": "stream",
          "name": "stdout",
          "text": [
            "False\n",
            "False\n",
            "False\n",
            "True\n"
          ]
        }
      ]
    },
    {
      "cell_type": "markdown",
      "metadata": {
        "id": "PwVdCN2aXS09"
      },
      "source": [
        "Our function works, but there's still one improvement to be made. Any time a boolean value is returned based upon some condition, such as:\n",
        "```python\n",
        "if some_condition:\n",
        "    return True\n",
        "return False\n",
        "```\n",
        "The if statement be removed, as it's equivalent to returning the condition itself:\n",
        "```python\n",
        "return some_condition\n",
        "```\n",
        "\n",
        "Thus, we can replace:\n",
        "```python\n",
        "if num_selected != num_unique:\n",
        "    return False\n",
        "return True\n",
        "```\n",
        "with:\n",
        "```python\n",
        "return num_selected == num_unique\n",
        "```\n",
        "\n",
        "_Note that the condition had to be inverted (`!=` changed to `==`)._"
      ]
    },
    {
      "cell_type": "markdown",
      "metadata": {
        "id": "VOsqiMQ0-CBo"
      },
      "source": [
        "### Dictionaries\n",
        "A clothing store receives orders via their website in the form of a list of items. It is your task to count the number of each item sold, so that the correct number can be dispatched from the warehouse.\n",
        "\n",
        "Write a program below which counts the total number of each item in the order using a dictionary, before printing it to the screen.\n",
        "\n",
        "_Hint: We need to handle items differently depending on whether it's the first time we've encountered it in the order. There are some relevant examples in the workbook._"
      ]
    },
    {
      "cell_type": "code",
      "metadata": {
        "id": "tJrQOc9--K3v",
        "outputId": "5ecc937a-db09-47d8-f238-66b23126b8b0",
        "colab": {
          "base_uri": "https://localhost:8080/"
        }
      },
      "source": [
        "sales = ['hat', 'pants', 'pants', 'shirt', 'pants', 'shirt']\n",
        "\n",
        "counts = {}\n",
        "# Write your counting solution here\n",
        "for item in sales:\n",
        "    if item in counts:\n",
        "        counts[item] = counts[item] + 1\n",
        "    else:\n",
        "        counts[item] = 1\n",
        "    \n",
        "print(counts)"
      ],
      "execution_count": 4,
      "outputs": [
        {
          "output_type": "stream",
          "name": "stdout",
          "text": [
            "{'hat': 1, 'pants': 3, 'shirt': 2}\n"
          ]
        }
      ]
    },
    {
      "cell_type": "markdown",
      "metadata": {
        "id": "5mM5ubDlCT-M"
      },
      "source": [
        "###### Solution"
      ]
    },
    {
      "cell_type": "markdown",
      "metadata": {
        "id": "Ah-OOo_GGHg5"
      },
      "source": [
        "This is essentially the same as the counting example seen in the workbook. An important part of programming is identifying similarities between tasks, so existing solutions can be modified to solve new problems."
      ]
    },
    {
      "cell_type": "code",
      "metadata": {
        "id": "YK5-cKehCVc8"
      },
      "source": [
        "sales = ['hat', 'pants', 'pants', 'shirt', 'pants', 'shirt']\n",
        "\n",
        "counts = {}\n",
        "for item in sales:\n",
        "    if item in counts:\n",
        "        counts[item] = counts[item] + 1\n",
        "    else:\n",
        "        counts[item] = 1\n",
        "    \n",
        "print(counts)"
      ],
      "execution_count": null,
      "outputs": []
    },
    {
      "cell_type": "markdown",
      "metadata": {
        "id": "k2hDCLOhCqL2"
      },
      "source": [
        "### More Dictionaries\n",
        "You are now asked to write some code for a POS (Point Of Sale) system which looks up item names and prices using their product code.You are provided with a large part of the required code, including a dictionary mapping product codes to names, and another mapping product codes to prices.\n",
        "\n",
        "If you run the code now, you'll see that it fails! This is because there are product codes which aren't yet in the system. Your task is to fix this error by asking the user for the missing details when necessary. The example run below demonstrates the expected usage of the program.\n",
        "\n",
        "```\n",
        "hat: $21.70\n",
        "pants: $55.00\n",
        "pants: $55.00\n",
        "Product code: 8496485676 not found.\n",
        "   Enter item name: jacket\n",
        "   Enter item price: 65\n",
        "jacket: $65.00\n",
        "jacket: $65.00\n",
        "shirt: $22.90\n",
        "```\n",
        "\n",
        "_Hint: We have already seen how to check if a dictionary contains a key, so all that's left is to prompt the user and insert the new information where required._"
      ]
    },
    {
      "cell_type": "code",
      "metadata": {
        "id": "hq_ECbXg-sq5",
        "outputId": "b2268875-b60e-4238-90b6-bee412ccb24b",
        "colab": {
          "base_uri": "https://localhost:8080/"
        }
      },
      "source": [
        "product_codes = {\n",
        "    '5467312287': 'hat',\n",
        "    '1565467432': 'pants',\n",
        "    '8534743578': 'shirt'\n",
        "}\n",
        "prices = {\n",
        "    '5467312287': 21.70,\n",
        "    '1565467432': 55,\n",
        "    '8534743578': 22.90\n",
        "}\n",
        "\n",
        "sales = ['5467312287', '1565467432', '1565467432', '8496485676', '8496485676', '8534743578']\n",
        "\n",
        "for code in sales:\n",
        "    # Write code to ask the user for missing details when required\n",
        "     if code not in product_codes:\n",
        "\n",
        "        print(f'Product code: {code} not found.')\n",
        "        product_codes[code] = input(f'   Enter item name: ')\n",
        "        prices[code] = float(input(f'   Enter item price: '))\n",
        "\n",
        "     print(f'{product_codes[code]}: ${prices[code]:.2f}')"
      ],
      "execution_count": 5,
      "outputs": [
        {
          "output_type": "stream",
          "name": "stdout",
          "text": [
            "hat: $21.70\n",
            "pants: $55.00\n",
            "pants: $55.00\n",
            "Product code: 8496485676 not found.\n",
            "   Enter item name: jat\n",
            "   Enter item price: 21.70\n",
            "jat: $21.70\n",
            "jat: $21.70\n",
            "shirt: $22.90\n"
          ]
        }
      ]
    },
    {
      "cell_type": "markdown",
      "metadata": {
        "id": "Sh5Rm0cQDxS3"
      },
      "source": [
        "###### Solution"
      ]
    },
    {
      "cell_type": "markdown",
      "metadata": {
        "id": "RFbIgpsAGZ-_"
      },
      "source": [
        "It's important to always check if a key is in a dictionary before using it, rather than making any assumptions."
      ]
    },
    {
      "cell_type": "code",
      "metadata": {
        "id": "BMZAiHmiDySr",
        "outputId": "e23de3ab-5596-445c-93ac-6e7963ada8a7",
        "colab": {
          "base_uri": "https://localhost:8080/"
        }
      },
      "source": [
        "product_codes = {\n",
        "    '5467312287': 'hat',\n",
        "    '1565467432': 'pants',\n",
        "    '8534743578': 'shirt'\n",
        "}\n",
        "prices = {\n",
        "    '5467312287': 21.70,\n",
        "    '1565467432': 55,\n",
        "    '8534743578': 22.90\n",
        "}\n",
        "\n",
        "sales = ['5467312287', '1565467432', '1565467432', '8496485676', '8496485676', '8534743578']\n",
        "\n",
        "for code in sales:\n",
        "    if code not in product_codes:\n",
        "        print(f'Product code: {code} not found.')\n",
        "        product_codes[code] = input(f'   Enter item name: ')\n",
        "        prices[code] = float(input(f'   Enter item price: '))\n",
        "\n",
        "    print(f'{product_codes[code]}: ${prices[code]:.2f}')"
      ],
      "execution_count": 15,
      "outputs": [
        {
          "output_type": "stream",
          "name": "stdout",
          "text": [
            "hat: $21.70\n",
            "pants: $55.00\n",
            "pants: $55.00\n",
            "Product code: 8496485676 not found.\n",
            "   Enter item name: hat\n",
            "   Enter item price: 21.70\n",
            "hat: $21.70\n",
            "hat: $21.70\n",
            "shirt: $22.90\n"
          ]
        }
      ]
    },
    {
      "cell_type": "markdown",
      "metadata": {
        "id": "D5YMssKOCbAA"
      },
      "source": [
        "## Bonus Tasks\n",
        "It might be challenging to think of a solution to this bonus task, but once you figure it out - it'll seem easy! A good programmer always considers the performance implications of the code they write, especially if they're dealing with a large amount of data."
      ]
    },
    {
      "cell_type": "markdown",
      "metadata": {
        "id": "xmhQo-V08qWM"
      },
      "source": [
        "### Better `find_largest` Function\n",
        "The `find_largest` method from earlier was fixed by simply copying the contents of the list. While it's a correct solution, it's not necessarily the best - what if the list contained a million entries? Copying such a long list might end up slowing down our program or using too much memory.\n",
        "\n",
        "Can you come up with a solution that doesn't require copying the list?"
      ]
    },
    {
      "cell_type": "code",
      "metadata": {
        "id": "HAsNHawhF469"
      },
      "source": [
        "def find_largest(the_list):\n",
        "    # Implement your better solution here\n",
        "\n",
        "\n",
        "my_list = [86, 80, 63, 48, 29, 97, 5, 2, 78, 0]\n",
        "largest = find_largest(my_list)\n",
        "\n",
        "print(f'The largest value in the below list is {largest}')\n",
        "print(my_list)"
      ],
      "execution_count": null,
      "outputs": []
    }
  ]
}