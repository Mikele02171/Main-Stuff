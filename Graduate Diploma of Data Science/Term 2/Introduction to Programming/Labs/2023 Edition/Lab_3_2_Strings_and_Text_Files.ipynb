{
  "nbformat": 4,
  "nbformat_minor": 0,
  "metadata": {
    "colab": {
      "provenance": [],
      "collapsed_sections": [
        "NbQfjNh8VDy8",
        "h1SEah752tGJ",
        "7hBDN8ac2uSb",
        "YH5S3V5M2vmF",
        "FO-OPgiJ2wNm",
        "Lr9qijJG2w0r",
        "wlwTzqqt2xPN",
        "fnXz7hbJ2xlG"
      ],
      "toc_visible": true
    },
    "kernelspec": {
      "name": "python3",
      "display_name": "Python 3"
    }
  },
  "cells": [
    {
      "cell_type": "markdown",
      "metadata": {
        "id": "asEQQCJxzk8y"
      },
      "source": [
        "# Lab 3.2 - Strings and Text Files\n",
        "This lab will use our recently-acquired knowledge of functions to solves tasks involving strings and text files. It might be useful to open the relevant workbook for reference, and to take it slow - there's a lot to be learnt!"
      ]
    },
    {
      "cell_type": "markdown",
      "metadata": {
        "id": "GB-lPQ2RUi-P"
      },
      "source": [
        "## Programming Exercises"
      ]
    },
    {
      "cell_type": "markdown",
      "metadata": {
        "id": "ga-_14_gPm9P"
      },
      "source": [
        "### Escape Sequences\n",
        "The following multiline output can be produced by a single line of code - can you reproduce this sentence exactly as shown with only one call to the `print` function? You might need to refer at the \"escape sequences\" section of the notebook.\n",
        "```\n",
        "My dog's name is \"Fido\"\n",
        "and he isn't very smart.\n",
        "```"
      ]
    },
    {
      "cell_type": "code",
      "metadata": {
        "id": "WTbyEI3c2m2A",
        "outputId": "4ea77122-8132-490a-cc8a-04db2ddfb16e",
        "colab": {
          "base_uri": "https://localhost:8080/"
        }
      },
      "source": [
        "# Write your single line solution here\n",
        "print('My dog\\'s name is \"Fido\"\\nand he isn\\'t very smart.')\n",
        "# OR\n",
        "print(\"My dog's name is \\\"Fido\\\"\\nand he isn't very smart.\")\n"
      ],
      "execution_count": 1,
      "outputs": [
        {
          "output_type": "stream",
          "name": "stdout",
          "text": [
            "My dog's name is \"Fido\"\n",
            "and he isn't very smart.\n",
            "My dog's name is \"Fido\"\n",
            "and he isn't very smart.\n"
          ]
        }
      ]
    },
    {
      "cell_type": "markdown",
      "metadata": {
        "id": "NbQfjNh8VDy8"
      },
      "source": [
        "###### Solution"
      ]
    },
    {
      "cell_type": "markdown",
      "metadata": {
        "id": "5-K3Ifp-VEvq"
      },
      "source": [
        "Using escape sequences, we can add a newline at any point in a string. Depending on whether the string is made with single or double quotes, either of the options below are correct.\n",
        "\n",
        "_Note that there is no space on either side of the newline `\\n` character - try it with spaces and see how it affects the output._"
      ]
    },
    {
      "cell_type": "code",
      "metadata": {
        "id": "EosS-WAfPYu9"
      },
      "source": [
        "print('My dog\\'s name is \"Fido\"\\nand he isn\\'t very smart.')\n",
        "# OR\n",
        "print(\"My dog's name is \\\"Fido\\\"\\nand he isn't very smart.\")"
      ],
      "execution_count": null,
      "outputs": []
    },
    {
      "cell_type": "markdown",
      "metadata": {
        "id": "J0_9BQ53PzKk"
      },
      "source": [
        "### Username Generator\n",
        "Websites and apps often suggest a username for new users, based upon some details the user provided. Write a function below called `username_from_name` which takes the user's full name, and returns a suggested username. The username should be lowercase, and with all spaces replaced with underscores `_`.\n",
        "\n",
        "For example:\n",
        " - `John Smith -> john_smith`\n",
        " - `Maria Fernanda Coro Vargas -> maria_fernanda_coro_vargas`"
      ]
    },
    {
      "cell_type": "code",
      "metadata": {
        "id": "KcH7-dPD2tru",
        "outputId": "82811ec5-0c0b-4da1-c5f2-a57a1bd98c2d",
        "colab": {
          "base_uri": "https://localhost:8080/"
        }
      },
      "source": [
        "# Write your `username_from_name` function here\n",
        "def username_from_name(full_name):\n",
        "    return full_name.lower().replace(' ', '_')\n",
        "\n",
        "\n",
        "name = 'Alice Adams'\n",
        "print(username_from_name(name))"
      ],
      "execution_count": 2,
      "outputs": [
        {
          "output_type": "stream",
          "name": "stdout",
          "text": [
            "alice_adams\n"
          ]
        }
      ]
    },
    {
      "cell_type": "markdown",
      "metadata": {
        "id": "h1SEah752tGJ"
      },
      "source": [
        "###### Solution"
      ]
    },
    {
      "cell_type": "markdown",
      "metadata": {
        "id": "eoBgpelp5oLU"
      },
      "source": [
        "The naming of the function and its parameter are very intentional. Although the `username_from_name` doesn't clearly indicate that we expect the user's full name, a well-named parameter like `full_name` can make it obvious."
      ]
    },
    {
      "cell_type": "code",
      "metadata": {
        "id": "kgxXn7uEPzAy"
      },
      "source": [
        "def username_from_name(full_name):\n",
        "    return full_name.lower().replace(' ', '_')"
      ],
      "execution_count": null,
      "outputs": []
    },
    {
      "cell_type": "markdown",
      "metadata": {
        "id": "KCPwZjVxPotA"
      },
      "source": [
        "### Improved Username Generator\n",
        "A better way to suggest a username might be to extract part of their email address. Write a function below called `username_from_email` which takes an email address, then slices and returns the part before the `@` character. The username should be again be all lowercase - you can assume that it is already a valid email address, but that it may have uppercase characters.\n",
        "\n",
        "For example:\n",
        " - `John.Smith@bigpond.com.au -> john.smith`\n",
        " - `MF_Vargas_1984@gmail.com -> mf_vargas_1984`\n",
        "\n",
        "\n",
        "It will be useful to break down the problem into a number of steps before coding:\n",
        " - Find the location of the `@` character\n",
        " - _Slice_ the string to this length\n",
        " - Convert it to lowercase"
      ]
    },
    {
      "cell_type": "code",
      "metadata": {
        "id": "wQ-_Y6tn2uSa",
        "outputId": "6505469e-fae6-445c-e9c8-a82ef2b11393",
        "colab": {
          "base_uri": "https://localhost:8080/"
        }
      },
      "source": [
        "# Write your `username_from_email` function here\n",
        "def username_from_email(email):\n",
        "    at_index = email.find('@')\n",
        "    return email[:at_index].lower()\n",
        "\n",
        "\n",
        "email_address = 'Alice_a.au@gmail.com'\n",
        "print(username_from_email(email_address))"
      ],
      "execution_count": 3,
      "outputs": [
        {
          "output_type": "stream",
          "name": "stdout",
          "text": [
            "alice_a.au\n"
          ]
        }
      ]
    },
    {
      "cell_type": "markdown",
      "metadata": {
        "id": "7hBDN8ac2uSb"
      },
      "source": [
        "###### Solution"
      ]
    },
    {
      "cell_type": "markdown",
      "metadata": {
        "id": "mCyCsR_k31qe"
      },
      "source": [
        "Recall _slicing_ from the workbook? The colon (`:`) symbol allows us to take a section from a string."
      ]
    },
    {
      "cell_type": "code",
      "metadata": {
        "id": "ptLQbrgNPoml"
      },
      "source": [
        "def username_from_email(email):\n",
        "    at_index = email.find('@')\n",
        "    return email[:at_index].lower()"
      ],
      "execution_count": null,
      "outputs": []
    },
    {
      "cell_type": "markdown",
      "metadata": {
        "id": "8KOrKk5SQSeF"
      },
      "source": [
        "### Number Formatting\n",
        "Write a function below called `print_receipt_line` which prints a single line for a receipt, using _f-strings_. It should take as arguments the item `name` and `price`, and print it formatted as below. Note that two decimal places are printed, even if it is a whole dollar amount.\n",
        "```\n",
        "Frozen peas 500g: $2.00\n",
        "```\n",
        "\n",
        "_You may wish to refer to the workbook for a refresher on f-strings._"
      ]
    },
    {
      "cell_type": "code",
      "metadata": {
        "id": "-SwqM5hT2vmE",
        "outputId": "e7cefd63-c88e-4ce3-9654-19e2e093dfd1",
        "colab": {
          "base_uri": "https://localhost:8080/"
        }
      },
      "source": [
        "# Write your `print_receipt_line` function here\n",
        "def print_receipt_line(name, price):\n",
        "    print(f'{name}: ${price:.2f}')\n",
        "\n",
        "\n",
        "print_receipt_line('Rice 1kg', 2.99)\n",
        "print_receipt_line('Pasta sauce 500g', 3.20)\n",
        "print_receipt_line('Grass fed beef 2kg', 32.99)"
      ],
      "execution_count": 4,
      "outputs": [
        {
          "output_type": "stream",
          "name": "stdout",
          "text": [
            "Rice 1kg: $2.99\n",
            "Pasta sauce 500g: $3.20\n",
            "Grass fed beef 2kg: $32.99\n"
          ]
        }
      ]
    },
    {
      "cell_type": "markdown",
      "metadata": {
        "id": "YH5S3V5M2vmF"
      },
      "source": [
        "###### Solution"
      ]
    },
    {
      "cell_type": "markdown",
      "metadata": {
        "id": "lWbyKG-j4Ug_"
      },
      "source": [
        "By simply using the format specifier `.2f`, the number will always be displayed with two decimal places of precision, rounding as necessary."
      ]
    },
    {
      "cell_type": "code",
      "metadata": {
        "id": "JLwfskiQQSVu"
      },
      "source": [
        "def print_receipt_line(name, price):\n",
        "    print(f'{name}: ${price:.2f}')"
      ],
      "execution_count": null,
      "outputs": []
    },
    {
      "cell_type": "markdown",
      "metadata": {
        "id": "ixoZ8kuw2Amd"
      },
      "source": [
        "### Improved formatting\n",
        "That formatting is pretty good, but we can do better. Receipts usually have the prices aligned with one another, so modify the function below to match the example formatting:\n",
        "```\n",
        "Rice 1kg            : $ 2.99\n",
        "Pasta sauce 500g    : $ 3.20\n",
        "Grass fed beef 2kg  : $32.99\n",
        "```\n",
        "\n",
        "Note:\n",
        " - The item names are left aligned so the colons (`:`) align, with a width of 20 characters.\n",
        " - The prices are right aligned so the decimal points align."
      ]
    },
    {
      "cell_type": "code",
      "metadata": {
        "id": "QlGLuOd72wNm",
        "outputId": "51fc720a-0d71-4d72-9001-62d80649746f",
        "colab": {
          "base_uri": "https://localhost:8080/"
        }
      },
      "source": [
        "def print_receipt_line(name, price):\n",
        "    # Modify this function to match the above formatting\n",
        "    print(f'{name:20s}: ${price:5.2f}')\n",
        "\n",
        "\n",
        "print_receipt_line('Rice 1kg', 2.99)\n",
        "print_receipt_line('Pasta sauce 500g', 3.20)\n",
        "print_receipt_line('Grass fed beef 2kg', 32.99)"
      ],
      "execution_count": 5,
      "outputs": [
        {
          "output_type": "stream",
          "name": "stdout",
          "text": [
            "Rice 1kg            : $ 2.99\n",
            "Pasta sauce 500g    : $ 3.20\n",
            "Grass fed beef 2kg  : $32.99\n"
          ]
        }
      ]
    },
    {
      "cell_type": "markdown",
      "metadata": {
        "id": "FO-OPgiJ2wNm"
      },
      "source": [
        "###### Solution"
      ]
    },
    {
      "cell_type": "markdown",
      "metadata": {
        "id": "PKXiRFBc6SX_"
      },
      "source": [
        "The name is left aligned with a width of 20 characters, and will work for all strings that are 20 characters or less. Although it's not asked in this question, have a think about how you might make it truncate longer item names. Hint: slicing!\n",
        "\n",
        "Additionally, the reason that the price format string uses the number `5` for its width is because it includes the entire number including the decimal point when calculating its width."
      ]
    },
    {
      "cell_type": "code",
      "metadata": {
        "id": "M5K93XrlQnT4"
      },
      "source": [
        "def print_receipt_line(name, price):\n",
        "    print(f'{name:20s}: ${price:5.2f}')"
      ],
      "execution_count": null,
      "outputs": []
    },
    {
      "cell_type": "markdown",
      "metadata": {
        "id": "OrKlYO3TR9BV"
      },
      "source": [
        "### Writing Text Files\n",
        "Instead of printing the receipt to the screen, we now desire that it is written to a text file. The previous solution has already been copied below, but requires some modification, following these steps:\n",
        "\n",
        " - Rename the function to `get_receipt_line`, and make it return the formatted receipt line instead of printing it.\n",
        " - Open a file called `receipt.txt` in write mode.\n",
        " - Write a receipt line to the file for each of the three products.\n",
        "   - You will need to manually add the newline `'\\n'` character for each line.\n",
        " - Close the file when you're done."
      ]
    },
    {
      "cell_type": "code",
      "metadata": {
        "id": "1JENuhkZ2w0q",
        "outputId": "4f3928f3-4754-4f05-87ea-a079ec0f7d37",
        "colab": {
          "base_uri": "https://localhost:8080/"
        }
      },
      "source": [
        "def print_receipt_line(name, price):\n",
        "    # Rename and modify this function so the string is returned instead of printed\n",
        "    print(f'{name:20s}: ${price:5.2f}')\n",
        "\n",
        "\n",
        "# Open the file\n",
        "file = open('receipt.txt', 'w')\n",
        "\n",
        "# Edit the following code to get the formatted receipt lines using your\n",
        "# modified function and write them to the file.\n",
        "print_receipt_line('Rice 1kg', 2.99)\n",
        "print_receipt_line('Pasta sauce 500g', 3.20)\n",
        "print_receipt_line('Grass fed beef 2kg', 32.99)\n",
        "\n",
        "# Close the file\n",
        "file.close()"
      ],
      "execution_count": 6,
      "outputs": [
        {
          "output_type": "stream",
          "name": "stdout",
          "text": [
            "Rice 1kg            : $ 2.99\n",
            "Pasta sauce 500g    : $ 3.20\n",
            "Grass fed beef 2kg  : $32.99\n"
          ]
        }
      ]
    },
    {
      "cell_type": "markdown",
      "metadata": {
        "id": "Lr9qijJG2w0r"
      },
      "source": [
        "###### Solution"
      ]
    },
    {
      "cell_type": "markdown",
      "metadata": {
        "id": "V907lzdh7jUi"
      },
      "source": [
        "Writing to a file is almost the same as printing to the screen. As long as you open and close the file appropriately, and remember to add newline characters where required."
      ]
    },
    {
      "cell_type": "code",
      "metadata": {
        "id": "5j9d3K6ASC_2"
      },
      "source": [
        "def get_receipt_line(name, price):\n",
        "    return f'{name:20}: ${price:5.2f}'\n",
        "\n",
        "file = open('receipt.txt', 'w')\n",
        "\n",
        "file.write(get_receipt_line('Rice 1kg', 2.99) + '\\n')\n",
        "file.write(get_receipt_line('Pasta sauce 500g', 3.20) + '\\n')\n",
        "file.write(get_receipt_line('Grass fed beef 2kg', 32.99) + '\\n')\n",
        "\n",
        "file.close()"
      ],
      "execution_count": null,
      "outputs": []
    },
    {
      "cell_type": "markdown",
      "metadata": {
        "id": "au3XnTpsSW5B"
      },
      "source": [
        "### Reading Text files\n",
        "Now that you have written a text file, let's read it back. In the below cell, open the file in read mode, the iterate over each line in the file with a for loop, printing out the contents of each line.\n",
        "\n",
        "When you're done, don't forget to close the file.\n",
        "\n",
        "_Recall that each line will end with a newline character, so slice off the last character when printing. There's an example in the workbook._"
      ]
    },
    {
      "cell_type": "code",
      "metadata": {
        "id": "CtB9UqVf2xPN"
      },
      "source": [
        "# Open and print the file contents here.\n",
        "file = open('receipt.txt', 'r')\n",
        "\n",
        "for line in file:\n",
        "    print(line[:-1])\n",
        "\n",
        "file.close()\n"
      ],
      "execution_count": 7,
      "outputs": []
    },
    {
      "cell_type": "markdown",
      "metadata": {
        "id": "wlwTzqqt2xPN"
      },
      "source": [
        "###### Solution"
      ]
    },
    {
      "cell_type": "markdown",
      "metadata": {
        "id": "UJdEM4vk737q"
      },
      "source": [
        "Reading a file like this is quite straightforward, provided that you remember to trim the newlines!"
      ]
    },
    {
      "cell_type": "code",
      "metadata": {
        "id": "p7u_5tXYSWJc"
      },
      "source": [
        "file = open('receipt.txt', 'r')\n",
        "\n",
        "for line in file:\n",
        "    print(line[:-1])\n",
        "\n",
        "file.close()"
      ],
      "execution_count": null,
      "outputs": []
    },
    {
      "cell_type": "markdown",
      "metadata": {
        "id": "_NzzGdJjT72-"
      },
      "source": [
        "### Checking for File Existence\n",
        "The receipt filename is currently a string literal in your program, thus you would need to modify your code in order to load a different file.\n",
        "\n",
        "Copy your previous solution into the cell below, and extend your program so that the user is asked for the receipt filename to read from. You should check that there is a file with this name before opening it. If not, you should tell the user that the file doesn't exist.\n"
      ]
    },
    {
      "cell_type": "code",
      "metadata": {
        "id": "E2dBlY572xlF",
        "outputId": "03d8f7f5-5c0d-4cfc-be6c-40cc1ec7a3b3",
        "colab": {
          "base_uri": "https://localhost:8080/"
        }
      },
      "source": [
        "# We need to import os to get access to os.path.isfile\n",
        "import os\n",
        "\n",
        "# Prompt the user for a filename\n",
        "filename = input('Enter receipt filename: ')\n",
        "\n",
        "# Open and print the file contents if it exists\n",
        "if os.path.isfile(filename):\n",
        "    file = open(filename, 'r')\n",
        "\n",
        "    for line in file:\n",
        "        print(line[:-1])\n",
        "\n",
        "    file.close()\n",
        "else:\n",
        "\n",
        "# Print an error message if it doesn't\n",
        "    print('Receipt file doesn\\'t exist!')"
      ],
      "execution_count": 8,
      "outputs": [
        {
          "output_type": "stream",
          "name": "stdout",
          "text": [
            "Enter receipt filename: filename\n",
            "Receipt file doesn't exist!\n"
          ]
        }
      ]
    },
    {
      "cell_type": "markdown",
      "metadata": {
        "id": "fnXz7hbJ2xlG"
      },
      "source": [
        "###### Solution"
      ]
    },
    {
      "cell_type": "markdown",
      "metadata": {
        "id": "EzSYF7OE8YyC"
      },
      "source": [
        "Checking for a file's existence is an example of [Defensive Programming](https://en.wikipedia.org/wiki/Defensive_programming). A good programmer will plan ahead for possible sources of program failure, and take steps to avoid it crashing. Checking for a file's existence is just the tip of the defensive programming iceberg!"
      ]
    },
    {
      "cell_type": "code",
      "metadata": {
        "id": "sPoO5bLPT2nA"
      },
      "source": [
        "import os\n",
        "\n",
        "filename = input('Enter receipt filename: ')\n",
        "\n",
        "if os.path.isfile(filename):\n",
        "    file = open(filename, 'r')\n",
        "\n",
        "    for line in file:\n",
        "        print(line[:-1])\n",
        "\n",
        "    file.close()\n",
        "else:\n",
        "    print('Receipt file doesn\\'t exist!')"
      ],
      "execution_count": null,
      "outputs": []
    },
    {
      "cell_type": "markdown",
      "metadata": {
        "id": "MbogxiJKcZkt"
      },
      "source": [
        "## Bonus Tasks\n",
        "This bonus task incorporates much of what you have learnt in this lab, so it's strongly recommended that you complete it to neatly wrap up today's content."
      ]
    },
    {
      "cell_type": "markdown",
      "metadata": {
        "id": "AsyUy_ydSolg"
      },
      "source": [
        "### Receipt Processing Program\n",
        "\n",
        "For this bonus task, you will produce a program that asks a user for a receipt filename, reads the file, counts the number of items in the file, and reports their total price.\n",
        "\n",
        "You can reuse a large amount of the code from the previous solution, but there is still one very tricky part to the task.\n",
        "\n",
        "You will need to extract the price from each line in the file, as the item name and price are combined in a single string. You already have all of the tools in your toolbelt, but here are a couple of hints:\n",
        " - You'll need to `find` the dollar symbol to know where to perform slicing.\n",
        " - Prices will need to be converted to a float in order to be aggregated.\n",
        "\n",
        "Example run 1:\n",
        "```\n",
        "Enter receipt filename: receipt.txt\n",
        "Rice 1kg            : $ 2.99\n",
        "Pasta sauce 500g    : $ 3.20\n",
        "Grass fed beef 2kg  : $32.99\n",
        "3 items\n",
        "Total price         : $39.18\n",
        "```\n",
        "\n",
        "Example run 2:\n",
        "```\n",
        "Enter receipt filename: abc.txt\n",
        "Receipt file doesn't exist!\n",
        "```"
      ]
    },
    {
      "cell_type": "code",
      "metadata": {
        "id": "znwqfycsSsjN"
      },
      "source": [
        "# Write your receipt processing program here"
      ],
      "execution_count": null,
      "outputs": []
    }
  ]
}