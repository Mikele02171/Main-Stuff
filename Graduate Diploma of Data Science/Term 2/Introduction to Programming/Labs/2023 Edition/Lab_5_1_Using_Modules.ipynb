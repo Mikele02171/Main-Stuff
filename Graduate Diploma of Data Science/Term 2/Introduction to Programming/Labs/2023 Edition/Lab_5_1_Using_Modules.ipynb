{
  "nbformat": 4,
  "nbformat_minor": 0,
  "metadata": {
    "colab": {
      "provenance": [],
      "collapsed_sections": [
        "Xc1pDZLPktzt",
        "hfgVkBoSk9c3",
        "5dC473kgk9ri",
        "5yfGrWnNk-JX",
        "TybA4Yd5rTEI",
        "iAkeGUkKt1zw",
        "t3ivE-ODvXuc",
        "4-RIBbmyk-DS"
      ],
      "toc_visible": true
    },
    "kernelspec": {
      "name": "python3",
      "display_name": "Python 3"
    }
  },
  "cells": [
    {
      "cell_type": "markdown",
      "metadata": {
        "id": "D39TWnp-kmk1"
      },
      "source": [
        "# Lab 5.1 - Using Modules\n",
        "Modules add to a programmer's toolkit and are an important part of most modern programming languages. In this lab we'll practice importing and using modules from the Python Standard Library, as well as some produced by 3rd parties."
      ]
    },
    {
      "cell_type": "markdown",
      "metadata": {
        "id": "mCmT5JMikt4x"
      },
      "source": [
        "## Programming Exercises"
      ]
    },
    {
      "cell_type": "markdown",
      "metadata": {
        "id": "XwJY3C8Bkt2S"
      },
      "source": [
        "### The `math` Module\n",
        "We will begin by importing a module that was introduced in the workbook. The `math` module has an extensive collection of mathematical functions which are detailed in the [documentation](https://docs.python.org/3/library/math.html). Although only one of the functions will be used in this task, it is recommended that you read through the documentation at a later stage so you're aware of what is offered.\n",
        "\n",
        "#### Orbital Velocity Calculator\n",
        "To maintain a stable orbit around a large body (like Earth), there is an equation which relates the orbit height and velocity. In this task you are to write a function which calculates the velocity required to orbit Earth at a given distance.\n",
        "\n",
        "The formula for orbital velocity is given below, where $G$ is the gravitational constant, $M$ is the mass of the large body (Earth, in this case), and $r$ is the distance between the centre of the body and the satellite.\n",
        "\n",
        "$v = \\sqrt{\\frac{GM}{r}}$\n",
        "\n",
        "The constants have already been initialised for you, as well as another couple of interesting orbit distances.\n",
        "\n",
        "In the next cell, define a function called `orbital_velocity` which takes the distance ($r$ in the equation) and returns the velocity required for stable orbit.\n",
        "\n",
        "_Hint: You'll need to use a function from the math module._"
      ]
    },
    {
      "cell_type": "code",
      "metadata": {
        "id": "2LgXwa2AcaZt",
        "outputId": "88a4db1c-b43f-4ac4-e778-2995137dc90b",
        "colab": {
          "base_uri": "https://localhost:8080/"
        }
      },
      "source": [
        "G = 6.67430e-11\n",
        "EARTH_MASS = 5.972e24\n",
        "EARTH_RADIUS = 6378000\n",
        "MOON_DISTANCE = 406000000\n",
        "\n",
        "# Write your solution here\n",
        "import math\n",
        "\n",
        "def orbital_velocity(orbit_distance):\n",
        "    return math.sqrt((G * EARTH_MASS) / orbit_distance)\n",
        "\n",
        "\n",
        "print(orbital_velocity(EARTH_RADIUS))  # At earth's surface - 7.9km/s\n",
        "print(orbital_velocity(8400000))       # Low earth orbit - 6.9km/s\n",
        "print(orbital_velocity(42000000))      # Geostationary - 3.1km/s\n",
        "print(orbital_velocity(MOON_DISTANCE)) # Moon's orbit - 1km/s"
      ],
      "execution_count": 2,
      "outputs": [
        {
          "output_type": "stream",
          "name": "stdout",
          "text": [
            "7905.339102657299\n",
            "6888.47550346989\n",
            "3080.6198974201525\n",
            "990.8313621284602\n"
          ]
        }
      ]
    },
    {
      "cell_type": "markdown",
      "metadata": {
        "id": "Xc1pDZLPktzt"
      },
      "source": [
        "###### Solution"
      ]
    },
    {
      "cell_type": "markdown",
      "metadata": {
        "id": "G80Qbdx5ktxO"
      },
      "source": [
        "The function is so short that it can be implemented in just two lines - and we have the math module to thank for it. Calculating square roots is a notoriously difficult and computationally expensive task, so it's ideal to use an implementation written by experts!"
      ]
    },
    {
      "cell_type": "code",
      "metadata": {
        "id": "lXpkCg5PkF31"
      },
      "source": [
        "import math\n",
        "\n",
        "def orbital_velocity(orbit_distance):\n",
        "    return math.sqrt((G * EARTH_MASS) / orbit_distance)"
      ],
      "execution_count": null,
      "outputs": []
    },
    {
      "cell_type": "markdown",
      "metadata": {
        "id": "nM0fG9Rhk9c1"
      },
      "source": [
        "### Guessing Game\n",
        "The following cell contains code for a guessing game where the computer picks a random number between 1 and 20, and it's the user's job to guess it. However, a core game mechanic is currently broken - the computer always picks the same number!\n",
        "\n",
        "You are to fix the program, referring to the [Python Standard Library documentation](https://docs.python.org/3/library/index.html). There are no hints for this task, just read through the documentation and find an appropriate module, then find an appropriate function within that module and use it.\n",
        "\n",
        "_Fine, one tiny hint: You can always use `<ctrl>+f` to search for text in a webpage._"
      ]
    },
    {
      "cell_type": "code",
      "metadata": {
        "id": "fV5nYLJ_k9c2",
        "outputId": "b032141a-af4a-478d-d695-a3372a20cbbd",
        "colab": {
          "base_uri": "https://localhost:8080/"
        }
      },
      "source": [
        "import random\n",
        "\n",
        "number_to_guess = random.randint(1, 20) # Replace with a randomly-generated integer\n",
        "\n",
        "guess = -1\n",
        "while guess != number_to_guess:\n",
        "    guess = int(input('Guess a number: '))\n",
        "    if guess < number_to_guess:\n",
        "        print('Too low!')\n",
        "    elif guess > number_to_guess:\n",
        "        print('Too high!')\n",
        "    \n",
        "print('You got it!')"
      ],
      "execution_count": 4,
      "outputs": [
        {
          "output_type": "stream",
          "name": "stdout",
          "text": [
            "Guess a number: 1\n",
            "Too low!\n",
            "Guess a number: 20\n",
            "Too high!\n",
            "Guess a number: 10\n",
            "Too low!\n",
            "Guess a number: -1\n",
            "Too low!\n",
            "Guess a number: 5\n",
            "Too low!\n",
            "Guess a number: 8\n",
            "Too low!\n",
            "Guess a number: 9\n",
            "Too low!\n",
            "Guess a number: 14\n",
            "Too low!\n",
            "Guess a number: 18\n",
            "Too high!\n",
            "Guess a number: 17\n",
            "Too high!\n",
            "Guess a number: 15\n",
            "Too low!\n",
            "Guess a number: 16\n",
            "You got it!\n"
          ]
        }
      ]
    },
    {
      "cell_type": "markdown",
      "metadata": {
        "id": "hfgVkBoSk9c3"
      },
      "source": [
        "###### Solution"
      ]
    },
    {
      "cell_type": "markdown",
      "metadata": {
        "id": "GE6URM5Fk9c3"
      },
      "source": [
        "Much like in the previous exercise, the solution is very easy - if you can find the right module and function. Reading documentation is a skill that is developed over time, and saves a lot of headaches and time in the long run.\n",
        "\n",
        "Note that the end values (1 and 20) are included in the randomly generated numbers, which is specified in the documentation where it states:\n",
        "> Return a random integer N such that `a <= N <= b`"
      ]
    },
    {
      "cell_type": "code",
      "metadata": {
        "id": "t0M_1R8Rk9c3"
      },
      "source": [
        "import random\n",
        "\n",
        "number_to_guess = random.randint(1, 20)"
      ],
      "execution_count": null,
      "outputs": []
    },
    {
      "cell_type": "markdown",
      "metadata": {
        "id": "mWx-3MXBk9rh"
      },
      "source": [
        "### Contact Organiser\n",
        "In the below cell is a class which performs basic contact organisation. It maintains a list of names and phone numbers, which can be added to and printed to the screen. Your task is to implement the `load` and `save` functions, which read and write the contact details to file in JSON format.\n",
        "\n",
        "When loading the file, you should check that the file exists before attempting to read it. The file contents should be read as JSON, and should replace the `contact_list` instance variable. You can save the file without checking for the file existance, as it's our intention to overwrite it anyway. \n",
        "\n",
        "To test your program, you'll need to run it a few times. Each time you run the program, the contacts should be carried over from the previous time.\n",
        "\n",
        "_Hint: You should refer to the \"Reading from a JSON File\" and \"Writing to a JSON File\" sections of the workbook for examples._"
      ]
    },
    {
      "cell_type": "code",
      "metadata": {
        "id": "n277HDz4k9rh",
        "outputId": "f0433ee2-71ce-4690-e73c-d57a6ac775be",
        "colab": {
          "base_uri": "https://localhost:8080/"
        }
      },
      "source": [
        "class Contacts:\n",
        "    def __init__(self, filename):\n",
        "        self.filename = filename\n",
        "        self.contact_list = []\n",
        "\n",
        "    def print_contacts(self):\n",
        "        print('Contacts:')\n",
        "        for contact in self.contact_list:\n",
        "            print(f'\\t{contact[\"name\"]}: {contact[\"phone\"]}')\n",
        "    \n",
        "    def add_contact(self, name, phone):\n",
        "        self.contact_list.append({'name': name, 'phone': phone})\n",
        "\n",
        "    def load(self):\n",
        "        # Load the contacts from file, if it exists\n",
        "        pass\n",
        "\n",
        "    def save(self):\n",
        "        # Save the contacts to file\n",
        "        pass\n",
        "\n",
        "\n",
        "contacts = Contacts('contacts.json')\n",
        "contacts.load()\n",
        "\n",
        "adding_contacts = True\n",
        "while adding_contacts:\n",
        "    name = input('Name: ')\n",
        "    phone = input('Phone number: ')\n",
        "    contacts.add_contact(name, phone)\n",
        "    adding_contacts = input('Add another? (y/n): ').lower() == 'y'\n",
        "\n",
        "contacts.print_contacts()\n",
        "contacts.save()"
      ],
      "execution_count": 5,
      "outputs": [
        {
          "output_type": "stream",
          "name": "stdout",
          "text": [
            "Name: Michael\n",
            "Phone number: 0469369749\n",
            "Add another? (y/n): n\n",
            "Contacts:\n",
            "\tMichael: 0469369749\n"
          ]
        }
      ]
    },
    {
      "cell_type": "markdown",
      "metadata": {
        "id": "5dC473kgk9ri"
      },
      "source": [
        "###### Solution"
      ]
    },
    {
      "cell_type": "markdown",
      "metadata": {
        "id": "iQhBwXEAk9ri"
      },
      "source": [
        "It's worth noting that the two imports were added at the top of the file even though they are only used in two functions. This is a good practice as it tells Python which modules are required before they are encountered during program execution.\n",
        "\n",
        "If we try to run code which depends on modules that aren't installed, the program will fail immediately rather than only when those modules are encountered at some point during execution."
      ]
    },
    {
      "cell_type": "code",
      "metadata": {
        "id": "zf7fmxoEk9ri"
      },
      "source": [
        "import os\n",
        "import json\n",
        "\n",
        "class Contacts:\n",
        "    def __init__(self, filename):\n",
        "        self.filename = filename\n",
        "        self.contact_list = []\n",
        "\n",
        "    def print_contacts(self):\n",
        "        print('Contacts:')\n",
        "        for contact in self.contact_list:\n",
        "            print(f'\\t{contact[\"name\"]}: {contact[\"phone\"]}')\n",
        "    \n",
        "    def add_contact(self, name, phone):\n",
        "        self.contact_list.append({'name': name, 'phone': phone})\n",
        "\n",
        "    def load(self):\n",
        "        # Load the contacts from file, if it exists\n",
        "        if os.path.isfile(self.filename):\n",
        "            file = open(self.filename, 'r')\n",
        "            self.contact_list = json.load(file)\n",
        "            file.close()\n",
        "\n",
        "    def save(self):\n",
        "        # Save the contacts to file\n",
        "        file = open(self.filename, 'w')\n",
        "        json.dump(self.contact_list, file)\n",
        "        file.close()\n",
        "\n",
        "\n",
        "contacts = Contacts('contacts.json')\n",
        "contacts.load()\n",
        "\n",
        "adding_contacts = True\n",
        "while adding_contacts:\n",
        "    name = input('Name: ')\n",
        "    phone = input('Phone number: ')\n",
        "    contacts.add_contact(name, phone)\n",
        "    adding_contacts = input('Add another? (y/n): ').lower() == 'y'\n",
        "\n",
        "contacts.print_contacts()\n",
        "contacts.save()"
      ],
      "execution_count": null,
      "outputs": []
    },
    {
      "cell_type": "markdown",
      "metadata": {
        "id": "vZOJyjqgk97w"
      },
      "source": [
        "### Installing 3rd Party Packages\n",
        "The three packages we've used until now (`math`, `os`, `json`) are part of the Python Standard Library, and are included with your Python installation. We'll now install a couple of packages that are made by 3rd parties.\n",
        "\n",
        "Run the below cell to install Pandas and Matplotlib using pip. This will also install any packages on which they depend, and will print a message to the screen notifying you of its progress.\n",
        "\n",
        "Normally you would enter this command in your system console, but as we're working in notebooks, the exclamation mark (!) causes the line to be interpreted as a _shell_ command instead of Python code."
      ]
    },
    {
      "cell_type": "code",
      "metadata": {
        "id": "NLB0XJcHk97w",
        "outputId": "2e09d742-cca0-40e0-8c3f-ecc353546f93",
        "colab": {
          "base_uri": "https://localhost:8080/"
        }
      },
      "source": [
        "# Run this cell\n",
        "!pip install pandas matplotlib"
      ],
      "execution_count": 6,
      "outputs": [
        {
          "output_type": "stream",
          "name": "stdout",
          "text": [
            "Looking in indexes: https://pypi.org/simple, https://us-python.pkg.dev/colab-wheels/public/simple/\n",
            "Requirement already satisfied: pandas in /usr/local/lib/python3.9/dist-packages (1.4.4)\n",
            "Requirement already satisfied: matplotlib in /usr/local/lib/python3.9/dist-packages (3.7.1)\n",
            "Requirement already satisfied: numpy>=1.18.5 in /usr/local/lib/python3.9/dist-packages (from pandas) (1.22.4)\n",
            "Requirement already satisfied: python-dateutil>=2.8.1 in /usr/local/lib/python3.9/dist-packages (from pandas) (2.8.2)\n",
            "Requirement already satisfied: pytz>=2020.1 in /usr/local/lib/python3.9/dist-packages (from pandas) (2022.7.1)\n",
            "Requirement already satisfied: contourpy>=1.0.1 in /usr/local/lib/python3.9/dist-packages (from matplotlib) (1.0.7)\n",
            "Requirement already satisfied: packaging>=20.0 in /usr/local/lib/python3.9/dist-packages (from matplotlib) (23.0)\n",
            "Requirement already satisfied: pillow>=6.2.0 in /usr/local/lib/python3.9/dist-packages (from matplotlib) (8.4.0)\n",
            "Requirement already satisfied: importlib-resources>=3.2.0 in /usr/local/lib/python3.9/dist-packages (from matplotlib) (5.12.0)\n",
            "Requirement already satisfied: fonttools>=4.22.0 in /usr/local/lib/python3.9/dist-packages (from matplotlib) (4.39.2)\n",
            "Requirement already satisfied: kiwisolver>=1.0.1 in /usr/local/lib/python3.9/dist-packages (from matplotlib) (1.4.4)\n",
            "Requirement already satisfied: cycler>=0.10 in /usr/local/lib/python3.9/dist-packages (from matplotlib) (0.11.0)\n",
            "Requirement already satisfied: pyparsing>=2.3.1 in /usr/local/lib/python3.9/dist-packages (from matplotlib) (3.0.9)\n",
            "Requirement already satisfied: zipp>=3.1.0 in /usr/local/lib/python3.9/dist-packages (from importlib-resources>=3.2.0->matplotlib) (3.15.0)\n",
            "Requirement already satisfied: six>=1.5 in /usr/local/lib/python3.9/dist-packages (from python-dateutil>=2.8.1->pandas) (1.16.0)\n"
          ]
        }
      ]
    },
    {
      "cell_type": "markdown",
      "metadata": {
        "id": "uy9wz77tk-JW"
      },
      "source": [
        "### Basic Matplotlib\n",
        "For this next task you are to plot a graph of orbital velocites at different distances from Earth. Code has already been written to calculate the orbital velocities for a range of distances (using the function you wrote earlier), so all that's left is to actually plot it using Matplotlib.\n",
        "\n",
        "Referring to the examples in the \"Plotting With Matplotlib\" section of the workbook, plot a graph such that it looks like the below. It consists of:\n",
        " - The plotted data\n",
        " - A title\n",
        " - An x-axis label\n",
        " - A y-axis label\n",
        "\n",
        "\n",
        "![image.png](data:image/png;base64,iVBORw0KGgoAAAANSUhEUgAAAY0AAAENCAIAAAB8da5eAAAgAElEQVR4Ae2dCVgUx9b3TTTPVUElote8MToMA4jsaoC4okiUBJckAkajIS5xjTeL4uCKKxpRg1GMXBUQfdG4xWVYXVBRdjcEF5RdQIFhXwZmput7oJL++h2mmgFmmAFOP3lMdfWpqlO/6vOnu6e7qhuCDQgAASCg2QS6abZ74N3fBDIzM7t16yYWi1tEREtLKz09vUVFVG28c+fORYsWta4VOzu7o0ePtq5sK0pFRUUNHjy4acGlS5du27atab6KcjgczrVr11RUeUepFnRKbSM1derUTZs2MZu/dOnSoEGD5IpR63SKrtzNzW3Dhg30brMJDofTs2dPLS2tQYMGubm5VVZWNlukHQzk6pSnp+c333zTotbv3bs3adIkbW3tvn37Tps2LTU1VW5xkk7RxiwGbm5u7733ntY/m4WFBV2q2YTMYIFOIYRAp5o9bVRlEBwczOVyKYqiG5g1a9Yvv/xC7zIT7a9T+G94QUGBhYXF+vXrmc4oPS1Xmpu2ohSdiomJ0dLS8vHxqaioEAqFGzZs0NHRaXrVKRaLWWQI+8ZiIKM1TftCypFIJDJlQadAp0hnS3vk19TU9O3b9/bt27ixkpKSf/3rX48ePZJKpbt27dLX1+/fv7+Li4tQKEQIMXUqLy9v+vTp77//Po/H++9//4uLSySSnTt36uvra2trjxw5Micnp2F0u3V7+fKln59fjx498J/3adOm7dmz56uvvqJ7uGrVqv/85z/0Lk4wY8Pd3f3zzz/H+bGxsaNHj+7Xr5+FhUVUVBTOzMjImDBhgra2toODw8qVK/HVjUwM0xXSlz+4R8eOHRsyZMj48eMRQsePHzc2NtbR0ZkyZUpWVhauPDIyctiwYX379l25cuWECRNk7vvCwsLee++9Hj16aGlp4WsWuXBwVfjfcePGLV++nJnj6Og4f/58hBD2effu3YMGDZo3bx7e3blzp66uLofDOXXqFC6FdaSqqqpnz57vvPMOvmbKy8tj1imjNfQhZ2fnQYMG9e3bd/z48SkpKXSFy5Yt++yzz3r37i0zWAghDofj7e1tbm7et29fV1fX2tpaurauk4DrKXWO9eLFi+mHNUeOHLG0tEQI+fj42Nra5ubmikSiJUuWfP311zI6NX78+OXLl9fW1j58+HDAgAE3btxACO3Zs8fMzOz58+cURT169Ki4uJjWKYQQM2zy8/N79+5dWlqKEBKLxQMHDkxKSpKhQMtKbm6umZkZFrLXr1/3798/JCREKpVGRkb279+/sLAQIfTJJ5/8/PPPIpHo9u3b2traLdKp+fPnV1VV1dTUXLp0icfjPX36VCwWb9++ffTo0QihoqIibW3tc+fO1dfX79+/v3v37jI6hRCihQ93QS4cunfV1dXvvvvuzZs36RyEkL+//wcffIB1qnv37mvXrhWJRDU1NVFRUd27d8ddu3XrVu/evZ8/f86EKaPFzDqZwJn5x48fr6ioEIlEP/74Ix5uXGHfvn3v3r0rlUpra2tlynI4HGtr67y8PKFQaGxs/McffzAr7CJp0Cl1DnR0dHS/fv3wX8gxY8bs378fIWRsbHz9+nXsVn5+fo8ePcRiMX09lZOT8+6771ZUVGADDw8PNzc3hJCRkdGlS5dkOoOvp5ihhQ0cHR3xhdjVq1eHDx8uUwr/DdfS0tLW1u7WrZu9vT0Wtd27d8+bN482njJlSmBgYHZ2dvfu3auqqnD+nDlzWqRT9A2Xo6PjsWPHcCVSqbRXr15ZWVknTpywtbXFmRRFDR48mF2nSHBon3Nzc7t16/bs2TM6ByEUFhbWo0cPrFPvvfcefcGCdYrumouLC358TusIu07961//6vfP9u233zJbRAiVlpZ269atrKwMjw6+oMM2dP14l8PhnDx5Eqfd3d2XLl0qU1VX2AWdUvMo83i806dPv3r1qkePHm/evEEI9erVq0+fPv+c4f3+9a9/vX79mtapuLi4AQMG0E7/8ccfDg4OuNSTJ0/ofJwg6dTp06cnTJiAEJo9e7aXl5dMKaxT+PnUrVu3Pvzww5cvXyKEli9fzoy93r1779q1KzY2lumPh4dHi3Sqvr4etz58+HAtLS261z179rx3796uXbucnZ1p9z755BN2nSLBoWuoqqpiv5768MMPaeOoqChm19asWbNs2TKm6LPrVNMfLiQSCZ/P19fXx+PbrVu3V69e4QqZTwCb6hT9e5/MxSPtaqdPgE6peYi3bt362WefbdmyxcnJCbtiZGR09+5dGbdonZK5ZFi3bp0i11PfffcdM2xqa2t1dHSePHmipaWVnZ0t0xZTpxBC69evnzlzJkLIy8tr8eLFMsZZWVnM66m5c+dinUpISHj//fexsUQi6d27Nw42OtLoHmGbKVOm0A+A6CYCAwObvZ7asmULbhEhRIJDV4gQGjt2bNPnU3K1VeZ6ytXVVeZ66tatW3JfXGBqGbPpoKAgY2PjjIwMiqLw9RT+AyAjTDKDRd+DN73JZVbeudOgU2oe38zMzPfee2/w4MFnz57Fruzfv9/Ozg4/SC4sLMR3c8yoHjdu3MqVK2trax8/fvzvf/8bx/+ePXvMzc3T0tIoinr8+LHM8yk+nz9nzhxmVxcvXmxubj5p0iRmJp1mxkZhYWHv3r0fPXqUk5MzaNCg8PBwiURSW1sbFRWVm5uLELK1tV29enVdXV10dHSfPn1wzJeVlfXq1UsgENTX12/ZsqV79+7sOnXx4kVTU1P8aLmsrAzTwM+nLly4IBaLfXx85D6f+uOPP8aOHSuVSrHzcuHQ/UIIRUdH9+7d+8CBAxUVFSUlJRs2bOjXr19aWhr9HJ02xjqFu3bnzp3evXvjG0ZaVp49e9azZ09870aXwgnahpnv6+traWlZXl5eVVW1fPly0tWuzGAxx4JWeWa1XSENOqX+Ubazs9PR0RGJRNgVqVS6b98+IyMjbW1tfX39devWyTxHz83NdXJyev/99/X19emnqhKJZPv27Xp6etra2h9//DFWEDoS0tLSLC0t+/Xrh6+McLh269bN399fbv+ZsYEQWrZsGf6JMC4ubsKECe+///6AAQM+//xzfC2Wnp4+btw4LS0t5u99CKGAgIAPPvhg4MCB3t7edIV0pDGVF/sQFBRkZmbWp0+fjz76aMGCBTgzLCzM0NCQ9HsfQqi4uHjs2LE6OjojRoxACMmFI9PH6OhoOzs7LS2tPn36fP755/T9ssx9HN7dsWOHrq7ukCFDgoKCcD1MDVqwYEH//v379evX9Pc+5vtTurq6CKHKysoZM2Zoa2sPHTr0xIkT9OgwK0QIyQwWjQ6up2TGEXY7P4Hs7OxevXqVl5crt6u0DCm3WqitixOA66mueAJIpdIff/yRvmZRIgLQKSXChKpoAqBTNIqukqiqqtLS0jIxMcHvgiq326BTyuUJtWECoFNwJgABIKDpBECnNH2EwD8gAAQ6gE7p6uqOgg0IAIEuQID5Yi1TnTuATo0aNYrpMaSBABDorARIwQ461VlHHPoFBDoeAdCpjjdm4DEQ6GoEVK5T+/fvNzExMTU1/frrr2trazMyMmxsbHg8nqura11dHUJIJBK5urryeDwbG5vMzEw8AF5eXjwez8jIKDw8nDQkJNdJ9pAPBIBAByVACnbl3Pe9fv1aT0+vpqYGIeTi4hIQEODi4nL69GmE0NKlSw8fPowQ8vX1xVNSnD592tXVFSGUmppqYWEhEokyMjL09fUlEolcuCTX5RpDJhAAAh2XACnYlaZTH330kVAoFIvFTk5O4eHhurq6eDLZmJiYKVOmIISmTJkSExOD52bT1dWlKMqrccNM6aNNEZNcb2oJOUAACHRoAqRgV45O4VkotbS0BgwYMHfu3KKiIh6Ph3nl5OSYmpoihExNTfHHsQghfX39oqKilStX0hOALVy48Ny5c3IRk1yXawyZQAAIdFwCpGBXjk6VlJRMmjSpsLCwvr5+5syZJ0+ebLtO+fn54fdFhg4d2nG5g+dAAAgoTkC1OnX27NmFCxdib06cOLFs2TK13Pflldbsi3ieUfT3HLiK0wFLIAAENIGAanUqLi7OxMSkurqaoqhvv/32999/d3Z2pp+j+/r6IoQOHTpEP0d3cXFBCKWkpNDP0blcbtufoyfnlnH4gsjUhtl7YQMCQKDDEVCtTiGENm/ePGzYMFNT03nz5olEovT0dGtrax6P5+zsjGeAq62tdXZ25vF41tbW9Oz9O3bs0NfXNzIyCg0NJTElud7UPr2wksMXXHr4uukhyAECQEDzCZCCXTnPp1Taf5LrTRt9U17L4QtOxf299FtTA8gBAkBAkwmQgr1T6VSlSMzhC/xuN6zhARsQAAIdjkCX0CmplOLwBfsjX3S44QGHgQAQQAh1CZ1CCA3fFLb9aioMORAAAh2RQFfRqVHbr3lcSO6IIwQ+AwEg0FV0ym7PzVXBD2C8gQAQ6IgEuopOfeZzZ1FgQkccIfAZCACBrqJTLn/EzPZr+NoZNiAABDocga6iU9/5x0/7PbrDDQ84DASAQBf6vW/F/96ftDcKhhwIAIGOSKCrXE+tPffYZue1jjhC4DMQAAJdRae2XEkx20ycwhjOAyAABDSZQFfRqb0Rz7keAoqiNHkwwDcgAATkEugqOnU46hWHL6ipkz/Vulw0kAkEgICGEOgqOhUUk8nhCworRBrCHdwAAkBAcQJdRafOJ+Vy+IJMmNJT8VMDLIGAxhDoKjoV9qSAwxc8eV2mMeTBESAABBQl0FV06u7LIg5fEJterCgYsAMCQEBjCHQVncJTpEekFGgMeXAECAABRQl0FZ3KKq7i8AXnknIVBQN2QAAIaAyBrqJTpdV1HL7geHSGxpAHR4AAEFCUgGp16vnz55b/bH369Pntt9+EQqGDg4OBgYGDg0NJSQlCiKKoVatW8Xg8c3Pz+/fvY8cDAwMNGrfAwEBSV0iuy7UXS6QcvuC3azD1sFw8kAkENJoAKdiVvI6DRCIZNGhQVlaWu7v7rl27EEK7du1au3YtQigkJMTR0ZGiqNjYWBsbG4SQUCjkcrlCobCkpITL5WI5a0qR5HpTS5xjujl86xWYepiEB/KBgOYSIAW7knUqIiJizJgxCCEjI6P8/HyEUH5+vpGREUJoyZIlwcHBmBA+GhwcvGTJEpzDPCpDkeS6jBm9O9rr+uqzj+hdSAABINBRCJCCXck6tWDBgoMHDyKE+vXrh9FQFIXTTk5O0dF/zwxlb2+fmJjo7e29fft2bLZt2zZvb28mTT8/v1GN29ChQ5n5zaan/nb7+xOJzZqBARAAAppGoD10qq6uTldX982bhmXTaZ1CCOno6CCEWqpTNEGS67SBTAKm9JQBArtAoKMQIAW7Mq+nLl269Omnn2IiarzvWxSY8JnPnY4yMOAnEAACNIH20KnZs2f7+/vjJtesWUM/R3d3d0cICQQC+jm6tbU1fo6up6dX0rjp6ekJhULaXWaC5DrThpn++czDsbtvMHMgDQSAQIcgQAp2pV1PVVVV9e/fv6zs7w/riouL7e3tDQwMJk+ejAWIoqgVK1bo6+ubmZklJv79/Oj48eO8xo0WuKY0Sa43tcQ5npdTzD1hqjwSHsgHAppLgBTsStMp1XWd5DqpxX0Rz/U8BFIpTJVHIgT5QEBDCZCCvRPq1NE76Ry+oLy2XkOHAtwCAkCAQKAL6dSfCTkcviC3pJqAArKBABDQUAJdSKfwFFQpeTAFlYaei+AWECAR6EI6FZdezOEL7r4sIrGAfCAABDSTQBfSqbQ3FRy+4MqjPM0cCfAKCAABEoEupFNFlSIOX3AiJpPEAvKBABDQTAJdSKfw1C77I2FqF808FcErIEAk0IV0CiFksSVi06UnRBhwAAgAAY0k0LV0apJ31Mr//XsqPo0cDnAKCAABOQS6lk59dfje3KOxcjBAFhAAAhpMoGvp1KLAxKm/3dbg4QDXgAAQkEOga+mU+7lHNjuvycEAWUAACGgwgRbrVExMzIoVK8zNzQcMGDBkyJDPPvvs0KFD9HQI7dlTkussPniFPjVcH0pR8CkyCyQ4BAQ0jgAp2OV/h+zo6Lhw4cLLly/n5eWJxeLKysr79+/v3bvXzs7u8uXL7dw5kussbhy59YrDF1SKxCw2cAgIAAFNI0AKdvk6VVRE/OiE5ZCK+kxynaW5s4kNnyLnCOFTZBZIcAgIaBwBUrDL1ynsflVVlVQqRQi9ePHi8uXL9fXqmSmF5DoL4+tP33D4goc5pSw2cAgIAAFNI0AKdjadGjlyZHV19evXrzkcjrOz89y5c9XSK5LrLM48yC7h8AXXnzasKAEbEAACHYUAKdjZdGrEiBEIod9///3XX39FCFlaWqqltyTXWZx5XVrD4QuC47NZbOAQEAACmkaAFOxsOmVlZRUTE2Nra5uSkoIQMjMzU0uvSK6zOCMSSzh8gc+1NBYbOAQEgICmESAFO5tO3bp1a/r06bt370YIpaenr1q1Si29IrnO7ozl1oj1F5PZbeAoEAACGkWAFOzydcrLy+vBgwct6kBpaemsWbOGDRtmbGwcExMjFAodHBwMDAwcHBxKSkoQQhRFrVq1isfjmZub37//98d3gYGBBo1bYGAgqTmS6yR7nP/p/luLYVVkdkZwFAhoGAFSsMvXqTNnzri5uVlZWbm5uZ05cwYLDXuPvv3226NHjyKE6urqSktL3d3d6fX71q5dixAKCQmh1++zsbHB6/dxuVyhUFhSUsLlckmtkFxn9+ebo3EzDt1lt4GjQAAIaBQBUrDL1yna9QcPHnh5eU2cOHH8+PFbt26Nj4+nDzETZWVlenp6zPe/1bgeMnbs5zMPx+yC1UaZowRpIKDpBFqpU3S3ysvLz58///3339M5zMTDhw+tra3xJdiiRYuqqqr69euHDSiKwmknJ6fo6GicaW9vn5iY6O3tvX37dpyzbds2b29vZp1+fn6jGrehQ4cy8xVMw6czCoICMyCgOQRao1MSieTy5csHDhzY989G6k9iYmL37t3j4uIQQv/5z382btxI6xRCSEdHByHUUp2i2yK5ThvITRyLzuDwBSVVdXKPQiYQAAIaSIAU7Gz3fZ999tmXX365efPmLY3b1q1bSR0rKCjgcDj46J07dz7//HO13/ddeZTH4QueF1SQfIZ8IAAENI1Aa3TK3Nxc8W6MGzfu+fPnCCFPT881jRv9HN3d3R0hJBAI6Ofo1tbW+Dm6np5eSeOmp6cnFArlNkdyXa4xnYlXx7qTVkjnQAIIAAENJ0AKdrbrqbVr10ZERCjYsYcPH44aNcrc3HzmzJklJSXFxcX29vYGBgaTJ0/GAkRR1IoVK/T19c3MzBITE3G1x48f5zVu/v7+pIZIrpPscX5GURWHLziflMtuBkeBABDQHAKkYGfTqYsXL/bu3btnz559+vTR1tbu06ePWvpDcp3dmZq6hlfSD918yW4GR4EAENAcAqRgZ9MpPT29x48fM982UEt/SK4368yIbZEeF+CV9GY5gQEQ0BQCpGBn06nx48fjeV3U2wmS6816Ne336G+Py3/hq9myYAAEgED7EyAFO5tOubm5jR8/3svL65/XEva1v98IIZLrzTqzJCjRYd+tZs3AAAgAAQ0hQAp2Np3CryMw/1VLZ0iuN+vM1iupwzeFqf2+tVk/wQAIAAFMgBTsbDqlIexIrjfr3tE76Ry+oLQaXvVsFhUYAAGNIEAKdvk6tXjx4uRk2SfQVVVVx48fP3XqVDt3iOR6s26EPcnn8AUpeWXNWoIBEAACmkCAFOzyderhw4cuLi7GxsbOzs7Lly9fsGDBuHHjLCwsfHx8RCJRO/eH5HqzbjzOLeXwBREpBc1aggEQAAKaQIAU7PJ1CntcWVkZFRUVHBz8119/4XfN1dITkuvNOlNcKeLwBQF3M5q1BAMgAAQ0gQAp2Nl0ShP8bsvvfRRFDdsYukOQqiEdATeAABBgJ9AVdQohZL83amlQEjsaOAoEgICGEOiiOrUwIGHqb7c1ZAzADSAABNgJtEanmv7kx96Gio6SXFekuW1XU403witUiqACGyCgfgKkYGd7PjVu3Dhra2tfX9+yMnX+tE9yXRGoQbFZHL7gTXmtIsZgAwSAgHoJkIKdTacQQmlpaR4eHjweb86cOZGRkWrpA8l1RZy5k1bI4Qti04sVMQYbIAAE1EuAFOzN6BRCSCKRnD9//sMPPzQ2Nh42bNiFCxfauSck1xVxI0dYzeELTsPCyIrAAhsgoG4CpGBn06nHjx//9NNPhoaGK1aswCvu5eXltW5VhbZ0n+S6InVKpJTh+tBdoc8UMQYbIAAE1EuAFOxsOjVhwoSgoKCamhqm60FBQczddkiTXFewaXg1QUFQYAYE1E6AFOxsOvXbb78x/fbx8WHutlua5LqCDsCrCQqCAjMgoHYCpGBn06kRI0Yw/baysmLutlua5LqCDmy/mmq0IVQipRS0BzMgAATURYAU7PJ1Kjg4eNq0aTo6OtP/2SZOnGhvb8/iPYfDMTMzs7S0xC0JhUIHBwcDAwMHBwe8IDtFUatWreLxeObm5vhpF0IoMDDQoHELDAwkVU5ynWQvk/9nQg6HL8gsqpLJh10gAAQ0jQAp2OXrVFZWVlRU1CeffHLrn+3+/ftisZilVxwOp6ioiDZwd3en18Vau3YtQigkJIReF8vGxgavi8XlcoVCYUlJCZfLxXJG10AnSK7TBuyJhzkNsyaEw6wJ7JjgKBDQAAKkYJevU61wWEan1L7OKN2FKpGYwxccvJFG50ACCAABzSTQMp0aO3YsQgivhdWncWt2XSw9Pb0RI0aMHDnSz88PIUSv205RFE63dN12Pz+/UY1b29+EGLv7xg/BDzRzYMArIAAEaAIt0ym6mOKJ169fI4Tevn1rYWFx+/ZtWqcQQjo6OgihluoU3TTJddqg2cQC+Bq5WUZgAAQ0gAAp2Nnu+2JjYysqKrDzFRUVcXFxinTE09PT29tbc+77EEK7Qp8ZrA+pl0gV8R9sgAAQUBeB1uiUlZUVvViLVCqVeU2B2ZOqqiqsaFVVVaNHjw4LC1uzZg39HN3d3R0hJBAI6Ofo1tbW+Dm6np5eSeOmp6eHl3dnVovTJNebWpJyLtzP5fAFL9/+rbkkM8gHAkBAvQRIwc52PWVpacl02tzcnLnLTKenp1s0biYmJjt27EAIFRcX29vbGxgYTJ48GQsQRVErVqzQ19c3MzNLTEzExY8fP85r3Pz9/ZkVMtMk15k27OmUvDIOX3D5UR67GRwFAkBAvQRIwc6mU19++eWBAwfqGzcfH5+ZM2eqpQ8k1xV3pk4sNVwfujPkqeJFwBIIAIH2J0AKdjadevv27ezZswc2bnPmzHn79m37+92W+dGZ3s44GP21XywzB9JAAAhoGoHW6JSG9IHkeovcW38x2cwzXApfz7SIGhgDgfYlQAp2tuup3NzcL774Al9PffXVV7m5ue3r89+tkVxvkTOn47M5fEEGfD3TImpgDATalwAp2Nl0ysHBwd/fX9y4BQQEODg4tK/Pf7dGcr1FzsCj9BbhAmMgoBYCpGBn0ymZ3/tkdtutGyTXW+RAvURquAEepbeIGRgDgfYmQAp2Np2yt7c/efKkpHE7efIk+3wJqusQyfWWtjjj0F2XIzEtLQX2QAAItBsBUrCz6VRWVtb06dMHDBgwcODAmTNnZmdnt5u7zIZIrjNtFElvvZI6bGNonRjeSleEFtgAATUQIAU7m06pwU15TZJcl2fLlheanM/hC+5nl7AZwTEgAATUR4AU7PJ16ocfflglb1OL/yTXW+rM24paDl/gd/tVSwuCPRAAAu1DgBTs8nUqkLC1j68yrZBclzFTZNduz83FJ/7+ZEcRe7ABAkCgPQmQgl2+TjE9q66uZu62f5rkeis8WX32kdXWCPrj6lbUAEWAABBQHQFSsLPpVExMzPDhw4cMGYIQevTo0fLly1XnH0vNJNdZipAOnUloeNsTJk4g8YF8IKBeAqRgZ9MpGxubnJwcepkZU1NTtfSB5HornMkoquLwBUExma0oC0WAABBQNQFSsDejUwghWqcsLCxU7aXc+kmuyzVmz6QoauzuG/CIip0SHAUC6iJACnY2nZo1a9a9e/dGjBhRX1/v7e09e/ZstXhPcr11znhcSDbbHA5ze7aOHpQCAiolQAp2Np0qKiqaO3fuv//974EDB37zzTfFxcUqdZFUOcl1kj17Pn6LKjFTyG4GR4EAEGh/AqRgZ9OpwsLC9ne0aYsk15taKpJTVl3P9RDsi3yhiDHYAAEg0J4ESMHOplOGhoaffvrpsWPHSktL29NXmbZIrsuYKb77he/dmYfuKm4PlkAACLQPAVKws+kUQig+Pv7nn3/mcrlOTk4nT55sH19lWiG5LmOm+O5v117oeQiKKkWKFwFLIAAE2oEAKdib0SnsWVFR0fz589999912cLRpEyTXm1oqmJOaV87hC07Hq+ezagWdBDMg0AUJkIKdTafKy8sDAwMdHR0NDQ3Xrl2blJTEDk4ikVhZWTk5OSGEMjIybGxseDyeq6trXV0dQkgkErm6uvJ4PBsbm8zMv99g8vLy4vF4RkZG4eHhpMpJrpPsm82nKGrcrze+849v1hIMgAAQaE8CpGBn0yk9Pb2ffvopJkbROZv27ds3Z84crFMuLi6nT59GCC1duvTw4cMIIV9f36VLlyKETp8+7erqihBKTU21sLAQiUQZGRn6+voSiUQuEZLrco0VzNx2NdVwfWilSKygPZgBASDQDgRIwc6mUy36Di43N9fe3v7GjRtOTk4URenq6orFDSoQExMzZcoUhNCUKVOw5InFYl1dXYqivBo33Hn6aFMWJNebWiqeE58h5PAFVx/Din6KMwNLIKByAqRgZ9OpFjk1a9aspKSkqKgoJyenoqIiHo+Hi+fk5OAPbkxNTemVIPT19ad3tv4AACAASURBVIuKilauXEk/m1+4cOG5c+eYLfr5+Y1q3IYOHcrMV0paIqVGbotcceq+UmqDSoAAEFAKAdXq1NWrV/FXykrUKbrbJNdpg9YlNl96YrQhtLy2vnXFoRQQAAJKJ0AKduVcT3l4eAwePJjD4QwaNKhXr15z587V8Ps+hNCD7BIOX/BnQo7SWUOFQAAItI5Ay3Sq1fN54usphJCzszP9HN3X1xchdOjQIfo5uouLC0IoJSWFfo7O5XLb8zk6QoiiqIneUbBIcuvOJygFBFRBoGU6hafz/P7778eOHft74zZ+/HisMuzO0TqVnp5ubW3N4/GcnZ1FooY3Kmtra52dnXk8nrW1dXp6Oq5nx44d+vr6RkZGoaGhpJpJrpPsFc/3uZam5yHIK61RvAhYAgEgoDoCpGBnu++ztbXFv9khhOrr621tbVXnH0vNJNdZiih4KKu4YTqqgzfSFLQHMyAABFRKgBTsbDplZGQkFP49r0BJSYmRkZFKXSRVTnKdZN+i/LlHY8fsuiGRUi0qBcZAAAioggAp2Nl0yt/ff+jQoW5ubt9++62enl5gYKAqPGu2TpLrzRZUxABP83It9Y0ixmADBICASgmQgp1NpxBCBQUFlxq3goIClfrHUjnJdZYiih+ql0htdl5zg29oFEcGlkBAZQRIwc6mUxRFnTx5cuvWrQih7Ozs+Hj1fBBHcl1ZrPZHNkyfkFVcpawKoR4gAARaR4AU7Gw6tWzZshUrVhgbGyOESkpKPv7449a13cZSJNfbWC1d/E15rcH6kM2XntA5kAACQEAtBEjBzqZTI0aM6GTrOJDQu597ZLQhFGakIvGBfCDQPgRao1M2NjYSiQSrVWFhIb3wTPt4TLdCcp02aHvi5dtKPQ/B3ojnba8KagACQKDVBEjBznY9derUqenTpw8ePHj9+vVGRkZnz55tdfNtKUhyvS11Ni27JCjRYksEzPTSlAzkAIF2I0AKdqJOSaXSe/fuPXv27NChQwcPHnz69Gm7+SrTEMl1GbM27j7MKeXwBYduvmxjPVAcCACBVhMgBTtRp5hPplrdqlIKklxXSuXMShYFJph5hpdWN8w+ChsQAALtT4AU7Gw6tXr16vPnz7dotjxVdIzkutLbelZQruch8ApV25Wj0nsEFQKBjkWAFOxsOqWtrf3OO++89957ffr00dbW7tOnj1r6THJdFc78fOah0YbQgrJaVVQOdQIBIMBOgBTsbDrFXmO7HSW5rgoHcoTVhutDfz7zUBWVQ51AAAiwEyAFu3ydevbsGULofpONvQ0VHSW5rqLm9oQ/4/AFCbCwu4r4QrVAgEyAFOzyder7779HCE38v9ukSZPI9avwCMl1FTVZXSce7XV96m+3xRKpipqAaoEAEJBLgBTs8nVKbhXqyiS5rjp/QpLzOXyB/90M1TUBNQMBINCUACnY2XTqRJOtab3tkENyXXVNUxQ1/3j88E1h2cXVqmsFagYCQECGACnY2XTqh3+2xYsXc7ncWbNmyVTaPrsk11Xa+uvSGtPN4a5HYqQwhZ5KQUPlQIBBgBTsbDrFKI5KS0unTp3KzGm3NMl1VTtwJiGbwxcE3vt7iXlVNwf1AwEgQAp2RXWqvr6eZd7h2tpaa2trCwsLExOTzZs3I4QyMjJsbGx4PJ6rq2tdXcMb3iKRyNXVlcfj2djYZGb+HfxeXl48Hs/IyCg8PJw0SCTXSfbKyqco6tvj8cM2hj4vqFBWnVAPEAACLARIwc6mU9OmTZveuDk5OXG5XD6fT2qAoqjKykq83IONjU1sbKyLiwu9Ltbhw4cRQr6+vvS6WK6urgih1NRUel0sfX39dl4Xi9QXZv7bitpR26/Z742qEjWsQQ8bEAACKiXQGp269c929+5desl1di+rq6tHjBgRFxen+euMsneEPnrvZZGeh+DnMw/V/v0Q7RIkgEBnJdAanWoRC4lEYmlpqaWltXbt2qKiIh6Ph4vn5OSYmpoihExNTWmx09fXLyoqWrly5cmTJ7HZwoULz507x2zRz89vVOM2dOhQZn77p3+79oLDF5yKy2r/pqFFINClCLRGp/A3fX0YW7Nf+ZWWlk6cODE6OrrtOkUPD8l12kDVCYmUcvOP560LufeySNVtQf1AoCsTIAU72/OpjRs3+vr6VlRUlJeXHz58eNOmTYoQ3Lp16549ezrNfR/uckVt/af7b5l7hqcXNjyGgw0IAAFVEGiNTllYWDBdkdllHiosLCwtLUUI1dTUjBs37urVq87OzvRzdF9fX4TQoUOH6OfoLi4uCKGUlBT6OTqXy9XA5+jMPuYIq0dui7TbcxOmUWdigTQQUCKB1ujU6NGjT506JZFIpFLpqVOnRo8eTXLo8ePHVlZW5ubmpqameB2t9PR0a2trHo/n7OwsEokQQrW1tc7Ozjwez9raOj09HVe1Y8cOfX19IyOj0NBQUuUk10n2qstPyioZtjH0M587ZTX1qmsFagYCXZYAKdjZ7vsyMzNnzJihq6s7YMCAmTNn0i89tTNEkuvt7AZu7taLQoP1IV8dvlddB28qqGUEoNHOTIAU7Gw6pSE8SK6ry73Q5Hyuh2DOf2NBqtQ1BNBuZyVACnY2nXrx4oW9vT1+q+Dx48fbt29XCx2S62pxBjd64X4u10Pg/Me98lq4AVTjOEDTnY0AKdjZdGrChAnx8fH0sn1YsNofDMn19veE2eLVx3m8dSHTD0aXVMG6D0wwkAYCrSdACnY2ncILtdM6ZWlp2fr221CS5HobqlRO0etP3xhuCHXYdytHCNO/KAcp1NLFCZCCnU2nHB0dX716hddDPnfunKOjo1ogklxXizMyjca8Kjb3DB+1PfJBdonMIdgFAkCgpQRIwc6mU+np6ZMnT+7Vq9eHH344duzYrCz1fDhCcr2lCFRk//Jt5bhfbxhtCA1JzldRE1AtEOgiBEjBzqZTGE1VVVVFRYVEIjl16pRaYJFcV4szchstrhR9dfgehy/wCnkKs6rLRQSZQEARAqRgl69T5eXlXl5eK1eujIyMpCjq4MGDenp6M2bMUKQlpduQXFd6Q22pUCSWrL+YzOELXI7EvC2H5f/awhLKdl0CpGCXr1MzZsxwc3M7cuSIi4uLnZ3dhAkTHj5U25J2JNc1cDAvPsg13hg2avu1Wy8KNdA9cAkIaDgBUrDL1ykzMzPcH4lEMnDgwNpadV4gkFzXTOLPCyoc9t3i8AWbLj2pqZNoppPgFRDQTAKkYJevU/g3PtwTZlotfSO5rhZnFGm0tl6y7Woqhy+Y5B0FvwMqQgxsgAAmQAp2+Tr17rvv4lmntLW1u3fv3qdPn2ZnnlIdaJLrqmtRKTXfe1U02us610PgeTmlAl5bVwpTqKSzEyAFu3yd0igaJNc1ykm5zpTX1m++9ETPQ2C945rgcT7MXCyXEmQCAZoAKdhBp2hEqko8yin9/MAdDl8w/3j8izewdI2qOEO9nYAA6JQ6B1EskR6PzjD3DOd6CDwuJBdWNEzIBRsQAAIyBECnZICoYbekqm7LlRTeuhCTTWEHrqfBQys1jAE0qdkEQKc0ZXwyiqqWBCVy+ALLrRGHbr6shJUBNWVkwA/1EwCdUv8YMD14nFu6MCCBViu4tmLCgXSXJQA6pYlDT6uV2ebwHYLU16U1mugl+AQE2osA6FR7kW55O8m5ZauCH+ivC9FfF7Iq+EFyblnL64ASQKAzEFCtTuXk5EycOHH48OEmJiY+Pj4IIaFQ6ODgYGBg4ODgUFLSMDcTRVGrVq3i8Xjm5ub379/HUAMDAw0at8DAQBJmkusk+w6a/7q0Zocg1XRzOIcv+NL37rmk3Np6+Oymgw4muN1KAqRgV877U/n5+Vh6KioqDA0NU1NT3d3dd+3ahRDatWvX2rVrEUIhISGOjo4URcXGxtrY2GAt43K5QqGwpKSEy+ViOWvaP5LrTS07QU5Fbf2x6IxJe6M4fIG5Z7jn5ZQ0eOWqE4wrdEExAqRgV45OMX2YMWNGZGSkkZFRfn7DvHH5+flGRkYIoSVLlgQHB2NLfDQ4OHjJkiU4h3mUWRtCiOS6jFln2m1Q8/TiH4IfGKwPwZdXQTGZMBF7Zxpi6ItcAqRgV7JOZWZmDhkypLy8vF+/ftgPiqJw2snJKTo6Gmfa29snJiZ6e3vTa9hs27bN29ub6bqfn9+oxm3o0KHM/C6VLq4UHbn16tP9DRMw8NaFLApMFDzOh/vBLnUOdKnOtodOVVZWjhw58sKFCwghWqcQQjo6OgihluoUPTwk12mDTp+gKCo1r3yHINV6xzUOX2DmGf7zmYcRKQUgWJ1+6LtaB0nBrrTrqfr6+ilTpuzbtw+Thfs+VZxhEikVnVb0y5+PzD0bHrcP3xS24tT9K4/y4GVRVdCGOtufgGp1iqKo+fPn//jjj3TH1qxZQz9Hd3d3RwgJBAL6Obq1tTV+jq6np1fSuOnp6QmFQro4M0FynWnT1dL1EuntF4UeF5JHbY/k8AWGG0K/848PismEFbq62pnQyfpLCnblXE9FR0d369bN3NzcsnELCQkpLi62t7c3MDCYPHkyFiCKolasWKGvr29mZpaYmIj5Hj9+nNe4+fv7k4iTXCfZd6l8iZSKSy/2vJwy/tebHL6AwxdM3ndr+9XUuy+L6sTSLoUCOtsJCJCCXTk6pVJAJNdV2miHq5yiqPTCymPRGfOOxRmuD+XwBSabwhYFJhy9k56aVy6VUh2uR+BwFyRACnbQqU54MlSJxNdS36y/mDzRu+E9LA5fYLU1YvmppKDYrFeFlTBdXycc8s7SJdCpzjKSLexHXmnN+aTc1Wcfjfa6jjXLese15aeSjkVnPMwprZfAvWELgYK5KgmATqmSbkeom6KorOKq4Pjs/5x+MGbXDaxZwzaGuh6J+TXs2Y1nb0qr6zpCP8DHzkwAdKozj24r+lZQVit4nL/lSsqMg9G8dQ1vvXP4goneUauCHxy9kx6XXgzvOrSCKhRpIwHQqTYC7MzFa+oksenFh26+XBKUSN8e6nkIHPbd+vnPhwF3M5KySqrrxJ0ZAfRNMwiATmnGOHQELworRDefvfW5lrYoMOHjxjfgOXyBnofAbs/NZSeTfK6lhacUZBdXw2+IHWEwO5iPoFMdbMA0x9035bURKQUHrqctP5U00TtKz6PhDpHDF5huDv/q8L31F5ODYrPi0ouLKkXwS6LmjFoH9QR0qoMOnMa5XV0nfphTejo+2/NyisuRGPwFD1Yuy60Rsw7f459/fPRO+s3nb3OEcM2lccOn4Q6BTmn4AHVU9yiKyiutufWi8Fh0hseFZJcjMSO3NXzKg/8btjH0M587q4If7I98cfFB7v3skpKqOrjs6qiDrXq/QadUzxha+IdASVVdQqYwOD5729XUb4/Hj9l1g75bxPP/TT8Y/UPwg70Rz88l5SZmCuGe8R9yXf3/oFNd/QxQb/9FYsnLt5XXn745eid9419P5h2LG//rTe4/j7rw0y5HnzuLTyRuuZJy9E562JOCJ6/Lyqrr4eJLvQPXzq2DTrUzcGiueQJ1YmlGUdXN528D7mZ4Xk5ZGJAw9bfbJpvC6NtGrF9Tf7u9KDDB83LKf2+nhybnJ+eWFVWK4NfG5vl2QAvQqQ44aF3SZYqiSqvrnrwuC3uSf/ROuufllEWBiVN/u41XuKAlzHB96Lhfbzj/ce+H4Ac7Q54ej84ITc5/kF1SUFYrgY+uO+yZAzrVYYcOHG8kQFFUWXX9k9dl4SkFgfcyd4U++/H0A9cjMRP23DTc0DA/BP2f/rqQT7yuf+F7d/mppC1XUv649erC/dw7aYXPCyqE8BRfs08n0CnNHh/wrg0EKIoSVtWl5JVdf/rmZGzW3ojnq88++uZonP3eqOH/9y6SwxcYrG9QsRkHoxcFJnhcSN4X+eJkbFZ4SsGD7JLckmqRGNYia8NItLko6FSbEUIFHZNAlUicUVQVnyG8+jjP/27G7rBnq88+mn883tHnzqjtkcwfIvEVmcWWiEl7o5z/uLc0KGndxeS9Ec8D7mZcfpR372XRs4LytxW1YphkQmVnAuiUytBCxR2ZgFgifVNe++R12Y1nb84kZP9+PW3TpScrTt2f7Rfz6f5bI7dFMn+UpG8tLbc2aJnLHzFYy/b9o2V30gqfvC7LEVZXisTwS2UrzgvQqVZAgyJAAEmkVHGlKO1NRWx6seBxflBM5m/XXmz8q0HLXI/EOOxr0LKmF2X4BnPU9msO+265/BGz+ESi+7lHXiFPfaNeBsdnhz3Jj3lV/Kyg/E15LSwaxDzJQKeYNCANBJRJgNay+AxhRErBnwk5R2692h32zOPC46VBSbP9Yqb+dttm5zWZ5/301ZnxxrBPvK47+tyZ7Rfz/YnE1Wcfbb2S6nMtzf9uxvmk3MjUN3HpxU/zy/NKazr9ZZpqdWrBggUDBw40NTXFgy8UCh0cHAwMDBwcHPBq7BRFrVq1isfjmZub4xXeEUKBgYEGjVtgYCDLWUNynaUIHAICmkmgpk6SV1qTmld+72VRSHL+qbisQzdf7hCkrj77aFFggssfDYo22uu6zEsYtKJx+AKuh8Bya8T4X29O+z167tHYZSeT1p57vEOQ+vv1tBMxmX89eH396Zv4DGFqXnmOsLqkqq5jLedBCnblzI9++/bt+/fv0zrl7u5OL4q1du1ahFBISAi9KJaNjQ1eFIvL5QqFwpKSEi6Xi+VM7rlFcl2uMWQCgc5BQCyRllTVZRVXJeeW3X1ZFJqcfyYh2+/2K+/w55suPfnx9IMFAQmzDt9z2HfLZuc1443/5+VYpq5x+AKjDaGjtkfa7bnp9HvDJduiwMSfzjzc+NeT3WHPDt18GXgv83xSbnhKwb2XRY9zS9MLK99W1NbUSdTyfI0U7MrRKYRQZmYmrVNKXGQUIURyvXOcjtALIKAUAnViaXGlKKOo6mFO6d2XRWFPCs4l5QbczTh4I80r9On6i8n/Of1gYUCCy5GYz3zujP/15ohtkQbr/57HVUbX8K7+uhCLLRFjdt2Ysv/2l7535x2LWxqU9POfDQK3K/TZ79fTjkVnnEnIvvIo78azhjvTJ6/LGjSuvLZSJG711wKkYFeJTtGLtlMUhdOtXrQddEopJzFUAgTkEhCJJcWVoqziqievy2LTi6+lvvnrweug2KzDUa/2hD/bfOnJz38+/P5E4jdH477wvfvp/ltjdt2w3BqBF16Tq2505vBNYaO2X7Pbc3P71VS5TcvNVI9OIYR0dHQQQq3QKT8/v1GN29ChQ+V2CTKBABBQF4E6sbS0uu51aU3am4oH2SV3XxZFpBRcfJB7MjbL7/arfZEvtl9N9biQjKfbV9zJdtUpuO9TfGDAEggAAZpAu+rUmjVr6Ofo7u7uCCGBQEA/R7e2tsbP0fX09EoaNz09Pby2O+0uM0FynWkDaSAABDoBAVKwK+f51Ndff/3BBx/06NFj8ODBx44dKy4utre3NzAwmDx5MhYgiqJWrFihr69vZmaWmJiIgR4/fpzXuPn7+7MgJrnOUgQOAQEg0BEJkIJdOTqlUiIk11XaKFQOBIBA+xMgBTvoVPuPBbQIBICAfAKgU/K5QC4QAAKaQwB0SnPGAjwBAkBAPgHQKflcIBcIAAHNIQA6pTljAZ4AASAgn0AH1qkBAwbgF9NJ/3I4HNIhFeVDi6oAC1SB6oABA+QKWAf4vU+u38xMkgYzbZSbhhaVyxPXBlSBKokA6BSJDFs+RBQbndYeA6qtJcdWrnNQBZ1iG2PSsc4x9qTe4XzoIzuf1h0Fqq3j1hl0ys/Pr3Wdb3UpaLHV6FgKAlUWOK0+1DmodgadavUQQkEgAAQ6BAHQqQ4xTOAkEOjSBECnuvTwQ+eBQIcg0MF0KiwszMjIiMfj4fmtaMQikcjV1ZXH49nY2GRmZtL5bU+QWgwICBgwYIBl43b06NG2N0TXILN4D50vd80e+mhbEqQWo6Ki+vbti/u4devWtjQhUzYnJ2fixInDhw83MTHx8fFhHlVRN1laVFE3a2trra2tLSwsTExMNm/ezOyjik5XlhZVd7oihCQSiZWVlZOTk+r62JF0SiKR6Ovrp6en19XVWVhYpKb+/3mXfX19ly5dihA6ffq0q6srk1db0iwtBgQErFy5si2Vk8rKLN5DmzVds4c+1MYEqcWoqCiZk6+NDdHF8/Pz8fJoFRUVhoaGzKFUUTdZWlRRNymKqqysRAjV19fb2NjExsbS3VfR6crSoupOV4TQvn375syZI3OqKLePHUmnYmJipkyZggfbq3GjB37KlCkxMTEIIbFYrKurq6wlfVhaVOnAMxfvofu4ZMmS4OBgvEvP7EwfbWNCbosqCmAZV2fMmBEZGUlnqrSbuBWZFlXdzerq6hEjRsTFxdF9VNHpStfftEXVna65ubn29vY3btyQ0Snl9rEj6dS5c+cWLVqEByMoKIh5OWNqapqbm4sP6evrFxUV0WPWlgRLiwEBAR988IG5ufmsWbNycnLa0krTsnJVo+laGE0LtjpHbotRUVH9+/e3sLBwdHRMSUlpdeUsBTMzM4cMGVJeXk7bqLSbeAE3mRZV102JRGJpaamlpYVXsaT7qKLTFd+CyW1RdafrrFmzkpKSmmq9cvsIOkWfPHISLDpVXFwsEokQQkeOHJk0aZKcwm3IkqsaKg1guS2Wl5fjO5eQkBADA4M2dEh+0crKypEjR164cIF5WKXdlNuiqrtZWlo6ceLEJ0+e0N1UbgzT1dKJpi2q6HS9evXq8uXLEUKgUzR8xHIXptyLTLpJlhZpG4lE0rdvX3pXKQm5qqHSGyK5LTL7wuFwlHWViqutr6+fMmXKvn37mK0ghFTXTVKLTAeU3k1c+datW729vemGVHS60vUjhGRapA8p93T18PAYPHgwh8MZNGhQr169vvnmG7oh5faxI11PicViLpebkZGBn6Mz70QOHTpEP0d3cXGhYbUxwdJifn4+rvzixYu2trZtbEimuFzVaLpmj0yptuzKbbGgoAA/6YuPjx8yZIiynvohhCiKmj9//o8//tjUZxV1k6VFFXWzsLCwtLQUIVRTUzNu3LirV6/SnVXR6crSokpPV7nXU8rtY0fSKYRQSEiIoaGhvr7+jh07EEKbNm26fPkyQqi2ttbZ2ZnH41lbW6enp9MnRNsTpBY9PDxMTEwsLCwmTpz47NmztjdE1yCzeM8fjRuO7aZr9tCl2pIgtXjw4EHcR1tb23v37rWlCZmy0dHR3bp1Mzc3xy89hISEqLqbLC2qqJuPHz+2srIyNzc3NTXFb3Wo+nRlaVF1pyseWfq+T0V97GA6JXO6wy4QAAJdgQDoVFcYZegjEOjYBECnOvb4gfdAoCsQAJ3qCqMMfQQCHZsA6FTHHj/wHgh0BQKgU11hlKGPQKC9CZA+bqf9yM7OnjhxIv5JNCQkhM6XmwCdkotFozPfffddS0tL/MbA3r17pVIpQigxMXHVqlVN/c7MzPzf//3fpvnKyjlw4ICxsfHcuXOVUqGdnZ2RkRF+WWHWrFnN1vnw4UP6FPf09GS+S9lsWUUMdu7cqYgZ04aiqEmTJjG/BGIepdNXr17dtGkTvdv5EqSP2+mefv/994cPH0YIpaamcjgcOl9uAnRKLhaNztTS0sL+vX37dvLkyTJzhsi4Tr/YIpOvrN1hw4bRX1biOsVicasrt7OzS0xMVLC4WCxmfl6rCp2iUdMuURSF/zDQOTIJgUDw008/yWQ23aUoysrKqrq6uumhTpPDfHn41atXU6dOHTly5Lhx4/D7hkuWLNm9ezdCDd+ZjB49mr3XoFPsfDTxKDN40tPT+/fvT1EUrUe3bt3C1yNWVlYVFRW2trZ4Dqn9+/dnZmaOGzduROOG39uMioqys7ObNWvWsGHD5s6di984T0hIGD16tIWFhbW1dUVFhUQiWbNmzccff2xubn7kyBEmkaVLl7733ntmZmb79+/39PScN2/emDFjvv7668zMzEmTJpmbm9vb22dnZyOE3Nzcli1bZmtry+Vyo6KiFixYYGxs7ObmxqwNIdRUp65cuWJjY2NlZTV58uQ3b94ghJgNDRkyBM8CdubMGU9PzwULFtjZ2XG53AMHDsjUHBYWNmLECAsLC3t7e4RQVVXVggULrK2traysLl26hBAKCAj48ssvp06damBg4O7ujhDi8/n40nXu3LmZmZlGRkbz5883MTHJysras2cPBtL0j8ScOXOioqLwB8/Dhg1zc3MzNDScO3futWvXxowZY2BgEB8fj3376aef/vzzTxk/O9MuU6fs7e3T0tIQQnFxcfh72Pz8fDMzs8GDB+vo6CQlJbF3HHSKnY8mHmXqFEKoX79+b968oXVq2rRpd+/eRQhVVlaKxWI6HyFUXV1dW1uLEEpLS8MLn+Ap4nJzc6VS6SeffBIdHV1XV8flchMSEhBC5eXlYrHYz89v+/btCCGRSDRq1KiMjAwmFPqDOE9Pz5EjR9bU1CCEpk2bFhgYiBA6fvz4zJkzsU7Nnj2boqhLly716dMnOTlZKpWOHDny4cOHzNqY931r1qxBCJWUlGD1PHr06C+//IJ1im5I5npq9OjRIpGoqKiof//+9fX1dM2FhYUfffQR9lwoFCKE1q1bd/LkSYRQaWmpoaFhVVVVQEAAl8stKyurra0dOnQongODRp2ZmfnOO+/gOaQiIiK+//57fGHl5OR0+/ZtuiGE0NChQysqKrBOde/ene7pggULcPcxEITQqVOnfvjhB2bZTpamdaqysrJnz574z6elpaWxsTGetWrv3r34emr48OHsV6mgUx3v3KCDB7suo1O7du2ysbE5cOAAvh1j6lRZWdm8efPMzMwsLS179eqFP8tycHDA9SxbtuzkyZPJycljxoxhQpk1a5ahoSE+yfT09CIiIphHmTq1ZcsWfEhXVxfLRH19va6uLtapYB3NNAAAA7dJREFUU6dOIYTS09PpqRfmz5//119/MWtrej2VnJz86aefmpmZGRkZTZ06FesU3ZCMTuGvqRBCxsbGzLvRK1euyDxBGzVqlKmpKe7UkCFDnj59GhAQsHjxYuyMo6NjdHQ0QohGnZmZqaenh4+uXr2aw+Hgsjwe79ixY8wuaGtr493MzExmT+nuW1paYoPIyMivvvqKWbaTpWmdKi8v/+CDD2R6Z2JiQk+IxOVy3759K2PA3AWdYtLoGGk6eHDYy9z3IYSSk5N37949dOjQZ8+eMXXK09Nz9erVUqlULBZ3795d5vPRlStXBgQENNWpr776Kjw8nISGqVP0Y2y5OnXu3Dl8lWFqaoprc3Nzw5l05U11ys7ODn/CiW9RsU7RDcnoFJ1vamrKnH66qU6NHDny+fPndLv4vo+e0czJyQnfu9Go6ZBDCP3yyy8y97/MenR0dPClAbMI3VNm5pUrV5gTDDAr6RxpZmdHjx599uxZ/Jnqo0ePEEKOjo4BAQEIoadPn/7P//wP+1fuoFMd75Sgg6ewsPDTTz/Fj0hoPXr16hXu0qxZs/7666+kpKQJEybgnJ9++glfafv7+3fr1jD0dCmEENYp5n1fRUUFvu+bOXMmvj568eJFVVUVE5lcnZo+fXpQUBAO/i+++AJfT7VOp6ysrPDDi++++87Ozk5Gp86fP//tt99if5jP0WV0Su5938qVK3FsPHjwgKRTOjo6uOPMkIuIiLCxscEzc71+/VrmQsDW1vbly5ckRWbWs3fvXplp/plgO3pa5uP2jIyMqVOnWlhYDB8+HH+VnZqaOmbMGAsLC0tLS5mL9KZ9B51qykTTc5jvJXh7e+O/3rTi/PDDD6ampubm5l9//bVIJKqvr580aZKFhcX+/fvT0tLMzc0tLCzWrl2LxY4uResUQighIcHW1tbCwsLW1rayslIqla5bt87MzMzU1HTixIllZWVMQHJ1Kisrq+lzdAV1in4vYfLkyQihS5cucbnckSNHrlmzpqlOCYXCjz/+2NLSEj9HJ11PIYRCQ0OtrKwsLCzwfW5NTc2SJUvMzMxMTEzwhLnMSzP6emrt2rX4rQumviCEfHx8zBq3Tz75hP7DgLFs27YNr+vBLCL3esrJySk5OZkJE9IkAqBTJDKQDwRaQyA/P59+5MdS/s2bN/iXRxYbOEQTAJ2iUUACCCiHwJ9//tnse54JCQkyv3Uqp+1OWgvoVCcdWOgWEOhEBECnOtFgQleAQCclADrVSQcWugUEOhGB/wf8nYkBlL2QxQAAAABJRU5ErkJggg==)"
      ]
    },
    {
      "cell_type": "markdown",
      "metadata": {
        "id": "Dm8lawnyo01o"
      },
      "source": [
        "As `matplotlib.pyplot` is such a long name, you shold import it with an _alias_ like below. This will allow you to use `plt` instead of the whole module name.\n",
        "```\n",
        "import matplotlib.pyplot as plt\n",
        "```"
      ]
    },
    {
      "cell_type": "code",
      "metadata": {
        "id": "qN88CEjYk-JX",
        "outputId": "c763f64e-2dfd-4471-c18a-fc73bbb99e14",
        "colab": {
          "base_uri": "https://localhost:8080/",
          "height": 295
        }
      },
      "source": [
        "# A range of distances in 1000km increments.\n",
        "distances = range(EARTH_RADIUS, MOON_DISTANCE, 1000000)\n",
        "\n",
        "# Calculate the velocity for each distance\n",
        "velocities = []\n",
        "for distance in distances:\n",
        "    velocities.append(orbital_velocity(distance))\n",
        "\n",
        "# Write your plotting code here\n",
        "# Hint: Make sure that you put the import statement first\n",
        "import matplotlib.pyplot as plt\n",
        "\n",
        "fig, ax = plt.subplots()\n",
        "ax.plot(distances, velocities) \n",
        "\n",
        "ax.set_title('Velocity Required to Orbit Earth')\n",
        "ax.set_xlabel('Distance from Earth centre (m)')\n",
        "ax.set_ylabel('Required velocity (m/s)')\n",
        "plt.show()\n"
      ],
      "execution_count": 7,
      "outputs": [
        {
          "output_type": "display_data",
          "data": {
            "text/plain": [
              "<Figure size 432x288 with 1 Axes>"
            ],
            "image/png": "[encoded data removed]"
          },
          "metadata": {
            "needs_background": "light"
          }
        }
      ]
    },
    {
      "cell_type": "markdown",
      "metadata": {
        "id": "5yfGrWnNk-JX"
      },
      "source": [
        "###### Solution"
      ]
    },
    {
      "cell_type": "code",
      "metadata": {
        "id": "aqe2MiA0k-JX"
      },
      "source": [
        "import matplotlib.pyplot as plt\n",
        "\n",
        "fig, ax = plt.subplots()\n",
        "ax.plot(distances, velocities) \n",
        "\n",
        "ax.set_title('Velocity Required to Orbit Earth')\n",
        "ax.set_xlabel('Distance from Earth centre (m)')\n",
        "ax.set_ylabel('Required velocity (m/s)')\n",
        "plt.show()"
      ],
      "execution_count": null,
      "outputs": []
    },
    {
      "cell_type": "markdown",
      "metadata": {
        "id": "EOnrPom8k-DR"
      },
      "source": [
        "### Basic Pandas\n",
        "Just like with Matplotlib, it's common to also give Pandas an alias when it's imported. Thus, for this exercise you should import pandas with an alias of `pd`."
      ]
    },
    {
      "cell_type": "markdown",
      "metadata": {
        "id": "iY7ZubyRsq3G"
      },
      "source": [
        "#### Reading CSV Files\n",
        "Along with the ability to read CSV files from the local computer, the Pandas function `read_csv` can also load CSV files from the internet. In the next cell, use this function to load the CSV into a Pandas Dataframe, then print the first few rows of the data by calling the method  `head` of the Dataframe.\n",
        "\n",
        "You'll see some data relating to transactions at a restaurant, with information about the cost of the visit, the amount tipped, and more. You can view the dataset online [by clicking here](https://gist.github.com/anibali/28680d7e10f2833092f001308ce239c8)."
      ]
    },
    {
      "cell_type": "code",
      "metadata": {
        "id": "gpIbCy7vk-DR",
        "outputId": "081c4fb5-4bbd-4d2f-cba4-c1fda8092301",
        "colab": {
          "base_uri": "https://localhost:8080/",
          "height": 206
        }
      },
      "source": [
        "URL = 'https://gist.githubusercontent.com/anibali/28680d7e10f2833092f001308ce239c8/raw/46e14202e109b9b0dcf671086cf54e6e59037d8c/tips.csv'\n",
        "\n",
        "# Write your solution here\n",
        "import pandas as pd\n",
        "\n",
        "df = pd.read_csv(URL)\n",
        "df.head()"
      ],
      "execution_count": 8,
      "outputs": [
        {
          "output_type": "execute_result",
          "data": {
            "text/plain": [
              "   total_bill   tip     sex smoker  day    time  size\n",
              "0       16.99  1.01  Female     No  Sun  Dinner     2\n",
              "1       10.34  1.66    Male     No  Sun  Dinner     3\n",
              "2       21.01  3.50    Male     No  Sun  Dinner     3\n",
              "3       23.68  3.31    Male     No  Sun  Dinner     2\n",
              "4       24.59  3.61  Female     No  Sun  Dinner     4"
            ],
            "text/html": [
              "\n",
              "  <div id=\"df-2d15d374-c19c-4818-b46f-3c3933cf01a3\">\n",
              "    <div class=\"colab-df-container\">\n",
              "      <div>\n",
              "<style scoped>\n",
              "    .dataframe tbody tr th:only-of-type {\n",
              "        vertical-align: middle;\n",
              "    }\n",
              "\n",
              "    .dataframe tbody tr th {\n",
              "        vertical-align: top;\n",
              "    }\n",
              "\n",
              "    .dataframe thead th {\n",
              "        text-align: right;\n",
              "    }\n",
              "</style>\n",
              "<table border=\"1\" class=\"dataframe\">\n",
              "  <thead>\n",
              "    <tr style=\"text-align: right;\">\n",
              "      <th></th>\n",
              "      <th>total_bill</th>\n",
              "      <th>tip</th>\n",
              "      <th>sex</th>\n",
              "      <th>smoker</th>\n",
              "      <th>day</th>\n",
              "      <th>time</th>\n",
              "      <th>size</th>\n",
              "    </tr>\n",
              "  </thead>\n",
              "  <tbody>\n",
              "    <tr>\n",
              "      <th>0</th>\n",
              "      <td>16.99</td>\n",
              "      <td>1.01</td>\n",
              "      <td>Female</td>\n",
              "      <td>No</td>\n",
              "      <td>Sun</td>\n",
              "      <td>Dinner</td>\n",
              "      <td>2</td>\n",
              "    </tr>\n",
              "    <tr>\n",
              "      <th>1</th>\n",
              "      <td>10.34</td>\n",
              "      <td>1.66</td>\n",
              "      <td>Male</td>\n",
              "      <td>No</td>\n",
              "      <td>Sun</td>\n",
              "      <td>Dinner</td>\n",
              "      <td>3</td>\n",
              "    </tr>\n",
              "    <tr>\n",
              "      <th>2</th>\n",
              "      <td>21.01</td>\n",
              "      <td>3.50</td>\n",
              "      <td>Male</td>\n",
              "      <td>No</td>\n",
              "      <td>Sun</td>\n",
              "      <td>Dinner</td>\n",
              "      <td>3</td>\n",
              "    </tr>\n",
              "    <tr>\n",
              "      <th>3</th>\n",
              "      <td>23.68</td>\n",
              "      <td>3.31</td>\n",
              "      <td>Male</td>\n",
              "      <td>No</td>\n",
              "      <td>Sun</td>\n",
              "      <td>Dinner</td>\n",
              "      <td>2</td>\n",
              "    </tr>\n",
              "    <tr>\n",
              "      <th>4</th>\n",
              "      <td>24.59</td>\n",
              "      <td>3.61</td>\n",
              "      <td>Female</td>\n",
              "      <td>No</td>\n",
              "      <td>Sun</td>\n",
              "      <td>Dinner</td>\n",
              "      <td>4</td>\n",
              "    </tr>\n",
              "  </tbody>\n",
              "</table>\n",
              "</div>\n",
              "      <button class=\"colab-df-convert\" onclick=\"convertToInteractive('df-2d15d374-c19c-4818-b46f-3c3933cf01a3')\"\n",
              "              title=\"Convert this dataframe to an interactive table.\"\n",
              "              style=\"display:none;\">\n",
              "        \n",
              "  <svg xmlns=\"http://www.w3.org/2000/svg\" height=\"24px\"viewBox=\"0 0 24 24\"\n",
              "       width=\"24px\">\n",
              "    <path d=\"M0 0h24v24H0V0z\" fill=\"none\"/>\n",
              "    <path d=\"M18.56 5.44l.94 2.06.94-2.06 2.06-.94-2.06-.94-.94-2.06-.94 2.06-2.06.94zm-11 1L8.5 8.5l.94-2.06 2.06-.94-2.06-.94L8.5 2.5l-.94 2.06-2.06.94zm10 10l.94 2.06.94-2.06 2.06-.94-2.06-.94-.94-2.06-.94 2.06-2.06.94z\"/><path d=\"M17.41 7.96l-1.37-1.37c-.4-.4-.92-.59-1.43-.59-.52 0-1.04.2-1.43.59L10.3 9.45l-7.72 7.72c-.78.78-.78 2.05 0 2.83L4 21.41c.39.39.9.59 1.41.59.51 0 1.02-.2 1.41-.59l7.78-7.78 2.81-2.81c.8-.78.8-2.07 0-2.86zM5.41 20L4 18.59l7.72-7.72 1.47 1.35L5.41 20z\"/>\n",
              "  </svg>\n",
              "      </button>\n",
              "      \n",
              "  <style>\n",
              "    .colab-df-container {\n",
              "      display:flex;\n",
              "      flex-wrap:wrap;\n",
              "      gap: 12px;\n",
              "    }\n",
              "\n",
              "    .colab-df-convert {\n",
              "      background-color: #E8F0FE;\n",
              "      border: none;\n",
              "      border-radius: 50%;\n",
              "      cursor: pointer;\n",
              "      display: none;\n",
              "      fill: #1967D2;\n",
              "      height: 32px;\n",
              "      padding: 0 0 0 0;\n",
              "      width: 32px;\n",
              "    }\n",
              "\n",
              "    .colab-df-convert:hover {\n",
              "      background-color: #E2EBFA;\n",
              "      box-shadow: 0px 1px 2px rgba(60, 64, 67, 0.3), 0px 1px 3px 1px rgba(60, 64, 67, 0.15);\n",
              "      fill: #174EA6;\n",
              "    }\n",
              "\n",
              "    [theme=dark] .colab-df-convert {\n",
              "      background-color: #3B4455;\n",
              "      fill: #D2E3FC;\n",
              "    }\n",
              "\n",
              "    [theme=dark] .colab-df-convert:hover {\n",
              "      background-color: #434B5C;\n",
              "      box-shadow: 0px 1px 3px 1px rgba(0, 0, 0, 0.15);\n",
              "      filter: drop-shadow(0px 1px 2px rgba(0, 0, 0, 0.3));\n",
              "      fill: #FFFFFF;\n",
              "    }\n",
              "  </style>\n",
              "\n",
              "      <script>\n",
              "        const buttonEl =\n",
              "          document.querySelector('#df-2d15d374-c19c-4818-b46f-3c3933cf01a3 button.colab-df-convert');\n",
              "        buttonEl.style.display =\n",
              "          google.colab.kernel.accessAllowed ? 'block' : 'none';\n",
              "\n",
              "        async function convertToInteractive(key) {\n",
              "          const element = document.querySelector('#df-2d15d374-c19c-4818-b46f-3c3933cf01a3');\n",
              "          const dataTable =\n",
              "            await google.colab.kernel.invokeFunction('convertToInteractive',\n",
              "                                                     [key], {});\n",
              "          if (!dataTable) return;\n",
              "\n",
              "          const docLinkHtml = 'Like what you see? Visit the ' +\n",
              "            '<a target=\"_blank\" href=https://colab.research.google.com/notebooks/data_table.ipynb>data table notebook</a>'\n",
              "            + ' to learn more about interactive tables.';\n",
              "          element.innerHTML = '';\n",
              "          dataTable['output_type'] = 'display_data';\n",
              "          await google.colab.output.renderOutput(dataTable, element);\n",
              "          const docLink = document.createElement('div');\n",
              "          docLink.innerHTML = docLinkHtml;\n",
              "          element.appendChild(docLink);\n",
              "        }\n",
              "      </script>\n",
              "    </div>\n",
              "  </div>\n",
              "  "
            ]
          },
          "metadata": {},
          "execution_count": 8
        }
      ]
    },
    {
      "cell_type": "markdown",
      "metadata": {
        "id": "TybA4Yd5rTEI"
      },
      "source": [
        "###### Solution"
      ]
    },
    {
      "cell_type": "code",
      "metadata": {
        "id": "qMu-O8IBrPKY"
      },
      "source": [
        "import pandas as pd\n",
        "\n",
        "df = pd.read_csv(URL)\n",
        "df.head()"
      ],
      "execution_count": null,
      "outputs": []
    },
    {
      "cell_type": "markdown",
      "metadata": {
        "id": "6VfbbUz7sgDw"
      },
      "source": [
        "#### Calculating New Columns\n",
        "Just as we can access a column using `df['some_column_name']`, the same can be done to add a new column. E.g.\n",
        "```python\n",
        "df['pay_amount'] = df['hourly_rate'] * df['hours_worked']\n",
        "```\n",
        "In the next cell, add a new column to the dataframe called `tip_percentage`, which is the tip amount as a percentage of the total bill.\n",
        "\n",
        "_Hint: If you're not sure about the column names, you might like to refer to the previous task where we used `df.head`._"
      ]
    },
    {
      "cell_type": "code",
      "metadata": {
        "id": "fepDzuVKShIo",
        "outputId": "ced3c8d4-ed18-423f-c1b2-b84ab2b44c15",
        "colab": {
          "base_uri": "https://localhost:8080/",
          "height": 206
        }
      },
      "source": [
        "# Write your solution here\n",
        "# Hint: Make sure that you put the import statement first\n",
        "df['tip_percentage'] = (df['tip'] / df['total_bill']) * 100\n",
        "\n",
        "# Print the first few rows\n",
        "df.head()"
      ],
      "execution_count": 9,
      "outputs": [
        {
          "output_type": "execute_result",
          "data": {
            "text/plain": [
              "   total_bill   tip     sex smoker  day    time  size  tip_percentage\n",
              "0       16.99  1.01  Female     No  Sun  Dinner     2        5.944673\n",
              "1       10.34  1.66    Male     No  Sun  Dinner     3       16.054159\n",
              "2       21.01  3.50    Male     No  Sun  Dinner     3       16.658734\n",
              "3       23.68  3.31    Male     No  Sun  Dinner     2       13.978041\n",
              "4       24.59  3.61  Female     No  Sun  Dinner     4       14.680765"
            ],
            "text/html": [
              "\n",
              "  <div id=\"df-663abe3f-5eac-49e1-890c-610580cb454a\">\n",
              "    <div class=\"colab-df-container\">\n",
              "      <div>\n",
              "<style scoped>\n",
              "    .dataframe tbody tr th:only-of-type {\n",
              "        vertical-align: middle;\n",
              "    }\n",
              "\n",
              "    .dataframe tbody tr th {\n",
              "        vertical-align: top;\n",
              "    }\n",
              "\n",
              "    .dataframe thead th {\n",
              "        text-align: right;\n",
              "    }\n",
              "</style>\n",
              "<table border=\"1\" class=\"dataframe\">\n",
              "  <thead>\n",
              "    <tr style=\"text-align: right;\">\n",
              "      <th></th>\n",
              "      <th>total_bill</th>\n",
              "      <th>tip</th>\n",
              "      <th>sex</th>\n",
              "      <th>smoker</th>\n",
              "      <th>day</th>\n",
              "      <th>time</th>\n",
              "      <th>size</th>\n",
              "      <th>tip_percentage</th>\n",
              "    </tr>\n",
              "  </thead>\n",
              "  <tbody>\n",
              "    <tr>\n",
              "      <th>0</th>\n",
              "      <td>16.99</td>\n",
              "      <td>1.01</td>\n",
              "      <td>Female</td>\n",
              "      <td>No</td>\n",
              "      <td>Sun</td>\n",
              "      <td>Dinner</td>\n",
              "      <td>2</td>\n",
              "      <td>5.944673</td>\n",
              "    </tr>\n",
              "    <tr>\n",
              "      <th>1</th>\n",
              "      <td>10.34</td>\n",
              "      <td>1.66</td>\n",
              "      <td>Male</td>\n",
              "      <td>No</td>\n",
              "      <td>Sun</td>\n",
              "      <td>Dinner</td>\n",
              "      <td>3</td>\n",
              "      <td>16.054159</td>\n",
              "    </tr>\n",
              "    <tr>\n",
              "      <th>2</th>\n",
              "      <td>21.01</td>\n",
              "      <td>3.50</td>\n",
              "      <td>Male</td>\n",
              "      <td>No</td>\n",
              "      <td>Sun</td>\n",
              "      <td>Dinner</td>\n",
              "      <td>3</td>\n",
              "      <td>16.658734</td>\n",
              "    </tr>\n",
              "    <tr>\n",
              "      <th>3</th>\n",
              "      <td>23.68</td>\n",
              "      <td>3.31</td>\n",
              "      <td>Male</td>\n",
              "      <td>No</td>\n",
              "      <td>Sun</td>\n",
              "      <td>Dinner</td>\n",
              "      <td>2</td>\n",
              "      <td>13.978041</td>\n",
              "    </tr>\n",
              "    <tr>\n",
              "      <th>4</th>\n",
              "      <td>24.59</td>\n",
              "      <td>3.61</td>\n",
              "      <td>Female</td>\n",
              "      <td>No</td>\n",
              "      <td>Sun</td>\n",
              "      <td>Dinner</td>\n",
              "      <td>4</td>\n",
              "      <td>14.680765</td>\n",
              "    </tr>\n",
              "  </tbody>\n",
              "</table>\n",
              "</div>\n",
              "      <button class=\"colab-df-convert\" onclick=\"convertToInteractive('df-663abe3f-5eac-49e1-890c-610580cb454a')\"\n",
              "              title=\"Convert this dataframe to an interactive table.\"\n",
              "              style=\"display:none;\">\n",
              "        \n",
              "  <svg xmlns=\"http://www.w3.org/2000/svg\" height=\"24px\"viewBox=\"0 0 24 24\"\n",
              "       width=\"24px\">\n",
              "    <path d=\"M0 0h24v24H0V0z\" fill=\"none\"/>\n",
              "    <path d=\"M18.56 5.44l.94 2.06.94-2.06 2.06-.94-2.06-.94-.94-2.06-.94 2.06-2.06.94zm-11 1L8.5 8.5l.94-2.06 2.06-.94-2.06-.94L8.5 2.5l-.94 2.06-2.06.94zm10 10l.94 2.06.94-2.06 2.06-.94-2.06-.94-.94-2.06-.94 2.06-2.06.94z\"/><path d=\"M17.41 7.96l-1.37-1.37c-.4-.4-.92-.59-1.43-.59-.52 0-1.04.2-1.43.59L10.3 9.45l-7.72 7.72c-.78.78-.78 2.05 0 2.83L4 21.41c.39.39.9.59 1.41.59.51 0 1.02-.2 1.41-.59l7.78-7.78 2.81-2.81c.8-.78.8-2.07 0-2.86zM5.41 20L4 18.59l7.72-7.72 1.47 1.35L5.41 20z\"/>\n",
              "  </svg>\n",
              "      </button>\n",
              "      \n",
              "  <style>\n",
              "    .colab-df-container {\n",
              "      display:flex;\n",
              "      flex-wrap:wrap;\n",
              "      gap: 12px;\n",
              "    }\n",
              "\n",
              "    .colab-df-convert {\n",
              "      background-color: #E8F0FE;\n",
              "      border: none;\n",
              "      border-radius: 50%;\n",
              "      cursor: pointer;\n",
              "      display: none;\n",
              "      fill: #1967D2;\n",
              "      height: 32px;\n",
              "      padding: 0 0 0 0;\n",
              "      width: 32px;\n",
              "    }\n",
              "\n",
              "    .colab-df-convert:hover {\n",
              "      background-color: #E2EBFA;\n",
              "      box-shadow: 0px 1px 2px rgba(60, 64, 67, 0.3), 0px 1px 3px 1px rgba(60, 64, 67, 0.15);\n",
              "      fill: #174EA6;\n",
              "    }\n",
              "\n",
              "    [theme=dark] .colab-df-convert {\n",
              "      background-color: #3B4455;\n",
              "      fill: #D2E3FC;\n",
              "    }\n",
              "\n",
              "    [theme=dark] .colab-df-convert:hover {\n",
              "      background-color: #434B5C;\n",
              "      box-shadow: 0px 1px 3px 1px rgba(0, 0, 0, 0.15);\n",
              "      filter: drop-shadow(0px 1px 2px rgba(0, 0, 0, 0.3));\n",
              "      fill: #FFFFFF;\n",
              "    }\n",
              "  </style>\n",
              "\n",
              "      <script>\n",
              "        const buttonEl =\n",
              "          document.querySelector('#df-663abe3f-5eac-49e1-890c-610580cb454a button.colab-df-convert');\n",
              "        buttonEl.style.display =\n",
              "          google.colab.kernel.accessAllowed ? 'block' : 'none';\n",
              "\n",
              "        async function convertToInteractive(key) {\n",
              "          const element = document.querySelector('#df-663abe3f-5eac-49e1-890c-610580cb454a');\n",
              "          const dataTable =\n",
              "            await google.colab.kernel.invokeFunction('convertToInteractive',\n",
              "                                                     [key], {});\n",
              "          if (!dataTable) return;\n",
              "\n",
              "          const docLinkHtml = 'Like what you see? Visit the ' +\n",
              "            '<a target=\"_blank\" href=https://colab.research.google.com/notebooks/data_table.ipynb>data table notebook</a>'\n",
              "            + ' to learn more about interactive tables.';\n",
              "          element.innerHTML = '';\n",
              "          dataTable['output_type'] = 'display_data';\n",
              "          await google.colab.output.renderOutput(dataTable, element);\n",
              "          const docLink = document.createElement('div');\n",
              "          docLink.innerHTML = docLinkHtml;\n",
              "          element.appendChild(docLink);\n",
              "        }\n",
              "      </script>\n",
              "    </div>\n",
              "  </div>\n",
              "  "
            ]
          },
          "metadata": {},
          "execution_count": 9
        }
      ]
    },
    {
      "cell_type": "markdown",
      "metadata": {
        "id": "iAkeGUkKt1zw"
      },
      "source": [
        "###### Solution"
      ]
    },
    {
      "cell_type": "code",
      "metadata": {
        "id": "Xuj2Z0yftzZI"
      },
      "source": [
        "df['tip_percentage'] = (df['tip'] / df['total_bill']) * 100\n",
        "\n",
        "# Print the first few rows\n",
        "df.head()"
      ],
      "execution_count": null,
      "outputs": []
    },
    {
      "cell_type": "markdown",
      "metadata": {
        "id": "oykBwCLur99a"
      },
      "source": [
        "### `matplotlib` with `pandas`\n",
        "Looking at raw values only has limited value, so we'll now combine Matplotlib and Pandas together to plot some nice graphs."
      ]
    },
    {
      "cell_type": "markdown",
      "metadata": {
        "id": "NliRELXNv0zN"
      },
      "source": [
        "#### Bills and Tips\n",
        "In the next cell, plot a _scatter_ plot of values relating the total bill amount and tip percentage. Don't worry about labelling the axes or giving it a title, as we only want a quick look at the data trend.\n",
        "\n",
        "_Hint: The \"Using Matplotlib with Pandas\" section of the workbook might help if you're stuck._"
      ]
    },
    {
      "cell_type": "code",
      "metadata": {
        "id": "3kEWzFMZ6oUR",
        "outputId": "0035e4e4-56ac-48a6-90d7-45902b00a5b3",
        "colab": {
          "base_uri": "https://localhost:8080/",
          "height": 265
        }
      },
      "source": [
        "# Write your solution here\n",
        "fig, ax = plt.subplots()\n",
        "\n",
        "ax.scatter(df['total_bill'], df['tip_percentage'])\n",
        "plt.show()\n"
      ],
      "execution_count": 10,
      "outputs": [
        {
          "output_type": "display_data",
          "data": {
            "text/plain": [
              "<Figure size 432x288 with 1 Axes>"
            ],
            "image/png": "[encoded data removed]"
          },
          "metadata": {
            "needs_background": "light"
          }
        }
      ]
    },
    {
      "cell_type": "markdown",
      "metadata": {
        "id": "t3ivE-ODvXuc"
      },
      "source": [
        "###### Solution"
      ]
    },
    {
      "cell_type": "code",
      "metadata": {
        "id": "XNAV2Ld0vXaI"
      },
      "source": [
        "fig, ax = plt.subplots()\n",
        "\n",
        "ax.scatter(df['total_bill'], df['tip_percentage'])\n",
        "plt.show()"
      ],
      "execution_count": null,
      "outputs": []
    },
    {
      "cell_type": "markdown",
      "metadata": {
        "id": "iuabSX3LvZKu"
      },
      "source": [
        "According to this graph people seem to give a slightly larger tip when the bill is more expensive, although with such a small, noisy dataset we can't say anything for sure."
      ]
    },
    {
      "cell_type": "markdown",
      "metadata": {
        "id": "VIVAtq_HvvHr"
      },
      "source": [
        "#### Bills and Tip per Person\n",
        "It might be interesting to see how the amount that people tip differs depending on the numer of people in the group.\n",
        "\n",
        "In the next cell, add a new column called `tip_per_person` which is the `tip` amount divided by the number of people in the group (`size`). Then, plot a graph with `size` on the x-axis and `tip_per_person` on the y-axis. What does this indicate?"
      ]
    },
    {
      "cell_type": "code",
      "metadata": {
        "id": "Fq4ltLF_7snr",
        "outputId": "ae577898-3998-4d65-ce89-e5f808914075",
        "colab": {
          "base_uri": "https://localhost:8080/",
          "height": 265
        }
      },
      "source": [
        "# Write your solution here\n",
        "df['tip_per_person'] = df['tip'] / df['size']\n",
        "\n",
        "fig, ax = plt.subplots()\n",
        "\n",
        "ax.scatter(df['size'], df['tip_per_person'])\n",
        "plt.show()\n"
      ],
      "execution_count": 11,
      "outputs": [
        {
          "output_type": "display_data",
          "data": {
            "text/plain": [
              "<Figure size 432x288 with 1 Axes>"
            ],
            "image/png": "[encoded data removed]"
          },
          "metadata": {
            "needs_background": "light"
          }
        }
      ]
    },
    {
      "cell_type": "markdown",
      "metadata": {
        "id": "4-RIBbmyk-DS"
      },
      "source": [
        "###### Solution"
      ]
    },
    {
      "cell_type": "code",
      "metadata": {
        "id": "9_IUdpjgk-DS"
      },
      "source": [
        "df['tip_per_person'] = df['tip'] / df['size']\n",
        "\n",
        "fig, ax = plt.subplots()\n",
        "\n",
        "ax.scatter(df['size'], df['tip_per_person'])\n",
        "plt.show()"
      ],
      "execution_count": null,
      "outputs": []
    },
    {
      "cell_type": "markdown",
      "metadata": {
        "id": "tvl9-bogk-DS"
      },
      "source": [
        "It appears that people are more conservative with tipping when they're in a larger group. Interesting!"
      ]
    },
    {
      "cell_type": "markdown",
      "metadata": {
        "id": "R2KuAeKnk_ZF"
      },
      "source": [
        "## Bonus Tasks\n",
        "The bonus task for this lab goes a step further than the other exercises by plotting two data series on the same axes. This comes up very frequently in the real world, so make sure you give it a try!"
      ]
    },
    {
      "cell_type": "markdown",
      "metadata": {
        "id": "RCKFG9gelBtb"
      },
      "source": [
        "### Plotting Multiple Data Series\n",
        "You are to plot a scatter plot of the total bill and tip percentage, complete with a title, axis labels and a legend. Instead of plotting this for the entire dataframe, you should instead plot the rows for Thursday and Sunday using two different colours. Your final graph should look like the below example.\n",
        "\n",
        "_Hint: You can look at the \"Plotting Multiple Data Series\" section of the workbook for reference._\n",
        "\n",
        "![Expected graph](data:image/png;base64,iVBORw0KGgoAAAANSUhEUgAAAYMAAAEWCAYAAACEz/viAAAABHNCSVQICAgIfAhkiAAAAAlwSFlzAAALEgAACxIB0t1+/AAAADh0RVh0U29mdHdhcmUAbWF0cGxvdGxpYiB2ZXJzaW9uMy4yLjIsIGh0dHA6Ly9tYXRwbG90bGliLm9yZy+WH4yJAAAgAElEQVR4nO3deZxcdZnv8c/TnU7SAUyTBcgGibLJEhNpUCZxJhIBFRIizgQFMQiKjMgiCgYvEwLKEMAryHVQMugQrgj0BAgBR5EBXGBYshogwEUwmO4kZCEJhHRIp/u5f5xTSXV1ndpPV3X19/169aurTp3lV6eqznN+u7k7IiLSu9WUOwEiIlJ+CgYiIqJgICIiCgYiIoKCgYiIoGAgIiIoGEgKM3vJzCaVYD+fMLNXS5AkKREzW2Vmnyp3OqQyKRj0Mma2Lemvw8xak56f5e5Huvvviz2Ou//J3Q8rQZK7MLPfm9mOMM0bzewBMxsWx7EKYWbnmNlT5U5HXMxsUvjdSXxvms2sycyOLXfapHAKBr2Mu++d+AP+BkxJWnZ3udOXh2+G7+FQoAG4Od8dmFltyVPVe6wJz/8+wMeBV4A/mdnk8iZLCqVgIJ0kFyWY2Wwzm29m95nZu2a21Mw+krLulWa20sw2m9l/mFn/8LVJZtacsu53zGyFmW0N99k/6fUrzGytma0xs6+amZvZwdnS6+5vA/cDR4X7OdzMHjOzt83sVTObnnSMO83sp2b2X2b2HvBJMxsV5iw2mNkmM/tJ0vrnmtnL4Xt71MwOSnrNzewCM3vNzLaY2b9Z4MPAz4Djw7vmLeH6p5jZMjN7x8xWm9nslPP+ZTN7M0zDv6R8DjVmNtPMXg9fbzKzQeFr/c3sl+HyLWa2yMz2z3DKjo34vF40sylJ6akLc13js5x/d/dmd58F3AHckLSPH4fv9R0zW2JmnwiXH2Bm281scNK6Hw0/g7pMx5P4KBhINqcB/wkMAn4FLEj5wZ4FnAx8iOAu/aoM+5oOfBoYA4wFzgEws08DlwGfAg4GJuWaODMbAnweWGZmewGPhencD/gCcJuZHZG0yZnAdQR3tM8AjwBvAqOBEcC94X5PA74HnA4MBf4E3JNy+FOBY8P3Mh042d1fBi4AnglzWw3huu8BXybIxZwC/LOZTQuPdQRwG8G5HAYMDNOScBEwDfgHYDiwGfi38LUZ4fqjgMHhsVsznLKoz+su4EtJ630WWOvuyzLsK9UDwEfDzwFgETCOPd+d/zSz/u6+Dvg9wTlLOBu4193b8jielJK766+X/gGrgE9FLQNmA88mvVYDrAU+kbTuBUmvfxZ4PXw8CWhO2e+Xkp7fCPwsfPwL4Pqk1w4GHDg4It2/B7YDW4AW4G6CC/YZwJ9S1r0duDp8fCdwV9JrxwMbgD5pjvEb4LyU974dOCh87sDEpNebgJnh43OAp7Kc+1uAm8PHs4B7kl4bAOxM+hxeBiYnvT4MaAP6AOcC/wOMzfHzjvq8hgPvAh8In88HrojYT6fPNmn54eF5GRGx3WbgI+HjM4Cnw8e1wDrguHL/Jnrzn3IGks3qxAN37wCaCS4cXV4nuMNOfi3VuqTH24G9w8fDU/aT/DjKxe7e4O4j3P0sd98AHAR8LCwu2RIW0ZwFHBCx71HAm+6+K83+DwJ+nLSftwGj8x171Pvpwsw+ZmZPhkUhWwnu4IeEL3d6/+6+HdiUkpYHk9LyMtAO7A/8X+BR4N6wiO3GLEUtaT8vd18DPA183swagM8QBNl8jCAIBomise+ExWxbw3QPTHrPDwFHmNkY4ERgq7s/n+fxpIT6lDsBUvFGJR6YWQ0wEliT7nXgwJTXcrU23G+6feZjNfAHdz8xwzrJw/SuBg40sz5pAsJq4DovrFI93VDAvwJ+AnzG3XeY2S3suTCuBXa3vDKzeoIin+S0nOvuT0cc7xrgGjMbDfwX8Crw84h1M31e84CvElwXnnH3loh9RPkcsNTd3wvrB64AJgMvuXuHmW0mCKiE56CJoGjqcIKgJmWknIFkc4yZnW5mfYBLgfeBZ5Nev9DMRoYVmv8LuK+AYzQBXzGzD5vZAOBfCkzrI8ChZnZ2WAFaZ2bHhpW66TxPcCGeY2Z7hZWxE8LXfgZcaWZHApjZQDP7pxzT8RYw0sz6Ji3bB3g7vAgeR1B3kTAfmGJmfxduM5vwopmUlusSFdhmNjSs08DMPmlmR1vQMuodguKjjgxpy/R5LQA+ClxCUIeQVVhpPsLMriYIJN9Ler+7CIvhzGwW8IGUze8iKFKbioJB2SkYSDYPEZTvbiao5DvdO1fy/Qr4HfAG8Drwg3wP4O6/AW4FngT+wp5g836e+3kXOImg4ngNQTHODUC/iPXbgSkEdRR/IygCOyN87cFw23vN7B3gRYKik1w8AbwErDOzjeGybwDXmtm7BHUETUnpeImgkvheguC0DVjPnvf/Y2Ah8Ltw+2eBj4WvHUAQTN4hKD76A5kvrJGfl7u3ErTMGkNQGZzJcDPbFqZ1EXA0MMndfxe+/ijwW+D/ERRH7SCl+C/M6XQQ5CbezHI8iZmFFTgiXYTNHw929y9FvL4K+Kq7/3eJj/thgotvv4jy/KpmZnsTlLsf4u5/7eZjzwIOjfrMYzjeE8Cv3P2O7jieRFPOQCqCmX3OzPqZ2b4Ed+QP96ZAYGZTzGxA2Czzh8ALBK1/ujMNg4DzgLnddLxjCYqlCilalBJTMJBK8XWCopHXCVrK/HN5k9PtTiMo2loDHAJ8wbsx225mXyMoxvmNu/+xG443D/hv4NKweE/KTMVEIiKinIGIiPSQfgZDhgzx0aNHlzsZIiI9ypIlSza6+9Bc1u0RwWD06NEsXry43MkQEelRzCznJrsqJhIREQUDERFRMBAREXpInYGISCHa2tpobm5mx44d5U5KrPr378/IkSOpqyt8biAFAxGpWs3Nzeyzzz6MHj0aM8u+QQ/k7mzatInm5mbGjBlT8H6qt5hoRRPcfBTMbgj+r2jKvo2IVJUdO3YwePDgqg0EAGbG4MGDi879VGfOYEUTPHwxtIWz/21dHTwHGDs9ejsRqTrVHAgSSvEeqzNn8Pi1ewJBQltrsFxERLqILWdgZofReTTCDxKM435XuHw0waiM0919c0kPvrU5v+UiIjHYtGkTkydPBmDdunXU1tYydOhQVq1axfDhw1m5cmWZU7hHbDkDd3/V3ce5+zjgGII5Yh8EZgKPu/shwOPh89IaODK/5SIiMRg8eDDLly9n+fLlXHDBBXzrW9/a/bympvDL765dpR/dvbuKiSYDr4ezGZ1GMNcq4f9ppT/aLKir77ysrj5YLiISYcGyFibMeYIxM3/NhDlPsGBZvtNA5669vZ2vfe1rHHnkkZx00km0tgZF25MmTdo9/M7GjRtJjMt25513MnXqVE444YTduY1S6q5g8AXgnvDx/u6+Nny8Dtg/3QZmdr6ZLTazxRs2bMjvaGOnw5RbYeAowIL/U25V5bGIRFqwrIUrH3iBli2tONCypZUrH3ghtoDw2muvceGFF/LSSy/R0NDA/fffn3WbpUuXMn/+fP7whz+UPD2xtyYKJ/ieClyZ+pq7u5mlnVDB3ecSzrjU2NiY/6QLY6fr4i8iObvp0VdpbWvvtKy1rZ2bHn2VaeNHlPx4Y8aMYdy4cQAcc8wxrFq1Kus2J554IoMGDSp5WqB7cgafIZjw+q3w+VtmNgwg/L++G9IgIpLRmi2teS0vVr9+/XY/rq2t3V0P0KdPHzo6OgC69B3Ya6+9YkkLdE8w+CJ7iogAFgIzwsczgIe6IQ0iIhkNb6jPa3lcRo8ezZIlSwCYP39+tx031mAQTu59IvBA0uI5wIlm9hrwqfC5iEhZXX7yYdTX1XZaVl9Xy+UnH9at6fjOd77DT3/6U8aPH8/GjRu77bg9Yg7kxsZG1+Q2IpKvl19+mQ9/+MM5r79gWQs3Pfoqa7a0MryhnstPPiyW+oI4pHuvZrbE3Rtz2b46h6MQESnAtPEjeszFv9SqczgKERHJi4KBiIgoGIiIiIKBiIigYCAiIigYiIjE6rrrruPII49k7NixjBs3jueee67cSUpLTUtFRGLyzDPP8Mgjj7B06VL69evHxo0b2blzZ7mTlZZyBiIiCSWeO33t2rUMGTJk9zhEQ4YMYfjw4YwePXp37+LFixczadIkAGbPns25557LpEmT+OAHP8itt95a1PHzoWAgIgJ75k7fuhrwPXOnFxEQTjrpJFavXs2hhx7KN77xjZyGnn7llVd49NFHef7557nmmmtoa2sr+Pj5UDAQEYFY5k7fe++9WbJkCXPnzmXo0KGcccYZ3HnnnRm3OeWUU+jXrx9Dhgxhv/3246233sq4fqmozkBEBGKbO722tpZJkyYxadIkjj76aObNm5dxmOqooa3jppyBiAjEMnf6q6++ymuvvbb7+fLlyznooIM6DVOdywxn3UHBQEQEYpk7fdu2bcyYMYMjjjiCsWPHsnLlSmbPns3VV1/NJZdcQmNjI7W1tdl31A00hLWIVK18h7BmRVNQR7C1OcgRTJ7VY6bP1RDWIiKl0ovnTlcxkYiIKBiISHXrCUXhxSrFe1QwEJGq1b9/fzZt2lTVAcHd2bRpE/379y9qP6ozEJGqNXLkSJqbm9mwYUO5kxKr/v37M3Jk4U1gQcFARKpYXV0dY8aMKXcyegQVE4mISLzBwMwazGy+mb1iZi+b2fFmNsjMHjOz18L/+8aZBhERyS7unMGPgd+6++HAR4CXgZnA4+5+CPB4+FxERMootmBgZgOBvwd+DuDuO919C3AaMC9cbR4wLa40iIhIbuLMGYwBNgD/YWbLzOwOM9sL2N/d14brrAP2T7exmZ1vZovNbHG1twQQESm3OINBH+CjwE/dfTzwHilFQh40/k3bANjd57p7o7s3Dh06NMZkiohInMGgGWh298Tsz/MJgsNbZjYMIPy/PsY0iIhIDmILBu6+DlhtZoeFiyYDK4GFwIxw2QzgobjSICIiuYm709lFwN1m1hd4A/gKQQBqMrPzgDeB3jlEoIhIBYk1GLj7ciDdWNqT4zyuiIjkRz2QRUREwUBERBQMREQEBQMREUHBQEREUDAQEREUDEREBAUDERFBwUBERFAwEBERFAxERAQFAxERQcFARERQMBARERQMREQEBQMREUHBQEREUDAQEREUDEREBAUDERFBwUBERIA+ce7czFYB7wLtwC53bzSzQcB9wGhgFTDd3TfHmQ4REcmsO3IGn3T3ce7eGD6fCTzu7ocAj4fPRUSkjMpRTHQaMC98PA+YVoY0iIhIkriDgQO/M7MlZnZ+uGx/d18bPl4H7J9uQzM738wWm9niDRs2xJxMEZHeLdY6A2Ciu7eY2X7AY2b2SvKL7u5m5uk2dPe5wFyAxsbGtOuIiEhpxJozcPeW8P964EHgOOAtMxsGEP5fH2caREQku9iCgZntZWb7JB4DJwEvAguBGeFqM4CH4kqDiIjkJs5iov2BB80scZxfuftvzWwR0GRm5wFvAtNjTIOIiOQgtmDg7m8AH0mzfBMwOa7jiohI/tQDWUREFAxERETBQEREUDAQEREUDEREBAUDERFBwUBERFAwEBERFAxERAQFAxERQcFARERQMBARERQMRESEHEYtNbMagtFHhwOtwIvhZDUiIlIlIoOBmX0I+C7wKeA1YAPQHzjUzLYDtwPz3L2jOxIqIiLxyZQz+AHwU+Dr7t5pDuJwTuMzgbOBefElT0REukNkMHD3L2Z4bT1wSywpqjQrmuDxa2FrMwwcCZNnwVhNziYi1SXnCmQzO9jMfmlm95vZ8XEmqmKsaIKHL4atqwEP/j98cbBcRKSKRAYDM+ufsuj7wJXApQTFR9Xv8WuhrbXzsrbWYLmISBXJlDN42My+nPS8DRgNHAS0x5moirG1Ob/lIiI9VKZg8GngA2b2WzP7e+A7wMnA54CzuiNxZTdwZH7LRUR6qMhg4O7t7v4T4AxgKvBj4D/c/dvu/kquBzCzWjNbZmaPhM/HmNlzZvYXM7vPzPoW+yZiM3kW1NV3XlZXHywXEakimeoMPmZm8wnqB+4ErgKuM7P/bWYNeRzjEuDlpOc3ADe7+8HAZuC8vFPdXcZOhym3wsBRgAX/p9yq1kQiUnUspQvBnhfMlgOfBfYmyBFMCJf/A/A9dz85687NRhL0Q7gOuAyYQtB57QB33xW2SpqdbV+NjY2+ePHi3N+ViIhgZkvcvTGXdTN1OttFUGG8F7AzsdDd/wD8Ice03AJcAewTPh8MbHH3XeHzZmBEug3N7HzgfIADDzwwx8OJiEghMlUgnwl8HjgB+HKG9dIys1OB9e6+pJCEuftcd29098ahQ4cWsgsREclRppzBa+7+7Uwbm5mlDlWRZAIw1cw+SzCm0QcIKqEbzKxPmDsYCbQUkG4RESmhTDmDJ83sIjPrVEZjZn3N7AQzmwfMiNrY3a9095HuPhr4AvCEu58FPAn8Y7jaDOChot6BiIgULVs/g3bgHjNbY2YrzewNghFMvwjc4u53FnDM7wKXmdlfCOoQfl7APkREpIQiWxN1WsmsDhgCtLr7lthTlUKtiURE8leq1kS7uXsbsLaoVImISMXStJciIqJgICIiORYTmdkBwHGAA4vcfV2sqRIRkW6VNWdgZl8FngdOJ2gS+qyZnRt3wkREpPvkkjO4HBjv7psAzGww8D/AL+JMmIiIdJ9c6gw2Ae8mPX83XCYiIlUil5zBX4DnzOwhgjqD04AVZnYZgLv/KMb0iYhIN8glGLwe/iUkho/YJ826IiLSA2UNBu5+TXckREREyicyGJjZT9z9m2b2MEHxUCfuPjXWlImISLfJlDP4MvBN4IfdlBYRESmTTMHgddg9s5mIiFSxTMFgaKLFUDpqRSQiUj0yBYNaYG/AuiktIiJSJpmCwVp3v7bbUiIiImWTqQeycgQiIr1EpmAwudtSISIiZRUZDNz97e5MiIiIlI8mtxEREQUDERFRMBAREWIMBmbW38yeN7M/m9lLZnZNuHyMmT1nZn8xs/vMrG9caRARkdzEmTN4HzjB3T8CjAM+bWYfB24Abnb3g4HNwHkxpkFERHIQWzDwwLbwaV3458AJwPxw+TxgWlxpEBGR3MRaZ2BmtWa2HFgPPEYw+N0Wd98VrtIMjIjY9nwzW2xmizds2BBnMkVEer1Yg4G7t7v7OGAkcBxweB7bznX3RndvHDp0aGxpFBGRbmpN5O5bgCeB44EGM0uMiTQSaOmONIiISLQ4WxMNNbOG8HE9cCLwMkFQ+MdwtRnsmVNZJLsVTXDzUTC7Ifi/oqncKRKpClnnQC7CMGCemdUSBJ0md3/EzFYC95rZD4BlwM9jTINUkxVN8PDF0NYaPN+6OngOMHZ6+dIlUgViCwbuvgIYn2b5GwT1ByL5efzaPYEgoa01WK5gIFIU9UCWnmNrc37LRSRncRYTVYQFy1q46dFXWbOlleEN9Vx+8mFMG5+2NatUuoEjg6KhdMtFpChVnTNYsKyFKx94gZYtrTjQsqWVKx94gQXL1ICpR5o8C+rqOy+rqw+Wi0hRqjoY3PToq7S2tXda1trWzk2PvlqmFElRxk6HKbfCwFGABf+n3Kr6ApESqOpiojVbWvNaLj3A2Om6+IvEoKpzBsMb6vNanjO1dReRKlPVweDykw+jvq6207L6ulouP/mwwneaaOu+dTXge9q6KyCISA9W1cFg2vgRXH/60YxoqMeAEQ31XH/60cW1JsrU1l1EpIeq6joDCAJCSZuSqq17ZVjRFATgrc1B09LJs1SXIFKEqg8GJdeD27qXtc9FKS/eGpZCpOSqupgoFj20rXtyn4spNU9x3/avMXXBkWy/4fD46ztKXc+SR1HdgmUtTJjzBGNm/poJc55QHxORCAoG+eqhbd0TfS6m1jzFnLo7GFmzkRpzBrSujb8CvNT1LDkW1anToUjuVExUiB7Y1j3Rt+KKPk0MsJ2dX4x7sLdS17PkWFSXqdOhhiQR6Uw5A6j+fgMrmnim/yW80e9MRtjG9OvEWQEeVZ9SaD1LjkV16nQokjsFg2rvNxC+vwPYQI2BWcR6cVaA51vPki0451hUF1unQ5EqpGKiSh8jv9hWOOneX6q4K8AT6c3lfeTaUiiHorrLTz6MKx94oVNRUdGdDkWqlIJBJfcbyHRhhNwurhnfh2UNMCVrjpprPUsJg3MinRrCXCQ7c/dypyGrxsZGX7x4cTw7v/moiMrIUfCtF+M5Zq6i0lY/CHa1dr5o1tWnb9VUxPtLtMZJvrM2wAl6c8dyYZ3dEB4hlcHsLaU9lkiVM7Ml7t6Yy7qqM6jkfgNRd/Wtb+feVLOI95euNU7iMp2umWZJ2vSXurJZRHKiYFAh/QbSXkjzvQCmCx5R7w+ytqDK1uomeW6IkrXpr+TgLFLFVGcAZe83kFock7iQjjj2Io594equxUF96oPcQaqo4JH0/hYsa2H5wrlc0Xbbnv4GEZW0wxvqackSEBIBo2Rt+vOpbBaRkoktGJjZKOAuYH+C0oW57v5jMxsE3AeMBlYB0919c1zpqESLFt7OqKU3sZ9vYL0N5Tm+SGvbxzut09rWzqUrD+HpKbd2vTD+7VlY/POuOz7kpIzHTQSdx+yXDKjp2vHMH/gaLfOv5I6+X2LcKeenbY2TKtFMs6Rt+ntgpz6Rni7OnMEu4NvuvtTM9gGWmNljwDnA4+4+x8xmAjOB78aYjrJJ1xJnxOpHOGrJVdTbTjA4gA1c57dyeJ+VXL3r3E7br9nSmv7CGDWMw2u/y5ie2QtforWtneH90nc8M2BkzUauaLuNWQ/uYuLnvsH1px/NTY++SsuW1t2VxwnJzTSjchFq0y/SM8QWDNx9LbA2fPyumb0MjABOAyaFq80Dfk8PCwZXLXiBe55bTbs7tWZ88WOj+MG0ozutE1X083jtjUEgSFJjcHbtf7Ok41AgGDJiuG1kvQ2FFe91DQYFNIddsKyFLa1tAKzxIYyM6okMDLCdXOr3csev+zB7r/uZtqMZ9h/Jog9dxKUrD0nbTDNTm/6yjpYqkfS5SLJuaVpqZqOBPwJHAX9z94ZwuQGbE89TtjkfOB/gwAMPPObNN98s6Nil/sJfteAFfvns37os/9LHD+wUECbMeSLtnfIb/c6kJqIX8Nu+N/3Z2XnsoHRNRgtoLpqcnsRgdV3GKErS4bCDvtnTkiTduQbSBomiJxmSoqRrNqzPpfpUVNNSM9sbuB+41N3fSX7Ng0iUNhq5+1x3b3T3xqFDhxZ07DhGrbznuTQX4TTLI8vQfUjkvve1bdGDyCUroMVNcnoWdkxkZttXae4YQtS9QAc1uaUlybTxI3h65gn8dc4pPD3zBKaNH5GxYrksqn0cqhxV3OciZRdrMDCzOoJAcLe7PxAufsvMhoWvDwPWx3X8OL7w7RFXz9TlUWXl/1ZzJh0RF+CoYYO6FP8U0Bw2NT0LOyYyceetfM8uZldt/06vbfe+1NKRW1qyqKjB4goch6pb5kQoJkgVsG1FfS5SEWILBmER0M+Bl939R0kvLQRmhI9nAA/FlYZMX/hCfuCZ1qlNGQHu8pMPo76uttOy+rpaPnbaBfx19Be6Xmrr6oOexemkazI6dnpQJDR7S/A/h3F6otLT57T/w/b6YXRgNHcM4ca6b9A6YFjuaclwMcppsLjuulsvYF6FbpkToZjBEgvcVoP4Sao4cwYTgLOBE8xsefj3WWAOcKKZvQZ8Knwei6gvdsOAurx+4AuWtTD+2t9x6X3LI4/1xY+N6vR82vgRXH/60YxoqMcIhm9IlMd+6Cu3U3P6v3e9s//MDemLfw45qeiLZab0MHY6A777CjWztzDy2teZfdU1DPjMtV3S0ko/Fn3oos47znIxigpCuweL685RYwuoeO+W4pRiJv8pcNusn4v0OnG2JnqK6JKPyXEdN1lUCxd30v7Ar3n4pS6VZ+kq2lKlVh6nVqTefMa4rpVymdrSJ/crOOQk+POvOg1W1/rAN3lx1WaOnfr1HM7CHtPGj8i9cnDsdBat2szwJTcyjE2s8cHcuGs6jy06iOtHtezZT5aB5bIOFpfvwHTFjOJawPzV3VKcUsxgiQVuq0H8JFVV90CO+sJ/K+IOf/P2NhYsa+n0g0h3Z5jMoEsgSNekNDk9GaUGiZuP6nKxrOd9hi+5kQWjTi3djzfNRfbSlYfQ8v6tndfrSOlVnMPFKGMQyudiluvw1lEmz+q8fcLO94J9p9lHbP0nks+31YCn+Y7lMhxJAQEuIa+bA6l6VT82UboWLpl+yKnZ/3R3gFNrnuKpvhfzRr8zeab/JZ2KNEperBBxsRzGptIVVaQrqnnoQhZuP5s3+p3JU30vZmrNU7tX73RO8h1Y7pHL4JpBMHtg8L9uQO7bFzuXcqLiPbVupvXtyKKpWIpTUs93ukCQ63hMGstJSqTqg0E6mX7IqRf/1MDReUL5oAdx8oWk1JXWURfVNT64dEUV6S6y7TsZXLONGgt6Jf+47jaW9D2fqTVPdT4n+VyMHrksGEYjcfHzdmh7D6w2t+1LMffE2OnQd6+uyyOCSsa6lkJlm3Aon8ESK2SgRen5qrqYKMq08SOYvfCl3T1yk6Ve/FPrHbJNKB9VrDCwvq6w4qPJs2h94JvU8/7uRdu9Lzfuml66lh85XEzNYLBt45a622ja8TpjZiaK3SYwLd34SekuRkvuTL/z5Dvj+kFBRXq67YsoEukkz6BS8uKUTOe7kHk0NJaTlECvzBkAzJ56ZE7Z/8Sd4Tl7P89TfS9mRE3UhPLBRSqqWMEsfaX1t5v+nDmnMHY6L370+7T4EDo8aPo5s+2rPFb7D6Vp+bGiiY7IiZG7qjGY7o8ypeapPa2w2ifk1sw1XXFIql0Z7phLVSRS7jkTMh2nEmbYk16pV890lvNQFakVl1Fmb43c77fuW56+q3UaEz40iLu/dnxhac3HiiZ2PXQRfdp35L1pc8cQJu4MKpf3HVDHgL59sqftmkG5BYRMd8fFzgmd2EeXz9Og8Vw49UeRm5XMiiZ44HzSdr6vhBn2pGrkMxxFrw4GOYsaCyhVGAzSiRqrKGFqzVO7B5dAPEMAABD8SURBVKhb40N4aNC5XHjp/yoktWmlDSa/Pznt+2p3o91q6Ev0hbvDjQ++f3fa1yLHuEnUGWQVwxSXqUFk0Afhr3+k0wU5y9hLJfXIZbD4FyU9vgaek1QVNTZRJcu5QjeXrHtqJWiKdMVHCamV0iNrNvKVzbdwyfeuLMnwB1G9aD3ifRlw+c6vR/eIJqjAjhLZeurUH0HjeVnPVcmKa3b3bB4Y3Iknt5ZKDQSQsWVSyYekOPVHcPrcklX8lqKn9KKFt7Nu9sF0XD2QdbMPZtHC2wtKi/RMvbICGfLsDxBVcZnsmHMyvpzc5yE1h5CuUnqA7WRWn7to3d7E8AWb2P67A4JewQVcLKKau75VOyRoDZWiA2PfAX3hu39NewebqMDOJLKl06k/2lMUk664plTNIrvsOzUHHJEjThMgi+47EqWEFb/FzjS3aOHtXebZGLjkKhZB3p0bpWfqtTmDvPoDpKu4JLic7KKGu3Z9igkvnpr1Lmza+BFpcwjDI+YWGGTbwtyCM6B1Ldvvv5DZP7g677vSqAvz9Tv/qcsgdQB9rIOr/GfBBTXlDnZ7/TBurPsGD3dMZERDPQ31dWn3na2l04JlLUz4ryFc8t5XWMdQvNTNIn/z3ex1POmkyZXEMSRFwTmNiHGciu0pPWrpTV3m2ai3nTQuvaJXj+7am/TanEFeP5408/Iu+tBFfHnRQXsuEhF3i6nluO+9v6vLhSVqspnURj4DbCcX7byD1gd/SceCYPKb1R+9POudW8OAOjZv79qM9o/9P0mf08bT8eDXqfHOQ+f1ad+xZ0iIpDvYAcDs8C/x/vKd1CZ5mxYm8tCOiUE9w6SjmTY2zzvtdBXKkH6O6C5S5m6LyJWUekiKgnMaGXpgD28YUlRP6f18Q9rBYyzlOGrCWr16bc4g51EbE3diD5wfPD99LnzrRS5deUjWpqJXLXihSzluur4NN+6aznbv22lZVL3+ntxCkJU/aslVWct2o/blDoydTk3UCjnUlUR1ygIiy7BLdqcdNcjdb3KYOK+uPmg9lEOZfalH+Cz4/WfogV1sT+n1lmXOkHx6ekuP1GtzBpmmadwtw53Ymi1perGyZ16Dli2t3P3s33JqTrqwYyKD6voye6/78a3NrPHB1LODQWzrsm5qbqHedjJ+6UxY+l221x/AjW1nMG/bcZ3uxLemCUDAnuVFduZK1ylrwpwnIi94+d5pR7aSibo4ZiseGjgqryapOX1X8lBwTiNDZ7liB55b/dHLGZioM8j3+FIVem0wyOnHk+FObHjDrRmbikJkFWUX9XW1jDvlfBh/DQYsWtbC8l/P5Yq22zpVLLt3DQYAfcLZEQa0ruUKv423a3aycMtELp//Z2YvfCkyHbvvbNMN4FZkRW6mC14+g79lLFLJ9+JUPyioFM9TqUf4LHjwuyxBu5ie0sdO/TqLCOoO9vcNab9n3dYpT8qi1wYDyOHHk+FO7PLTut4t5ipTJ63dd8HbjoO94RK7h4E717PGBzPA0ucWkg2wnVzRp4mFOyfS1u5pi6Ug5c42TZ1IQZ25kmS64OVzp52xlUzUxbF+UNCTOTW4feaGgt9PKYekKDinEUPQTnbs1K/D1K/H28pLKlavDgZZZbgTS71brDFLOyVmShUl9XW1XD3lyLQXltS74Du3Hcd9dcfz+WNG8OQrGzjmnceyTmQPMNw2dXqe6NA2wjbSTg011sGO+mEMqL0WCC/4JR7fJtMFL5877YxFKmd2vTi20o+ZW7/AvgP6ckX9fQxoXVeS4FZKBec0YgjaZT1OCanDXfHUAzmTqDukNBWNUa1qEhfyXL6kUb2URzTU8/TME4CgPfiopTexn2+kw2x3EVGy5KEiEh3a0gaQmHvcluIHmvWchK2JEnUtN7RNZ2HHRCBDT2ipKlG/PX32Go6itPIYC6fYi9+Ymb9OW75vwF/nnJI+bSnBarv3ZWbbV3dfEJ/qezEjowbXg4ofCyfXH3ougbQgpRgLSWJV7GdfzbmKfIKBiomyyaP4pNhy5bwrFlOy84nWRA+/f9yebSM6tO0WNaNYhVwAcy1SiWV6ymJnVpNuUcxnH1vv8h5IwaCCFFSxGNEh7KoFL/DLZ/8W2aFtt9QWInFeAAsMMrkE2Vimp8x3fmYpi2I++2KH8agmvbbTWSUq5axaP5h2NF/6+IH8sP2MLh3adkvXQqTYqSWjRHUQK9EwB7cc8RpP97u40zSdRU9PWYqZ1XqKiGEuesIxiulwF0uOshS64/NIEVvOwMx+AZwKrHf3o8Jlg4D7gNHAKmC6u2+OKw09UVFFTSl33j+YPAum/SusGBcuXx2MGOrt0R2virkAZrrzj/Mue0UTx75wNViw/5G2kRv6/pyzPzqaY8d/uvD9lmpmtUq3ogkeuhDaw0YG4RzYQOlyQDHmOIvpBxJLjrJYZSqejK0C2cz+HtgG3JUUDG4E3nb3OWY2E9jX3bOOHVD2+Qx6gjxaPmUUNXdDtormbMef3UD6bnglmLug0DRnU6pzWmqlrtO5YUz6sZwK7KSXVlyfUZEqsiVSCc9VRcxn4O5/BFK/YacB88LH84BpcR2/14m6837wgvyymIVOLZmteKnIqSYzjvIZV3FOJU42n0txW75FDFGD+uU02F+OKrTIrZRFsyVTpnPV3RXI+7v72vDxOmD/bj5+9Yr6onh7flnMQjscZfsCF9F7NmuLjziLcyptsvlsxW2V2gKqgovcStm7vCTKdK7KVoHsQflUZBmVmZ1vZovNbPGGDV0nYJEUmb4o+VYAj52e2wT3uRw/sbyIu+yso3wWmpuJQclnREuVLegW0gAgaka7DDPd5a2CPqOKV6Zz1d3B4C0zGwYQ/l8ftaK7z3X3RndvHDo0y/C6EjkBz25xZ8dz+QIXEmTIocVHhRTnlGLqyayyBd1Cihg+cwPUpExSVFNX1FhOXVTIZ9QjlOlcdXcx0UJgBjAn/P9QNx+/eiW+KA9eEBQNpYo7Ox7jeDY5tfhIV5zTzZ3nuqXNerbitkKKGLpzzCNd/HNThnMVZ9PSe4BJwBAzawauJggCTWZ2HvAmu0dJk5JIfHm6YcTJ9F344/kCF9QZrwxl593SZj3bhbvQuhldqHu92IKBu38x4qXJcR1T6Ja7vO7uwl9QO/Iy9B7utjbrmS7cPXDE0R6vgoZvKYYGqpOcJXIDUZP6FD0oXCnF2a8hwoJlLTz14G1cyr0Mt42s8SHcwheY+LlvVFZrlWpQKRfgSu2LEqqIfgZSXZIrR6OUvQt/siL7NRRiWu3TzKm7Y/cc1SNrNjKn7g6m1T4d2zF7pZiHNslLXMO3lIGCgeQkXeVoqrJ24U9VjuZ5j19Ln/YdnRb1ad+R+4WhDOPR9EiVdAGu0M50hVAwkJxku+svelC4UitH87xix3WqlLvdSldJF+Ay5EDjoiGse6s8y1yjKkchqCuoyAlBuruFTDE9RzVcdu4qqTdzzPNSdyflDHqjAu5Co4YJvuWMcTw984TKCwTlUEzRVCXd7Va6SurNXEWd6ZQz6I0KuAstZpjgXqOYZp2VdLdb6Sqt+WyV9NFQ09LeqAzNLiWLCm+iKD2TmpZKZlVU6VU1qqi4QXomFRP1RlVU6VVVqqS4QXom5Qx6I92FikgK5Qx6K92FikgS5QxERETBQEREFAxERAQFAxERQcFAREToIT2QzWwDwTSZlWAIsLHcieghdK5yo/OUO52r3CTO00HuPjSXDXpEMKgkZrY41+7dvZ3OVW50nnKnc5WbQs6TiolERETBQEREFAwKMbfcCehBdK5yo/OUO52r3OR9nlRnICIiyhmIiIiCgYiIoGCQkZn9wszWm9mLScsGmdljZvZa+H/fcqaxEpjZKDN70sxWmtlLZnZJuFznKoWZ9Tez583sz+G5uiZcPsbMnjOzv5jZfWbWt9xprQRmVmtmy8zskfC5zlMaZrbKzF4ws+VmtjhcltfvT8EgszuBT6csmwk87u6HAI+Hz3u7XcC33f0I4OPAhWZ2BDpX6bwPnODuHwHGAZ82s48DNwA3u/vBwGbgvDKmsZJcAryc9FznKdon3X1cUv+CvH5/CgYZuPsfgbdTFp8GzAsfzwOmdWuiKpC7r3X3peHjdwl+vCPQuerCA9vCp3XhnwMnAPPD5TpXgJmNBE4B7gifGzpP+cjr96dgkL/93X1t+HgdsH85E1NpzGw0MB54Dp2rtMKij+XAeuAx4HVgi7vvCldpJgimvd0twBVAR/h8MDpPURz4nZktMbPzw2V5/f4001kR3N3NTG1zQ2a2N3A/cKm7vxPcyAV0rvZw93ZgnJk1AA8Ch5c5SRXHzE4F1rv7EjObVO709AAT3b3FzPYDHjOzV5JfzOX3p5xB/t4ys2EA4f/1ZU5PRTCzOoJAcLe7PxAu1rnKwN23AE8CxwMNZpa4ORsJtJQtYZVhAjDVzFYB9xIUD/0Ynae03L0l/L+e4AbjOPL8/SkY5G8hMCN8PAN4qIxpqQhhWe7PgZfd/UdJL+lcpTCzoWGOADOrB04kqGN5EvjHcLVef67c/Up3H+nuo4EvAE+4+1noPHVhZnuZ2T6Jx8BJwIvk+ftTD+QMzOweYBLBcLBvAVcDC4Am4ECCYbWnu3tqJXOvYmYTgT8BL7CnfPd7BPUGOldJzGwsQWVeLcHNWJO7X2tmHyS4Ax4ELAO+5O7vly+llSMsJvqOu5+q89RVeE4eDJ/2AX7l7teZ2WDy+P0pGIiIiIqJREREwUBERFAwEBERFAxERAQFAxERQcFAehgzaw9HZvyzmS01s78Llw83s/nh40lJo1yeY2Y/KWeaszGz72V4zczsCTP7QNKy0WZ2Tsp63zSzc2NMplQ5BQPpaVrDkRk/AlwJXA/g7mvc/R8zb1qxIoMB8Fngz+7+DoCZ/TPwG+D7ZvZ7MzsgXO8XwEXxJlOqmYKB9GQfIBjGOHG3/GKW9Xczs+PM7JlwrPz/MbPDwuXnmNmCcPz3VeEd92Xhes+a2aBwvXHh8xVm9mBirPjwAt0YPh4SDqeQ2O8DZvbbcHz5G8Plc4D6MLdzd5qknkXYczTsZXpNuOxfgHOA9wDcfTuwysyOy+8UigQUDKSnSVw4XyEY2vj7Be7nFeAT7j4emAX8a9JrRwGnA8cC1wHbw/WeAb4crnMX8F13H0vQ8/rqHI45DjgDOBo4w8xGuftM9uR2zkqzzQRgSfi4g2B0ykEA7r4qHDI8YTHwiRzSIdKFRi2VnqbV3ccBmNnxwF1mdlQB+xkIzDOzQwgusHVJrz0ZXmTfNbOtwMPh8heAsWY2EGhw9z+Ey+cB/5nDMR93961h2lcCBwGrs2wzKHHBd/f3zOxrBEVjB4Tve1aYK4BgIDKNgCoFUc5Aeix3f4Zg3KihBWz+fYKL/lHAFKB/0mvJY910JD3vIPsN1C72/K76p7yWvN/2HPYFsMvMdv9O3X0h8E/AjQTv+9tJ6/YHWnPYp0gXCgbSY5nZ4QQDvm0qYPOB7Bn++Jx8Ngzv7jebWaJI5mwgkUtYBRwTPs61QrstHAI8nVeBD0IwX4SZHRQuT8wot0/SuocSjFYpkjcVE0lPUx/OEgZgwAx3b0+eSCdHNxIUE10F/LqAdMwAfmZmA4A3gK+Ey38INIWzTeW637nACjNbmqbe4NcEI+f+haAo63aCGb+GAH8DzkxadwIwO+93IoJGLRWpaOGkJHe5+4lJy0YDk9z9zqRl44HL3P3s7k6jVAcVE4lUsHAO239P7nQGbAGWp6w6hKC5qUhBlDMQERHlDERERMFARERQMBARERQMREQEBQMREQH+Pw/VidEYMiDnAAAAAElFTkSuQmCC)"
      ]
    },
    {
      "cell_type": "code",
      "metadata": {
        "id": "kN7sUrQglBU_"
      },
      "source": [
        "# Write your solution here\n"
      ],
      "execution_count": null,
      "outputs": []
    }
  ]
}