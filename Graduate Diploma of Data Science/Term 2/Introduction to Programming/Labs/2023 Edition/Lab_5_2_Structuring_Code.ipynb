{
  "nbformat": 4,
  "nbformat_minor": 0,
  "metadata": {
    "colab": {
      "provenance": [],
      "collapsed_sections": [
        "KnNK-IATB9P0",
        "HAE0TzfDCDGn",
        "CeO4tvQOjF0L"
      ],
      "toc_visible": true
    },
    "kernelspec": {
      "name": "python3",
      "display_name": "Python 3"
    }
  },
  "cells": [
    {
      "cell_type": "markdown",
      "metadata": {
        "id": "zPAR_sVzBs4Q"
      },
      "source": [
        "# Lab 5.2 - Structuring Code\n",
        "When solving a problem, a good programmer will consider how easy the code will be to maintain and reuse. In this lab we'll practice modular programming, and see how it enables us to reuse code efficiently."
      ]
    },
    {
      "cell_type": "markdown",
      "metadata": {
        "id": "VR1K5z8xB3tD"
      },
      "source": [
        "## Programming Exercises"
      ]
    },
    {
      "cell_type": "markdown",
      "metadata": {
        "id": "NKRFXOR_B5nA"
      },
      "source": [
        "### Cinema Booking Tool\n",
        "Modular programming is the practice of separating functionality into reusable and interchangable modules (note that the word \"module\" doesn't refer to a Python module, but a logically separate block of functionality).\n",
        "\n",
        "In this first task, we have a program to handle bookings at a cinema. As they offer a concession discount, the user is asked for each guest's age and concession status, then calculates the total and prints it to the screen.\n",
        "\n",
        "While the program is fully functional, it's poorly designed. None of the code is reusable, and all of the logic is mixed together. Take a moment to read through the code and run it a few times so you understand how it works."
      ]
    },
    {
      "cell_type": "code",
      "metadata": {
        "id": "YztO59GDjgx_",
        "outputId": "40ed5b94-12fb-4125-aac4-3067f3d06710",
        "colab": {
          "base_uri": "https://localhost:8080/"
        }
      },
      "source": [
        "CONCESSION_PRICE = 10\n",
        "FULL_PRICE = 15\n",
        "\n",
        "tickets = []\n",
        "\n",
        "adding_people = True\n",
        "while adding_people:\n",
        "    age = int(input('Age: '))\n",
        "\n",
        "    if age <= 16 or age >= 65:\n",
        "        has_concession = True\n",
        "    else:\n",
        "        has_concession = input('Concession? (y/n): ') == 'y'\n",
        "\n",
        "    if has_concession:\n",
        "        price = CONCESSION_PRICE\n",
        "    else:\n",
        "        price = FULL_PRICE\n",
        "    tickets.append(price)\n",
        "\n",
        "    adding_people = input('Add another? (y/n): ') == 'y'\n",
        "\n",
        "total_price = 0\n",
        "for ticket in tickets:\n",
        "    total_price = total_price + ticket\n",
        "\n",
        "print(f'Total price: ${total_price:.2f}')"
      ],
      "execution_count": 1,
      "outputs": [
        {
          "output_type": "stream",
          "name": "stdout",
          "text": [
            "Age: 25\n",
            "Concession? (y/n): n\n",
            "Add another? (y/n): n\n",
            "Total price: $15.00\n"
          ]
        }
      ]
    },
    {
      "cell_type": "markdown",
      "metadata": {
        "id": "YbuGGyMk9zjB"
      },
      "source": [
        "In the next cell we have a more modular design for the same program. The booking is now contained in a class which provides very nice methods to perform the same tasks. Take a look at the bottom of the cell and see how simple it is to interact with this class.\n",
        "\n",
        "The class is incomplete, so it's your task to fill in the missing methods (by copy-pasting and modifying code from the previous cell) to provide the same functionality as the previous implementation.\n",
        "\n",
        "When you think you're done, run the program and check that it functions the same as the previous version.\n",
        "\n",
        "_Hint: Implement the `has_concession` method first, so it can be used in the `add_ticket` method._"
      ]
    },
    {
      "cell_type": "code",
      "metadata": {
        "id": "NNGhSDWmlXvp"
      },
      "source": [
        "CONCESSION_PRICE = 10\n",
        "FULL_PRICE = 15\n",
        "\n",
        "class Booking:\n",
        "    def __init__(self):\n",
        "        self.tickets = []\n",
        "    \n",
        "    def user_input_ticket(self):\n",
        "        \"\"\"Asks the user for guest age and adds a ticket to the booking\"\"\"\n",
        "        age = int(input('Age: '))\n",
        "        self.add_ticket(age)\n",
        "\n",
        "    def add_ticket(self, age):\n",
        "        \"\"\"Adds a ticket to the booking, accounting for concession discounts\"\"\"\n",
        "        # Write your solution here\n",
        "    \n",
        "    def has_concession(self, age):\n",
        "        \"\"\"Returns True if the guest has a concession\"\"\"\n",
        "        # Write your solution here\n",
        "    \n",
        "    def get_total_price(self):\n",
        "        \"\"\"Calculates and returns the sum of ticket prices for the booking\"\"\"\n",
        "        total_price = 0\n",
        "        for ticket in self.tickets:\n",
        "            total_price = total_price + ticket\n",
        "        return total_price\n",
        "\n",
        "\n",
        "booking = Booking()\n",
        "\n",
        "adding_people = True\n",
        "while adding_people:\n",
        "    booking.user_input_ticket()\n",
        "    adding_people = input('Add another? (y/n): ') == 'y'\n",
        "\n",
        "print(f'Total price: ${booking.get_total_price():.2f}')"
      ],
      "execution_count": null,
      "outputs": []
    },
    {
      "cell_type": "markdown",
      "metadata": {
        "id": "KnNK-IATB9P0"
      },
      "source": [
        "###### Solution"
      ]
    },
    {
      "cell_type": "markdown",
      "metadata": {
        "id": "boHvmiI1B-vb"
      },
      "source": [
        "Although this solution has more code than the original version, it's much cleaner and easier to maintain. For example, if the rules relating to concessions change, it's very clear which section of the code would need to be updated - the  `has_concession` method."
      ]
    },
    {
      "cell_type": "code",
      "metadata": {
        "id": "2-raBPMLnmXP",
        "outputId": "a2152ff8-d960-4fff-ba7c-26d16020063a",
        "colab": {
          "base_uri": "https://localhost:8080/"
        }
      },
      "source": [
        "CONCESSION_PRICE = 10\n",
        "FULL_PRICE = 15\n",
        "\n",
        "class Booking:\n",
        "    def __init__(self):\n",
        "        self.tickets = []\n",
        "    \n",
        "    def user_input_ticket(self):\n",
        "        \"\"\"Asks the user for guest age and adds a ticket to the booking\"\"\"\n",
        "        age = int(input('Age: '))\n",
        "        self.add_ticket(age)\n",
        "\n",
        "    def add_ticket(self, age):\n",
        "        \"\"\"Adds a ticket to the booking, accounting for concession discounts\"\"\"\n",
        "        if self.has_concession(age):\n",
        "            self.tickets.append(CONCESSION_PRICE)\n",
        "        else:\n",
        "            self.tickets.append(FULL_PRICE)\n",
        "    \n",
        "    def has_concession(self, age):\n",
        "        \"\"\"Returns True if the guest has a concession\"\"\"\n",
        "        if age <= 16 or age >= 65:\n",
        "            has_concession = True\n",
        "        else:\n",
        "            has_concession = input('Concession? (y/n): ') == 'y'\n",
        "        return has_concession\n",
        "    \n",
        "    def get_total_price(self):\n",
        "        \"\"\"Returns the sum of ticket prices for the booking\"\"\"\n",
        "        total_price = 0\n",
        "        for ticket in self.tickets:\n",
        "            total_price = total_price + ticket\n",
        "        return total_price\n",
        "\n",
        "\n",
        "booking = Booking()\n",
        "\n",
        "adding_people = True\n",
        "while adding_people:\n",
        "    booking.user_input_ticket()\n",
        "    adding_people = input('Add another? (y/n): ') == 'y'\n",
        "\n",
        "print(f'Total price: ${booking.get_total_price():.2f}')"
      ],
      "execution_count": 2,
      "outputs": [
        {
          "output_type": "stream",
          "name": "stdout",
          "text": [
            "Age: 25\n",
            "Concession? (y/n): n\n",
            "Add another? (y/n): n\n",
            "Total price: $15.00\n"
          ]
        }
      ]
    },
    {
      "cell_type": "markdown",
      "metadata": {
        "id": "wsmYUb6BCDGa"
      },
      "source": [
        "### Shipping Order Tool\n",
        "For this exercise you are to finish the implementation of a shipping order tool, which calculates the price to send a package containing multiple items. The program first asks the user for the weight of each item in the package, then calculates and prints the total weight of the package along with the price to ship it.\n",
        "\n",
        "The cost to send a package is normally $10, but the shipping company is currently offering a promotional deal:\n",
        " - packages under 500g are sent for free\n",
        " - packages under 2kg are half-price\n",
        " - all other packages are full-price\n",
        "\n",
        "Some of the program has already been implemented, but it is your task to finish the program off.\n",
        "\n",
        "_Hint: It may help to look at the way the class is used at the bottom of the code cell._"
      ]
    },
    {
      "cell_type": "code",
      "metadata": {
        "id": "05bh-BxOCDGm"
      },
      "source": [
        "FREE_LIMIT_KG = 0.5\n",
        "HALF_PRICE_LIMIT_KG = 2\n",
        "SHIPPING_PRICE = 10\n",
        "\n",
        "\n",
        "def price_from_weight(weight):\n",
        "    \"\"\"Returns the price to send a package of the given weight\"\"\"\n",
        "    if weight <= FREE_LIMIT_KG:\n",
        "        return 0\n",
        "    if weight <= HALF_PRICE_LIMIT_KG:\n",
        "        return SHIPPING_PRICE / 2\n",
        "    return SHIPPING_PRICE\n",
        "\n",
        "\n",
        "class Package:\n",
        "    def __init__(self):\n",
        "        self.item_weights = []\n",
        "    \n",
        "    def add_item(self, weight):\n",
        "        \"\"\"Adds an item weight to the package\"\"\"\n",
        "        # Write your solution here\n",
        "    \n",
        "    def get_total_price(self):\n",
        "        \"\"\"Returns the total price for the package\"\"\"\n",
        "        # Write your solution here\n",
        "    \n",
        "    def get_total_weight(self):\n",
        "        \"\"\"Returns the sum of the item weights for the package\"\"\"\n",
        "        # Write your solution here\n",
        "\n",
        "\n",
        "\n",
        "package = Package()\n",
        "\n",
        "adding_items = True\n",
        "while adding_items:\n",
        "    weight = float(input('Item weight (kg): '))\n",
        "    package.add_item(weight)\n",
        "    adding_items = input('Add another? (y/n): ') == 'y'\n",
        "\n",
        "print(f'Total weight: {package.get_total_weight():.2f}kg')\n",
        "print(f'Total price : ${package.get_total_price():.2f}')"
      ],
      "execution_count": null,
      "outputs": []
    },
    {
      "cell_type": "markdown",
      "metadata": {
        "id": "HAE0TzfDCDGn"
      },
      "source": [
        "###### Solution"
      ]
    },
    {
      "cell_type": "markdown",
      "metadata": {
        "id": "7jB5Vm-aCDGo"
      },
      "source": [
        "Note how the program structure facilitated code reuse - the method `get_total_weight` is able to be reused:\n",
        " - at the bottom of the cell to print the weight to the screen\n",
        " - in `get_total_price` to compute the package price\n",
        "\n"
      ]
    },
    {
      "cell_type": "code",
      "metadata": {
        "id": "NHiQOIq5CDGo",
        "outputId": "aa413b2e-36fa-4c0f-ebe2-c2d10f7f3fc3",
        "colab": {
          "base_uri": "https://localhost:8080/"
        }
      },
      "source": [
        "FREE_LIMIT_KG = 0.5\n",
        "HALF_PRICE_LIMIT_KG = 2\n",
        "SHIPPING_PRICE = 10\n",
        "\n",
        "\n",
        "def price_from_weight(weight):\n",
        "    \"\"\"Returns the price to send a package of the given weight\"\"\"\n",
        "    if weight <= FREE_LIMIT_KG:\n",
        "        return 0\n",
        "    if weight <= HALF_PRICE_LIMIT_KG:\n",
        "        return SHIPPING_PRICE / 2\n",
        "    return SHIPPING_PRICE\n",
        "\n",
        "\n",
        "class Package:\n",
        "    def __init__(self):\n",
        "        self.item_weights = []\n",
        "    \n",
        "    def add_item(self, weight):\n",
        "        \"\"\"Adds an item weight to the package\"\"\"\n",
        "        self.item_weights.append(weight)\n",
        "    \n",
        "    def get_total_price(self):\n",
        "        \"\"\"Returns the total price for the package\"\"\"\n",
        "        total_weight = self.get_total_weight()\n",
        "        total_price = price_from_weight(total_weight)\n",
        "        return total_price\n",
        "    \n",
        "    def get_total_weight(self):\n",
        "        \"\"\"Returns the sum of the item weights for the package\"\"\"\n",
        "        total_weight = 0\n",
        "        for weight in self.item_weights:\n",
        "            total_weight = total_weight + weight\n",
        "        return total_weight\n",
        "\n",
        "\n",
        "package = Package()\n",
        "\n",
        "adding_items = True\n",
        "while adding_items:\n",
        "    weight = float(input('Item weight (kg): '))\n",
        "    package.add_item(weight)\n",
        "    adding_items = input('Add another? (y/n): ') == 'y'\n",
        "\n",
        "print(f'Total weight: {package.get_total_weight():.2f}kg')\n",
        "print(f'Total price : ${package.get_total_price():.2f}')"
      ],
      "execution_count": 3,
      "outputs": [
        {
          "output_type": "stream",
          "name": "stdout",
          "text": [
            "Item weight (kg): 10\n",
            "Add another? (y/n): n\n",
            "Total weight: 10.00kg\n",
            "Total price : $10.00\n"
          ]
        }
      ]
    },
    {
      "cell_type": "markdown",
      "metadata": {
        "id": "jxeWhgNWCDMq"
      },
      "source": [
        "### Creating Modules\n",
        "It is often convenient to package related code into a module to make it available where necessary. In Python, this is done by placing code into a file ending in `.py` - a Python script file. In this exercise, we will place the code from the previous exercise into a `shipping` module.\n",
        "\n",
        "By convention, Python files are named similarly to variables, so you will see files with names like `text_processing.py`, `some_module_name.py` or in our case - `shipping.py`. Normally you would create this with a regular text editor, such as Visual Studio Code, but we'll need to do it a little differently as we're using notebook.\n",
        "\n",
        "Run the next cell to create a file with the name `shipping.py`."
      ]
    },
    {
      "cell_type": "code",
      "metadata": {
        "id": "hQruRHi3BrTb"
      },
      "source": [
        "# Create shipping.py if it doesn't exist\n",
        "!touch -a shipping.py"
      ],
      "execution_count": 4,
      "outputs": []
    },
    {
      "cell_type": "markdown",
      "metadata": {
        "id": "5KQKJOJzeVSc"
      },
      "source": [
        "To access this file, click the \"Files\" button (the one with the folder icon) on the left to open the files sidebar. It should look like this:\n",
        "\n",
        "![image.png](data:image/png;base64,iVBORw0KGgoAAAANSUhEUgAAAVQAAAC/CAIAAAAuBLMXAAAaPElEQVR4Ae2d/3MTx93H+3P/gKfNl35Zg5FwsEII2Nix/fA4JGCwgFAaIJngOaCk0UzaBtSEkgcZSjEKMUOQwSkg4rp5jGtnWnmc0Iypm8Aj0kmdOjVJjWwMDnL40kE2BAcBIsA+c1rYued0ku9kST7fvW88sLe3t/v5vHbft1/udPctq9V6EhsIgID5CHzLarVSbCAAAiYjcPLkSYjfZHUOd0EgSgDiR0MAAZMSgPhNWvFwGwQgfrQBEDApAYjfpBUPt0EA4kcbAAGTEoD4TVrxcBsEIH60ARAwKQGI36QVD7dBAOJHGwABkxKA+E1a8XAbBCB+tAEQMCkBiN+kFQ+3QQDiRxsAAZMSgPhNWvFwGwQgfrQBEDApAYjfpBUPt8cLgWAw6Ha7w+FwPIPD4bDb7Q4Gg/ESxIuH+OORQTwI6IKA2+0WBMHlcinqPxwOu1wuQRDcbrdWcyF+rcSQHgQySoDLO1b/CQ6pMRHiV0MJaUBgLAkoilwxUpOVEL8mXEgMAmNDQCZ12W5yNulR/CtXriQxW0dHR29v76OPPvqrX/2KUtrR0UEIqampSc5tnAUC446AVPBsnh87EdDklDbxezwep9MZCoUCgUBLws3v92uyQ5qYiX/BggWLJFsgEGhtbSWElJaWQvxSXAibhwDXf4IlQPU0tInf4XAIghAIBHw+n5BwS2LtkRvNxH/lyhUewwLffPPNwYMHT5w4AfHLyGDXJATGUvzBYHA0XbrKGoon/vPnzxNCXnnllVjx9/T0rFy5Mjc39+GHH169enUgEOBlvffee2VlZRaLpaCgYNu2bZFIhB9CAATGEQGufFd0G33nr63nzwwpreLv6emZMmVKXl7eunXrnn/+eZvNlpOTc/r0aUrp3//+d0JIQUHB+vXrFyxYQAh5+eWXM+MFSgGBFBKQKj8c3UY/7RfF32ydotLKcDgcCoVUJk46Weycv7KyklIar+d/7rnnioqK+vv7L0a3Tz/9NDs7e926dZTSvXv3EkL++te/Ukpv377d2Ng4ODiYtGE4EQTGhIBM+cwGxUhN5onib1ItfqfTKQgCG/y7E24NDQ2a7JAmZuKXrvc/++yz8cQ/PDyclZUlTczCc+fOpZR2dXVlZWUVFxfv27dPOheQFocwCOiZQAKRJzikxiNR/H+w5KpJSillI43MiD92wU+x5+/v7yeErFy58sj/3zo6OphTf/nLX+bPn8+uCPPmzcMlQGVdI5lOCKT38d4/WPQ47Fcp/uHhYUJIeXm5tKouXLgg3aWUhkKht99++6GHHiopKZEdwi4I6JlAen/Y06i6588MI60LfkuXLiWE8InGhx9+mJ2d3djYSCltamoqKys7e/Yss3z58uWEkOvXr2fGEZQCAnomwIb9anv+YDB47NixdPujVfwnTpzIyckhhDz11FPPPPNMVlbWI488wn7h6PP5CCE2m83hcLDV/mXLlqXbfuQPAuOCgCj+g6p7/rF9yEdxzs8oBwKBVatW2aLbmjVr2H0+dujdd9+dN2+e1Wp99NFH169ff+nSpXFRMTASBNJNQJv4vV4vf7zXl3DLwLNA6UaD/EHA2ARE8ettzm9s4vAOBHRCQBT//0x6WCfWwAwQAIGMERDF3zDJlrHyUBAIgIBOCDDxo+fXSXXADBDIHAFR/AfR82cOOEoCAb0QYHP+qXoxB3aAAAhkigATP4b9meKNckBANwSY+B/RjT0wBARAIEMEMOzPEGgUAwJ6IyCK/+1szPn1Vi+wBwTSTkAU/++yZ6S9HBQAAiCgMwKi+Ouzp+vMKpgDAiCQdgLRYf+kaWkvBwWAAAjojEB02D8RPb/OqgXmgED6CUR7/mzc6ks/aZQAAjojIIr/95jz66xWYA4IZICAKP76iVjtzwBqFAEC+iLAen4s+OmrVmANCGSAAJvzQ/wZQI0iQEBfBNDz66s+YA0IZIxAdM4/np/wCwQC7CNiil8M93q9GUOJgkBgfBEY9+JPoHx2OYD+x1eLhLUZIyCK/60J+RkrL+UFMYUrZsvHAunTf2dnJ/t+IS9rrK44+rFEsS4QqUMCUfFPzNOhZSpNUiN+QRDSpP8E4440lRgPi34siWch4vVGQBT/70wg/jTpX9bhq9x1Op2dnZ2pbQoqi5YlS4clqfULuaWPgCj+OnOIPx36l2lJ/a7L5UptpY5YtMvlckc32Rgh5Zak1i/klj4C5hK/IAipRckkpzXP5M5KXMqI4mdfLmVfK5clTpwzjhqVQHTOb9AFP1mdpU9ysoJG3E2fJTJV812fzyddg2hoaOCHUn5BHNF9JNAJAVH8ByD+ZGsjORknd1ZiG6ViloWdTieltK2tLRAIsEzC4TD74HI6LElsJ47qh4Axe36/3y/t6BjudDT0dOSZXOOQCV66yzXf0NDAM/f5fDwNj0TAVARYzz9z/PocKz+/388i29rapH7FppQeTS6sMs9gMNjS0uJ2uz0ez+HDh8PhMFt7S65QxbOYJbH/ejwenr6trU366XS+8scTIGAqAkYTP1c+k4G0rasUqqbqV5NnW1sbS+aKboIgOKOb2+3WVFbixKyI2H9DoRA/kZUbDodZTGdnpxr7+ekIGIxAVPwTDdLzy5TPWjbXfzoa+oh5hkIhQRBcLhdbbA+FQocPH2bz7QyI3+fz8fbKx/n8np/b7R7Rfn46AsYjIIrfO6FAk2PBYNDj8bB2IwiCx+Pht5E05ZOSxNLm6/V6BUHglwAW4JN/acqUFE0pHTFPJjne/XIFCoKQAfHzcsPhsHTCz91nnT/fRcBUBDSLPxgMso7L4/H4fD52FXA4HHxVKcP4ZPJjZvBIqVU8MoUWjpinbG4fCoUC97bUXjGZJbJ/ec/f0NDAR/tS91n1SWMQNg8BUfxvTVT7wx52i8jhcEgbbjAYdDqdDodDsXmlG6Wi/NRHjtI8xYKkecrELz2U2rBM9nw3FAoFg0F+FZAWGggERrRfmh5hgxHQ1vOzgTSfRXMWbPQYG88TpC+g2HzVR47SML5gzsUmDQQCATYT4cNvVhxTnexmRJosYYt80nk+ux653W42gsPjvaMkP35P1yZ+NmVV7OEFQVCcVaYbjaLOFQtVn1LxdMXIeD+kZWW53e5gMMgW/Lj+g8Eg+xUwj1HMWWtkYkuklyRpGD/s0crZSOlTKX6+tJZJQNIn1aTNWjHMnnXLpHns0TpmDOtyWXhMRkkZdhzF6ZyANvEnHvandhyrElzi13hJLwFOp1O6/qcy/5QkC4VCbW1tTPxer3eszEiJL8jEMAS0iZ8v+EmHrKFQaAwX/AxTE3AEBDJMQJv4KaWBQMAR3bxeb0tLi9fr5Y+sSG8BZNgNFAcCIKCVgCj+AxO0PeEne8iHLWuxKwL0r7UCkB4ExoqAKP79WYXJFS+VOnv4R/YIQHLZ4iwQAIEMENA87E9gE/SfAA4OgYDeCIji35tVnCqzuP4VnwVIVSnIBwRAYPQERjXsVyw+GAziJrYiGUSCgK4IsJ6/SFc2wRgQAIEMEBDFvy/rsQyUhCJAAAR0RUAU/29Jia5sgjEgAAIZICCK/009if8kNhAAAe0EkrhYYM6fBDScAgJGIKC7nt8IUOEDCIwHAqL4a3/4n+PBVNgIAiCQSgLo+VNJE3mBwDgiIIr/t6l7wm8ceQ5TQcDkBJj4cavP5M0A7puRAOb8Zqx1+AwClFJR/Ht+OAssQAAEzEYgKn4C8Zut3uEvCER7/lqCW31oCiBgOgIY9puuyuEwCDACED9aAgiYlIAofgz7TVr5cNvcBETx7zbQar/f7+ffomOBgwcPmruK4T0IKBNg4v8v5YPjLZZ9GE/6lR4WHpPviI03eLDXdAQMJX7+zelY/SvGuN1u01U4HAaBewRE8df8sPTe7vj+P1b8iT+hLQgCPps3vqsc1o+CgJF7fjba93q9it0+i4T4R9F4cOr4JiCK3/ODx8e3E/esl/b80nl+Av1D/Pfg4X/TETCm+KXKZ1UaT/8Qv+maPBy+R8CA4ne5XD09PbLvCPb09LhcrtjxP8R/ryXgf9MREMW/y4jDfulKvtvtjpV94jl/XV0duy5cvXp1165dV65cMV3TgMNGJ2DAnp+pepTinz17dmNjI6W0v79/xowZGCAYXQhm9E8U/xs/eMIYrksX/EYpfmMAgRcgkICAYXt+h8PBn/N1OBxah/0JkOEQCBiDQLTn//5sYzgT7/HeeMoXBEG6LmgMCPACBFQSEMVvmAU/Sqnf7/d4PLzPTxDweDydnZ0qMSEZCBiPgKF6fuNVDzwCgfQREMW/8/tPpq8A5AwCIKBPAkz8Blnt1ydiWAUC+iSQZM8fDodbWlpkLvl8vnA4LIvELgiAgD4JJDPnD4fD7FFZ6aMv7B67y+WC/vVZ07AKBGQENIufK9/v98vy8vv9giBA/zIs2AUBfRLQNudPoHzmHvSvz2qGVSAQS0DDnH9E5bPcof9YyogBAR0SEMW/43tz1FgG8auhhDQgMF4IiOKv/t5cleaOqH90+ypJ8mQ2m+3QoUN8V2vgnXfemTlzptazkB4E7n6ld+f3NdznT6B/PSh/3L23P93iv3jxIiGkp6cHzR0EZAQ0DPv5mVz/ervVF++HPbFv9eK+jHkA4h/zKjCtAaL4X39Q7bCfYwqHwz6fj++yQAof8knuYQHp7/kT/JKPH5L+5l/mS3d395IlSyZPnjxr1qx33nmHHR0eHl6/fv3UqVNtNtuLL77IXu/T3t4+ffr02tra6dOnP/TQQ5WVlefOnXv66actFsucOXPYb4euXr1KCKmpqSktLbVYLCtXrhwaGmJ5SsXv9Xpnzpw5derUn//855cvX5aZxHfPnTu3fPlyq9W6cOHCTZs28WH/qVOnKioqrFZrXl7ejh07KKUHDhwg97atW7dSShVd4DkjYCoCUfGrW/DLJBePx5PEj221ij/Be/sLCws3b948MDDQ1NQ0ceLErq4uSunPfvazxYsX9/T09Pb2lpeXv/rqq5TS9vZ2QsjGjRsDgUBTUxMhJC8vr7W1tbu7e/Xq1bNniz+XZuL/6U9/Ojg42N/fX1ZWtnbtWsaTi7++vr6oqOjjjz/u7e1dtmzZiy++GA/4M888Y7fbP/nkE7/fX1xczMR/69atwsLCDRs2nD179qOPPsrNzX333Xdv3rwZDAYJIV1dXZFIJJ4L8QpCvLEJsAW/Mr056Xa7HQ6HVv2nSvxMq0eOHGFY/vSnP7E5c29vbygUYpFer7esTOTW3t4+adKkW7dusfjy8vINGzaw8CeffEIIuXbtGsvw008/ZfEffPDBxIkTb9y4QSnl4i8qKmptbWUJjh8/PmHChJs3b7Jd6b/9/f2EkM8//5xFNjY2MvF/8803x48fv3btGotfvXr1pk2bKKWyOb+iC9L8ETYPAdbzax72pxsQe+WmVv2nSvyU0m3btlmt1hdeeKG5ufnq1avM38uXL2/cuLGkpCQ3N9dqtZaWil86am9vt1gsHMjSpUurq6vZbnd3NyFkaGhIJv4LFy4QQvr7+7n4r1y5QgixWq050W3y5MmEkIGBAZ4tD3zwwQfZ2dl37txhMdLV/t7e3p/85Cf5+fm5ubnZ2dnsGiQTv6ILPHMETEVAFP/2B/XY87OZuSb9p1D8lNIvvvhi//79ixYtysvLY2OQNWvWrFq16ty5c5TS+vr6pMU/MDCgKP4///nPX0g2xZ7/ww8/nDx5Mm+jXPw3btxgU/3h4WFK6QsvvKAofkUXeG4ImIqAKH6VD/lkkgt/2bamXwqkSvx9fX3V1dWsd71z586TTz5ZU1NDKZ0yZcrhw4cZhzfffFOr+P/xj3+wcw8dOpSdnS0b9s+YMWPfvn0c8tdff83D0sCZM2cIIXxC1NzczIb9n3/+OSGEKZ9SWlFRwcQfCoWkt/oUXZDmj7B5CESH/Xrt+TUpn1KaKvFfuHDBYrHs2LFjYGDA7/fzaXl5eflzzz33z3/+s6mpyWazFRUVaRr2L1++vKenp6Ojo6Sk5Je//CVrZDzz/fv322y21tbWgYGBmpqauXPn8rG9rDk+++yzq1atCoVCAwMD8+fPZ+IfHBy0WCxVVVVdXV3V1dWEEKfTSSmNRCJZWVm1tbXnz5+nlCq6IMsfuyYhIIrf/YAeh/1alZ9C8bN3Ac6fP99isRQWFrJun+W/aNGinJycZcuW1dXVzZkzJxKJqJ/zV1dXz54922KxrFq16quvvmItjIv/9u3bu3btysvLs1gsS5Ys6e7ujtcE2a0+i8Uyd+7czZs3M/FTSg8dOlRcXGyz2dauXVtVVfWLX/yC5fDaa6/l5ORs27YtngvxCkK8sQnodM7f0NCQxK3+VPX8Ka9y2YKfyvy7urrY+p/03ySwqCwOycxGQKfD/uSqwWDij0QikuW/u8F4c4HkiOEsMxNg4p9nDATxHu/lj/TFBvjKWVoJJNfzp9UkZA4COh32J10xeG9/0uhwotkIiOKvesAgPb/ZKg/+gsBoCIji1+Fq/2hcwrkgAAJqCIji34aeXw0qpAEBYxGA+I1Vn/AGBFQTYHP++arTIyEIgIBBCETn/A9iwc8g1Qk3QEA9AQz71bNCShAwFAGI31DVCWdAQD0BUfxbDbfaHwwGe5Q29VyQEgQMTyAq/vvLjeQne4N47JO8giCM8jW+dru9trY2ltXjjz/Of+cfezRBTNInJsgTh0BAJQEmfoXV/n+/9G32pzIj/STzeDyxyne73V6vd5T6jyf+hoaGs2fPJkEg6ROTKAungICMgCj+39xvKPHztwBJLwHsLd2j1H888cuYYhcExgUBUfxVD5hF/JRSlfpXfG+/3W6vrKysqKhg7+Rn7/PmL+GklNrt9o0bNy5evHjy5MllZWWfffYZawTx4vmbPLZu3bpmzZrKysrc3Nz8/Pzm5mZ2YiQSefnll3NycvLz8+vr6wkhp06dkjas9vb2GTNmbN++nb23c8uWLbdv3w4EAoSQEydOsJRbtmxZtGiR9CyEQeDu57qqHlgQy2L8DvsT9PzMTab/hoaGWK95jOJ7++12u8Vi8fl83d3dFRUVCxbc5cY1bLfbS0tL+/r6hoaGXnrppeLiYvZK73jx/MStW7dmZWVt3749EAi89tprFovl0qVLlNI33nhj2rRp77///vHjxysqKhTFTwjZs2dPOBw+duyYzWZramqilD7xxBM7d+5k7pSWlu7du5e7hgAIMAJiz7/lPoUFP4OJ3+l0tkg2h8OR4HM97Of3se/tt9vt/KyjR49mZ2ffvn1b1vPzFcGvvvpq0qRJx44dYyMCxXip+HnnfOPGDUJIR0cHpTQvL++tt95iVfXll18qil/64vCqqqof//jHlNJdu3axzwqwF34qvgUcGjA5ATbnt8dSMJj4pfN/FuYyjvU93nv7pXP+jo4OQojsDbzSBJTSWbNmNTY2ysQvjZeKf8WKFdySCRMmHDly5Nq1a4QQ/s7f8+fPjyh+n8+Xn59PKT19+jQh5Msvv6yrqysvV7i487IQMC0BUfxb74f4FRpA7Hv7pdpWI/7HHnvs4MGDseLn8YnFz4YA/Ds/asTf3Nycl5fHnCkrKztw4MCKFSv27Nmj4B6iTE+A9fwKPYOZe/547+1XI/7du3ezRnXx4sUJEyZ89NFHTPyK8YnFTyktLCysr69nGbJPfcQu+E2aNIm/2M/lcj399NMsfW1t7cKFCy0WC/s0kOmbOgDICWDYLydCKY333n414i8oKPjb3/7W29srCMKsWbPYooDdbleMH1H8NTU106dPP3z48PHjx1esWMGH/XV1dez76OwzoZs3bz5z5kxLS4vVav3jH//IXGIXCzbzV3ASUaYnIIp/y30LYzmYueeP995+NeJ3Op1Lly5lt/r+9a9/MbB2u10xfkTxRyKRV155JScnp6SkZPfu3fwjX7Nnz2arCeyrATU1NTNnzszNza2qquKjAErpvHnzPB5PbOUiBgTu3urbch/m/KlpDNKrgzTHePHSNIrhSCTCxfzxxx8TQq5fvy5NKftkiPTQ9evXbTZbX1+fNBJhEOAEWM8P8XMgowrEE3m8+BEL27lz59q1a/v6+rq6uux2+/PPPy87JZ74T5w4sX79+h/96Eey9NgFAU5AFP+vMeznPEYXiCfyePEjljY4OLhu3TqbzTZt2rS1a9devnxZdko88RcUFJSVlZ0+fVqWHrsgwAloW/C7NXTm5qn/lf7duSZvjjzrsQooPuEXe58fk+GxqiCUqxMC0WH//aoe7701dIavAvLA4Osz9ab/BD/plV4COjs7dVIHMAMExoSAhmH/1+//hmteGgj92npp9xzZ37Dv7ieox8SrYDAYSLhl5itdY+I7CgUBlQRE8W/+7lOxqbm8+SEm/sHX84d2P5n4b/D1/H+/9O0bn7XycxEAARDQG4Go+O9T+L1nPPFH+o6O6EOk7+i/X/r21+//ZsSUSAACIDBWBNiwX9Wcn/X8EP9YVRXKBYHUEmDDflVP+EH8qUWP3EBgbAlg2D+2/FE6CIwZAVH8W+5Hzz9mFYCCQWCsCLCeX8NqP+b8Y1VVKBcEUktAFP+m7y6OzRSr/bFMEAMCRiKgWfzho7ulj/cqhsNHd+NWn5FaCXwxJAFR/JXfUdXzKz7eywcIsYFbQ2cMiQxOgYAxCGgQP6X01tCZSN9RNX9QvjHaB7wwMAFt4jcwCLgGAmYjoGHObzY08BcEjE2AiV/VrT5jg4B3IGA2AqL4XeoW/MyGBv6CgLEJMPGr+lWfsUHAOxAwGwHM+c1W4/AXBO4SEMX/3/+xJJYHv28fewgxIAACBiDAhv0KL3iG+A1Qu3ABBBIQQM+fAA4OgYCRCbA5P271GbmO4RsIKBIQxb/xOxj2K8JBJAgYmQCG/UauXfgGAgkIiOJ/Fav9CQjhEAgYlIAo/g1K4jeov3ALBEDgLoHosF/p8V4QAgEQMDaBuMN+Y7sN70AABE6ePPl//p+ZbeWGT+oAAAAASUVORK5CYII=)\n",
        "\n",
        "Double click `shipping.py` to open the file in the editor. To save changes, you just need to hit `<ctrl>+s`."
      ]
    },
    {
      "cell_type": "markdown",
      "metadata": {
        "id": "TOSHkdQ6empW"
      },
      "source": [
        "There's one more thing to do before moving on. Run the following cell so we can edit the file and use it immediately in the notebook. As we're running Python in a notebook, these commands are required so modules are reloaded automatically."
      ]
    },
    {
      "cell_type": "code",
      "metadata": {
        "id": "ujpQ3QG5eWPk"
      },
      "source": [
        "%load_ext autoreload\n",
        "%autoreload 2"
      ],
      "execution_count": 5,
      "outputs": []
    },
    {
      "cell_type": "markdown",
      "metadata": {
        "id": "_Be60rMKfGXY"
      },
      "source": [
        "Great! The file is still empty, so we need to move our shipping-related code into it.\n",
        "\n",
        "Copy the code from the solution to the Shipping Order Tool exercise into this file and save it. It should contain the entirety of the program's code:\n",
        "\n",
        "```python\n",
        "FREE_LIMIT_KG = 0.5\n",
        "HALF_PRICE_LIMIT_KG = 2\n",
        "\n",
        "...\n",
        "\n",
        "print(f'Total weight: {package.get_total_weight():.2f}kg')\n",
        "print(f'Total price : ${package.get_total_price():.2f}')\n",
        "```"
      ]
    },
    {
      "cell_type": "markdown",
      "metadata": {
        "id": "3yOgiIXAhkZP"
      },
      "source": [
        "Up until now, we've been running Python directly in the notebook. However, the other way is to run a script directly. We would normally do this in a console, by running something like the below, we would run `my_script` as the _main module_.\n",
        "\n",
        "```\n",
        "python my_script.py\n",
        "```\n",
        "\n",
        "However, as we're running our code in a notebook, we need to add an exclamation mark to indicate that it's a _shell_ command.\n",
        "\n",
        "_(This is the same reason that we used the exclamation mark in the last lab when we ran `!pip install pandas`)_\n",
        "\n",
        "Run the next cell to run our shipping program."
      ]
    },
    {
      "cell_type": "code",
      "metadata": {
        "id": "SciBu0MMh67M"
      },
      "source": [
        "!python shipping.py"
      ],
      "execution_count": 6,
      "outputs": []
    },
    {
      "cell_type": "markdown",
      "metadata": {
        "id": "5ZwtZ4yWiCTN"
      },
      "source": [
        "It should work exactly as it did before. If so, mission success! If not, make sure that you've entered the entirety of the source code into the file and saved it."
      ]
    },
    {
      "cell_type": "markdown",
      "metadata": {
        "id": "-tC_H_kI2-Cs"
      },
      "source": [
        "### Importing Modules\n",
        "Now let's say that we want to reuse the `price_from_weight` function to give a price estimate for a given package weight. The below code cell would do just that.\n",
        "\n",
        "Run the cell to see if it works."
      ]
    },
    {
      "cell_type": "code",
      "metadata": {
        "id": "C_DMvB6Q3qRz",
        "outputId": "0347364b-faf9-451d-c669-284338c04020",
        "colab": {
          "base_uri": "https://localhost:8080/"
        }
      },
      "source": [
        "import shipping\n",
        "\n",
        "weight = float(input('Package weight (kg): '))\n",
        "print(f'Quoted price: ${price_from_weight(weight):.2f}')"
      ],
      "execution_count": 7,
      "outputs": [
        {
          "output_type": "stream",
          "name": "stdout",
          "text": [
            "Package weight (kg): 40\n",
            "Quoted price: $10.00\n"
          ]
        }
      ]
    },
    {
      "cell_type": "markdown",
      "metadata": {
        "id": "3zZNJE-_hNGZ"
      },
      "source": [
        "Uh oh! Although we only wanted to use the `price_from_weight` function, when we imported the shipping module we caused the program to run. This is because when a module is imported, all code inside that module is executed. This is a problem, as we don't want `shipping` to act as as the _main module_ in this instance.\n",
        "\n",
        "Python provides a simple solution. We're able to tell when a script is run as the _main module_ rather than as an imported module by checking a special variable called `__name__`. If this variable is set to `'__main__'`, the script was run like `python my_script.py`\n",
        "\n",
        "This means that to run code _only_ when the script is run as the main module, we just need to put that script inside a _main module guard_ like this:\n",
        "\n",
        "```python\n",
        "print('I am always executed')\n",
        "\n",
        "if __name__ == '__main__':\n",
        "    print('I am not executed when imported')\n",
        "```\n",
        "\n",
        "Fix the import problem in our `shipping.py` script by placing the appropriate code inside a _main module guard_ like the above. Then, run the following cell to ensure that it works as expected."
      ]
    },
    {
      "cell_type": "code",
      "metadata": {
        "id": "IJMgxSdujOtE",
        "outputId": "213a7386-8d64-4e76-c4ca-467019c32c5e",
        "colab": {
          "base_uri": "https://localhost:8080/"
        }
      },
      "source": [
        "import shipping\n",
        "\n",
        "weight = float(input('Package weight (kg): '))\n",
        "print(f'Quoted price: ${price_from_weight(weight):.2f}')"
      ],
      "execution_count": 21,
      "outputs": [
        {
          "output_type": "stream",
          "name": "stdout",
          "text": [
            "Package weight (kg): 7\n",
            "Quoted price: $10.00\n"
          ]
        }
      ]
    },
    {
      "cell_type": "markdown",
      "metadata": {
        "id": "CeO4tvQOjF0L"
      },
      "source": [
        "###### Solution"
      ]
    },
    {
      "cell_type": "markdown",
      "metadata": {
        "id": "0x6gx6YyeP7-"
      },
      "source": [
        "The code in `shipping.py` should end like this:\n",
        "```python\n",
        "...\n",
        "\n",
        "if __name__ == '__main__':\n",
        "    package = Package()\n",
        "\n",
        "    adding_items = True\n",
        "    while adding_items:\n",
        "        weight = float(input('Item weight (kg): '))\n",
        "        package.add_item(weight)\n",
        "        adding_items = input('Add another? (y/n): ') == 'y'\n",
        "\n",
        "    print(f'Total weight: {package.get_total_weight():.2f}kg')\n",
        "    print(f'Total price : ${package.get_total_price():.2f}')\n",
        "```"
      ]
    },
    {
      "cell_type": "markdown",
      "metadata": {
        "id": "x3abVX7jCDTP"
      },
      "source": [
        "### Creating Modules 2\n",
        "Finally, we'll create another file which is responsible for giving shipping quotes. Run the following cell to create a file called `shipping_quote.py`, then open the file using the files sidebar. You may need to click the \"refresh\" button above the file browser to see the newly-created file."
      ]
    },
    {
      "cell_type": "code",
      "metadata": {
        "id": "Neh9WKLdCDTQ"
      },
      "source": [
        "# Create shipping_quote.py if it doesn't exist\n",
        "!touch -a shipping_quote.py"
      ],
      "execution_count": 27,
      "outputs": []
    },
    {
      "cell_type": "markdown",
      "metadata": {
        "id": "mJEj9kNqkhby"
      },
      "source": [
        "Now, move the appropriate code into this file and add the _main module guard_ so we don't have trouble with imports.\n",
        "\n",
        "The program should function exactly as before, but with the ability to be run by calling `python shipping_quote.py`. Once you've completed `shipping_quote.py`, run the following cell to ensure that it works as expected.\n",
        "\n",
        "_Note that by running `shipping_quote.py`, `shipping_quote` becomes the main module._"
      ]
    },
    {
      "cell_type": "code",
      "metadata": {
        "id": "6YPtcFyulBQl"
      },
      "source": [
        "!python shipping_quote.py"
      ],
      "execution_count": 28,
      "outputs": []
    },
    {
      "cell_type": "markdown",
      "metadata": {
        "id": "6-RB05S5CDTQ"
      },
      "source": [
        "###### Solution"
      ]
    },
    {
      "cell_type": "markdown",
      "metadata": {
        "id": "a_wUniWiCDTQ"
      },
      "source": [
        "Although we don't intend on importing `shipping_quote` anywhere else, it's a good habit to use a _main module guard_ with every program. This prevents unforeseen issues in the future."
      ]
    },
    {
      "cell_type": "code",
      "metadata": {
        "id": "n5XaUDvECDTR",
        "outputId": "d59c8452-36f5-4569-cd5c-cef427465f1d",
        "colab": {
          "base_uri": "https://localhost:8080/",
          "height": 235
        }
      },
      "source": [
        "import shipping\n",
        "\n",
        "if __name__ == '__main__':\n",
        "  weight = float(input('Package weight (kg): '))\n",
        "  #print(f'Quoted price: ${shipping.price_from_weight(weight):.2f}') \n",
        "  #Unable to print this function\n",
        "  print(f'Quoted price: ${price_from_weight(weight):.2f}')"
      ],
      "execution_count": 29,
      "outputs": [
        {
          "name": "stdout",
          "output_type": "stream",
          "text": [
            "Package weight (kg): 2\n"
          ]
        },
        {
          "output_type": "error",
          "ename": "AttributeError",
          "evalue": "ignored",
          "traceback": [
            "\u001b[0;31m---------------------------------------------------------------------------\u001b[0m",
            "\u001b[0;31mAttributeError\u001b[0m                            Traceback (most recent call last)",
            "\u001b[0;32m<ipython-input-29-7b4194c30a95>\u001b[0m in \u001b[0;36m<module>\u001b[0;34m\u001b[0m\n\u001b[1;32m      3\u001b[0m \u001b[0;32mif\u001b[0m \u001b[0m__name__\u001b[0m \u001b[0;34m==\u001b[0m \u001b[0;34m'__main__'\u001b[0m\u001b[0;34m:\u001b[0m\u001b[0;34m\u001b[0m\u001b[0;34m\u001b[0m\u001b[0m\n\u001b[1;32m      4\u001b[0m   \u001b[0mweight\u001b[0m \u001b[0;34m=\u001b[0m \u001b[0mfloat\u001b[0m\u001b[0;34m(\u001b[0m\u001b[0minput\u001b[0m\u001b[0;34m(\u001b[0m\u001b[0;34m'Package weight (kg): '\u001b[0m\u001b[0;34m)\u001b[0m\u001b[0;34m)\u001b[0m\u001b[0;34m\u001b[0m\u001b[0;34m\u001b[0m\u001b[0m\n\u001b[0;32m----> 5\u001b[0;31m   \u001b[0mprint\u001b[0m\u001b[0;34m(\u001b[0m\u001b[0;34mf'Quoted price: ${shipping.price_from_weight(weight):.2f}'\u001b[0m\u001b[0;34m)\u001b[0m\u001b[0;34m\u001b[0m\u001b[0;34m\u001b[0m\u001b[0m\n\u001b[0m\u001b[1;32m      6\u001b[0m   \u001b[0;31m#print(f'Quoted price: ${price_from_weight(weight):.2f}')\u001b[0m\u001b[0;34m\u001b[0m\u001b[0;34m\u001b[0m\u001b[0m\n",
            "\u001b[0;31mAttributeError\u001b[0m: module 'shipping' has no attribute 'price_from_weight'"
          ]
        }
      ]
    },
    {
      "cell_type": "markdown",
      "metadata": {
        "id": "p4mQUiQICE_a"
      },
      "source": [
        "## Bonus Tasks\n",
        "If you're concerned that you might forget some of the content you've learned today and desire some more practice, these bonus tasks are for you!"
      ]
    },
    {
      "cell_type": "markdown",
      "metadata": {
        "id": "VNxeYMlBCHRo"
      },
      "source": [
        "### Cinema Module\n",
        "You are to move the Cinema Booking Tool code into a file called `cinema.py` and modify it such that it's compatible with the code below.\n",
        "\n",
        "Since the code for entering tickets is in the code cell below, we don't need this in the module itself. Thus the module should contain _only_ the class definition."
      ]
    },
    {
      "cell_type": "code",
      "metadata": {
        "id": "6j3c9RrY6V6_"
      },
      "source": [
        "# Create cinema.py if it doesn't exist\n",
        "!touch -a cinema.py"
      ],
      "execution_count": 14,
      "outputs": []
    },
    {
      "cell_type": "code",
      "metadata": {
        "id": "rVVnjZvXCG4p",
        "outputId": "af97ae9c-4d5b-46a3-eeb8-1e4c65b78e06",
        "colab": {
          "base_uri": "https://localhost:8080/",
          "height": 235
        }
      },
      "source": [
        "import cinema\n",
        "\n",
        "booking = cinema.Booking()\n",
        "\n",
        "adding_people = True\n",
        "while adding_people:\n",
        "    booking.user_input_ticket()\n",
        "    adding_people = input('Add another? (y/n): ') == 'y'\n",
        "\n",
        "print(f'Total price: ${booking.get_total_price():.2f}')"
      ],
      "execution_count": 15,
      "outputs": [
        {
          "output_type": "error",
          "ename": "AttributeError",
          "evalue": "ignored",
          "traceback": [
            "\u001b[0;31m---------------------------------------------------------------------------\u001b[0m",
            "\u001b[0;31mAttributeError\u001b[0m                            Traceback (most recent call last)",
            "\u001b[0;32m<ipython-input-15-56eee448debe>\u001b[0m in \u001b[0;36m<module>\u001b[0;34m\u001b[0m\n\u001b[1;32m      1\u001b[0m \u001b[0;32mimport\u001b[0m \u001b[0mcinema\u001b[0m\u001b[0;34m\u001b[0m\u001b[0;34m\u001b[0m\u001b[0m\n\u001b[1;32m      2\u001b[0m \u001b[0;34m\u001b[0m\u001b[0m\n\u001b[0;32m----> 3\u001b[0;31m \u001b[0mbooking\u001b[0m \u001b[0;34m=\u001b[0m \u001b[0mcinema\u001b[0m\u001b[0;34m.\u001b[0m\u001b[0mBooking\u001b[0m\u001b[0;34m(\u001b[0m\u001b[0;34m)\u001b[0m\u001b[0;34m\u001b[0m\u001b[0;34m\u001b[0m\u001b[0m\n\u001b[0m\u001b[1;32m      4\u001b[0m \u001b[0;34m\u001b[0m\u001b[0m\n\u001b[1;32m      5\u001b[0m \u001b[0madding_people\u001b[0m \u001b[0;34m=\u001b[0m \u001b[0;32mTrue\u001b[0m\u001b[0;34m\u001b[0m\u001b[0;34m\u001b[0m\u001b[0m\n",
            "\u001b[0;31mAttributeError\u001b[0m: module 'cinema' has no attribute 'Booking'"
          ]
        }
      ]
    },
    {
      "cell_type": "markdown",
      "metadata": {
        "id": "cOATLQCummxk"
      },
      "source": [
        "### Cinema Module 2\n",
        "This is a very small task, but will help test and reinforce your module knowledge.\n",
        "\n",
        "Add the missing function to the cinema module, such that it produces this output:\n",
        "\n",
        "```\n",
        "TICKET PRICES:\n",
        "Full price: $15\n",
        "Concession: $10\n",
        "```"
      ]
    },
    {
      "cell_type": "code",
      "metadata": {
        "id": "1un8DWKjmmx1"
      },
      "source": [
        "import cinema\n",
        "\n",
        "cinema.print_ticket_prices()"
      ],
      "execution_count": null,
      "outputs": []
    }
  ]
}