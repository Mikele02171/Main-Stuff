{
 "cells": [
  {
   "cell_type": "markdown",
   "id": "d7d8beec",
   "metadata": {},
   "source": [
    "## Activity: Function call"
   ]
  },
  {
   "cell_type": "markdown",
   "id": "a3735add",
   "metadata": {},
   "source": [
    "### Topic 1: Functions"
   ]
  },
  {
   "cell_type": "markdown",
   "id": "9f4af192",
   "metadata": {},
   "source": [
    "What is the second argument of the shown function call?"
   ]
  },
  {
   "cell_type": "code",
   "execution_count": 2,
   "id": "6e154edf",
   "metadata": {},
   "outputs": [
    {
     "name": "stdout",
     "output_type": "stream",
     "text": [
      "I, Jimbo, am 18 years old\n"
     ]
    }
   ],
   "source": [
    "print('I, Jimbo, am', 18, 'years old')"
   ]
  },
  {
   "cell_type": "markdown",
   "id": "f86e7067",
   "metadata": {},
   "source": [
    "My Answer: 18"
   ]
  },
  {
   "cell_type": "markdown",
   "id": "0f1cc879",
   "metadata": {},
   "source": [
    "### Writing functions"
   ]
  },
  {
   "cell_type": "markdown",
   "id": "2bcbbb88",
   "metadata": {},
   "source": [
    "### Activity: Function output I"
   ]
  },
  {
   "cell_type": "code",
   "execution_count": 3,
   "id": "a1780b7f",
   "metadata": {},
   "outputs": [
    {
     "name": "stdout",
     "output_type": "stream",
     "text": [
      "Groovy!\n",
      "Groovy!\n",
      "Groovy!\n",
      "Groovy!\n",
      "Groovy!\n",
      "Groovy!\n"
     ]
    }
   ],
   "source": [
    "def funky_func():\n",
    "    for i in range(3):\n",
    "        print('Groovy!')\n",
    "funky_func()\n",
    "if 2 + 2 ==5:\n",
    "    funky_func()\n",
    "funky_func()"
   ]
  },
  {
   "cell_type": "markdown",
   "id": "224ac057",
   "metadata": {},
   "source": [
    "My Answer: 6 times, 3 times from the for loop and 3 times for calling out the function"
   ]
  },
  {
   "cell_type": "markdown",
   "id": "138fdd64",
   "metadata": {},
   "source": [
    "### Parameters, scope and return values"
   ]
  },
  {
   "cell_type": "markdown",
   "id": "18ea4216",
   "metadata": {},
   "source": [
    "#### Activity: Function output II"
   ]
  },
  {
   "cell_type": "markdown",
   "id": "8377cfdb",
   "metadata": {},
   "source": [
    "What is the output of the shown program?"
   ]
  },
  {
   "cell_type": "code",
   "execution_count": 7,
   "id": "772f5d23",
   "metadata": {},
   "outputs": [
    {
     "name": "stdout",
     "output_type": "stream",
     "text": [
      "0\n"
     ]
    }
   ],
   "source": [
    "def square_pos(n):\n",
    "    if n < 0:\n",
    "        return 0\n",
    "    return n ** 2\n",
    "\n",
    "print(square_pos(-4))"
   ]
  },
  {
   "cell_type": "markdown",
   "id": "bcd5bb96",
   "metadata": {},
   "source": [
    "Answer: 0"
   ]
  },
  {
   "cell_type": "markdown",
   "id": "7901c5ab",
   "metadata": {},
   "source": [
    "### Creating classes"
   ]
  },
  {
   "cell_type": "markdown",
   "id": "192612fe",
   "metadata": {},
   "source": [
    "#### Activity: Instance variables"
   ]
  },
  {
   "cell_type": "markdown",
   "id": "e216b23d",
   "metadata": {},
   "source": [
    "What are the instance variables of the Box class shown below?"
   ]
  },
  {
   "cell_type": "code",
   "execution_count": 6,
   "id": "ee061c8d",
   "metadata": {},
   "outputs": [],
   "source": [
    "class Box:\n",
    "    def __init__(self, width, height):\n",
    "        self.area = width * height\n",
    "        self.full = False"
   ]
  },
  {
   "cell_type": "markdown",
   "id": "c986ebe4",
   "metadata": {},
   "source": [
    "Answer: area and full are instance variables"
   ]
  },
  {
   "cell_type": "markdown",
   "id": "b2cb06c9",
   "metadata": {},
   "source": [
    "### References and mutability"
   ]
  },
  {
   "cell_type": "markdown",
   "id": "ea928f36",
   "metadata": {},
   "source": [
    "Activity: Class output"
   ]
  },
  {
   "cell_type": "markdown",
   "id": "70e7f8a6",
   "metadata": {},
   "source": [
    "var1 = Ellipse(2, 2)"
   ]
  },
  {
   "cell_type": "markdown",
   "id": "d8ed45f9",
   "metadata": {},
   "source": [
    "var2 = Ellipse(3, 4)"
   ]
  },
  {
   "cell_type": "markdown",
   "id": "131b59d8",
   "metadata": {},
   "source": [
    "var1 = var2"
   ]
  },
  {
   "cell_type": "markdown",
   "id": "77655712",
   "metadata": {},
   "source": [
    "var1.height = 5"
   ]
  },
  {
   "cell_type": "markdown",
   "id": "f746d177",
   "metadata": {},
   "source": [
    "print(var1.width)"
   ]
  },
  {
   "cell_type": "markdown",
   "id": "56558510",
   "metadata": {},
   "source": [
    "print(var1.height)"
   ]
  },
  {
   "cell_type": "markdown",
   "id": "b4c5ab0a",
   "metadata": {},
   "source": [
    "Answer: 3 and 5 respectively"
   ]
  },
  {
   "cell_type": "markdown",
   "id": "c51f74cd",
   "metadata": {},
   "source": [
    "### Topic 3: Strings"
   ]
  },
  {
   "cell_type": "markdown",
   "id": "09914bc6",
   "metadata": {},
   "source": [
    "Activity: String"
   ]
  },
  {
   "cell_type": "markdown",
   "id": "a376dba0",
   "metadata": {},
   "source": [
    "Using a single-line double-quoted string literal and escape sequences, how would you express the following text as a Python string?"
   ]
  },
  {
   "cell_type": "markdown",
   "id": "4f210cc5",
   "metadata": {},
   "source": [
    "It's cheap,"
   ]
  },
  {
   "cell_type": "markdown",
   "id": "78e94842",
   "metadata": {},
   "source": [
    "Not “cheap”."
   ]
  },
  {
   "cell_type": "code",
   "execution_count": 9,
   "id": "25417f47",
   "metadata": {},
   "outputs": [
    {
     "name": "stdout",
     "output_type": "stream",
     "text": [
      "It's cheap,\n"
     ]
    }
   ],
   "source": [
    "print('It\\'s cheap,')"
   ]
  },
  {
   "cell_type": "code",
   "execution_count": 10,
   "id": "702f8335",
   "metadata": {},
   "outputs": [
    {
     "name": "stdout",
     "output_type": "stream",
     "text": [
      "Not \"cheap\".\n"
     ]
    }
   ],
   "source": [
    "print('Not \"cheap\".')"
   ]
  },
  {
   "cell_type": "markdown",
   "id": "1ecf4e24",
   "metadata": {},
   "source": [
    "### Manipulating strings"
   ]
  },
  {
   "cell_type": "markdown",
   "id": "b191ae22",
   "metadata": {},
   "source": [
    "Activity: String expression output"
   ]
  },
  {
   "cell_type": "markdown",
   "id": "0c346c79",
   "metadata": {},
   "source": [
    "What is the result of the following Python expression?"
   ]
  },
  {
   "cell_type": "code",
   "execution_count": 11,
   "id": "17ae3d83",
   "metadata": {},
   "outputs": [
    {
     "data": {
      "text/plain": [
       "4"
      ]
     },
     "execution_count": 11,
     "metadata": {},
     "output_type": "execute_result"
    }
   ],
   "source": [
    "'No worries, Oliver'.rfind('o')"
   ]
  },
  {
   "cell_type": "markdown",
   "id": "03181d67",
   "metadata": {},
   "source": [
    "rfind string method (short for reverse find)"
   ]
  },
  {
   "cell_type": "markdown",
   "id": "7d71c47b",
   "metadata": {},
   "source": [
    "### f-strings and formatting"
   ]
  },
  {
   "cell_type": "markdown",
   "id": "e98da7e2",
   "metadata": {},
   "source": [
    "Activity: Number of decimal places"
   ]
  },
  {
   "cell_type": "markdown",
   "id": "d4ae3b46",
   "metadata": {},
   "source": [
    "What will the output of the shown program be?"
   ]
  },
  {
   "cell_type": "code",
   "execution_count": 12,
   "id": "8ec9851b",
   "metadata": {},
   "outputs": [
    {
     "name": "stdout",
     "output_type": "stream",
     "text": [
      "|20.00 |\n"
     ]
    }
   ],
   "source": [
    "speed_kph = 40.0\n",
    "time_h = 0.5\n",
    "print(f'|{time_h * speed_kph:<6.2f}|')"
   ]
  },
  {
   "cell_type": "markdown",
   "id": "71ca3906",
   "metadata": {},
   "source": [
    "### Reading and Writing text files"
   ]
  },
  {
   "cell_type": "markdown",
   "id": "6ebbcf6c",
   "metadata": {},
   "source": [
    "Activity: File output"
   ]
  },
  {
   "cell_type": "markdown",
   "id": "d4f3d3cf",
   "metadata": {},
   "source": [
    "What will be the contents of output.txt after the shown program finishes running?"
   ]
  },
  {
   "cell_type": "code",
   "execution_count": 15,
   "id": "81617686",
   "metadata": {},
   "outputs": [],
   "source": [
    "f = open('output.txt', 'w')\n",
    "for i in range(5):\n",
    "    f.write(str(i))\n",
    "f.close()"
   ]
  },
  {
   "cell_type": "markdown",
   "id": "2d5d66eb",
   "metadata": {},
   "source": [
    "Ask your instructor about this problem"
   ]
  },
  {
   "cell_type": "code",
   "execution_count": null,
   "id": "219308c5",
   "metadata": {},
   "outputs": [],
   "source": []
  },
  {
   "cell_type": "code",
   "execution_count": null,
   "id": "df537b63",
   "metadata": {},
   "outputs": [],
   "source": []
  },
  {
   "cell_type": "code",
   "execution_count": null,
   "id": "aad327f8",
   "metadata": {},
   "outputs": [],
   "source": []
  },
  {
   "cell_type": "code",
   "execution_count": null,
   "id": "8ae34742",
   "metadata": {},
   "outputs": [],
   "source": []
  },
  {
   "cell_type": "code",
   "execution_count": null,
   "id": "7ac584d2",
   "metadata": {},
   "outputs": [],
   "source": []
  },
  {
   "cell_type": "code",
   "execution_count": null,
   "id": "aa90df45",
   "metadata": {},
   "outputs": [],
   "source": []
  }
 ],
 "metadata": {
  "kernelspec": {
   "display_name": "Python 3 (ipykernel)",
   "language": "python",
   "name": "python3"
  },
  "language_info": {
   "codemirror_mode": {
    "name": "ipython",
    "version": 3
   },
   "file_extension": ".py",
   "mimetype": "text/x-python",
   "name": "python",
   "nbconvert_exporter": "python",
   "pygments_lexer": "ipython3",
   "version": "3.9.7"
  }
 },
 "nbformat": 4,
 "nbformat_minor": 5
}
