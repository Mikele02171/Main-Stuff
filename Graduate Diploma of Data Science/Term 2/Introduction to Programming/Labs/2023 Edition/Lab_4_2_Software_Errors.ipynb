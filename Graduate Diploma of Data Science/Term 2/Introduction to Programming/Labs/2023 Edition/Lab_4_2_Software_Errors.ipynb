{
  "nbformat": 4,
  "nbformat_minor": 0,
  "metadata": {
    "colab": {
      "provenance": [],
      "collapsed_sections": [
        "soeVd7axN8Sn",
        "U9wrtil_B6Oi",
        "VIyZdChrOCOU",
        "vuosJZ9G-OxS",
        "Wh_4x46alvhZ",
        "76-laHmonnzV",
        "mEHtQSHGqKsW",
        "j2SQUSKTOCnz",
        "10V2cuvTOChl"
      ],
      "toc_visible": true
    },
    "kernelspec": {
      "name": "python3",
      "display_name": "Python 3"
    }
  },
  "cells": [
    {
      "cell_type": "markdown",
      "metadata": {
        "id": "uazLx8ErzVWh"
      },
      "source": [
        "# Lab 4.2 - Software Errors\n",
        "Nobody likes errors in their software, so preventing and recovering from them should be a primary focus for all programmers. In this lab we will practice identifying errors by reading code, writing preventative code to avoid crashes, writing comprehensive test suites to ensure validity, and handling errors that we encounter."
      ]
    },
    {
      "cell_type": "markdown",
      "metadata": {
        "id": "M6o-lXgczZJb"
      },
      "source": [
        "## Programming Exercises"
      ]
    },
    {
      "cell_type": "markdown",
      "metadata": {
        "id": "OMsLvH14zZG-"
      },
      "source": [
        "### Syntax Errors\n",
        "Syntax errors are arguably the most common type of error for a programmer learning a new language. As you become more comfortable with both the language and reading code in general, catching syntax errors at a glance will become second nature.\n",
        "\n",
        "The code in the below cell has a number of syntax errors, and as such Python won't be able to execute it. Read the code closely, identify and correct all of the syntax errors.\n",
        "\n",
        "You should run the cell **after** you have corrected all the errors you find. If you still encounter an error, you haven't yet fixed all the problems!\n",
        "\n",
        "_Hint: Before looking too closely, read the code to understand what task it's supposed to perform._"
      ]
    },
    {
      "cell_type": "code",
      "metadata": {
        "id": "HG04RODWN71Y",
        "outputId": "e027f0bb-7ae4-490f-82a0-996f99a23afa",
        "colab": {
          "base_uri": "https://localhost:8080/",
          "height": 130
        }
      },
      "source": [
        "# Write your solution here\n",
        "counter = int(input('Starting number: ')\n",
        "\n",
        "while counter => 1\n",
        "    print(f{'counter'}...)\n",
        "    counter = counter - 1\n",
        "print('Blast off!')"
      ],
      "execution_count": 1,
      "outputs": [
        {
          "output_type": "error",
          "ename": "SyntaxError",
          "evalue": "ignored",
          "traceback": [
            "\u001b[0;36m  File \u001b[0;32m\"<ipython-input-1-88c1479ca345>\"\u001b[0;36m, line \u001b[0;32m4\u001b[0m\n\u001b[0;31m    while counter => 1\u001b[0m\n\u001b[0m    ^\u001b[0m\n\u001b[0;31mSyntaxError\u001b[0m\u001b[0;31m:\u001b[0m invalid syntax\n"
          ]
        }
      ]
    },
    {
      "cell_type": "markdown",
      "metadata": {
        "id": "soeVd7axN8Sn"
      },
      "source": [
        "###### Solution"
      ]
    },
    {
      "cell_type": "markdown",
      "metadata": {
        "id": "LmIVCXR-N9kJ"
      },
      "source": [
        "Here are the errors in the code - hopefully you were able to find them all:\n",
        " - Missing closing parenthesis on line 1\n",
        " - Missing colon to start the while block on line 4\n",
        " - `=>` instead of `>=` on line 4\n",
        " - The quotes should go around the `f-string` on line 5, not around the variable name"
      ]
    },
    {
      "cell_type": "code",
      "metadata": {
        "id": "rjUtmzClN_Gw"
      },
      "source": [
        "# Write your solution here\n",
        "counter = int(input('Starting number: '))\n",
        "\n",
        "while counter >= 1:\n",
        "    print(f'{counter}...')\n",
        "    counter = counter - 1\n",
        "print('Blast off!')"
      ],
      "execution_count": null,
      "outputs": []
    },
    {
      "cell_type": "markdown",
      "metadata": {
        "id": "D-74nS5DOB6U"
      },
      "source": [
        "### Logic Errors\n",
        "Logic errors can be the most difficult to detect and prevent, as they usually don't result in the program crashing. These errors are the result of an incorrect code implementation or a poorly designed algorithm.\n",
        "\n",
        "For this exercise, we are implementing our own version of the Python \"equal to\" operator `==` between two strings. It should return `True` if all of the characters in both strings match, and `False` if not. However, it's currently broken!\n",
        "\n",
        "The code has a few logic errors, which will cause the program to function incorrectly, and in some cases even crash! It is your task to read the code to ensure you understand its intention, run the program, then identify and correct the error sources.\n",
        "\n",
        "_Hint: It may be helpful to print a different message in each branch of an if statement._"
      ]
    },
    {
      "cell_type": "code",
      "metadata": {
        "id": "_v7vvHm4Ai30",
        "outputId": "d5ac1e80-07b8-4da5-fab5-dcf1c491f6cd",
        "colab": {
          "base_uri": "https://localhost:8080/",
          "height": 391
        }
      },
      "source": [
        "def strings_match(string_a, string_b):\n",
        "    letters_match = True\n",
        "    for i in range(len(string_a)):\n",
        "        if string_a[i] != string_b[i]:\n",
        "            letters_match = False\n",
        "        else:\n",
        "            letters_match = True\n",
        "    return letters_match\n",
        "\n",
        "print(strings_match('abc', 'def'))   # False\n",
        "print(strings_match('abc', 'abc'))   # True\n",
        "print(strings_match('abcd', 'abdd')) # False\n",
        "print(strings_match('abc', 'abcd'))  # False\n",
        "print(strings_match('abcd', 'abc'))  # False"
      ],
      "execution_count": 2,
      "outputs": [
        {
          "output_type": "stream",
          "name": "stdout",
          "text": [
            "False\n",
            "True\n",
            "True\n",
            "True\n"
          ]
        },
        {
          "output_type": "error",
          "ename": "IndexError",
          "evalue": "ignored",
          "traceback": [
            "\u001b[0;31m---------------------------------------------------------------------------\u001b[0m",
            "\u001b[0;31mIndexError\u001b[0m                                Traceback (most recent call last)",
            "\u001b[0;32m<ipython-input-2-83f40c7a8d83>\u001b[0m in \u001b[0;36m<module>\u001b[0;34m\u001b[0m\n\u001b[1;32m     12\u001b[0m \u001b[0mprint\u001b[0m\u001b[0;34m(\u001b[0m\u001b[0mstrings_match\u001b[0m\u001b[0;34m(\u001b[0m\u001b[0;34m'abcd'\u001b[0m\u001b[0;34m,\u001b[0m \u001b[0;34m'abdd'\u001b[0m\u001b[0;34m)\u001b[0m\u001b[0;34m)\u001b[0m \u001b[0;31m# False\u001b[0m\u001b[0;34m\u001b[0m\u001b[0;34m\u001b[0m\u001b[0m\n\u001b[1;32m     13\u001b[0m \u001b[0mprint\u001b[0m\u001b[0;34m(\u001b[0m\u001b[0mstrings_match\u001b[0m\u001b[0;34m(\u001b[0m\u001b[0;34m'abc'\u001b[0m\u001b[0;34m,\u001b[0m \u001b[0;34m'abcd'\u001b[0m\u001b[0;34m)\u001b[0m\u001b[0;34m)\u001b[0m  \u001b[0;31m# False\u001b[0m\u001b[0;34m\u001b[0m\u001b[0;34m\u001b[0m\u001b[0m\n\u001b[0;32m---> 14\u001b[0;31m \u001b[0mprint\u001b[0m\u001b[0;34m(\u001b[0m\u001b[0mstrings_match\u001b[0m\u001b[0;34m(\u001b[0m\u001b[0;34m'abcd'\u001b[0m\u001b[0;34m,\u001b[0m \u001b[0;34m'abc'\u001b[0m\u001b[0;34m)\u001b[0m\u001b[0;34m)\u001b[0m  \u001b[0;31m# False\u001b[0m\u001b[0;34m\u001b[0m\u001b[0;34m\u001b[0m\u001b[0m\n\u001b[0m",
            "\u001b[0;32m<ipython-input-2-83f40c7a8d83>\u001b[0m in \u001b[0;36mstrings_match\u001b[0;34m(string_a, string_b)\u001b[0m\n\u001b[1;32m      2\u001b[0m     \u001b[0mletters_match\u001b[0m \u001b[0;34m=\u001b[0m \u001b[0;32mTrue\u001b[0m\u001b[0;34m\u001b[0m\u001b[0;34m\u001b[0m\u001b[0m\n\u001b[1;32m      3\u001b[0m     \u001b[0;32mfor\u001b[0m \u001b[0mi\u001b[0m \u001b[0;32min\u001b[0m \u001b[0mrange\u001b[0m\u001b[0;34m(\u001b[0m\u001b[0mlen\u001b[0m\u001b[0;34m(\u001b[0m\u001b[0mstring_a\u001b[0m\u001b[0;34m)\u001b[0m\u001b[0;34m)\u001b[0m\u001b[0;34m:\u001b[0m\u001b[0;34m\u001b[0m\u001b[0;34m\u001b[0m\u001b[0m\n\u001b[0;32m----> 4\u001b[0;31m         \u001b[0;32mif\u001b[0m \u001b[0mstring_a\u001b[0m\u001b[0;34m[\u001b[0m\u001b[0mi\u001b[0m\u001b[0;34m]\u001b[0m \u001b[0;34m!=\u001b[0m \u001b[0mstring_b\u001b[0m\u001b[0;34m[\u001b[0m\u001b[0mi\u001b[0m\u001b[0;34m]\u001b[0m\u001b[0;34m:\u001b[0m\u001b[0;34m\u001b[0m\u001b[0;34m\u001b[0m\u001b[0m\n\u001b[0m\u001b[1;32m      5\u001b[0m             \u001b[0mletters_match\u001b[0m \u001b[0;34m=\u001b[0m \u001b[0;32mFalse\u001b[0m\u001b[0;34m\u001b[0m\u001b[0;34m\u001b[0m\u001b[0m\n\u001b[1;32m      6\u001b[0m         \u001b[0;32melse\u001b[0m\u001b[0;34m:\u001b[0m\u001b[0;34m\u001b[0m\u001b[0;34m\u001b[0m\u001b[0m\n",
            "\u001b[0;31mIndexError\u001b[0m: string index out of range"
          ]
        }
      ]
    },
    {
      "cell_type": "markdown",
      "metadata": {
        "id": "U9wrtil_B6Oi"
      },
      "source": [
        "###### Solution"
      ]
    },
    {
      "cell_type": "markdown",
      "metadata": {
        "id": "fF2QC_mnB6Oj"
      },
      "source": [
        "There were two logic errors in this program---congratulations if you managed to fix them both without reading this solution!\n",
        "\n",
        "1. The code incorrectly assumes that both strings will be of the same length. When this is not the case, bad things happen. If the first string is longer, the program will crash. If the second string is longer, the extra characters in the second string are ignored completely which can produce incorrect results.\n",
        "  - We can fix this issue by comparing the string lengths. If the strings differ in length, we know that they don't match, and can return `False` immediately.\n",
        "2. `letters_match` has its value changed every iteration of the loop, and as a consequence it's only the last comparison that ends up mattering. So effectively the code is incorrectly only checking whether the last letters match!\n",
        "  - What we want instead is for any mismatched letter to cause the strings to not match. Thus we should set `letters_match` to `True` initially (i.e. start by assuming that the strings match), then only change it to `False` if we encounter a mismatched letter. Under no circumstances should we change `letters_match` back to `True`, since after one mismatched letter is encountered it is impossible for the strings to match.\n"
      ]
    },
    {
      "cell_type": "code",
      "metadata": {
        "id": "XoCj-74Ezg58",
        "outputId": "fac91a52-3024-49a8-b190-d238ad0cfa7b",
        "colab": {
          "base_uri": "https://localhost:8080/"
        }
      },
      "source": [
        "def strings_match(string_a, string_b):\n",
        "    if len(string_a) != len(string_b):\n",
        "        return False\n",
        "\n",
        "    letters_match = True\n",
        "    for i in range(len(string_a)):\n",
        "        if string_a[i] != string_b[i]:\n",
        "            letters_match = False\n",
        "    return letters_match\n",
        "\n",
        "print(strings_match('abc', 'def'))   # False\n",
        "print(strings_match('abc', 'abc'))   # True\n",
        "print(strings_match('abcd', 'abdd')) # False\n",
        "print(strings_match('abc', 'abcd'))  # False\n",
        "print(strings_match('abcd', 'abc'))  # False"
      ],
      "execution_count": 3,
      "outputs": [
        {
          "output_type": "stream",
          "name": "stdout",
          "text": [
            "False\n",
            "True\n",
            "False\n",
            "False\n",
            "False\n"
          ]
        }
      ]
    },
    {
      "cell_type": "markdown",
      "metadata": {
        "id": "kodsEIXcCISR"
      },
      "source": [
        "The solution above will check every letter of the strings, even after encountering a mismatch. A better (and more efficient) solution would be to immediately return `False` when a mismatch occurs.\n",
        "\n",
        "This has the benefit of stopping iteration early, and also avoids the `letters_match` variable.\n",
        "```python\n",
        "# Better solution\n",
        "def strings_match(string_a, string_b):\n",
        "    if len(string_a) != len(string_b):\n",
        "        return False\n",
        "\n",
        "    for i in range(len(string_a)):\n",
        "        if string_a[i] != string_b[i]:\n",
        "            return False\n",
        "    return True\n",
        "```"
      ]
    },
    {
      "cell_type": "markdown",
      "metadata": {
        "id": "G2gAXk74OCOT"
      },
      "source": [
        "### Assertions\n",
        "The role of the `assert` statement in Python is to detect the program when it's in a state that should never be encountered. It should be used as a tool to ensure code correctness during development, with the intention of it never being triggered in \"the real world\".\n",
        "\n",
        "To demonstrate this, we have a program below which (badly) predicts the amount of rainfall. When given two days of rainfall in millimetres, it predicts the third day using linear extrapolation. \\\n",
        "For example:\n",
        "\n",
        "| Day 1 | Day 2 | Day 3 (prediction) |\n",
        "|-------|-------|--------------------|\n",
        "| 5     | 5     | 5                  |\n",
        "| 10    | 20    | 30                 |\n",
        "| 16    | 12    | 8                  |\n",
        "\n",
        "\n",
        "As it's not possible for there to be _negative_ millimetres of rain on any day, we should ensure that our program never makes predictions less than zero. Some of the examples below cause our function to return an invalid value, so run the program to find out where it fails, and place an appropriate `assert` statement somewhere in the function."
      ]
    },
    {
      "cell_type": "code",
      "metadata": {
        "id": "9QF3hDI_DowN",
        "outputId": "5bd7de9f-e02f-4a58-f781-43d82cb096e2",
        "colab": {
          "base_uri": "https://localhost:8080/"
        }
      },
      "source": [
        "def predict_rainfall(rain_mm_0, rain_mm_1):\n",
        "    # Predict rainfall using the previous two days' observations\n",
        "    rain_mm_diff = rain_mm_1 - rain_mm_0\n",
        "    prediction_mm = rain_mm_1 + rain_mm_diff\n",
        "    return prediction_mm\n",
        "    \n",
        "print(predict_rainfall(0, 5))\n",
        "print(predict_rainfall(32, 17))\n",
        "print(predict_rainfall(15, 15))\n",
        "print(predict_rainfall(20, 7))\n",
        "print(predict_rainfall(0, 0))\n",
        "print(predict_rainfall(2, 0))"
      ],
      "execution_count": 4,
      "outputs": [
        {
          "output_type": "stream",
          "name": "stdout",
          "text": [
            "10\n",
            "2\n",
            "15\n",
            "-6\n",
            "0\n",
            "-2\n"
          ]
        }
      ]
    },
    {
      "cell_type": "markdown",
      "metadata": {
        "id": "VIyZdChrOCOU"
      },
      "source": [
        "###### Solution"
      ]
    },
    {
      "cell_type": "markdown",
      "metadata": {
        "id": "hb9jKnhgOCOU"
      },
      "source": [
        "Adding `assert` statements is quite straightforward, provided that you know what to test for! They exist to catch program states which should _never_ occur. Combined with a good set of tests, assertions can aid in the development of robust code."
      ]
    },
    {
      "cell_type": "code",
      "metadata": {
        "id": "FICl23V3OCOU"
      },
      "source": [
        "def predict_rainfall(rain_mm_0, rain_mm_1):\n",
        "    # Predict rainfall using the previous two days' observations\n",
        "    rain_mm_diff = rain_mm_1 - rain_mm_0\n",
        "    prediction_mm = rain_mm_1 + rain_mm_diff\n",
        "\n",
        "    assert prediction_mm >= 0, 'Predicted rainfall cannot be negative'\n",
        "    return prediction_mm\n",
        "\n",
        "print(predict_rainfall(0, 5))\n",
        "print(predict_rainfall(32, 17))\n",
        "print(predict_rainfall(15, 15))\n",
        "print(predict_rainfall(20, 7))\n",
        "print(predict_rainfall(0, 0))\n",
        "print(predict_rainfall(2, 0))"
      ],
      "execution_count": null,
      "outputs": []
    },
    {
      "cell_type": "markdown",
      "metadata": {
        "id": "4swD2oS6-OxL"
      },
      "source": [
        "### Assertions 2\n",
        "The `assert` added in the previous task uncovered cases where our function fails, but it still needs to be corrected.\n",
        "\n",
        "Modify the code in the cell below so that the prediction returned by the function is _clamped_ to be non-negative. Thus, values less than zero will be set to zero, and all other values left untouched. \\\n",
        "You will find the `max` function useful:\n",
        "```python\n",
        ">>> max(5, 3)\n",
        "5\n",
        ">>> max(-5, 3)\n",
        "3\n",
        "```\n",
        "\n",
        "_Hint: The correct solution will ensure that all examples pass the `assert` statement._"
      ]
    },
    {
      "cell_type": "code",
      "metadata": {
        "id": "x33XUf2g-OxP",
        "outputId": "ac72af60-17bd-4133-b068-3523f995b82e",
        "colab": {
          "base_uri": "https://localhost:8080/",
          "height": 408
        }
      },
      "source": [
        "def predict_rainfall(rain_mm_0, rain_mm_1):\n",
        "    # Predict rainfall using the previous two days' observations\n",
        "    rain_mm_diff = rain_mm_1 - rain_mm_0\n",
        "    prediction_mm = rain_mm_1 + rain_mm_diff\n",
        "\n",
        "    assert prediction_mm >= 0, 'Predicted rainfall cannot be negative'\n",
        "    return prediction_mm\n",
        "\n",
        "print(predict_rainfall(0, 5))\n",
        "print(predict_rainfall(32, 17))\n",
        "print(predict_rainfall(15, 15))\n",
        "print(predict_rainfall(20, 7))\n",
        "print(predict_rainfall(0, 0))\n",
        "print(predict_rainfall(2, 0))"
      ],
      "execution_count": 5,
      "outputs": [
        {
          "output_type": "stream",
          "name": "stdout",
          "text": [
            "10\n",
            "2\n",
            "15\n"
          ]
        },
        {
          "output_type": "error",
          "ename": "AssertionError",
          "evalue": "ignored",
          "traceback": [
            "\u001b[0;31m---------------------------------------------------------------------------\u001b[0m",
            "\u001b[0;31mAssertionError\u001b[0m                            Traceback (most recent call last)",
            "\u001b[0;32m<ipython-input-5-029339545ba4>\u001b[0m in \u001b[0;36m<module>\u001b[0;34m\u001b[0m\n\u001b[1;32m     10\u001b[0m \u001b[0mprint\u001b[0m\u001b[0;34m(\u001b[0m\u001b[0mpredict_rainfall\u001b[0m\u001b[0;34m(\u001b[0m\u001b[0;36m32\u001b[0m\u001b[0;34m,\u001b[0m \u001b[0;36m17\u001b[0m\u001b[0;34m)\u001b[0m\u001b[0;34m)\u001b[0m\u001b[0;34m\u001b[0m\u001b[0;34m\u001b[0m\u001b[0m\n\u001b[1;32m     11\u001b[0m \u001b[0mprint\u001b[0m\u001b[0;34m(\u001b[0m\u001b[0mpredict_rainfall\u001b[0m\u001b[0;34m(\u001b[0m\u001b[0;36m15\u001b[0m\u001b[0;34m,\u001b[0m \u001b[0;36m15\u001b[0m\u001b[0;34m)\u001b[0m\u001b[0;34m)\u001b[0m\u001b[0;34m\u001b[0m\u001b[0;34m\u001b[0m\u001b[0m\n\u001b[0;32m---> 12\u001b[0;31m \u001b[0mprint\u001b[0m\u001b[0;34m(\u001b[0m\u001b[0mpredict_rainfall\u001b[0m\u001b[0;34m(\u001b[0m\u001b[0;36m20\u001b[0m\u001b[0;34m,\u001b[0m \u001b[0;36m7\u001b[0m\u001b[0;34m)\u001b[0m\u001b[0;34m)\u001b[0m\u001b[0;34m\u001b[0m\u001b[0;34m\u001b[0m\u001b[0m\n\u001b[0m\u001b[1;32m     13\u001b[0m \u001b[0mprint\u001b[0m\u001b[0;34m(\u001b[0m\u001b[0mpredict_rainfall\u001b[0m\u001b[0;34m(\u001b[0m\u001b[0;36m0\u001b[0m\u001b[0;34m,\u001b[0m \u001b[0;36m0\u001b[0m\u001b[0;34m)\u001b[0m\u001b[0;34m)\u001b[0m\u001b[0;34m\u001b[0m\u001b[0;34m\u001b[0m\u001b[0m\n\u001b[1;32m     14\u001b[0m \u001b[0mprint\u001b[0m\u001b[0;34m(\u001b[0m\u001b[0mpredict_rainfall\u001b[0m\u001b[0;34m(\u001b[0m\u001b[0;36m2\u001b[0m\u001b[0;34m,\u001b[0m \u001b[0;36m0\u001b[0m\u001b[0;34m)\u001b[0m\u001b[0;34m)\u001b[0m\u001b[0;34m\u001b[0m\u001b[0;34m\u001b[0m\u001b[0m\n",
            "\u001b[0;32m<ipython-input-5-029339545ba4>\u001b[0m in \u001b[0;36mpredict_rainfall\u001b[0;34m(rain_mm_0, rain_mm_1)\u001b[0m\n\u001b[1;32m      4\u001b[0m     \u001b[0mprediction_mm\u001b[0m \u001b[0;34m=\u001b[0m \u001b[0mrain_mm_1\u001b[0m \u001b[0;34m+\u001b[0m \u001b[0mrain_mm_diff\u001b[0m\u001b[0;34m\u001b[0m\u001b[0;34m\u001b[0m\u001b[0m\n\u001b[1;32m      5\u001b[0m \u001b[0;34m\u001b[0m\u001b[0m\n\u001b[0;32m----> 6\u001b[0;31m     \u001b[0;32massert\u001b[0m \u001b[0mprediction_mm\u001b[0m \u001b[0;34m>=\u001b[0m \u001b[0;36m0\u001b[0m\u001b[0;34m,\u001b[0m \u001b[0;34m'Predicted rainfall cannot be negative'\u001b[0m\u001b[0;34m\u001b[0m\u001b[0;34m\u001b[0m\u001b[0m\n\u001b[0m\u001b[1;32m      7\u001b[0m     \u001b[0;32mreturn\u001b[0m \u001b[0mprediction_mm\u001b[0m\u001b[0;34m\u001b[0m\u001b[0;34m\u001b[0m\u001b[0m\n\u001b[1;32m      8\u001b[0m \u001b[0;34m\u001b[0m\u001b[0m\n",
            "\u001b[0;31mAssertionError\u001b[0m: Predicted rainfall cannot be negative"
          ]
        }
      ]
    },
    {
      "cell_type": "markdown",
      "metadata": {
        "id": "vuosJZ9G-OxS"
      },
      "source": [
        "###### Solution"
      ]
    },
    {
      "cell_type": "markdown",
      "metadata": {
        "id": "oPDxUKXT-OxS"
      },
      "source": [
        "By taking the max of each value and 0, we ensure that the value will be no less than zero."
      ]
    },
    {
      "cell_type": "code",
      "metadata": {
        "id": "-kSoax54hY8e",
        "outputId": "9031509f-2e77-41c6-a208-a30c51090aaf",
        "colab": {
          "base_uri": "https://localhost:8080/"
        }
      },
      "source": [
        "def predict_rainfall(rain_mm_0, rain_mm_1):\n",
        "    # Predict rainfall using the previous two days' observations\n",
        "    rain_mm_diff = rain_mm_1 - rain_mm_0\n",
        "    prediction_mm = rain_mm_1 + rain_mm_diff\n",
        "    prediction_mm = max(prediction_mm, 0)\n",
        "    \n",
        "    assert prediction_mm >= 0, 'Predicted rainfall cannot be negative'\n",
        "    return prediction_mm\n",
        "\n",
        "print(predict_rainfall(0, 5))\n",
        "print(predict_rainfall(32, 17))\n",
        "print(predict_rainfall(15, 15))\n",
        "print(predict_rainfall(20, 7))\n",
        "print(predict_rainfall(0, 0))\n",
        "print(predict_rainfall(2, 0))"
      ],
      "execution_count": 6,
      "outputs": [
        {
          "output_type": "stream",
          "name": "stdout",
          "text": [
            "10\n",
            "2\n",
            "15\n",
            "0\n",
            "0\n",
            "0\n"
          ]
        }
      ]
    },
    {
      "cell_type": "markdown",
      "metadata": {
        "id": "gD8QDuD5OCap"
      },
      "source": [
        "### Black-Box Testing\n",
        "Black-box testing is a technique where it is assumed that the tester knows nothing about the implementation of the function. A big advantage to this type of testing is that you can write the test cases before you even think about the code.\n",
        "\n",
        "You are tasked with testing a program which calculates the cost to remove a tree. The arborist has provided you with their pricing table, and it's up to you to write a set of tests which will comprehensively evaluate the program's correctness.\n",
        "\n",
        "##### Tree removal quote tool\n",
        "| Tree Height    | Cost                                   |\n",
        "|----------------|----------------------------------------|\n",
        "| 0-5 metres     | \\$20 per metre                          |\n",
        "| 5.5-10 metres  | \\$100 plus \\$30 for every metre over 5m  |\n",
        "| 10.5-20 metres | \\$250 plus \\$40 for every metre over 10m |\n",
        "| 20.5+ metres   | \\$650 plus \\$50 for every metre over 20m |\n",
        "\n",
        "_Tree measurements are made in 0.5m increments; minimum cost of $60 for tree removal._\n"
      ]
    },
    {
      "cell_type": "markdown",
      "metadata": {
        "id": "QAubWFVXlBpl"
      },
      "source": [
        "#### Equivalence Partitioning\n",
        "You are first to perform equivalence partitioning, by partitioning the inputs based on equivalent values and choosing a value which is representative of each partition.\n",
        "\n",
        "_You might like to refer to the \"Black-Box Testing\" section of the handbook for an example._\n",
        "\n",
        "Double click in the below cell to fill the gaps in the table. Leave the last column empty, and we'll return to it later."
      ]
    },
    {
      "cell_type": "markdown",
      "metadata": {
        "id": "0CBrxhphlttH"
      },
      "source": [
        "| Equivalence Class | Input (metres) | Expected Output (\\$) | Actual Output (\\$) |\n",
        "|-------------------|----------------|---------------------|-------------------|\n",
        "|                   |                |                     |                   |\n",
        "|                   |                |                     |                   |\n",
        "|                   |                |                     |                   |\n",
        "|                   |                |                     |                   |\n",
        "| 20.5+ metres      | 40             | 1650                |                   |"
      ]
    },
    {
      "cell_type": "markdown",
      "metadata": {
        "id": "Wh_4x46alvhZ"
      },
      "source": [
        "###### Solution"
      ]
    },
    {
      "cell_type": "markdown",
      "metadata": {
        "id": "W5dY1p7Llwsa"
      },
      "source": [
        "There is one more partition than you might expect in this problem, as the minimum fee is worthy of its own equivalence class. Note that there are other valid choices for the inputs, and the subsequent expected outputs. The main thing is that the value chosen for each class is somewhere well within that partition."
      ]
    },
    {
      "cell_type": "markdown",
      "metadata": {
        "id": "DiOrQ-2slwxj"
      },
      "source": [
        "| Equivalence Class | Input (metres) | Expected Output (\\$) | Actual Output (\\$) |\n",
        "|-------------------|----------------|---------------------|-------------------|\n",
        "| Minimum fee       | 2              | 60                  |                   |\n",
        "| 0-5 metres        | 4              | 80                  |                   |\n",
        "| 5.5-10 metres     | 7              | 160                 |                   |\n",
        "| 10.5-20 metres    | 15             | 450                 |                   |\n",
        "| 20.5+ metres      | 40             | 1650                |                   |"
      ]
    },
    {
      "cell_type": "markdown",
      "metadata": {
        "id": "1_7Rq0vhlzNZ"
      },
      "source": [
        "#### Boundary Testing\n",
        "For boundary testing, each partition should be test at both its lower and upper boundary - if they exist.\n",
        "\n",
        "_As before, you can refer to the \"Black-Box Testing\" section of the handbook for an example._\n",
        "\n",
        "Double click in the below cell to fill the gaps in the table. Leave the last column empty, and we'll return to it later."
      ]
    },
    {
      "cell_type": "markdown",
      "metadata": {
        "id": "F0zfuaN4nZSd"
      },
      "source": [
        "| Equivalence Class | Boundary | Input (metres) | Expected Output (\\$) | Actual Output (\\$) |\n",
        "|-------------------|----------|----------------|----------------------|--------------------|\n",
        "|                   | Lower    |                |                      |                    |\n",
        "|                   | Upper    |                |                      |                    |\n",
        "|                   | Lower    |                |                      |                    |\n",
        "|                   | Upper    |                |                      |                    |\n",
        "|                   | Lower    |                |                      |                    |\n",
        "|                   | Upper    |                |                      |                    |\n",
        "|                   | Lower    |                |                      |                    |\n",
        "|                   | Upper    |                |                      |                    |\n",
        "| 20.5+ metres      | Lower    | 20.5           | 675                 |                    |"
      ]
    },
    {
      "cell_type": "markdown",
      "metadata": {
        "id": "76-laHmonnzV"
      },
      "source": [
        "###### Solution"
      ]
    },
    {
      "cell_type": "markdown",
      "metadata": {
        "id": "d5zwKf_vnpDW"
      },
      "source": [
        "Unlike equivalence partitioning, there is only one correct input for each row - to test the lower boundary of the \"5.5-10 metres\" class, the input _must_ be 5.5m."
      ]
    },
    {
      "cell_type": "markdown",
      "metadata": {
        "id": "tCSsT9mXnYxM"
      },
      "source": [
        "| Equivalence Class | Boundary | Input (metres) | Expected Output (\\$) | Actual Output (\\$) |\n",
        "|-------------------|----------|----------------|---------------------|-------------------|\n",
        "| Minimum fee       | Lower    | 0              | 60                  |                   |\n",
        "|                   | Upper    | 3              | 60                  |                   |\n",
        "| 0-5 metres        | Lower    | 3.5            | 70                  |                   |\n",
        "|                   | Upper    | 5              | 100                 |                   |\n",
        "| 5.5-10 metres     | Lower    | 5.5            | 115                 |                   |\n",
        "|                   | Upper    | 10             | 250                 |                   |\n",
        "| 10.5-20 metres    | Lower    | 10.5           | 270                 |                   |\n",
        "|                   | Upper    | 20             | 650                 |                   |\n",
        "| 20.5+ metres      | Lower    | 20.5           | 675                 |                   |"
      ]
    },
    {
      "cell_type": "markdown",
      "metadata": {
        "id": "vbwX_YKXotLz"
      },
      "source": [
        "#### Performing the Tests\n",
        "The program has been implemented for you, as a helper function which will calls that function for each height in a list of tree heights.\n",
        "\n",
        "Enter your (14) tests where indicated then run the cell. Complete the two tables from before to ensure that the solution is correct."
      ]
    },
    {
      "cell_type": "code",
      "metadata": {
        "id": "5eMJoPC_F-Y5"
      },
      "source": [
        "def calc_removal_price(height):\n",
        "    if height <= 5:\n",
        "        price = 20 * height\n",
        "    elif height <= 10:\n",
        "        price = 100 + 30 * (height - 5)\n",
        "    elif height <= 20:\n",
        "        price = 250 + 40 * (height - 10)\n",
        "    else:\n",
        "        price = 650 + 50 * (height - 20)\n",
        "    return max(price, 60)\n",
        "\n",
        "\n",
        "def perform_tests(test_inputs):\n",
        "    for height in test_inputs:\n",
        "        print(f'{height:4}: ${calc_removal_price(height):.2f}')\n",
        "\n",
        "\n",
        "# Fill this list with the test inputs from your tables\n",
        "test_inputs = []\n",
        "perform_tests(test_inputs)"
      ],
      "execution_count": 7,
      "outputs": []
    },
    {
      "cell_type": "markdown",
      "metadata": {
        "id": "mEHtQSHGqKsW"
      },
      "source": [
        "###### Solution"
      ]
    },
    {
      "cell_type": "markdown",
      "metadata": {
        "id": "G1V4pykzqVnt"
      },
      "source": [
        "These inputs are the ones from the provided solution tables, so yours may differ."
      ]
    },
    {
      "cell_type": "code",
      "metadata": {
        "id": "7EftswcBGz9S"
      },
      "source": [
        "perform_tests([2, 4, 7, 15, 40, 0, 3, 3.5, 5, 5.5, 10, 10.5, 20, 20.5])"
      ],
      "execution_count": null,
      "outputs": []
    },
    {
      "cell_type": "markdown",
      "metadata": {
        "id": "aRS-d0-0OCnz"
      },
      "source": [
        "### Raising Exceptions\n",
        "Although `assert` statement should never fail in real-world scenarios, exceptions are used for data validation and program control flow, as we'll see in this task.\n",
        "\n",
        "Below we have a class which is responsible for managing online orders. Items are added to the cart, then a payment is taken during checkout. Run the cell and enter some dummy values; nothing should go wrong if you behave as expected. However, if you attempt to add an item with a price of zero or less, it allows you.\n",
        "\n",
        "This is obviously incorrect, and can be avoided by _raising_ an exception if the user attempts it. Fix the error by raising a `ValueError` if the price is invalid, with an appropriate message like \"Price must be greater than $0\"\n",
        "\n",
        "_Hint: The syntax for raising an exception is `raise SomeErrorType('Some error message')`._\n",
        "\n",
        "Run the code and try entering a zero or negative price, it should crash."
      ]
    },
    {
      "cell_type": "code",
      "metadata": {
        "id": "yZRpd5QBP3Zk",
        "outputId": "086b64dc-a97d-4892-b190-9d2e7c515468",
        "colab": {
          "base_uri": "https://localhost:8080/"
        }
      },
      "source": [
        "def take_payment(amount):\n",
        "    print(f'Taking payment of ${amount:.2f}...')\n",
        "\n",
        "\n",
        "class OnlineOrder:\n",
        "    def __init__(self):\n",
        "        self.items = []\n",
        "\n",
        "    def add_to_cart(self, item, price):\n",
        "        self.items.append([item, price])\n",
        "\n",
        "    def check_out(self):\n",
        "        total = 0\n",
        "        for [item, price] in self.items:\n",
        "            total = total + price\n",
        "\n",
        "        take_payment(total)\n",
        "\n",
        "\n",
        "order = OnlineOrder()\n",
        "\n",
        "menu_char = ''\n",
        "while menu_char != 'c':\n",
        "    item_name = input('Enter item name: ')\n",
        "    item_price = float(input('Enter item price: '))\n",
        "    order.add_to_cart(item_name, item_price)\n",
        "\n",
        "    menu_char = input('Check out (c) or Add another item (a): ')\n",
        "\n",
        "order.check_out()"
      ],
      "execution_count": 8,
      "outputs": [
        {
          "output_type": "stream",
          "name": "stdout",
          "text": [
            "Enter item name: shoes\n",
            "Enter item price: 10\n",
            "Check out (c) or Add another item (a): c\n",
            "Taking payment of $10.00...\n"
          ]
        }
      ]
    },
    {
      "cell_type": "markdown",
      "metadata": {
        "id": "j2SQUSKTOCnz"
      },
      "source": [
        "###### Solution"
      ]
    },
    {
      "cell_type": "markdown",
      "metadata": {
        "id": "87bvoGYkOCn0"
      },
      "source": [
        "We check if the price is invalid, and raise an exception if so. This prevents the item from being added to the cart, as `add_to_cart` method is exited immediately."
      ]
    },
    {
      "cell_type": "code",
      "metadata": {
        "id": "6BK-uHlROCn0"
      },
      "source": [
        "def mock_take_payment(amount):\n",
        "    print(f'Taking payment of ${amount:.2f}...')\n",
        "\n",
        "\n",
        "class OnlineOrder:\n",
        "    def __init__(self):\n",
        "        self.items = []\n",
        "\n",
        "    def add_to_cart(self, item, price):\n",
        "        if price <= 0:\n",
        "            raise ValueError('Price must be greater than $0')\n",
        "        self.items.append([item, price])\n",
        "\n",
        "    def check_out(self):\n",
        "        total = 0\n",
        "        for [item, price] in self.items:\n",
        "            total = total + price\n",
        "\n",
        "        mock_take_payment(total)\n",
        "\n",
        "\n",
        "order = OnlineOrder()\n",
        "\n",
        "menu_char = ''\n",
        "while menu_char != 'c':\n",
        "    item_name = input('Enter item name: ')\n",
        "    item_price = float(input('Enter item price: '))\n",
        "    order.add_to_cart(item_name, item_price)\n",
        "\n",
        "    menu_char = input('Check out (c) or Add another item (a): ')\n",
        "\n",
        "order.check_out()"
      ],
      "execution_count": null,
      "outputs": []
    },
    {
      "cell_type": "markdown",
      "metadata": {
        "id": "cJsRyHBFOChk"
      },
      "source": [
        "### Handling Exceptions\n",
        "The program is successfully preventing invalid items from being added to the cart, but it's not very graceful - the entire program crashes if an exception is encountered.\n",
        "\n",
        "This is where the other side of exceptions comes in - exception handling. Using the `try`/`except` keywords, we can pre-empt an exception and take appropriate action when one is encountered.\n",
        "\n",
        "Modify the below code so that the `ValueError` that's raised in `add_to_cart` results in a message being printed to the screen, rather than a full crash.\n",
        "\n",
        "Example run:\n",
        "```\n",
        "Enter item name: shoes\n",
        "Enter item price: -5\n",
        "Error adding item to cart\n",
        "Check out (c) or Add another item (a): a\n",
        "Enter item name: pants\n",
        "Enter item price: 10\n",
        "Check out (c) or Add another item (a): c\n",
        "Taking payment of $10.00...\n",
        "```\n",
        "\n",
        "_Once again, the workbook is your best friend!_"
      ]
    },
    {
      "cell_type": "code",
      "metadata": {
        "id": "4P6lSzfBOChl"
      },
      "source": [
        "def take_payment(amount):\n",
        "    print(f'Taking payment of ${amount:.2f}...')\n",
        "\n",
        "\n",
        "class OnlineOrder:\n",
        "    def __init__(self):\n",
        "        self.items = []\n",
        "\n",
        "    def add_to_cart(self, item, price):\n",
        "        if price <= 0:\n",
        "            raise ValueError('Price must be greater than $0')\n",
        "        self.items.append([item, price])\n",
        "\n",
        "    def check_out(self):\n",
        "        total = 0\n",
        "        for [item, price] in self.items:\n",
        "            total = total + price\n",
        "\n",
        "        take_payment(total)\n",
        "\n",
        "\n",
        "order = OnlineOrder()\n",
        "\n",
        "menu_char = ''\n",
        "while menu_char != 'c':\n",
        "    item_name = input('Enter item name: ')\n",
        "    item_price = float(input('Enter item price: '))\n",
        "    order.add_to_cart(item_name, item_price)\n",
        "\n",
        "    menu_char = input('Check out (c) or Add another item (a): ')\n",
        "\n",
        "order.check_out()"
      ],
      "execution_count": null,
      "outputs": []
    },
    {
      "cell_type": "markdown",
      "metadata": {
        "id": "10V2cuvTOChl"
      },
      "source": [
        "###### Solution"
      ]
    },
    {
      "cell_type": "markdown",
      "metadata": {
        "id": "lFeKc4BUOChm"
      },
      "source": [
        "By using try/except blocks, we are able to handle the exception when it gets raised, and continue the program execution as normal."
      ]
    },
    {
      "cell_type": "code",
      "metadata": {
        "id": "-5gexpc9OChm",
        "outputId": "290bd31d-6b33-4550-93c6-00d56b0a57cf",
        "colab": {
          "base_uri": "https://localhost:8080/"
        }
      },
      "source": [
        "def take_payment(amount):\n",
        "    print(f'Taking payment of ${amount:.2f}...')\n",
        "\n",
        "\n",
        "class OnlineOrder:\n",
        "    def __init__(self):\n",
        "        self.items = []\n",
        "\n",
        "    def add_to_cart(self, item, price):\n",
        "        if price <= 0:\n",
        "            raise ValueError('Price must be greater than $0')\n",
        "        self.items.append([item, price])\n",
        "\n",
        "    def check_out(self):\n",
        "        total = 0\n",
        "        for [item, price] in self.items:\n",
        "            total = total + price\n",
        "\n",
        "        take_payment(total)\n",
        "\n",
        "\n",
        "order = OnlineOrder()\n",
        "\n",
        "menu_char = ''\n",
        "while menu_char != 'c':\n",
        "    item_name = input('Enter item name: ')\n",
        "    item_price = float(input('Enter item price: '))\n",
        "    try:\n",
        "        order.add_to_cart(item_name, item_price)\n",
        "    except ValueError:\n",
        "        print('Error adding item to cart')\n",
        "\n",
        "    menu_char = input('Check out (c) or Add another item (a): ')\n",
        "\n",
        "order.check_out()"
      ],
      "execution_count": 9,
      "outputs": [
        {
          "output_type": "stream",
          "name": "stdout",
          "text": [
            "Enter item name: beer\n",
            "Enter item price: 20\n",
            "Check out (c) or Add another item (a): c\n",
            "Taking payment of $20.00...\n"
          ]
        }
      ]
    },
    {
      "cell_type": "markdown",
      "metadata": {
        "id": "5Lc-3mc_wRmR"
      },
      "source": [
        "## Bonus Tasks\n",
        "Exceptions are a topic which many have trouble with, so it's advised - if you still have energy - that you complete the bonus task to reinforce the knowledge."
      ]
    },
    {
      "cell_type": "markdown",
      "metadata": {
        "id": "2vnEEwW9BlDQ"
      },
      "source": [
        "### More Exception Raising\n",
        "To wrap it all up, we should ensure that the user doesn't try to check out an empty cart and get charged $0.\n",
        "\n",
        "Like before, this can be avoided by _raising_ an exception if the user tries to check out an empty cart, with an appropriate message like \"Not possible to check out an empty cart\".\n",
        "\n",
        "You should raise a `RuntimeError` exception, as there are no exception types which better suit the error. Then run the code and go straight to the checkout, it should crash.\n",
        "\n",
        "Example run:\n",
        "\n",
        "```\n",
        "Enter item name: shoes\n",
        "Enter item price: -5\n",
        "Error adding item to cart\n",
        "Check out (c) or Add another item (a): c\n",
        "<< CRASH >>\n",
        "```"
      ]
    },
    {
      "cell_type": "code",
      "metadata": {
        "id": "9f1RG6vgBlDi"
      },
      "source": [
        "def take_payment(amount):\n",
        "    print(f'Taking payment of ${amount:.2f}...')\n",
        "\n",
        "\n",
        "class OnlineOrder:\n",
        "    def __init__(self):\n",
        "        self.items = []\n",
        "\n",
        "    def add_to_cart(self, item, price):\n",
        "        if price <= 0:\n",
        "            raise ValueError('Price must be greater than $0')\n",
        "        self.items.append([item, price])\n",
        "\n",
        "    def check_out(self):\n",
        "        total = 0\n",
        "        for [item, price] in self.items:\n",
        "            total = total + price\n",
        "\n",
        "        take_payment(total)\n",
        "\n",
        "\n",
        "order = OnlineOrder()\n",
        "\n",
        "menu_char = ''\n",
        "while menu_char != 'c':\n",
        "    item_name = input('Enter item name: ')\n",
        "    item_price = float(input('Enter item price: '))\n",
        "    try:\n",
        "        order.add_to_cart(item_name, item_price)\n",
        "    except ValueError:\n",
        "        print('Error adding item to cart')\n",
        "\n",
        "    menu_char = input('Check out (c) or Add another item (a): ')\n",
        "\n",
        "order.check_out()"
      ],
      "execution_count": null,
      "outputs": []
    },
    {
      "cell_type": "markdown",
      "metadata": {
        "id": "TKXk6u00yByk"
      },
      "source": [
        "### More Exception Handling\n",
        "Modify the code in the previous cell to also handle the exception you just added. It should print an appropriate message as shown below, and exit as usual.\n",
        "\n",
        "Example run:\n",
        "```\n",
        "Enter item name: shoes\n",
        "Enter item price: -5\n",
        "Error adding item to cart\n",
        "Check out (c) or Add another item (a): c\n",
        "Error checking out - try again later\n",
        "```"
      ]
    }
  ]
}