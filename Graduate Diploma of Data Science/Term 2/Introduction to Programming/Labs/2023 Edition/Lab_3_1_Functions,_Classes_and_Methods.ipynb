{
  "nbformat": 4,
  "nbformat_minor": 0,
  "metadata": {
    "colab": {
      "provenance": [],
      "collapsed_sections": [
        "DcZqkjQwPiiV",
        "xcARY2CuPo91",
        "3ydEwUY5PqSo",
        "VCOI_yCXcyOZ",
        "nAY8z666Qb5b",
        "Xi-MhKk7R7ni",
        "Ik7XtooIR97P",
        "is6xunfyR-ip"
      ],
      "toc_visible": true
    },
    "kernelspec": {
      "name": "python3",
      "display_name": "Python 3"
    }
  },
  "cells": [
    {
      "cell_type": "markdown",
      "metadata": {
        "id": "Eb7fv7PSQmtr"
      },
      "source": [
        "# Lab 3.1 - Functions, Classes and Methods\n",
        "In this lab we'll take explore some more critical components of modern programming languages - functions, classes and methods. These allow for the reuse and organisation of code, making programs more efficient and programmers' lives easier."
      ]
    },
    {
      "cell_type": "markdown",
      "metadata": {
        "id": "Ax9vQ0hzPZDc"
      },
      "source": [
        "## Programming Exercises"
      ]
    },
    {
      "cell_type": "markdown",
      "metadata": {
        "id": "ipYBUUKVc_QZ"
      },
      "source": [
        "### Calling Functions\n",
        "Below is a function which prints out the name, price, tax amount and total price of an item for sale. Your task is to call this function with some appropriate arguments - just make up an item. Pay particular attention to which values of `tax_percent` result in valid percentages being displayed. \\\n",
        "The ability to read and understand code is critical for a programmer, so it's good to practice."
      ]
    },
    {
      "cell_type": "code",
      "metadata": {
        "id": "dWWj6pA9bubn",
        "outputId": "cbb4d123-078b-4223-c4c2-9959d5c9b18e",
        "colab": {
          "base_uri": "https://localhost:8080/"
        }
      },
      "source": [
        "def print_receipt_item(name, price, tax_percent):\n",
        "    print(name)\n",
        "    print('    Price: $' + str(price))\n",
        "    print('    Tax  : ' + str(tax_percent * 100) + '%')\n",
        "    print('    Total: $' + str(price + price * tax_percent))\n",
        "\n",
        "# Call the function here\n",
        "print_receipt_item('Shoes', 120, 0.1)"
      ],
      "execution_count": 3,
      "outputs": [
        {
          "output_type": "stream",
          "name": "stdout",
          "text": [
            "Shoes\n",
            "    Price: $120\n",
            "    Tax  : 10.0%\n",
            "    Total: $132.0\n"
          ]
        }
      ]
    },
    {
      "cell_type": "markdown",
      "metadata": {
        "id": "DcZqkjQwPiiV"
      },
      "source": [
        "###### Solution"
      ]
    },
    {
      "cell_type": "markdown",
      "metadata": {
        "id": "xTjQcPWOSrD0"
      },
      "source": [
        "One thing to note is that the `tax_percent` should be supplied as a value between 0 and 1 (not a value between 0 and 100). For example, 0.1 corresponds to 10% tax. We could infer this by examining the code within the function and noticing that `tax_percent` is always multiplied by 100 before being printed to the screen."
      ]
    },
    {
      "cell_type": "code",
      "metadata": {
        "id": "IrERgaFkPi-u",
        "outputId": "4c62b94e-873d-49ee-f123-8b65a076257a",
        "colab": {
          "base_uri": "https://localhost:8080/"
        }
      },
      "source": [
        "print_receipt_item('Shoes', 120, 0.1)"
      ],
      "execution_count": 4,
      "outputs": [
        {
          "output_type": "stream",
          "name": "stdout",
          "text": [
            "Shoes\n",
            "    Price: $120\n",
            "    Tax  : 10.0%\n",
            "    Total: $132.0\n"
          ]
        }
      ]
    },
    {
      "cell_type": "markdown",
      "metadata": {
        "id": "EhaHRTNvdAeG"
      },
      "source": [
        "### Writing Functions\n",
        "You're now tasked with the inverse exercise - you've been given an example of how a function is used, but it's not yet implemented. At the top of this cell, implement a function called `annual_salary_to_hourly_rate` which accepts the correct arguments and returns the right value - it's up to you to figure out how!\n",
        "\n",
        "_Hint: There are 52 weeks in a year._\n",
        "\n",
        "_It's quite common to write code like this - pretend that a function exists so you can focus on a different section, then return and implement it later. This strategy allows you to break up problems into smaller, more manageable pieces that can be solved separately._"
      ]
    },
    {
      "cell_type": "code",
      "metadata": {
        "id": "W9z8e0-KdBOx",
        "outputId": "875b289c-b131-4aeb-fe04-e39825422484",
        "colab": {
          "base_uri": "https://localhost:8080/"
        }
      },
      "source": [
        "# Write your annual_salary_to_hourly_rate function here\n",
        "def annual_salary_to_hourly_rate(annual_salary, hours_per_week):\n",
        "    return annual_salary / 52 / hours_per_week\n",
        "\n",
        "\n",
        "salary = 72800\n",
        "hours_per_week = 35\n",
        "hourly_rate = annual_salary_to_hourly_rate(salary, hours_per_week)\n",
        "\n",
        "print('Annual salary: $' + str(salary))\n",
        "print(str(hours_per_week) + ' hours per week at $' + str(hourly_rate) + ' per hour')"
      ],
      "execution_count": 5,
      "outputs": [
        {
          "output_type": "stream",
          "name": "stdout",
          "text": [
            "Annual salary: $72800\n",
            "35 hours per week at $40.0 per hour\n"
          ]
        }
      ]
    },
    {
      "cell_type": "markdown",
      "metadata": {
        "id": "xcARY2CuPo91"
      },
      "source": [
        "###### Solution"
      ]
    },
    {
      "cell_type": "code",
      "metadata": {
        "id": "rlouoypQPo92"
      },
      "source": [
        "def annual_salary_to_hourly_rate(annual_salary, hours_per_week):\n",
        "    return annual_salary / 52 / hours_per_week"
      ],
      "execution_count": null,
      "outputs": []
    },
    {
      "cell_type": "markdown",
      "metadata": {
        "id": "3MC79tVuPvzS"
      },
      "source": [
        "### Don't Repeat Yourself\n",
        "A concept introduced in the workbook is DRY - Don't Repeat Yourself. In the below code block you'll notice that there are four lines of code which are repeated - a great candidate for code reuse. Your task is to move this duplicated code into a function which can be reused as necessary.\n",
        "\n",
        "To design the function, you must first know what task the function performs. Take a moment to think about the function's purpose before beginning coding - how would you summarise the collection of operations that occur in those four lines of code? Furthermore, what are the necessary inputs and outputs to this function?\n",
        "\n",
        "Once you know the answer to these questions, you can write your function at the top of the code cell. Your solution should be very similar to the existing lines of code, so this is one of the few times when copy-pasting is acceptable!\n",
        "\n",
        "When you're happy that your function will do what you hope, delete the duplicated code and call your function in its place."
      ]
    },
    {
      "cell_type": "code",
      "metadata": {
        "id": "YpE1lSB2fV35",
        "outputId": "5ed06616-4235-4eeb-ed3d-cb6c1bdc7a83",
        "colab": {
          "base_uri": "https://localhost:8080/"
        }
      },
      "source": [
        "PI = 3.141593\n",
        "\n",
        "# Write your function here\n",
        "\n",
        "def get_cup_volume():\n",
        "    height_cm = float(input('Height (cm): '))\n",
        "    radius_cm = float(input('Radius (cm): '))\n",
        "    area_cm2 = PI * radius_cm ** 2\n",
        "    return area_cm2 * height_cm\n",
        "\n",
        "\n",
        "print('Cup one:')\n",
        "volume_cm3_1 = get_cup_volume()\n",
        "\n",
        "print('Cup two:')\n",
        "volume_cm3_2 = get_cup_volume()\n",
        "\n",
        "if volume_cm3_1 == volume_cm3_2:\n",
        "    print('Both cups hold the same amount: ' + str(volume_cm3_1) + 'cm^3')\n",
        "elif volume_cm3_1 > volume_cm3_2:\n",
        "    print('The first cup holds more liquid: ' + str(volume_cm3_1) + 'cm^3')\n",
        "else:\n",
        "    print('The second cup holds more liquid: ' + str(volume_cm3_2) + 'cm^3')"
      ],
      "execution_count": 6,
      "outputs": [
        {
          "output_type": "stream",
          "name": "stdout",
          "text": [
            "Cup one:\n",
            "Height (cm): 178\n",
            "Radius (cm): 10\n",
            "Cup two:\n",
            "Height (cm): 169\n",
            "Radius (cm): 2\n",
            "The first cup holds more liquid: 55920.35539999999cm^3\n"
          ]
        }
      ]
    },
    {
      "cell_type": "markdown",
      "metadata": {
        "id": "3ydEwUY5PqSo"
      },
      "source": [
        "###### Solution"
      ]
    },
    {
      "cell_type": "markdown",
      "metadata": {
        "id": "2xzSCwG7PqSp"
      },
      "source": [
        "By moving the code into `get_cup_volume` not only is there less repetition, we now know that the way we calculate cup volume is consistent anywhere we use the function."
      ]
    },
    {
      "cell_type": "code",
      "metadata": {
        "id": "b8lkZTeRPqSp"
      },
      "source": [
        "PI = 3.141593\n",
        "\n",
        "def get_cup_volume():\n",
        "    height_cm = float(input('Height (cm): '))\n",
        "    radius_cm = float(input('Radius (cm): '))\n",
        "    area_cm2 = PI * radius_cm ** 2\n",
        "    return area_cm2 * height_cm\n",
        "\n",
        "\n",
        "print('Cup one:')\n",
        "volume_cm3_1 = get_cup_volume()\n",
        "\n",
        "print('Cup two:')\n",
        "volume_cm3_2 = get_cup_volume()\n",
        "\n",
        "if volume_cm3_1 == volume_cm3_2:\n",
        "    print('Both cups hold the same amount: ' + str(volume_cm3_1) + 'cm^3')\n",
        "elif volume_cm3_1 > volume_cm3_2:\n",
        "    print('The first cup holds more liquid: ' + str(volume_cm3_1) + 'cm^3')\n",
        "else:\n",
        "    print('The second cup holds more liquid: ' + str(volume_cm3_2) + 'cm^3')"
      ],
      "execution_count": null,
      "outputs": []
    },
    {
      "cell_type": "markdown",
      "metadata": {
        "id": "6myBsakpg-Re"
      },
      "source": [
        "### Default Arguments\n",
        "Below we have code used by an automotive tyre service centre. This function calculates the cost to replace car tyres when given the sales price of the tyre. The total cost is calculated as a flat service fee of $100, plus the cost per tyre for each tyre. However, the company has just begun to replace motorcycle tyres as well, so their code is no longer valid!\n",
        "\n",
        "Modify the function such that there is an additional argument called `num_tyres`. Since the service centre uses the `tyre_replacement_cost` function extensively in its software already, we want for it to behave in the same way as before when `num_tyres` is not specified. Therefore you should make `num_tyres` have a default value of 4, and check that the function gives the same result as before when `num_tyres` isn't provided. Once you're happy with that, add another function call which calculates the cost for replacing motorcycle tyres."
      ]
    },
    {
      "cell_type": "code",
      "metadata": {
        "id": "v9h1TPR2hC52",
        "outputId": "4d41c922-0bd0-44dd-f66f-f6116e06ac7c",
        "colab": {
          "base_uri": "https://localhost:8080/"
        }
      },
      "source": [
        "def tyre_replacement_cost(price_per_tyre, num_tyres=4):\n",
        "    tyre_cost = price_per_tyre * num_tyres\n",
        "    return 100 + tyre_cost\n",
        "\n",
        "print(tyre_replacement_cost(120))\n",
        "print(tyre_replacement_cost(95, 2))"
      ],
      "execution_count": 9,
      "outputs": [
        {
          "output_type": "stream",
          "name": "stdout",
          "text": [
            "580\n",
            "290\n"
          ]
        }
      ]
    },
    {
      "cell_type": "markdown",
      "metadata": {
        "id": "VCOI_yCXcyOZ"
      },
      "source": [
        "###### Solution"
      ]
    },
    {
      "cell_type": "markdown",
      "metadata": {
        "id": "8hOSf_GRWZNu"
      },
      "source": [
        "In the original code we had the number 4 by itself. This is known as a \"magic number\" - a number in the code which doesn't have an explicit label. They should always try to be avoided. By replacing it with `num_tyres`, the meaning of that number is now explicit."
      ]
    },
    {
      "cell_type": "code",
      "metadata": {
        "id": "quY7XBVDbSUt"
      },
      "source": [
        "def tyre_replacement_cost(price_per_tyre, num_tyres=4):\n",
        "    tyre_cost = price_per_tyre * num_tyres\n",
        "    return 100 + tyre_cost\n",
        "\n",
        "print(tyre_replacement_cost(120))\n",
        "print(tyre_replacement_cost(95, 2))"
      ],
      "execution_count": null,
      "outputs": []
    },
    {
      "cell_type": "markdown",
      "metadata": {
        "id": "j9uo2zntcdkj"
      },
      "source": [
        "There is still one more magic number - the service fee of 100. Depending on the context, it might be better to set the service fee as a constant like:\n",
        "```python\n",
        "SERVICE_FEE = 100\n",
        "```\n",
        "or perhaps as an additional argument with a default value like:\n",
        "```python\n",
        "def tyre_replacement_cost(price_per_tyre, num_tyres=4, service_fee=100):\n",
        "```\n",
        "However, we'll leave it as it is for the sake of this task."
      ]
    },
    {
      "cell_type": "markdown",
      "metadata": {
        "id": "M8Tfp47Gg8mn"
      },
      "source": [
        "### Bug Fixing\n",
        "\n",
        "The following cell contains code to compute the equation of a line that passes through two points, but there are a couple of things wrong with it. Read through the code and see if you can find the issue before running it. Then, run the cell and interpret the error - can you fix it without looking at the solution?"
      ]
    },
    {
      "cell_type": "code",
      "metadata": {
        "id": "vozKt7iYhCaO"
      },
      "source": [
        "def compute_slope(x1, y1, x2, y2):\n",
        "    # Compute the slope of a line through (x1, y1) and (x2, y2)\n",
        "    rise = y2 - y1\n",
        "    run = x2 - x1\n",
        "    slope = rise / run\n",
        "    return slope\n",
        "\n",
        "def compute_intercept(x, y, m):\n",
        "    # Compute the intercept `c` of the line `y = mx + c`\n",
        "    intercept = y - m * x\n",
        "    return intercept"
      ],
      "execution_count": 11,
      "outputs": []
    },
    {
      "cell_type": "markdown",
      "metadata": {
        "id": "nAY8z666Qb5b"
      },
      "source": [
        "###### Solution"
      ]
    },
    {
      "cell_type": "markdown",
      "metadata": {
        "id": "kKvpUlfUQdK_"
      },
      "source": [
        "Neither of the functions return their computed values."
      ]
    },
    {
      "cell_type": "code",
      "metadata": {
        "id": "D90zJCbYQotN"
      },
      "source": [
        "def compute_slope(x1, y1, x2, y2):\n",
        "    # Compute the slope of a line through (x1, y1) and (x2, y2)\n",
        "    rise = y2 - y1\n",
        "    run = x2 - x1\n",
        "    slope = rise / run\n",
        "    return slope\n",
        "\n",
        "def compute_intercept(x, y, m):\n",
        "    # Compute the intercept `c` of the line `y = mx + c`\n",
        "    intercept = y - m * x\n",
        "    return intercept"
      ],
      "execution_count": null,
      "outputs": []
    },
    {
      "cell_type": "markdown",
      "metadata": {
        "id": "nrWSeqHIKrl9"
      },
      "source": [
        "### The `Car` Class\n",
        "Below is a class which will be used to keep track of servicing a car. It doesn't have much functionality, so it's up to you to add it step by step.\n",
        "\n",
        "It currently accepts the make and model names in the constructor (the `__init__` method) which are set as instance variables. Two additional instance variables are set:\n",
        " * `km_travelled`: how many kilometres the car has travelled in its life\n",
        " * `last_service_km`: how many kilometres the car had travelled when it was last serviced\n",
        "\n",
        "There is also the `travel` method which is used when the car travels a distance - it updates `km_travelled` by adding the new distance to the total. Read through the code, then run the cell to ensure you understand how it works.\n",
        "\n",
        "_Note how the four instance variables are set in the constructor - `self.make` and `self.model` are set to whichever values are provided, whereas the other two are set to default values (`0` in this case)._"
      ]
    },
    {
      "cell_type": "code",
      "metadata": {
        "id": "h_boyW6um7ia",
        "outputId": "bb6a7826-b810-4707-b5f2-aa66b7af4fc7",
        "colab": {
          "base_uri": "https://localhost:8080/"
        }
      },
      "source": [
        "class Car:\n",
        "    def __init__(self, make, model):\n",
        "        self.make = make\n",
        "        self.model = model\n",
        "        self.km_travelled = 0\n",
        "        self.last_service_km = 0\n",
        "\n",
        "    def travel(self, km):\n",
        "        self.km_travelled = self.km_travelled + km\n",
        "\n",
        "    \n",
        "car = Car('Toyota', 'Prius')\n",
        "\n",
        "print(car.km_travelled)\n",
        "\n",
        "car.travel(1200)\n",
        "car.travel(500)\n",
        "\n",
        "print(car.km_travelled)"
      ],
      "execution_count": 12,
      "outputs": [
        {
          "output_type": "stream",
          "name": "stdout",
          "text": [
            "0\n",
            "1700\n"
          ]
        }
      ]
    },
    {
      "cell_type": "markdown",
      "metadata": {
        "id": "NEnClPbXqE_G"
      },
      "source": [
        "When you've read and understood the above code, continue below to implement your own methods.\n",
        "\n",
        "#### The `service` Method\n",
        "\n",
        "Add a method to the class below called `service` which takes no arguments (other than `self`, which is required). This method will be called whenever the car is serviced - so what should it do?\n",
        "\n",
        "_Hint: find which of the instance variables is related to car servicing, and how it should be changed after the car is serviced._"
      ]
    },
    {
      "cell_type": "code",
      "metadata": {
        "id": "KBozZugznDoW",
        "outputId": "16d59961-26e4-42d8-9c7d-b302ad8cb230",
        "colab": {
          "base_uri": "https://localhost:8080/"
        }
      },
      "source": [
        "class Car:\n",
        "    def __init__(self, make, model):\n",
        "        self.make = make\n",
        "        self.model = model\n",
        "        self.km_travelled = 0\n",
        "        self.last_service_km = 0\n",
        "\n",
        "    def travel(self, km):\n",
        "        self.km_travelled = self.km_travelled + km\n",
        "\n",
        "    # Add your service method here\n",
        "    def service(self):\n",
        "      self.last_service_km = self.km_travelled\n",
        "\n",
        "car = Car('Toyota', 'Prius')\n",
        "\n",
        "car.travel(1200)\n",
        "car.travel(500)\n",
        "print(car.last_service_km)\n",
        "\n",
        "car.service()\n",
        "print(car.last_service_km)"
      ],
      "execution_count": 15,
      "outputs": [
        {
          "output_type": "stream",
          "name": "stdout",
          "text": [
            "0\n",
            "1700\n"
          ]
        }
      ]
    },
    {
      "cell_type": "markdown",
      "metadata": {
        "id": "Xi-MhKk7R7ni"
      },
      "source": [
        "###### Solution"
      ]
    },
    {
      "cell_type": "markdown",
      "metadata": {
        "id": "BfAd7naCqoSM"
      },
      "source": [
        "The method should look like the below. It only needs to set the `last_service_km` to the current `km_travelled` value.\n",
        "```python\n",
        "def service(self):\n",
        "    self.last_service_km = self.km_travelled\n",
        "```"
      ]
    },
    {
      "cell_type": "markdown",
      "metadata": {
        "id": "HV8SwZKlRYxS"
      },
      "source": [
        "#### The `km_since_last_service` Method\n",
        "Add a method to the class below called `km_since_last_service` which calculates and returns the number of kilometres the car has travelled since it was last serviced."
      ]
    },
    {
      "cell_type": "code",
      "metadata": {
        "id": "513L8REEnNUF",
        "outputId": "97728ba4-c1bd-4b97-ca8b-4a6c68bc2bfb",
        "colab": {
          "base_uri": "https://localhost:8080/"
        }
      },
      "source": [
        "class Car:\n",
        "    def __init__(self, make, model):\n",
        "        self.make = make\n",
        "        self.model = model\n",
        "        self.km_travelled = 0\n",
        "        self.last_service_km = 0\n",
        "\n",
        "    def travel(self, km):\n",
        "        self.km_travelled = self.km_travelled + km\n",
        "\n",
        "    def service(self):\n",
        "        self.last_service_km = self.km_travelled\n",
        "\n",
        "    # Add your km_since_last_service method here\n",
        "    def km_since_last_service(self):\n",
        "      return self.km_travelled - self.last_service_km\n",
        "\n",
        "car = Car('Toyota', 'Prius')\n",
        "\n",
        "car.travel(1500)\n",
        "print(car.km_since_last_service())\n",
        "\n",
        "car.service()\n",
        "print(car.km_since_last_service())"
      ],
      "execution_count": 16,
      "outputs": [
        {
          "output_type": "stream",
          "name": "stdout",
          "text": [
            "1500\n",
            "0\n"
          ]
        }
      ]
    },
    {
      "cell_type": "markdown",
      "metadata": {
        "id": "Ik7XtooIR97P"
      },
      "source": [
        "###### Solution"
      ]
    },
    {
      "cell_type": "markdown",
      "metadata": {
        "id": "b-WEUKHvrvpo"
      },
      "source": [
        "```python\n",
        "def km_since_last_service(self):\n",
        "    return self.km_travelled - self.last_service_km\n",
        "```"
      ]
    },
    {
      "cell_type": "markdown",
      "metadata": {
        "id": "FiHm1gxRRdRW"
      },
      "source": [
        "#### The `is_service_due` Method\n",
        "Add a method to the class below called `is_service_due` which returns a boolean indicating whether the care requires a service. A car requires a service if it has travelled more than `SERVICE_KM` since it was last serviced."
      ]
    },
    {
      "cell_type": "code",
      "metadata": {
        "id": "vO23hFlZnZRm",
        "outputId": "9396edee-753e-47d8-89b8-93896f39b213",
        "colab": {
          "base_uri": "https://localhost:8080/"
        }
      },
      "source": [
        "SERVICE_KM = 10000\n",
        "\n",
        "class Car:\n",
        "    def __init__(self, make, model):\n",
        "        self.make = make\n",
        "        self.model = model\n",
        "        self.km_travelled = 0\n",
        "        self.last_service_km = 0\n",
        "\n",
        "    def travel(self, km):\n",
        "        self.km_travelled = self.km_travelled + km\n",
        "\n",
        "    def service(self):\n",
        "        self.last_service_km = self.km_travelled\n",
        "\n",
        "    def km_since_last_service(self):\n",
        "        return self.km_travelled - self.last_service_km\n",
        "\n",
        "    # Add your is_service_due method here\n",
        "    def is_service_due(self):\n",
        "       return self.km_since_last_service() > SERVICE_KM\n",
        "\n",
        "car = Car('Toyota', 'Prius')\n",
        "\n",
        "car.travel(4500)\n",
        "print(car.is_service_due())\n",
        "\n",
        "car.travel(6000)\n",
        "print(car.is_service_due())\n",
        "\n",
        "car.service()\n",
        "print(car.is_service_due())"
      ],
      "execution_count": 17,
      "outputs": [
        {
          "output_type": "stream",
          "name": "stdout",
          "text": [
            "False\n",
            "True\n",
            "False\n"
          ]
        }
      ]
    },
    {
      "cell_type": "markdown",
      "metadata": {
        "id": "is6xunfyR-ip"
      },
      "source": [
        "###### Solution"
      ]
    },
    {
      "cell_type": "markdown",
      "metadata": {
        "id": "qqBH0QcvsgSI"
      },
      "source": [
        "```python\n",
        "def is_service_due(self):\n",
        "    return self.km_since_last_service() > SERVICE_KM\n",
        "```"
      ]
    },
    {
      "cell_type": "markdown",
      "metadata": {
        "id": "TgIt-rUzRqOp"
      },
      "source": [
        "## Bonus Tasks\n",
        "This section is optional as usual, but highly recommended!"
      ]
    },
    {
      "cell_type": "markdown",
      "metadata": {
        "id": "3b3GaXGtobYp"
      },
      "source": [
        "### The `print_service_status` Method\n",
        "\n",
        "Add a method to the class below called `print_service_status` which prints outputs like below. Can you format it as neatly?\n",
        "\n",
        "\n",
        "Example output 1:\n",
        "```\n",
        "Toyota Prius\n",
        "       Current: 11000km\n",
        "  Last service: 0km\n",
        "  Next service: 10000km\n",
        "   Service due: True\n",
        "```\n",
        "\n",
        "Example output 2:\n",
        "```\n",
        "Toyota Prius\n",
        "       Current: 12500km\n",
        "  Last service: 11000km\n",
        "  Next service: 21000km\n",
        "   Service due: False\n",
        "```"
      ]
    },
    {
      "cell_type": "code",
      "metadata": {
        "id": "AWlXirg7X2Q-"
      },
      "source": [
        "SERVICE_KM = 10000\n",
        "\n",
        "class Car:\n",
        "    def __init__(self, make, model):\n",
        "        self.make = make\n",
        "        self.model = model\n",
        "        self.km_travelled = 0\n",
        "        self.last_service_km = 0\n",
        "\n",
        "    def travel(self, km):\n",
        "        self.km_travelled = self.km_travelled + km\n",
        "\n",
        "    def service(self):\n",
        "        self.last_service_km = self.km_travelled\n",
        "\n",
        "    def km_since_last_service(self):\n",
        "        return self.km_travelled - self.last_service_km\n",
        "\n",
        "    def is_service_due(self):\n",
        "        return self.km_since_last_service() > SERVICE_KM\n",
        "\n",
        "    # Add your print_service_status method here\n",
        "\n",
        "\n",
        "car = Car('Toyota', 'Prius')\n",
        "\n",
        "car.travel(4500)\n",
        "car.travel(1200)\n",
        "car.travel(5000)\n",
        "car.service()\n",
        "car.travel(2200)\n",
        "\n",
        "car.print_service_status()"
      ],
      "execution_count": null,
      "outputs": []
    }
  ]
}