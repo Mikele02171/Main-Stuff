{
 "cells": [
  {
   "cell_type": "markdown",
   "id": "b68d3854",
   "metadata": {},
   "source": [
    "### Topic 1: Lists"
   ]
  },
  {
   "cell_type": "markdown",
   "id": "cfdba069",
   "metadata": {},
   "source": [
    "#### Activity: List output"
   ]
  },
  {
   "cell_type": "markdown",
   "id": "cabb63b6",
   "metadata": {},
   "source": [
    "What is the result of the shown Python expression?"
   ]
  },
  {
   "cell_type": "code",
   "execution_count": 1,
   "id": "568680f3",
   "metadata": {},
   "outputs": [
    {
     "data": {
      "text/plain": [
       "4"
      ]
     },
     "execution_count": 1,
     "metadata": {},
     "output_type": "execute_result"
    }
   ],
   "source": [
    "len([2, 3, 4] + [8] + [])"
   ]
  },
  {
   "cell_type": "markdown",
   "id": "c9006c55",
   "metadata": {},
   "source": [
    "Why? inside [2,3,4] length is 3, [8] length is 1 and [] length is 0."
   ]
  },
  {
   "cell_type": "markdown",
   "id": "fcba8592",
   "metadata": {},
   "source": [
    "### Lists and references"
   ]
  },
  {
   "cell_type": "markdown",
   "id": "7bfa1ec6",
   "metadata": {},
   "source": [
    "#### Activity: List objects"
   ]
  },
  {
   "cell_type": "markdown",
   "id": "7863a37c",
   "metadata": {},
   "source": [
    "How many list objects are created by the shown program?"
   ]
  },
  {
   "cell_type": "code",
   "execution_count": 3,
   "id": "88b798b7",
   "metadata": {},
   "outputs": [],
   "source": [
    "a = [1, 2, 3]\n",
    "b = [1, 2, 3]\n",
    "c = a\n",
    "d = c.copy()"
   ]
  },
  {
   "cell_type": "markdown",
   "id": "e9288cb0",
   "metadata": {},
   "source": [
    "My Answer: 3"
   ]
  },
  {
   "cell_type": "markdown",
   "id": "f1ca642e",
   "metadata": {},
   "source": [
    "### Topic 2: Sets and dictionaries"
   ]
  },
  {
   "cell_type": "markdown",
   "id": "98a0bd84",
   "metadata": {},
   "source": [
    "#### Activity: Set output"
   ]
  },
  {
   "cell_type": "markdown",
   "id": "8e05a7f5",
   "metadata": {},
   "source": [
    "If the user inputs fred, will they be welcomed into the party according to the shown program?"
   ]
  },
  {
   "cell_type": "code",
   "execution_count": 7,
   "id": "90dd6538",
   "metadata": {},
   "outputs": [
    {
     "name": "stdout",
     "output_type": "stream",
     "text": [
      "Enter name: fred\n",
      "Welcome to the party!\n"
     ]
    }
   ],
   "source": [
    "guests = {'tim', 'betty', 'rod'}\n",
    "guests.add('fred')\n",
    "name = input('Enter name: ')\n",
    "if name in guests:\n",
    "    print('Welcome to the party!')\n",
    "else:\n",
    "    print('Not invited!')"
   ]
  },
  {
   "cell_type": "markdown",
   "id": "6e7a7cb5",
   "metadata": {},
   "source": [
    "Answer: Yes, since Fred is added to the set"
   ]
  },
  {
   "cell_type": "markdown",
   "id": "c7e6a225",
   "metadata": {},
   "source": [
    "#### Example program: Most frequent word"
   ]
  },
  {
   "cell_type": "markdown",
   "id": "cea6e590",
   "metadata": {},
   "source": [
    "#### Activity: Program output"
   ]
  },
  {
   "cell_type": "markdown",
   "id": "cdc5e64f",
   "metadata": {},
   "source": [
    "If the initial max_count was set to 3 instead of 0, what would the program output be?"
   ]
  },
  {
   "cell_type": "code",
   "execution_count": 14,
   "id": "ce63483c",
   "metadata": {},
   "outputs": [],
   "source": [
    "counts = {'play': 1, 'duck': 3, 'goose': 1}\n",
    "max_count = 3\n",
    "max_word = ''\n",
    "for word, count in counts.items():\n",
    "    if count > max_count:\n",
    "        max_count = count\n",
    "        max_word = word"
   ]
  },
  {
   "cell_type": "code",
   "execution_count": 15,
   "id": "19b45c2b",
   "metadata": {},
   "outputs": [
    {
     "name": "stdout",
     "output_type": "stream",
     "text": [
      "3\n"
     ]
    }
   ],
   "source": [
    "print(max_count)"
   ]
  },
  {
   "cell_type": "code",
   "execution_count": 16,
   "id": "09d32de2",
   "metadata": {},
   "outputs": [
    {
     "name": "stdout",
     "output_type": "stream",
     "text": [
      "\n"
     ]
    }
   ],
   "source": [
    "print(max_word)"
   ]
  },
  {
   "cell_type": "markdown",
   "id": "1f048e70",
   "metadata": {},
   "source": [
    "### Testing code"
   ]
  },
  {
   "cell_type": "markdown",
   "id": "b37f2d4e",
   "metadata": {},
   "source": [
    "How many equivalence classes are there for the shown task definition?\n",
    "\n",
    "Create a train ticketing program which displays the kind of fare that a passenger must pay. If the passenger is age 12 or under, they are considered a child. If the passenger is age 65 or older, they are considered a senior. Everyone else is full fare."
   ]
  },
  {
   "cell_type": "markdown",
   "id": "c67ff3fd",
   "metadata": {},
   "source": [
    "MORE TO ADD, check the dicussion."
   ]
  },
  {
   "cell_type": "markdown",
   "id": "3707c8d6",
   "metadata": {},
   "source": [
    "### Handling exceptions"
   ]
  },
  {
   "cell_type": "markdown",
   "id": "adeda5d3",
   "metadata": {},
   "source": [
    "How would you rewrite the following EAFP (‘it’s easier to ask for forgiveness than permission’) snippet of code to take a LBYL (‘look before you leap’) approach?"
   ]
  },
  {
   "cell_type": "code",
   "execution_count": 22,
   "id": "2781b1e1",
   "metadata": {},
   "outputs": [
    {
     "name": "stdout",
     "output_type": "stream",
     "text": [
      "Enter a number: 0\n"
     ]
    }
   ],
   "source": [
    "denom = int(input('Enter a number: '))\n",
    "try:\n",
    "    result = str(1 / denom)\n",
    "except ZeroDivisionError:\n",
    "    result = 'infinity'"
   ]
  },
  {
   "cell_type": "markdown",
   "id": "e679dea0",
   "metadata": {},
   "source": [
    "Might ask in the discussion."
   ]
  },
  {
   "cell_type": "markdown",
   "id": "64890ea9",
   "metadata": {},
   "source": [
    "### Raising exceptions"
   ]
  },
  {
   "cell_type": "markdown",
   "id": "55776341",
   "metadata": {},
   "source": [
    "### Activity: Error output"
   ]
  },
  {
   "cell_type": "markdown",
   "id": "14961aad",
   "metadata": {},
   "source": [
    "What is the output of the shown Python program?"
   ]
  },
  {
   "cell_type": "code",
   "execution_count": 23,
   "id": "0a886146",
   "metadata": {},
   "outputs": [
    {
     "name": "stdout",
     "output_type": "stream",
     "text": [
      "5\n",
      "Oops\n",
      "Done\n"
     ]
    }
   ],
   "source": [
    "def print_odd_only(n):\n",
    "    if n % 2 == 0:\n",
    "        raise ValueError(f'{n} is even!')\n",
    "    print(n)\n",
    "try:\n",
    "    print_odd_only(5)\n",
    "    print_odd_only(4)\n",
    "    print_odd_only(3)\n",
    "except ValueError:\n",
    "      print('Oops')\n",
    "print('Done')"
   ]
  },
  {
   "cell_type": "code",
   "execution_count": null,
   "id": "70e1c4d1",
   "metadata": {},
   "outputs": [],
   "source": []
  },
  {
   "cell_type": "code",
   "execution_count": null,
   "id": "3d891789",
   "metadata": {},
   "outputs": [],
   "source": []
  },
  {
   "cell_type": "code",
   "execution_count": null,
   "id": "6546db1c",
   "metadata": {},
   "outputs": [],
   "source": []
  },
  {
   "cell_type": "code",
   "execution_count": null,
   "id": "8cde18d5",
   "metadata": {},
   "outputs": [],
   "source": []
  },
  {
   "cell_type": "code",
   "execution_count": null,
   "id": "c6a1d39b",
   "metadata": {},
   "outputs": [],
   "source": []
  },
  {
   "cell_type": "code",
   "execution_count": null,
   "id": "046f168f",
   "metadata": {},
   "outputs": [],
   "source": []
  },
  {
   "cell_type": "code",
   "execution_count": null,
   "id": "df6e9ff8",
   "metadata": {},
   "outputs": [],
   "source": []
  },
  {
   "cell_type": "code",
   "execution_count": null,
   "id": "b94f9a56",
   "metadata": {},
   "outputs": [],
   "source": []
  },
  {
   "cell_type": "code",
   "execution_count": null,
   "id": "7fd729c7",
   "metadata": {},
   "outputs": [],
   "source": []
  },
  {
   "cell_type": "code",
   "execution_count": null,
   "id": "a4393376",
   "metadata": {},
   "outputs": [],
   "source": []
  },
  {
   "cell_type": "code",
   "execution_count": null,
   "id": "3968602a",
   "metadata": {},
   "outputs": [],
   "source": []
  },
  {
   "cell_type": "code",
   "execution_count": null,
   "id": "c5a8e4b0",
   "metadata": {},
   "outputs": [],
   "source": []
  }
 ],
 "metadata": {
  "kernelspec": {
   "display_name": "Python 3 (ipykernel)",
   "language": "python",
   "name": "python3"
  },
  "language_info": {
   "codemirror_mode": {
    "name": "ipython",
    "version": 3
   },
   "file_extension": ".py",
   "mimetype": "text/x-python",
   "name": "python",
   "nbconvert_exporter": "python",
   "pygments_lexer": "ipython3",
   "version": "3.9.7"
  }
 },
 "nbformat": 4,
 "nbformat_minor": 5
}
