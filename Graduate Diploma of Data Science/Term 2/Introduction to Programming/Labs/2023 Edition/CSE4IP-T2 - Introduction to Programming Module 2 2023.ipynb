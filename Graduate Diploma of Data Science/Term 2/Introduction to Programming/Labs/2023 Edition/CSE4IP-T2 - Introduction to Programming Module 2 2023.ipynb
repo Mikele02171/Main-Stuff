{
 "cells": [
  {
   "cell_type": "markdown",
   "id": "2294f828",
   "metadata": {},
   "source": [
    "# CSE4IP-T2 - Introduction to Programming Modulue 2 2023"
   ]
  },
  {
   "cell_type": "markdown",
   "id": "9ced28a6",
   "metadata": {},
   "source": [
    "### Activity: Python Boolean expression"
   ]
  },
  {
   "cell_type": "markdown",
   "id": "d6fdc702",
   "metadata": {},
   "source": [
    "What is the Python Boolean expression for ‘twice the value of x is not equal to 100’?"
   ]
  },
  {
   "cell_type": "code",
   "execution_count": 8,
   "id": "c5547c64",
   "metadata": {},
   "outputs": [
    {
     "data": {
      "text/plain": [
       "False"
      ]
     },
     "execution_count": 8,
     "metadata": {},
     "output_type": "execute_result"
    }
   ],
   "source": [
    "2*x != 100"
   ]
  },
  {
   "cell_type": "markdown",
   "id": "a58c5edb",
   "metadata": {},
   "source": [
    "### Activity: Expression evaluation"
   ]
  },
  {
   "cell_type": "code",
   "execution_count": 9,
   "id": "1cdaa436",
   "metadata": {},
   "outputs": [
    {
     "data": {
      "text/plain": [
       "True"
      ]
     },
     "execution_count": 9,
     "metadata": {},
     "output_type": "execute_result"
    }
   ],
   "source": [
    "2 * 7 > 5 and not 27 < 8"
   ]
  },
  {
   "cell_type": "markdown",
   "id": "a4cb1d72",
   "metadata": {},
   "source": [
    "### Activity: Control flow control"
   ]
  },
  {
   "cell_type": "markdown",
   "id": "8d9780b5",
   "metadata": {},
   "source": [
    "Your task \n",
    "Answer the following:\n",
    "What is the correct control flow for this flowchart?"
   ]
  },
  {
   "cell_type": "markdown",
   "id": "5a75d5f1",
   "metadata": {},
   "source": [
    "Answer: Option C"
   ]
  },
  {
   "cell_type": "markdown",
   "id": "ad77954d",
   "metadata": {},
   "source": [
    "### Activity: Statement execution"
   ]
  },
  {
   "cell_type": "markdown",
   "id": "6866a8e3",
   "metadata": {},
   "source": [
    "Which print statement will never be executed, regardless of the input?"
   ]
  },
  {
   "cell_type": "code",
   "execution_count": 20,
   "id": "82d86846",
   "metadata": {},
   "outputs": [
    {
     "name": "stdout",
     "output_type": "stream",
     "text": [
      "100\n",
      "Big\n",
      "Done.\n"
     ]
    }
   ],
   "source": [
    "x = float(input())\n",
    "if x > 25:\n",
    "    print('Big')\n",
    "elif x > 50:\n",
    "    print('Huge')\n",
    "elif x > 5:\n",
    "    print('Medium')\n",
    "else:\n",
    "    print('Small')\n",
    "print('Done.')"
   ]
  },
  {
   "cell_type": "markdown",
   "id": "f79badeb",
   "metadata": {},
   "source": [
    "Answer: elif x > 50:"
   ]
  },
  {
   "cell_type": "markdown",
   "id": "8d5bbe0f",
   "metadata": {},
   "source": [
    "### Activity: If execution"
   ]
  },
  {
   "cell_type": "code",
   "execution_count": null,
   "id": "ba1a3879",
   "metadata": {},
   "outputs": [],
   "source": []
  },
  {
   "cell_type": "code",
   "execution_count": 21,
   "id": "f4feac66",
   "metadata": {},
   "outputs": [
    {
     "name": "stdout",
     "output_type": "stream",
     "text": [
      "88\n"
     ]
    }
   ],
   "source": [
    "price = 90\n",
    "if price > 100:\n",
    "    print('Discount')\n",
    "price = price - 2\n",
    "print(price) "
   ]
  },
  {
   "cell_type": "markdown",
   "id": "21971025",
   "metadata": {},
   "source": [
    "### Activity: Loop output"
   ]
  },
  {
   "cell_type": "markdown",
   "id": "8340b9eb",
   "metadata": {},
   "source": [
    "How many times will this program print output?"
   ]
  },
  {
   "cell_type": "code",
   "execution_count": 22,
   "id": "ee2e9c08",
   "metadata": {},
   "outputs": [
    {
     "name": "stdout",
     "output_type": "stream",
     "text": [
      "5\n",
      "4\n",
      "3\n",
      "2\n",
      "1\n",
      "0\n"
     ]
    }
   ],
   "source": [
    "x = 5\n",
    "while x >= 0:\n",
    "    print(x)\n",
    "    x = x - 1"
   ]
  },
  {
   "cell_type": "markdown",
   "id": "0c9e7ab8",
   "metadata": {},
   "source": [
    "Answer: 6 times"
   ]
  },
  {
   "cell_type": "markdown",
   "id": "cba5bcc3",
   "metadata": {},
   "source": [
    "### Activity: Infinite loop"
   ]
  },
  {
   "cell_type": "code",
   "execution_count": null,
   "id": "87c8388d",
   "metadata": {},
   "outputs": [],
   "source": [
    "x = 1\n",
    "while x * 2 < 10:\n",
    "    print(x)\n",
    "    break\n",
    "x = x + 1"
   ]
  },
  {
   "cell_type": "markdown",
   "id": "d4185d3c",
   "metadata": {},
   "source": [
    "How many times will this program print output?"
   ]
  },
  {
   "cell_type": "markdown",
   "id": "6728aab0",
   "metadata": {},
   "source": [
    "Actual Answer: Infinite times"
   ]
  },
  {
   "cell_type": "markdown",
   "id": "b2db1a50",
   "metadata": {},
   "source": [
    "Suppose that the indentation was different, like this:"
   ]
  },
  {
   "cell_type": "code",
   "execution_count": 1,
   "id": "f3a58293",
   "metadata": {},
   "outputs": [
    {
     "name": "stdout",
     "output_type": "stream",
     "text": [
      "1\n",
      "2\n",
      "3\n",
      "4\n"
     ]
    }
   ],
   "source": [
    "x = 1\n",
    "while x * 2 < 10:\n",
    "    print(x)\n",
    "    x = x + 1"
   ]
  },
  {
   "cell_type": "markdown",
   "id": "b3954b53",
   "metadata": {},
   "source": [
    "Answer: 4 Times"
   ]
  },
  {
   "cell_type": "markdown",
   "id": "f13c1de6",
   "metadata": {},
   "source": [
    "### Activity: Finishing early"
   ]
  },
  {
   "cell_type": "code",
   "execution_count": 2,
   "id": "e3f70652",
   "metadata": {},
   "outputs": [
    {
     "name": "stdout",
     "output_type": "stream",
     "text": [
      "0\n",
      "0\n",
      "1\n",
      "2\n"
     ]
    }
   ],
   "source": [
    "x = 0\n",
    "while x < 5:\n",
    "    if x % 2 == 0:\n",
    "        x = x + 1\n",
    "        continue\n",
    "    y = 0\n",
    "    while y < x:\n",
    "        print(y)\n",
    "        y = y + 1\n",
    "    x = x + 1"
   ]
  },
  {
   "cell_type": "markdown",
   "id": "3f42f617",
   "metadata": {},
   "source": [
    "Answer: 4 Times"
   ]
  },
  {
   "cell_type": "markdown",
   "id": "bde943d1",
   "metadata": {},
   "source": [
    "### Activity: Number ranges"
   ]
  },
  {
   "cell_type": "markdown",
   "id": "8e690c74",
   "metadata": {},
   "source": [
    "Fill in the blank using a Python range such that the program output is 9, 8, 7, 6."
   ]
  },
  {
   "cell_type": "code",
   "execution_count": 3,
   "id": "f3d2dfcb",
   "metadata": {},
   "outputs": [
    {
     "name": "stdout",
     "output_type": "stream",
     "text": [
      "9\n",
      "8\n",
      "7\n",
      "6\n"
     ]
    }
   ],
   "source": [
    "for i in range(9,5,-1):\n",
    "  print(i)"
   ]
  },
  {
   "cell_type": "markdown",
   "id": "4e550efe",
   "metadata": {},
   "source": [
    "ANSWER: range(9,5,-1)"
   ]
  },
  {
   "cell_type": "markdown",
   "id": "7d42bf6e",
   "metadata": {},
   "source": [
    "### Activity: Elif conditions"
   ]
  },
  {
   "cell_type": "markdown",
   "id": "877f5dbd",
   "metadata": {},
   "source": [
    "Does the order of the two elif branches in the FizzBuzz solution matter for getting the correct output?"
   ]
  },
  {
   "cell_type": "code",
   "execution_count": 4,
   "id": "1b6534a3",
   "metadata": {},
   "outputs": [
    {
     "name": "stdout",
     "output_type": "stream",
     "text": [
      "1\n",
      "2\n",
      "Fizz\n",
      "4\n",
      "Buzz\n",
      "Fizz\n",
      "7\n",
      "8\n",
      "Fizz\n",
      "Buzz\n",
      "11\n",
      "Fizz\n",
      "13\n",
      "14\n",
      "FizzBuzz\n",
      "16\n",
      "17\n",
      "Fizz\n",
      "19\n",
      "Buzz\n",
      "Fizz\n",
      "22\n",
      "23\n",
      "Fizz\n",
      "Buzz\n",
      "26\n",
      "Fizz\n",
      "28\n",
      "29\n",
      "FizzBuzz\n",
      "31\n",
      "32\n",
      "Fizz\n",
      "34\n",
      "Buzz\n",
      "Fizz\n",
      "37\n",
      "38\n",
      "Fizz\n",
      "Buzz\n",
      "41\n",
      "Fizz\n",
      "43\n",
      "44\n",
      "FizzBuzz\n",
      "46\n",
      "47\n",
      "Fizz\n",
      "49\n",
      "Buzz\n",
      "Fizz\n",
      "52\n",
      "53\n",
      "Fizz\n",
      "Buzz\n",
      "56\n",
      "Fizz\n",
      "58\n",
      "59\n",
      "FizzBuzz\n",
      "61\n",
      "62\n",
      "Fizz\n",
      "64\n",
      "Buzz\n",
      "Fizz\n",
      "67\n",
      "68\n",
      "Fizz\n",
      "Buzz\n",
      "71\n",
      "Fizz\n",
      "73\n",
      "74\n",
      "FizzBuzz\n",
      "76\n",
      "77\n",
      "Fizz\n",
      "79\n",
      "Buzz\n",
      "Fizz\n",
      "82\n",
      "83\n",
      "Fizz\n",
      "Buzz\n",
      "86\n",
      "Fizz\n",
      "88\n",
      "89\n",
      "FizzBuzz\n",
      "91\n",
      "92\n",
      "Fizz\n",
      "94\n",
      "Buzz\n",
      "Fizz\n",
      "97\n",
      "98\n",
      "Fizz\n",
      "Buzz\n"
     ]
    }
   ],
   "source": [
    "for i in range(1, 101):\n",
    "    if i%3 == 0 and i%5 == 0:\n",
    "        print(\"FizzBuzz\")\n",
    "    elif i%3 == 0:\n",
    "        print(\"Fizz\")\n",
    "    elif i%5 == 0:\n",
    "        print(\"Buzz\")\n",
    "    else:\n",
    "        print(i)\n",
    "        \n"
   ]
  },
  {
   "cell_type": "markdown",
   "id": "fb0bb4c6",
   "metadata": {},
   "source": [
    "Answer: Yes"
   ]
  },
  {
   "cell_type": "code",
   "execution_count": null,
   "id": "760d26fd",
   "metadata": {},
   "outputs": [],
   "source": []
  },
  {
   "cell_type": "code",
   "execution_count": null,
   "id": "def73a58",
   "metadata": {},
   "outputs": [],
   "source": []
  },
  {
   "cell_type": "code",
   "execution_count": null,
   "id": "bb650450",
   "metadata": {},
   "outputs": [],
   "source": []
  },
  {
   "cell_type": "code",
   "execution_count": null,
   "id": "6d525273",
   "metadata": {},
   "outputs": [],
   "source": []
  },
  {
   "cell_type": "code",
   "execution_count": null,
   "id": "f74ad04a",
   "metadata": {},
   "outputs": [],
   "source": []
  }
 ],
 "metadata": {
  "kernelspec": {
   "display_name": "Python 3 (ipykernel)",
   "language": "python",
   "name": "python3"
  },
  "language_info": {
   "codemirror_mode": {
    "name": "ipython",
    "version": 3
   },
   "file_extension": ".py",
   "mimetype": "text/x-python",
   "name": "python",
   "nbconvert_exporter": "python",
   "pygments_lexer": "ipython3",
   "version": "3.9.7"
  }
 },
 "nbformat": 4,
 "nbformat_minor": 5
}
