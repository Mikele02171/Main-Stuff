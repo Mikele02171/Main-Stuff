{
  "nbformat": 4,
  "nbformat_minor": 0,
  "metadata": {
    "colab": {
      "provenance": [],
      "collapsed_sections": [
        "wj2W9OSOZBlf",
        "o6__jagRZb4d",
        "YLk8MeAjboGp",
        "tLixWYXne85-",
        "YW4bIpAKfHJO",
        "eS-EIKWOgdBg",
        "iigFv12ehyT9"
      ],
      "toc_visible": true
    },
    "kernelspec": {
      "name": "python3",
      "display_name": "Python 3"
    }
  },
  "cells": [
    {
      "cell_type": "markdown",
      "metadata": {
        "id": "MeWa4toUrTRN"
      },
      "source": [
        "# Lab 2.1\n",
        " - Logic and Control Flow\n",
        "\n",
        "In this lab we will practice using boolean values to add logic to our code. This allows our programs to behave differently depending on variable values."
      ]
    },
    {
      "cell_type": "markdown",
      "metadata": {
        "id": "30PCgcZyusAn"
      },
      "source": [
        "## Programming Exercises"
      ]
    },
    {
      "cell_type": "markdown",
      "metadata": {
        "id": "mN_OeYAMroTJ"
      },
      "source": [
        "### Boolean Data Type\n",
        "\n",
        "We've already used a number of data types including integers and strings, but we're missing another fundamental type - boolean. This data type (in Python) can store either `True` or `False` - these are the two boolean literals.\n",
        "\n",
        "In the below cell we can see an example of assigning and then printing some boolean variables. Run the code and see that the inputs are what you expect.\n",
        "\n",
        "_Notice the way the variables are named? It's common to use simple true/false statements as names when storing booleans._"
      ]
    },
    {
      "cell_type": "code",
      "metadata": {
        "id": "Z9FHHXo4xdTa",
        "outputId": "7257ea95-c9bf-4c42-8771-5f4766af48a1",
        "colab": {
          "base_uri": "https://localhost:8080/"
        }
      },
      "source": [
        "is_pensioner = False\n",
        "paid_cash = True\n",
        "\n",
        "print(is_pensioner, paid_cash)"
      ],
      "execution_count": 1,
      "outputs": [
        {
          "output_type": "stream",
          "name": "stdout",
          "text": [
            "False True\n"
          ]
        }
      ]
    },
    {
      "cell_type": "markdown",
      "metadata": {
        "id": "MfGOSUdjuI2H"
      },
      "source": [
        "### `or` Operator\n",
        "Below we can see an example of how we could logically combine two boolean values with the `or` operator. The value printed is true if either of the variables are true."
      ]
    },
    {
      "cell_type": "code",
      "metadata": {
        "id": "oz6HIuJIuJIb",
        "outputId": "0b42c646-4db8-4c9b-8bd4-553482308e66",
        "colab": {
          "base_uri": "https://localhost:8080/"
        }
      },
      "source": [
        "print(is_pensioner or paid_cash)"
      ],
      "execution_count": 2,
      "outputs": [
        {
          "output_type": "stream",
          "name": "stdout",
          "text": [
            "True\n"
          ]
        }
      ]
    },
    {
      "cell_type": "markdown",
      "metadata": {
        "id": "AasS0_AHuSCP"
      },
      "source": [
        "### `and` Operator\n",
        "\n",
        "Let's say that a discount is applied if a customer is a pensioner `and` has paid in cash. Enter some code in the below cell to store this in a variable called `has_discount`, then print out this new variable's contents."
      ]
    },
    {
      "cell_type": "code",
      "metadata": {
        "id": "vdkRpNBRZBTS",
        "outputId": "b24dc621-d915-4047-903d-838933392671",
        "colab": {
          "base_uri": "https://localhost:8080/"
        }
      },
      "source": [
        "# Enter your solution here\n",
        "has_discount = is_pensioner and paid_cash\n",
        "print(has_discount)"
      ],
      "execution_count": 4,
      "outputs": [
        {
          "output_type": "stream",
          "name": "stdout",
          "text": [
            "False\n"
          ]
        }
      ]
    },
    {
      "cell_type": "markdown",
      "metadata": {
        "id": "wj2W9OSOZBlf"
      },
      "source": [
        "###### Solution"
      ]
    },
    {
      "cell_type": "code",
      "metadata": {
        "id": "zzt3xkGUuSCc"
      },
      "source": [
        "has_discount = is_pensioner and paid_cash\n",
        "print(has_discount)"
      ],
      "execution_count": null,
      "outputs": []
    },
    {
      "cell_type": "markdown",
      "metadata": {
        "id": "JEp2V-r9uSGC"
      },
      "source": [
        "### `not` Operator\n",
        "\n",
        "The keywords `and` and `or` are two of the three logical operators in Python. The other operator is `not` which negates the value of a boolean. I.e:\n",
        "* `not True == False`\n",
        "* `not False == True`.\n",
        "\n",
        "Let's add an additional condition to the discount, where only existing customers can receive it. Modify the code below so that the correct value is computed. Change the three input variables a few times to verify that your logic is correct for different values."
      ]
    },
    {
      "cell_type": "code",
      "metadata": {
        "id": "ivZo0_8muSGD",
        "outputId": "7897712b-22f6-462b-f592-3420eaedbb10",
        "colab": {
          "base_uri": "https://localhost:8080/"
        }
      },
      "source": [
        "is_pensioner = False\n",
        "paid_cash = True\n",
        "is_new_customer = True\n",
        "\n",
        "has_discount = is_pensioner and paid_cash and not is_new_customer\n",
        "# Enter your solution here\n",
        "\n",
        "print(has_discount)"
      ],
      "execution_count": 6,
      "outputs": [
        {
          "output_type": "stream",
          "name": "stdout",
          "text": [
            "False\n"
          ]
        }
      ]
    },
    {
      "cell_type": "markdown",
      "metadata": {
        "id": "o6__jagRZb4d"
      },
      "source": [
        "###### Solution"
      ]
    },
    {
      "cell_type": "code",
      "metadata": {
        "id": "Fjwd0J0KZTyL",
        "outputId": "bb8f5930-21d2-4413-f64f-2fed4a19bb17",
        "colab": {
          "base_uri": "https://localhost:8080/"
        }
      },
      "source": [
        "is_pensioner = False\n",
        "paid_cash = True\n",
        "is_new_customer = True\n",
        "\n",
        "has_discount = is_pensioner and paid_cash and not is_new_customer\n",
        "\n",
        "print(has_discount)"
      ],
      "execution_count": 7,
      "outputs": [
        {
          "output_type": "stream",
          "name": "stdout",
          "text": [
            "False\n"
          ]
        }
      ]
    },
    {
      "cell_type": "markdown",
      "metadata": {
        "id": "xU5ocm6PuSVO"
      },
      "source": [
        "### Basic Control Flow\n",
        "\n",
        "We'll now consider a different discount scheme, where a discount is applied for any product over a certain price.\n",
        "\n",
        "Run the next cell and observe the outputs. You'll notice that `has_discount` isn't given a literal value anymore, it's instead being computed by using a comparison operator meaning \"greater than or equal to\"."
      ]
    },
    {
      "cell_type": "code",
      "metadata": {
        "id": "pZ_807KNuSVO",
        "outputId": "77878b7f-0b0b-47a9-a992-1f4d571e41ed",
        "colab": {
          "base_uri": "https://localhost:8080/"
        }
      },
      "source": [
        "product_price = 70\n",
        "min_discount_price = 50  # Minimum price required for a discount to be applied\n",
        "\n",
        "has_discount = product_price >= min_discount_price\n",
        "print(has_discount)"
      ],
      "execution_count": 15,
      "outputs": [
        {
          "output_type": "stream",
          "name": "stdout",
          "text": [
            "True\n"
          ]
        }
      ]
    },
    {
      "cell_type": "markdown",
      "metadata": {
        "id": "sAJTy7zkuSa7"
      },
      "source": [
        "Now it's time to introduce some control flow, where we'll use `has_discount`  to conditionally execute some code. If the discount should be applied, we include a 10% discount (thus the price is `0.9 * product_price`). Otherwise we print the full price.\n",
        "\n",
        "Read the next cell before executing it - can you see any problems? If so, fix the code."
      ]
    },
    {
      "cell_type": "code",
      "metadata": {
        "id": "Ouep0z7yuSa7",
        "outputId": "8dd61d7d-37c7-40af-f688-0d236d251a66",
        "colab": {
          "base_uri": "https://localhost:8080/"
        }
      },
      "source": [
        "if has_discount:\n",
        "    print('Discount applied! New price:', 0.9 * product_price)\n",
        "print('No discount applied. Full price:', product_price)"
      ],
      "execution_count": 17,
      "outputs": [
        {
          "output_type": "stream",
          "name": "stdout",
          "text": [
            "Discount applied! New price: 63.0\n",
            "No discount applied. Full price: 70\n"
          ]
        }
      ]
    },
    {
      "cell_type": "markdown",
      "metadata": {
        "id": "YLk8MeAjboGp"
      },
      "source": [
        "###### Solution"
      ]
    },
    {
      "cell_type": "markdown",
      "metadata": {
        "id": "TIn_KtO7bzAm"
      },
      "source": [
        "The code on line three is executed regardless of `has_discount`, but we only want it to be executed if the condition on line one is false.\n",
        "\n",
        "To fix it, modify the code so it has this structure:\n",
        "```python\n",
        "if some_condition:\n",
        "    true_block\n",
        "else:\n",
        "    false_block\n",
        "```\n",
        "\n",
        "This way, `true_block` is run only if `some_condition` is true, and `false_block` is run only if `some_condition` is false."
      ]
    },
    {
      "cell_type": "markdown",
      "metadata": {
        "id": "uRDBG2_Pywh1"
      },
      "source": [
        "### Discount Calculation Tool\n",
        "\n",
        "Let's make things a bit more complex by computing whether someone is a pensioner based on their age. We'll assume that some who is 65 years or older is a pensioner.\n",
        "\n",
        "Complete the code in the below cell to store their pensioner status in `is_pensioner`, then try a few values to confirm that it works."
      ]
    },
    {
      "cell_type": "code",
      "metadata": {
        "id": "ZGy5wPFBywh1",
        "outputId": "49b877ed-b0e8-4bbe-c2e1-30b94985599e",
        "colab": {
          "base_uri": "https://localhost:8080/"
        }
      },
      "source": [
        "age = 67\n",
        "\n",
        "is_pensioner = 65 # Enter your solution here\n",
        "if is_pensioner:\n",
        "  age>=is_pensioner\n",
        "  print('Is a pensioner')\n",
        "\n",
        "else:\n",
        "  print('Is not a pensioner')"
      ],
      "execution_count": 21,
      "outputs": [
        {
          "output_type": "stream",
          "name": "stdout",
          "text": [
            "Is a pensioner\n"
          ]
        }
      ]
    },
    {
      "cell_type": "markdown",
      "metadata": {
        "id": "hIG5SBhZywlm"
      },
      "source": [
        "Now we'll bring it all together to make a discount calculation tool.\n",
        "\n",
        "Copy and paste your code for computing `is_pensioner` and `has_discount` into the cell below, then complete the code so that your program:\n",
        "\n",
        "* Computes whether the person is a senior pensioner\n",
        "* Computes whether the item is expensive enough to have a discount\n",
        "* If the two conditions are both met:\n",
        "  * prints the discounted price\n",
        "* otherwise:\n",
        "  * prints the full price\n",
        "\n",
        "\n"
      ]
    },
    {
      "cell_type": "code",
      "metadata": {
        "id": "mKxS26wtywln",
        "outputId": "c1162067-2f94-4b4f-ab5e-cbad11ea8d35",
        "colab": {
          "base_uri": "https://localhost:8080/"
        }
      },
      "source": [
        "\n",
        "age = 61 #Current Age\n",
        "min_discount_price = 70 # Minimum price required for a discount to be applied\n",
        "\n",
        "thereshold_age = 65\n",
        "product_price = 70\n",
        "\n",
        "has_discount = product_price >= min_discount_price\n",
        "is_pensioner = age >=thereshold_age\n",
        "\n",
        "# Compute is_pensioner and has_discount\n",
        "if is_pensioner and has_discount:\n",
        "  print('Discount applied! New price:', 0.9 * product_price)\n",
        "\n",
        "else:\n",
        "  print('No discount applied. Full price:', product_price)\n",
        "\n",
        "# Check the conditions and print the appropriate price"
      ],
      "execution_count": 48,
      "outputs": [
        {
          "output_type": "stream",
          "name": "stdout",
          "text": [
            "No discount applied. Full price: 70\n"
          ]
        }
      ]
    },
    {
      "cell_type": "markdown",
      "metadata": {
        "id": "tLixWYXne85-"
      },
      "source": [
        "###### Solution"
      ]
    },
    {
      "cell_type": "code",
      "metadata": {
        "id": "St2vCUlVeC3y",
        "outputId": "b7beb0c7-fa7e-4e06-92b4-e7cbd4f27e28",
        "colab": {
          "base_uri": "https://localhost:8080/"
        }
      },
      "source": [
        "age = 67\n",
        "product_price = 70\n",
        "min_discount_price = 50\n",
        "\n",
        "# Compute is_pensioner and has_discount\n",
        "is_pensioner = age >= 65\n",
        "has_discount = product_price >= min_discount_price\n",
        "\n",
        "# Check the conditions and print the appropriate price\n",
        "if is_pensioner and has_discount:\n",
        "    print('Discount applied! New price:', 0.9 * product_price)\n",
        "else:\n",
        "    print('No discount applied. Full price:', product_price)"
      ],
      "execution_count": 43,
      "outputs": [
        {
          "output_type": "stream",
          "name": "stdout",
          "text": [
            "Discount applied! New price: 63.0\n"
          ]
        }
      ]
    },
    {
      "cell_type": "markdown",
      "metadata": {
        "id": "j2tAgeWRywpN"
      },
      "source": [
        "### Chaining Conditionals\n",
        "\n",
        "Below we have the code for a basic password validation program. The purpose is to notify the user if their program has any problems, using the rules described below. \\\n",
        "In order to not overwhelm the user with errors **we only want to print the first error that we encounter**, instead of all errors.\n",
        "\n",
        "Can you see what's wrong with this program? If you can, fix it!\n",
        "\n",
        "Validation rules:\n",
        "* password cannot be empty\n",
        "* password must be at least 5 characters long\n",
        "* password must be at most 15 characters long"
      ]
    },
    {
      "cell_type": "code",
      "metadata": {
        "id": "SVhlGSaMywpO",
        "outputId": "bb93250d-b618-4a44-dfd8-642ebea5da51",
        "colab": {
          "base_uri": "https://localhost:8080/"
        }
      },
      "source": [
        "password = '100Rg'\n",
        "\n",
        "if len(password) == 0:\n",
        "    print('Password cannot be empty')\n",
        "elif len(password) < 5:\n",
        "    print('must be at least 5 characters long')\n",
        "elif len(password) > 15:\n",
        "    print('must be at most 15 characters long')\n",
        "else:\n",
        "    print('Password valid!')"
      ],
      "execution_count": 47,
      "outputs": [
        {
          "output_type": "stream",
          "name": "stdout",
          "text": [
            "Password valid!\n"
          ]
        }
      ]
    },
    {
      "cell_type": "markdown",
      "metadata": {
        "id": "YW4bIpAKfHJO"
      },
      "source": [
        "###### Solution"
      ]
    },
    {
      "cell_type": "markdown",
      "metadata": {
        "id": "foYmbeJo24Jr"
      },
      "source": [
        "The conditional branches should be chained such that only one is executed. By replacing `else` with `elif`, only one of the branches will be run."
      ]
    },
    {
      "cell_type": "code",
      "metadata": {
        "id": "8m_cQnqNfJHt",
        "outputId": "b05de0d7-b085-41de-b1b9-f1fcc66abcac",
        "colab": {
          "base_uri": "https://localhost:8080/"
        }
      },
      "source": [
        "password = ''\n",
        "\n",
        "if not password:\n",
        "    print('Password cannot be empty')\n",
        "elif len(password) < 5:\n",
        "    print('must be at least 5 characters long')\n",
        "elif len(password) > 15:\n",
        "    print('must be at most 15 characters long')\n",
        "else:\n",
        "    print('Password valid!')"
      ],
      "execution_count": 98,
      "outputs": [
        {
          "output_type": "stream",
          "name": "stdout",
          "text": [
            "Password cannot be empty\n"
          ]
        }
      ]
    },
    {
      "cell_type": "markdown",
      "metadata": {
        "id": "_i_wN4P8-qvN"
      },
      "source": [
        "### Empty Strings are Falsy\n",
        "\n",
        "One more thing to improve in our password generator - we used `len(password) == 0`. This can be simplified using the fact that only an empty string is falsy, and every other string is truthy. Replace this condition with something that takes advantage of this.\n",
        "\n",
        "_You'll need to use the `not` operator to make it work._"
      ]
    },
    {
      "cell_type": "markdown",
      "metadata": {
        "id": "eS-EIKWOgdBg"
      },
      "source": [
        "###### Solution"
      ]
    },
    {
      "cell_type": "markdown",
      "metadata": {
        "id": "R43R_Anj-5Xe"
      },
      "source": [
        "Replace `len(password) == 0` with `not password`."
      ]
    },
    {
      "cell_type": "markdown",
      "metadata": {
        "id": "Zd99erlKywsz"
      },
      "source": [
        "### Nested Conditionals\n",
        "\n",
        "It's often convenient to nest conditionals to describe more complex logic. In the example below, we nest the `has_engine` conditional inside of the `num_wheels` conditional. This means that when we check the value of `has_engine`, we already know that `num_wheels == 2`.\n",
        "\n",
        "```python\n",
        "if num_wheels == 2:\n",
        "    if has_engine:\n",
        "        print('Motorbike')\n",
        "    else:\n",
        "        print('Bicycle')\n",
        "else:\n",
        "    print('Car')\n",
        "```\n",
        "\n",
        "We'll apply this type of logic to our discount calculation task, with a slight variation to the discount scheme:\n",
        "\n",
        "* The item must be expensive enough to have a discount\n",
        "* Pensioners are given a 20% discount\n",
        "* Non-pensioners are given a 10% discount\n",
        "\n",
        "Using similar nested logic to what's outlined above, complete the program below to print out the appropriate price."
      ]
    },
    {
      "cell_type": "code",
      "metadata": {
        "id": "VxYL0DMphgf4",
        "outputId": "105c7921-dcd2-4c96-dd06-4124688d8fa0",
        "colab": {
          "base_uri": "https://localhost:8080/"
        }
      },
      "source": [
        "age = 60\n",
        "product_price = 70\n",
        "min_discount_price = 50\n",
        "\n",
        "# Compute is_pensioner and has_discount\n",
        "is_pensioner = age >= 65\n",
        "has_discount = product_price >= min_discount_price\n",
        "\n",
        "# Check the conditions and print the appropriate price\n",
        "if has_discount == True:\n",
        "  if is_pensioner:\n",
        "    print('Discount applied! New price:', 0.8 * product_price)\n",
        "\n",
        "  else:\n",
        "    print('Discount applied! New price:', 0.9 * product_price)\n",
        "\n",
        "else:\n",
        "    print('No discount applied. Full price:', product_price)"
      ],
      "execution_count": 53,
      "outputs": [
        {
          "output_type": "stream",
          "name": "stdout",
          "text": [
            "Discount applied! New price: 63.0\n"
          ]
        }
      ]
    },
    {
      "cell_type": "markdown",
      "metadata": {
        "id": "iigFv12ehyT9"
      },
      "source": [
        "###### Solution"
      ]
    },
    {
      "cell_type": "code",
      "metadata": {
        "id": "u-tZeWr8hx0Z",
        "outputId": "0ac34831-ccea-450f-8bbc-e09b0ce09a2b",
        "colab": {
          "base_uri": "https://localhost:8080/"
        }
      },
      "source": [
        "age = 67\n",
        "product_price = 70\n",
        "min_discount_price = 50\n",
        "\n",
        "# Compute is_pensioner and has_discount\n",
        "is_pensioner = age >= 65\n",
        "has_discount = product_price >= min_discount_price\n",
        "\n",
        "# Check the conditions and print the appropriate price\n",
        "if has_discount:\n",
        "    if is_pensioner:\n",
        "        print('Pensioner discount applied! New price:', 0.8 * product_price)\n",
        "    else:\n",
        "        print('Discount applied! New price:', 0.9 * product_price)\n",
        "else:\n",
        "    print('No discount applied. Full price:', product_price)"
      ],
      "execution_count": 54,
      "outputs": [
        {
          "output_type": "stream",
          "name": "stdout",
          "text": [
            "Pensioner discount applied! New price: 56.0\n"
          ]
        }
      ]
    },
    {
      "cell_type": "markdown",
      "metadata": {
        "id": "n7flHW_C3mJh"
      },
      "source": [
        "## Bonus Tasks\n",
        "\n",
        "As with the previous lab, these tasks are optional but strongly recommended."
      ]
    },
    {
      "cell_type": "markdown",
      "metadata": {
        "id": "5Ka05OEY3mL5"
      },
      "source": [
        "### Pet Kennel Pricing\n",
        "\n",
        "Write a program which calculates the cost to look after a pet overnight. The user will enter the pet's age and type of pet.\n",
        "\n",
        "* If the pet is less than two years old, a message is printed advising the user that the kennel doesn't accept young animals.\n",
        "* Otherwise:\n",
        "  * If the pet is a dog, the price is \\$25 per day\n",
        "  * If the pet is a cat, the price is \\$20 per day\n",
        "  * For all other pets, a message is printed stating that the kennel won't accept them.\n",
        "\n",
        "Example runs:\n",
        "```\n",
        "Pet age: 3\n",
        "Pet type (dog/cat): cat\n",
        "The cost is $20 per day\n",
        "\n",
        "Pet age: 1\n",
        "Pet type (dog/cat): dog\n",
        "Sorry, we don't accept young animals\n",
        "\n",
        "Pet age: 5\n",
        "Pet type (dog/cat): pigeon\n",
        "Sorry, we only provide provide kennels for dogs and cats\n",
        "```\n",
        "\n",
        "_Be sure to choose appropriate data types for the inputs. If you don't recall how to take inputs, refer to the section \"Interactive Inputs and Data Types\" from the previous lab notebook._"
      ]
    },
    {
      "cell_type": "code",
      "metadata": {
        "id": "w7tegjXn3mL5",
        "outputId": "42a90c4c-8c57-44a4-c47e-7707037bc89e",
        "colab": {
          "base_uri": "https://localhost:8080/"
        }
      },
      "source": [
        "# Write your kennel pricing solution here\n",
        "age= int(input('Pet age: '))\n",
        "pet_type = input('Pet type (dog/cat): ')\n",
        "# Check the conditions and print the appropriate price\n",
        "if age>=2:\n",
        "  if pet_type == 'dog':\n",
        "    print('The cost is $25 per day')\n",
        "  elif pet_type == 'cat':\n",
        "    print('The cost is $20 per day')\n",
        "  else:\n",
        "    print('Sorry, we only provide provide kennels for dogs and cats')\n",
        "else:\n",
        "  print(\"Sorry, we don't accept young animals\")\n"
      ],
      "execution_count": 96,
      "outputs": [
        {
          "output_type": "stream",
          "name": "stdout",
          "text": [
            "Pet age: 1\n",
            "Pet type (dog/cat): dog\n",
            "Sorry, we don't accept young animals\n"
          ]
        }
      ]
    },
    {
      "cell_type": "markdown",
      "metadata": {
        "id": "D9we_Qkb3mOi"
      },
      "source": [
        "### Improved Pet Kennel Pricing\n",
        "\n",
        "Notice how the user has to enter the pet type, even if their pet is too young to be kept. Copy and paste your solution into the below cell, then modify it so the user is asked the pet type *only* if the pet is two years or older.\n",
        "c\n",
        "The program execution would then look like:\n",
        "```\n",
        "Pet age: 3\n",
        "Pet type (dog/cat): cat\n",
        "The cost is $20 per day\n",
        " \n",
        "Pet age: 1\n",
        "Sorry, we don't accept young animals\n",
        "```"
      ]
    },
    {
      "cell_type": "code",
      "metadata": {
        "id": "Cbveo_wg3mOi",
        "outputId": "1c5701a9-c305-4cf1-bd4d-217821bc26fa",
        "colab": {
          "base_uri": "https://localhost:8080/"
        }
      },
      "source": [
        "# Write your improved kennel pricing solution here\n",
        "age= int(input('Pet age: '))\n",
        "# Check the conditions and print the appropriate price\n",
        "if age>=2:\n",
        "  pet_type = input('Pet type (dog/cat): ')\n",
        "  if pet_type == 'dog':\n",
        "    print('The cost is $25 per day')\n",
        "  elif pet_type == 'cat':\n",
        "    print('The cost is $20 per day')\n",
        "  else:\n",
        "    print('Sorry, we only provide provide kennels for dogs and cats')\n",
        "else:\n",
        "  print(\"Sorry, we don't accept young animals\")"
      ],
      "execution_count": 95,
      "outputs": [
        {
          "output_type": "stream",
          "name": "stdout",
          "text": [
            "Pet age: 1\n",
            "Sorry, we don't accept young animals\n"
          ]
        }
      ]
    },
    {
      "cell_type": "code",
      "source": [],
      "metadata": {
        "id": "eGkO8fnBGkpG"
      },
      "execution_count": null,
      "outputs": []
    }
  ]
}