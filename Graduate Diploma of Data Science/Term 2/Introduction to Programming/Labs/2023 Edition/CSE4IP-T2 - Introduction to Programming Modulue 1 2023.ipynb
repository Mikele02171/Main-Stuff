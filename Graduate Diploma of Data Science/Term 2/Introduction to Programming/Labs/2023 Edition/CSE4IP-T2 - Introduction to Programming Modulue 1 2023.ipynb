{
 "cells": [
  {
   "cell_type": "markdown",
   "id": "d8f12438",
   "metadata": {},
   "source": [
    "# CSE4IP-T2 - Introduction to Programming Modulue 1 2023 "
   ]
  },
  {
   "cell_type": "markdown",
   "id": "ba42bef0",
   "metadata": {},
   "source": [
    "### Activity: Numeric/string literals"
   ]
  },
  {
   "cell_type": "code",
   "execution_count": 3,
   "id": "726a908d",
   "metadata": {},
   "outputs": [
    {
     "name": "stdout",
     "output_type": "stream",
     "text": [
      "Result:\n",
      "12.2\n"
     ]
    }
   ],
   "source": [
    "x = 5.1\n",
    "y = x + 2\n",
    "z = x + y\n",
    "print('Result:')\n",
    "print(z)"
   ]
  },
  {
   "cell_type": "markdown",
   "id": "0ab9364c",
   "metadata": {},
   "source": [
    "x,y and z contains numeric and string literals. "
   ]
  },
  {
   "cell_type": "markdown",
   "id": "893bbf48",
   "metadata": {},
   "source": [
    "### Activity: Invalid variable names"
   ]
  },
  {
   "cell_type": "code",
   "execution_count": 7,
   "id": "34ea6df5",
   "metadata": {},
   "outputs": [],
   "source": [
    "#Which of the following variable names are invalid\n",
    "\n",
    "#myVariable\n",
    "#a.thing\n",
    "#map_2d\n",
    "#2nd_value invalid\n",
    "#break invalid"
   ]
  },
  {
   "cell_type": "markdown",
   "id": "1dd9ebf9",
   "metadata": {},
   "source": [
    "### Activity: Statements output"
   ]
  },
  {
   "cell_type": "code",
   "execution_count": 8,
   "id": "dfd6f3cd",
   "metadata": {},
   "outputs": [
    {
     "name": "stdout",
     "output_type": "stream",
     "text": [
      "36\n",
      "Done\n"
     ]
    }
   ],
   "source": [
    "age = 36\n",
    "print(age)\n",
    "age + 1\n",
    "print('Done')"
   ]
  },
  {
   "cell_type": "markdown",
   "id": "b94fd36e",
   "metadata": {},
   "source": [
    "### Activity: Output"
   ]
  },
  {
   "cell_type": "code",
   "execution_count": 9,
   "id": "ce3a16e2",
   "metadata": {},
   "outputs": [
    {
     "name": "stdout",
     "output_type": "stream",
     "text": [
      "8\n"
     ]
    }
   ],
   "source": [
    "x = 2\n",
    "five = x + 2\n",
    "y = five + 4\n",
    "# y = y + 1\n",
    "print(y) "
   ]
  },
  {
   "cell_type": "markdown",
   "id": "f4c1bb01",
   "metadata": {},
   "source": [
    "### Activity: Interactive Python"
   ]
  },
  {
   "cell_type": "code",
   "execution_count": 11,
   "id": "0f59e8cc",
   "metadata": {},
   "outputs": [
    {
     "data": {
      "text/plain": [
       "12"
      ]
     },
     "execution_count": 11,
     "metadata": {},
     "output_type": "execute_result"
    }
   ],
   "source": [
    ">>> x = 5\n",
    ">>> x\n",
    "5\n",
    ">>> x * 2\n",
    "10\n",
    ">>> (x + 1) * 2\n",
    "12"
   ]
  },
  {
   "cell_type": "markdown",
   "id": "fe420c1b",
   "metadata": {},
   "source": [
    "### Activity: expression"
   ]
  },
  {
   "cell_type": "code",
   "execution_count": 12,
   "id": "0ef3196f",
   "metadata": {},
   "outputs": [
    {
     "data": {
      "text/plain": [
       "19"
      ]
     },
     "execution_count": 12,
     "metadata": {},
     "output_type": "execute_result"
    }
   ],
   "source": [
    "2 + 5 * 7 // (1 + 1)"
   ]
  },
  {
   "cell_type": "markdown",
   "id": "442324bd",
   "metadata": {},
   "source": [
    "Using BODMAS"
   ]
  },
  {
   "cell_type": "markdown",
   "id": "98c8c528",
   "metadata": {},
   "source": [
    "### Value Types"
   ]
  },
  {
   "cell_type": "code",
   "execution_count": 15,
   "id": "c6e1a1dc",
   "metadata": {},
   "outputs": [
    {
     "name": "stdout",
     "output_type": "stream",
     "text": [
      "12\n"
     ]
    }
   ],
   "source": [
    "print('1' + '2')"
   ]
  },
  {
   "cell_type": "code",
   "execution_count": 16,
   "id": "7b68cee6",
   "metadata": {},
   "outputs": [
    {
     "ename": "TypeError",
     "evalue": "unsupported operand type(s) for +: 'int' and 'str'",
     "output_type": "error",
     "traceback": [
      "\u001b[1;31m---------------------------------------------------------------------------\u001b[0m",
      "\u001b[1;31mTypeError\u001b[0m                                 Traceback (most recent call last)",
      "\u001b[1;32m~\\AppData\\Local\\Temp/ipykernel_18020/3905401405.py\u001b[0m in \u001b[0;36m<module>\u001b[1;34m\u001b[0m\n\u001b[1;32m----> 1\u001b[1;33m \u001b[0mprint\u001b[0m\u001b[1;33m(\u001b[0m\u001b[1;36m1\u001b[0m \u001b[1;33m+\u001b[0m \u001b[1;34m'2'\u001b[0m\u001b[1;33m)\u001b[0m\u001b[1;33m\u001b[0m\u001b[1;33m\u001b[0m\u001b[0m\n\u001b[0m",
      "\u001b[1;31mTypeError\u001b[0m: unsupported operand type(s) for +: 'int' and 'str'"
     ]
    }
   ],
   "source": [
    "print(1 + '2')"
   ]
  },
  {
   "cell_type": "code",
   "execution_count": 17,
   "id": "d4b6452c",
   "metadata": {},
   "outputs": [
    {
     "name": "stdout",
     "output_type": "stream",
     "text": [
      "3.0\n"
     ]
    }
   ],
   "source": [
    "print(1.0+2)"
   ]
  },
  {
   "cell_type": "code",
   "execution_count": 18,
   "id": "eee9b410",
   "metadata": {},
   "outputs": [
    {
     "name": "stdout",
     "output_type": "stream",
     "text": [
      "3\n"
     ]
    }
   ],
   "source": [
    "print(1+2)"
   ]
  },
  {
   "cell_type": "markdown",
   "id": "de37e4ca",
   "metadata": {},
   "source": [
    "### Activity: Expression type"
   ]
  },
  {
   "cell_type": "code",
   "execution_count": 19,
   "id": "d847e36c",
   "metadata": {},
   "outputs": [
    {
     "data": {
      "text/plain": [
       "'10.00'"
      ]
     },
     "execution_count": 19,
     "metadata": {},
     "output_type": "execute_result"
    }
   ],
   "source": [
    "str(9 + 1.0) + '0' "
   ]
  },
  {
   "cell_type": "markdown",
   "id": "84a5cf1f",
   "metadata": {},
   "source": [
    "### Coding the solution: Source code for celsius_to_fahrenheit.py"
   ]
  },
  {
   "cell_type": "code",
   "execution_count": 20,
   "id": "38bd44d3",
   "metadata": {},
   "outputs": [
    {
     "name": "stdout",
     "output_type": "stream",
     "text": [
      "Enter Celsius: 1\n",
      "Fahrenheit: 33.8\n"
     ]
    }
   ],
   "source": [
    "# Input\n",
    "tc = input('Enter Celsius: ')\n",
    "x = float(tc)\n",
    "# Processing\n",
    "x = x * 9   # Multiply by 9\n",
    "x = x / 5   # Divide by 5\n",
    "x = x + 32  # Add 32\n",
    "# Output\n",
    "tf = str(x)\n",
    "print('Fahrenheit: ' + tf)"
   ]
  },
  {
   "cell_type": "markdown",
   "id": "0c84596c",
   "metadata": {},
   "source": [
    "### Activity: Data conversion"
   ]
  },
  {
   "cell_type": "markdown",
   "id": "317449ea",
   "metadata": {},
   "source": [
    "#### After reading user input, we converted the value into a float:"
   ]
  },
  {
   "cell_type": "code",
   "execution_count": 21,
   "id": "9a3534dc",
   "metadata": {},
   "outputs": [],
   "source": [
    "x = float(tc)"
   ]
  },
  {
   "cell_type": "markdown",
   "id": "849c1bf5",
   "metadata": {},
   "source": [
    "#### Why didn’t we convert to an integer instead?"
   ]
  },
  {
   "cell_type": "code",
   "execution_count": 22,
   "id": "370d933f",
   "metadata": {},
   "outputs": [],
   "source": [
    "x = int(tc)"
   ]
  },
  {
   "cell_type": "code",
   "execution_count": null,
   "id": "8bd4a873",
   "metadata": {},
   "outputs": [],
   "source": []
  },
  {
   "cell_type": "code",
   "execution_count": null,
   "id": "5b62d18e",
   "metadata": {},
   "outputs": [],
   "source": []
  },
  {
   "cell_type": "code",
   "execution_count": null,
   "id": "d69de35c",
   "metadata": {},
   "outputs": [],
   "source": []
  },
  {
   "cell_type": "code",
   "execution_count": null,
   "id": "f2e90556",
   "metadata": {},
   "outputs": [],
   "source": []
  },
  {
   "cell_type": "code",
   "execution_count": null,
   "id": "23892dea",
   "metadata": {},
   "outputs": [],
   "source": []
  }
 ],
 "metadata": {
  "kernelspec": {
   "display_name": "Python 3 (ipykernel)",
   "language": "python",
   "name": "python3"
  },
  "language_info": {
   "codemirror_mode": {
    "name": "ipython",
    "version": 3
   },
   "file_extension": ".py",
   "mimetype": "text/x-python",
   "name": "python",
   "nbconvert_exporter": "python",
   "pygments_lexer": "ipython3",
   "version": "3.9.7"
  }
 },
 "nbformat": 4,
 "nbformat_minor": 5
}
