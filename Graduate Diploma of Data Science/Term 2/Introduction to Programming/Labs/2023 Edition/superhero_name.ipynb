{
 "cells": [
  {
   "cell_type": "code",
   "execution_count": 1,
   "id": "a02f4bee",
   "metadata": {},
   "outputs": [
    {
     "name": "stdout",
     "output_type": "stream",
     "text": [
      "Please enter your name: Michael \n",
      "Please enter the number of your birth month (1--12): 2\n",
      "Your superhero name is \"Majestic Muffin\".\n"
     ]
    }
   ],
   "source": [
    "adjectives = {\n",
    "    'A': 'Austere',\n",
    "    'B': 'Brilliant',\n",
    "    'C': 'Captain',\n",
    "    'D': 'Dark',\n",
    "    'E': 'Elegant',\n",
    "    'F': 'Fantastic',\n",
    "    'G': 'Gargantuan',\n",
    "    'H': 'Hulking',\n",
    "    'I': 'Incredible',\n",
    "    'J': 'Jovial',\n",
    "    'K': 'Killing',\n",
    "    'L': 'Local',\n",
    "    'M': 'Majestic',\n",
    "    'N': 'Noble',\n",
    "    'O': 'Officer',\n",
    "    'P': 'Proud',\n",
    "    'Q': 'Quirky',\n",
    "    'R': 'Radiant',\n",
    "    'S': 'Swift',\n",
    "    'T': 'Twin',\n",
    "    'U': 'Undying',\n",
    "    'V': 'Venerated',\n",
    "    'W': 'Wild',\n",
    "    'X': 'Xeric',\n",
    "    'Y': 'Yellow',\n",
    "    'Z': 'Zesty',\n",
    "}\n",
    "\n",
    "nouns = {\n",
    "    1: 'Avenger',\n",
    "    2: 'Muffin',\n",
    "    3: 'Crusher',\n",
    "    4: 'Angel',\n",
    "    5: 'Striker',\n",
    "    6: 'Arrow',\n",
    "    7: 'Judgement',\n",
    "    8: 'Arbiter',\n",
    "    9: 'Flash',\n",
    "    10: 'Blobfish',\n",
    "    11: 'Vigilante',\n",
    "    12: 'Lightning',\n",
    "}\n",
    "\n",
    "name = input('Please enter your name: ')\n",
    "month = input('Please enter the number of your birth month (1--12): ')\n",
    "\n",
    "adjective_key = name[0].upper()\n",
    "noun_key = int(month)\n",
    "superhero_name = adjectives[adjective_key] + ' ' + nouns[noun_key]\n",
    "\n",
    "print('Your superhero name is \"' + superhero_name + '\".')"
   ]
  },
  {
   "cell_type": "code",
   "execution_count": null,
   "id": "bf185e4a",
   "metadata": {},
   "outputs": [],
   "source": []
  }
 ],
 "metadata": {
  "kernelspec": {
   "display_name": "Python 3 (ipykernel)",
   "language": "python",
   "name": "python3"
  },
  "language_info": {
   "codemirror_mode": {
    "name": "ipython",
    "version": 3
   },
   "file_extension": ".py",
   "mimetype": "text/x-python",
   "name": "python",
   "nbconvert_exporter": "python",
   "pygments_lexer": "ipython3",
   "version": "3.9.7"
  }
 },
 "nbformat": 4,
 "nbformat_minor": 5
}
