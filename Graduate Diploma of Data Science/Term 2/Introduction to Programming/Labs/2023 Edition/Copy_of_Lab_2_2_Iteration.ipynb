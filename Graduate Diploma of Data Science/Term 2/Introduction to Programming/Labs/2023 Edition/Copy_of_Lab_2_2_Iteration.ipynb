{
  "nbformat": 4,
  "nbformat_minor": 0,
  "metadata": {
    "colab": {
      "provenance": [],
      "collapsed_sections": [
        "qx7xUkl6PVBQ",
        "jUMKqAryLgGu",
        "4ay3TC-8Pbax",
        "5X6uTKL6IOSl",
        "Q5ArPUUAT7Bc",
        "TlAUQxvGPbwR",
        "H-Eu03imSd2X"
      ],
      "toc_visible": true
    },
    "kernelspec": {
      "name": "python3",
      "display_name": "Python 3"
    }
  },
  "cells": [
    {
      "cell_type": "markdown",
      "metadata": {
        "id": "rDvK6-Fu_qNd"
      },
      "source": [
        "# Lab 2.2\n",
        " - Iteration\n",
        "\n",
        "We've explored adding logic to our programs using _selection_ with the keywords `if`, `elif`, `else`. Today, we'll extend our toolkit by introducing _iteration_ control structures with the keywords `while` and `for`."
      ]
    },
    {
      "cell_type": "markdown",
      "metadata": {
        "id": "F8XZVjEnMzrI"
      },
      "source": [
        "## Programming Exercises"
      ]
    },
    {
      "cell_type": "markdown",
      "metadata": {
        "id": "JLWketkS_vcd"
      },
      "source": [
        "### `while` Loops\n",
        "\n",
        "The syntax for `while` loops is similar to `if` statements, but it's used to define _repeating_ logic. \\\n",
        "For example, the below program will print the numbers 0, 1, 2.\n",
        "\n",
        "```python\n",
        "i = 0\n",
        "while i < 3:\n",
        "    print(i)\n",
        "    i = i + 1\n",
        "```\n",
        "\n",
        "That should be enough of a recap, so let's get programming!\n",
        "\n",
        "\n",
        "### Perfect Squares\n",
        "A perfect square is the number produced by squaring a whole number. The first 3 perfect squares are 1, 4 and 9; which are calculated as $1^2$, $2^2$ and $3^2$, respectively.\n",
        "\n",
        "Write a program below which calculates the first 10 perfect squares using a while loop. The variable `number` has been initialised for you, and should be incremented each time through the loop."
      ]
    },
    {
      "cell_type": "code",
      "metadata": {
        "id": "oFX373ufPUjC",
        "outputId": "1deabba3-89b1-4bfb-b82b-7f0745f0aa62",
        "colab": {
          "base_uri": "https://localhost:8080/"
        }
      },
      "source": [
        "number = 1\n",
        "while number < 11:\n",
        "  print(number**2)\n",
        "  number = number + 1\n",
        "\n",
        "# Write your perfect square solution here"
      ],
      "execution_count": null,
      "outputs": [
        {
          "output_type": "stream",
          "name": "stdout",
          "text": [
            "1\n",
            "4\n",
            "9\n",
            "16\n",
            "25\n",
            "36\n",
            "49\n",
            "64\n",
            "81\n",
            "100\n"
          ]
        }
      ]
    },
    {
      "cell_type": "markdown",
      "metadata": {
        "id": "qx7xUkl6PVBQ"
      },
      "source": [
        "###### Solution"
      ]
    },
    {
      "cell_type": "markdown",
      "metadata": {
        "id": "oDWCb7IFiOU5"
      },
      "source": [
        "Recall that `number ** 2` is the same as `number * number`, so either of these are correct."
      ]
    },
    {
      "cell_type": "code",
      "metadata": {
        "id": "yuCEilJyin_Y"
      },
      "source": [
        "number = 1\n",
        "\n",
        "while number <= 10:\n",
        "    print(number ** 2)\n",
        "    number = number + 1"
      ],
      "execution_count": null,
      "outputs": []
    },
    {
      "cell_type": "markdown",
      "metadata": {
        "id": "3O1ZzBk6Lkdk"
      },
      "source": [
        "### The `break` Statement\n",
        "The break statement causes its containing loop to exit immediately, continuing execution from directly after the loop. This is particularly convenient when we don't know beforehand at which iteration a loop should stop; this is known as an _indefinite loop_.\n",
        "\n",
        "Copy and paste your perfect square solution into the cell below and modify it so that instead of printing the first 10 perfect squares, it prints all perfect squares _less than or equal to 150_. \\\n",
        "Your solution should use a `while True` loop, and a `break` statement."
      ]
    },
    {
      "cell_type": "code",
      "metadata": {
        "id": "M_gyU_GeLgGq",
        "outputId": "b04c2bc8-e8fe-47b6-9ac9-edce902db02a",
        "colab": {
          "base_uri": "https://localhost:8080/"
        }
      },
      "source": [
        "number = 1\n",
        "while True:\n",
        "  print(number**2)\n",
        "  number = number + 1\n",
        "  if number >150:\n",
        "    break\n",
        "\n",
        "# Paste and modify your perfect square solution here"
      ],
      "execution_count": null,
      "outputs": [
        {
          "output_type": "stream",
          "name": "stdout",
          "text": [
            "1\n",
            "4\n",
            "9\n",
            "16\n",
            "25\n",
            "36\n",
            "49\n",
            "64\n",
            "81\n",
            "100\n",
            "121\n",
            "144\n",
            "169\n",
            "196\n",
            "225\n",
            "256\n",
            "289\n",
            "324\n",
            "361\n",
            "400\n",
            "441\n",
            "484\n",
            "529\n",
            "576\n",
            "625\n",
            "676\n",
            "729\n",
            "784\n",
            "841\n",
            "900\n",
            "961\n",
            "1024\n",
            "1089\n",
            "1156\n",
            "1225\n",
            "1296\n",
            "1369\n",
            "1444\n",
            "1521\n",
            "1600\n",
            "1681\n",
            "1764\n",
            "1849\n",
            "1936\n",
            "2025\n",
            "2116\n",
            "2209\n",
            "2304\n",
            "2401\n",
            "2500\n",
            "2601\n",
            "2704\n",
            "2809\n",
            "2916\n",
            "3025\n",
            "3136\n",
            "3249\n",
            "3364\n",
            "3481\n",
            "3600\n",
            "3721\n",
            "3844\n",
            "3969\n",
            "4096\n",
            "4225\n",
            "4356\n",
            "4489\n",
            "4624\n",
            "4761\n",
            "4900\n",
            "5041\n",
            "5184\n",
            "5329\n",
            "5476\n",
            "5625\n",
            "5776\n",
            "5929\n",
            "6084\n",
            "6241\n",
            "6400\n",
            "6561\n",
            "6724\n",
            "6889\n",
            "7056\n",
            "7225\n",
            "7396\n",
            "7569\n",
            "7744\n",
            "7921\n",
            "8100\n",
            "8281\n",
            "8464\n",
            "8649\n",
            "8836\n",
            "9025\n",
            "9216\n",
            "9409\n",
            "9604\n",
            "9801\n",
            "10000\n",
            "10201\n",
            "10404\n",
            "10609\n",
            "10816\n",
            "11025\n",
            "11236\n",
            "11449\n",
            "11664\n",
            "11881\n",
            "12100\n",
            "12321\n",
            "12544\n",
            "12769\n",
            "12996\n",
            "13225\n",
            "13456\n",
            "13689\n",
            "13924\n",
            "14161\n",
            "14400\n",
            "14641\n",
            "14884\n",
            "15129\n",
            "15376\n",
            "15625\n",
            "15876\n",
            "16129\n",
            "16384\n",
            "16641\n",
            "16900\n",
            "17161\n",
            "17424\n",
            "17689\n",
            "17956\n",
            "18225\n",
            "18496\n",
            "18769\n",
            "19044\n",
            "19321\n",
            "19600\n",
            "19881\n",
            "20164\n",
            "20449\n",
            "20736\n",
            "21025\n",
            "21316\n",
            "21609\n",
            "21904\n",
            "22201\n",
            "22500\n"
          ]
        }
      ]
    },
    {
      "cell_type": "markdown",
      "metadata": {
        "id": "jUMKqAryLgGu"
      },
      "source": [
        "###### Solution"
      ]
    },
    {
      "cell_type": "markdown",
      "metadata": {
        "id": "_4lsqcVGhY6E"
      },
      "source": [
        "Note that instead of printing the square if `square <= 150`, we exit early if `square > 150`. This solution is cleaner, as otherwise we would need to include an `else` block.\n",
        "\n",
        "_If you don't quite understand the above explanation, implement the solution using `square <= 150` and you'll soon see it's more complex._"
      ]
    },
    {
      "cell_type": "code",
      "metadata": {
        "id": "sr0DRH27LgGu"
      },
      "source": [
        "number = 1\n",
        "\n",
        "while True:\n",
        "    square = number ** 2\n",
        "    if square > 150:\n",
        "        break\n",
        "\n",
        "    print(square)\n",
        "    number = number + 1"
      ],
      "execution_count": null,
      "outputs": []
    },
    {
      "cell_type": "markdown",
      "metadata": {
        "id": "F6LeqoTvUnJ8"
      },
      "source": [
        "### `for` Loops\n",
        "\n",
        "For loops are very useful when we want to repeat some logic for each element in a list, and can sometimes conveniently replace `while` loops. \\\n",
        "We often use the `range` function to generate a list of numbers, but it's important to remember that it's functionally equivalent to a list of numbers. Thus, these two code snippets are equivalent:\n",
        "\n",
        "```python\n",
        "for x in range(3):\n",
        "    print(x)\n",
        "```\n",
        "```python\n",
        "for x in [0, 1, 2]:\n",
        "    print(x)\n",
        "```\n",
        "\n",
        "These are both examples of _definite loops_, as we know how many times the loop will run ahead of time.\n",
        "\n",
        "### Perfect Squares\n",
        "For this task, copy and paste your __first__ perfect square solution into the below cell (the one without the break statement). Then, update it to use a `for` loop and the range function."
      ]
    },
    {
      "cell_type": "code",
      "metadata": {
        "id": "UbOv3qFMPTYR",
        "outputId": "ce964122-f909-4eeb-b1a4-fb7d0dd928cd",
        "colab": {
          "base_uri": "https://localhost:8080/"
        }
      },
      "source": [
        "# Paste and modify your first square solution here\n",
        "# NOTE: range function excludes the last item from the list \n",
        "# For this problem, you can modify the range [1,....,10]\n",
        "# Much simplier if you do this, range(1,11)\n",
        "\n",
        "for x in range(1,11):\n",
        "  print(x**2)"
      ],
      "execution_count": null,
      "outputs": [
        {
          "output_type": "stream",
          "name": "stdout",
          "text": [
            "1\n",
            "4\n",
            "9\n",
            "16\n",
            "25\n",
            "36\n",
            "49\n",
            "64\n",
            "81\n",
            "100\n"
          ]
        }
      ]
    },
    {
      "cell_type": "markdown",
      "metadata": {
        "id": "4ay3TC-8Pbax"
      },
      "source": [
        "###### Solution"
      ]
    },
    {
      "cell_type": "markdown",
      "metadata": {
        "id": "v0xv2dPkhX3j"
      },
      "source": [
        "Recall that the second argument to the `range` function (11 in this case) should be 1 greater than the final number wish to use, so it may be easier to interpret it as `range(1, 10 + 1)`."
      ]
    },
    {
      "cell_type": "code",
      "metadata": {
        "id": "htf1MeWHN2x0"
      },
      "source": [
        "for number in range(1, 11):\n",
        "    print(number ** 2)"
      ],
      "execution_count": null,
      "outputs": []
    },
    {
      "cell_type": "markdown",
      "metadata": {
        "id": "9kgNP5AwPJwA"
      },
      "source": [
        "### Sum Aggregation\n",
        "\n",
        "In this exercise, you are given a list of `lap_times` for an athlete in a swimming race. Write a program which will print their total race time, by summing the lap times in a `for` loop.\n",
        "\n",
        "_If you get stuck, you might refer to the \"Aggregation\" section of the workbook._"
      ]
    },
    {
      "cell_type": "code",
      "metadata": {
        "id": "BBOG07i_PTFO",
        "colab": {
          "base_uri": "https://localhost:8080/"
        },
        "outputId": "5100039c-614f-4103-91e8-4f6a91c94d93"
      },
      "source": [
        "# My Attempt\n",
        "lap_times = [24.3, 27.9, 28.4, 26.5]\n",
        "total = 0\n",
        "for x in lap_times:\n",
        "  total = total + x\n",
        "  print(total)\n",
        "\n",
        "# Write your race time solution here\n",
        "# Here I am missing\n",
        "print('Total race time: ' + str(total) + ' seconds')\n"
      ],
      "execution_count": 9,
      "outputs": [
        {
          "output_type": "stream",
          "name": "stdout",
          "text": [
            "24.3\n",
            "52.2\n",
            "80.6\n",
            "107.1\n"
          ]
        }
      ]
    },
    {
      "cell_type": "markdown",
      "metadata": {
        "id": "LX6-XTWNPblg"
      },
      "source": [
        "###### Solution"
      ]
    },
    {
      "cell_type": "code",
      "metadata": {
        "id": "G0Ff4Tp9abxF",
        "colab": {
          "base_uri": "https://localhost:8080/"
        },
        "outputId": "36460a9c-c5a8-4b1f-c8a0-b2620e03a77f"
      },
      "source": [
        "lap_times = [24.3, 27.9, 28.4, 26.5]\n",
        "\n",
        "total = 0\n",
        "for lap in lap_times:\n",
        "    total = total + lap\n",
        "\n",
        "print('Total race time: ' + str(total) + ' seconds')"
      ],
      "execution_count": 10,
      "outputs": [
        {
          "output_type": "stream",
          "name": "stdout",
          "text": [
            "Total race time: 107.1 seconds\n"
          ]
        }
      ]
    },
    {
      "cell_type": "markdown",
      "metadata": {
        "id": "_AUpSWP1QVTq"
      },
      "source": [
        "### Mean Aggregation\n",
        "Copy and paste your solution to the previous exercise in the cell below, and modify it to instead print the _average_ lap time.\n",
        "\n",
        "_Again, you may refer to the \"Aggregation\" section of the workbook._"
      ]
    },
    {
      "cell_type": "code",
      "metadata": {
        "id": "mDktQoRaaps5",
        "colab": {
          "base_uri": "https://localhost:8080/"
        },
        "outputId": "34ad31f3-7cad-449b-dc0a-6674d1bad007"
      },
      "source": [
        "lap_times = [24.3, 27.9, 28.4, 26.5]\n",
        "\n",
        "# Write your average lap time solution here\n",
        "total = 0\n",
        "count = 0\n",
        "for lap in lap_times:\n",
        "    total = total + lap\n",
        "    count = count + 1\n",
        "average = total/count\n",
        "print('Average lap time: ' + str(average) + ' seconds')"
      ],
      "execution_count": 11,
      "outputs": [
        {
          "output_type": "stream",
          "name": "stdout",
          "text": [
            "Average lap time: 26.775 seconds\n"
          ]
        }
      ]
    },
    {
      "cell_type": "markdown",
      "metadata": {
        "id": "5X6uTKL6IOSl"
      },
      "source": [
        "###### Solution"
      ]
    },
    {
      "cell_type": "code",
      "metadata": {
        "id": "B1hFcAo-QbZg"
      },
      "source": [
        "lap_times = [24.3, 27.9, 28.4, 26.5]\n",
        "\n",
        "sum = 0\n",
        "count = 0\n",
        "for lap in lap_times:\n",
        "    sum = sum + lap\n",
        "    count = count + 1\n",
        "average = sum / count\n",
        "\n",
        "print('Average lap time: ' + str(average) + ' seconds')"
      ],
      "execution_count": null,
      "outputs": []
    },
    {
      "cell_type": "markdown",
      "metadata": {
        "id": "Xy0aSyUjT7BK"
      },
      "source": [
        "### Nested `for` Loops\n",
        "\n",
        "Control structures can be nested arbitrarily - `if`, `while` and `for` can all be placed inside one another. In this exercise we'll use a `for` loop nested in another `for` loop, in order to print out the options available for an online store.\n",
        "\n",
        "The store only sells three products in three sizes - for a total of 9 options - but the number of options could get quite large quite quickly! Write a program which prints out each product and size combination to the screen, with an empty line between each product. \\\n",
        "Your output should look like this (truncated for brevity):\n",
        "```\n",
        "Shirt - small\n",
        "Shirt - medium\n",
        "Shirt - large\n",
        "\n",
        "Pants - small\n",
        "Pants - medium\n",
        "...\n",
        "Jacket - large\n",
        "```"
      ]
    },
    {
      "cell_type": "code",
      "metadata": {
        "id": "ei358IryXrz2",
        "colab": {
          "base_uri": "https://localhost:8080/"
        },
        "outputId": "e5fe5104-a70a-410b-9a7a-a597e7b43f29"
      },
      "source": [
        "products = ['Shirt', 'Pants', 'Jacket']\n",
        "sizes = ['small', 'medium', 'large']\n",
        "\n",
        "# Write your product listing solution here\n",
        "for x in products:\n",
        "  for y in sizes:\n",
        "    print(x + ' - ' + y)\n",
        "\n"
      ],
      "execution_count": 18,
      "outputs": [
        {
          "output_type": "stream",
          "name": "stdout",
          "text": [
            "Shirt - small\n",
            "Shirt - medium\n",
            "Shirt - large\n",
            "Pants - small\n",
            "Pants - medium\n",
            "Pants - large\n",
            "Jacket - small\n",
            "Jacket - medium\n",
            "Jacket - large\n"
          ]
        }
      ]
    },
    {
      "cell_type": "markdown",
      "metadata": {
        "id": "Q5ArPUUAT7Bc"
      },
      "source": [
        "###### Solution"
      ]
    },
    {
      "cell_type": "markdown",
      "metadata": {
        "id": "SoXdoKFYcQYG"
      },
      "source": [
        "Note how we add the empty line after each product using indentation? This means the `print()` on line 7 is executed at the end of each iteration of the `products` loop, after the `sizes` loop has completely finished."
      ]
    },
    {
      "cell_type": "code",
      "metadata": {
        "id": "2mTcOXW_cRyD"
      },
      "source": [
        "products = ['Shirt', 'Pants', 'Jacket']\n",
        "sizes = ['small', 'medium', 'large']\n",
        "\n",
        "for product in products:\n",
        "    for size in sizes:\n",
        "        print(product + ' - ' + size)\n",
        "    print()"
      ],
      "execution_count": null,
      "outputs": []
    },
    {
      "cell_type": "markdown",
      "metadata": {
        "id": "gSELhQnMO07X"
      },
      "source": [
        "### The `continue` Statement\n",
        "\n",
        "Our imaginary store was a wild success and has sold out of all shirts! So that no one tries to buy them, we won't display any shirts.\n",
        "\n",
        "The easy solution would be to remove it from the `products` list, but if we delete products as they sell out, we won't know which products are missing to re-order. Instead, we'll just skip displaying any shirts.\n",
        "\n",
        "Copy and paste your solution from above into the cell below, and modify it so that `product` loop \"continues\" if the product is a shirt.\n",
        "\n",
        "_Recall that the `continue` keyword immediately exits the current iteration of the loop and continues onto the next._"
      ]
    },
    {
      "cell_type": "code",
      "metadata": {
        "id": "3KsPgQk1PS0M",
        "colab": {
          "base_uri": "https://localhost:8080/"
        },
        "outputId": "51330262-e151-4fd3-c88a-1f9b2a7c8896"
      },
      "source": [
        "products = ['Shirt', 'Pants', 'Jacket']\n",
        "sizes = ['small', 'medium', 'large']\n",
        "\n",
        "for product in products:\n",
        "  if product == 'Shirt':\n",
        "      continue\n",
        "  for size in sizes:\n",
        "        print(product + ' - ' + size)\n",
        "  print()\n",
        "\n",
        "# Paste and modify your product listing solution here"
      ],
      "execution_count": 21,
      "outputs": [
        {
          "output_type": "stream",
          "name": "stdout",
          "text": [
            "Pants - small\n",
            "Pants - medium\n",
            "Pants - large\n",
            "\n",
            "Jacket - small\n",
            "Jacket - medium\n",
            "Jacket - large\n",
            "\n"
          ]
        }
      ]
    },
    {
      "cell_type": "markdown",
      "metadata": {
        "id": "TlAUQxvGPbwR"
      },
      "source": [
        "###### Solution"
      ]
    },
    {
      "cell_type": "markdown",
      "metadata": {
        "id": "zlREah5Le8mA"
      },
      "source": [
        "The location of the `continue` statement is important; it would have a different effect if it were placed after the `sizes` loop. Try moving it around and seeing the consequences."
      ]
    },
    {
      "cell_type": "code",
      "metadata": {
        "id": "OPWJrZMzevrs"
      },
      "source": [
        "products = ['Shirt', 'Pants', 'Jacket']\n",
        "sizes = ['small', 'medium', 'large']\n",
        "\n",
        "for product in products:\n",
        "    if product == 'Shirt':\n",
        "        continue\n",
        "    for size in sizes:\n",
        "        print(product + ' - ' + size)\n",
        "    print()"
      ],
      "execution_count": null,
      "outputs": []
    },
    {
      "cell_type": "markdown",
      "metadata": {
        "id": "__2VyuuyPOeH"
      },
      "source": [
        "### Interactive Loop\n",
        "\n",
        "We've seen definite loops and indefinite loops, so finally we'll try an _interactive loop_ - one that depends on the user's input.\n",
        "\n",
        "Similar to a previous exercise, you are tasked with computing the average lap times of an athlete in a swimming race. The difference is that during coding we don't know how many laps were in the race or the lap times themselves.\n",
        "\n",
        "Write a program which repeatedly asks the user for a lap time, until they enter a lap time of 0, which is an indication that they have finished entering laps. Then, calculate and print the average lap time for the race. _Make sure you don't include the `0` lap time in your calculation!_\n",
        "\n",
        "Example run:\n",
        "```\n",
        "Enter lap time: 10\n",
        "Enter lap time: 15\n",
        "Enter lap time: 0\n",
        "Average lap time: 12.5 seconds\n",
        "```\n",
        "\n",
        "Finish the implementation below - the code that is already there gives a couple of implementation hints."
      ]
    },
    {
      "cell_type": "code",
      "metadata": {
        "id": "aQyLdqIASd2H",
        "colab": {
          "base_uri": "https://localhost:8080/"
        },
        "outputId": "fe53a57f-2942-4758-bb1d-0c002544f759"
      },
      "source": [
        "sum = 0\n",
        "count = 0\n",
        "\n",
        "while True:\n",
        "    lap_time = int(input('Enter lap time: '))\n",
        "    if lap_time == 0:\n",
        "        break\n",
        "    sum = sum + lap_time\n",
        "    count = count + 1\n",
        "\n",
        "average = sum / count\n",
        "print('Average lap time: ' + str(average) + ' seconds')\n",
        "\n",
        "\n",
        "    # Write your interactive average lap time solution here"
      ],
      "execution_count": 22,
      "outputs": [
        {
          "output_type": "stream",
          "name": "stdout",
          "text": [
            "Enter lap time: 10\n",
            "Enter lap time: 15\n",
            "Enter lap time: 0\n",
            "Average lap time: 12.5 seconds\n"
          ]
        }
      ]
    },
    {
      "cell_type": "markdown",
      "metadata": {
        "id": "H-Eu03imSd2X"
      },
      "source": [
        "###### Solution"
      ]
    },
    {
      "cell_type": "code",
      "metadata": {
        "id": "10ha1XLega0H"
      },
      "source": [
        "sum = 0\n",
        "count = 0\n",
        "\n",
        "while True:\n",
        "    lap_time = int(input('Enter lap time: '))\n",
        "    if lap_time == 0:\n",
        "        break\n",
        "    sum = sum + lap_time\n",
        "    count = count + 1\n",
        "\n",
        "average = sum / count\n",
        "print('Average lap time: ' + str(average) + ' seconds')"
      ],
      "execution_count": null,
      "outputs": []
    },
    {
      "cell_type": "markdown",
      "metadata": {
        "id": "YA8SWZPqNl_a"
      },
      "source": [
        "## Bonus Tasks\n",
        "This section is optional as usual, but highly recommended!"
      ]
    },
    {
      "cell_type": "markdown",
      "metadata": {
        "id": "icAyKJ-LI9jf"
      },
      "source": [
        "### Computing Factors\n",
        "\n",
        "The factors (also known as divisors) of a number are the whole numbers which can be multiplied together to produce that number. \\\n",
        "For example, the factors of 6 are 1, 2, 3, 6 because:\n",
        "```\n",
        "1 x 6 = 6\n",
        "2 x 3 = 6\n",
        "```\n",
        "\n",
        "A simple (but inefficient) method for calculating the factors of a number `n` is to look at all numbers between 1 and `n` and check if `n` is evenly divisible by that number. \\\n",
        "For our example of `n = 6` above:\n",
        "```\n",
        "6 / 1 = 6    => factor\n",
        "6 / 2 = 3    => factor\n",
        "6 / 3 = 2    => factor\n",
        "6 / 4 = 1.5  => not factor\n",
        "6 / 5 = 1.2  => not factor\n",
        "6 / 6 = 1    => factor\n",
        "```\n",
        "\n",
        "In this bonus task, you are to write a tool which takes the number `n` from the user, then prints each of its factors on a separate line. \\\n",
        "Example output:\n",
        "```\n",
        "Enter a number: 15\n",
        "1\n",
        "3\n",
        "5\n",
        "15\n",
        "```\n",
        "\n",
        "_Hint: To see if a number is evenly divisible by another, refer to the examples of the `modulo` operator in the \"Statements and Expressions\" workbook._"
      ]
    },
    {
      "cell_type": "code",
      "metadata": {
        "id": "r037-TO_xeDg",
        "colab": {
          "base_uri": "https://localhost:8080/"
        },
        "outputId": "dde0e2ad-5382-4625-9183-14087d6287e0"
      },
      "source": [
        "number = int(input('Enter a number: '))\n",
        "\n",
        "# Write your factor solution here\n"
      ],
      "execution_count": 1,
      "outputs": [
        {
          "name": "stdout",
          "output_type": "stream",
          "text": [
            "Enter a number: 1\n"
          ]
        }
      ]
    },
    {
      "cell_type": "code",
      "source": [],
      "metadata": {
        "id": "q_M9GXWHN5yi"
      },
      "execution_count": 37,
      "outputs": []
    }
  ]
}