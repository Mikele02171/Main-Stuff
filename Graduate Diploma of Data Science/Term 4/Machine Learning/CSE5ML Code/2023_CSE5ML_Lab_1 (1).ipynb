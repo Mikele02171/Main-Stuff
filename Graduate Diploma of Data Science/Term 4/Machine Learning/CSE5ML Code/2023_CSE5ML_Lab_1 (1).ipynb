{
 "cells": [
  {
   "cell_type": "markdown",
   "metadata": {},
   "source": [
    "# CSE5ML Lab 1: Introduction to Python"
   ]
  },
  {
   "cell_type": "markdown",
   "metadata": {},
   "source": [
    "## Basic data types \n",
    "Like most languages, Python has many basic types including Integers, Floats, Booleans, and Strings. These data types behave in ways that are like other programming languages (C/C++, Java, MATLAB)."
   ]
  },
  {
   "cell_type": "markdown",
   "metadata": {},
   "source": [
    "**Numbers**: Integers and floats work as you would expect from other languages \n",
    "Note that unlike many languages, Python does **not** have unary increment (`x++`) or decrement (`x--`) operators. “#” starts the comments inline."
   ]
  },
  {
   "cell_type": "code",
   "execution_count": 1,
   "metadata": {},
   "outputs": [
    {
     "name": "stdout",
     "output_type": "stream",
     "text": [
      "<class 'int'>\n",
      "3\n",
      "4\n",
      "2\n",
      "6\n",
      "9\n",
      "5\n",
      "10\n",
      "<class 'float'>\n",
      "2.5 3.5 5.0 6.25\n"
     ]
    }
   ],
   "source": [
    "x = 3\n",
    "print(type(x)) # Prints \"<class 'int'>\"\n",
    "print(x)       # Prints \"3\"\n",
    "print(x + 1)   # Addition; prints \"4\"\n",
    "print(x - 1)   # Subtraction; prints \"2\"\n",
    "print(x * 2)   # Multiplication; prints \"6\"\n",
    "print(x ** 2)  # Exponentiation; prints \"9\"\n",
    "x += 1\n",
    "x = x + 1\n",
    "print(x)  # Prints \"4\"\n",
    "x *= 2\n",
    "print(x)  # Prints \"8\"\n",
    "y = 2.5\n",
    "print(type(y)) # Prints \"<class 'float'>\"\n",
    "print(y, y + 1, y * 2, y ** 2) # Prints \"2.5 3.5 5.0 6.25\""
   ]
  },
  {
   "cell_type": "markdown",
   "metadata": {},
   "source": [
    "Python also has built-in types for complex numbers; you can find all the details in the [documentation](https://docs.python.org/3.6/library/stdtypes.html#numeric-types-int-float-complex)."
   ]
  },
  {
   "cell_type": "markdown",
   "metadata": {},
   "source": [
    "**Booleans**: Python implements all the usual operators for Boolean logic, but uses English words rather than symbols (&&, ||, etc.):"
   ]
  },
  {
   "cell_type": "code",
   "execution_count": 2,
   "metadata": {},
   "outputs": [
    {
     "name": "stdout",
     "output_type": "stream",
     "text": [
      "<class 'bool'>\n",
      "False\n",
      "True\n",
      "False\n",
      "True\n"
     ]
    },
    {
     "data": {
      "text/plain": [
       "False"
      ]
     },
     "execution_count": 2,
     "metadata": {},
     "output_type": "execute_result"
    }
   ],
   "source": [
    "t = True\n",
    "f = False\n",
    "print(type(t)) # Prints \"<class 'bool'>\"\n",
    "print(t and f) # Logical AND; prints \"False\"\n",
    "print(t or f)  # Logical OR; prints \"True\"\n",
    "print(not t)   # Logical NOT; prints \"False\"\n",
    "print(t != f)  # Logical XOR; prints \"True\"\n",
    "t != f\n",
    "t == f"
   ]
  },
  {
   "cell_type": "markdown",
   "metadata": {},
   "source": [
    "**Strings**: Python has great support for strings:"
   ]
  },
  {
   "cell_type": "code",
   "execution_count": 3,
   "metadata": {},
   "outputs": [
    {
     "name": "stdout",
     "output_type": "stream",
     "text": [
      "hello\n",
      "5\n",
      "hello world\n",
      "hello,world,12\n"
     ]
    }
   ],
   "source": [
    "hello = 'hello'    # String literals can use single quotes\n",
    "world = \"world\"    # or double quotes; it does not matter.\n",
    "print(hello)       # Prints \"hello\"\n",
    "print(len(hello))  # String length; prints \"5\"\n",
    "hw = hello + ' ' + world  # String concatenation\n",
    "print(hw)  # prints \"hello world\"\n",
    "hw12 = '%s,%s,%d' % (hello, world, 12)  # sprintf style string formatting\n",
    "print(hw12)  # prints \"hello world 12\""
   ]
  },
  {
   "cell_type": "markdown",
   "metadata": {},
   "source": [
    "You can find a list of all string methods in the [documentation](https://docs.python.org/3.6/library/stdtypes.html#string-methods)."
   ]
  },
  {
   "cell_type": "markdown",
   "metadata": {},
   "source": [
    "## Containers\n",
    "Python includes several built-in container types: lists, dictionaries, sets, and tuples."
   ]
  },
  {
   "cell_type": "markdown",
   "metadata": {},
   "source": [
    "### Lists\n",
    "A list is the Python equivalent of an array, but is resizable and can contain elements of different types:\n",
    "Note: python starts index from “0”, for example, xs = [3,1,2], this first element of xs is xs[0] that is number 3.\n"
   ]
  },
  {
   "cell_type": "code",
   "execution_count": 4,
   "metadata": {},
   "outputs": [
    {
     "name": "stdout",
     "output_type": "stream",
     "text": [
      "[3, 1, 2] 2\n",
      "2\n",
      "[3, 1, 'foo']\n",
      "[3, 1, 'foo', 'bar']\n",
      "bar [3, 1, 'foo']\n"
     ]
    }
   ],
   "source": [
    "xs = [3, 1, 2]    # Create a list\n",
    "xs[1]\n",
    "print(xs, xs[2])  # Prints \"[3, 1, 2] 2\"\n",
    "print(xs[-1])     # Negative indices count from the end of the list; prints \"2\"\n",
    "xs[2] = 'foo'     # Lists can contain elements of different types\n",
    "print(xs)         # Prints \"[3, 1, 'foo']\"\n",
    "xs.append('bar')  # Add a new element to the end of the list\n",
    "print(xs)         # Prints \"[3, 1, 'foo', 'bar']\"\n",
    "x = xs.pop()      # Remove and return the last element of the list\n",
    "print(x, xs)      # Prints \"bar [3, 1, 'foo']\""
   ]
  },
  {
   "cell_type": "markdown",
   "metadata": {},
   "source": [
    "As usual, you can find all the gory details about lists in the [documentation](https://docs.python.org/3.6/tutorial/datastructures.html#more-on-lists)."
   ]
  },
  {
   "cell_type": "markdown",
   "metadata": {},
   "source": [
    "**Slicing**: In addition to accessing list elements one at a time, Python provides concise syntax to access sub-lists; this is known as slicing:"
   ]
  },
  {
   "cell_type": "code",
   "execution_count": 5,
   "metadata": {},
   "outputs": [
    {
     "name": "stdout",
     "output_type": "stream",
     "text": [
      "[0, 1, 2, 3, 4]\n",
      "[2, 3]\n",
      "[2, 3, 4]\n",
      "[0, 1]\n",
      "[0, 1, 2, 3, 4]\n",
      "[0, 1, 2]\n",
      "[0, 1, 8, 9, 4]\n"
     ]
    }
   ],
   "source": [
    "nums = list(range(5))     # range is a built-in function that creates a list of integers\n",
    "print(nums)               # Prints \"[0, 1, 2, 3, 4]\"\n",
    "print(nums[2:4])          # Get a slice from index 2 to 4 (exclusive); prints \"[2, 3]\"\n",
    "print(nums[2:])           # Get a slice from index 2 to the end; prints \"[2, 3, 4]\"\n",
    "print(nums[:2])           # Get a slice from the start to index 2 (exclusive); prints \"[0, 1]\"\n",
    "print(nums[:])            # Get a slice of the whole list; prints \"[0, 1, 2, 3, 4]\"\n",
    "print(nums[:-2])          # Slice indices can be negative; prints \"[0, 1, 2, 3]\"\n",
    "nums[2:4] = [8, 9]        # Assign a new sublist to a slice\n",
    "print(nums)               # Prints \"[0, 1, 8, 9, 4]\""
   ]
  },
  {
   "cell_type": "code",
   "execution_count": 6,
   "metadata": {},
   "outputs": [],
   "source": [
    "nums = list(range(9)) "
   ]
  },
  {
   "cell_type": "markdown",
   "metadata": {},
   "source": [
    "**Length and sum the value of the list nums**: you can use len() to get the length of the list and if the list only have numbers, you can use sum() to sum up the values in the list."
   ]
  },
  {
   "cell_type": "code",
   "execution_count": 7,
   "metadata": {},
   "outputs": [
    {
     "name": "stdout",
     "output_type": "stream",
     "text": [
      "9\n",
      "36\n"
     ]
    }
   ],
   "source": [
    "print(len(nums))\n",
    "print(sum(nums))"
   ]
  },
  {
   "cell_type": "markdown",
   "metadata": {},
   "source": [
    "We will see slicing again in the context of numpy arrays from **Numpy** Packages later. "
   ]
  },
  {
   "cell_type": "markdown",
   "metadata": {},
   "source": [
    "**Loops**: You can loop over the elements of a list like this:"
   ]
  },
  {
   "cell_type": "code",
   "execution_count": 8,
   "metadata": {},
   "outputs": [
    {
     "name": "stdout",
     "output_type": "stream",
     "text": [
      "cat\n",
      "dog\n",
      "monkey\n"
     ]
    }
   ],
   "source": [
    "animals = ['cat', 'dog', 'monkey']\n",
    "for animal in animals:\n",
    "    print(animal)\n",
    "# Prints \"cat\", \"dog\", \"monkey\", each on its own line."
   ]
  },
  {
   "cell_type": "markdown",
   "metadata": {},
   "source": [
    "If you want access to the index of each element within the body of a loop, use the built-in **enumerate** function:"
   ]
  },
  {
   "cell_type": "code",
   "execution_count": 9,
   "metadata": {},
   "outputs": [
    {
     "name": "stdout",
     "output_type": "stream",
     "text": [
      "#1: cat\n",
      "#2: dog\n",
      "#3: monkey\n"
     ]
    }
   ],
   "source": [
    "animals = ['cat', 'dog', 'monkey']\n",
    "for idx, animal in enumerate(animals):\n",
    "    print('#%d: %s' % (idx + 1, animal))\n",
    "# Prints \"#1: cat\", \"#2: dog\", \"#3: monkey\", each on its own line"
   ]
  },
  {
   "cell_type": "markdown",
   "metadata": {},
   "source": [
    "**List comprehensions**: When programming, frequently we want to transform one type of data into another. As a simple example, consider the following code that computes square numbers:"
   ]
  },
  {
   "cell_type": "code",
   "execution_count": 10,
   "metadata": {},
   "outputs": [
    {
     "name": "stdout",
     "output_type": "stream",
     "text": [
      "[0]\n",
      "[0, 1]\n",
      "[0, 1, 4]\n",
      "[0, 1, 4, 9]\n",
      "[0, 1, 4, 9, 16]\n"
     ]
    }
   ],
   "source": [
    "nums = [0, 1, 2, 3, 4]\n",
    "squares = []\n",
    "for x in nums:\n",
    "    squares.append(x ** 2)\n",
    "    print(squares)\n",
    "# print(squares)   # Prints [0, 1, 4, 9, 16]\n"
   ]
  },
  {
   "cell_type": "markdown",
   "metadata": {},
   "source": [
    "You can make this code simpler using a **list comprehension**:"
   ]
  },
  {
   "cell_type": "code",
   "execution_count": 11,
   "metadata": {},
   "outputs": [
    {
     "name": "stdout",
     "output_type": "stream",
     "text": [
      "[0, 1, 4, 9, 16]\n"
     ]
    }
   ],
   "source": [
    "nums = [0, 1, 2, 3, 4]\n",
    "squares = [x ** 2 for x in nums]\n",
    "print(squares)   # Prints [0, 1, 4, 9, 16]"
   ]
  },
  {
   "cell_type": "markdown",
   "metadata": {},
   "source": [
    "List comprehensions can also contain conditions:"
   ]
  },
  {
   "cell_type": "code",
   "execution_count": 12,
   "metadata": {},
   "outputs": [
    {
     "name": "stdout",
     "output_type": "stream",
     "text": [
      "[0, 4, 16]\n"
     ]
    }
   ],
   "source": [
    "nums = [0, 1, 2, 3, 4]\n",
    "even_squares = [x ** 2 for x in nums if x % 2 == 0]\n",
    "print(even_squares)  # Prints \"[0, 4, 16]\""
   ]
  },
  {
   "cell_type": "markdown",
   "metadata": {},
   "source": [
    "### Dictionaries\n",
    "A dictionary stores (key, value) pairs, like a **Map** in **Java** or an **object** in **Javascript**. You can use it like this:"
   ]
  },
  {
   "cell_type": "code",
   "execution_count": 13,
   "metadata": {},
   "outputs": [
    {
     "name": "stdout",
     "output_type": "stream",
     "text": [
      "cute\n",
      "True\n",
      "False\n",
      "wet\n",
      "N/A\n",
      "wet\n",
      "N/A\n"
     ]
    }
   ],
   "source": [
    "d = {'cat': 'cute', 'dog': 'furry'}  # Create a new dictionary with some data\n",
    "print(d['cat'])       # Get an entry from a dictionary; prints \"cute\"\n",
    "print('cat' in d)     # Check if a dictionary has a given key; prints \"True\"\n",
    "print('cute' in d)     # Check if a dictionary has a given key; prints \"True\"\n",
    "d['fish'] = 'wet'     # Set an entry in a dictionary\n",
    "print(d['fish'])      # Prints \"wet\"\n",
    "# print(d['monkey'])  # KeyError: 'monkey' not a key of d\n",
    "print(d.get('monkey', 'N/A'))  # Get an element with a default; prints \"N/A\"\n",
    "print(d.get('fish', 'N/A'))    # Get an element with a default; prints \"wet\"\n",
    "del d['fish']         # Remove an element from a dictionary\n",
    "print(d.get('fish', 'N/A')) # \"fish\" is no longer a key; prints \"N/A\""
   ]
  },
  {
   "cell_type": "markdown",
   "metadata": {},
   "source": [
    "You can find all you need to know about dictionaries in the [documentation](https://docs.python.org/3.6/library/stdtypes.html#dict)."
   ]
  },
  {
   "cell_type": "markdown",
   "metadata": {},
   "source": [
    "**Loops**: It is easy to iterate over the keys in a dictionary:"
   ]
  },
  {
   "cell_type": "code",
   "execution_count": 14,
   "metadata": {},
   "outputs": [
    {
     "name": "stdout",
     "output_type": "stream",
     "text": [
      "A person has 2 legs\n",
      "A cat has 4 legs\n",
      "A spider has 8 legs\n"
     ]
    }
   ],
   "source": [
    "d = {'person': 2, 'cat': 4, 'spider': 8}\n",
    "for animal in d:\n",
    "    legs = d[animal]\n",
    "    print('A %s has %d legs' % (animal, legs))\n",
    "# Prints \"A person has 2 legs\", \"A cat has 4 legs\", \"A spider has 8 legs\""
   ]
  },
  {
   "cell_type": "markdown",
   "metadata": {},
   "source": [
    "If you want access to keys and their corresponding values, use the items method:"
   ]
  },
  {
   "cell_type": "code",
   "execution_count": 15,
   "metadata": {},
   "outputs": [
    {
     "name": "stdout",
     "output_type": "stream",
     "text": [
      "A person has 2 legs\n",
      "A cat has 4 legs\n",
      "A spider has 8 legs\n"
     ]
    }
   ],
   "source": [
    "d = {'person': 2, 'cat': 4, 'spider': 8}\n",
    "for animal, legs in d.items():\n",
    "    print('A %s has %d legs' % (animal, legs))\n",
    "# Prints \"A person has 2 legs\", \"A cat has 4 legs\", \"A spider has 8 legs\""
   ]
  },
  {
   "cell_type": "markdown",
   "metadata": {},
   "source": [
    "**Dictionary comprehensions**: These are similar to list comprehensions, but allow you to easily construct dictionaries. For example:"
   ]
  },
  {
   "cell_type": "code",
   "execution_count": 16,
   "metadata": {},
   "outputs": [
    {
     "name": "stdout",
     "output_type": "stream",
     "text": [
      "{0: 0, 2: 4, 4: 16}\n"
     ]
    }
   ],
   "source": [
    "nums = [0, 1, 2, 3, 4]\n",
    "even_num_to_square = {x: x ** 2 for x in nums if x % 2 == 0}\n",
    "print(even_num_to_square)  # Prints \"{0: 0, 2: 4, 4: 16}\""
   ]
  },
  {
   "cell_type": "markdown",
   "metadata": {},
   "source": [
    "### Sets\n",
    "A set is an unordered collection of distinct elements. As a simple example, consider the following:"
   ]
  },
  {
   "cell_type": "code",
   "execution_count": 17,
   "metadata": {},
   "outputs": [
    {
     "name": "stdout",
     "output_type": "stream",
     "text": [
      "True\n",
      "False\n",
      "True\n",
      "3\n",
      "3\n",
      "2\n"
     ]
    }
   ],
   "source": [
    "animals = {'cat', 'dog'}\n",
    "print('cat' in animals)   # Check if an element is in a set; prints \"True\"\n",
    "print('fish' in animals)  # prints \"False\"\n",
    "animals.add('fish')       # Add an element to a set\n",
    "print('fish' in animals)  # Prints \"True\"\n",
    "print(len(animals))       # Number of elements in a set; prints \"3\"\n",
    "animals.add('cat')        # Adding an element that is already in the set does nothing\n",
    "print(len(animals))       # Prints \"3\"\n",
    "animals.remove('cat')     # Remove an element from a set\n",
    "print(len(animals))       # Prints \"2\""
   ]
  },
  {
   "cell_type": "markdown",
   "metadata": {},
   "source": [
    "As usual, everything you want to know about sets can be found in the [documentation](https://docs.python.org/3.6/library/stdtypes.html#set)."
   ]
  },
  {
   "cell_type": "markdown",
   "metadata": {},
   "source": [
    "**Loops**: Iterating over a set has the same syntax as iterating over a list; however, since sets are unordered, you cannot make assumptions about the order in which you visit the elements of the set:"
   ]
  },
  {
   "cell_type": "code",
   "execution_count": 18,
   "metadata": {},
   "outputs": [
    {
     "name": "stdout",
     "output_type": "stream",
     "text": [
      "#1: cat\n",
      "#2: fish\n",
      "#3: dog\n"
     ]
    }
   ],
   "source": [
    "animals = {'cat', 'dog', 'fish'}\n",
    "for idx, animal in enumerate(animals):\n",
    "    print('#%d: %s' % (idx + 1, animal))\n",
    "# Prints \"#1: fish\", \"#2: dog\", \"#3: cat\""
   ]
  },
  {
   "cell_type": "markdown",
   "metadata": {},
   "source": [
    "**Set comprehensions**: Like lists and dictionaries, we can easily construct sets using set comprehensions:"
   ]
  },
  {
   "cell_type": "code",
   "execution_count": 19,
   "metadata": {},
   "outputs": [
    {
     "name": "stdout",
     "output_type": "stream",
     "text": [
      "{0, 1, 2, 3, 4, 5}\n"
     ]
    }
   ],
   "source": [
    "from math import sqrt\n",
    "nums = {int(sqrt(x)) for x in range(30)}\n",
    "print(nums)  # Prints \"{0, 1, 2, 3, 4, 5}\""
   ]
  },
  {
   "cell_type": "markdown",
   "metadata": {},
   "source": [
    "### Tuples\n",
    "A tuple is an (immutable) ordered list of values. A tuple is in many ways similar to a list; one of the most important differences is that tuples can be used as keys in dictionaries and as elements of sets, while lists cannot. Here is a trivial example:\n"
   ]
  },
  {
   "cell_type": "code",
   "execution_count": 20,
   "metadata": {},
   "outputs": [
    {
     "name": "stdout",
     "output_type": "stream",
     "text": [
      "<class 'tuple'>\n",
      "5\n",
      "1\n",
      "{(0, 1): 0, (1, 2): 1, (2, 3): 2, (3, 4): 3, (4, 5): 4, (5, 6): 5, (6, 7): 6, (7, 8): 7, (8, 9): 8, (9, 10): 9}\n"
     ]
    }
   ],
   "source": [
    "d = {(x, x + 1): x for x in range(10)}  # Create a dictionary with tuple keys\n",
    "t = (5, 6)        # Create a tuple\n",
    "print(type(t))    # Prints \"<class 'tuple'>\"\n",
    "print(d[t])       # Prints \"5\"\n",
    "print(d[(1, 2)])  # Prints \"1\"\n",
    "print(d)"
   ]
  },
  {
   "cell_type": "markdown",
   "metadata": {},
   "source": [
    "The [documentation](https://docs.python.org/3.6/tutorial/datastructures.html#tuples-and-sequences) has more information about tuples."
   ]
  },
  {
   "cell_type": "markdown",
   "metadata": {},
   "source": [
    "## Functions\n",
    "Python functions are defined using the def keyword. For example:\n"
   ]
  },
  {
   "cell_type": "code",
   "execution_count": 21,
   "metadata": {},
   "outputs": [
    {
     "name": "stdout",
     "output_type": "stream",
     "text": [
      "negative\n",
      "zero\n",
      "positive\n"
     ]
    }
   ],
   "source": [
    "def sign(x):\n",
    "    if x > 0:\n",
    "        return 'positive'\n",
    "    elif x < 0:\n",
    "        return 'negative'\n",
    "    else:\n",
    "        return 'zero'\n",
    "\n",
    "for x in [-1, 0, 1]:\n",
    "    print(sign(x))\n",
    "# Prints \"negative\", \"zero\", \"positive\""
   ]
  },
  {
   "cell_type": "markdown",
   "metadata": {},
   "source": [
    "We will often define functions to take optional keyword arguments, like this:"
   ]
  },
  {
   "cell_type": "code",
   "execution_count": 22,
   "metadata": {},
   "outputs": [
    {
     "name": "stdout",
     "output_type": "stream",
     "text": [
      "Hello, Bob\n",
      "HELLO, FRED!\n"
     ]
    }
   ],
   "source": [
    "def hello(name, loud=False):\n",
    "    if loud:\n",
    "        print('HELLO, %s!' % name.upper())\n",
    "    else:\n",
    "        print('Hello, %s' % name)\n",
    "\n",
    "hello('Bob') # Prints \"Hello, Bob\"\n",
    "hello('Fred', loud=True)  # Prints \"HELLO, FRED!\""
   ]
  },
  {
   "cell_type": "markdown",
   "metadata": {},
   "source": [
    "There is a lot more information about Python functions in the [documentation](https://docs.python.org/3.6/tutorial/controlflow.html#defining-functions)."
   ]
  },
  {
   "cell_type": "markdown",
   "metadata": {},
   "source": [
    "## Data Visualization"
   ]
  },
  {
   "cell_type": "markdown",
   "metadata": {},
   "source": [
    "## Introduction of Matplotlib\n",
    "\n",
    "Matplotlib is a Python 2D plotting library which produces publication quality figures in a variety of hardcopy formats and interactive environments across platforms. Matplotlib can be used in Python scripts, the Python and IPython shell, the jupyter notebook, web application servers, and four graphical user interface toolkits.\n",
    "\n",
    "In general, [Matplotlib](https://matplotlib.org/) is a plotting library. This section give a brief introduction to the **matplotlib.pyplot module**, which provides a plotting system similar to that of MATLAB. We only covers some basic usage patterns and best-practices to help you get started with Matplotlib to learn more details you need to learn from the origianl [documentation](https://matplotlib.org/tutorials/index.html) and the [Gallery](https://matplotlib.org/gallery/index.html).\n",
    "\n",
    "In order to use the matplotlib package, you will need to install the matplotlib package, and you can follow the steps we have provided in the Lab 1 tutorial guide to install the package (Basically, first, you need to navigate to the conda environment that you currently use. Second, click and select the environment and from the top tab, select \"Not installed\". Third, search \"matplotlib\" in the search tab, and you will find the package \"matplotlib\" in the result. Fourth, click the square beside \"matplotlib\". At last, click apply button at the bottom of Anaconda to install the package)."
   ]
  },
  {
   "cell_type": "markdown",
   "metadata": {},
   "source": [
    "## Basic Plotting\n",
    "`matplotlib.pyplot` is a collection of command style functions that make matplotlib work like MATLAB. Each pyplot function makes some change to a figure: e.g., creates a figure, creates a plotting area in a figure, plots some lines in a plotting area, decorates the plot with labels, etc.\n",
    "\n",
    "In `matplotlib.pyplot` various states are preserved across function calls, so that it keeps track of things like the current figure and plotting area, and the plotting functions are directed to the current axes (please note that “axes” here and in most places in the documentation refers to the **axes** part of a figure and not the strict mathematical term for more than one axis).\n",
    "\n",
    "**Note**: the pyplot API is generally less-flexible than the object-oriented API. Most of the function calls you see here can also be called as methods from an Axes object. We recommend browsing the tutorials and examples to see how this works."
   ]
  },
  {
   "cell_type": "markdown",
   "metadata": {},
   "source": [
    "The most important function in `matplotlib` is plot, which allows you to plot 2D data. Here is a simple example:"
   ]
  },
  {
   "cell_type": "code",
   "execution_count": 23,
   "metadata": {},
   "outputs": [
    {
     "data": {
      "image/png": "[encoded data removed]",
      "text/plain": [
       "<Figure size 432x288 with 1 Axes>"
      ]
     },
     "metadata": {
      "needs_background": "light"
     },
     "output_type": "display_data"
    }
   ],
   "source": [
    "import matplotlib.pyplot as plt\n",
    "# By running this special iPython command, we will be displaying plots inline:\n",
    "%matplotlib inline \n",
    "\n",
    "plt.plot([1, 2, 3, 4])\n",
    "plt.ylabel('some numbers')\n",
    "plt.show()"
   ]
  },
  {
   "cell_type": "markdown",
   "metadata": {},
   "source": [
    "You may be wondering why the x-axis ranges from 0-3 and the y-axis from 1-4. If you provide a single list or array to the plot() command, matplotlib assumes it is a sequence of y values, and automatically generates the x values for you. Since python ranges start with 0, the default x vector has the same length as y but starts with 0. Hence the x data are [0,1,2,3].\n",
    "\n",
    "`plot()` is a versatile command, and will take an arbitrary number of arguments. For example, to plot x versus y, you can issue the command:"
   ]
  },
  {
   "cell_type": "code",
   "execution_count": 24,
   "metadata": {},
   "outputs": [
    {
     "data": {
      "image/png": "[encoded data removed]",
      "text/plain": [
       "<Figure size 432x288 with 1 Axes>"
      ]
     },
     "metadata": {
      "needs_background": "light"
     },
     "output_type": "display_data"
    }
   ],
   "source": [
    "import matplotlib.pyplot as plt\n",
    "x = [1, 2, 3, 4]\n",
    "y = [1, 4, 9, 16]\n",
    "plt.plot(x,y)\n",
    "plt.xlabel('x')\n",
    "plt.ylabel('y')\n",
    "plt.show()"
   ]
  },
  {
   "cell_type": "markdown",
   "metadata": {},
   "source": [
    "There is an optional third argument which is the format string that indicates the color and line type of the plot. The letters and symbols of the format string are from MATLAB, and you concatenate a color string with a line style string. The default format string is `'b-'`, which is a solid blue line. For example, to plot the above with red circles, you would issue"
   ]
  },
  {
   "cell_type": "code",
   "execution_count": 25,
   "metadata": {},
   "outputs": [
    {
     "data": {
      "image/png": "[encoded data removed]",
      "text/plain": [
       "<Figure size 432x288 with 1 Axes>"
      ]
     },
     "metadata": {
      "needs_background": "light"
     },
     "output_type": "display_data"
    }
   ],
   "source": [
    "import matplotlib.pyplot as plt\n",
    "x = [1, 2, 3, 4]\n",
    "y = [1, 4, 9, 16]\n",
    "plt.plot(x,y, 'ro-')\n",
    "plt.xlabel('x')\n",
    "plt.ylabel('y')\n",
    "plt.axis([0, 6, 0, 20])\n",
    "plt.show()"
   ]
  },
  {
   "cell_type": "markdown",
   "metadata": {},
   "source": [
    "See the plot() documentation for a complete list of line styles and format strings. The `axis()` command in the example above takes a list of `[xmin, xmax, ymin, ymax]` and specifies the viewport of the axes."
   ]
  },
  {
   "cell_type": "markdown",
   "metadata": {},
   "source": [
    "If matplotlib were limited to working with lists, it would be fairly useless for numeric processing. Generally, you will use numpy arrays. In fact, all sequences are converted to numpy arrays internally. The example below illustrates a plotting sine fucntion using arrays."
   ]
  },
  {
   "cell_type": "code",
   "execution_count": 26,
   "metadata": {},
   "outputs": [
    {
     "data": {
      "image/png": "[encoded data removed]",
      "text/plain": [
       "<Figure size 432x288 with 1 Axes>"
      ]
     },
     "metadata": {
      "needs_background": "light"
     },
     "output_type": "display_data"
    }
   ],
   "source": [
    "import numpy as np\n",
    "import matplotlib.pyplot as plt\n",
    "# Compute the x and y coordinates for points on a sine curve\n",
    "x = np.arange(0, 3 * np.pi, 0.1)\n",
    "y = np.sin(x)\n",
    "\n",
    "# Plot the points using matplotlib\n",
    "plt.figure()\n",
    "plt.plot(x, y)\n",
    "plt.show() "
   ]
  },
  {
   "cell_type": "code",
   "execution_count": 27,
   "metadata": {},
   "outputs": [
    {
     "data": {
      "image/png": "[encoded data removed]",
      "text/plain": [
       "<Figure size 432x288 with 1 Axes>"
      ]
     },
     "metadata": {
      "needs_background": "light"
     },
     "output_type": "display_data"
    }
   ],
   "source": [
    "import numpy as np\n",
    "import matplotlib.pyplot as plt\n",
    "# Compute the x and y coordinates for points on a sine curve\n",
    "x = np.arange(0, 3 * np.pi, 0.1)\n",
    "y_sin = np.sin(x)\n",
    "y_cos = np.cos(x)\n",
    "# Plot the points using matplotlib\n",
    "plt.plot(x, y_sin)\n",
    "plt.plot(x, y_cos)\n",
    "plt.xlabel('x axis label')\n",
    "plt.ylabel('y axis label')\n",
    "plt.title('Sine and Cosine')\n",
    "plt.legend(['Sine', 'Cosine'])\n",
    "plt.show()"
   ]
  },
  {
   "cell_type": "markdown",
   "metadata": {},
   "source": [
    "# Numpy"
   ]
  },
  {
   "cell_type": "markdown",
   "metadata": {},
   "source": [
    "## Introduction to Numpy\n",
    "Numpy, a widely-used library which provides a high-performance multidimensional array object, and tools for working with these arrays. In detail, we will cover the usage of Arrays, Array indexing, Datatypes, Array math, Broadcasting, etc.\n",
    "To use Numpy, we first need to install the numpy library (check page 18 in 2023_CSE5ML_Lab_1_Environment-Setup.pdf to see how to install numpy library)  and import the numpy package:"
   ]
  },
  {
   "cell_type": "code",
   "execution_count": 28,
   "metadata": {},
   "outputs": [],
   "source": [
    "import numpy as np"
   ]
  },
  {
   "cell_type": "markdown",
   "metadata": {},
   "source": [
    "### Arrays"
   ]
  },
  {
   "cell_type": "markdown",
   "metadata": {},
   "source": [
    "NumPy’s main object is the homogeneous multidimensional array. It is a table of elements (usually numbers), all of the same type, indexed by a tuple of positive integers. In NumPy dimensions are called axes. The number of axes is rank.\n",
    "\n",
    "For example, the coordinates of a point in 3D space [1, 2, 3] is an array of rank 1 (it is 1-dimensional), because it has one axis. That axis has a length of 3. In the example below (variable b), the array has rank 2 (it is 2-dimensional). The first dimension (axis) has a length of 2, the second dimension has a length of 3."
   ]
  },
  {
   "cell_type": "markdown",
   "metadata": {},
   "source": [
    "We can initialize numpy arrays from nested Python lists, and access elements using square brackets:"
   ]
  },
  {
   "cell_type": "code",
   "execution_count": 29,
   "metadata": {},
   "outputs": [],
   "source": [
    "a = np.array([1, 2, 3])   # Create a rank 1 array"
   ]
  },
  {
   "cell_type": "code",
   "execution_count": 30,
   "metadata": {},
   "outputs": [
    {
     "name": "stdout",
     "output_type": "stream",
     "text": [
      "(2, 3)\n",
      "1 2 4\n"
     ]
    }
   ],
   "source": [
    "# Create a rank 2 array\n",
    "# [[ 1  2  3]\n",
    "#  [ 4  5  6]]\n",
    "b = np.array([[1,2,3],[4,5,6]])    # Create a rank 2 array\n",
    "print(b.shape)                     # Prints \"(2, 3)\"\n",
    "print(b[0, 0], b[0, 1], b[1, 0])   # Prints \"1 2 4\"    "
   ]
  },
  {
   "cell_type": "markdown",
   "metadata": {},
   "source": [
    "The function zeros creates an array full of zeros, the function ones creates an array full of ones, and the function empty creates an array whose initial content is random and depends on the state of the memory. By default, the dtype of the created array is float64."
   ]
  },
  {
   "cell_type": "code",
   "execution_count": 31,
   "metadata": {},
   "outputs": [
    {
     "name": "stdout",
     "output_type": "stream",
     "text": [
      "[[0. 0.]\n",
      " [0. 0.]]\n"
     ]
    }
   ],
   "source": [
    "a = np.zeros((2,2))   # Create an array of all zeros\n",
    "print(a)              # Prints \"[[ 0.  0.]\n",
    "                      #          [ 0.  0.]]\""
   ]
  },
  {
   "cell_type": "code",
   "execution_count": 32,
   "metadata": {},
   "outputs": [
    {
     "name": "stdout",
     "output_type": "stream",
     "text": [
      "[[1. 1.]]\n"
     ]
    }
   ],
   "source": [
    "b = np.ones((1,2))    # Create an array of all ones\n",
    "print(b)              # Prints \"[[ 1.  1.]]\""
   ]
  },
  {
   "cell_type": "code",
   "execution_count": 33,
   "metadata": {},
   "outputs": [
    {
     "data": {
      "text/plain": [
       "array([[[1, 1, 1, 1],\n",
       "        [1, 1, 1, 1],\n",
       "        [1, 1, 1, 1]],\n",
       "\n",
       "       [[1, 1, 1, 1],\n",
       "        [1, 1, 1, 1],\n",
       "        [1, 1, 1, 1]]], dtype=int16)"
      ]
     },
     "execution_count": 33,
     "metadata": {},
     "output_type": "execute_result"
    }
   ],
   "source": [
    "np.ones( (2,3,4), dtype=np.int16 )                # dtype can also be specified"
   ]
  },
  {
   "cell_type": "code",
   "execution_count": 34,
   "metadata": {},
   "outputs": [
    {
     "name": "stdout",
     "output_type": "stream",
     "text": [
      "[[7 7]\n",
      " [7 7]]\n"
     ]
    }
   ],
   "source": [
    "c = np.full((2,2), 7)  # Create a constant array\n",
    "print(c)               # Prints \"[[ 7.  7.]\n",
    "                       #          [ 7.  7.]]\""
   ]
  },
  {
   "cell_type": "code",
   "execution_count": 35,
   "metadata": {},
   "outputs": [
    {
     "name": "stdout",
     "output_type": "stream",
     "text": [
      "[[1. 0.]\n",
      " [0. 1.]]\n"
     ]
    }
   ],
   "source": [
    "d = np.eye(2)         # Create a 2x2 identity matrix\n",
    "print(d)              # Prints \"[[ 1.  0.]\n",
    "                      #          [ 0.  1.]]\""
   ]
  },
  {
   "cell_type": "code",
   "execution_count": 36,
   "metadata": {},
   "outputs": [
    {
     "name": "stdout",
     "output_type": "stream",
     "text": [
      "[[0.46277614 0.70150725]\n",
      " [0.73426161 0.79688676]]\n"
     ]
    }
   ],
   "source": [
    "e = np.random.random((2,2))  # Create an array filled with random values\n",
    "print(e)                     # Might print \"[[ 0.91940167  0.08143941]\n",
    "                             #               [ 0.68744134  0.87236687]]\""
   ]
  },
  {
   "cell_type": "markdown",
   "metadata": {},
   "source": [
    "To create sequences of numbers, NumPy provides a function analogous to range that returns arrays instead of lists. For example:"
   ]
  },
  {
   "cell_type": "code",
   "execution_count": 37,
   "metadata": {},
   "outputs": [
    {
     "data": {
      "text/plain": [
       "array([10, 15, 20, 25])"
      ]
     },
     "execution_count": 37,
     "metadata": {},
     "output_type": "execute_result"
    }
   ],
   "source": [
    "np.arange(10, 30, 5)"
   ]
  },
  {
   "cell_type": "code",
   "execution_count": 38,
   "metadata": {},
   "outputs": [
    {
     "data": {
      "text/plain": [
       "array([0. , 0.3, 0.6, 0.9, 1.2, 1.5, 1.8])"
      ]
     },
     "execution_count": 38,
     "metadata": {},
     "output_type": "execute_result"
    }
   ],
   "source": [
    "np.arange(0, 2, 0.3)                 # it accepts float arguments"
   ]
  },
  {
   "cell_type": "code",
   "execution_count": 39,
   "metadata": {},
   "outputs": [
    {
     "data": {
      "text/plain": [
       "array([0, 1, 2, 3])"
      ]
     },
     "execution_count": 39,
     "metadata": {},
     "output_type": "execute_result"
    }
   ],
   "source": [
    "np.arange(0, 4)"
   ]
  },
  {
   "cell_type": "code",
   "execution_count": 40,
   "metadata": {},
   "outputs": [
    {
     "data": {
      "text/plain": [
       "array([0, 1, 2, 3])"
      ]
     },
     "execution_count": 40,
     "metadata": {},
     "output_type": "execute_result"
    }
   ],
   "source": [
    "np.arange(4)"
   ]
  },
  {
   "cell_type": "markdown",
   "metadata": {},
   "source": [
    "### Array Attributes"
   ]
  },
  {
   "cell_type": "markdown",
   "metadata": {},
   "source": [
    "NumPy’s array class is called ndarray and the more important attributes of an ndarray object are:\n",
    "\n",
    "ndarray.ndim: the number of axes (dimensions) of the array. \n",
    "\n",
    "ndarray.shape: the dimensions of the array. This is a tuple of integers indicating the size of the array in each dimension. For a matrix with n rows and m columns, shape will be (n,m). The length of the shape tuple is therefore the rank, or number of dimensions, ndim.\n",
    "\n",
    "ndarray.size: the total number of elements of the array. \n",
    "\n",
    "ndarray.dtype: an object describing the type of the elements in the array. One can create or specify dtype’s using standard Python types. Additionally NumPy provides types of its own. numpy.int32, numpy.int16, and numpy.float64 are some examples.\n",
    "\n",
    "Here are some instances for the usage of 'ndarray.ndim', 'ndarray.shape', 'ndarray.size', and 'ndarray.dtype'."
   ]
  },
  {
   "cell_type": "code",
   "execution_count": 41,
   "metadata": {},
   "outputs": [
    {
     "name": "stdout",
     "output_type": "stream",
     "text": [
      "[[ 0  1  2  3  4]\n",
      " [ 5  6  7  8  9]\n",
      " [10 11 12 13 14]]\n"
     ]
    }
   ],
   "source": [
    "import numpy as np\n",
    "a = np.arange(15).reshape(3, 5)\n",
    "print (a)"
   ]
  },
  {
   "cell_type": "code",
   "execution_count": 42,
   "metadata": {},
   "outputs": [
    {
     "data": {
      "text/plain": [
       "(3, 5)"
      ]
     },
     "execution_count": 42,
     "metadata": {},
     "output_type": "execute_result"
    }
   ],
   "source": [
    "a.shape # should return (3,5)"
   ]
  },
  {
   "cell_type": "code",
   "execution_count": 43,
   "metadata": {},
   "outputs": [
    {
     "data": {
      "text/plain": [
       "15"
      ]
     },
     "execution_count": 43,
     "metadata": {},
     "output_type": "execute_result"
    }
   ],
   "source": [
    "a.size  # should return 15"
   ]
  },
  {
   "cell_type": "code",
   "execution_count": 44,
   "metadata": {},
   "outputs": [
    {
     "data": {
      "text/plain": [
       "2"
      ]
     },
     "execution_count": 44,
     "metadata": {},
     "output_type": "execute_result"
    }
   ],
   "source": [
    "a.ndim  # should return 2"
   ]
  },
  {
   "cell_type": "code",
   "execution_count": 45,
   "metadata": {},
   "outputs": [
    {
     "data": {
      "text/plain": [
       "dtype('int32')"
      ]
     },
     "execution_count": 45,
     "metadata": {},
     "output_type": "execute_result"
    }
   ],
   "source": [
    "a.dtype # return 'int64'"
   ]
  },
  {
   "cell_type": "markdown",
   "metadata": {},
   "source": [
    "Every numpy array is a grid of elements of the same type. Numpy provides a large set of numeric datatypes that you can use to construct arrays. Numpy tries to guess a datatype when you create an array, but functions that construct arrays usually also include an optional argument to explicitly specify the datatype. Here is an example:"
   ]
  },
  {
   "cell_type": "code",
   "execution_count": 46,
   "metadata": {},
   "outputs": [
    {
     "name": "stdout",
     "output_type": "stream",
     "text": [
      "int32\n"
     ]
    }
   ],
   "source": [
    "import numpy as np\n",
    "\n",
    "x = np.array([1, 2])   # Let numpy choose the datatype\n",
    "print(x.dtype)         # Prints \"int64\""
   ]
  },
  {
   "cell_type": "code",
   "execution_count": 47,
   "metadata": {},
   "outputs": [
    {
     "name": "stdout",
     "output_type": "stream",
     "text": [
      "float64\n"
     ]
    }
   ],
   "source": [
    "x = np.array([1.0, 2.0])   # Let numpy choose the datatype\n",
    "print(x.dtype)             # Prints \"float64\""
   ]
  },
  {
   "cell_type": "code",
   "execution_count": 48,
   "metadata": {},
   "outputs": [
    {
     "name": "stdout",
     "output_type": "stream",
     "text": [
      "int64\n"
     ]
    }
   ],
   "source": [
    "x = np.array([1.0, 2.0], dtype=np.int64)   # Force a particular datatype\n",
    "print(x.dtype)                         # Prints \"int64\""
   ]
  },
  {
   "cell_type": "markdown",
   "metadata": {},
   "source": [
    "You can read all about numpy datatypes in the [documentation](http://docs.scipy.org/doc/numpy/reference/arrays.dtypes.html). Also, you can read about other methods of array creation [in the tutorial](https://docs.scipy.org/doc/numpy/user/basics.creation.html#arrays-creation)."
   ]
  },
  {
   "cell_type": "markdown",
   "metadata": {},
   "source": [
    "### Array indexing"
   ]
  },
  {
   "cell_type": "markdown",
   "metadata": {},
   "source": [
    "Numpy offers several ways to index into arrays."
   ]
  },
  {
   "cell_type": "markdown",
   "metadata": {},
   "source": [
    "Slicing: Similar to Python lists, numpy arrays can be sliced. Since arrays may be multidimensional, you must specify a slice for each dimension of the array:"
   ]
  },
  {
   "cell_type": "code",
   "execution_count": 49,
   "metadata": {},
   "outputs": [
    {
     "name": "stdout",
     "output_type": "stream",
     "text": [
      "2\n",
      "77\n"
     ]
    }
   ],
   "source": [
    "import numpy as np\n",
    "\n",
    "# Create the following rank 2 array with shape (3, 4)\n",
    "# [[ 1  2  3  4]\n",
    "#  [ 5  6  7  8]\n",
    "#  [ 9 10 11 12]]\n",
    "a = np.array([[1,2,3,4], [5,6,7,8], [9,10,11,12]])\n",
    "\n",
    "# Use slicing to pull out the subarray consisting of the first 2 rows\n",
    "# and columns 1 and 2; b is the following array of shape (2, 2):\n",
    "# [[2 3]\n",
    "#  [6 7]]\n",
    "b = a[:2, 1:3]\n",
    "\n",
    "# A slice of an array is a view into the same data, so modifying it\n",
    "# will modify the original array.\n",
    "print(a[0, 1])   # Prints \"2\"\n",
    "b[0, 0] = 77     # b[0, 0] is the same piece of data as a[0, 1]\n",
    "print(a[0, 1])   # Prints \"77\""
   ]
  },
  {
   "cell_type": "markdown",
   "metadata": {},
   "source": [
    "You can also mix integer indexing with slice indexing. However, doing so will yield an array of lower rank than the original array. Note that this is quite different from the way that MATLAB handles array slicing:"
   ]
  },
  {
   "cell_type": "code",
   "execution_count": 50,
   "metadata": {},
   "outputs": [
    {
     "name": "stdout",
     "output_type": "stream",
     "text": [
      "[5 6 7 8] (4,)\n",
      "[[5 6 7 8]] (1, 4)\n",
      "[ 2  6 10] (3,)\n",
      "[[ 2]\n",
      " [ 6]\n",
      " [10]] (3, 1)\n"
     ]
    }
   ],
   "source": [
    "import numpy as np\n",
    "\n",
    "# Create the following rank 2 array with shape (3, 4)\n",
    "# [[ 1  2  3  4]\n",
    "#  [ 5  6  7  8]\n",
    "#  [ 9 10 11 12]]\n",
    "a = np.array([[1,2,3,4], [5,6,7,8], [9,10,11,12]])\n",
    "\n",
    "# Two ways of accessing the data in the middle row of the array.\n",
    "# Mixing integer indexing with slices yields an array of lower rank,\n",
    "# while using only slices yields an array of the same rank as the\n",
    "# original array:\n",
    "row_r1 = a[1, :]    # Rank 1 view of the second row of a\n",
    "row_r2 = a[1:2, :]  # Rank 2 view of the second row of a\n",
    "print(row_r1, row_r1.shape)  # Prints \"[5 6 7 8] (4,)\"\n",
    "print(row_r2, row_r2.shape)  # Prints \"[[5 6 7 8]] (1, 4)\"\n",
    "\n",
    "# We can make the same distinction when accessing columns of an array:\n",
    "col_r1 = a[:, 1]\n",
    "col_r2 = a[:, 1:2]\n",
    "print(col_r1, col_r1.shape)  # Prints \"[ 2  6 10] (3,)\"\n",
    "print(col_r2, col_r2.shape)  # Prints \"[[ 2]\n",
    "                             #          [ 6]\n",
    "                             #          [10]] (3, 1)\""
   ]
  },
  {
   "cell_type": "markdown",
   "metadata": {},
   "source": [
    "Integer array indexing: When you index into numpy arrays using slicing, the resulting array view will always be a subarray of the original array. In contrast, integer array indexing allows you to construct arbitrary arrays using the data from another array. Here is an example:"
   ]
  },
  {
   "cell_type": "code",
   "execution_count": 51,
   "metadata": {},
   "outputs": [
    {
     "name": "stdout",
     "output_type": "stream",
     "text": [
      "[1 4 5]\n",
      "[1 4 5]\n",
      "[2 2]\n",
      "[2 2]\n"
     ]
    }
   ],
   "source": [
    "import numpy as np\n",
    "\n",
    "a = np.array([[1,2], [3, 4], [5, 6]])\n",
    "\n",
    "# An example of integer array indexing.\n",
    "# The returned array will have shape (3,) and\n",
    "print(a[[0, 1, 2], [0, 1, 0]])  # Prints \"[1 4 5]\"\n",
    "\n",
    "# The above example of integer array indexing is equivalent to this:\n",
    "print(np.array([a[0, 0], a[1, 1], a[2, 0]]))  # Prints \"[1 4 5]\"\n",
    "\n",
    "# When using integer array indexing, you can reuse the same\n",
    "# element from the source array:\n",
    "print(a[[0, 0], [1, 1]])  # Prints \"[2 2]\"\n",
    "\n",
    "# Equivalent to the previous integer array indexing example\n",
    "print(np.array([a[0, 1], a[0, 1]]))  # Prints \"[2 2]\""
   ]
  },
  {
   "cell_type": "markdown",
   "metadata": {},
   "source": [
    "Boolean array indexing: Boolean array indexing lets you pick out arbitrary elements of an array. Frequently this type of indexing is used to select the elements of an array that satisfy some condition. Here is an example:"
   ]
  },
  {
   "cell_type": "code",
   "execution_count": 52,
   "metadata": {},
   "outputs": [
    {
     "name": "stdout",
     "output_type": "stream",
     "text": [
      "[[False False]\n",
      " [ True  True]\n",
      " [ True  True]]\n"
     ]
    }
   ],
   "source": [
    "import numpy as np\n",
    "\n",
    "a = np.array([[1,2], [3, 4], [5, 6]])\n",
    "\n",
    "bool_idx = (a > 2)   # Find the elements of a that are bigger than 2;\n",
    "                     # this returns a numpy array of Booleans of the same\n",
    "                     # shape as a, where each slot of bool_idx tells\n",
    "                     # whether that element of a is > 2.\n",
    "\n",
    "print(bool_idx)      # Prints \"[[False False]\n",
    "                     #          [ True  True]\n",
    "\n",
    "                     #          [ True  True]]\""
   ]
  },
  {
   "cell_type": "markdown",
   "metadata": {},
   "source": [
    "We use boolean array indexing to construct a rank 1 array consisting of the elements of a corresponding to the True values of bool_idx"
   ]
  },
  {
   "cell_type": "code",
   "execution_count": 53,
   "metadata": {},
   "outputs": [
    {
     "name": "stdout",
     "output_type": "stream",
     "text": [
      "[3 4 5 6]\n",
      "[3 4 5 6]\n"
     ]
    }
   ],
   "source": [
    "print(a[bool_idx])  # Prints \"[3 4 5 6]\"\n",
    "\n",
    "# We can do all of the above in a single concise statement:\n",
    "print(a[a > 2])     # Prints \"[3 4 5 6]\""
   ]
  },
  {
   "cell_type": "markdown",
   "metadata": {},
   "source": [
    "One more example to help you understand the indexing. Try the following commands and see the results"
   ]
  },
  {
   "cell_type": "code",
   "execution_count": 54,
   "metadata": {},
   "outputs": [
    {
     "name": "stdout",
     "output_type": "stream",
     "text": [
      "[  0   1   8  27  64 125 216 343 512 729]\n"
     ]
    }
   ],
   "source": [
    "a = np.arange(10)**3\n",
    "print(a)"
   ]
  },
  {
   "cell_type": "code",
   "execution_count": 55,
   "metadata": {},
   "outputs": [
    {
     "data": {
      "text/plain": [
       "array([ 8, 27, 64], dtype=int32)"
      ]
     },
     "execution_count": 55,
     "metadata": {},
     "output_type": "execute_result"
    }
   ],
   "source": [
    "a[2:5]"
   ]
  },
  {
   "cell_type": "code",
   "execution_count": 56,
   "metadata": {},
   "outputs": [
    {
     "name": "stdout",
     "output_type": "stream",
     "text": [
      "[-1000     1 -1000    27 -1000   125   216   343   512   729]\n"
     ]
    }
   ],
   "source": [
    "a[:6:2] = -1000    # equivalent to a[0:6:2] = -1000; from start to position 6, exclusive, set every 2nd element to -1000\n",
    "print(a)"
   ]
  },
  {
   "cell_type": "code",
   "execution_count": 57,
   "metadata": {},
   "outputs": [
    {
     "data": {
      "text/plain": [
       "array([  729,   512,   343,   216,   125, -1000,    27, -1000,     1,\n",
       "       -1000], dtype=int32)"
      ]
     },
     "execution_count": 57,
     "metadata": {},
     "output_type": "execute_result"
    }
   ],
   "source": [
    "a[ : :-1]   # reversed a"
   ]
  },
  {
   "cell_type": "markdown",
   "metadata": {},
   "source": [
    "For brevity we have left out a lot of details about numpy array indexing; if you want to know more you should [read the documentation](https://docs.scipy.org/doc/numpy/reference/arrays.indexing.html)"
   ]
  },
  {
   "cell_type": "markdown",
   "metadata": {},
   "source": [
    "### Array math"
   ]
  },
  {
   "cell_type": "markdown",
   "metadata": {},
   "source": [
    "Basic mathematical functions operate elementwise on arrays, and are available both as operator overloads and as functions in the numpy module:"
   ]
  },
  {
   "cell_type": "code",
   "execution_count": 58,
   "metadata": {},
   "outputs": [
    {
     "name": "stdout",
     "output_type": "stream",
     "text": [
      "[[ 6.  8.]\n",
      " [10. 12.]]\n",
      "[[ 6.  8.]\n",
      " [10. 12.]]\n"
     ]
    }
   ],
   "source": [
    "import numpy as np\n",
    "\n",
    "x = np.array([[1,2],[3,4]], dtype=np.float64)\n",
    "y = np.array([[5,6],[7,8]], dtype=np.float64)\n",
    "\n",
    "# Elementwise sum; both produce the array\n",
    "# [[ 6.0  8.0]\n",
    "#  [10.0 12.0]]\n",
    "print(x + y)\n",
    "print(np.add(x, y))"
   ]
  },
  {
   "cell_type": "code",
   "execution_count": 59,
   "metadata": {},
   "outputs": [
    {
     "name": "stdout",
     "output_type": "stream",
     "text": [
      "[[-4. -4.]\n",
      " [-4. -4.]]\n",
      "[[-4. -4.]\n",
      " [-4. -4.]]\n"
     ]
    }
   ],
   "source": [
    "# Elementwise difference; both produce the array\n",
    "# [[-4.0 -4.0]\n",
    "#  [-4.0 -4.0]]\n",
    "print(x - y)\n",
    "print(np.subtract(x, y))"
   ]
  },
  {
   "cell_type": "code",
   "execution_count": 60,
   "metadata": {},
   "outputs": [
    {
     "name": "stdout",
     "output_type": "stream",
     "text": [
      "[[ 5. 12.]\n",
      " [21. 32.]]\n",
      "[[ 5. 12.]\n",
      " [21. 32.]]\n"
     ]
    }
   ],
   "source": [
    "# Elementwise product; both produce the array\n",
    "# [[ 5.0 12.0]\n",
    "#  [21.0 32.0]]\n",
    "print(x * y)\n",
    "print(np.multiply(x, y))"
   ]
  },
  {
   "cell_type": "code",
   "execution_count": 61,
   "metadata": {},
   "outputs": [
    {
     "name": "stdout",
     "output_type": "stream",
     "text": [
      "[[0.2        0.33333333]\n",
      " [0.42857143 0.5       ]]\n",
      "[[0.2        0.33333333]\n",
      " [0.42857143 0.5       ]]\n"
     ]
    }
   ],
   "source": [
    "# Elementwise division; both produce the array\n",
    "# [[ 0.2         0.33333333]\n",
    "#  [ 0.42857143  0.5       ]]\n",
    "print(x / y)\n",
    "print(np.divide(x, y))"
   ]
  },
  {
   "cell_type": "code",
   "execution_count": 62,
   "metadata": {},
   "outputs": [
    {
     "name": "stdout",
     "output_type": "stream",
     "text": [
      "[[1.         1.41421356]\n",
      " [1.73205081 2.        ]]\n"
     ]
    }
   ],
   "source": [
    "# Elementwise square root; produces the array\n",
    "# [[ 1.          1.41421356]\n",
    "#  [ 1.73205081  2.        ]]\n",
    "print(np.sqrt(x))"
   ]
  },
  {
   "cell_type": "markdown",
   "metadata": {},
   "source": [
    "Numpy provides many useful functions for performing computations on arrays; one of the most useful is `sum`:"
   ]
  },
  {
   "cell_type": "code",
   "execution_count": 63,
   "metadata": {},
   "outputs": [
    {
     "name": "stdout",
     "output_type": "stream",
     "text": [
      "10\n",
      "[4 6]\n",
      "[3 7]\n"
     ]
    }
   ],
   "source": [
    "import numpy as np\n",
    "\n",
    "x = np.array([[1,2],[3,4]])\n",
    "\n",
    "print(np.sum(x))  # Compute sum of all elements; prints \"10\"\n",
    "print(np.sum(x, axis=0))  # Compute sum of each column; prints \"[4 6]\"\n",
    "print(np.sum(x, axis=1))  # Compute sum of each row; prints \"[3 7]\""
   ]
  },
  {
   "cell_type": "markdown",
   "metadata": {},
   "source": [
    "You can find the full list of mathematical functions provided by numpy [in the documentation](http://docs.scipy.org/doc/numpy/reference/routines.math.html).\n",
    "\n",
    "Apart from computing mathematical functions using arrays, we frequently need to reshape or otherwise manipulate data in arrays. The simplest example of this type of operation is transposing a matrix; to transpose a matrix, simply use the T attribute of an array object:"
   ]
  },
  {
   "cell_type": "code",
   "execution_count": 64,
   "metadata": {},
   "outputs": [
    {
     "name": "stdout",
     "output_type": "stream",
     "text": [
      "[[1 2]\n",
      " [3 4]]\n",
      "[[1 3]\n",
      " [2 4]]\n"
     ]
    }
   ],
   "source": [
    "import numpy as np\n",
    "\n",
    "x = np.array([[1,2], [3,4]])\n",
    "print(x)    # Prints \"[[1 2]\n",
    "            #          [3 4]]\"\n",
    "print(x.T)  # Prints \"[[1 3]\n",
    "            #          [2 4]]\""
   ]
  },
  {
   "cell_type": "code",
   "execution_count": 65,
   "metadata": {},
   "outputs": [
    {
     "name": "stdout",
     "output_type": "stream",
     "text": [
      "[1 2 3]\n",
      "[1 2 3]\n"
     ]
    }
   ],
   "source": [
    "# Note that taking the transpose of a rank 1 array does nothing:\n",
    "v = np.array([1,2,3])\n",
    "print(v)    # Prints \"[1 2 3]\"\n",
    "print(v.T)  # Prints \"[1 2 3]\""
   ]
  },
  {
   "cell_type": "markdown",
   "metadata": {},
   "source": [
    "NumPy provides familiar mathematical functions such as sin, cos, and exp. In NumPy, these are called “universal functions”(ufunc). Within NumPy, these functions operate elementwise on an array, producing an array as output."
   ]
  },
  {
   "cell_type": "code",
   "execution_count": 66,
   "metadata": {},
   "outputs": [
    {
     "data": {
      "text/plain": [
       "array([1.        , 2.71828183, 7.3890561 ])"
      ]
     },
     "execution_count": 66,
     "metadata": {},
     "output_type": "execute_result"
    }
   ],
   "source": [
    "B = np.arange(3)\n",
    "np.exp(B)"
   ]
  },
  {
   "cell_type": "code",
   "execution_count": 67,
   "metadata": {},
   "outputs": [
    {
     "data": {
      "text/plain": [
       "array([0.        , 1.        , 1.41421356])"
      ]
     },
     "execution_count": 67,
     "metadata": {},
     "output_type": "execute_result"
    }
   ],
   "source": [
    "np.sqrt(B)"
   ]
  },
  {
   "cell_type": "code",
   "execution_count": 68,
   "metadata": {},
   "outputs": [
    {
     "data": {
      "text/plain": [
       "array([2., 0., 6.])"
      ]
     },
     "execution_count": 68,
     "metadata": {},
     "output_type": "execute_result"
    }
   ],
   "source": [
    "C = np.array([2., -1., 4.])\n",
    "np.add(B, C)"
   ]
  },
  {
   "cell_type": "markdown",
   "metadata": {},
   "source": [
    "Numpy provides many more functions for manipulating arrays; you can see the full list [in the documentation](https://docs.scipy.org/doc/numpy/reference/routines.array-manipulation.html)."
   ]
  },
  {
   "cell_type": "markdown",
   "metadata": {},
   "source": [
    "### Reshape an Array"
   ]
  },
  {
   "cell_type": "markdown",
   "metadata": {},
   "source": [
    "The shape of an array can be changed with various commands. Note that the following three commands all return a modified array, but do not change the original array:"
   ]
  },
  {
   "cell_type": "code",
   "execution_count": 69,
   "metadata": {},
   "outputs": [
    {
     "data": {
      "text/plain": [
       "array([[8., 9., 0., 6.],\n",
       "       [0., 7., 1., 2.],\n",
       "       [6., 3., 2., 5.]])"
      ]
     },
     "execution_count": 69,
     "metadata": {},
     "output_type": "execute_result"
    }
   ],
   "source": [
    "a = np.floor(10*np.random.random((3,4))) #np.random.random() Return random floats in [0.0, 1.0). \n",
    "a"
   ]
  },
  {
   "cell_type": "code",
   "execution_count": 70,
   "metadata": {},
   "outputs": [
    {
     "data": {
      "text/plain": [
       "array([1.])"
      ]
     },
     "execution_count": 70,
     "metadata": {},
     "output_type": "execute_result"
    }
   ],
   "source": [
    "np.floor(np.array([1.8]))"
   ]
  },
  {
   "cell_type": "code",
   "execution_count": 71,
   "metadata": {},
   "outputs": [
    {
     "data": {
      "text/plain": [
       "array([8., 9., 0., 6., 0., 7., 1., 2., 6., 3., 2., 5.])"
      ]
     },
     "execution_count": 71,
     "metadata": {},
     "output_type": "execute_result"
    }
   ],
   "source": [
    "a.ravel()  # returns the array, flattened"
   ]
  },
  {
   "cell_type": "code",
   "execution_count": 72,
   "metadata": {},
   "outputs": [
    {
     "data": {
      "text/plain": [
       "array([[8., 9.],\n",
       "       [0., 6.],\n",
       "       [0., 7.],\n",
       "       [1., 2.],\n",
       "       [6., 3.],\n",
       "       [2., 5.]])"
      ]
     },
     "execution_count": 72,
     "metadata": {},
     "output_type": "execute_result"
    }
   ],
   "source": [
    "a.reshape(6,2)  # returns the array with a modified shape"
   ]
  },
  {
   "cell_type": "code",
   "execution_count": 73,
   "metadata": {},
   "outputs": [
    {
     "data": {
      "text/plain": [
       "array([[8., 0., 6.],\n",
       "       [9., 7., 3.],\n",
       "       [0., 1., 2.],\n",
       "       [6., 2., 5.]])"
      ]
     },
     "execution_count": 73,
     "metadata": {},
     "output_type": "execute_result"
    }
   ],
   "source": [
    "a.T  # returns the array, transposed"
   ]
  },
  {
   "cell_type": "code",
   "execution_count": 74,
   "metadata": {},
   "outputs": [
    {
     "name": "stdout",
     "output_type": "stream",
     "text": [
      "(4, 3)\n",
      "(3, 4)\n"
     ]
    }
   ],
   "source": [
    "print(a.T.shape)\n",
    "print(a.shape)"
   ]
  },
  {
   "cell_type": "markdown",
   "metadata": {},
   "source": [
    "For more details about reshape function, please refer to the [documentation](https://numpy.org/doc/stable/reference/generated/numpy.reshape.html)"
   ]
  },
  {
   "cell_type": "markdown",
   "metadata": {},
   "source": [
    "### Reading and Writing Files in Python"
   ]
  },
  {
   "cell_type": "markdown",
   "metadata": {},
   "source": [
    "In this section, we will learn some basic opearation about reading and writing files. Moreover, as a data scientist, building an accurate machine learning model is not the end of the project. We will showing you how to save and load your machine learning model in Python.This allows you to save your model to file and load it later in order to make predictions."
   ]
  },
  {
   "cell_type": "markdown",
   "metadata": {},
   "source": [
    "#### Read txt file"
   ]
  },
  {
   "cell_type": "code",
   "execution_count": 20,
   "metadata": {},
   "outputs": [
    {
     "name": "stdout",
     "output_type": "stream",
     "text": [
      "Files in 'c:\\\\Users\\\\mikel\\\\Downloads': ['.ipynb_checkpoints', '.Rhistory', '0050501_ResearchFellowAppliedProbability_PD.pdf', '01062023 LAP Michael Le 21689299 NM.docx', '01a_Notebook_Basics.ipynb', '01b_Running_Code (1).ipynb', '01b_Running_Code.ipynb', '01c_Working_With_Markdown_Cells (1).ipynb', '01c_Working_With_Markdown_Cells.ipynb', '01d_Notebook_Exercises (1).ipynb', '01d_Notebook_Exercises.ipynb', '02f493f5-ad2f-4aab-aa17-a1d3863a87fc.webp', '02_Expressions (1).ipynb', '02_Expressions (2).ipynb', '02_Expressions.ipynb', '03_Data_Structures_and_Loops.ipynb', '04_Numpy_exercises.ipynb', '07-04 WP Intro to BPMN - White.pdf', '0956-application-outbound-cross-institutional-studies.pdf', '11009854_836576869747102_6690582376930797223_n.jpg', '2015-past-exam-questions.pdf', '2017_sol_1.pdf', '2020_L11_Classes_and_Objects__1_.pptx.pdf', '2020_L7_Functions__1_.pptx.pdf', '2020_sol_1.png', '2020_sol_2.png', '2020_sol_3.png', '2021_Assignment1.pdf', '2021_Assignment1_sol.pdf', '2021_Assignment2-3.pdf', '2021_Assignment2_sol.pdf', '2021_Assignment3-1.pdf', '2021_Assignment3_sol.pdf', '2021_Assignment4.pdf', '2021_Assignment4_sol.pdf', '2021_L1_Introduction.pptx.pdf', '2021_L2_HelloWorld.pptx.pdf', '2021_L3_Numbers___Expressions__and_Statements.pptx.pdf', '2022 Scholarships_all commencing scholarships.pdf', '2022_AFL_ladder.pdf', '2022_CSE4IP_T4_W__Assessment_2__Programming_assignment_2_instructions.pdf.pdf', '2023-06-13 21.43.57', '2023-06-13 21.43.57 (1).pdf', '2023-06-13 21.43.57.pdf', '20230131_Job Advertisement_VET TrainersAssessors - Mental Health and Individual Support.pdf', '2023_CSE5ML basic Exercise¶ (1).ipynb', '2023_CSE5ML basic Exercise¶.ipynb', '2023_CSE5ML_Lab_1 (1).ipynb', '2023_CSE5ML_Lab_1.ipynb', '2023_CSE5ML_Lab_1_Environment-Setup.pdf', '2023_CSE5ML_Lab_1_optional_numpy_extended.ipynb', '2023_CSE5ML_Lab_2_Part_1_Regression (1).ipynb', '2023_CSE5ML_Lab_2_Part_1_Regression (2).ipynb', '2023_CSE5ML_Lab_2_Part_1_Regression.ipynb', '2023_CSE5ML_Lab_2_Part_2_Classfication_Answer.ipynb', '2023_CSE5ML_Lab_2_Part_2_Classification (1).ipynb', '2023_CSE5ML_Lab_2_Part_2_Classification.ipynb', '2023_CSE5ML_numpy_Excise.ipynb', '2024 AGGP Data Stream - Interview questions for Data Generalist stream (1).pdf', '2024 AGGP Data Stream - Interview questions for Data Generalist stream.pdf', '2024 AGGP Data Stream - Referee Report Template.docx', '316845901_984084185880615_7302109354361918177_n.jpg', '322_2person_nonzerosum_2021.pdf', '322_2person_zerosum_2021.pdf', '322_group_decision_2021.pdf', '322_intro_games_2021-1.pdf', '322_Markov_decision_2021.pdf', '322_Nperson_games_2021.pdf', '322_sequential_2021.pdf', '322_strict_uncertainty_2021.pdf', '322_utility_theory_2021.pdf', '367-Article Text-367-1-10-20080128.pdf', '39319473.docx', '4.3_Plotly_Basics.jupyterlite.ipynb', '48.JPG', '4KCaptureUtility_1.7.4.4808_x64.msi', '5_Peer_Graded_Assignment_Questions.ipynb', '5_Peer_Graded_Assignment_Questions.py', '5_Peer_Graded_Assignment_Questions_Student_Attempt.py', '71363A72-F3A3-43F7-A7CC-297EF2A7C939 (1).JPG', '71363A72-F3A3-43F7-A7CC-297EF2A7C939.JPG', '8f095218-4629-5a70-9211-44f26bf45df4_ddf0955a-cf3f-54af-ab93-29217db942ed.pdf', 'A1_1.pdf.pdf', 'A2 Assignment (1).zip', 'A2 Assignment (2).zip', 'A2 Assignment (3).zip', 'A2 Assignment (4).zip', 'A2 Assignment (5).zip', 'A2 Assignment (6).zip', 'A2 Assignment (7).zip', 'A2 Assignment (8).zip', 'A2 Assignment (9).zip', 'A2 Assignment.zip', 'A2Assignment-20230611T042141Z-001.zip', 'AB857F19-5F95-4EEB-8301-EB41AECA1842.PNG', 'abf9edce-089e-4607-8774-b9835d474601.ics', 'Academic Statement (1).pdf', 'Academic Statement (2).pdf', 'Academic Statement (3).pdf', 'Academic Statement.pdf', 'AccessAbility-Hub-Registration-Form-2021-Accessible.docx', 'Accessing_APIs_review_lab.ipynb', 'ACS Accreditation Overview V4.pdf', 'ACS Masterclass Introduction to Python Part 1 Terminal Powershell and Django.txt', 'ACS Masterclass_ Introduction to Python - Part 2.ics', 'Advanced-Standing-Form.pdf', 'Adv_Super_Choice_Election_mygov_7131810690052MichaelLe.pdf', 'ae3ed4b3-7d17-55e7-b810-4603275df13c_13c107cc-b223-553b-95dd-bdae1402f838.pdf', 'AFL_Fixture_2022.pdf', 'AI-AnIntro_Certificate of completion.pdf', 'AIEcertIII.pdf', 'Anaconda3-2021.11-Windows-x86_64.exe', 'Anaconda3-2022.05-Windows-x86_64.exe', 'APEX Account.pdf', 'Application-Checklist.pdf', 'application-for-cross-institutional-studies (1).pdf', 'application-for-cross-institutional-studies (2).pdf', 'application-for-cross-institutional-studies.pdf', 'archive (1).zip', 'archive (2).zip', 'archive (3).zip', 'archive (4).zip', 'archive (5).zip', 'archive.zip', 'Artificial-Intelligence-Capstone-Project-Datasets-master.zip', 'Assessment - Operate System Diagnostics.docx', 'Assessment - Preventative Maintenance Template.docx', 'Assessment - Virus Scanning And Backups.docx', 'Assessment 1 Oxford Online AI Intro (1).png', 'Assessment 1 Oxford Online AI Intro.png', 'Assessment 1_ EER diagram development Michael Le.drawio', 'Assessment 1_ EER diagram development Michael Le.drawio.pdf', 'ASSESSMENT 2 CSE4DBF .sql', 'ASSESSMENT 2 CSE4DBF MICHAEL LE (1).sql', 'ASSESSMENT 2 CSE4DBF MICHAEL LE (2).sql', 'ASSESSMENT 2 CSE4DBF MICHAEL LE (3).sql', 'ASSESSMENT 2 CSE4DBF MICHAEL LE.sql', 'Assessment 2 MAT4MDS Presentation Michael Le.mp4', 'Assessment 2 MAT4MDS Presentation Michael Le.pdf', 'Assessment 2 MAT4MDS Presentation Michael Le.pptx', 'assessment 3 CSE4DBF MICHAEL LE', 'Assessment 3 CSE4DBF Problems (1).sql', 'Assessment 3 CSE4DBF Problems.sql', 'assign2.pdf', 'Assignment (1).ipynb', 'Assignment (2).ipynb', 'Assignment (3).ipynb', 'Assignment 1 EER Diagram CSE4DF  (1).pdf', 'Assignment 1 EER Diagram CSE4DF  (2).pdf', 'Assignment 1 EER Diagram CSE4DF .pdf', 'Assignment 1 mast30030 (Michael Le) (1).pdf', 'Assignment 2 CSE4DBF Michael Le.pdf', 'assignment-4-questions.pdf', 'Assignment.ipynb', 'assignment1.pdf', 'assignment1final.pdf', 'assignment3_prob1-1.txt', 'assignment4_x_2021.txt', 'assignment4_y_2021.txt', 'Assignment_1_30022_2021_CANVAS.pdf', 'Assignment_2_30022_2021_CANVAS.pdf', 'Assignment_3_30022_2021_CANVAS.pdf', 'Assignment_4_30022_2021_CANVAS.pdf', 'assn3code.r', 'Audio - Lecture.pdf', 'Audio - Tutorial (1).pdf', 'Audio - Tutorial Assets.zip', 'Audio - Tutorial Project - Starter.zip', 'Audio - Tutorial.pdf', 'B17E9EB6-0504-47F7-B3D5-357B329FF2BF.PNG', 'babies.txt', 'Bachelors Degree.pdf', 'basic-miktex-23.4-x64.exe', 'blockyCharacters.unitypackage', 'BMRW.pdf', 'BM_BB.pdf', 'Bob-omb Battlefield - Super Mario 64 DS (128 kbps).mp3', 'booking.ics', 'brand.gif', 'bvnormal.m', 'C1_W1_Lab01_Python_Jupyter_Soln.ipynb', 'C1_W1_Lab02_Model_Representation_Soln.ipynb', 'C1_W1_Lab03_Cost_function_Soln.ipynb', 'C1_W1_Lab04_Gradient_Descent_Soln.ipynb', 'C1_W1_Lab_1_introduction_to_numpy_arrays.ipynb', 'C1_W1_Lab_2_solving_linear_systems_2_variables.ipynb', 'C1_W2_Assignment.ipynb', 'C1_W2_Lab01_Python_Numpy_Vectorization_Soln.ipynb', 'C1_W2_Lab02_Multiple_Variable_Soln.ipynb', 'C1_W2_Lab03_Feature_Scaling_and_Learning_Rate_Soln.ipynb', 'C1_W2_Lab04_FeatEng_PolyReg_Soln.ipynb', 'C1_W2_Lab05_Sklearn_GD_Soln.ipynb', 'C1_W2_Lab_1_solving_linear_systems_3_variables.ipynb', 'C1_W2_Linear_Regression.ipynb', 'C1_W3_Assignment.ipynb', 'C1_W3_Lab01_Classification_Soln.ipynb', 'C1_W3_Lab02_Sigmoid_function_Soln.ipynb', 'C1_W3_Lab03_Decision_Boundary_Soln.ipynb', 'C1_W3_Lab04_LogisticLoss_Soln.ipynb', 'C1_W3_Lab05_Cost_Function_Soln.ipynb', 'C1_W3_Lab06_Gradient_Descent_Soln (3) (1).ipynb', 'C1_W3_Lab06_Gradient_Descent_Soln (3).ipynb', 'C1_W3_Lab06_Gradient_Descent_Soln.ipynb', 'C1_W3_Lab07_Scikit_Learn_Soln.ipynb', 'C1_W3_Lab08_Overfitting_Soln.ipynb', 'C1_W3_Lab09_Regularization_Soln.ipynb', 'C1_W3_Lab_1_vector_operations.ipynb', 'C1_W3_Lab_2_matrix_multiplication.ipynb', 'C1_W3_Lab_3_linear_transformations.ipynb', 'C1_W3_Logistic_Regression.ipynb', 'C1_W4_Assignment.ipynb', 'C2W3_Lab_01_Model_Evaluation_and_Selection (1).ipynb', 'C2W3_Lab_01_Model_Evaluation_and_Selection.ipynb', 'C2W3_Lab_02_Diagnosing_Bias_and_Variance.ipynb', 'C2_W1_Assignment (1).ipynb', 'C2_W1_Assignment.ipynb', 'C2_W1_Lab01_Neurons_and_Layers.ipynb', 'C2_W1_Lab02_CoffeeRoasting_TF.ipynb', 'C2_W1_Lab03_CoffeeRoasting_Numpy.ipynb', 'C2_W1_Lab_1_differentiation_in_python.ipynb', 'C2_W2_Assignment (1).ipynb', 'C2_W2_Assignment.ipynb', 'C2_W2_Backprop.ipynb', 'C2_W2_Derivatives.ipynb', 'C2_W2_Lab_1_Optimization_Using_Gradient_Descent_in_One_Variable.ipynb', 'C2_W2_Lab_2_Optimization_Using_Gradient_Descent_in_Two_Variables.ipynb', 'C2_W2_Multiclass_TF.ipynb', 'C2_W2_Relu.ipynb', 'C2_W2_SoftMax.ipynb', 'C2_W3_Assignment (1).ipynb', 'C2_W3_Assignment (2).ipynb', 'C2_W3_Assignment.ipynb', 'C2_W3_Lab_1_Regression_with_Perceptron.ipynb', 'C2_W3_Lab_2_Classification_with_Perceptron.ipynb', 'C2_W3_Lab_3_Optimization_Using_Newtons_Method.ipynb', 'C2_W4_Decision_Tree_with_Markdown.ipynb', 'C2_W4_Lab_01_Decision_Trees.ipynb', 'C3_W1_Anomaly_Detection (1).ipynb', 'C3_W1_Anomaly_Detection.ipynb', 'C3_W1_Assignment.ipynb', 'C3_W1_KMeans_Assignment.ipynb', 'C3_W1_Lab_1_Monty_Hall.ipynb', 'C3_W1_Lab_2_Birthday_Problems.ipynb', 'C3_W2_Assignment.ipynb', 'C3_W2_Collaborative_RecSys_Assignment (1).ipynb', 'C3_W2_Collaborative_RecSys_Assignment.ipynb', 'C3_W2_Lab01_PCA_Visualization_Examples.ipynb', 'C3_W2_Lab_2_Dice_Simulations.ipynb', 'C3_W2_RecSysNN_Assignment.ipynb', 'C3_W3_A1_Assignment.ipynb', 'C3_W3_Lab_1_Central_Limit_Theorem.ipynb', 'C3_W4_Assignment.ipynb', 'CA Letter of Authority (1).pdf', 'CA Letter of Authority.pdf', 'CA Program Timetable Yearly 2022-2024.pdf', 'calendar.ics', 'capstone-story-template.pptx', 'Capstone_Intro_Notebook.ipynb', 'capstone_presentation.pptx', 'car licence front.jpg', 'CarSalesByModelStart.xlsx', 'car_sales_data_sample.csv', 'Car_Sales_Kaggle_DV0130EN_Lab1_Start (1).xlsx', 'Car_Sales_Kaggle_DV0130EN_Lab1_Start.xlsx', 'Car_Sales_Kaggle_DV0130EN_Lab2_Start (1).xlsx', 'Car_Sales_Kaggle_DV0130EN_Lab2_Start.xlsx', 'Car_Sales_Kaggle_DV0130EN_Lab3_Start.xlsx', 'Case Study - FPS.pdf', 'Case Study - Platformers.pdf', 'Case Study - Top Down Shooters.pdf', 'Castle Kit.unitypackage', 'CCDP10003 Presentation Michael Le  copy 2.pdf', 'CCDP10003- Journal .pdf', 'cd427acf5e4439638c301f03d17a0aa829da0720.pdf', 'cf020bd3125c6c3671257d6866e36881.jpg', 'CHAFTA CERT ORIGIN (1).docx', 'CHAFTA CERT ORIGIN (2).docx', 'CHAFTA CERT ORIGIN (3).docx', 'CHAFTA CERT ORIGIN.docx', 'Chap17WE (1).doc', 'Chap17WE.doc', 'Character Controller Sample.zip', 'Character Controllers - Tutorial.pdf', 'Character Controllers.pdf', 'ChicagoCensusData (1).csv', 'ChicagoCensusData (2).csv', 'ChicagoCensusData.csv', 'ChicagoCrimeData.csv', 'ChicagoPublicSchools (1).csv', 'ChicagoPublicSchools (2).csv', 'ChicagoPublicSchools.csv', 'child_mortality.csv', 'ChromeSetup (1).exe', 'ChromeSetup.exe', 'CinebenchR23.2', 'CinebenchR23.2.zip', 'CitrixWorkspaceApp.exe', 'Classes Assigning Values to Instance Fields Part 1.png', 'Classes Assigning Values to Instance Fields Part 2.png', 'Classes Assigning Values to Instance Fields Part 3.png', 'CloudMario.png', 'coinmario.png', 'Collecting_Jobs_data_Using_API-Questions (1).ipynb', 'Collecting_Jobs_data_Using_API-Questions (2).ipynb', 'Collecting_Jobs_data_Using_API-Questions.ipynb', 'combinepdf (1).pdf', 'combinepdf (2).pdf', 'combinepdf (3).pdf', 'combinepdf.pdf', 'Conflict of Interest Policy (1).pdf', 'Conflict of Interest Policy.pdf', 'Controls-WASD_smaller.png', 'Copy_of_Lab_2_2_Iteration (1) (1).ipynb', 'Copy_of_Lab_2_2_Iteration (1).ipynb', 'Copy_of_Lab_2_2_Iteration.ipynb', 'Coursea_Capstone.zip', 'courseguide_2021-2.pdf', 'Coursera 4AFSC636JZ7F (1).pdf', 'Coursera 4AFSC636JZ7F.pdf', 'Coursera 5X9VVZWW9Q7W.pdf', 'Coursera 6NPV8G63HL7L.pdf', 'Coursera 9S4HXZXZTX6M.pdf', 'Coursera J65ATGTJQMFS.pdf', 'Coursera PE8RB26C7FZC.pdf', 'Coventry.xls', 'Cover Letter 15-9-2021 Data Analyst.docx', 'Cover+Letter+for+Affinda+Associate+AI+Consulting.docx', 'COVID-19 10 Standards.pdf', 'COVID19VaccineincludingBooster.png', 'cpu-z_2.01-en.exe', 'Creating a Web Server - Tutorial.pdf', 'Crown Melbourne - Induction Requirements 2022 (1).pdf', 'Crown Melbourne - Induction Requirements 2022 (10).pdf', 'Crown Melbourne - Induction Requirements 2022 (2).pdf', 'Crown Melbourne - Induction Requirements 2022 (3).pdf', 'Crown Melbourne - Induction Requirements 2022 (4).pdf', 'Crown Melbourne - Induction Requirements 2022 (5).pdf', 'Crown Melbourne - Induction Requirements 2022 (6).pdf', 'Crown Melbourne - Induction Requirements 2022 (7).pdf', 'Crown Melbourne - Induction Requirements 2022 (8).pdf', 'Crown Melbourne - Induction Requirements 2022 (9).pdf', 'Crown Melbourne - Induction Requirements 2022.pdf', 'crowncasinocontractorinductioncompletion.png', 'CSE4DBF Exam .pdf', 'CSE4DBF Term 3 2023 Oracle Academy Account.pdf', 'CSE4IP Assessment 1 Michael Le.ipynb', 'CSE4IP-T2 - Introduction to Programming Module 2 2023.ipynb', 'CSE4IP-T2 - Introduction to Programming Module 3 2023.ipynb', 'CSE4IP-T2 - Introduction to Programming Modulue 1 2023.ipynb', 'CSE4IPCSE5CES_BU_1__Assignment1.pdf (1).pdf', 'CSE4IPCSE5CES_BU_1__Assignment1.pdf.pdf', 'CSE4IPCSE5CES_BU_1__Assignment2.pdf (1).pdf', 'CSE4IPCSE5CES_BU_1__Assignment2.pdf.pdf', 'CSE4IP_Assessment_1_Michael_Le.ipynb', 'CSE5DL Assignment Report.docx', 'CSE5DL T3 Lecture Notes (1).zip', 'CSE5DL T3 Lecture Notes.zip', 'CSE5DL-OL-Term 3 INVIGILATED EXAM INSTRUCTIONS (1).docx', 'CSE5DL-OL-Term 3 INVIGILATED EXAM INSTRUCTIONS (2).docx', 'CSE5DL-OL-Term 3 INVIGILATED EXAM INSTRUCTIONS.docx', 'CSE5ML Assessment 1 Michael Le .ipynb', 'CSE5ML Assessment 1 Report word count.png', 'CSE5ML Assignment 1 Report Word Count 2.png', 'CSIT Wiley-OL-Term 2 INVIGILATED EXAM INSTRUCTIONS-CSE4IP.pdf', 'CSIT Wiley-OL-Term 3 INVIGILATED EXAM INSTRUCTIONS - CSE4DBF (1).pdf', 'CSIT Wiley-OL-Term 3 INVIGILATED EXAM INSTRUCTIONS - CSE4DBF (2).pdf', 'CSIT Wiley-OL-Term 3 INVIGILATED EXAM INSTRUCTIONS - CSE4DBF.pdf', 'CTMC_2021.pdf', 'CustomerLoyaltyProgram.csv', 'Customer_demographics_and_sales_Lab5.xlsx', 'Customer_demographics_and_sales_Lab6.xlsx', 'DA0101EN-2-Review-Data-Wrangling (1).ipynb', 'DA0101EN-2-Review-Data-Wrangling.ipynb', 'DA0101EN-2-Review-Data-Wrangling.jupyterlite.ipynb', 'DA0101EN-3-Review-Exploratory-Data-Analysis.jupyterlite.ipynb', 'DA0101EN-4-Review-Model-Development.jupyterlite.ipynb', 'DA0101EN-5-Review-Model-Evaluation-and-Refinement.ipynb', 'DA0101EN-5-Review-Model-Evaluation-and-Refinement.jupyterlite (1).ipynb', 'DA0101EN-5-Review-Model-Evaluation-and-Refinement.jupyterlite.ipynb', 'DA0101EN-Review-Introduction (1).ipynb', 'DA0101EN-Review-Introduction.ipynb', 'DA0101EN-Review-Introduction.jupyterlite.ipynb', 'Dash Components Step.pdf', 'Dash Interactivity Step.pdf', 'Dash_Auto.py', 'dash_basics (1).py', 'dash_basics.py', 'dash_interactivity.py', 'dash_layout (1).py', 'dash_layout.py', 'Data Science Computing and Mathematics subject specific assessment criteria.docx', 'data.zip', 'data_loading_tutorial.py', 'DB0201EN-PeerAssign-v5 (1).ipynb', 'DB0201EN-PeerAssign-v5.ipynb', 'DB0201EN-PeerAssign-v5_SQLite (1).ipynb', 'DB0201EN-PeerAssign-v5_SQLite.ipynb', 'DB0201EN-Week3-1-1-Connecting-v4-py.ipynb', 'DB0201EN-Week3-1-2-Querying-v4-py.ipynb', 'DB0201EN-Week3-1-3-SQLmagic_SQlite (1).ipynb', 'DB0201EN-Week3-1-3-SQLmagic_SQlite (2).ipynb', 'DB0201EN-Week3-1-3-SQLmagic_SQlite.ipynb', 'DB0201EN-Week3-1-4-Analyzing_SQLite.ipynb', 'DB0201EN-Week4-1-1-RealDataPractice-v5 (1).ipynb', 'DB0201EN-Week4-1-1-RealDataPractice-v5.ipynb', 'DB0201EN-Week4-1-1-RealDataPractice-v5_sqlite_Learner (1).ipynb', 'DB0201EN-Week4-1-1-RealDataPractice-v5_sqlite_Learner (2).ipynb', 'DB0201EN-Week4-1-1-RealDataPractice-v5_sqlite_Learner.ipynb', 'DBF_Lab10_Questions (1).pdf', 'DBF_Lab10_Questions.pdf', 'DBF_Lab10_SS (1).pdf', 'DBF_Lab10_SS.pdf', 'DBF_Lab1_Questions_2023 (1).pdf', 'DBF_Lab1_Questions_2023 (2).pdf', 'DBF_Lab1_Questions_2023 (3).pdf', 'DBF_Lab1_Questions_2023.pdf', 'DBF_Lab1_SS (1).pdf', 'DBF_Lab1_SS (2).pdf', 'DBF_Lab1_SS (3).pdf', 'DBF_Lab1_SS.pdf', 'DBF_Lab2_SS (1).pdf', 'DBF_Lab2_SS (2).pdf', 'DBF_Lab2_SS (3).pdf', 'DBF_Lab2_SS.pdf', 'DBF_Lab3_SS (1).pdf', 'DBF_Lab3_SS (2).pdf', 'DBF_Lab3_SS (3).pdf', 'DBF_Lab3_SS (4).pdf', 'DBF_Lab3_SS (5).pdf', 'DBF_Lab3_SS (6).pdf', 'DBF_Lab3_SS.pdf', 'DBF_Lab4_Questions.pdf', 'DBF_Lab4_SS (1).pdf', 'DBF_Lab4_SS (2).pdf', 'DBF_Lab4_SS (3).pdf', 'DBF_Lab4_SS (4).pdf', 'DBF_Lab4_SS (5).pdf', 'DBF_Lab4_SS (6).pdf', 'DBF_Lab4_SS (7).pdf', 'DBF_Lab4_SS.pdf', 'DBF_Lab5_Questions (1).pdf', 'DBF_Lab5_Questions (2).pdf', 'DBF_Lab5_Questions (3).pdf', 'DBF_Lab5_Questions.pdf', 'DBF_Lab5_SS (1).pdf', 'DBF_Lab5_SS (2).pdf', 'DBF_Lab5_SS (3).pdf', 'DBF_Lab5_SS (4).pdf', 'DBF_Lab5_SS (5).pdf', 'DBF_Lab5_SS (6).pdf', 'DBF_Lab5_SS (7).pdf', 'DBF_Lab5_SS (8).pdf', 'DBF_Lab5_SS (9).pdf', 'DBF_Lab5_SS.pdf', 'DBF_Lab6_Questions (1).pdf', 'DBF_Lab6_Questions (2).pdf', 'DBF_Lab6_Questions.pdf', 'DBF_Lab6_SS (1).pdf', 'DBF_Lab6_SS (2).pdf', 'DBF_Lab6_SS (3).pdf', 'DBF_Lab6_SS (4).pdf', 'DBF_Lab6_SS.pdf', 'DBF_Lab7_Questions.pdf', 'DBF_Lab7_SS (1).pdf', 'DBF_Lab7_SS (2).pdf', 'DBF_Lab7_SS.pdf', 'DBF_Lab8_Questions.pdf', 'DBF_Lab8_SS (1).pdf', 'DBF_Lab8_SS (2).pdf', 'DBF_Lab8_SS (3).pdf', 'DBF_Lab8_SS (4).pdf', 'DBF_Lab8_SS.pdf', 'DBF_Lab9_Questions (1).pdf', 'DBF_Lab9_Questions (2).pdf', 'DBF_Lab9_Questions (3).pdf', 'DBF_Lab9_Questions.pdf', 'DBF_Lab9_SS (1).pdf', 'DBF_Lab9_SS.pdf', 'DCCC86EA970E46CE81A04B372F5FC924', 'Declaration of Authorship Form - WC.docx', 'Demo labs (1).zip', 'Demo labs (2).zip', 'Demo labs.zip', 'Departments (1).csv', 'Departments (2).csv', 'Departments (3).csv', 'Departments.csv', 'desktop.ini', 'details.csv', 'DiscordSetup (1).exe', 'DiscordSetup.exe', 'Document.pdf', 'DoorDash-logo.png', 'download.ics', 'download.jpg', 'ds-capstone-template-coursera.pptx', 'DSDRIVER(1).zip', 'DTMC_MCBasic-1 (1).R', 'DTMC_MCBasic-1.R', 'DTMC_RW_Plot.R', 'DV0101EN-Exercise-Area-Plots-Histograms-and-Bar-Charts.ipynb', 'DV0101EN-Exercise-Area-Plots-Histograms-and-Bar-Charts.jupyterlite (1).ipynb', 'DV0101EN-Exercise-Area-Plots-Histograms-and-Bar-Charts.jupyterlite.ipynb', 'DV0101EN-Exercise-Generating-Maps-in-Python.jupyterlite.ipynb', 'DV0101EN-Exercise-Introduction-to-Matplotlib-and-Line-Plots.ipynb', 'DV0101EN-Exercise-Introduction-to-Matplotlib-and-Line-Plots.jupyterlite (1).ipynb', 'DV0101EN-Exercise-Introduction-to-Matplotlib-and-Line-Plots.jupyterlite.ipynb', 'DV0101EN-Exercise-Pie-Charts-Box-Plots-Scatter-Plots-and-Bubble-Plots.jupyterlite.ipynb', 'DV0101EN-Exercise-Waffle-Charts-Word-Clouds-and-Regression-Plots.ipynb', 'DV0101EN-Exercise-Waffle-Charts-Word-Clouds-and-Regression-Plots.jupyterlite.ipynb', 'Edge.7c4c82.zip', 'EERDiagramAndTransformation-2023 (1).pdf', 'EERDiagramAndTransformation-2023 (2).pdf', 'EERDiagramAndTransformation-2023.pdf', 'EERDiagramAndTransformation-AdditionalFile-2023.pdf', 'EERDiagramAndTransformation-Exercise-SS-2023 (1).pdf', 'EERDiagramAndTransformation-Exercise-SS-2023 (2).pdf', 'EERDiagramAndTransformation-Exercise-SS-2023.pdf', 'EM-1.Rmd', 'Employees.csv', 'Employees_updated (1).csv', 'Employees_updated (2).csv', 'Employees_updated.csv', 'Enquiry_ (1) (1).pdf', 'Enquiry_ (1).pdf', 'entitlement_work_7337734_le.pdf', 'ERModelling1-Exercises-SS-2023 (1).pdf', 'ERModelling1-Exercises-SS-2023 (2).pdf', 'ERModelling1-Exercises-SS-2023 (3).pdf', 'ERModelling1-Exercises-SS-2023.pdf', 'ESD1 Meeting WEEK 4.pages', 'ESD1 Meeting WEEK 5.pages', 'ESD1_EN01_Introduction_LMS(5).pdf', 'ESD1_EN02_Engineering_and_Society_LMS(3).pdf', 'ESD1_EN03_Problem_Solving_LMS(3).pdf', 'ESD1_problem_booklet_Workshop 3.pdf', 'ESD1_problem_booklet_Workshop 4.pdf', 'Event.ics', 'eventSchema (1).sql', 'eventSchema (2).sql', 'eventSchema (3).sql', 'eventSchema.sql', 'everything (1).py', 'everything (2).py', 'everything.py', 'exam-11-june-2012-questions.pdf', 'exam-12-june-2018-questions.pdf', 'exam-6-june-2010-questions.pdf', 'ExamSol.pdf', 'Exam_2017.pdf', 'Exam_sol_2017_2-2.pdf', 'exercise-booklet-sm2-2018.pdf', 'Experimental Design 3 Part 1.pdf', 'Experimental Design 3 Part3.pdf', 'Experimental Design 3.pdf', 'explore.py', 'Extended Exam Revision Question List.docx', 'factor-trait-report_michael-le (1).pdf', 'factor-trait-report_michael-le (2).pdf', 'factor-trait-report_michael-le.pdf', 'fertility.csv', 'Figure 17.png', 'Files (1).zip', 'Files.zip', 'Final Assessment  (1).ipynb', 'Final Assessment .ipynb', 'Final Assessment.ipynb', 'Final Assignment (1).ipynb', 'Final Assignment (2).ipynb', 'Final Assignment Webscraping.ipynb', 'Final Assignment.ipynb', 'Final Module Coursea.ipynb', 'Final Module Coursea.py', 'final-exam-answers.pdf', 'Final_Assignment Library.ipynb', 'First-Assignment (1).ipynb', 'First-Assignment (2).ipynb', 'First-Assignment.ipynb', 'First-Assignment.py', 'Flight Delay Time Statistics Dashboard Step.pdf', 'flight_delay.py', 'flight_details.py', 'FM Access Request Form PDF (1).pdf', 'FM Access Request Form PDF (2) (1).pdf', 'FM Access Request Form PDF (2).pdf', 'FM Access Request Form PDF.pdf', 'Formatting.pptx.pdf', 'FPS Tutorial.pdf', 'Functions And Intro To Classes - Exercise.pdf', 'Functions And Intro To Classes - Review Sheet.pdf', 'Functions And Intro To Classes - Tutorial.pdf', 'Game Design Document Template.docx', 'Game Documentation.pdf', 'Game Engines - Exercises.pdf', 'Game Engines.pdf', 'Game Mechanics - Tutorial (Teleport Mechanic).pdf', 'Game Mechanics - Tutorial.pdf', 'Game Mechanics.pdf', 'Game Testing - Exercise.pdf', 'Game Testing - Tutorial.pdf', 'Game Testing.pdf', 'Gantt_chart_template_Excel_2007-2013.xlsx', 'Git-2.39.1-64-bit.exe', 'GitHubDesktopSetup-x64.exe', 'Glitter-Paper-Green-150x150.jpeg', 'GOMA-22-006 (Sonic) (1).pdf', 'GOMA-22-006 (Sonic) (2).pdf', 'GOMA-22-006 (Sonic).pdf', 'grass patches.jpg', 'grass64.jpg', 'grasssmall.jpg!s', 'grasssmall1.jpg', 'green-grass.jpg', 'green_lawn_meadow_grass_field_grassland_plant_land-1178522.jpg!s', 'Greyboxing Assets.zip', 'GUI Design - Tutorial (1).pdf', 'GUI Design - Tutorial.pdf', 'GUI Design.pdf', 'GUISample (1).unitypackage', 'GUISample.unitypackage', 'h1-linear-statistical-models-summary-notes-for-each-chapter.pdf', 'Hands-on Lab 1_ Review Of Accessing APIs.ipynb', 'Hands-on Lab 2_ Collecting Data Using APIs.ipynb', 'Hands-on Lab 3_ Review Of Web Scraping.ipynb', 'Hands-on Lab 4_ Collecting Data Using Web Scraping.ipynb', 'Hands-on Lab 5_ Explore the Data Set.ipynb', 'Health Safety and Wellbeing Policy 2022 CrownCasino.pdf', 'Health Safety and Wellbeing Policy 2022.pdf', 'Health-Practitioner-Statement-2021-Accessible (1).docx', 'Health-Practitioner-Statement-2021-Accessible.docx', 'HelloMarioAssets.unitypackage', 'hero-image.webp', 'House_Sales_in_King_Count_USA.ipynb', 'HR_Database_Create_Tables_Script (1).sql', 'HR_Database_Create_Tables_Script (2).sql', 'HR_Database_Create_Tables_Script (3).sql', 'HR_Database_Create_Tables_Script.sql', 'hwmonitor-pro_1.47.exe', 'IBM Certificate Data Science.pdf', 'IBM Data Science Capstone Final Presentation (1).pptx', 'IBM Data Science Capstone Final Presentation (2).pptx', 'IBM Data Science Capstone Final Presentation .pptx', 'IBM Data Science Capstone Final Presentation.pptx', 'IBM Data Science Capstone Project Michael Le  (1) (1).ipynb', 'IBM Data Science Capstone Project Michael Le  (1) (2).ipynb', 'IBM Data Science Capstone Project Michael Le  (1).ipynb', 'IBM Data Science Capstone Project Michael Le  (2).ipynb', 'IBM Data Science Capstone Project Michael Le .ipynb', 'IBM Db2 Download Center Agreement (L-KHAI-C55LBY).pdf', 'ibm-credentials.env', 'IBMDataAnalyst.pdf', 'IBM_Data_Science_Capstone_Project_Michael_Le .ipynb', 'IBM_Data_Science_Capstone_Project_Michael_Le .slides.html', 'If Statements - Exercise.pdf', 'If Statements - Review Sheet.pdf', 'If Statements - Tutorial.pdf', 'image (1).png', 'image.png', 'image_123986672 (1).JPG', 'image_123986672.JPG', 'image_167850241.JPG', 'IMG-3273.jpg', 'IMG-3274.jpg', 'IMG-3439 (1).JPG', 'IMG-3439.JPG', 'IMG-3586.JPG', 'IMG-3649.jpg', 'IMG-3735.jpg', 'IMG-3736.jpg', 'IMG-3740.jpg', 'IMG-3801.jpg', 'IMG-3803.jpg', 'IMG-4170.jpg', 'IMG-4676.jpg', 'IMG-4677.jpg', 'IMG-4678.jpg', 'IMG-4679.jpg', 'IMG-4685.jpg', 'IMG-4691.jpg', 'IMG-4692.jpg', 'IMG-4693.jpg', 'IMG-4757.jpg', 'IMG-4759.jpg', 'IMG-4870 (1).jpg', 'IMG-4870 (2).jpg', 'IMG-4870 (3).jpg', 'IMG-4870.jpg', 'IMG-4918.PNG', 'IMG-4919 (1).JPG', 'IMG-4919.JPG', 'IMG-4941 (1).jpg', 'IMG-4941 (2).jpg', 'IMG-4941.jpg', 'IMG-4943 (1).jpg', 'IMG-4943 (2).jpg', 'IMG-4943.jpg', 'IMG-4944.jpg', 'IMG-4945.jpg', 'IMG-4946.jpg', 'IMG_0479.jpg', 'IMG_4169 (1).JPG', 'IMG_4169.JPG', 'indian_startup_funding_Lab1.xlsx', 'indian_startup_funding_Lab2 (1).xlsx', 'indian_startup_funding_Lab2.xlsx', 'indian_startup_funding_Lab3.xlsx', 'indian_startup_funding_Lab6.xlsx', 'indian_startup_funding_Lab7.xlsx', 'indian_startup_funding_Lab7_with_slicers_timelines.xlsx', 'insane-95-h1-mast20004-probability-course-notes-2020-cheatsheet (1).pdf', 'insane-95-h1-mast20004-probability-course-notes-2020-cheatsheet.pdf', 'Installing Visual Studio - Tutorial.pdf', 'Intro to GIMP - Presentation.pdf', 'Introduction to Unity - Exercises.pdf', 'Introduction to Unity - Tutorial.pdf', 'Introduction to Unity.pdf', 'IntroductionERModelling-2023.pdf', 'Introduction_to_programming_CSE4IP.pdf.pdf', 'Intro_BrownianMotion.R', 'Intro_HeadRun.R', 'IP_Lab3.1_S1_2021.pdf.pdf', 'IP_Lab3.2_S1_2021.pdf.pdf', 'ISIC_0024306 (1).jpg', 'ISIC_0024306.jpg', 'JAuQsi-Assignment_1_Questions(2).pdf', 'JD-Customer_TechMahindra_FTE_MEl.pdf', 'Jobs (1).csv', 'Jobs (2).csv', 'Jobs (3).csv', 'Jobs.csv', 'JobsHistory (1).csv', 'JobsHistory (2).csv', 'JobsHistory (3).csv', 'JobsHistory.csv', 'Jobs_API (1).ipynb', 'Jobs_API.ipynb', 'jupyter-labs-eda-dataviz (1).ipynb', 'jupyter-labs-eda-dataviz.ipynb', 'jupyter-labs-eda-sql-coursera.ipynb', 'jupyter-labs-eda-sql-coursera_sqllite (1).ipynb', 'jupyter-labs-eda-sql-coursera_sqllite.ipynb', 'jupyter-labs-spacex-data-collection-api (1).ipynb', 'jupyter-labs-spacex-data-collection-api (2).ipynb', 'jupyter-labs-spacex-data-collection-api.ipynb', 'jupyter-labs-webscraping.ipynb', 'KVWtBboJjzA7.128.mp3', 'Lab 1-20230503.zip', 'lab 4 release (1).zip', 'lab 4 release (2).zip', 'lab 4 release (3).zip', 'lab 4 release.zip', 'lab 4 solutions (1).zip', 'lab 4 solutions (2).zip', 'lab 4 solutions (3).zip', 'lab 4 solutions.zip', 'Lab 6 EventSchema-Tables Relationship (1).png', 'Lab 6 EventSchema-Tables Relationship.png', 'lab 7 release (1).zip', 'lab 7 release (2).zip', 'lab 7 release (3).zip', 'lab 7 release.zip', 'lab-booklet.pdf', 'lab01 (1).ipynb', 'lab01.ipynb', 'lab01_solution (1).ipynb', 'lab01_solution (2).ipynb', 'lab01_solution.ipynb', 'lab01_solution_(2).ipynb', 'lab02a release.ipynb', 'lab02a solution (1).ipynb', 'lab02a solution (2).ipynb', 'lab02a solution.ipynb', 'lab02a_solution_(2).ipynb', 'lab02b release.ipynb', 'lab02b solution (1).ipynb', 'lab02b solution (2).ipynb', 'lab02b solution (3).ipynb', 'lab02b solution.ipynb', 'lab02b_solution_(2).ipynb', 'lab03.zip', 'lab03_solution.zip', 'lab03_solutions (1) (1).ipynb', 'lab03_solutions (1).ipynb', 'lab03_solutions.ipynb', 'lab04 (1).ipynb', 'lab04.ipynb', 'lab05 release (1).ipynb', 'lab05 release.ipynb', 'lab05 solution (1).ipynb', 'lab05 solution (2) (1).ipynb', 'lab05 solution (2).ipynb', 'lab05 solution.ipynb', 'lab06a release.ipynb', 'lab06a solution (1).ipynb', 'lab06a solution (2).ipynb', 'lab06a solution.ipynb', 'lab06b release.ipynb', 'lab06b solution (1).ipynb', 'lab06b solution.ipynb', 'lab07.ipynb', 'Lab10ExA.m', 'Lab10ExB1.m', 'Lab10ExB2.m', 'Lab11ExA.m', 'Lab1ExA.m', 'Lab1ExB1.m', 'Lab1ExB2.m', 'Lab2ExA.m', 'Lab2ExB.m', 'Lab2ExC.m', 'Lab3ExA.fig', 'Lab3ExA.m', 'Lab3ExB.m', 'Lab3ExC.m', 'Lab4ExA.m', 'Lab5ExA.m', 'Lab6ExA.fig', 'Lab6ExA.m', 'Lab7ExA.m', 'Lab7ExB.m', 'Lab8ExA.m', 'Lab8ExC.m', 'Lab9ExA.m', 'Lab9ExB.m', 'labs-jupyter-spacex-Data wrangling (1).ipynb', 'labs-jupyter-spacex-Data wrangling.ipynb', 'labs.cognitiveclass.ai (1).pdf', 'labs.cognitiveclass.ai (2).pdf', 'labs.cognitiveclass.ai (3).pdf', 'labs.cognitiveclass.ai (4).pdf', 'labs.cognitiveclass.ai.pdf', 'labs.cognitiveclassCOUNTDISTINCTLIMIT.ai.pdf', 'labs.cognitiveclassSELECT.ai', 'Lab_1_1_Literals,_Variables,_Expressions_and_Types (1).ipynb', 'Lab_1_1_Literals,_Variables,_Expressions_and_Types (2).ipynb', 'Lab_1_1_Literals,_Variables,_Expressions_and_Types (3).ipynb', 'Lab_1_1_Literals,_Variables,_Expressions_and_Types.ipynb', 'Lab_2_1_Logic_and_Control_Flow.ipynb', 'Lab_2_2_Iteration .ipynb', 'Lab_3_1_Functions,_Classes_and_Methods.ipynb', 'Lab_3_2_Strings_and_Text_Files.ipynb', 'Lab_4_1_Lists,_Sets_and_Dictionaries.ipynb', 'Lab_4_2_Software_Errors.ipynb', 'Lab_5_1_Using_Modules.ipynb', 'Lab_5_2_Structuring_Code.ipynb', 'lab_jupyter_launch_site_location.ipynb', 'Learn Java Methods Introduction Part 1.png', 'Learn Java Methods Introduction Part 2.png', 'Learn Java Methods Introduction Part 3.png', 'Learn Java Methods Introduction Part 4.png', 'Learn Java_ Access, Encapsulation, and Static Methods Cheatsheet _ Codecademy.pdf', 'Learn Java_ Arrays and ArrayLists Cheatsheet _ Codecademy.pdf', 'Learn Java_ Conditionals and Control Flow Cheatsheet _ Codecademy.pdf', 'Learn Java_ Hello World Cheatsheet _ Codecademy.pdf', 'Learn Java_ Inheritance and Polymorphism Cheatsheet _ Codecademy.pdf', 'Learn Java_ Loops Cheatsheet _ Codecademy.pdf', 'Learn Java_ Object-Oriented Java Cheatsheet _ Codecademy.pdf', 'Learn Java_ String Methods Cheatsheet _ Codecademy.pdf', 'Learn Java_ Two-Dimensional Arrays Cheatsheet _ Codecademy.pdf', 'Learn Java_ Variables Cheatsheet _ Codecademy.pdf', 'Learn Python 3_ Classes Cheatsheet _ Codecademy.pdf', 'Learn Python 3_ Control Flow Cheatsheet _ Codecademy.pdf', 'Learn Python 3_ Dictionaries Cheatsheet _ Codecademy.pdf', 'Learn Python 3_ Files Cheatsheet _ Codecademy.pdf', 'Learn Python 3_ Functions Cheatsheet _ Codecademy.pdf', 'Learn Python 3_ Hello World Cheatsheet _ Codecademy.pdf', 'Learn Python 3_ Lists Cheatsheet _ Codecademy.pdf', 'Learn Python 3_ Loops Cheatsheet _ Codecademy.pdf', 'Learn Python 3_ Modules Cheatsheet _ Codecademy.pdf', 'Learn Python 3_ Python_ Code Challenges (Optional) Cheatsheet _ Codecademy.pdf', 'Learn Python 3_ Strings Cheatsheet _ Codecademy.pdf', 'Learn SQL_ Aggregate Functions Cheatsheet _ Codecademy.pdf', 'Learn SQL_ Manipulation Cheatsheet _ Codecademy.pdf', 'Learn SQL_ Multiple Tables Cheatsheet _ Codecademy.pdf', 'Learn SQL_ Queries Cheatsheet _ Codecademy.pdf', 'Lecture01.pdf', 'Lecture02 - Variables, Classes, Types and Selection.pdf', 'Lecture03 - Data Structures.pdf', 'lecture9.pptx', 'lecture_01 (1).pdf', 'lecture_01 (2).pdf', 'lecture_01.pdf', 'lecture_02.pdf', 'Life Expectancy.csv', 'life_expectancy.csv', 'Linear_equations_ch2.pdf', 'LinuxMint-AIE-VirusScanningAndBackups.ova', 'Locations (1).csv', 'Locations (2).csv', 'Locations (3).csv', 'Locations.csv', 'logo.png', 'Loops - Exercise.pdf', 'Loops - Review Sheet.pdf', 'Loops - Tutorial.pdf', 'Loop_and_Iteration__1_.pptx.pdf', 'lr_model.pkl', 'M1ExploreDataSet-lab.ipynb', 'M2DataWrangling-lab.ipynb', 'M3ExploratoryDataAnalysis-lab (1).ipynb', 'M3ExploratoryDataAnalysis-lab.ipynb', 'M4DataVisualization-lab (1).ipynb', 'M4DataVisualization-lab (2).ipynb', 'M4DataVisualization-lab.ipynb', 'm5_survey_data_technologies_normalised.csv', 'magic.xls', 'Mario Kart 64 - Rainbow Road [Remix] (1).mp3', 'Mario Kart 64 - Rainbow Road [Remix] (2).mp3', 'Mario Kart 64 - Rainbow Road [Remix] (3).mp3', 'Mario Kart 64 - Rainbow Road [Remix].mp3', 'mario64sky.jpg', 'MarioHealthBar.png', 'MarioKartLogo.png', 'massimiliano-bianchini-back-naked.jpg', 'mast10006-lecture-slides-2019-s1-print-version (1).pdf', 'mast10006-lecture-slides-2019-s1-print-version.pdf', 'mast10006-problem-booklet-2017 (1).pdf', 'mast10006-problem-booklet-2017.pdf', 'mast10007-lecture-slides-2018-s1.pdf', 'mast2000-9-s2-2019-problem-sheets.pdf', 'MAST20004_2019_Assign2(1).pdf', 'MAST20004_2019_Assign3.pdf', 'mast20009-vector-calculus-notes.pdf', 'MAST20026-RealAnalysis-Problems-2018s2.pdf', 'MAST30001 Assignment 1 2022 No Code.pdf', 'MAST30001 Assignment 2 2022 Michael Le.pdf', 'MAST30001 Exam 2022.pdf', 'Mast30001 final Assignment 1 2022.pdf', 'mast30001-2019-sols.pdf', 'MAST30001_2010_Exam_Sol.pdf', 'MAST30001_2012_Exam_Sol (1).pdf', 'MAST30001_2012_Exam_Sol.pdf', 'Mast30001_2013_Exam_Sol.pdf', 'Mast30001_2014_Exam.pdf', 'Mast30001_2014_Exam_Sol.pdf', 'Mast30001_2015_Exam(1).pdf', 'Mast30001_2015_Exam_Sol-1.pdf', 'Mast30001_2016_Exam.pdf', 'Mast30001_2018_Exam.pdf', 'Mast30001_2018_Exam_Sol.pdf', 'Mast30001_2019_Exam.pdf', 'MAST30001_2020_Exam_NoBox.pdf', 'MAST30001_2020_Exam_Sols.pdf', 'MAST30001_2020_Exam__1_.pdf (1).pdf', 'MAST30001_2020_Exam__1_.pdf.pdf', 'MAST30001_Assign1(1)(1)-1.pdf', 'MAST30001_Assign1(1)(1)-2 (1).pdf', 'MAST30001_Assign1(1)(1)-2.pdf', 'MAST30001_Assign1_2016_Sol.pdf', 'MAST30001_Assign1_2018_Sol-1 (1).pdf', 'MAST30001_Assign1_2018_Sol-1.pdf', 'MAST30001_Assign1_2019_Sol-1 (1).pdf', 'MAST30001_Assign1_2019_Sol-1.pdf', 'MAST30001_Assign1_2020_Sol (1).pdf', 'MAST30001_Assign1_2020_Sol.pdf', 'MAST30001_Assign1_2022.pdf', 'MAST30001_Assign2_2020-2.pdf', 'MAST30001_Assign2_2020_Sol-1.pdf', 'MAST30001_Assign2_2022-1.pdf', 'MAST30001_CTMC-1.pdf', 'MAST30001_DTMC-1.pdf', 'MAST30001_Exam_2022 (1).pdf', 'MAST30001_Exam_2022.pdf', 'MAST30001_Exam_2022_masked (1).pdf', 'MAST30001_Exam_2022_masked.pdf', 'MAST30001_Intro-2.pdf', 'MAST30001_PoissonProc-1 (1).pdf', 'MAST30001_PoissonProc-1.pdf', 'MAST30001_PoissonProc-1W5L1Annotated.pdf', 'MAST30001_PoissonProc_2021.pdf', 'MAST30001_Tute1-2.pdf', 'MAST30001_Tute1_Sol-2.pdf', 'MAST30001_Tute2-1 (1).pdf', 'MAST30001_Tute2-1.pdf', 'MAST30001_Tute2_Sol_2022.pdf', 'MAST30001_Tute3_2022.pdf', 'MAST30001_Tute4_2022.pdf', 'MAST30001_Tute7_2022.pdf', 'MAST30022_2021_Assign_1_Solutions-1.pdf', 'MAST30022_2021_Assign_2_Solutions.pdf', 'MAST30022_2021_Assign_3_Solutions (1).pdf', 'MAST30022_2021_Assign_3_Solutions.pdf', 'MAST30022_2021_Assign_4_Solutions.pdf', 'MAST30022_2021_EXAM_V2_QUESTIONS.pdf', 'MAST30027_2020-2.pdf', 'MAST30027_2021_new.pdf', 'MAST30027_2021_special (1).pdf', 'MAST30027_2021_special.pdf', 'MAST30027_Special_Exam_.pdf', 'MAST30030_Assign1_2020-2.pdf', 'MAST30030_Assign2_2020_updated-2.pdf', 'MAST30030_Assign3_2020.pdf', 'Master of Data Science Webinar_Term 2 2023.pdf', 'MAT4MDS Practice 2 Solutions Updates.pdf', 'MAT4MDS2020Q5.pdf', 'MAT4MDS2020Working.pdf', 'MAT4MDS2021Test (1).pdf', 'MAT4MDS2021Test.pdf', 'MAT4MDSExam2023.pdf', 'MAT4MDSprac10_2022.pdf.pdf', 'MAT4MDSprac11_2022_.pdf.pdf', 'MAT4MDSprac6_2022_s.pdf.pdf', 'MAT4MDSprac7_2022_s.pdf.pdf', 'MAT4MDSprac8_2022.pdf.pdf', 'MAT4MDS_2019.pdf.pdf', 'MAT4MDS_Ass1_21_sem2__1_.pdf.pdf', 'MAT4MDS_Ass2_21_sem2.pdf.pdf', 'MAT4MDS_assesment2_description.pdf', 'MAT4MDS_Practice 10_Questions.pdf', 'MAT4MDS_Practice 10_Worked Solution.pdf', 'MAT4MDS_Practice 11_Question.pdf', 'MAT4MDS_Practice 11_Worked Solutions.pdf', 'MAT4MDS_Practice 1_Worked Solution.pdf', 'MAT4MDS_Practice 2_Question.pdf', 'MAT4MDS_Practice 3_Question.pdf', 'MAT4MDS_Practice 4_Question.pdf', 'MAT4MDS_Practice 5_Question.pdf', 'MAT4MDS_Practice 5_Worked Solutions.pdf', 'MAT4MDS_Practice 7_Question.pdf', 'MAT4MDS_Practice 7_Worked Solutions.pdf', 'MAT4MDS_Practice 8_Question.pdf', 'MAT4MDS_Practice 8_Worked Solutions.pdf', 'MAT4MDS_Practice 9_Question.pdf', 'MAT4MDS_Practice 9_Worked Solution.pdf', 'MAT4MDS_Practice class 6_Answer.pdf', 'MAT4MDS_Practice class 6_Question.pdf', 'MAT4MDS_Pratice 3_Worked solution.pdf', 'MAT4MD_prac3.pdf.pdf', 'MAT4MD_prac3_solution.pdf.pdf', 'Math 1318 Time series assignment 2.Rmd', 'MATH1302_Assignment_3_Questions.pdf', 'MATH2319_ML_BigPicture.pdf', 'MCMC_CW (1).R', 'MCMC_CW (2).R', 'MCMC_CW (3).R', 'MCMC_CW (4).R', 'MCMC_CW.R', 'MCMC_MH (1).R', 'MCMC_MH.R', 'Medical Certidicate Toorak.pdf', 'Medical Certificate.pdf', 'Medical evidence (1).pdf', 'Medical evidence (2) (1).pdf', 'Medical evidence (2).pdf', 'Medical evidence.pdf', 'mementopython3-english.pdf', 'MFI-Radiology-Request-Michael Le.pdf', 'MICHAEL D LE COVID-19 Digital Certificate 20220624.pdf', 'Michael D Le.pdf', 'Michael Le (1).pdf', 'Michael Le AI Oxford Online Assessment 1 (1).docx', 'Michael Le AI Oxford Online Assessment 1 (2).docx', 'Michael Le AI Oxford Online Assessment 1 (3).docx', 'Michael Le AI Oxford Online Assessment 1 (4).docx', 'Michael Le AI Oxford Online Assessment 1.docx', 'Michael Le AI Oxford Online Assessment 2 (1).pdf', 'Michael Le AI Oxford Online Assessment 2 (2).pdf', 'Michael Le AI Oxford Online Assessment 2 (3).pdf', 'Michael Le AI Oxford Online Assessment 2 (4).pdf', 'Michael Le AI Oxford Online Assessment 2.pdf', 'Michael Le Cover Letter IAG.docx', 'Michael Le Data Analyst Resume .docx', 'Michael Le Data Analyst Resume.docx', 'Michael Le Data Analyst Reusme (1).docx', 'Michael Le Data Analyst Reusme.docx', 'Michael Le Data Scientist Resume.docx', 'Michael Le Resume (1).docx', 'Michael Le Resume (2).docx', 'Michael Le Resume 15-08-2022 UPDATED (1).docx', 'Michael Le Resume 15-08-2022 UPDATED.docx', 'Michael Le Resume 20-6-2022 Updated (1).docx', 'Michael Le Resume 20-6-2022 Updated.docx', 'Michael Le Resume 24-7-2022 UPDATED.docx', 'Michael Le Resume 4-7-2022 UPDATED.docx', 'Michael Le Resume 6-6-2022 Updated (1).pdf', 'Michael Le Resume 6-6-2022 Updated.pdf', 'Michael Le Resume.docx', 'Michael Le Tesla Advisor at Tesla.docx', \"Michael Le's CV (1).doc\", \"Michael Le's CV.doc\", \"Michael Le's Resume.docx\", \"Michael Le's Resume.pdf\", 'Michael Le.pdf', 'Michael+Le+Data+Analyst+Resume+.docx', 'Michael+Le+Resume+(1).docx', 'MichaelLe3840463.pdf', 'MichaelLeAssignment1 (1) (1) (1).ipynb', 'MichaelLeAssignment1 (1) (1).ipynb', 'MichaelLeAssignment1 (1).ipynb', 'MichaelLeAssignment1.ipynb', 'MichaelLeMAST30013-21Exam.pdf', 'Michael_Le_-_Data_Entry_Customer_Service.pdf', 'Michael_Le_Resume (1).docx', 'Michael_Le_Resume (1).PDF', 'Michael_Le_Resume (2).pdf', 'Michael_Le_Resume.DOCX', 'Michael_Le_Resume.PDF', \"mikel0217's profile _ Codecademy.pdf\", 'ML0101EN-Clus-DBSCN-weather-py-v1.ipynb', 'ML0101EN-Proj-Loan-py-v1.ipynb', 'ML0101EN-RecSys-Collaborative-Filtering-movies-py-v1.ipynb', 'ML0101EN-RecSys-Content-Based-movies-py-v1.ipynb', 'ML_Chapter1.pdf', 'ML_Chapter2_and_3 (1).pdf', 'ML_Chapter5.pdf', 'ML_Chapter8.pdf', 'model_answers_2019_MAT4MDS.pdf.pdf', 'Module 1.pdf', 'Module 1_1.1_notebook_quizz.ipynb', 'Module 1_PY0101EN-1-1-Write_your_first_python_code.ipynb', 'Module 1_PY0101EN-1-2-Strings.ipynb', 'Module 2 CSE4DBF.pdf', 'Module 2 CSE4DBF.pptx', 'Module 2_ML0101EN-Reg-Mulitple-Linear-Regression-Co2.jupyterlite (1).ipynb', 'Module 2_ML0101EN-Reg-Mulitple-Linear-Regression-Co2.jupyterlite.ipynb', 'Module 2_ML0101EN-Reg-NoneLinearRegression.jupyterlite.ipynb', 'Module 2_ML0101EN-Reg-Polynomial-Regression-Co2.jupyterlite.ipynb', 'Module 2_ML0101EN-Reg-Simple-Linear-Regression-Co2.jupyterlite.ipynb', 'Module 2_PY0101EN-2-1-Tuples.ipynb', 'Module 2_PY0101EN-2-2-Lists.ipynb', 'Module 2_PY0101EN-2-3-Sets.ipynb', 'Module 2_PY0101EN-2-4-Dictionaries.ipynb', 'Module 3 CSE4DBF (1).pdf', 'Module 3 CSE4DBF.pdf', 'Module 3 CSE4DBF.pptx', 'Module 3 Functions, objects, string and files Exercises.ipynb', 'Module 3_3-1.2ExcecptionHandling.ipynb', 'Module 3_ML0101EN-Clas-Decision-Trees-drug.jupyterlite.ipynb', 'Module 3_ML0101EN-Clas-K-Nearest-neighbors-CustCat.jupyterlite.ipynb', 'Module 3_ML0101EN-Clas-Logistic-Reg-churn.jupyterlite.ipynb', 'Module 3_ML0101EN-Clas-SVM-cancer.jupyterlite.ipynb', 'Module 3_PY0101EN-3-1-Conditions.ipynb', 'Module 3_PY0101EN-3-2-Loops.ipynb', 'Module 3_PY0101EN-3-3-Functions .ipynb', 'Module 3_PY0101EN-3-4-Classes.ipynb', 'Module 4 Data structures and software errors Exercises.ipynb', 'Module 4_ML0101EN-Clus-Hierarchical-Cars.jupyterlite.ipynb', 'Module 4_ML0101EN-Clus-K-Means-Customer-Seg.jupyterlite.ipynb', 'Module 4_PY0101EN-4-1-ReadFile.ipynb', 'Module 4_PY0101EN-4-2-WriteFile (1).ipynb', 'Module 4_PY0101EN-4-2-WriteFile.ipynb', 'Module 4_PY0101EN-4-3-LoadData.ipynb', 'Module 5 CSE4DBF (1).pdf', 'Module 5 CSE4DBF.pdf', 'Module 5 CSE4DBF.pptx', 'Module 5_PY0101EN-5-1-Numpy1D.ipynb', 'Module 5_PY0101EN-5-2-Numpy2D.ipynb', 'Module 5_PY0101EN-5.4_WorkingWithDifferentFileTypes (1).ipynb', 'Module 5_PY0101EN-5.4_WorkingWithDifferentFileTypes.ipynb', 'Module 6 CSE4DBF.pdf', 'Module 6 CSE4DBF.pptx', 'Module slides-20230617.zip', 'module01-notes.pdf', 'module01-slides-print.pdf', 'module02-notes.pdf', 'module03-notes.pdf', 'module03-slides-print.pdf', 'module04-notes (1).pdf', 'module04-notes.pdf', 'module05-notes (1).pdf', 'module05-notes.pdf', 'module06-notes.pdf', 'module06-slides-print.pdf', 'module07-notes.pdf', 'module08-notes.pdf', 'module09-notes.pdf', 'module10-notes.pdf', 'module11-notes.pdf', 'Montgomery_Fleet_Equipment_Inventory_FA_PART_1_START.csv', 'Montgomery_Fleet_Equipment_Inventory_FA_PART_2_START.xlsx', 'Multiplication 0 up to 12 times Jarrod Maths Assessment.pdf', 'N64 Rainbow Road - Mario Kart 8 Deluxe OST.mp3', 'National_Police_Check-9762352-1680480514-Criminal_History_Certificate-MichaelLe-V3.pdf', 'naturePack_unity.unitypackage', 'NavMesh.asset', 'nightsky.jpg', 'Normalization (1).pdf', 'Normalization (2).pdf', 'Normalization (3).pdf', 'Normalization.pdf', 'NormalizationExercise-SS (1).pdf', 'NormalizationExercise-SS (2).pdf', 'NormalizationExercise-SS (3).pdf', 'NormalizationExercise-SS.pdf', 'notebook test .ipynb', 'NVL-TEMPTABLES (1).pdf', 'NVL-TEMPTABLES (2).pdf', 'NVL-TEMPTABLES (3).pdf', 'NVL-TEMPTABLES (4).pdf', 'NVL-TEMPTABLES (5).pdf', 'NVL-TEMPTABLES.pdf', 'OfficeSetup.exe', 'OnlyMP3.to - Super Mario 64 HD - Bob-omb Battlefield-G7TyGF54d-w-192k-1649593275852.mp3', 'OnlyMP3.to - Super Mario 64 Music - File Select EXTENDED--mtcfkWDbOU-192k-1647372738191.mp3', 'OnlyMP3.to - Super Mario 64 Soundtrack   Star Get-iduA10ceOTA-192k-1649594993958.mp3', 'OnlyMP3.to - Super Mario 64 Title Screen-2ccwFGUL1SU-192k-1649765153721.mp3', 'Operating Systems and Virtual Machines - Android Studio 3.0 Tutorial.pdf', 'Operating Systems and Virtual Machines - Android Studio 3.1 Tutorial.pdf', 'Operating Systems and Virtual Machines.pdf', 'Operators - Exercise.pdf', 'Operators - Review Sheet (1).pdf', 'Operators - Review Sheet.pdf', 'Operators - Tutorial.pdf', 'order-154306.pdf', 'OS Diagnostics - Part 1 - Introduction.pdf', 'OS Diagnostics - Part 2 - Specifications and Requirements - Exercise.docx', 'OS Diagnostics - Part 2 - Specifications and Requirements.pdf', 'OS Diagnostics - Part 3 - Diagnostic and Admin Tools.pdf', 'OS Diagnostics - Part 4 - Common OS Maintenance - Exercise.docx', 'OS Diagnostics - Part 4 - Common OS Maintenance.pdf', 'p4ds_lecture01.pdf', 'p4ds_lecture06.pptx', 'p4ds_lecture09.pdf', 'packer-supplier-combined-fcl-lcl-packing-declaration (1) (1).docx', 'packer-supplier-combined-fcl-lcl-packing-declaration (1).docx', 'packer-supplier-combined-fcl-lcl-packing-declaration.docx', 'Packing Declaration - Example.pdf', 'pandoc-3.1.3-windows-x86_64 (2).msi', 'Particle Systems - Lecture.pdf', 'Particle Systems - Tutorial.pdf', 'PaymentHistoryCentrallink.png', 'PD Security Systems Access Control Administrator.pdf', 'Personal Academic Transcript 7679016 21689299 03-May-2023 13 51 28.pdf', 'Personal_Monthly_Expenditure_Lab3.xlsx', 'Personal_Monthly_Expenditure_Lab4.xlsx', 'Personal_Monthly_Expenditure_Lab6.xlsx', 'PETRESCUE-CREATE.sql', 'Physics in Unity - Example Project.zip', 'Physics in Unity - Lecture.pdf', 'Physics in Unity - Tutorial (1).pdf', 'Physics in Unity - Tutorial Project - Starter.zip', 'Physics in Unity - Tutorial.pdf', 'PI GOMA-22-006 (Sonic).pdf', 'PikPng.com_mario-coin-png_1691804.png', 'pinkbombomb.jpg', 'Postmortem.pdf', 'Prac 1 -Model_Solution_2.pdf', 'Practical8Q1.png', 'Practice_exam_MAT4MDS.pdf.pdf', 'Practice_Test_for_the_format_of_Final_Test_Solutions.docx.pdf', 'Practice_Test_for_the_format_of_Final_Test__Attempt_review__2_.pdf.pdf', 'Practise Assignment.pdf', 'Preventative Maintenance - Part 1 - Introduction.pdf', 'Preventative Maintenance - Part 2 - Problems, Symptoms and Prevention - Exercise.docx', 'Preventative Maintenance - Part 2 - Problems, Symptoms and Prevention.pdf', 'Preventative Maintenance - Part 3 - Maintenance, Testing and Troubleshooting- Exercise.docx', 'Preventative Maintenance - Part 3 - Maintenance, Testing and Troubleshooting.pdf', 'Preventative Maintenance - Part 4 - ICT Systems - Exercise.docx', 'Preventative Maintenance - Part 4 - ICT Systems.pdf', 'problem-sheet-booklet-2000-4-2019 (1).pdf', 'problem-sheet-booklet-2000-4-2019.pdf', 'ProblemSheet1_MAST30030_2020.pdf', 'ProblemSheet2_MAST30030_2020.pdf', 'ProblemSheet3_MAST30030_2020.pdf', 'ProblemSheet4_MAST30030_2020.pdf', 'ProblemSheet5_MAST30030_2020.pdf', 'ProblemSheet6_MAST30030_2020.pdf', 'ProblemSheet7_MAST30030_2020.pdf', 'Programming Assessment Written.pdf', 'Programming_Assignment_1_Michael_Le (1).ipynb', 'Programming_Assignment_1_Michael_Le (2).ipynb', 'Programming_Assignment_1_Michael_Le.ipynb', 'Programming_Assignment_2 (1).ipynb', 'Programming_Assignment_2 (2).ipynb', 'Programming_Assignment_2 (3).ipynb', 'Programming_Assignment_2.ipynb', 'Programming_Assignment_T2 (1).ipynb', 'Programming_Assignment_T2 (2).ipynb', 'Programming_Assignment_T2 (3).ipynb', 'Programming_Assignment_T2.ipynb', 'Project Description(5).pdf', 'Project Planning - Exercises.pdf', 'Project Planning.pdf', 'project1.ipynb', 'pure-white-background-85a2a7fd.jpg', 'PY0101EN - Module 1 - Types-fv1-en.txt', 'PY0101EN-2-2-Lists.ipynb', 'PY0101EN-4-2-WriteFile.ipynb', 'PY0101EN-5.2_API_2.ipynb', 'PY0101EN-5.3_Requests_HTTP (1).ipynb', 'PY0101EN-5.3_Requests_HTTP.ipynb', 'Python Cheat Sheet - The Basics edX.pdf', 'Python Cheat Sheet the Basics (1).pdf', 'Python Cheat Sheet the Basics.pdf', 'Python.txt', 'Queues_2021.pdf', 'Quiz1_solution.pdf', 'Quiz2_solution.pdf', 'R-3.6.3-win (1).exe', 'R-3.6.3-win (2).exe', 'R-3.6.3-win (3).exe', 'R-3.6.3-win.exe', 'R-4.0.0-win.exe', 'R-4.0.5-win.exe', 'R-4.1.2-win (1).exe', 'R-4.1.2-win.exe', 'R-4.1.3-win.exe', 'R-4.1.3patched-win.exe', 'rainbowpanel.jpg', 'randexpo.m', 'randpois.m', 'randunifd.m', 'rand_discrete.m', 'real-analysis-lecture-notes-2019-sem-1.pdf', 'RealAnalysisPartialLectureNotes-2018-SEMESTER-21.pdf', 'realestate-com-au-logo-vector.png', 'RedCoinImage.jpg', 'Reference Report for Michael Le - 2024 AGGP Data Stream.pdf', 'Reflective Journal 3 ENGR10004.docx', 'RelAlgebraExercise-solution (1).pdf', 'RelAlgebraExercise-solution (2).pdf', 'RelAlgebraExercise-solution (3).pdf', 'RelAlgebraExercise-solution (4).pdf', 'RelAlgebraExercise-solution.pdf', 'RelationalAlgebra (1).pdf', 'RelationalAlgebra (2).pdf', 'RelationalAlgebra (3).pdf', 'RelationalAlgebra (4).pdf', 'RelationalAlgebra.pdf', 'RelationalDatabaseDesign-2023 (1).pdf', 'RelationalDatabaseDesign-2023.pdf', 'RelationalDatabaseDesign-Exercises-SS-2023 (1).pdf', 'RelationalDatabaseDesign-Exercises-SS-2023 (2).pdf', 'RelationalDatabaseDesign-Exercises-SS-2023 (3).pdf', 'RelationalDatabaseDesign-Exercises-SS-2023.pdf', 'RelationalDatabaseLanguageSQL (1).pdf', 'RelationalDatabaseLanguageSQL (2).pdf', 'RelationalDatabaseLanguageSQL (3).pdf', 'RelationalDatabaseLanguageSQL (4).pdf', 'RelationalDatabaseLanguageSQL (5).pdf', 'RelationalDatabaseLanguageSQL (6).pdf', 'RelationalDatabaseLanguageSQL (7).pdf', 'RelationalDatabaseLanguageSQL (7).pptx', 'RelationalDatabaseLanguageSQL.pdf', 'Renewal_2021.pdf', 'report_le_6048601-3452113 (1).pdf', 'report_le_6048601-3452113 (2) (1).pdf', 'report_le_6048601-3452113 (2).pdf', 'report_le_6048601-3452113.pdf', 'report_le_7337734-3959327.pdf', 'Research Fellow in Applied Probability Cover Letter.docx', 'results.csv', 'Resume Michael Le  (1).docx', 'Resume Michael Le .docx', 'Resume.docx', 'resume2022.pdf', 'Ross_Prob_Models (1).pdf', 'Ross_Prob_Models (2).pdf', 'Ross_Prob_Models (3).pdf', 'Ross_Prob_Models (4).pdf', 'Ross_Prob_Models.pdf', 'Ross_Prob_ModelsAnnotated2022MLS22022mast30001.pdf', 'RSA workbook.pdf', 'RStudio-2021.09.2-382.exe', 'RStudio-2022.02.0-443 (1).exe', 'RStudio-2022.02.0-443.exe', 'RStudio-2022.02.1-461.exe', 'Sample Assessment 3.pdf', 'SampleExam-Questions Solution.pdf', 'Screen Shot 2021-11-02 at 11.06.38 pm.png', 'Screenshot 2023-05-03 154909.png', 'Screenshot 2023-06-02 at 10.55.19.png', 'Screenshot 2023-06-04 at 14.50.39.png', 'Screenshots 2.pdf', 'Scripting Variables and Operators - Exercises Ocean Rescue.pdf', 'Scripting Variables and Operators - Exercises.pdf', 'Scripting Variables and Operators - Handout.pdf', 'Scripting Variables and Operators - Tutorial (1).pdf', 'Scripting Variables and Operators - Tutorial Ocean Rescue.pdf', 'Scripting Variables and Operators - Tutorial.pdf', 'sculpture 1.jpg', 'sculpture 2.jpg', 'sculpture 3.jpg', 'sculpture 4.jpg', 'sculpture 5.jpg', 'Second-Assignment.ipynb', 'Second_practice_exam_MAT4MDS.pdf.pdf', 'Segregation-of Dangerous-Goods.docx', 'Set10questions.pdf', 'Set10sol(2).pdf', 'Set11questions.pdf', 'Set11sol.pdf', 'set1sol.pdf', 'Set2sol.pdf', 'Set3sol.pdf', 'Set4sol.pdf', 'Set5sol.pdf', 'set6sol.pdf', 'Set7sol(2).pdf', 'Set8sol(2).pdf', 'Set9questions.pdf', 'Set9sol.pdf', 'Sidekick Casual Employment Agreement-AU.pdf', 'sidekicker.png', 'Sidekicker_OH_S_Induction-certificate (1).png', 'Sidekicker_OH_S_Induction-certificate.png', 'Simple FPS.zip', 'Simple_API_2__v2.ipynb', 'SIT742_2021_T1_unitguide.PDF', 'SIT742_Modern_Data_Science_2019_T1_unit_guide.PDF', 'SIT771_2021_T3_unitguide.PDF', 'SIT771_Object-Oriented_Development_2011_T1_unit_guide.PDF', 'SIT772_2021_T3_unitguide.PDF', 'SIT773_T2_2021_Unit_Guide.PDF', 'SIT774_2018_T1_FutureLearn_unit_guide.PDF', 'SIT788_2021_T1_unitguide (1).PDF', 'SIT788_2021_T1_unitguide.PDF', 'SITHFAB0021 Provide RSA - online assessment - February 2023 - V5 (1).docx', 'SITHFAB0021 Provide RSA - online assessment - February 2023 - V5.docx', 'skew (2).RData', 'SlackSetup.exe', 'Slides-Section_1_probability.pdf', 'Slides-Section_2_DTMC.pdf', 'SMatchSchema.sql', 'Social Media Tools - Exercises.pdf', 'Social Media Tools.pdf', 'sonichead.pdf', 'SOS REGISTRATION FORM - Dec 2018.pdf', 'spacex_dash_app.py', 'SpaceX_Machine Learning Prediction_Part_5 (1).ipynb', 'SpaceX_Machine Learning Prediction_Part_5.ipynb', 'special_exam_2021.pdf', 'SQL handout (1).pdf', 'SQL handout (2).pdf', 'SQL handout (3).pdf', 'SQL handout (4).pdf', 'SQL handout.pdf', 'SQL Module 1 labs.cognitiveclass (1).ai', 'SQL Module 1 labs.cognitiveclass.ai', 'SQLExercise-PastTest (1).pdf', 'SQLExercise-PastTest (2).pdf', 'SQLExercise-PastTest (3).pdf', 'SQLExercise-PastTest.pdf', 'src0 (1).zip', 'src0.zip', 'src1.zip', 'STAR_Method_Interviews.pdf', 'State-action value function example.ipynb', 'StatementofResults-998211-02_Aug_2022 (1).pdf', 'StatementofResults-998211-02_Aug_2022.pdf', 'StatementofResults-998211-26_Nov_2022 (1).pdf', 'StatementofResults-998211-26_Nov_2022 (2).pdf', 'StatementofResults-998211-26_Nov_2022 (2)_270322_20230307.pdf', 'StatementofResults-998211-26_Nov_2022 (3).pdf', 'StatementofResults-998211-26_Nov_2022.pdf', 'SteamSetup.exe', 'stochastic-modelling-exam-notes.pdf', 'StoredProcedures (1).pdf', 'StoredProcedures (2).pdf', 'StoredProcedures-Exercise-SS (1).pdf', 'StoredProcedures-Exercise-SS (2).pdf', 'StoredProcedures-Exercise-SS (3).pdf', 'StoredProcedures-Exercise-SS (4).pdf', 'StoredProcedures-Exercise-SS.pdf', 'StoredProcedures-ExtraSlides (1).pdf', 'StoredProcedures-ExtraSlides (2).pdf', 'StoredProcedures-ExtraSlides (3).pdf', 'StoredProcedures-ExtraSlides (4).pdf', 'StoredProcedures-ExtraSlides (5).pdf', 'StoredProcedures-ExtraSlides.pdf', 'StoredProcedures.pdf', 'Student Handbook 2022-23.pdf', 'su684-2003en-f (4).pdf', 'Submit your Unique Student Identifier (USI).pdf', 'Submit your Unique Student Identifier (USI)_270322_20230307.pdf', 'Super Mario 64 HD - Bob-omb Battlefield (1).mp3', 'Super Mario 64 HD - Bob-omb Battlefield.mp3', 'Super Mario 64 OST - Level Select (128 kbps).mp3', 'Super Mario 64 Soundtrack   Star Get (1).mp3', 'Super Mario 64 Soundtrack   Star Get (128 kbps).mp3', 'Super Mario 64 Soundtrack   Star Get.mp3', 'Super Mario 64_ Main Menu Select Screen (128 kbps).mp3', 'Superfunddetails.jpg', 'supermario64menu.jpg', 'Sustainability - Tutorial.pdf', 'Sustainability.pdf', 'svm_model.pkl', 'T2 2023 MAT4MDS  Exam Instructions.pdf', 'TableauPublicDesktop-64bit-2022-1-2.exe', 'Tank Game Models.unitypackage', 'Task 1 - Queries.sql', 'Task 2 - StoredProcFunc (1).sql', 'Task 2 - StoredProcFunc.sql', 'Task 3 - Triggers.sql', 'Task_Initial_fixed.pdf.pdf', 'TeamsSetupx64_s_8DB0FE5441E6C90-1-0_c_w_.exe', 'Teams_windows_x64.exe', 'Teleport Click Example.zip', 'Term-3-2023-Supplementary-Special-Final-exam-Timetable-V1.pdf', 'Terrain in Unity - Example Project Part 1 (1).zip', 'Terrain in Unity - Example Project Part 1.zip', 'Terrain in Unity - Example Project Part 2 (1).zip', 'Terrain in Unity - Example Project Part 2 (2).zip', 'Terrain in Unity - Example Project Part 2 (3).zip', 'Terrain in Unity - Example Project Part 2 (4).zip', 'Terrain in Unity - Example Project Part 2.zip', 'Terrain in Unity - Lecture.pdf', 'Terrain in Unity - Tutorial (1).pdf', 'Terrain in Unity - Tutorial.pdf', 'Texturing - Tutorial (1).pdf', 'Texturing - Tutorial.pdf', 'Texturing.pdf', 'The Video Game Industry - Exercises.pdf', 'The Video Game Industry.pdf', 'Third Assignment.ipynb', 'timesheet - le, michael - fujifilm data management solutions - aec (29.5.2022)-89807.pdf', 'timetable-998211.txt', 'timetable-term2latrobe2023.pdf', 'Toggle between different report type and year.pdf', 'Top-k-Query (1).pdf', 'Top-k-Query (2).pdf', 'Top-k-Query.pdf', 'Traversing 2D Arrays Introduction Part 1.png', 'Traversing 2D Arrays Introduction Part 2.png', 'Traversing 2D Arrays Introduction Part 3.png', 'Traversing 2D Arrays Introduction Part 4.png', 'Traversing 2D Arrays Introduction Part 5.png', 'Traversing 2D Arrays Introduction Part 6.png', 'Traversing 2D Arrays Introduction Part 7.png', 'Triggers (1).pdf', 'Triggers (2).pdf', 'Triggers (3).pdf', 'Triggers (4).pdf', 'Triggers-ExtraSlides (1).pdf', 'Triggers-ExtraSlides (2).pdf', 'Triggers-ExtraSlides (3).pdf', 'Triggers-ExtraSlides (4).pdf', 'Triggers-ExtraSlides.pdf', 'Triggers.pdf', 'TSP_2 (1).xlsx', 'TSP_2.xlsx', 'tumblr_pz0c07csQS1xcxa19.mp4', 'Tutorial - Operate System Diagnostics.pdf', 'Tutorial - Preventative Maintenance Template.pdf', 'Tutorial - Virus Scanning And Backups (1).pdf', 'Tutorial - Virus Scanning And Backups.pdf', 'Tutorial 3 Solutions.pdf', 'Tutorial 6 Solutions.pdf', 'Tutorial 8 Sheet.pdf', 'tutorial-week02-problems.pdf', 'tutorial-week02-solutions (1).pdf', 'tutorial-week03-problems.pdf', 'tutorial-week03-solutions (2).pdf', 'tutorial-week04-problems.pdf', 'tutorial-week04-solutions.pdf', 'tutorial-week05-problems.pdf', 'tutorial-week05-solutions.pdf', 'tutorial-week06-problems.pdf', 'tutorial-week06-solutions.pdf', 'tutorial-week07-problems.pdf', 'tutorial-week07-solutions.pdf', 'tutorial-week08-problems.pdf', 'tutorial-week08-solutions.pdf', 'tutorial-week09-problems.pdf', 'tutorial-week09-solutions (1).pdf', 'tutorial-week10-problems.pdf', 'tutorial-week10-solutions.pdf', 'tutorial-week11-problems.pdf', 'tutorial-week11-solutions.pdf', 'tutorial-week12-problems.pdf', 'tutorial-week12-solutions (1).pdf', 'tutorial_10_solutions.pdf', 'tutorial_11_solutions.pdf', 'tutorial_1_solns-2.pdf', 'tutorial_2_solutions.pdf', 'tutorial_3_solutions.pdf', 'tutorial_4_solutions.pdf', 'tutorial_5_solutions.pdf', 'tutorial_6_solutions.pdf', 'tutorial_7_solutions.pdf', 'tutorial_8_solutions.pdf', 'tutorial_9_solutions.pdf', 'ugl_datasets.ipynb', 'Unigine_Heaven-4.0.exe', 'unimelbgradorder (1).pdf', 'unimelbgradorder (2).pdf', 'unimelbgradorder.pdf', 'UnityHubSetup.exe', 'UniversalCapturePersonalAU_6.0.747612288.msi', 'Untitled9.ipynb', 'User Guide HOBAN Temps.pdf', 'Variables - Exercises.pdf', 'Variables - Online Exercises.pdf', 'Variables - Review Sheet.pdf', 'Variables - Using Variables - Tutorial.pdf', 'Variables.pdf', 'VectorCalculusRevision.pdf', 'Verification of Medical Conditions (1) (1).pdf', 'Verification of Medical Conditions (1).pdf', 'Verification of Medical Conditions.pdf', 'videos.zip', 'Viruses - Part 1 - Introduction.pdf', 'Viruses - Part 2 - Types of Infections.pdf', 'Viruses - Part 3 - Case Studies.pdf', 'Viruses - Part 3 - Types of Infections & Case Studies - Exercise.docx', 'Viruses - Part 4 - Prevention and Maintenance - Exercise.docx', 'Viruses - Part 4 - Prevention and Maintenance.pdf', 'Vis-Grow Resume Example.docx', 'Vis-Grow Resume Template.docx', 'VISGROW RESUME MICHAEL LE.docx', 'VisualStudioSetup (2).exe', 'VSCodeUserSetup-x64-1.75.1.exe', 'vs_Community.exe', 'vs_community__81f7640e45c442aa971e29b0069db543.exe', 'W1-Topic0-Overview-2023 Term 3.pdf', 'W1-Topic1-IntroductionDatabaseTechnologies-2023 (1) (1).pptx', 'W1-Topic1-IntroductionDatabaseTechnologies-2023 (1).pdf', 'W1-Topic1-IntroductionDatabaseTechnologies-2023 (1).pptx', 'W1-Topic1-IntroductionDatabaseTechnologies-2023.pdf', 'W1-Topic2-RelationalDatabaseModels-2023 (1).pdf', 'W1-Topic2-RelationalDatabaseModels-2023 (1).pptx', 'W1-Topic2-RelationalDatabaseModels-2023.pdf', 'watercraftPack.unitypackage', 'Web capture_12-5-2022_215426_cf-courses-data.s3.us.cloud-object-storage.appdomain.cloud.jpeg', 'Web capture_13-5-2022_224942_cf-courses-data.s3.us.cloud-object-storage.appdomain.cloud.jpeg', 'Web capture_13-5-2022_95650_cf-courses-data.s3.us.cloud-object-storage.appdomain.cloud.jpeg', 'Web capture_5-5-2022_202728_cf-courses-data.s3.us.cloud-object-storage.appdomain.cloud.jpeg', 'Web capture_5-5-2022_202937_cf-courses-data.s3.us.cloud-object-storage.appdomain.cloud.jpeg', 'Web capture_6-5-2022_113651_cf-courses-data.s3.us.cloud-object-storage.appdomain.cloud.jpeg', 'Web capture_6-5-2022_121133_bs2ipcul0apon0jufi80lite.db2.cloud.ibm.com.jpeg', 'Web capture_6-5-2022_121229_bs2ipcul0apon0jufi80lite.db2.cloud.ibm.com.jpeg', 'Web capture_6-5-2022_121954_bs2ipcul0apon0jufi80lite.db2.cloud.ibm.com.jpeg', 'Web capture_6-5-2022_122122_bs2ipcul0apon0jufi80lite.db2.cloud.ibm.com.jpeg', 'Web capture_6-5-2022_194425_bs2ipcul0apon0jufi80lite.db2.cloud.ibm.com.jpeg', 'Web capture_6-5-2022_194515_bs2ipcul0apon0jufi80lite.db2.cloud.ibm.com.jpeg', 'Web capture_6-5-2022_194642_bs2ipcul0apon0jufi80lite.db2.cloud.ibm.com.jpeg', 'Web capture_6-5-2022_19464_bs2ipcul0apon0jufi80lite.db2.cloud.ibm.com.jpeg', 'Web capture_6-5-2022_194731_bs2ipcul0apon0jufi80lite.db2.cloud.ibm.com.jpeg', 'Web capture_7-5-2022_11118_bs2ipcul0apon0jufi80lite.db2.cloud.ibm.com.jpeg', 'Web capture_7-5-2022_11161_mail.google.com.jpeg', 'Web capture_7-5-2022_111857_www.hoban.com.au.jpeg', 'Web capture_7-5-2022_1122_bs2ipcul0apon0jufi80lite.db2.cloud.ibm.com.jpeg', 'Web capture_7-5-2022_11234_bs2ipcul0apon0jufi80lite.db2.cloud.ibm.com.jpeg', 'Web capture_7-5-2022_1130_bs2ipcul0apon0jufi80lite.db2.cloud.ibm.com.jpeg', 'Web capture_7-5-2022_11854_www.coursera.org.jpeg', 'Web capture_7-5-2022_16507_labs.cognitiveclass.ai.jpeg', 'Web capture_7-5-2022_171129_www.coursera.org.jpeg', 'Web capture_8-5-2022_135812_cf-courses-data.s3.us.cloud-object-storage.appdomain.cloud.jpeg', 'Web capture_8-5-2022_14121_cf-courses-data.s3.us.cloud-object-storage.appdomain.cloud.jpeg', 'Web Development - Exercise.pdf', 'Web Development - How Web Sites Work.pdf', 'Web Development - Tutorial.pdf', 'Web Development - Unity WebGL.pdf', 'Web Development - Wordpress.pdf', 'Web-Scraping-Lab (1).ipynb', 'Web-Scraping-Lab.ipynb', 'Web-Scraping-Review-Lab.ipynb', 'WebScraping_Review_Lab (1).ipynb', 'WebScraping_Review_Lab (2).ipynb', 'WebScraping_Review_Lab (3).ipynb', 'WebScraping_Review_Lab.ipynb', 'Week 1 Lecture _ Introduction to Programming.pdf', 'Week 2 (1).pdf', 'Week 2 Lecture Comparisions and Boolean Logic.pdf', 'Week 2.pdf', 'Week 3 Harvard EdX Statistics and R.Rmd', 'Week 3_PPT (1).pdf', 'Week 3_PPT.pdf', 'Week 4.pdf', 'Week05.pdf', 'Week06.pdf', 'Week4_Insert_Update_SQLite.ipynb', 'Welcome to the Data Engineer Career Path_ Welcome to the Data Engineer Career Path Cheatsheet _ Codecademy.pdf', 'Wii U - Mario Kart 8 - Slick & Cyber Slick Tires.zip', 'Wii U - Mario Kart 8 - Standard Kart.zip', 'Workbooks+and+Datasources (1).zip', 'Workbooks+and+Datasources.zip', 'Workplace Health and Safety - Tutorial.docx', 'Workplace Health and Safety - Tutorial.pdf', 'Workplace Health and Safety.pdf', 'Workshop 2 handout(2).pdf', 'www.KeepVid.to--Super-Mario-64-Bob-omb-Battlefield-Remix-www-youtube-com-8d163914ebd7f590840bb2cd71c73453-audio.mp3', 'Y2Mate.is - inabakumori - Anticyclone-qU0Rvzemabw-48k-1648541923835.mp3', 'Yearly Airline Delay Report 5 charts.pdf', 'zoom_0_Trim.mp4 - transcript.txt', 'Zoom_cm_f8swuvtkZ9vvrZo4_mz0rEtNwt1uiVCANBKQ9qIaCZB956YcSw8jRx@LJeYz+3Wf5PloTHh_ke8b33cb4da6998df_.exe', '~$chael Le Resume.docx', '~$IBM Data Science Capstone Final Presentation .pptx', '~WRL0005.tmp']\n"
     ]
    }
   ],
   "source": [
    "import os\n",
    "\n",
    "cwd = os.getcwd()  # Get the current working directory (cwd)\n",
    "files = os.listdir(cwd)  # Get all the files in that directory\n",
    "print(\"Files in %r: %s\" % (cwd, files))"
   ]
  },
  {
   "cell_type": "code",
   "execution_count": 22,
   "metadata": {},
   "outputs": [
    {
     "name": "stdout",
     "output_type": "stream",
     "text": [
      "Life is short,\n",
      "Use Python!\n"
     ]
    }
   ],
   "source": [
    "f = open(\"C:/Users/mikel/OneDrive/Desktop/CSE5ML Code/Python.txt\", \"r\") #opens file with name of \"Python.txt\"\n",
    "# read and print the entire file\n",
    "print(f.read())\n",
    "# remember to colse the file\n",
    "f.close()"
   ]
  },
  {
   "cell_type": "markdown",
   "metadata": {},
   "source": [
    "Used the **readline()** method twice, we would get the first 2 lines because of Python's reading process."
   ]
  },
  {
   "cell_type": "code",
   "execution_count": 25,
   "metadata": {},
   "outputs": [
    {
     "name": "stdout",
     "output_type": "stream",
     "text": [
      "Life is short,\n",
      "\n",
      "Use Python!\n"
     ]
    }
   ],
   "source": [
    "f = open(\"C:/Users/mikel/OneDrive/Desktop/CSE5ML Code/Python.txt\", \"r\")  #opens file with name of \"Python.txt\"\n",
    "# read the 1st line\n",
    "print(f.readline())\n",
    "# read the next line\n",
    "print(f.readline())\n",
    "f.close()"
   ]
  },
  {
   "cell_type": "code",
   "execution_count": 26,
   "metadata": {},
   "outputs": [
    {
     "name": "stdout",
     "output_type": "stream",
     "text": [
      "['Life is short,\\n', 'Use Python!']\n",
      "Life is short,\n",
      "\n",
      "Use Python!\n"
     ]
    }
   ],
   "source": [
    "#opens file with name of \"Python.txt\"\n",
    "f = open(\"C:/Users/mikel/OneDrive/Desktop/CSE5ML Code/Python.txt\", \"r\") \n",
    "myList = []\n",
    "for line in f:\n",
    "    myList.append(line)\n",
    "f.close()\n",
    "    \n",
    "print(myList)\n",
    "print(myList[0])\n",
    "print(myList[1])"
   ]
  },
  {
   "cell_type": "markdown",
   "metadata": {},
   "source": [
    "#### Write txt file"
   ]
  },
  {
   "cell_type": "code",
   "execution_count": 28,
   "metadata": {},
   "outputs": [
    {
     "name": "stdout",
     "output_type": "stream",
     "text": [
      "I love Python.\n",
      "I will be a Python master.\n",
      "I need to keep learning!\n"
     ]
    }
   ],
   "source": [
    "# Write file with name of \"test.txt\"\n",
    "f = f = open(\"C:/Users/mikel/OneDrive/Desktop/CSE5ML Code/Python.txt\", \"w\") \n",
    "f.write(\"I love Python.\\n\")\n",
    "f.write(\"I will be a Python master.\\n\")\n",
    "f.write(\"I need to keep learning!\")\n",
    "f.close()\n",
    "\n",
    "# read and see the test.txt file\n",
    "f = f = open(\"C:/Users/mikel/OneDrive/Desktop/CSE5ML Code/Python.txt\", \"r\") \n",
    "print(f.read())\n",
    "f.close()"
   ]
  },
  {
   "cell_type": "markdown",
   "metadata": {},
   "source": [
    "#### Read csv file"
   ]
  },
  {
   "cell_type": "code",
   "execution_count": 29,
   "metadata": {},
   "outputs": [
    {
     "name": "stdout",
     "output_type": "stream",
     "text": [
      "{'Ali': '25', 'Bob': '24', 'Chirs': '29'}\n"
     ]
    }
   ],
   "source": [
    "import csv\n",
    "csvFile = open(\"C:/Users/mikel/OneDrive/Desktop/CSE5ML Code/test.csv\", \"r\") \n",
    "reader = csv.reader(csvFile, delimiter=',')\n",
    "# load the data in a dictionary \n",
    "result = {}\n",
    "for item in reader:\n",
    "    # ignore the first line\n",
    "    if reader.line_num == 1:\n",
    "        continue    \n",
    "    result[item[0]] = item[1]\n",
    "csvFile.close()\n",
    "\n",
    "print(result)    "
   ]
  },
  {
   "cell_type": "markdown",
   "metadata": {},
   "source": [
    "#### Write csv file"
   ]
  },
  {
   "cell_type": "code",
   "execution_count": 30,
   "metadata": {},
   "outputs": [],
   "source": [
    "import csv\n",
    "fileHeader = [\"name\", \"age\"]\n",
    "\n",
    "d1 = [\"Chris\", \"27\"]\n",
    "d2 = [\"Ming\", \"26\"]\n",
    "\n",
    "csvFile = open(\"C:/Users/mikel/OneDrive/Desktop/CSE5ML Code/write.csv\", \"w\")\n",
    "writer = csv.writer(csvFile)\n",
    "writer = csv.writer(csvFile)\n",
    "\n",
    "# write the head and data\n",
    "writer.writerow(fileHeader)\n",
    "writer.writerow(d1)\n",
    "writer.writerow(d2)\n",
    "\n",
    "# Here is another command \n",
    "# writer.writerows([fileHeader, d1, d2])\n",
    "\n",
    "csvFile.close()\n",
    "\n",
    "# go to see the \"write.csv\" file."
   ]
  },
  {
   "cell_type": "markdown",
   "metadata": {},
   "source": [
    "You can find more information from the [documentation](https://docs.python.org/3.6/library/csv.html)"
   ]
  },
  {
   "cell_type": "markdown",
   "metadata": {},
   "source": [
    "#### Using Pandas to Read CSV file"
   ]
  },
  {
   "cell_type": "markdown",
   "metadata": {},
   "source": [
    "To work the examples using pandans, you must also have pandas package installed in your environment. This package is normally pre-installed in the default anaconda environment, but if you want to use a newly created environment, then you will need to install the package in the new enviroment before continue using pandas."
   ]
  },
  {
   "cell_type": "code",
   "execution_count": 31,
   "metadata": {},
   "outputs": [
    {
     "name": "stdout",
     "output_type": "stream",
     "text": [
      "    Name  Age\n",
      "0    Ali   25\n",
      "1    Bob   24\n",
      "2  Chirs   29\n",
      "[25. 24. 29.]\n",
      "[[25.]\n",
      " [24.]\n",
      " [29.]]\n"
     ]
    }
   ],
   "source": [
    "import pandas as pd\n",
    "import numpy as np\n",
    "# data = pd.read_csv(\"files/test.csv\")\n",
    "data = pd.read_csv(\"C:/Users/mikel/OneDrive/Desktop/CSE5ML Code/test.csv\")\n",
    "# data is pandas dataframe\n",
    "print(data) \n",
    "\n",
    "# extract the age data\n",
    "Age = np.array(data.Age, dtype = 'double')\n",
    "print(Age)\n",
    "\n",
    "# reshap this age vector\n",
    "Age = np.reshape(Age, [3,1])\n",
    "print(Age)"
   ]
  },
  {
   "cell_type": "markdown",
   "metadata": {},
   "source": [
    "#### Creating a pandas dataframe from data"
   ]
  },
  {
   "cell_type": "code",
   "execution_count": 32,
   "metadata": {},
   "outputs": [
    {
     "name": "stdout",
     "output_type": "stream",
     "text": [
      "   Yes   No\n",
      "0   50  131\n",
      "1   21    2\n"
     ]
    }
   ],
   "source": [
    "import pandas as pd\n",
    "\n",
    "df = pd.DataFrame({'Yes': [50, 21], 'No': [131, 2]})\n",
    "print(df)"
   ]
  },
  {
   "cell_type": "markdown",
   "metadata": {},
   "source": [
    "#### Writing a pandas datafrom to csv file"
   ]
  },
  {
   "cell_type": "code",
   "execution_count": 33,
   "metadata": {},
   "outputs": [],
   "source": [
    "df.to_csv('C:/Users/mikel/OneDrive/Desktop/CSE5ML Code/out.csv', index=False)"
   ]
  },
  {
   "cell_type": "markdown",
   "metadata": {},
   "source": [
    "Find more operation about Pandas in the [documentation](https://pandas.pydata.org/) and [cheatsheet](https://github.com/pandas-dev/pandas/blob/master/doc/cheatsheet/Pandas_Cheat_Sheet.pdf)"
   ]
  },
  {
   "cell_type": "markdown",
   "metadata": {},
   "source": [
    "### Save and Load file by Pickle"
   ]
  },
  {
   "cell_type": "markdown",
   "metadata": {},
   "source": [
    "The Pickle pacakge is used for serializing and de-serializing a Python object structure. Any object in python can be pickled so that it can be saved on disk and loaded back to continue the work. \n",
    "You can read about them in the [documentation](https://docs.python.org/3.6/library/pickle.html?highlight=pickle#module-pickle)."
   ]
  },
  {
   "cell_type": "code",
   "execution_count": 34,
   "metadata": {},
   "outputs": [
    {
     "name": "stdout",
     "output_type": "stream",
     "text": [
      "[[1. 0. 0. 0. 0.]\n",
      " [0. 1. 0. 0. 0.]\n",
      " [0. 0. 1. 0. 0.]\n",
      " [0. 0. 0. 1. 0.]\n",
      " [0. 0. 0. 0. 1.]]\n"
     ]
    }
   ],
   "source": [
    "import numpy as np\n",
    "import pickle\n",
    "X = np.eye(5)\n",
    "print(X)"
   ]
  },
  {
   "cell_type": "code",
   "execution_count": 35,
   "metadata": {},
   "outputs": [
    {
     "name": "stdout",
     "output_type": "stream",
     "text": [
      "[[5. 4. 4. 4. 4.]\n",
      " [4. 5. 4. 4. 4.]\n",
      " [4. 4. 5. 4. 4.]\n",
      " [4. 4. 4. 5. 4.]\n",
      " [4. 4. 4. 4. 5.]]\n"
     ]
    }
   ],
   "source": [
    "# Save the matirx X\n",
    "with open('C:/Users/mikel/OneDrive/Desktop/CSE5ML Code/X.pickle', 'wb') as f:\n",
    "    pickle.dump(X, f)\n",
    "# Change the value of the original X    \n",
    "X =  X + 4\n",
    "print(X)"
   ]
  },
  {
   "cell_type": "code",
   "execution_count": 36,
   "metadata": {},
   "outputs": [
    {
     "name": "stdout",
     "output_type": "stream",
     "text": [
      "[[1. 0. 0. 0. 0.]\n",
      " [0. 1. 0. 0. 0.]\n",
      " [0. 0. 1. 0. 0.]\n",
      " [0. 0. 0. 1. 0.]\n",
      " [0. 0. 0. 0. 1.]]\n"
     ]
    }
   ],
   "source": [
    "# load the matrix \n",
    "with open('C:/Users/mikel/OneDrive/Desktop/CSE5ML Code/X.pickle', 'rb') as f:\n",
    "    X = pickle.load(f)\n",
    "print(X)"
   ]
  },
  {
   "cell_type": "markdown",
   "metadata": {},
   "source": [
    "### Some Useful Resources"
   ]
  },
  {
   "cell_type": "markdown",
   "metadata": {},
   "source": [
    "This brief overview has touched on many of the important things that you need to know about numpy, but is far from complete. Check out the [numpy reference](http://docs.scipy.org/doc/numpy/reference/) to find out much more about numpy.\n",
    "\n",
    "For some basic operations of Numpy package, you can download the [Cheat Sheet for NumPy Basics](https://s3.amazonaws.com/assets.datacamp.com/blog_assets/Numpy_Python_Cheat_Sheet.pdf)"
   ]
  },
  {
   "cell_type": "markdown",
   "metadata": {},
   "source": [
    "Large parts of this lab note originate from the following two resources:\n",
    "[Quickstart tutorial](https://docs.scipy.org/doc/numpy-dev/user/quickstart.html)  and\n",
    "[Python Numpy Tutorial](http://cs231n.github.io/python-numpy-tutorial/). Hereby, we acknowledge the contributors and developers for their efforts in providing these useful online resources."
   ]
  },
  {
   "cell_type": "markdown",
   "metadata": {},
   "source": []
  }
 ],
 "metadata": {
  "kernelspec": {
   "display_name": "Python 3 (ipykernel)",
   "language": "python",
   "name": "python3"
  },
  "language_info": {
   "codemirror_mode": {
    "name": "ipython",
    "version": 3
   },
   "file_extension": ".py",
   "mimetype": "text/x-python",
   "name": "python",
   "nbconvert_exporter": "python",
   "pygments_lexer": "ipython3",
   "version": "3.9.12"
  }
 },
 "nbformat": 4,
 "nbformat_minor": 2
}
