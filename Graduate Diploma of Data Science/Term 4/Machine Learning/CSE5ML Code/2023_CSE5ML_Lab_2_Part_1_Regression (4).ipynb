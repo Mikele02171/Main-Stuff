{
 "cells": [
  {
   "cell_type": "markdown",
   "id": "94f26e29",
   "metadata": {},
   "source": [
    "## CSE5ML Lab 2 Part 1 : Machine Learning with Scikit Learn for Regression\n",
    "\n",
    "This week, we are going to learn how to use some ML models in scikit learn package on regression and classification tasks. One important step before building a model, is to apply some data preprocessing steps on the given dataset. \n",
    "\n",
    "In this Part 1, we are going to solve a regression task.\n",
    "\n",
    "we will be working on Vehicle dataset from cardekho. This dataset contains information about used cars listed on www.cardekho.com. Our target is to build a price prediction model with the use of regression models. Thus, our model can help mark a suitable price for a given car.\n",
    "\n",
    "The datasets consist of several independent variables include:\n",
    "\n",
    "1. Car_Name: Name of the cars\n",
    "2. Year: Year of the car when it was bought\n",
    "3. Selling_Price: Price at which the car is being sold\n",
    "4. Kms_Driven: Number of Kilometres the car is driven\n",
    "5. Fuel_Type: Fuel type of car (petrol / diesel / CNG / LPG / electric)\n",
    "6. Seller_Type: Tells if a Seller is Individual or a Dealer\n",
    "7. Transmission: Gear transmission of the car (Automatic/Manual)\n",
    "8. Owner: Number of previous owners of the car.\n",
    "9. Mileage: mileage of the car\n",
    "10. Engine: engine capacity of the car\n",
    "11. Max_power: max power of engine\n",
    "12. Seats: number of seats in the car"
   ]
  },
  {
   "cell_type": "markdown",
   "id": "4c710ae9",
   "metadata": {},
   "source": [
    "### Load the dataset\n",
    "use pandas to load the csv file \"Car details.csv\" provided on LMS, then check dataset length and print the first 5 rows of the dataset"
   ]
  },
  {
   "cell_type": "code",
   "execution_count": 1,
   "id": "d07f2e82",
   "metadata": {},
   "outputs": [
    {
     "name": "stdout",
     "output_type": "stream",
     "text": [
      "dataset length: 7761\n"
     ]
    },
    {
     "data": {
      "text/html": [
       "<div>\n",
       "<style scoped>\n",
       "    .dataframe tbody tr th:only-of-type {\n",
       "        vertical-align: middle;\n",
       "    }\n",
       "\n",
       "    .dataframe tbody tr th {\n",
       "        vertical-align: top;\n",
       "    }\n",
       "\n",
       "    .dataframe thead th {\n",
       "        text-align: right;\n",
       "    }\n",
       "</style>\n",
       "<table border=\"1\" class=\"dataframe\">\n",
       "  <thead>\n",
       "    <tr style=\"text-align: right;\">\n",
       "      <th></th>\n",
       "      <th>name</th>\n",
       "      <th>year</th>\n",
       "      <th>selling_price</th>\n",
       "      <th>km_driven</th>\n",
       "      <th>fuel</th>\n",
       "      <th>seller_type</th>\n",
       "      <th>transmission</th>\n",
       "      <th>owner</th>\n",
       "      <th>mileage</th>\n",
       "      <th>engine</th>\n",
       "      <th>max_power</th>\n",
       "      <th>seats</th>\n",
       "    </tr>\n",
       "  </thead>\n",
       "  <tbody>\n",
       "    <tr>\n",
       "      <th>0</th>\n",
       "      <td>Maruti Swift Dzire VDI</td>\n",
       "      <td>2014</td>\n",
       "      <td>450000</td>\n",
       "      <td>145500</td>\n",
       "      <td>Diesel</td>\n",
       "      <td>Individual</td>\n",
       "      <td>Manual</td>\n",
       "      <td>First Owner</td>\n",
       "      <td>23.4 kmpl</td>\n",
       "      <td>1248 CC</td>\n",
       "      <td>74 bhp</td>\n",
       "      <td>5.0</td>\n",
       "    </tr>\n",
       "    <tr>\n",
       "      <th>1</th>\n",
       "      <td>Skoda Rapid 1.5 TDI Ambition</td>\n",
       "      <td>2014</td>\n",
       "      <td>370000</td>\n",
       "      <td>120000</td>\n",
       "      <td>Diesel</td>\n",
       "      <td>Individual</td>\n",
       "      <td>Manual</td>\n",
       "      <td>Second Owner</td>\n",
       "      <td>21.14 kmpl</td>\n",
       "      <td>1498 CC</td>\n",
       "      <td>103.52 bhp</td>\n",
       "      <td>5.0</td>\n",
       "    </tr>\n",
       "    <tr>\n",
       "      <th>2</th>\n",
       "      <td>Honda City 2017-2020 EXi</td>\n",
       "      <td>2006</td>\n",
       "      <td>158000</td>\n",
       "      <td>140000</td>\n",
       "      <td>Petrol</td>\n",
       "      <td>Individual</td>\n",
       "      <td>Manual</td>\n",
       "      <td>Third Owner</td>\n",
       "      <td>17.7 kmpl</td>\n",
       "      <td>1497 CC</td>\n",
       "      <td>78 bhp</td>\n",
       "      <td>5.0</td>\n",
       "    </tr>\n",
       "    <tr>\n",
       "      <th>3</th>\n",
       "      <td>Hyundai i20 Sportz Diesel</td>\n",
       "      <td>2010</td>\n",
       "      <td>225000</td>\n",
       "      <td>127000</td>\n",
       "      <td>Diesel</td>\n",
       "      <td>Individual</td>\n",
       "      <td>Manual</td>\n",
       "      <td>First Owner</td>\n",
       "      <td>23.0 kmpl</td>\n",
       "      <td>1396 CC</td>\n",
       "      <td>90 bhp</td>\n",
       "      <td>5.0</td>\n",
       "    </tr>\n",
       "    <tr>\n",
       "      <th>4</th>\n",
       "      <td>Maruti Swift VXI BSIII</td>\n",
       "      <td>2007</td>\n",
       "      <td>130000</td>\n",
       "      <td>120000</td>\n",
       "      <td>Petrol</td>\n",
       "      <td>Individual</td>\n",
       "      <td>Manual</td>\n",
       "      <td>First Owner</td>\n",
       "      <td>16.1 kmpl</td>\n",
       "      <td>1298 CC</td>\n",
       "      <td>88.2 bhp</td>\n",
       "      <td>5.0</td>\n",
       "    </tr>\n",
       "  </tbody>\n",
       "</table>\n",
       "</div>"
      ],
      "text/plain": [
       "                           name  year  selling_price  km_driven    fuel  \\\n",
       "0        Maruti Swift Dzire VDI  2014         450000     145500  Diesel   \n",
       "1  Skoda Rapid 1.5 TDI Ambition  2014         370000     120000  Diesel   \n",
       "2      Honda City 2017-2020 EXi  2006         158000     140000  Petrol   \n",
       "3     Hyundai i20 Sportz Diesel  2010         225000     127000  Diesel   \n",
       "4        Maruti Swift VXI BSIII  2007         130000     120000  Petrol   \n",
       "\n",
       "  seller_type transmission         owner     mileage   engine   max_power  \\\n",
       "0  Individual       Manual   First Owner   23.4 kmpl  1248 CC      74 bhp   \n",
       "1  Individual       Manual  Second Owner  21.14 kmpl  1498 CC  103.52 bhp   \n",
       "2  Individual       Manual   Third Owner   17.7 kmpl  1497 CC      78 bhp   \n",
       "3  Individual       Manual   First Owner   23.0 kmpl  1396 CC      90 bhp   \n",
       "4  Individual       Manual   First Owner   16.1 kmpl  1298 CC    88.2 bhp   \n",
       "\n",
       "   seats  \n",
       "0    5.0  \n",
       "1    5.0  \n",
       "2    5.0  \n",
       "3    5.0  \n",
       "4    5.0  "
      ]
     },
     "execution_count": 1,
     "metadata": {},
     "output_type": "execute_result"
    }
   ],
   "source": [
    "import pandas as pd\n",
    "\n",
    "dataset = pd.read_csv(\"Car details.csv\")\n",
    "print(\"dataset length:\", len(dataset))\n",
    "dataset.head()"
   ]
  },
  {
   "cell_type": "markdown",
   "id": "e957f0b4",
   "metadata": {},
   "source": [
    "### Preprocess the dataset"
   ]
  },
  {
   "cell_type": "markdown",
   "id": "67eec3e8",
   "metadata": {},
   "source": [
    "#### Drop columns that we are not going to use"
   ]
  },
  {
   "cell_type": "code",
   "execution_count": 2,
   "id": "90a0a85a",
   "metadata": {},
   "outputs": [
    {
     "data": {
      "text/html": [
       "<div>\n",
       "<style scoped>\n",
       "    .dataframe tbody tr th:only-of-type {\n",
       "        vertical-align: middle;\n",
       "    }\n",
       "\n",
       "    .dataframe tbody tr th {\n",
       "        vertical-align: top;\n",
       "    }\n",
       "\n",
       "    .dataframe thead th {\n",
       "        text-align: right;\n",
       "    }\n",
       "</style>\n",
       "<table border=\"1\" class=\"dataframe\">\n",
       "  <thead>\n",
       "    <tr style=\"text-align: right;\">\n",
       "      <th></th>\n",
       "      <th>year</th>\n",
       "      <th>selling_price</th>\n",
       "      <th>km_driven</th>\n",
       "      <th>fuel</th>\n",
       "      <th>seller_type</th>\n",
       "      <th>transmission</th>\n",
       "      <th>owner</th>\n",
       "      <th>mileage</th>\n",
       "      <th>engine</th>\n",
       "      <th>max_power</th>\n",
       "      <th>seats</th>\n",
       "    </tr>\n",
       "  </thead>\n",
       "  <tbody>\n",
       "    <tr>\n",
       "      <th>0</th>\n",
       "      <td>2014</td>\n",
       "      <td>450000</td>\n",
       "      <td>145500</td>\n",
       "      <td>Diesel</td>\n",
       "      <td>Individual</td>\n",
       "      <td>Manual</td>\n",
       "      <td>First Owner</td>\n",
       "      <td>23.4 kmpl</td>\n",
       "      <td>1248 CC</td>\n",
       "      <td>74 bhp</td>\n",
       "      <td>5.0</td>\n",
       "    </tr>\n",
       "    <tr>\n",
       "      <th>1</th>\n",
       "      <td>2014</td>\n",
       "      <td>370000</td>\n",
       "      <td>120000</td>\n",
       "      <td>Diesel</td>\n",
       "      <td>Individual</td>\n",
       "      <td>Manual</td>\n",
       "      <td>Second Owner</td>\n",
       "      <td>21.14 kmpl</td>\n",
       "      <td>1498 CC</td>\n",
       "      <td>103.52 bhp</td>\n",
       "      <td>5.0</td>\n",
       "    </tr>\n",
       "    <tr>\n",
       "      <th>2</th>\n",
       "      <td>2006</td>\n",
       "      <td>158000</td>\n",
       "      <td>140000</td>\n",
       "      <td>Petrol</td>\n",
       "      <td>Individual</td>\n",
       "      <td>Manual</td>\n",
       "      <td>Third Owner</td>\n",
       "      <td>17.7 kmpl</td>\n",
       "      <td>1497 CC</td>\n",
       "      <td>78 bhp</td>\n",
       "      <td>5.0</td>\n",
       "    </tr>\n",
       "    <tr>\n",
       "      <th>3</th>\n",
       "      <td>2010</td>\n",
       "      <td>225000</td>\n",
       "      <td>127000</td>\n",
       "      <td>Diesel</td>\n",
       "      <td>Individual</td>\n",
       "      <td>Manual</td>\n",
       "      <td>First Owner</td>\n",
       "      <td>23.0 kmpl</td>\n",
       "      <td>1396 CC</td>\n",
       "      <td>90 bhp</td>\n",
       "      <td>5.0</td>\n",
       "    </tr>\n",
       "    <tr>\n",
       "      <th>4</th>\n",
       "      <td>2007</td>\n",
       "      <td>130000</td>\n",
       "      <td>120000</td>\n",
       "      <td>Petrol</td>\n",
       "      <td>Individual</td>\n",
       "      <td>Manual</td>\n",
       "      <td>First Owner</td>\n",
       "      <td>16.1 kmpl</td>\n",
       "      <td>1298 CC</td>\n",
       "      <td>88.2 bhp</td>\n",
       "      <td>5.0</td>\n",
       "    </tr>\n",
       "  </tbody>\n",
       "</table>\n",
       "</div>"
      ],
      "text/plain": [
       "   year  selling_price  km_driven    fuel seller_type transmission  \\\n",
       "0  2014         450000     145500  Diesel  Individual       Manual   \n",
       "1  2014         370000     120000  Diesel  Individual       Manual   \n",
       "2  2006         158000     140000  Petrol  Individual       Manual   \n",
       "3  2010         225000     127000  Diesel  Individual       Manual   \n",
       "4  2007         130000     120000  Petrol  Individual       Manual   \n",
       "\n",
       "          owner     mileage   engine   max_power  seats  \n",
       "0   First Owner   23.4 kmpl  1248 CC      74 bhp    5.0  \n",
       "1  Second Owner  21.14 kmpl  1498 CC  103.52 bhp    5.0  \n",
       "2   Third Owner   17.7 kmpl  1497 CC      78 bhp    5.0  \n",
       "3   First Owner   23.0 kmpl  1396 CC      90 bhp    5.0  \n",
       "4   First Owner   16.1 kmpl  1298 CC    88.2 bhp    5.0  "
      ]
     },
     "execution_count": 2,
     "metadata": {},
     "output_type": "execute_result"
    }
   ],
   "source": [
    "# drop the columns that we are not going to use, here, we are droping the car name\n",
    "dataset.drop(['name'], axis=1, inplace=True)\n",
    "dataset.head()"
   ]
  },
  {
   "cell_type": "markdown",
   "id": "a29afc26",
   "metadata": {},
   "source": [
    "#### Dealing with missing values\n",
    "##### 1) identify if there is any missing value in the dataset"
   ]
  },
  {
   "cell_type": "code",
   "execution_count": 3,
   "id": "0c523d5f",
   "metadata": {},
   "outputs": [
    {
     "data": {
      "text/plain": [
       "year              0\n",
       "selling_price     0\n",
       "km_driven         0\n",
       "fuel              0\n",
       "seller_type       0\n",
       "transmission      0\n",
       "owner             0\n",
       "mileage          19\n",
       "engine           19\n",
       "max_power        13\n",
       "seats            19\n",
       "dtype: int64"
      ]
     },
     "execution_count": 3,
     "metadata": {},
     "output_type": "execute_result"
    }
   ],
   "source": [
    "# check if these is any missing value in the dataset\n",
    "dataset.isna().sum()"
   ]
  },
  {
   "cell_type": "markdown",
   "id": "19c1dd21",
   "metadata": {},
   "source": [
    "##### 2) Drop the rows which has missing values"
   ]
  },
  {
   "cell_type": "code",
   "execution_count": 4,
   "id": "7e4cf3f1",
   "metadata": {},
   "outputs": [
    {
     "name": "stdout",
     "output_type": "stream",
     "text": [
      "dataset length: 7742\n"
     ]
    }
   ],
   "source": [
    "# dealing with missing values, since we only have very small number of missing values in our dataset, we can just remove it for easy processing\n",
    "dataset = dataset.dropna()\n",
    "print(\"dataset length:\", len(dataset))"
   ]
  },
  {
   "cell_type": "markdown",
   "id": "b035d483",
   "metadata": {},
   "source": [
    "#### Dealing with duplicated rows\n",
    "##### 1) Check if there is any duplicated rows in the dataset"
   ]
  },
  {
   "cell_type": "code",
   "execution_count": 5,
   "id": "fe539ad9",
   "metadata": {},
   "outputs": [
    {
     "data": {
      "text/plain": [
       "True"
      ]
     },
     "execution_count": 5,
     "metadata": {},
     "output_type": "execute_result"
    }
   ],
   "source": [
    "# check if these is any duplicated rows\n",
    "dataset.duplicated().any()"
   ]
  },
  {
   "cell_type": "markdown",
   "id": "d9cee224",
   "metadata": {},
   "source": [
    "##### 2) Remove duplicated rows"
   ]
  },
  {
   "cell_type": "code",
   "execution_count": 6,
   "id": "41faf91e",
   "metadata": {},
   "outputs": [
    {
     "name": "stdout",
     "output_type": "stream",
     "text": [
      "dataset length: 6539\n"
     ]
    }
   ],
   "source": [
    "# remove duplicate\n",
    "dataset = dataset.drop_duplicates()\n",
    "print(\"dataset length:\", len(dataset))"
   ]
  },
  {
   "cell_type": "markdown",
   "id": "3cf2c37e",
   "metadata": {},
   "source": [
    "#### Remove units strings from column: mileage, engine and max_power, and then transform the column type to float"
   ]
  },
  {
   "cell_type": "code",
   "execution_count": 7,
   "id": "7575e327",
   "metadata": {},
   "outputs": [
    {
     "data": {
      "text/html": [
       "<div>\n",
       "<style scoped>\n",
       "    .dataframe tbody tr th:only-of-type {\n",
       "        vertical-align: middle;\n",
       "    }\n",
       "\n",
       "    .dataframe tbody tr th {\n",
       "        vertical-align: top;\n",
       "    }\n",
       "\n",
       "    .dataframe thead th {\n",
       "        text-align: right;\n",
       "    }\n",
       "</style>\n",
       "<table border=\"1\" class=\"dataframe\">\n",
       "  <thead>\n",
       "    <tr style=\"text-align: right;\">\n",
       "      <th></th>\n",
       "      <th>year</th>\n",
       "      <th>selling_price</th>\n",
       "      <th>km_driven</th>\n",
       "      <th>fuel</th>\n",
       "      <th>seller_type</th>\n",
       "      <th>transmission</th>\n",
       "      <th>owner</th>\n",
       "      <th>mileage</th>\n",
       "      <th>engine</th>\n",
       "      <th>max_power</th>\n",
       "      <th>seats</th>\n",
       "    </tr>\n",
       "  </thead>\n",
       "  <tbody>\n",
       "    <tr>\n",
       "      <th>0</th>\n",
       "      <td>2014</td>\n",
       "      <td>450000</td>\n",
       "      <td>145500</td>\n",
       "      <td>Diesel</td>\n",
       "      <td>Individual</td>\n",
       "      <td>Manual</td>\n",
       "      <td>First Owner</td>\n",
       "      <td>23.40</td>\n",
       "      <td>1248 CC</td>\n",
       "      <td>74 bhp</td>\n",
       "      <td>5.0</td>\n",
       "    </tr>\n",
       "    <tr>\n",
       "      <th>1</th>\n",
       "      <td>2014</td>\n",
       "      <td>370000</td>\n",
       "      <td>120000</td>\n",
       "      <td>Diesel</td>\n",
       "      <td>Individual</td>\n",
       "      <td>Manual</td>\n",
       "      <td>Second Owner</td>\n",
       "      <td>21.14</td>\n",
       "      <td>1498 CC</td>\n",
       "      <td>103.52 bhp</td>\n",
       "      <td>5.0</td>\n",
       "    </tr>\n",
       "    <tr>\n",
       "      <th>2</th>\n",
       "      <td>2006</td>\n",
       "      <td>158000</td>\n",
       "      <td>140000</td>\n",
       "      <td>Petrol</td>\n",
       "      <td>Individual</td>\n",
       "      <td>Manual</td>\n",
       "      <td>Third Owner</td>\n",
       "      <td>17.70</td>\n",
       "      <td>1497 CC</td>\n",
       "      <td>78 bhp</td>\n",
       "      <td>5.0</td>\n",
       "    </tr>\n",
       "    <tr>\n",
       "      <th>3</th>\n",
       "      <td>2010</td>\n",
       "      <td>225000</td>\n",
       "      <td>127000</td>\n",
       "      <td>Diesel</td>\n",
       "      <td>Individual</td>\n",
       "      <td>Manual</td>\n",
       "      <td>First Owner</td>\n",
       "      <td>23.00</td>\n",
       "      <td>1396 CC</td>\n",
       "      <td>90 bhp</td>\n",
       "      <td>5.0</td>\n",
       "    </tr>\n",
       "    <tr>\n",
       "      <th>4</th>\n",
       "      <td>2007</td>\n",
       "      <td>130000</td>\n",
       "      <td>120000</td>\n",
       "      <td>Petrol</td>\n",
       "      <td>Individual</td>\n",
       "      <td>Manual</td>\n",
       "      <td>First Owner</td>\n",
       "      <td>16.10</td>\n",
       "      <td>1298 CC</td>\n",
       "      <td>88.2 bhp</td>\n",
       "      <td>5.0</td>\n",
       "    </tr>\n",
       "  </tbody>\n",
       "</table>\n",
       "</div>"
      ],
      "text/plain": [
       "   year  selling_price  km_driven    fuel seller_type transmission  \\\n",
       "0  2014         450000     145500  Diesel  Individual       Manual   \n",
       "1  2014         370000     120000  Diesel  Individual       Manual   \n",
       "2  2006         158000     140000  Petrol  Individual       Manual   \n",
       "3  2010         225000     127000  Diesel  Individual       Manual   \n",
       "4  2007         130000     120000  Petrol  Individual       Manual   \n",
       "\n",
       "          owner  mileage   engine   max_power  seats  \n",
       "0   First Owner    23.40  1248 CC      74 bhp    5.0  \n",
       "1  Second Owner    21.14  1498 CC  103.52 bhp    5.0  \n",
       "2   Third Owner    17.70  1497 CC      78 bhp    5.0  \n",
       "3   First Owner    23.00  1396 CC      90 bhp    5.0  \n",
       "4   First Owner    16.10  1298 CC    88.2 bhp    5.0  "
      ]
     },
     "execution_count": 7,
     "metadata": {},
     "output_type": "execute_result"
    }
   ],
   "source": [
    "# define the function which with inputs of a dataframe and column name, and returns the column which has removed the units string\n",
    "def remove_unit(df,colum_name) :\n",
    "    t = []\n",
    "    for i in df[colum_name]:\n",
    "        number = str(i).split(' ')[0]\n",
    "        t.append(number)\n",
    "    return t\n",
    "\n",
    "dataset['mileage'] = remove_unit(dataset,'mileage')\n",
    "\n",
    "# transform the column type to float\n",
    "dataset['mileage'] = pd.to_numeric(dataset['mileage'])\n",
    "dataset.head()"
   ]
  },
  {
   "cell_type": "code",
   "execution_count": 8,
   "id": "442de1e7",
   "metadata": {},
   "outputs": [],
   "source": [
    "a= 1234\n",
    "b=\"1234\""
   ]
  },
  {
   "cell_type": "code",
   "execution_count": 9,
   "id": "24724e1c",
   "metadata": {},
   "outputs": [
    {
     "data": {
      "text/html": [
       "<div>\n",
       "<style scoped>\n",
       "    .dataframe tbody tr th:only-of-type {\n",
       "        vertical-align: middle;\n",
       "    }\n",
       "\n",
       "    .dataframe tbody tr th {\n",
       "        vertical-align: top;\n",
       "    }\n",
       "\n",
       "    .dataframe thead th {\n",
       "        text-align: right;\n",
       "    }\n",
       "</style>\n",
       "<table border=\"1\" class=\"dataframe\">\n",
       "  <thead>\n",
       "    <tr style=\"text-align: right;\">\n",
       "      <th></th>\n",
       "      <th>year</th>\n",
       "      <th>selling_price</th>\n",
       "      <th>km_driven</th>\n",
       "      <th>fuel</th>\n",
       "      <th>seller_type</th>\n",
       "      <th>transmission</th>\n",
       "      <th>owner</th>\n",
       "      <th>mileage</th>\n",
       "      <th>engine</th>\n",
       "      <th>max_power</th>\n",
       "      <th>seats</th>\n",
       "    </tr>\n",
       "  </thead>\n",
       "  <tbody>\n",
       "    <tr>\n",
       "      <th>0</th>\n",
       "      <td>2014</td>\n",
       "      <td>450000</td>\n",
       "      <td>145500</td>\n",
       "      <td>Diesel</td>\n",
       "      <td>Individual</td>\n",
       "      <td>Manual</td>\n",
       "      <td>First Owner</td>\n",
       "      <td>23.40</td>\n",
       "      <td>1248</td>\n",
       "      <td>74.00</td>\n",
       "      <td>5.0</td>\n",
       "    </tr>\n",
       "    <tr>\n",
       "      <th>1</th>\n",
       "      <td>2014</td>\n",
       "      <td>370000</td>\n",
       "      <td>120000</td>\n",
       "      <td>Diesel</td>\n",
       "      <td>Individual</td>\n",
       "      <td>Manual</td>\n",
       "      <td>Second Owner</td>\n",
       "      <td>21.14</td>\n",
       "      <td>1498</td>\n",
       "      <td>103.52</td>\n",
       "      <td>5.0</td>\n",
       "    </tr>\n",
       "    <tr>\n",
       "      <th>2</th>\n",
       "      <td>2006</td>\n",
       "      <td>158000</td>\n",
       "      <td>140000</td>\n",
       "      <td>Petrol</td>\n",
       "      <td>Individual</td>\n",
       "      <td>Manual</td>\n",
       "      <td>Third Owner</td>\n",
       "      <td>17.70</td>\n",
       "      <td>1497</td>\n",
       "      <td>78.00</td>\n",
       "      <td>5.0</td>\n",
       "    </tr>\n",
       "    <tr>\n",
       "      <th>3</th>\n",
       "      <td>2010</td>\n",
       "      <td>225000</td>\n",
       "      <td>127000</td>\n",
       "      <td>Diesel</td>\n",
       "      <td>Individual</td>\n",
       "      <td>Manual</td>\n",
       "      <td>First Owner</td>\n",
       "      <td>23.00</td>\n",
       "      <td>1396</td>\n",
       "      <td>90.00</td>\n",
       "      <td>5.0</td>\n",
       "    </tr>\n",
       "    <tr>\n",
       "      <th>4</th>\n",
       "      <td>2007</td>\n",
       "      <td>130000</td>\n",
       "      <td>120000</td>\n",
       "      <td>Petrol</td>\n",
       "      <td>Individual</td>\n",
       "      <td>Manual</td>\n",
       "      <td>First Owner</td>\n",
       "      <td>16.10</td>\n",
       "      <td>1298</td>\n",
       "      <td>88.20</td>\n",
       "      <td>5.0</td>\n",
       "    </tr>\n",
       "  </tbody>\n",
       "</table>\n",
       "</div>"
      ],
      "text/plain": [
       "   year  selling_price  km_driven    fuel seller_type transmission  \\\n",
       "0  2014         450000     145500  Diesel  Individual       Manual   \n",
       "1  2014         370000     120000  Diesel  Individual       Manual   \n",
       "2  2006         158000     140000  Petrol  Individual       Manual   \n",
       "3  2010         225000     127000  Diesel  Individual       Manual   \n",
       "4  2007         130000     120000  Petrol  Individual       Manual   \n",
       "\n",
       "          owner  mileage  engine  max_power  seats  \n",
       "0   First Owner    23.40    1248      74.00    5.0  \n",
       "1  Second Owner    21.14    1498     103.52    5.0  \n",
       "2   Third Owner    17.70    1497      78.00    5.0  \n",
       "3   First Owner    23.00    1396      90.00    5.0  \n",
       "4   First Owner    16.10    1298      88.20    5.0  "
      ]
     },
     "execution_count": 9,
     "metadata": {},
     "output_type": "execute_result"
    }
   ],
   "source": [
    "# do the same for engine and max_power and investigate the dataset\n",
    "dataset['engine'] = remove_unit(dataset,'engine')\n",
    "dataset['max_power'] = remove_unit(dataset,'max_power')\n",
    "\n",
    "dataset['engine'] = pd.to_numeric(dataset['engine'])\n",
    "dataset['max_power'] = pd.to_numeric(dataset['max_power'])\n",
    "dataset.head()"
   ]
  },
  {
   "cell_type": "markdown",
   "id": "8cabad1f",
   "metadata": {},
   "source": [
    "#### Adding 'age' feature to know how old the car is and dropping 'year' feature as it is useless now"
   ]
  },
  {
   "cell_type": "code",
   "execution_count": 10,
   "id": "c87a66c9",
   "metadata": {},
   "outputs": [
    {
     "data": {
      "text/html": [
       "<div>\n",
       "<style scoped>\n",
       "    .dataframe tbody tr th:only-of-type {\n",
       "        vertical-align: middle;\n",
       "    }\n",
       "\n",
       "    .dataframe tbody tr th {\n",
       "        vertical-align: top;\n",
       "    }\n",
       "\n",
       "    .dataframe thead th {\n",
       "        text-align: right;\n",
       "    }\n",
       "</style>\n",
       "<table border=\"1\" class=\"dataframe\">\n",
       "  <thead>\n",
       "    <tr style=\"text-align: right;\">\n",
       "      <th></th>\n",
       "      <th>selling_price</th>\n",
       "      <th>km_driven</th>\n",
       "      <th>fuel</th>\n",
       "      <th>seller_type</th>\n",
       "      <th>transmission</th>\n",
       "      <th>owner</th>\n",
       "      <th>mileage</th>\n",
       "      <th>engine</th>\n",
       "      <th>max_power</th>\n",
       "      <th>seats</th>\n",
       "      <th>age</th>\n",
       "    </tr>\n",
       "  </thead>\n",
       "  <tbody>\n",
       "    <tr>\n",
       "      <th>0</th>\n",
       "      <td>450000</td>\n",
       "      <td>145500</td>\n",
       "      <td>Diesel</td>\n",
       "      <td>Individual</td>\n",
       "      <td>Manual</td>\n",
       "      <td>First Owner</td>\n",
       "      <td>23.40</td>\n",
       "      <td>1248</td>\n",
       "      <td>74.00</td>\n",
       "      <td>5.0</td>\n",
       "      <td>8</td>\n",
       "    </tr>\n",
       "    <tr>\n",
       "      <th>1</th>\n",
       "      <td>370000</td>\n",
       "      <td>120000</td>\n",
       "      <td>Diesel</td>\n",
       "      <td>Individual</td>\n",
       "      <td>Manual</td>\n",
       "      <td>Second Owner</td>\n",
       "      <td>21.14</td>\n",
       "      <td>1498</td>\n",
       "      <td>103.52</td>\n",
       "      <td>5.0</td>\n",
       "      <td>8</td>\n",
       "    </tr>\n",
       "    <tr>\n",
       "      <th>2</th>\n",
       "      <td>158000</td>\n",
       "      <td>140000</td>\n",
       "      <td>Petrol</td>\n",
       "      <td>Individual</td>\n",
       "      <td>Manual</td>\n",
       "      <td>Third Owner</td>\n",
       "      <td>17.70</td>\n",
       "      <td>1497</td>\n",
       "      <td>78.00</td>\n",
       "      <td>5.0</td>\n",
       "      <td>16</td>\n",
       "    </tr>\n",
       "    <tr>\n",
       "      <th>3</th>\n",
       "      <td>225000</td>\n",
       "      <td>127000</td>\n",
       "      <td>Diesel</td>\n",
       "      <td>Individual</td>\n",
       "      <td>Manual</td>\n",
       "      <td>First Owner</td>\n",
       "      <td>23.00</td>\n",
       "      <td>1396</td>\n",
       "      <td>90.00</td>\n",
       "      <td>5.0</td>\n",
       "      <td>12</td>\n",
       "    </tr>\n",
       "    <tr>\n",
       "      <th>4</th>\n",
       "      <td>130000</td>\n",
       "      <td>120000</td>\n",
       "      <td>Petrol</td>\n",
       "      <td>Individual</td>\n",
       "      <td>Manual</td>\n",
       "      <td>First Owner</td>\n",
       "      <td>16.10</td>\n",
       "      <td>1298</td>\n",
       "      <td>88.20</td>\n",
       "      <td>5.0</td>\n",
       "      <td>15</td>\n",
       "    </tr>\n",
       "  </tbody>\n",
       "</table>\n",
       "</div>"
      ],
      "text/plain": [
       "   selling_price  km_driven    fuel seller_type transmission         owner  \\\n",
       "0         450000     145500  Diesel  Individual       Manual   First Owner   \n",
       "1         370000     120000  Diesel  Individual       Manual  Second Owner   \n",
       "2         158000     140000  Petrol  Individual       Manual   Third Owner   \n",
       "3         225000     127000  Diesel  Individual       Manual   First Owner   \n",
       "4         130000     120000  Petrol  Individual       Manual   First Owner   \n",
       "\n",
       "   mileage  engine  max_power  seats  age  \n",
       "0    23.40    1248      74.00    5.0    8  \n",
       "1    21.14    1498     103.52    5.0    8  \n",
       "2    17.70    1497      78.00    5.0   16  \n",
       "3    23.00    1396      90.00    5.0   12  \n",
       "4    16.10    1298      88.20    5.0   15  "
      ]
     },
     "execution_count": 10,
     "metadata": {},
     "output_type": "execute_result"
    }
   ],
   "source": [
    "dataset['age'] = 2022 - dataset['year']\n",
    "\n",
    "# drop the year column by the function that we used before (hints drop function)\n",
    "dataset.drop(['year'], axis = 1, inplace = True)\n",
    "\n",
    "# take a look at the dataset afterwards\n",
    "dataset.head()"
   ]
  },
  {
   "cell_type": "markdown",
   "id": "e215de9c",
   "metadata": {},
   "source": [
    "#### Get a summary of numerical columns"
   ]
  },
  {
   "cell_type": "code",
   "execution_count": 11,
   "id": "6e31a0eb",
   "metadata": {},
   "outputs": [
    {
     "data": {
      "text/html": [
       "<div>\n",
       "<style scoped>\n",
       "    .dataframe tbody tr th:only-of-type {\n",
       "        vertical-align: middle;\n",
       "    }\n",
       "\n",
       "    .dataframe tbody tr th {\n",
       "        vertical-align: top;\n",
       "    }\n",
       "\n",
       "    .dataframe thead th {\n",
       "        text-align: right;\n",
       "    }\n",
       "</style>\n",
       "<table border=\"1\" class=\"dataframe\">\n",
       "  <thead>\n",
       "    <tr style=\"text-align: right;\">\n",
       "      <th></th>\n",
       "      <th>selling_price</th>\n",
       "      <th>km_driven</th>\n",
       "      <th>mileage</th>\n",
       "      <th>engine</th>\n",
       "      <th>max_power</th>\n",
       "      <th>seats</th>\n",
       "      <th>age</th>\n",
       "    </tr>\n",
       "  </thead>\n",
       "  <tbody>\n",
       "    <tr>\n",
       "      <th>count</th>\n",
       "      <td>6.539000e+03</td>\n",
       "      <td>6.539000e+03</td>\n",
       "      <td>6539.000000</td>\n",
       "      <td>6539.000000</td>\n",
       "      <td>6539.000000</td>\n",
       "      <td>6539.000000</td>\n",
       "      <td>6539.000000</td>\n",
       "    </tr>\n",
       "    <tr>\n",
       "      <th>mean</th>\n",
       "      <td>5.305429e+05</td>\n",
       "      <td>7.269697e+04</td>\n",
       "      <td>19.517721</td>\n",
       "      <td>1430.571953</td>\n",
       "      <td>87.857610</td>\n",
       "      <td>5.433553</td>\n",
       "      <td>8.273589</td>\n",
       "    </tr>\n",
       "    <tr>\n",
       "      <th>std</th>\n",
       "      <td>5.132614e+05</td>\n",
       "      <td>5.869317e+04</td>\n",
       "      <td>4.045410</td>\n",
       "      <td>491.703071</td>\n",
       "      <td>31.685995</td>\n",
       "      <td>0.979437</td>\n",
       "      <td>3.810427</td>\n",
       "    </tr>\n",
       "    <tr>\n",
       "      <th>min</th>\n",
       "      <td>2.999900e+04</td>\n",
       "      <td>1.000000e+03</td>\n",
       "      <td>0.000000</td>\n",
       "      <td>624.000000</td>\n",
       "      <td>32.800000</td>\n",
       "      <td>2.000000</td>\n",
       "      <td>2.000000</td>\n",
       "    </tr>\n",
       "    <tr>\n",
       "      <th>25%</th>\n",
       "      <td>2.500000e+05</td>\n",
       "      <td>3.600000e+04</td>\n",
       "      <td>16.800000</td>\n",
       "      <td>1197.000000</td>\n",
       "      <td>68.000000</td>\n",
       "      <td>5.000000</td>\n",
       "      <td>5.000000</td>\n",
       "    </tr>\n",
       "    <tr>\n",
       "      <th>50%</th>\n",
       "      <td>4.250000e+05</td>\n",
       "      <td>6.644400e+04</td>\n",
       "      <td>19.640000</td>\n",
       "      <td>1248.000000</td>\n",
       "      <td>81.860000</td>\n",
       "      <td>5.000000</td>\n",
       "      <td>8.000000</td>\n",
       "    </tr>\n",
       "    <tr>\n",
       "      <th>75%</th>\n",
       "      <td>6.500000e+05</td>\n",
       "      <td>1.000000e+05</td>\n",
       "      <td>22.540000</td>\n",
       "      <td>1498.000000</td>\n",
       "      <td>100.000000</td>\n",
       "      <td>5.000000</td>\n",
       "      <td>11.000000</td>\n",
       "    </tr>\n",
       "    <tr>\n",
       "      <th>max</th>\n",
       "      <td>1.000000e+07</td>\n",
       "      <td>2.360457e+06</td>\n",
       "      <td>42.000000</td>\n",
       "      <td>3604.000000</td>\n",
       "      <td>400.000000</td>\n",
       "      <td>14.000000</td>\n",
       "      <td>28.000000</td>\n",
       "    </tr>\n",
       "  </tbody>\n",
       "</table>\n",
       "</div>"
      ],
      "text/plain": [
       "       selling_price     km_driven      mileage       engine    max_power  \\\n",
       "count   6.539000e+03  6.539000e+03  6539.000000  6539.000000  6539.000000   \n",
       "mean    5.305429e+05  7.269697e+04    19.517721  1430.571953    87.857610   \n",
       "std     5.132614e+05  5.869317e+04     4.045410   491.703071    31.685995   \n",
       "min     2.999900e+04  1.000000e+03     0.000000   624.000000    32.800000   \n",
       "25%     2.500000e+05  3.600000e+04    16.800000  1197.000000    68.000000   \n",
       "50%     4.250000e+05  6.644400e+04    19.640000  1248.000000    81.860000   \n",
       "75%     6.500000e+05  1.000000e+05    22.540000  1498.000000   100.000000   \n",
       "max     1.000000e+07  2.360457e+06    42.000000  3604.000000   400.000000   \n",
       "\n",
       "             seats          age  \n",
       "count  6539.000000  6539.000000  \n",
       "mean      5.433553     8.273589  \n",
       "std       0.979437     3.810427  \n",
       "min       2.000000     2.000000  \n",
       "25%       5.000000     5.000000  \n",
       "50%       5.000000     8.000000  \n",
       "75%       5.000000    11.000000  \n",
       "max      14.000000    28.000000  "
      ]
     },
     "execution_count": 11,
     "metadata": {},
     "output_type": "execute_result"
    }
   ],
   "source": [
    "dataset.describe()"
   ]
  },
  {
   "cell_type": "markdown",
   "id": "bc6dd9ce",
   "metadata": {},
   "source": [
    "#### Handling categorical variables\n",
    "##### 1) check value count for the categorical variables\n",
    "including column fuel, seller_type, transmission and owner"
   ]
  },
  {
   "cell_type": "code",
   "execution_count": 12,
   "id": "c07d29df",
   "metadata": {},
   "outputs": [
    {
     "name": "stdout",
     "output_type": "stream",
     "text": [
      "Diesel    3569\n",
      "Petrol    2885\n",
      "CNG         51\n",
      "LPG         34\n",
      "Name: fuel, dtype: int64 \n",
      "\n",
      "Individual          5851\n",
      "Dealer               661\n",
      "Trustmark Dealer      27\n",
      "Name: seller_type, dtype: int64 \n",
      "\n",
      "Manual       5973\n",
      "Automatic     566\n",
      "Name: transmission, dtype: int64 \n",
      "\n",
      "First Owner     4160\n",
      "Second Owner    1886\n",
      "Third Owner      493\n",
      "Name: owner, dtype: int64\n"
     ]
    }
   ],
   "source": [
    "# check value count for the categorical variables\n",
    "print(dataset.fuel.value_counts(),\"\\n\")\n",
    "\n",
    "#please do the same for seller_type, transmission and owner \n",
    "print(dataset.seller_type.value_counts(),\"\\n\")\n",
    "print(dataset.transmission.value_counts(), \"\\n\")\n",
    "print(dataset.owner.value_counts())"
   ]
  },
  {
   "cell_type": "markdown",
   "id": "15eec836",
   "metadata": {},
   "source": [
    "#### 2) Deal with ordinal variables\n",
    "transform the strings to numbers"
   ]
  },
  {
   "cell_type": "code",
   "execution_count": 13,
   "id": "c53888b7",
   "metadata": {},
   "outputs": [
    {
     "data": {
      "text/html": [
       "<div>\n",
       "<style scoped>\n",
       "    .dataframe tbody tr th:only-of-type {\n",
       "        vertical-align: middle;\n",
       "    }\n",
       "\n",
       "    .dataframe tbody tr th {\n",
       "        vertical-align: top;\n",
       "    }\n",
       "\n",
       "    .dataframe thead th {\n",
       "        text-align: right;\n",
       "    }\n",
       "</style>\n",
       "<table border=\"1\" class=\"dataframe\">\n",
       "  <thead>\n",
       "    <tr style=\"text-align: right;\">\n",
       "      <th></th>\n",
       "      <th>selling_price</th>\n",
       "      <th>km_driven</th>\n",
       "      <th>fuel</th>\n",
       "      <th>seller_type</th>\n",
       "      <th>transmission</th>\n",
       "      <th>owner</th>\n",
       "      <th>mileage</th>\n",
       "      <th>engine</th>\n",
       "      <th>max_power</th>\n",
       "      <th>seats</th>\n",
       "      <th>age</th>\n",
       "    </tr>\n",
       "  </thead>\n",
       "  <tbody>\n",
       "    <tr>\n",
       "      <th>0</th>\n",
       "      <td>450000</td>\n",
       "      <td>145500</td>\n",
       "      <td>Diesel</td>\n",
       "      <td>Individual</td>\n",
       "      <td>Manual</td>\n",
       "      <td>1</td>\n",
       "      <td>23.40</td>\n",
       "      <td>1248</td>\n",
       "      <td>74.00</td>\n",
       "      <td>5.0</td>\n",
       "      <td>8</td>\n",
       "    </tr>\n",
       "    <tr>\n",
       "      <th>1</th>\n",
       "      <td>370000</td>\n",
       "      <td>120000</td>\n",
       "      <td>Diesel</td>\n",
       "      <td>Individual</td>\n",
       "      <td>Manual</td>\n",
       "      <td>2</td>\n",
       "      <td>21.14</td>\n",
       "      <td>1498</td>\n",
       "      <td>103.52</td>\n",
       "      <td>5.0</td>\n",
       "      <td>8</td>\n",
       "    </tr>\n",
       "    <tr>\n",
       "      <th>2</th>\n",
       "      <td>158000</td>\n",
       "      <td>140000</td>\n",
       "      <td>Petrol</td>\n",
       "      <td>Individual</td>\n",
       "      <td>Manual</td>\n",
       "      <td>3</td>\n",
       "      <td>17.70</td>\n",
       "      <td>1497</td>\n",
       "      <td>78.00</td>\n",
       "      <td>5.0</td>\n",
       "      <td>16</td>\n",
       "    </tr>\n",
       "    <tr>\n",
       "      <th>3</th>\n",
       "      <td>225000</td>\n",
       "      <td>127000</td>\n",
       "      <td>Diesel</td>\n",
       "      <td>Individual</td>\n",
       "      <td>Manual</td>\n",
       "      <td>1</td>\n",
       "      <td>23.00</td>\n",
       "      <td>1396</td>\n",
       "      <td>90.00</td>\n",
       "      <td>5.0</td>\n",
       "      <td>12</td>\n",
       "    </tr>\n",
       "    <tr>\n",
       "      <th>4</th>\n",
       "      <td>130000</td>\n",
       "      <td>120000</td>\n",
       "      <td>Petrol</td>\n",
       "      <td>Individual</td>\n",
       "      <td>Manual</td>\n",
       "      <td>1</td>\n",
       "      <td>16.10</td>\n",
       "      <td>1298</td>\n",
       "      <td>88.20</td>\n",
       "      <td>5.0</td>\n",
       "      <td>15</td>\n",
       "    </tr>\n",
       "  </tbody>\n",
       "</table>\n",
       "</div>"
      ],
      "text/plain": [
       "   selling_price  km_driven    fuel seller_type transmission  owner  mileage  \\\n",
       "0         450000     145500  Diesel  Individual       Manual      1    23.40   \n",
       "1         370000     120000  Diesel  Individual       Manual      2    21.14   \n",
       "2         158000     140000  Petrol  Individual       Manual      3    17.70   \n",
       "3         225000     127000  Diesel  Individual       Manual      1    23.00   \n",
       "4         130000     120000  Petrol  Individual       Manual      1    16.10   \n",
       "\n",
       "   engine  max_power  seats  age  \n",
       "0    1248      74.00    5.0    8  \n",
       "1    1498     103.52    5.0    8  \n",
       "2    1497      78.00    5.0   16  \n",
       "3    1396      90.00    5.0   12  \n",
       "4    1298      88.20    5.0   15  "
      ]
     },
     "execution_count": 13,
     "metadata": {},
     "output_type": "execute_result"
    }
   ],
   "source": [
    "#Ordinal encoding\n",
    "dataset['owner'] = dataset['owner'].replace({'First Owner': 1, 'Second Owner': 2, 'Third Owner': 3})\n",
    "dataset.head()"
   ]
  },
  {
   "cell_type": "markdown",
   "id": "4642dcb2",
   "metadata": {},
   "source": [
    "#### 3) Deal with nominal variables\n",
    "transform nominal variable into dummy variables: "
   ]
  },
  {
   "cell_type": "code",
   "execution_count": 14,
   "id": "507caefd",
   "metadata": {},
   "outputs": [
    {
     "data": {
      "text/html": [
       "<div>\n",
       "<style scoped>\n",
       "    .dataframe tbody tr th:only-of-type {\n",
       "        vertical-align: middle;\n",
       "    }\n",
       "\n",
       "    .dataframe tbody tr th {\n",
       "        vertical-align: top;\n",
       "    }\n",
       "\n",
       "    .dataframe thead th {\n",
       "        text-align: right;\n",
       "    }\n",
       "</style>\n",
       "<table border=\"1\" class=\"dataframe\">\n",
       "  <thead>\n",
       "    <tr style=\"text-align: right;\">\n",
       "      <th></th>\n",
       "      <th>selling_price</th>\n",
       "      <th>km_driven</th>\n",
       "      <th>owner</th>\n",
       "      <th>mileage</th>\n",
       "      <th>engine</th>\n",
       "      <th>max_power</th>\n",
       "      <th>seats</th>\n",
       "      <th>age</th>\n",
       "      <th>fuel_CNG</th>\n",
       "      <th>fuel_Diesel</th>\n",
       "      <th>fuel_LPG</th>\n",
       "      <th>fuel_Petrol</th>\n",
       "      <th>seller_type_Dealer</th>\n",
       "      <th>seller_type_Individual</th>\n",
       "      <th>seller_type_Trustmark Dealer</th>\n",
       "      <th>transmission_Automatic</th>\n",
       "      <th>transmission_Manual</th>\n",
       "    </tr>\n",
       "  </thead>\n",
       "  <tbody>\n",
       "    <tr>\n",
       "      <th>0</th>\n",
       "      <td>450000</td>\n",
       "      <td>145500</td>\n",
       "      <td>1</td>\n",
       "      <td>23.40</td>\n",
       "      <td>1248</td>\n",
       "      <td>74.00</td>\n",
       "      <td>5.0</td>\n",
       "      <td>8</td>\n",
       "      <td>0</td>\n",
       "      <td>1</td>\n",
       "      <td>0</td>\n",
       "      <td>0</td>\n",
       "      <td>0</td>\n",
       "      <td>1</td>\n",
       "      <td>0</td>\n",
       "      <td>0</td>\n",
       "      <td>1</td>\n",
       "    </tr>\n",
       "    <tr>\n",
       "      <th>1</th>\n",
       "      <td>370000</td>\n",
       "      <td>120000</td>\n",
       "      <td>2</td>\n",
       "      <td>21.14</td>\n",
       "      <td>1498</td>\n",
       "      <td>103.52</td>\n",
       "      <td>5.0</td>\n",
       "      <td>8</td>\n",
       "      <td>0</td>\n",
       "      <td>1</td>\n",
       "      <td>0</td>\n",
       "      <td>0</td>\n",
       "      <td>0</td>\n",
       "      <td>1</td>\n",
       "      <td>0</td>\n",
       "      <td>0</td>\n",
       "      <td>1</td>\n",
       "    </tr>\n",
       "    <tr>\n",
       "      <th>2</th>\n",
       "      <td>158000</td>\n",
       "      <td>140000</td>\n",
       "      <td>3</td>\n",
       "      <td>17.70</td>\n",
       "      <td>1497</td>\n",
       "      <td>78.00</td>\n",
       "      <td>5.0</td>\n",
       "      <td>16</td>\n",
       "      <td>0</td>\n",
       "      <td>0</td>\n",
       "      <td>0</td>\n",
       "      <td>1</td>\n",
       "      <td>0</td>\n",
       "      <td>1</td>\n",
       "      <td>0</td>\n",
       "      <td>0</td>\n",
       "      <td>1</td>\n",
       "    </tr>\n",
       "    <tr>\n",
       "      <th>3</th>\n",
       "      <td>225000</td>\n",
       "      <td>127000</td>\n",
       "      <td>1</td>\n",
       "      <td>23.00</td>\n",
       "      <td>1396</td>\n",
       "      <td>90.00</td>\n",
       "      <td>5.0</td>\n",
       "      <td>12</td>\n",
       "      <td>0</td>\n",
       "      <td>1</td>\n",
       "      <td>0</td>\n",
       "      <td>0</td>\n",
       "      <td>0</td>\n",
       "      <td>1</td>\n",
       "      <td>0</td>\n",
       "      <td>0</td>\n",
       "      <td>1</td>\n",
       "    </tr>\n",
       "    <tr>\n",
       "      <th>4</th>\n",
       "      <td>130000</td>\n",
       "      <td>120000</td>\n",
       "      <td>1</td>\n",
       "      <td>16.10</td>\n",
       "      <td>1298</td>\n",
       "      <td>88.20</td>\n",
       "      <td>5.0</td>\n",
       "      <td>15</td>\n",
       "      <td>0</td>\n",
       "      <td>0</td>\n",
       "      <td>0</td>\n",
       "      <td>1</td>\n",
       "      <td>0</td>\n",
       "      <td>1</td>\n",
       "      <td>0</td>\n",
       "      <td>0</td>\n",
       "      <td>1</td>\n",
       "    </tr>\n",
       "  </tbody>\n",
       "</table>\n",
       "</div>"
      ],
      "text/plain": [
       "   selling_price  km_driven  owner  mileage  engine  max_power  seats  age  \\\n",
       "0         450000     145500      1    23.40    1248      74.00    5.0    8   \n",
       "1         370000     120000      2    21.14    1498     103.52    5.0    8   \n",
       "2         158000     140000      3    17.70    1497      78.00    5.0   16   \n",
       "3         225000     127000      1    23.00    1396      90.00    5.0   12   \n",
       "4         130000     120000      1    16.10    1298      88.20    5.0   15   \n",
       "\n",
       "   fuel_CNG  fuel_Diesel  fuel_LPG  fuel_Petrol  seller_type_Dealer  \\\n",
       "0         0            1         0            0                   0   \n",
       "1         0            1         0            0                   0   \n",
       "2         0            0         0            1                   0   \n",
       "3         0            1         0            0                   0   \n",
       "4         0            0         0            1                   0   \n",
       "\n",
       "   seller_type_Individual  seller_type_Trustmark Dealer  \\\n",
       "0                       1                             0   \n",
       "1                       1                             0   \n",
       "2                       1                             0   \n",
       "3                       1                             0   \n",
       "4                       1                             0   \n",
       "\n",
       "   transmission_Automatic  transmission_Manual  \n",
       "0                       0                    1  \n",
       "1                       0                    1  \n",
       "2                       0                    1  \n",
       "3                       0                    1  \n",
       "4                       0                    1  "
      ]
     },
     "execution_count": 14,
     "metadata": {},
     "output_type": "execute_result"
    }
   ],
   "source": [
    "dataset = pd.get_dummies(dataset, columns=['fuel', 'seller_type', 'transmission'])\n",
    "dataset.head() "
   ]
  },
  {
   "cell_type": "markdown",
   "id": "483eee33",
   "metadata": {},
   "source": [
    "#### Check dataset shape"
   ]
  },
  {
   "cell_type": "code",
   "execution_count": 15,
   "id": "9020fd0f",
   "metadata": {},
   "outputs": [
    {
     "data": {
      "text/plain": [
       "(6539, 17)"
      ]
     },
     "execution_count": 15,
     "metadata": {},
     "output_type": "execute_result"
    }
   ],
   "source": [
    "dataset.shape"
   ]
  },
  {
   "cell_type": "markdown",
   "id": "a7cb3c9b",
   "metadata": {},
   "source": [
    "#### Define the input variables and the target variable\n",
    "target variable is the selling_price, and input variables are the rest of the columns (you can check the dataset column names and the shape to know which column index you should put here)"
   ]
  },
  {
   "cell_type": "code",
   "execution_count": 16,
   "id": "ea668e3d",
   "metadata": {},
   "outputs": [],
   "source": [
    "array = dataset.values\n",
    "X = array[:,1:17]\n",
    "y = array[:,0]"
   ]
  },
  {
   "cell_type": "markdown",
   "id": "243dbe67",
   "metadata": {},
   "source": [
    "### Split the dataset and normalize data"
   ]
  },
  {
   "cell_type": "markdown",
   "id": "21dea414",
   "metadata": {},
   "source": [
    "#### Split the training and testing dataset\n",
    "Randomly sample the dataset with a random state of 123, use 90% for training and 10% for testinguse"
   ]
  },
  {
   "cell_type": "code",
   "execution_count": 17,
   "id": "8045fedf",
   "metadata": {},
   "outputs": [],
   "source": [
    "from sklearn.model_selection import train_test_split\n",
    "\n",
    "X_train, X_test, y_train, y_test = train_test_split(X, y, test_size=0.1, random_state=123)"
   ]
  },
  {
   "cell_type": "markdown",
   "id": "15cf4282",
   "metadata": {},
   "source": [
    "#### Apply normalization on both train and testing dataset\n",
    "One reason this is important is because the variables are multiplied by the model weights. So the scale of the outputs and the scale of the gradients are affected by the scale of the inputs.\n",
    "\n",
    "Although a model might converge without normalization, normalization makes training much more stable."
   ]
  },
  {
   "cell_type": "code",
   "execution_count": 18,
   "id": "ffb3487e",
   "metadata": {},
   "outputs": [],
   "source": [
    "from sklearn.preprocessing import MinMaxScaler\n",
    "\n",
    "# fit scaler on training data\n",
    "norm = MinMaxScaler().fit(X_train)\n",
    "\n",
    "# transform training data\n",
    "X_train_norm = norm.transform(X_train)\n",
    "\n",
    "# transform testing data\n",
    "X_test_norm = norm.transform(X_test)"
   ]
  },
  {
   "cell_type": "markdown",
   "id": "ec7f7726",
   "metadata": {},
   "source": [
    "### Train a model"
   ]
  },
  {
   "cell_type": "markdown",
   "id": "b263a4c7",
   "metadata": {},
   "source": [
    "#### Approach 1: Train the model based on entire training dataset and then evaluate the model based on testing dataset\n",
    "\n",
    "Example of how to build a Linear Regression (LR) model"
   ]
  },
  {
   "cell_type": "code",
   "execution_count": 19,
   "id": "15c13d08",
   "metadata": {},
   "outputs": [
    {
     "name": "stdout",
     "output_type": "stream",
     "text": [
      "R2 of LR: 0.5917399630409527\n"
     ]
    }
   ],
   "source": [
    "from sklearn.linear_model import LinearRegression\n",
    "\n",
    "model = LinearRegression()\n",
    "\n",
    "model.fit(X_train_norm, y_train)\n",
    "\n",
    "test_score = model.score(X_test_norm, y_test)\n",
    "print(\"R2 of LR:\", test_score)"
   ]
  },
  {
   "cell_type": "markdown",
   "id": "c3e89955",
   "metadata": {},
   "source": [
    "Example of how to build a support vector machine (SVM) model"
   ]
  },
  {
   "cell_type": "code",
   "execution_count": 20,
   "id": "bbe7c49a",
   "metadata": {},
   "outputs": [
    {
     "name": "stdout",
     "output_type": "stream",
     "text": [
      "R2 of SVM: -0.04101852488410551\n"
     ]
    }
   ],
   "source": [
    "from sklearn.svm import SVR\n",
    "\n",
    "model = SVR()\n",
    "\n",
    "model.fit(X_train_norm, y_train)\n",
    "\n",
    "test_score = model.score(X_test_norm, y_test)\n",
    "print(\"R2 of SVM:\", test_score)"
   ]
  },
  {
   "cell_type": "markdown",
   "id": "5017a8d5",
   "metadata": {},
   "source": [
    "#### Approach 2: Train the model based on training dataset with cross validation and then evaluate the model based on testing dataset\n",
    "#####  1) Define a 10 fold cross validation with data shufflling and set the random state with 123\n",
    "benefits of cross validation: the model can be more generalized, and less prone to be over-fiited. Normally value of k is 5 or 10"
   ]
  },
  {
   "cell_type": "code",
   "execution_count": 21,
   "id": "986e4529",
   "metadata": {},
   "outputs": [],
   "source": [
    "from sklearn.model_selection import KFold\n",
    "\n",
    "kfold = KFold(n_splits=10, shuffle=True, random_state=123) #set 10-fold cross validation after shuffle the dataset with random seed 7"
   ]
  },
  {
   "cell_type": "markdown",
   "id": "d4938727",
   "metadata": {},
   "source": [
    "##### 2) Run 10-fold cross validation and print the average r-squared score based on the cross validation results\n",
    "For a regression task, the default evaluation metrics is r squared.\n",
    "\n",
    "First we evaluate on a linear regression model"
   ]
  },
  {
   "cell_type": "code",
   "execution_count": 22,
   "id": "dcd5fd5b",
   "metadata": {},
   "outputs": [
    {
     "name": "stdout",
     "output_type": "stream",
     "text": [
      "Average R2 of LR: 0.6301286590968104\n"
     ]
    }
   ],
   "source": [
    "from sklearn.model_selection import cross_val_score\n",
    "from sklearn.linear_model import LinearRegression\n",
    "\n",
    "#Basic training of the linear regression model\n",
    "# define a LR model with default parameter setting\n",
    "lr = LinearRegression()\n",
    "# run the previously defined 10-fold validation on the dataset\n",
    "results = cross_val_score(lr, X_train_norm, y_train, cv=kfold)\n",
    "# print the averae r squared scores\n",
    "print(\"Average R2 of LR:\",results.mean())"
   ]
  },
  {
   "cell_type": "code",
   "execution_count": 23,
   "id": "f7f27067",
   "metadata": {},
   "outputs": [
    {
     "data": {
      "text/plain": [
       "array([0.66534965, 0.68389047, 0.59910499, 0.62052783, 0.57296351,\n",
       "       0.56451801, 0.64380195, 0.63352477, 0.67666672, 0.64093867])"
      ]
     },
     "execution_count": 23,
     "metadata": {},
     "output_type": "execute_result"
    }
   ],
   "source": [
    "results"
   ]
  },
  {
   "cell_type": "markdown",
   "id": "f6889c6d",
   "metadata": {},
   "source": [
    "Now, we evaluate on a SVM model"
   ]
  },
  {
   "cell_type": "code",
   "execution_count": 24,
   "id": "f03c6401",
   "metadata": {},
   "outputs": [
    {
     "name": "stdout",
     "output_type": "stream",
     "text": [
      "Average R2 of SVM: -0.0433563621588632\n"
     ]
    }
   ],
   "source": [
    "from sklearn.svm import SVR\n",
    "\n",
    "svr = SVR()\n",
    "results = cross_val_score(svr, X_train_norm, y_train, cv=kfold)\n",
    "print(\"Average R2 of SVM:\",results.mean())"
   ]
  },
  {
   "cell_type": "code",
   "execution_count": 25,
   "id": "4cf5dc4d",
   "metadata": {},
   "outputs": [
    {
     "data": {
      "text/plain": [
       "array([-0.05091688, -0.04148946, -0.06101536, -0.03055859, -0.04283295,\n",
       "       -0.03243792, -0.04872806, -0.04082401, -0.04594328, -0.03881711])"
      ]
     },
     "execution_count": 25,
     "metadata": {},
     "output_type": "execute_result"
    }
   ],
   "source": [
    "results"
   ]
  },
  {
   "cell_type": "markdown",
   "id": "23f67f46",
   "metadata": {},
   "source": [
    "### Optimize models with cross validatioin"
   ]
  },
  {
   "cell_type": "markdown",
   "id": "0930e233",
   "metadata": {},
   "source": [
    "First we optimize the Liner Regression model\n",
    "\n",
    "The parameters that can be applied in grid_params can be found here: https://scikit-learn.org/stable/modules/generated/sklearn.linear_model.LinearRegression.html You can add more values and parameters in the grid_params_lr."
   ]
  },
  {
   "cell_type": "code",
   "execution_count": 26,
   "id": "1e56c8f6",
   "metadata": {},
   "outputs": [
    {
     "name": "stdout",
     "output_type": "stream",
     "text": [
      "0.6301286590968104\n"
     ]
    }
   ],
   "source": [
    "# fine tune parameters for lr model\n",
    "from sklearn.model_selection import GridSearchCV\n",
    "\n",
    "grid_params_lr = {\n",
    "    'fit_intercept': [True, False],\n",
    "    'positive': [True, False]\n",
    "}\n",
    "\n",
    "lr = LinearRegression()\n",
    "gs_lr_result = GridSearchCV(lr, grid_params_lr, cv=kfold).fit(X_train_norm, y_train)\n",
    "print(gs_lr_result.best_score_)"
   ]
  },
  {
   "cell_type": "markdown",
   "id": "13224a73",
   "metadata": {},
   "source": [
    "Then we optimize the SVM model\n",
    "\n",
    "The parameters that can be applied in grid_params can be found here: https://scikit-learn.org/stable/modules/generated/sklearn.svm.SVR.html You can add more values and parameters in the grid_params_svr. Note: it will take some time to find the optimal SVM model. (sometimes more than 1 hour or even more)"
   ]
  },
  {
   "cell_type": "code",
   "execution_count": 27,
   "id": "96ddcd9b",
   "metadata": {},
   "outputs": [
    {
     "name": "stdout",
     "output_type": "stream",
     "text": [
      "0.8663820328015628\n"
     ]
    }
   ],
   "source": [
    "# fine tune parameters for lr model\n",
    "from sklearn.model_selection import GridSearchCV\n",
    "\n",
    "grid_params_svr = {\n",
    "    'kernel' : ('linear', 'poly', 'rbf', 'sigmoid'),\n",
    "    'C' : [1,5],\n",
    "    'degree' : [3,8],\n",
    "    'coef0' : [0.01,10,1],\n",
    "    'gamma' : ('auto','scale')\n",
    "}\n",
    "\n",
    "svr = SVR()\n",
    "gs_svr_result = GridSearchCV(svr, grid_params_svr, cv=kfold).fit(X_train_norm, y_train)\n",
    "print(gs_svr_result.best_score_)"
   ]
  },
  {
   "cell_type": "markdown",
   "id": "2a4a9e0f",
   "metadata": {},
   "source": [
    "### Evaluate the trained Linear Regression model using testing dataset"
   ]
  },
  {
   "cell_type": "code",
   "execution_count": 29,
   "id": "77c45eda",
   "metadata": {},
   "outputs": [
    {
     "name": "stdout",
     "output_type": "stream",
     "text": [
      "R2 of LR in testing: 0.5917399630409527\n"
     ]
    }
   ],
   "source": [
    "# use the best model and evaluate on testing set\n",
    "lr_test_R2 = gs_lr_result.best_estimator_.score(X_test_norm, y_test)\n",
    "print(\"R2 of LR in testing:\", lr_test_R2)"
   ]
  },
  {
   "cell_type": "code",
   "execution_count": 30,
   "id": "195be19c",
   "metadata": {},
   "outputs": [
    {
     "data": {
      "text/plain": [
       "{'fit_intercept': True, 'positive': False}"
      ]
     },
     "execution_count": 30,
     "metadata": {},
     "output_type": "execute_result"
    }
   ],
   "source": [
    "# check the parameter setting for the best selected model\n",
    "gs_lr_result.best_params_"
   ]
  },
  {
   "cell_type": "markdown",
   "id": "92a08edf",
   "metadata": {},
   "source": [
    "### Evaluate the trained Support Vector Machine model using testing dataset¶"
   ]
  },
  {
   "cell_type": "code",
   "execution_count": 31,
   "id": "7aade658",
   "metadata": {},
   "outputs": [
    {
     "name": "stdout",
     "output_type": "stream",
     "text": [
      "R2 of SVM in testing: 0.8734479774991956\n"
     ]
    }
   ],
   "source": [
    "# use the best model and evaluate on testing set\n",
    "svr_test_R2 = gs_svr_result.best_estimator_.score(X_test_norm, y_test)\n",
    "print(\"R2 of SVM in testing:\", svr_test_R2)"
   ]
  },
  {
   "cell_type": "code",
   "execution_count": 32,
   "id": "de64dc3a",
   "metadata": {},
   "outputs": [
    {
     "data": {
      "text/plain": [
       "{'C': 5, 'coef0': 10, 'degree': 8, 'gamma': 'scale', 'kernel': 'poly'}"
      ]
     },
     "execution_count": 32,
     "metadata": {},
     "output_type": "execute_result"
    }
   ],
   "source": [
    "# check the parameter setting for the best selected model\n",
    "gs_svr_result.best_params_"
   ]
  },
  {
   "cell_type": "markdown",
   "id": "9077b9b1",
   "metadata": {},
   "source": [
    "### Predict with a trained model"
   ]
  },
  {
   "cell_type": "code",
   "execution_count": 35,
   "id": "62e295b9",
   "metadata": {},
   "outputs": [
    {
     "name": "stdout",
     "output_type": "stream",
     "text": [
      "[1214499.9736509   337037.49493902  551382.04202298  143190.56974847\n",
      "  498800.41080653]\n"
     ]
    }
   ],
   "source": [
    "# predict with the first 5 data points\n",
    "y_predict = gs_lr_result.best_estimator_.predict(X_test_norm[:5]) \n",
    "print(y_predict)"
   ]
  },
  {
   "cell_type": "code",
   "execution_count": 36,
   "id": "bad4c943",
   "metadata": {},
   "outputs": [
    {
     "name": "stdout",
     "output_type": "stream",
     "text": [
      "[1328635.02826361  260837.69530753  305721.66056136  147022.75486139\n",
      "  434599.19056777]\n"
     ]
    }
   ],
   "source": [
    "# predict with the first 5 data points\n",
    "y_predict = gs_svr_result.best_estimator_.predict(X_test_norm[:5]) \n",
    "print(y_predict)"
   ]
  },
  {
   "cell_type": "markdown",
   "id": "91aec3e1",
   "metadata": {},
   "source": [
    "### Save and load a trained model"
   ]
  },
  {
   "cell_type": "markdown",
   "id": "663eacb1",
   "metadata": {},
   "source": [
    "#### linear regression model"
   ]
  },
  {
   "cell_type": "code",
   "execution_count": 37,
   "id": "47be80ed",
   "metadata": {},
   "outputs": [
    {
     "name": "stdout",
     "output_type": "stream",
     "text": [
      "R2 score: 0.5917399630409527\n"
     ]
    }
   ],
   "source": [
    "import pickle\n",
    "\n",
    "# Save to file in the current working directory\n",
    "pkl_filename = \"lr_model.pkl\"  \n",
    "with open(pkl_filename, 'wb') as file:  \n",
    "    pickle.dump(gs_lr_result.best_estimator_, file)\n",
    "\n",
    "# Load from file\n",
    "with open(pkl_filename, 'rb') as file:  \n",
    "    pickle_model = pickle.load(file)\n",
    "\n",
    "# Calculate the accuracy score and predict target values\n",
    "score = pickle_model.score(X_test_norm, y_test)  \n",
    "print(\"R2 score:\", score)  "
   ]
  },
  {
   "cell_type": "markdown",
   "id": "c0642d23",
   "metadata": {},
   "source": [
    "#### similarly for a svm model"
   ]
  },
  {
   "cell_type": "code",
   "execution_count": 38,
   "id": "568c1f59",
   "metadata": {},
   "outputs": [
    {
     "name": "stdout",
     "output_type": "stream",
     "text": [
      "R2 score: 0.8734479774991956\n"
     ]
    }
   ],
   "source": [
    "import pickle\n",
    "\n",
    "# Save to file in the current working directory\n",
    "pkl_filename = \"svm_model.pkl\"  \n",
    "with open(pkl_filename, 'wb') as file:  \n",
    "    pickle.dump(gs_svr_result.best_estimator_, file)\n",
    "\n",
    "# Load from file\n",
    "with open(pkl_filename, 'rb') as file:  \n",
    "    pickle_model = pickle.load(file)\n",
    "\n",
    "# Calculate the accuracy score and predict target values\n",
    "score = pickle_model.score(X_test_norm, y_test)  \n",
    "print(\"R2 score:\", score)  "
   ]
  },
  {
   "cell_type": "code",
   "execution_count": null,
   "id": "1cca33b5",
   "metadata": {},
   "outputs": [],
   "source": []
  }
 ],
 "metadata": {
  "kernelspec": {
   "display_name": "Python 3 (ipykernel)",
   "language": "python",
   "name": "python3"
  },
  "language_info": {
   "codemirror_mode": {
    "name": "ipython",
    "version": 3
   },
   "file_extension": ".py",
   "mimetype": "text/x-python",
   "name": "python",
   "nbconvert_exporter": "python",
   "pygments_lexer": "ipython3",
   "version": "3.7.13"
  }
 },
 "nbformat": 4,
 "nbformat_minor": 5
}
