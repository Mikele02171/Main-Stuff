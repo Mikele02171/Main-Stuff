{
 "cells": [
  {
   "cell_type": "markdown",
   "id": "f24b44b0",
   "metadata": {},
   "source": [
    "Try use kmeans on the heart disease dataset that we used before in Lab 2, since the dataset is for binary classification, we can set the number of cluster to be 2, and investigate the clustering result. "
   ]
  },
  {
   "cell_type": "markdown",
   "id": "873b54b2",
   "metadata": {},
   "source": [
    "### Data Preprocessing"
   ]
  },
  {
   "cell_type": "markdown",
   "id": "1dcaf142",
   "metadata": {},
   "source": [
    "The entire pre-processing should include: loading the data, handingling missing values, checking and transforming data types, dealing with categorical variables, extracting values from input variables (define inputs variables and the target variable), and scaling the variables with min-max normalization"
   ]
  },
  {
   "cell_type": "code",
   "execution_count": 1,
   "id": "16de8cd1",
   "metadata": {},
   "outputs": [
    {
     "name": "stdout",
     "output_type": "stream",
     "text": [
      "dataset length: 303\n",
      "dataset length after removing missing values: 297\n"
     ]
    }
   ],
   "source": [
    "import pandas as pd\n",
    "from sklearn.preprocessing import MinMaxScaler\n",
    "\n",
    "# load dataset\n",
    "dataset = pd.read_csv(\"heart_disease.csv\")\n",
    "print(\"dataset length:\", len(dataset))\n",
    "\n",
    "# handling missing values\n",
    "dataset = dataset.dropna()\n",
    "print(\"dataset length after removing missing values:\", len(dataset))\n",
    "\n",
    "# transform data type\n",
    "cols = ['Number of major vessels', 'thal']\n",
    "dataset[cols] = dataset[cols].astype(int)\n",
    "\n",
    "# dealing with categorical variables\n",
    "dataset['Sex'] = dataset['Sex'].replace({'male': 1, 'female': 0})\n",
    "dataset['Fasting Blood Sugar'] = dataset['Fasting Blood Sugar'].replace({True: 1, False: 0})\n",
    "dataset['Chest Pain Type'] = dataset['Chest Pain Type'].replace({'typical angina': 1, 'atypical angina': 2, 'non-anginal pain': 3, 'asymptomatic': 3})\n",
    "\n",
    "# define input variables\n",
    "array = dataset.values\n",
    "X = array[:,0:-1]\n",
    "\n",
    "# fit scaler on training data\n",
    "norm = MinMaxScaler().fit(X)\n",
    "X = norm.transform(X)"
   ]
  },
  {
   "cell_type": "markdown",
   "id": "8159b484",
   "metadata": {},
   "source": [
    "### Build a kmeans model\n",
    "Define the random state number as 0 and since the the heart disease has two classes, we define the cluster number as 2. "
   ]
  },
  {
   "cell_type": "code",
   "execution_count": 2,
   "id": "9d0319cd",
   "metadata": {},
   "outputs": [],
   "source": [
    "from sklearn.cluster import KMeans\n",
    "\n",
    "kmeans = KMeans(n_clusters=2, random_state=0).fit(X)"
   ]
  },
  {
   "cell_type": "markdown",
   "id": "8df6fa64",
   "metadata": {},
   "source": [
    "#### check how many data samples in each cluster"
   ]
  },
  {
   "cell_type": "code",
   "execution_count": 3,
   "id": "80d092f6",
   "metadata": {},
   "outputs": [
    {
     "data": {
      "text/plain": [
       "{0: 152, 1: 145}"
      ]
     },
     "execution_count": 3,
     "metadata": {},
     "output_type": "execute_result"
    }
   ],
   "source": [
    "import numpy as np\n",
    "\n",
    "unique_labels, unique_counts = np.unique(kmeans.labels_, return_counts=True)\n",
    "dict(zip(unique_labels, unique_counts))"
   ]
  },
  {
   "cell_type": "markdown",
   "id": "3928cb94",
   "metadata": {},
   "source": [
    "#### Extract prototype for each cluster"
   ]
  },
  {
   "cell_type": "code",
   "execution_count": 4,
   "id": "cf94a9ed",
   "metadata": {},
   "outputs": [
    {
     "data": {
      "text/html": [
       "<div>\n",
       "<style scoped>\n",
       "    .dataframe tbody tr th:only-of-type {\n",
       "        vertical-align: middle;\n",
       "    }\n",
       "\n",
       "    .dataframe tbody tr th {\n",
       "        vertical-align: top;\n",
       "    }\n",
       "\n",
       "    .dataframe thead th {\n",
       "        text-align: right;\n",
       "    }\n",
       "</style>\n",
       "<table border=\"1\" class=\"dataframe\">\n",
       "  <thead>\n",
       "    <tr style=\"text-align: right;\">\n",
       "      <th></th>\n",
       "      <th>Age</th>\n",
       "      <th>Sex</th>\n",
       "      <th>Chest Pain Type</th>\n",
       "      <th>Resting Blood Pressure</th>\n",
       "      <th>Serum Cholestoral</th>\n",
       "      <th>Fasting Blood Sugar</th>\n",
       "      <th>Resting electrocardiographic results</th>\n",
       "      <th>Maximum heart rate achieved</th>\n",
       "      <th>Exercise induced angina</th>\n",
       "      <th>ST depression</th>\n",
       "      <th>the slope</th>\n",
       "      <th>Number of major vessels</th>\n",
       "      <th>thal</th>\n",
       "      <th>Diagnosis</th>\n",
       "    </tr>\n",
       "  </thead>\n",
       "  <tbody>\n",
       "    <tr>\n",
       "      <th>242</th>\n",
       "      <td>49</td>\n",
       "      <td>0</td>\n",
       "      <td>3</td>\n",
       "      <td>130</td>\n",
       "      <td>269</td>\n",
       "      <td>0</td>\n",
       "      <td>0</td>\n",
       "      <td>163</td>\n",
       "      <td>0</td>\n",
       "      <td>0.0</td>\n",
       "      <td>1</td>\n",
       "      <td>0</td>\n",
       "      <td>3</td>\n",
       "      <td>0</td>\n",
       "    </tr>\n",
       "    <tr>\n",
       "      <th>96</th>\n",
       "      <td>59</td>\n",
       "      <td>1</td>\n",
       "      <td>3</td>\n",
       "      <td>110</td>\n",
       "      <td>239</td>\n",
       "      <td>0</td>\n",
       "      <td>2</td>\n",
       "      <td>142</td>\n",
       "      <td>1</td>\n",
       "      <td>1.2</td>\n",
       "      <td>2</td>\n",
       "      <td>1</td>\n",
       "      <td>7</td>\n",
       "      <td>1</td>\n",
       "    </tr>\n",
       "  </tbody>\n",
       "</table>\n",
       "</div>"
      ],
      "text/plain": [
       "     Age  Sex  Chest Pain Type  Resting Blood Pressure  Serum Cholestoral  \\\n",
       "242   49    0                3                     130                269   \n",
       "96    59    1                3                     110                239   \n",
       "\n",
       "     Fasting Blood Sugar  Resting electrocardiographic results  \\\n",
       "242                    0                                     0   \n",
       "96                     0                                     2   \n",
       "\n",
       "     Maximum heart rate achieved  Exercise induced angina  ST depression  \\\n",
       "242                          163                        0            0.0   \n",
       "96                           142                        1            1.2   \n",
       "\n",
       "     the slope  Number of major vessels  thal  Diagnosis  \n",
       "242          1                        0     3          0  \n",
       "96           2                        1     7          1  "
      ]
     },
     "execution_count": 4,
     "metadata": {},
     "output_type": "execute_result"
    }
   ],
   "source": [
    "from sklearn.metrics.pairwise import pairwise_distances_argmin\n",
    "\n",
    "kmeans_cluster_centers = kmeans.cluster_centers_\n",
    "closest = pairwise_distances_argmin(kmeans.cluster_centers_, X)\n",
    "\n",
    "# show the three data samples that can represent the three clusters\n",
    "dataset.iloc[closest, :]"
   ]
  },
  {
   "cell_type": "markdown",
   "id": "2bf04c35",
   "metadata": {},
   "source": [
    "#### Check accuracy of the clustering model"
   ]
  },
  {
   "cell_type": "code",
   "execution_count": 5,
   "id": "a10a72a9",
   "metadata": {},
   "outputs": [
    {
     "name": "stdout",
     "output_type": "stream",
     "text": [
      "k means prediction accuracy: 0.7912457912457912\n"
     ]
    }
   ],
   "source": [
    "from sklearn.metrics import accuracy_score\n",
    "\n",
    "y = array[:,-1]\n",
    "kmeans_labels = kmeans.labels_\n",
    "# or kmeans_lables = kmeans.predict(X)\n",
    "\n",
    "accuracy = accuracy_score(y, kmeans_labels)\n",
    "print(\"k means prediction accuracy:\", accuracy)"
   ]
  },
  {
   "cell_type": "code",
   "execution_count": null,
   "id": "08927ea1",
   "metadata": {},
   "outputs": [],
   "source": []
  }
 ],
 "metadata": {
  "kernelspec": {
   "display_name": "Python 3 (ipykernel)",
   "language": "python",
   "name": "python3"
  },
  "language_info": {
   "codemirror_mode": {
    "name": "ipython",
    "version": 3
   },
   "file_extension": ".py",
   "mimetype": "text/x-python",
   "name": "python",
   "nbconvert_exporter": "python",
   "pygments_lexer": "ipython3",
   "version": "3.9.7"
  }
 },
 "nbformat": 4,
 "nbformat_minor": 5
}
