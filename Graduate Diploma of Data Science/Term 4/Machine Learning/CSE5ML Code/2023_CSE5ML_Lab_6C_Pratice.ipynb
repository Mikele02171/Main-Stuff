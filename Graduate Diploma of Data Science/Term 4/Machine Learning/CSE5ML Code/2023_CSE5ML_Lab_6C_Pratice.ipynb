{
 "cells": [
  {
   "cell_type": "markdown",
   "id": "impressive-surge",
   "metadata": {},
   "source": [
    "# CSE5ML Lab 6C Pratice: Predicting Stock Prices Using an LSTM Model"
   ]
  },
  {
   "cell_type": "markdown",
   "id": "deadly-kernel",
   "metadata": {},
   "source": [
    "In this practice, we are going to use the stock price history data of TESLA, which is available free from Yahoo Finance here: https://finance.yahoo.com/quote/TSLA/history?period1=1436486400&period2=1594339200&interval=1d&filter=history&frequency=1d"
   ]
  },
  {
   "cell_type": "markdown",
   "id": "fossil-think",
   "metadata": {},
   "source": [
    "### Load Data\n",
    "print out the first 5 rows"
   ]
  },
  {
   "cell_type": "code",
   "execution_count": 2,
   "id": "level-uzbekistan",
   "metadata": {},
   "outputs": [
    {
     "name": "stdout",
     "output_type": "stream",
     "text": [
      "Number of rows and columns: (1259, 7)\n"
     ]
    },
    {
     "data": {
      "text/html": [
       "<div>\n",
       "<style scoped>\n",
       "    .dataframe tbody tr th:only-of-type {\n",
       "        vertical-align: middle;\n",
       "    }\n",
       "\n",
       "    .dataframe tbody tr th {\n",
       "        vertical-align: top;\n",
       "    }\n",
       "\n",
       "    .dataframe thead th {\n",
       "        text-align: right;\n",
       "    }\n",
       "</style>\n",
       "<table border=\"1\" class=\"dataframe\">\n",
       "  <thead>\n",
       "    <tr style=\"text-align: right;\">\n",
       "      <th></th>\n",
       "      <th>Date</th>\n",
       "      <th>Open</th>\n",
       "      <th>High</th>\n",
       "      <th>Low</th>\n",
       "      <th>Close</th>\n",
       "      <th>Adj Close</th>\n",
       "      <th>Volume</th>\n",
       "    </tr>\n",
       "  </thead>\n",
       "  <tbody>\n",
       "    <tr>\n",
       "      <th>0</th>\n",
       "      <td>2015-07-10</td>\n",
       "      <td>52.444000</td>\n",
       "      <td>52.599998</td>\n",
       "      <td>51.563999</td>\n",
       "      <td>51.830002</td>\n",
       "      <td>51.830002</td>\n",
       "      <td>13054500</td>\n",
       "    </tr>\n",
       "    <tr>\n",
       "      <th>1</th>\n",
       "      <td>2015-07-13</td>\n",
       "      <td>52.450001</td>\n",
       "      <td>52.509998</td>\n",
       "      <td>51.209999</td>\n",
       "      <td>52.431999</td>\n",
       "      <td>52.431999</td>\n",
       "      <td>14801500</td>\n",
       "    </tr>\n",
       "    <tr>\n",
       "      <th>2</th>\n",
       "      <td>2015-07-14</td>\n",
       "      <td>52.419998</td>\n",
       "      <td>53.198002</td>\n",
       "      <td>52.102001</td>\n",
       "      <td>53.130001</td>\n",
       "      <td>53.130001</td>\n",
       "      <td>9538000</td>\n",
       "    </tr>\n",
       "    <tr>\n",
       "      <th>3</th>\n",
       "      <td>2015-07-15</td>\n",
       "      <td>53.348000</td>\n",
       "      <td>53.498001</td>\n",
       "      <td>52.416000</td>\n",
       "      <td>52.627998</td>\n",
       "      <td>52.627998</td>\n",
       "      <td>10108000</td>\n",
       "    </tr>\n",
       "    <tr>\n",
       "      <th>4</th>\n",
       "      <td>2015-07-16</td>\n",
       "      <td>52.844002</td>\n",
       "      <td>53.439999</td>\n",
       "      <td>52.632000</td>\n",
       "      <td>53.335999</td>\n",
       "      <td>53.335999</td>\n",
       "      <td>8080000</td>\n",
       "    </tr>\n",
       "  </tbody>\n",
       "</table>\n",
       "</div>"
      ],
      "text/plain": [
       "         Date       Open       High        Low      Close  Adj Close    Volume\n",
       "0  2015-07-10  52.444000  52.599998  51.563999  51.830002  51.830002  13054500\n",
       "1  2015-07-13  52.450001  52.509998  51.209999  52.431999  52.431999  14801500\n",
       "2  2015-07-14  52.419998  53.198002  52.102001  53.130001  53.130001   9538000\n",
       "3  2015-07-15  53.348000  53.498001  52.416000  52.627998  52.627998  10108000\n",
       "4  2015-07-16  52.844002  53.439999  52.632000  53.335999  53.335999   8080000"
      ]
     },
     "execution_count": 2,
     "metadata": {},
     "output_type": "execute_result"
    }
   ],
   "source": [
    "import pandas as pd\n",
    "\n",
    "df=pd.read_csv(\"TSLA.csv\")\n",
    "print('Number of rows and columns:', df.shape)\n",
    "df.head()"
   ]
  },
  {
   "cell_type": "markdown",
   "id": "professional-knock",
   "metadata": {},
   "source": [
    "### Plot the \"Close\" stock price based on Date"
   ]
  },
  {
   "cell_type": "code",
   "execution_count": null,
   "id": "reliable-roberts",
   "metadata": {},
   "outputs": [],
   "source": []
  },
  {
   "cell_type": "markdown",
   "id": "motivated-actress",
   "metadata": {},
   "source": [
    "### Extract the column values that you are going to use from pandas dataframe\n",
    "Here we are going to use the \"Close\" stock price to do the forecasting"
   ]
  },
  {
   "cell_type": "code",
   "execution_count": 13,
   "id": "maritime-ordinary",
   "metadata": {},
   "outputs": [],
   "source": [
    "stock = df.iloc[:, 4:5]\n",
    "# or you can use this following:\n",
    "# stock = df[[\"Close\"]]"
   ]
  },
  {
   "cell_type": "markdown",
   "id": "spanish-database",
   "metadata": {},
   "source": [
    "### Get values from dataframe which returns as numpy array"
   ]
  },
  {
   "cell_type": "code",
   "execution_count": 14,
   "id": "alien-yesterday",
   "metadata": {},
   "outputs": [],
   "source": [
    "dataset = stock.values"
   ]
  },
  {
   "cell_type": "markdown",
   "id": "exempt-documentation",
   "metadata": {},
   "source": [
    "### Normalize the data with Min-Max Normalization"
   ]
  },
  {
   "cell_type": "code",
   "execution_count": 15,
   "id": "operating-making",
   "metadata": {},
   "outputs": [],
   "source": [
    "from sklearn.preprocessing import MinMaxScaler\n",
    "\n",
    "# normalizing the data\n",
    "scaler = MinMaxScaler(feature_range=(0, 1))\n",
    "dataset = scaler.fit_transform(dataset)"
   ]
  },
  {
   "cell_type": "markdown",
   "id": "aerial-arrest",
   "metadata": {},
   "source": [
    "### split the data into training and test\n",
    "using first 800 rows for training and the rest 459 for testing"
   ]
  },
  {
   "cell_type": "code",
   "execution_count": null,
   "id": "surgical-container",
   "metadata": {},
   "outputs": [],
   "source": []
  },
  {
   "cell_type": "markdown",
   "id": "devoted-garden",
   "metadata": {},
   "source": [
    "### Create the dataset that we are going to feed to LSTM\n",
    "Define the function to create the dataset, with time (lag) and dataset as the function parmenters/arguments. \n",
    "\n",
    "Then we apply this function on our training and testing dataset with a time-step of 60"
   ]
  },
  {
   "cell_type": "code",
   "execution_count": null,
   "id": "organic-shelf",
   "metadata": {},
   "outputs": [],
   "source": []
  },
  {
   "cell_type": "code",
   "execution_count": 22,
   "id": "descending-employee",
   "metadata": {},
   "outputs": [
    {
     "data": {
      "text/plain": [
       "(739, 60)"
      ]
     },
     "execution_count": 22,
     "metadata": {},
     "output_type": "execute_result"
    }
   ],
   "source": [
    "# check data shape\n",
    "train_X.shape"
   ]
  },
  {
   "cell_type": "markdown",
   "id": "vocal-calculation",
   "metadata": {},
   "source": [
    "### Reshape the data to the input format that required by LSTM\n",
    "Format that required by LSTM: (samples_size, time-step, features)."
   ]
  },
  {
   "cell_type": "code",
   "execution_count": null,
   "id": "racial-stand",
   "metadata": {},
   "outputs": [],
   "source": []
  },
  {
   "cell_type": "markdown",
   "id": "incredible-belle",
   "metadata": {},
   "source": [
    "### Build a LSTM model\n",
    "Build a LSTM model with 4 LSTM layer, and each layer with a 50 units/nodes. After each LSTM layer, add a dropout layer with 20% dropout rate. At last, apply a dense layer. Remember to define input_shape in the first layer and set return_sequences = True for all LSTM layer except the layer LSTM layer."
   ]
  },
  {
   "cell_type": "code",
   "execution_count": null,
   "id": "based-shark",
   "metadata": {},
   "outputs": [],
   "source": []
  },
  {
   "cell_type": "markdown",
   "id": "becoming-techno",
   "metadata": {},
   "source": [
    "### Compile and train the model\n",
    "use adam as optimizer and mean_squared_error as the loss function. use batch_size of 32 and epochs of 100 for training, set validation_data as the test dataset to monitor the training process"
   ]
  },
  {
   "cell_type": "code",
   "execution_count": null,
   "id": "incoming-coalition",
   "metadata": {},
   "outputs": [],
   "source": []
  },
  {
   "cell_type": "markdown",
   "id": "still-alexander",
   "metadata": {},
   "source": [
    "### Make Predictions\n",
    "apply model to both training set and testing set"
   ]
  },
  {
   "cell_type": "code",
   "execution_count": null,
   "id": "killing-ultimate",
   "metadata": {},
   "outputs": [],
   "source": []
  },
  {
   "cell_type": "markdown",
   "id": "younger-disorder",
   "metadata": {},
   "source": [
    "### Inverting predictions\n",
    "transform predictions back with the defined scaler"
   ]
  },
  {
   "cell_type": "code",
   "execution_count": null,
   "id": "frank-deviation",
   "metadata": {},
   "outputs": [],
   "source": []
  },
  {
   "cell_type": "markdown",
   "id": "detailed-superior",
   "metadata": {},
   "source": [
    "### Evaluate model performance for both Training and Testing (based on RMSE and R squared)"
   ]
  },
  {
   "cell_type": "code",
   "execution_count": null,
   "id": "modern-journal",
   "metadata": {},
   "outputs": [],
   "source": []
  },
  {
   "cell_type": "markdown",
   "id": "reflected-print",
   "metadata": {},
   "source": [
    "### Plot the orginal Data and the Predictions"
   ]
  },
  {
   "cell_type": "code",
   "execution_count": null,
   "id": "architectural-mexican",
   "metadata": {},
   "outputs": [],
   "source": []
  }
 ],
 "metadata": {
  "kernelspec": {
   "display_name": "Python 3 (ipykernel)",
   "language": "python",
   "name": "python3"
  },
  "language_info": {
   "codemirror_mode": {
    "name": "ipython",
    "version": 3
   },
   "file_extension": ".py",
   "mimetype": "text/x-python",
   "name": "python",
   "nbconvert_exporter": "python",
   "pygments_lexer": "ipython3",
   "version": "3.7.13"
  }
 },
 "nbformat": 4,
 "nbformat_minor": 5
}
