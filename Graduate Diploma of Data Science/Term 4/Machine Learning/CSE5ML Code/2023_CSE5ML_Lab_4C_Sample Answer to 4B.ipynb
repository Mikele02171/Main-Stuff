{
 "cells": [
  {
   "cell_type": "markdown",
   "id": "neither-potato",
   "metadata": {},
   "source": [
    "### Build a neural networks model based on Tensorflow and Keras for real world regression task"
   ]
  },
  {
   "cell_type": "markdown",
   "id": "occupational-anime",
   "metadata": {},
   "source": [
    "You are provided with a classic Auto MPG Dataset and you are asked to build a model to predict the fuel efficiency (mpg: miles per gallon) of late-1970s and early 1980s automobiles. \n",
    "\n",
    "Attibute information of this dataset: \n",
    "1. mpg: continuous (your target variable)\n",
    "2. cylinders: multi-valued discrete\n",
    "3. displacement: continuous\n",
    "4. horsepower: continuous\n",
    "5. weight: continuous\n",
    "6. acceleration: continuous\n",
    "7. model year: multi-valued discrete\n",
    "8. origin: multi-valued discrete\n",
    "\n",
    "Full dataset information is available here: http://archive.ics.uci.edu/ml/datasets/Auto+MPG"
   ]
  },
  {
   "cell_type": "markdown",
   "id": "rapid-israel",
   "metadata": {},
   "source": [
    "### Load the dataset"
   ]
  },
  {
   "cell_type": "code",
   "execution_count": 2,
   "id": "dried-centre",
   "metadata": {},
   "outputs": [
    {
     "name": "stdout",
     "output_type": "stream",
     "text": [
      "dataset length: 398\n"
     ]
    },
    {
     "data": {
      "text/html": [
       "<div>\n",
       "<style scoped>\n",
       "    .dataframe tbody tr th:only-of-type {\n",
       "        vertical-align: middle;\n",
       "    }\n",
       "\n",
       "    .dataframe tbody tr th {\n",
       "        vertical-align: top;\n",
       "    }\n",
       "\n",
       "    .dataframe thead th {\n",
       "        text-align: right;\n",
       "    }\n",
       "</style>\n",
       "<table border=\"1\" class=\"dataframe\">\n",
       "  <thead>\n",
       "    <tr style=\"text-align: right;\">\n",
       "      <th></th>\n",
       "      <th>MPG</th>\n",
       "      <th>Cylinders</th>\n",
       "      <th>Displacement</th>\n",
       "      <th>Horsepower</th>\n",
       "      <th>Weight</th>\n",
       "      <th>Acceleration</th>\n",
       "      <th>Model Year</th>\n",
       "      <th>Origin</th>\n",
       "    </tr>\n",
       "  </thead>\n",
       "  <tbody>\n",
       "    <tr>\n",
       "      <th>393</th>\n",
       "      <td>27.0</td>\n",
       "      <td>4</td>\n",
       "      <td>140.0</td>\n",
       "      <td>86.0</td>\n",
       "      <td>2790.0</td>\n",
       "      <td>15.6</td>\n",
       "      <td>82</td>\n",
       "      <td>1</td>\n",
       "    </tr>\n",
       "    <tr>\n",
       "      <th>394</th>\n",
       "      <td>44.0</td>\n",
       "      <td>4</td>\n",
       "      <td>97.0</td>\n",
       "      <td>52.0</td>\n",
       "      <td>2130.0</td>\n",
       "      <td>24.6</td>\n",
       "      <td>82</td>\n",
       "      <td>2</td>\n",
       "    </tr>\n",
       "    <tr>\n",
       "      <th>395</th>\n",
       "      <td>32.0</td>\n",
       "      <td>4</td>\n",
       "      <td>135.0</td>\n",
       "      <td>84.0</td>\n",
       "      <td>2295.0</td>\n",
       "      <td>11.6</td>\n",
       "      <td>82</td>\n",
       "      <td>1</td>\n",
       "    </tr>\n",
       "    <tr>\n",
       "      <th>396</th>\n",
       "      <td>28.0</td>\n",
       "      <td>4</td>\n",
       "      <td>120.0</td>\n",
       "      <td>79.0</td>\n",
       "      <td>2625.0</td>\n",
       "      <td>18.6</td>\n",
       "      <td>82</td>\n",
       "      <td>1</td>\n",
       "    </tr>\n",
       "    <tr>\n",
       "      <th>397</th>\n",
       "      <td>31.0</td>\n",
       "      <td>4</td>\n",
       "      <td>119.0</td>\n",
       "      <td>82.0</td>\n",
       "      <td>2720.0</td>\n",
       "      <td>19.4</td>\n",
       "      <td>82</td>\n",
       "      <td>1</td>\n",
       "    </tr>\n",
       "  </tbody>\n",
       "</table>\n",
       "</div>"
      ],
      "text/plain": [
       "      MPG  Cylinders  Displacement  Horsepower  Weight  Acceleration  \\\n",
       "393  27.0          4         140.0        86.0  2790.0          15.6   \n",
       "394  44.0          4          97.0        52.0  2130.0          24.6   \n",
       "395  32.0          4         135.0        84.0  2295.0          11.6   \n",
       "396  28.0          4         120.0        79.0  2625.0          18.6   \n",
       "397  31.0          4         119.0        82.0  2720.0          19.4   \n",
       "\n",
       "     Model Year  Origin  \n",
       "393          82       1  \n",
       "394          82       2  \n",
       "395          82       1  \n",
       "396          82       1  \n",
       "397          82       1  "
      ]
     },
     "execution_count": 2,
     "metadata": {},
     "output_type": "execute_result"
    }
   ],
   "source": [
    "import pandas as pd\n",
    "\n",
    "dataset = pd.read_csv(\"auto_mpg.csv\")\n",
    "print(\"dataset length:\", len(dataset))\n",
    "dataset.tail()"
   ]
  },
  {
   "cell_type": "markdown",
   "id": "detailed-progressive",
   "metadata": {},
   "source": [
    "### Clean the dataset"
   ]
  },
  {
   "cell_type": "code",
   "execution_count": 3,
   "id": "fitting-alaska",
   "metadata": {},
   "outputs": [
    {
     "data": {
      "text/plain": [
       "MPG             0\n",
       "Cylinders       0\n",
       "Displacement    0\n",
       "Horsepower      6\n",
       "Weight          0\n",
       "Acceleration    0\n",
       "Model Year      0\n",
       "Origin          0\n",
       "dtype: int64"
      ]
     },
     "execution_count": 3,
     "metadata": {},
     "output_type": "execute_result"
    }
   ],
   "source": [
    "# check if these is any missing value in the dataset\n",
    "dataset.isna().sum()"
   ]
  },
  {
   "cell_type": "code",
   "execution_count": 4,
   "id": "alleged-retention",
   "metadata": {},
   "outputs": [
    {
     "name": "stdout",
     "output_type": "stream",
     "text": [
      "dataset length: 392\n"
     ]
    }
   ],
   "source": [
    "# dealing with missing values\n",
    "dataset = dataset.dropna()\n",
    "print(\"dataset length:\", len(dataset))"
   ]
  },
  {
   "cell_type": "code",
   "execution_count": 5,
   "id": "south-piece",
   "metadata": {},
   "outputs": [
    {
     "data": {
      "text/html": [
       "<div>\n",
       "<style scoped>\n",
       "    .dataframe tbody tr th:only-of-type {\n",
       "        vertical-align: middle;\n",
       "    }\n",
       "\n",
       "    .dataframe tbody tr th {\n",
       "        vertical-align: top;\n",
       "    }\n",
       "\n",
       "    .dataframe thead th {\n",
       "        text-align: right;\n",
       "    }\n",
       "</style>\n",
       "<table border=\"1\" class=\"dataframe\">\n",
       "  <thead>\n",
       "    <tr style=\"text-align: right;\">\n",
       "      <th></th>\n",
       "      <th>MPG</th>\n",
       "      <th>Cylinders</th>\n",
       "      <th>Displacement</th>\n",
       "      <th>Horsepower</th>\n",
       "      <th>Weight</th>\n",
       "      <th>Acceleration</th>\n",
       "      <th>Model Year</th>\n",
       "      <th>Europe</th>\n",
       "      <th>Japan</th>\n",
       "      <th>USA</th>\n",
       "    </tr>\n",
       "  </thead>\n",
       "  <tbody>\n",
       "    <tr>\n",
       "      <th>393</th>\n",
       "      <td>27.0</td>\n",
       "      <td>4</td>\n",
       "      <td>140.0</td>\n",
       "      <td>86.0</td>\n",
       "      <td>2790.0</td>\n",
       "      <td>15.6</td>\n",
       "      <td>82</td>\n",
       "      <td>False</td>\n",
       "      <td>False</td>\n",
       "      <td>True</td>\n",
       "    </tr>\n",
       "    <tr>\n",
       "      <th>394</th>\n",
       "      <td>44.0</td>\n",
       "      <td>4</td>\n",
       "      <td>97.0</td>\n",
       "      <td>52.0</td>\n",
       "      <td>2130.0</td>\n",
       "      <td>24.6</td>\n",
       "      <td>82</td>\n",
       "      <td>True</td>\n",
       "      <td>False</td>\n",
       "      <td>False</td>\n",
       "    </tr>\n",
       "    <tr>\n",
       "      <th>395</th>\n",
       "      <td>32.0</td>\n",
       "      <td>4</td>\n",
       "      <td>135.0</td>\n",
       "      <td>84.0</td>\n",
       "      <td>2295.0</td>\n",
       "      <td>11.6</td>\n",
       "      <td>82</td>\n",
       "      <td>False</td>\n",
       "      <td>False</td>\n",
       "      <td>True</td>\n",
       "    </tr>\n",
       "    <tr>\n",
       "      <th>396</th>\n",
       "      <td>28.0</td>\n",
       "      <td>4</td>\n",
       "      <td>120.0</td>\n",
       "      <td>79.0</td>\n",
       "      <td>2625.0</td>\n",
       "      <td>18.6</td>\n",
       "      <td>82</td>\n",
       "      <td>False</td>\n",
       "      <td>False</td>\n",
       "      <td>True</td>\n",
       "    </tr>\n",
       "    <tr>\n",
       "      <th>397</th>\n",
       "      <td>31.0</td>\n",
       "      <td>4</td>\n",
       "      <td>119.0</td>\n",
       "      <td>82.0</td>\n",
       "      <td>2720.0</td>\n",
       "      <td>19.4</td>\n",
       "      <td>82</td>\n",
       "      <td>False</td>\n",
       "      <td>False</td>\n",
       "      <td>True</td>\n",
       "    </tr>\n",
       "  </tbody>\n",
       "</table>\n",
       "</div>"
      ],
      "text/plain": [
       "      MPG  Cylinders  Displacement  Horsepower  Weight  Acceleration  \\\n",
       "393  27.0          4         140.0        86.0  2790.0          15.6   \n",
       "394  44.0          4          97.0        52.0  2130.0          24.6   \n",
       "395  32.0          4         135.0        84.0  2295.0          11.6   \n",
       "396  28.0          4         120.0        79.0  2625.0          18.6   \n",
       "397  31.0          4         119.0        82.0  2720.0          19.4   \n",
       "\n",
       "     Model Year  Europe  Japan    USA  \n",
       "393          82   False  False   True  \n",
       "394          82    True  False  False  \n",
       "395          82   False  False   True  \n",
       "396          82   False  False   True  \n",
       "397          82   False  False   True  "
      ]
     },
     "execution_count": 5,
     "metadata": {},
     "output_type": "execute_result"
    }
   ],
   "source": [
    "# transform categorical(nominal) variable into dummy variables: \n",
    "dataset['Origin'] = dataset['Origin'].map({1: 'USA', 2: 'Europe', 3: 'Japan'})\n",
    "dataset = pd.get_dummies(dataset, columns=['Origin'], prefix='', prefix_sep='')\n",
    "dataset.tail()"
   ]
  },
  {
   "cell_type": "markdown",
   "id": "judicial-variable",
   "metadata": {},
   "source": [
    "## Now it is your turn to practice what we have learned before\n",
    "Follow the given instructions and fill the cell below with your own code"
   ]
  },
  {
   "cell_type": "markdown",
   "id": "hybrid-passing",
   "metadata": {},
   "source": [
    "### Split the data into train and test\n",
    "Randomly sample the dataset, use 80% for training and 20% for testing"
   ]
  },
  {
   "cell_type": "code",
   "execution_count": 6,
   "id": "sustained-venice",
   "metadata": {},
   "outputs": [
    {
     "name": "stdout",
     "output_type": "stream",
     "text": [
      "X_training shape is (313, 9)\n",
      "y_training shape is (313,)\n",
      "X_testing shape is (79, 9)\n",
      "y_testing shape is (79,)\n"
     ]
    }
   ],
   "source": [
    "from sklearn.model_selection import train_test_split\n",
    "\n",
    "array = dataset.values\n",
    "X = array[:,1:10]\n",
    "y = array[:,0]\n",
    "\n",
    "X_train, X_test, y_train, y_test = train_test_split(X, y, test_size=0.2, random_state=40)\n",
    "#Check the shape of the data\n",
    "print( 'X_training shape is {}'.format( X_train.shape ) )\n",
    "print( 'y_training shape is {}'.format( y_train.shape ) )\n",
    "print( 'X_testing shape is {}'.format( X_test.shape ) )\n",
    "print( 'y_testing shape is {}'.format( y_test.shape ) )"
   ]
  },
  {
   "cell_type": "markdown",
   "id": "respective-viewer",
   "metadata": {},
   "source": [
    "### Normalize the variables that use different scales and ranges (optional)\n",
    "One reason this is important is because the variables are multiplied by the model weights. So the scale of the outputs and the scale of the gradients are affected by the scale of the inputs.\n",
    "\n",
    "Although a model might converge without normalization, normalization makes training much more stable."
   ]
  },
  {
   "cell_type": "code",
   "execution_count": 51,
   "id": "sporting-english",
   "metadata": {},
   "outputs": [],
   "source": [
    "from sklearn.preprocessing import MinMaxScaler\n",
    "\n",
    "# fit scaler on training data\n",
    "norm = MinMaxScaler().fit(X_train)\n",
    "\n",
    "# transform training data\n",
    "X_train_norm = norm.transform(X_train)\n",
    "\n",
    "# If the data types are not float32 or float64, you can convert them using the .astype() method:\n",
    "X_train_norm = X_train_norm.astype('float32')\n",
    "\n",
    "# transform testing data\n",
    "X_test_norm = norm.transform(X_test)\n",
    "X_test_norm = X_test_norm.astype('float64')\n",
    "\n"
   ]
  },
  {
   "cell_type": "code",
   "execution_count": 52,
   "id": "1ec5d9cf",
   "metadata": {},
   "outputs": [],
   "source": [
    "#Convert the y target variable to float32 or float64\n",
    "y_train = y_train.astype('float32')\n",
    "y_test = y_test.astype('float32')"
   ]
  },
  {
   "cell_type": "markdown",
   "id": "boring-awareness",
   "metadata": {},
   "source": [
    "### Build your own neural networks model\n",
    "Hints for coding steps: setting random seed (optional), build a sequential model (can first try build with two hidden dense layers with 64 neurons each), complie the model with proper loss function and optimizer, fit the model with the normalized training data (you can try with 200 epochs first, 10% for validation and output history to help investigating the process for further improvement)"
   ]
  },
  {
   "cell_type": "code",
   "execution_count": 53,
   "id": "occasional-count",
   "metadata": {},
   "outputs": [],
   "source": [
    "import numpy as np\n",
    "import tensorflow as tf\n",
    "from keras.models import Sequential\n",
    "from keras.layers import Dense\n",
    "\n",
    "tf.random.set_seed(1)\n",
    "np.random.seed(1)\n",
    "\n",
    "# create model\n",
    "model = Sequential()\n",
    "model.add(Dense(64, input_dim=9, activation='relu')) #Note that you can add more hidden layers here\n",
    "model.add(Dense(64, activation='relu'))\n",
    "model.add(Dense(1))\n",
    "\n",
    "# Compile model\n",
    "model.compile(loss='mean_absolute_error', optimizer='sgd') # Change the optimizer to sgd and see what happens\n",
    "# Fit the model\n",
    "history = model.fit(X_train_norm, y_train, epochs=200, validation_split=0.1, verbose=0) # use 10% of training dataset for validation"
   ]
  },
  {
   "cell_type": "markdown",
   "id": "signal-bookmark",
   "metadata": {},
   "source": [
    "### Plot the loss \n",
    "Since we did not use other performance evaluation metrics, we have loss results in the history. You can check this link if you want to add other evaluation metrics in the *model.complie()*: https://keras.io/api/metrics/"
   ]
  },
  {
   "cell_type": "code",
   "execution_count": 54,
   "id": "junior-spring",
   "metadata": {},
   "outputs": [
    {
     "data": {
      "image/png": "[encoded data removed]",
      "text/plain": [
       "<Figure size 640x480 with 1 Axes>"
      ]
     },
     "metadata": {},
     "output_type": "display_data"
    }
   ],
   "source": [
    "import matplotlib.pyplot as plt\n",
    "\n",
    "# summarize history for loss\n",
    "plt.plot(history.history['loss'])\n",
    "plt.plot(history.history['val_loss'])\n",
    "plt.title('model loss')\n",
    "plt.ylabel('loss')\n",
    "plt.xlabel('epoch')\n",
    "plt.legend(['train', 'test'], loc='upper left')\n",
    "plt.show()"
   ]
  },
  {
   "cell_type": "markdown",
   "id": "designed-contact",
   "metadata": {},
   "source": [
    "### Evaluate model with testing data\n",
    "Hint: feed with normalised testing data"
   ]
  },
  {
   "cell_type": "code",
   "execution_count": 55,
   "id": "speaking-anthropology",
   "metadata": {},
   "outputs": [
    {
     "name": "stdout",
     "output_type": "stream",
     "text": [
      "3/3 [==============================] - 0s 2ms/step - loss: 2.0320\n",
      "loss: 2.032025098800659\n"
     ]
    }
   ],
   "source": [
    "# evaluate the model\n",
    "# transform testing data\n",
    "X_test_norm = norm.transform(X_test)\n",
    "X_test_norm = X_test_norm.astype('float32')\n",
    "\n",
    "score = model.evaluate(X_test_norm, y_test, verbose=1)\n",
    "print(\"loss:\", score)"
   ]
  },
  {
   "cell_type": "markdown",
   "id": "pending-brave",
   "metadata": {},
   "source": [
    "### Makes predictions with testing data\n",
    "Hint: use model.predict() to get test predictions"
   ]
  },
  {
   "cell_type": "code",
   "execution_count": 56,
   "id": "structural-building",
   "metadata": {},
   "outputs": [
    {
     "name": "stdout",
     "output_type": "stream",
     "text": [
      "3/3 [==============================] - 0s 2ms/step\n",
      "[4, 97.0, 88.0, 2130.0, 14.5, 70, False, True, False] => 25 (expected 27)\n",
      "[4, 112.0, 88.0, 2640.0, 18.6, 82, False, False, True] => 31 (expected 27)\n",
      "[6, 250.0, 105.0, 3459.0, 16.0, 75, False, False, True] => 18 (expected 18)\n",
      "[6, 163.0, 125.0, 3140.0, 13.6, 78, True, False, False] => 20 (expected 17)\n",
      "[4, 121.0, 98.0, 2945.0, 14.5, 75, True, False, False] => 22 (expected 22)\n"
     ]
    },
    {
     "name": "stderr",
     "output_type": "stream",
     "text": [
      "C:\\Users\\mikel\\AppData\\Local\\Temp\\ipykernel_21516\\2789625716.py:5: DeprecationWarning: Conversion of an array with ndim > 0 to a scalar is deprecated, and will error in future. Ensure you extract a single element from your array before performing this operation. (Deprecated NumPy 1.25.)\n",
      "  print('%s => %d (expected %d)' % (X_test[i].tolist(), test_predictions[i], y_test[i]))\n"
     ]
    }
   ],
   "source": [
    "test_predictions = model.predict(X_test_norm)\n",
    "\n",
    "# summarize the first 5 cases\n",
    "for i in range(5):\n",
    "    print('%s => %d (expected %d)' % (X_test[i].tolist(), test_predictions[i], y_test[i]))"
   ]
  },
  {
   "cell_type": "markdown",
   "id": "unauthorized-laptop",
   "metadata": {},
   "source": [
    "If you are interested in measuring the model with r squared (a statistic that only applies to regression mpdels to measure model fit), you can try the following code. The best possible r squared score is 1.0, so the model is considered better fitted to the data if the score is close to 1."
   ]
  },
  {
   "cell_type": "code",
   "execution_count": 57,
   "id": "sharing-bulgarian",
   "metadata": {},
   "outputs": [
    {
     "name": "stdout",
     "output_type": "stream",
     "text": [
      "r_squared:  0.8409597661739538\n"
     ]
    }
   ],
   "source": [
    "from sklearn.metrics import r2_score\n",
    "\n",
    "r_squared = r2_score(y_test, test_predictions.flatten())\n",
    "print(\"r_squared: \", r_squared)"
   ]
  },
  {
   "cell_type": "markdown",
   "id": "damaged-breath",
   "metadata": {},
   "source": [
    "You can try change the neural networks structure, and see if the model performance can be improved."
   ]
  },
  {
   "cell_type": "code",
   "execution_count": null,
   "id": "controlled-forty",
   "metadata": {},
   "outputs": [],
   "source": []
  }
 ],
 "metadata": {
  "kernelspec": {
   "display_name": "Python 3 (ipykernel)",
   "language": "python",
   "name": "python3"
  },
  "language_info": {
   "codemirror_mode": {
    "name": "ipython",
    "version": 3
   },
   "file_extension": ".py",
   "mimetype": "text/x-python",
   "name": "python",
   "nbconvert_exporter": "python",
   "pygments_lexer": "ipython3",
   "version": "3.9.17"
  }
 },
 "nbformat": 4,
 "nbformat_minor": 5
}
